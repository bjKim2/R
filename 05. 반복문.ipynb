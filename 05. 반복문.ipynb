{
 "cells": [
  {
   "cell_type": "markdown",
   "id": "572e4db4",
   "metadata": {},
   "source": [
    "## for 문"
   ]
  },
  {
   "cell_type": "code",
   "execution_count": 7,
   "id": "53ee3c09",
   "metadata": {},
   "outputs": [
    {
     "name": "stdout",
     "output_type": "stream",
     "text": [
      "[1] 1\n",
      "[1] 2\n",
      "[1] 3\n",
      "[1] 4\n",
      "[1] 5\n",
      "[1] 6\n",
      "[1] 7\n",
      "[1] 8\n",
      "[1] 9\n",
      "[1] 10\n"
     ]
    }
   ],
   "source": [
    "# 1 - 10 까지의 숫자 출력\n",
    "for(i in 1:10){\n",
    "    print(i)\n",
    "}"
   ]
  },
  {
   "cell_type": "code",
   "execution_count": 8,
   "id": "61eb249a",
   "metadata": {},
   "outputs": [
    {
     "name": "stdout",
     "output_type": "stream",
     "text": [
      "[1] 1\n",
      "[1] 3\n",
      "[1] 5\n"
     ]
    }
   ],
   "source": [
    "for(i in c(1,3,5)){\n",
    "    print(i)\n",
    "}"
   ]
  },
  {
   "cell_type": "code",
   "execution_count": 15,
   "id": "a1704b81",
   "metadata": {},
   "outputs": [
    {
     "name": "stdout",
     "output_type": "stream",
     "text": [
      "[1] 1\n",
      "[1] 3\n",
      "[1] 5\n",
      "[1] 7\n",
      "[1] 9\n"
     ]
    }
   ],
   "source": [
    "for(i in seq(1,10,2)){\n",
    "    \n",
    "    print(i)\n",
    "}"
   ]
  },
  {
   "cell_type": "code",
   "execution_count": 19,
   "id": "36594348",
   "metadata": {},
   "outputs": [
    {
     "name": "stdout",
     "output_type": "stream",
     "text": [
      "[1] 1\n",
      "[1] 1.414214\n",
      "[1] 1.732051\n",
      "[1] 2\n",
      "[1] 2.236068\n",
      "[1] 2.44949\n",
      "[1] 2.645751\n",
      "[1] 2.828427\n",
      "[1] 3\n",
      "[1] 3.162278\n"
     ]
    }
   ],
   "source": [
    "for(i in 1:10){\n",
    "    print(sqrt(i))\n",
    "}\n"
   ]
  },
  {
   "cell_type": "code",
   "execution_count": 37,
   "id": "30ad044f",
   "metadata": {},
   "outputs": [
    {
     "name": "stdout",
     "output_type": "stream",
     "text": [
      "[1] \"1 => 1\"\n",
      "[1] \"2 => 1.4142135623731\"\n",
      "[1] \"3 => 1.73205080756888\"\n",
      "[1] \"4 => 2\"\n",
      "[1] \"5 => 2.23606797749979\"\n",
      "[1] \"6 => 2.44948974278318\"\n",
      "[1] \"7 => 2.64575131106459\"\n",
      "[1] \"8 => 2.82842712474619\"\n",
      "[1] \"9 => 3\"\n",
      "[1] \"10 => 3.16227766016838\"\n"
     ]
    }
   ],
   "source": [
    "\n",
    "# for ( i in 1:10){\n",
    "#     print(sprintf(\"%i => %f\",i,sqrt(i)))\n",
    "# }\n",
    "\n",
    "for( i in 1:10){\n",
    "    print(paste(i,\"=>\",sqrt(i)))\n",
    "}\n"
   ]
  },
  {
   "cell_type": "code",
   "execution_count": 41,
   "id": "5750a635",
   "metadata": {},
   "outputs": [
    {
     "data": {
      "text/html": [
       "<table>\n",
       "<thead><tr><th scope=col>q1</th><th scope=col>q2</th><th scope=col>q3</th><th scope=col>q4</th><th scope=col>q5</th></tr></thead>\n",
       "<tbody>\n",
       "\t<tr><td>2</td><td>4</td><td>4</td><td>2</td><td>2</td></tr>\n",
       "\t<tr><td>1</td><td>2</td><td>2</td><td>2</td><td>2</td></tr>\n",
       "\t<tr><td>2</td><td>3</td><td>4</td><td>3</td><td>3</td></tr>\n",
       "\t<tr><td>3</td><td>5</td><td>5</td><td>3</td><td>3</td></tr>\n",
       "\t<tr><td>3</td><td>2</td><td>4</td><td>4</td><td>4</td></tr>\n",
       "\t<tr><td>4</td><td>3</td><td>3</td><td>4</td><td>2</td></tr>\n",
       "</tbody>\n",
       "</table>\n"
      ],
      "text/latex": [
       "\\begin{tabular}{r|lllll}\n",
       " q1 & q2 & q3 & q4 & q5\\\\\n",
       "\\hline\n",
       "\t 2 & 4 & 4 & 2 & 2\\\\\n",
       "\t 1 & 2 & 2 & 2 & 2\\\\\n",
       "\t 2 & 3 & 4 & 3 & 3\\\\\n",
       "\t 3 & 5 & 5 & 3 & 3\\\\\n",
       "\t 3 & 2 & 4 & 4 & 4\\\\\n",
       "\t 4 & 3 & 3 & 4 & 2\\\\\n",
       "\\end{tabular}\n"
      ],
      "text/markdown": [
       "\n",
       "| q1 | q2 | q3 | q4 | q5 |\n",
       "|---|---|---|---|---|\n",
       "| 2 | 4 | 4 | 2 | 2 |\n",
       "| 1 | 2 | 2 | 2 | 2 |\n",
       "| 2 | 3 | 4 | 3 | 3 |\n",
       "| 3 | 5 | 5 | 3 | 3 |\n",
       "| 3 | 2 | 4 | 4 | 4 |\n",
       "| 4 | 3 | 3 | 4 | 2 |\n",
       "\n"
      ],
      "text/plain": [
       "  q1 q2 q3 q4 q5\n",
       "1 2  4  4  2  2 \n",
       "2 1  2  2  2  2 \n",
       "3 2  3  4  3  3 \n",
       "4 3  5  5  3  3 \n",
       "5 3  2  4  4  4 \n",
       "6 4  3  3  4  2 "
      ]
     },
     "metadata": {},
     "output_type": "display_data"
    }
   ],
   "source": [
    "excel <- read.csv(\"../Data/excel.csv\")\n",
    "head(excel)"
   ]
  },
  {
   "cell_type": "code",
   "execution_count": 62,
   "id": "c140ed28",
   "metadata": {},
   "outputs": [
    {
     "name": "stdout",
     "output_type": "stream",
     "text": [
      "홀수의 합은 604 이고 짝수의 합은 852 입니다."
     ]
    }
   ],
   "source": [
    "# excel에서 q3 컬럼 데이터의 홀수의 합과 짝수의 합 구하기\n",
    "\n",
    "sumEven <-0\n",
    "sumOdd <- 0\n",
    "\n",
    "for(i in excel$q3){\n",
    "    if(i%% 2 == 0){\n",
    "        sumEven = sumEven + i\n",
    "    }else{\n",
    "        sumOdd = sumOdd + i\n",
    "    }\n",
    "}\n",
    "\n",
    "cat(\"홀수의 합은\", sumOdd, \"이고 짝수의 합은\" ,sumEven,\"입니다.\")"
   ]
  },
  {
   "cell_type": "code",
   "execution_count": 71,
   "id": "0a9e9575",
   "metadata": {},
   "outputs": [
    {
     "name": "stdout",
     "output_type": "stream",
     "text": [
      "3의 배수의 합은 :  216"
     ]
    }
   ],
   "source": [
    "# excel에서 q3 컬럼 데이터의 3의 배수 합계 구하기\n",
    "sumMul <- 0\n",
    "for(i in excel$q3){\n",
    "    if( i %% 3 == 0){\n",
    "        sumMul = sumMul + i\n",
    "    }\n",
    "}\n",
    "cat(\"3의 배수의 합은 : \",sumMul)\n"
   ]
  },
  {
   "cell_type": "code",
   "execution_count": 73,
   "id": "bd896dc4",
   "metadata": {},
   "outputs": [
    {
     "name": "stdout",
     "output_type": "stream",
     "text": [
      "# : 0"
     ]
    },
    {
     "data": {
      "text/html": [
       "<ol class=list-inline>\n",
       "\t<li>1</li>\n",
       "\t<li>5</li>\n",
       "</ol>\n"
      ],
      "text/latex": [
       "\\begin{enumerate*}\n",
       "\\item 1\n",
       "\\item 5\n",
       "\\end{enumerate*}\n"
      ],
      "text/markdown": [
       "1. 1\n",
       "2. 5\n",
       "\n",
       "\n"
      ],
      "text/plain": [
       "[1] 1 5"
      ]
     },
     "metadata": {},
     "output_type": "display_data"
    }
   ],
   "source": [
    "# excel에서 q3 컬럼 데이터 중 3의 배수도 되고 4의 배수도 되는 수의 합계를 구하시오.\n",
    "sumMul2 <- 0\n",
    "for(i in excel$q3){\n",
    "    if( i %% 3 == 0 & i %% 4 == 0){\n",
    "        sumMul2 = sumMul2 + i\n",
    "    }\n",
    "}\n",
    "\n",
    "cat(\"# :\",sumMul2)\n",
    "\n",
    "range(excel$q3)"
   ]
  },
  {
   "cell_type": "code",
   "execution_count": 75,
   "id": "e7ac5b32",
   "metadata": {},
   "outputs": [
    {
     "name": "stdout",
     "output_type": "stream",
     "text": [
      "[1] \"2 X 1 = 2\"\n",
      "[1] \"2 X 2 = 4\"\n",
      "[1] \"2 X 3 = 6\"\n",
      "[1] \"2 X 4 = 8\"\n",
      "[1] \"2 X 5 = 10\"\n",
      "[1] \"2 X 6 = 12\"\n",
      "[1] \"2 X 7 = 14\"\n",
      "[1] \"2 X 8 = 16\"\n",
      "[1] \"2 X 9 = 18\"\n"
     ]
    }
   ],
   "source": [
    "# 구구단 2단 출력하기\n",
    "for (i in 1:9){\n",
    "    print(sprintf(\"2 X %i = %i\",i,2*i))\n",
    "}\n"
   ]
  },
  {
   "cell_type": "code",
   "execution_count": 81,
   "id": "a140bd02",
   "metadata": {},
   "outputs": [],
   "source": [
    "# 구구단 함수 만들기 - 1\n",
    "\n",
    "gugu <- function(){\n",
    "    dan <- as.numeric(readline(\"단을 입력하세요! \"))\n",
    "    for(i in 1:9){\n",
    "        print(sprintf(\"%i X %i = %i\",dan,i,dan*i))\n",
    "    }    \n",
    "}\n"
   ]
  },
  {
   "cell_type": "code",
   "execution_count": 82,
   "id": "aade4b83",
   "metadata": {},
   "outputs": [
    {
     "name": "stdout",
     "output_type": "stream",
     "text": [
      "단을 입력하세요! 12\n",
      "[1] \"12 X 1 = 12\"\n",
      "[1] \"12 X 2 = 24\"\n",
      "[1] \"12 X 3 = 36\"\n",
      "[1] \"12 X 4 = 48\"\n",
      "[1] \"12 X 5 = 60\"\n",
      "[1] \"12 X 6 = 72\"\n",
      "[1] \"12 X 7 = 84\"\n",
      "[1] \"12 X 8 = 96\"\n",
      "[1] \"12 X 9 = 108\"\n"
     ]
    }
   ],
   "source": [
    "# package > function > code\n",
    "\n",
    "gugu()"
   ]
  },
  {
   "cell_type": "code",
   "execution_count": 84,
   "id": "53fded27",
   "metadata": {},
   "outputs": [],
   "source": [
    "# 구구단 함수 만들기 - 2\n",
    "\n",
    "gugu <- function(x){\n",
    " \n",
    "    for(i in 1:9){\n",
    "        print(sprintf(\"%i X %i = %i\",x,i,x*i))\n",
    "    }    \n",
    "}\n"
   ]
  },
  {
   "cell_type": "code",
   "execution_count": 87,
   "id": "c014f6e6",
   "metadata": {},
   "outputs": [
    {
     "name": "stdout",
     "output_type": "stream",
     "text": [
      "[1] \"5 X 1 = 5\"\n",
      "[1] \"5 X 2 = 10\"\n",
      "[1] \"5 X 3 = 15\"\n",
      "[1] \"5 X 4 = 20\"\n",
      "[1] \"5 X 5 = 25\"\n",
      "[1] \"5 X 6 = 30\"\n",
      "[1] \"5 X 7 = 35\"\n",
      "[1] \"5 X 8 = 40\"\n",
      "[1] \"5 X 9 = 45\"\n"
     ]
    }
   ],
   "source": [
    "gugu(5)"
   ]
  },
  {
   "cell_type": "code",
   "execution_count": 88,
   "id": "4fcc341d",
   "metadata": {},
   "outputs": [],
   "source": [
    "# 구구단 함수 만들기 - 3\n",
    "gugu <- function(x,y){\n",
    " \n",
    "    for(i in 1:y){\n",
    "        print(sprintf(\"%i X %i = %i\",x,i,x*i))\n",
    "    }    \n",
    "}"
   ]
  },
  {
   "cell_type": "code",
   "execution_count": 89,
   "id": "abc4828e",
   "metadata": {},
   "outputs": [
    {
     "name": "stdout",
     "output_type": "stream",
     "text": [
      "[1] \"2 X 1 = 2\"\n",
      "[1] \"2 X 2 = 4\"\n",
      "[1] \"2 X 3 = 6\"\n",
      "[1] \"2 X 4 = 8\"\n",
      "[1] \"2 X 5 = 10\"\n",
      "[1] \"2 X 6 = 12\"\n",
      "[1] \"2 X 7 = 14\"\n",
      "[1] \"2 X 8 = 16\"\n",
      "[1] \"2 X 9 = 18\"\n",
      "[1] \"2 X 10 = 20\"\n",
      "[1] \"2 X 11 = 22\"\n",
      "[1] \"2 X 12 = 24\"\n"
     ]
    }
   ],
   "source": [
    "gugu(2,12)"
   ]
  },
  {
   "cell_type": "code",
   "execution_count": 99,
   "id": "ad53b961",
   "metadata": {},
   "outputs": [
    {
     "name": "stdout",
     "output_type": "stream",
     "text": [
      "---------------\n",
      "1  X  1  =  1 \n",
      "1  X  2  =  2 \n",
      "1  X  3  =  3 \n",
      "1  X  4  =  4 \n",
      "1  X  5  =  5 \n",
      "1  X  6  =  6 \n",
      "1  X  7  =  7 \n",
      "1  X  8  =  8 \n",
      "1  X  9  =  9 \n",
      "---------------\n",
      "2  X  1  =  2 \n",
      "2  X  2  =  4 \n",
      "2  X  3  =  6 \n",
      "2  X  4  =  8 \n",
      "2  X  5  =  10 \n",
      "2  X  6  =  12 \n",
      "2  X  7  =  14 \n",
      "2  X  8  =  16 \n",
      "2  X  9  =  18 \n",
      "---------------\n",
      "3  X  1  =  3 \n",
      "3  X  2  =  6 \n",
      "3  X  3  =  9 \n",
      "3  X  4  =  12 \n",
      "3  X  5  =  15 \n",
      "3  X  6  =  18 \n",
      "3  X  7  =  21 \n",
      "3  X  8  =  24 \n",
      "3  X  9  =  27 \n",
      "---------------\n",
      "4  X  1  =  4 \n",
      "4  X  2  =  8 \n",
      "4  X  3  =  12 \n",
      "4  X  4  =  16 \n",
      "4  X  5  =  20 \n",
      "4  X  6  =  24 \n",
      "4  X  7  =  28 \n",
      "4  X  8  =  32 \n",
      "4  X  9  =  36 \n",
      "---------------\n",
      "5  X  1  =  5 \n",
      "5  X  2  =  10 \n",
      "5  X  3  =  15 \n",
      "5  X  4  =  20 \n",
      "5  X  5  =  25 \n",
      "5  X  6  =  30 \n",
      "5  X  7  =  35 \n",
      "5  X  8  =  40 \n",
      "5  X  9  =  45 \n",
      "---------------\n",
      "6  X  1  =  6 \n",
      "6  X  2  =  12 \n",
      "6  X  3  =  18 \n",
      "6  X  4  =  24 \n",
      "6  X  5  =  30 \n",
      "6  X  6  =  36 \n",
      "6  X  7  =  42 \n",
      "6  X  8  =  48 \n",
      "6  X  9  =  54 \n",
      "---------------\n",
      "7  X  1  =  7 \n",
      "7  X  2  =  14 \n",
      "7  X  3  =  21 \n",
      "7  X  4  =  28 \n",
      "7  X  5  =  35 \n",
      "7  X  6  =  42 \n",
      "7  X  7  =  49 \n",
      "7  X  8  =  56 \n",
      "7  X  9  =  63 \n",
      "---------------\n",
      "8  X  1  =  8 \n",
      "8  X  2  =  16 \n",
      "8  X  3  =  24 \n",
      "8  X  4  =  32 \n",
      "8  X  5  =  40 \n",
      "8  X  6  =  48 \n",
      "8  X  7  =  56 \n",
      "8  X  8  =  64 \n",
      "8  X  9  =  72 \n",
      "---------------\n",
      "9  X  1  =  9 \n",
      "9  X  2  =  18 \n",
      "9  X  3  =  27 \n",
      "9  X  4  =  36 \n",
      "9  X  5  =  45 \n",
      "9  X  6  =  54 \n",
      "9  X  7  =  63 \n",
      "9  X  8  =  72 \n",
      "9  X  9  =  81 \n"
     ]
    }
   ],
   "source": [
    "# 구구단 전체 출력하기\n",
    "\n",
    "for( i in 1:9){\n",
    "    cat(\"---------------\\n\")\n",
    "    for( j in 1:9)\n",
    "        cat(i,\" X \",j,\" = \", i*j , \"\\n\")\n",
    "}\n",
    "\n"
   ]
  },
  {
   "cell_type": "code",
   "execution_count": 100,
   "id": "1ccadb35",
   "metadata": {},
   "outputs": [
    {
     "name": "stdout",
     "output_type": "stream",
     "text": [
      "-------------------\n",
      "2  X  2  =  4 \n",
      "2  X  4  =  8 \n",
      "2  X  6  =  12 \n",
      "2  X  8  =  16 \n",
      "-------------------\n",
      "4  X  2  =  8 \n",
      "4  X  4  =  16 \n",
      "4  X  6  =  24 \n",
      "4  X  8  =  32 \n",
      "-------------------\n",
      "6  X  2  =  12 \n",
      "6  X  4  =  24 \n",
      "6  X  6  =  36 \n",
      "6  X  8  =  48 \n",
      "-------------------\n",
      "8  X  2  =  16 \n",
      "8  X  4  =  32 \n",
      "8  X  6  =  48 \n",
      "8  X  8  =  64 \n"
     ]
    }
   ],
   "source": [
    "for( i in seq(2,8,2)){\n",
    "    cat(\"-------------------\\n\")\n",
    "    for(j in seq(2,8,2))\n",
    "        cat(i,\" X \", j , \" = \", i*j,\"\\n\")\n",
    "}"
   ]
  },
  {
   "cell_type": "code",
   "execution_count": 135,
   "id": "b43e15d2",
   "metadata": {},
   "outputs": [
    {
     "name": "stdout",
     "output_type": "stream",
     "text": [
      "유비  :  85 \n",
      "관우  :  95 \n",
      "장비  :  89 \n"
     ]
    }
   ],
   "source": [
    "# 2개의 벡터 자료를 함계 출력하기\n",
    "score <- c(85, 95, 89)\n",
    "name <- c(\"유비\",\"관우\",\"장비\")\n",
    "\n",
    "j <- 1\n",
    "for( i in score){\n",
    "\n",
    "    cat(name[j] ,\" : \",i ,\"\\n\")\n",
    "    j<- j+1\n",
    "}\n"
   ]
  },
  {
   "cell_type": "code",
   "execution_count": 165,
   "id": "f3ad4f11",
   "metadata": {},
   "outputs": [
    {
     "name": "stdout",
     "output_type": "stream",
     "text": [
      "유비  :  85 \n",
      "관우  :  95 \n",
      "장비  :  89 \n"
     ]
    }
   ],
   "source": [
    "cat(paste(name,\" : \",score ,\"\\n\"),sep =\"\")"
   ]
  },
  {
   "cell_type": "code",
   "execution_count": 146,
   "id": "76a25629",
   "metadata": {},
   "outputs": [
    {
     "data": {
      "text/html": [
       "<ol class=list-inline>\n",
       "\t<li>'유비'</li>\n",
       "\t<li>'관우'</li>\n",
       "\t<li>'장비'</li>\n",
       "\t<li>'85'</li>\n",
       "\t<li>'95'</li>\n",
       "\t<li>'89'</li>\n",
       "</ol>\n"
      ],
      "text/latex": [
       "\\begin{enumerate*}\n",
       "\\item '유비'\n",
       "\\item '관우'\n",
       "\\item '장비'\n",
       "\\item '85'\n",
       "\\item '95'\n",
       "\\item '89'\n",
       "\\end{enumerate*}\n"
      ],
      "text/markdown": [
       "1. '유비'\n",
       "2. '관우'\n",
       "3. '장비'\n",
       "4. '85'\n",
       "5. '95'\n",
       "6. '89'\n",
       "\n",
       "\n"
      ],
      "text/plain": [
       "[1] \"유비\" \"관우\" \"장비\" \"85\"   \"95\"   \"89\"  "
      ]
     },
     "metadata": {},
     "output_type": "display_data"
    }
   ],
   "source": [
    "append(name,score)"
   ]
  },
  {
   "cell_type": "code",
   "execution_count": 2,
   "id": "dc586005",
   "metadata": {},
   "outputs": [
    {
     "name": "stdout",
     "output_type": "stream",
     "text": [
      "2  X  2  =  4 \n",
      "2  X  4  =  8 \n",
      "2  X  6  =  12 \n",
      "2  X  8  =  16 \n",
      "4  X  2  =  8 \n",
      "4  X  4  =  16 \n",
      "4  X  6  =  24 \n",
      "4  X  8  =  32 \n",
      "6  X  2  =  12 \n",
      "6  X  4  =  24 \n",
      "6  X  6  =  36 \n",
      "6  X  8  =  48 \n",
      "8  X  2  =  16 \n",
      "8  X  4  =  32 \n",
      "8  X  6  =  48 \n",
      "8  X  8  =  64 \n"
     ]
    }
   ],
   "source": [
    "cat(paste(rep(seq(2,8,2),each=4),\" X \", seq(2,8,2) , \" = \", rep(seq(2,8,2),each=4)*seq(2,8,2),\"\\n\"),sep = \"\")"
   ]
  },
  {
   "cell_type": "code",
   "execution_count": 168,
   "id": "7320a3c4",
   "metadata": {},
   "outputs": [
    {
     "name": "stdout",
     "output_type": "stream",
     "text": [
      "[1] 1\n",
      "[1] 2\n",
      "[1] 3\n",
      "[1] 4\n",
      "[1] 5\n",
      "[1] 6\n",
      "[1] 7\n",
      "[1] 8\n",
      "[1] 9\n",
      "[1] 10\n"
     ]
    }
   ],
   "source": [
    "i <- 0\n",
    "while(i < 10){\n",
    "    i <- i + 1\n",
    "    print(i)\n",
    "}"
   ]
  },
  {
   "cell_type": "code",
   "execution_count": null,
   "id": "63aab993",
   "metadata": {},
   "outputs": [],
   "source": [
    "# 유일하게 괄호가 없는 함수 repeat\n",
    "i<- 0\n",
    "repeat(\n",
    "    i = i+1\n",
    "    if(i>10){\n",
    "        break\n",
    "    }\n",
    "    print(i)\n",
    ")"
   ]
  }
 ],
 "metadata": {
  "kernelspec": {
   "display_name": "R",
   "language": "R",
   "name": "ir"
  },
  "language_info": {
   "codemirror_mode": "r",
   "file_extension": ".r",
   "mimetype": "text/x-r-source",
   "name": "R",
   "pygments_lexer": "r",
   "version": "3.6.1"
  }
 },
 "nbformat": 4,
 "nbformat_minor": 5
}
