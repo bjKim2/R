{
 "cells": [
  {
   "cell_type": "code",
   "execution_count": 1,
   "id": "f06eff77",
   "metadata": {},
   "outputs": [
    {
     "data": {
      "text/html": [
       "<table>\n",
       "<thead><tr><th scope=col>PassengerId</th><th scope=col>Survived</th><th scope=col>Pclass</th><th scope=col>Name</th><th scope=col>Sex</th><th scope=col>Age</th><th scope=col>SibSp</th><th scope=col>Parch</th><th scope=col>Ticket</th><th scope=col>Fare</th><th scope=col>Cabin</th><th scope=col>Embarked</th></tr></thead>\n",
       "<tbody>\n",
       "\t<tr><td>1                                                  </td><td>0                                                  </td><td>3                                                  </td><td>Braund, Mr. Owen Harris                            </td><td>male                                               </td><td>22                                                 </td><td>1                                                  </td><td>0                                                  </td><td>A/5 21171                                          </td><td> 7.2500                                            </td><td>                                                   </td><td>S                                                  </td></tr>\n",
       "\t<tr><td>2                                                  </td><td>1                                                  </td><td>1                                                  </td><td>Cumings, Mrs. John Bradley (Florence Briggs Thayer)</td><td>female                                             </td><td>38                                                 </td><td>1                                                  </td><td>0                                                  </td><td>PC 17599                                           </td><td>71.2833                                            </td><td>C85                                                </td><td>C                                                  </td></tr>\n",
       "\t<tr><td>3                                                  </td><td>1                                                  </td><td>3                                                  </td><td>Heikkinen, Miss. Laina                             </td><td>female                                             </td><td>26                                                 </td><td>0                                                  </td><td>0                                                  </td><td>STON/O2. 3101282                                   </td><td> 7.9250                                            </td><td>                                                   </td><td>S                                                  </td></tr>\n",
       "\t<tr><td>4                                                  </td><td>1                                                  </td><td>1                                                  </td><td>Futrelle, Mrs. Jacques Heath (Lily May Peel)       </td><td>female                                             </td><td>35                                                 </td><td>1                                                  </td><td>0                                                  </td><td>113803                                             </td><td>53.1000                                            </td><td>C123                                               </td><td>S                                                  </td></tr>\n",
       "\t<tr><td>5                                                  </td><td>0                                                  </td><td>3                                                  </td><td>Allen, Mr. William Henry                           </td><td>male                                               </td><td>35                                                 </td><td>0                                                  </td><td>0                                                  </td><td>373450                                             </td><td> 8.0500                                            </td><td>                                                   </td><td>S                                                  </td></tr>\n",
       "\t<tr><td>6                                                  </td><td>0                                                  </td><td>3                                                  </td><td>Moran, Mr. James                                   </td><td>male                                               </td><td>NA                                                 </td><td>0                                                  </td><td>0                                                  </td><td>330877                                             </td><td> 8.4583                                            </td><td>                                                   </td><td>Q                                                  </td></tr>\n",
       "</tbody>\n",
       "</table>\n"
      ],
      "text/latex": [
       "\\begin{tabular}{r|llllllllllll}\n",
       " PassengerId & Survived & Pclass & Name & Sex & Age & SibSp & Parch & Ticket & Fare & Cabin & Embarked\\\\\n",
       "\\hline\n",
       "\t 1                                                   & 0                                                   & 3                                                   & Braund, Mr. Owen Harris                             & male                                                & 22                                                  & 1                                                   & 0                                                   & A/5 21171                                           &  7.2500                                             &                                                     & S                                                  \\\\\n",
       "\t 2                                                   & 1                                                   & 1                                                   & Cumings, Mrs. John Bradley (Florence Briggs Thayer) & female                                              & 38                                                  & 1                                                   & 0                                                   & PC 17599                                            & 71.2833                                             & C85                                                 & C                                                  \\\\\n",
       "\t 3                                                   & 1                                                   & 3                                                   & Heikkinen, Miss. Laina                              & female                                              & 26                                                  & 0                                                   & 0                                                   & STON/O2. 3101282                                    &  7.9250                                             &                                                     & S                                                  \\\\\n",
       "\t 4                                                   & 1                                                   & 1                                                   & Futrelle, Mrs. Jacques Heath (Lily May Peel)        & female                                              & 35                                                  & 1                                                   & 0                                                   & 113803                                              & 53.1000                                             & C123                                                & S                                                  \\\\\n",
       "\t 5                                                   & 0                                                   & 3                                                   & Allen, Mr. William Henry                            & male                                                & 35                                                  & 0                                                   & 0                                                   & 373450                                              &  8.0500                                             &                                                     & S                                                  \\\\\n",
       "\t 6                                                   & 0                                                   & 3                                                   & Moran, Mr. James                                    & male                                                & NA                                                  & 0                                                   & 0                                                   & 330877                                              &  8.4583                                             &                                                     & Q                                                  \\\\\n",
       "\\end{tabular}\n"
      ],
      "text/markdown": [
       "\n",
       "| PassengerId | Survived | Pclass | Name | Sex | Age | SibSp | Parch | Ticket | Fare | Cabin | Embarked |\n",
       "|---|---|---|---|---|---|---|---|---|---|---|---|\n",
       "| 1                                                   | 0                                                   | 3                                                   | Braund, Mr. Owen Harris                             | male                                                | 22                                                  | 1                                                   | 0                                                   | A/5 21171                                           |  7.2500                                             |                                                     | S                                                   |\n",
       "| 2                                                   | 1                                                   | 1                                                   | Cumings, Mrs. John Bradley (Florence Briggs Thayer) | female                                              | 38                                                  | 1                                                   | 0                                                   | PC 17599                                            | 71.2833                                             | C85                                                 | C                                                   |\n",
       "| 3                                                   | 1                                                   | 3                                                   | Heikkinen, Miss. Laina                              | female                                              | 26                                                  | 0                                                   | 0                                                   | STON/O2. 3101282                                    |  7.9250                                             |                                                     | S                                                   |\n",
       "| 4                                                   | 1                                                   | 1                                                   | Futrelle, Mrs. Jacques Heath (Lily May Peel)        | female                                              | 35                                                  | 1                                                   | 0                                                   | 113803                                              | 53.1000                                             | C123                                                | S                                                   |\n",
       "| 5                                                   | 0                                                   | 3                                                   | Allen, Mr. William Henry                            | male                                                | 35                                                  | 0                                                   | 0                                                   | 373450                                              |  8.0500                                             |                                                     | S                                                   |\n",
       "| 6                                                   | 0                                                   | 3                                                   | Moran, Mr. James                                    | male                                                | NA                                                  | 0                                                   | 0                                                   | 330877                                              |  8.4583                                             |                                                     | Q                                                   |\n",
       "\n"
      ],
      "text/plain": [
       "  PassengerId Survived Pclass\n",
       "1 1           0        3     \n",
       "2 2           1        1     \n",
       "3 3           1        3     \n",
       "4 4           1        1     \n",
       "5 5           0        3     \n",
       "6 6           0        3     \n",
       "  Name                                                Sex    Age SibSp Parch\n",
       "1 Braund, Mr. Owen Harris                             male   22  1     0    \n",
       "2 Cumings, Mrs. John Bradley (Florence Briggs Thayer) female 38  1     0    \n",
       "3 Heikkinen, Miss. Laina                              female 26  0     0    \n",
       "4 Futrelle, Mrs. Jacques Heath (Lily May Peel)        female 35  1     0    \n",
       "5 Allen, Mr. William Henry                            male   35  0     0    \n",
       "6 Moran, Mr. James                                    male   NA  0     0    \n",
       "  Ticket           Fare    Cabin Embarked\n",
       "1 A/5 21171         7.2500       S       \n",
       "2 PC 17599         71.2833 C85   C       \n",
       "3 STON/O2. 3101282  7.9250       S       \n",
       "4 113803           53.1000 C123  S       \n",
       "5 373450            8.0500       S       \n",
       "6 330877            8.4583       Q       "
      ]
     },
     "metadata": {},
     "output_type": "display_data"
    },
    {
     "data": {
      "text/html": [
       "<table>\n",
       "<thead><tr><th></th><th scope=col>PassengerId</th><th scope=col>Survived</th><th scope=col>Pclass</th><th scope=col>Name</th><th scope=col>Sex</th><th scope=col>Age</th><th scope=col>SibSp</th><th scope=col>Parch</th><th scope=col>Ticket</th><th scope=col>Fare</th><th scope=col>Cabin</th><th scope=col>Embarked</th></tr></thead>\n",
       "<tbody>\n",
       "\t<tr><th scope=row>886</th><td>886                                     </td><td>0                                       </td><td>3                                       </td><td>Rice, Mrs. William (Margaret Norton)    </td><td>female                                  </td><td>39                                      </td><td>0                                       </td><td>5                                       </td><td>382652                                  </td><td>29.125                                  </td><td>                                        </td><td>Q                                       </td></tr>\n",
       "\t<tr><th scope=row>887</th><td>887                                     </td><td>0                                       </td><td>2                                       </td><td>Montvila, Rev. Juozas                   </td><td>male                                    </td><td>27                                      </td><td>0                                       </td><td>0                                       </td><td>211536                                  </td><td>13.000                                  </td><td>                                        </td><td>S                                       </td></tr>\n",
       "\t<tr><th scope=row>888</th><td>888                                     </td><td>1                                       </td><td>1                                       </td><td>Graham, Miss. Margaret Edith            </td><td>female                                  </td><td>19                                      </td><td>0                                       </td><td>0                                       </td><td>112053                                  </td><td>30.000                                  </td><td>B42                                     </td><td>S                                       </td></tr>\n",
       "\t<tr><th scope=row>889</th><td>889                                     </td><td>0                                       </td><td>3                                       </td><td>Johnston, Miss. Catherine Helen \"Carrie\"</td><td>female                                  </td><td>NA                                      </td><td>1                                       </td><td>2                                       </td><td>W./C. 6607                              </td><td>23.450                                  </td><td>                                        </td><td>S                                       </td></tr>\n",
       "\t<tr><th scope=row>890</th><td>890                                     </td><td>1                                       </td><td>1                                       </td><td>Behr, Mr. Karl Howell                   </td><td>male                                    </td><td>26                                      </td><td>0                                       </td><td>0                                       </td><td>111369                                  </td><td>30.000                                  </td><td>C148                                    </td><td>C                                       </td></tr>\n",
       "\t<tr><th scope=row>891</th><td>891                                     </td><td>0                                       </td><td>3                                       </td><td>Dooley, Mr. Patrick                     </td><td>male                                    </td><td>32                                      </td><td>0                                       </td><td>0                                       </td><td>370376                                  </td><td> 7.750                                  </td><td>                                        </td><td>Q                                       </td></tr>\n",
       "</tbody>\n",
       "</table>\n"
      ],
      "text/latex": [
       "\\begin{tabular}{r|llllllllllll}\n",
       "  & PassengerId & Survived & Pclass & Name & Sex & Age & SibSp & Parch & Ticket & Fare & Cabin & Embarked\\\\\n",
       "\\hline\n",
       "\t886 & 886                                      & 0                                        & 3                                        & Rice, Mrs. William (Margaret Norton)     & female                                   & 39                                       & 0                                        & 5                                        & 382652                                   & 29.125                                   &                                          & Q                                       \\\\\n",
       "\t887 & 887                                      & 0                                        & 2                                        & Montvila, Rev. Juozas                    & male                                     & 27                                       & 0                                        & 0                                        & 211536                                   & 13.000                                   &                                          & S                                       \\\\\n",
       "\t888 & 888                                      & 1                                        & 1                                        & Graham, Miss. Margaret Edith             & female                                   & 19                                       & 0                                        & 0                                        & 112053                                   & 30.000                                   & B42                                      & S                                       \\\\\n",
       "\t889 & 889                                      & 0                                        & 3                                        & Johnston, Miss. Catherine Helen \"Carrie\" & female                                   & NA                                       & 1                                        & 2                                        & W./C. 6607                               & 23.450                                   &                                          & S                                       \\\\\n",
       "\t890 & 890                                      & 1                                        & 1                                        & Behr, Mr. Karl Howell                    & male                                     & 26                                       & 0                                        & 0                                        & 111369                                   & 30.000                                   & C148                                     & C                                       \\\\\n",
       "\t891 & 891                                      & 0                                        & 3                                        & Dooley, Mr. Patrick                      & male                                     & 32                                       & 0                                        & 0                                        & 370376                                   &  7.750                                   &                                          & Q                                       \\\\\n",
       "\\end{tabular}\n"
      ],
      "text/markdown": [
       "\n",
       "| <!--/--> | PassengerId | Survived | Pclass | Name | Sex | Age | SibSp | Parch | Ticket | Fare | Cabin | Embarked |\n",
       "|---|---|---|---|---|---|---|---|---|---|---|---|---|\n",
       "| 886 | 886                                      | 0                                        | 3                                        | Rice, Mrs. William (Margaret Norton)     | female                                   | 39                                       | 0                                        | 5                                        | 382652                                   | 29.125                                   |                                          | Q                                        |\n",
       "| 887 | 887                                      | 0                                        | 2                                        | Montvila, Rev. Juozas                    | male                                     | 27                                       | 0                                        | 0                                        | 211536                                   | 13.000                                   |                                          | S                                        |\n",
       "| 888 | 888                                      | 1                                        | 1                                        | Graham, Miss. Margaret Edith             | female                                   | 19                                       | 0                                        | 0                                        | 112053                                   | 30.000                                   | B42                                      | S                                        |\n",
       "| 889 | 889                                      | 0                                        | 3                                        | Johnston, Miss. Catherine Helen \"Carrie\" | female                                   | NA                                       | 1                                        | 2                                        | W./C. 6607                               | 23.450                                   |                                          | S                                        |\n",
       "| 890 | 890                                      | 1                                        | 1                                        | Behr, Mr. Karl Howell                    | male                                     | 26                                       | 0                                        | 0                                        | 111369                                   | 30.000                                   | C148                                     | C                                        |\n",
       "| 891 | 891                                      | 0                                        | 3                                        | Dooley, Mr. Patrick                      | male                                     | 32                                       | 0                                        | 0                                        | 370376                                   |  7.750                                   |                                          | Q                                        |\n",
       "\n"
      ],
      "text/plain": [
       "    PassengerId Survived Pclass Name                                     Sex   \n",
       "886 886         0        3      Rice, Mrs. William (Margaret Norton)     female\n",
       "887 887         0        2      Montvila, Rev. Juozas                    male  \n",
       "888 888         1        1      Graham, Miss. Margaret Edith             female\n",
       "889 889         0        3      Johnston, Miss. Catherine Helen \"Carrie\" female\n",
       "890 890         1        1      Behr, Mr. Karl Howell                    male  \n",
       "891 891         0        3      Dooley, Mr. Patrick                      male  \n",
       "    Age SibSp Parch Ticket     Fare   Cabin Embarked\n",
       "886 39  0     5     382652     29.125       Q       \n",
       "887 27  0     0     211536     13.000       S       \n",
       "888 19  0     0     112053     30.000 B42   S       \n",
       "889 NA  1     2     W./C. 6607 23.450       S       \n",
       "890 26  0     0     111369     30.000 C148  C       \n",
       "891 32  0     0     370376      7.750       Q       "
      ]
     },
     "metadata": {},
     "output_type": "display_data"
    }
   ],
   "source": [
    "train_df<-read.csv(\"../Data/Titanic_train.csv\")\n",
    "head(train_df)\n",
    "tail(train_df)"
   ]
  },
  {
   "cell_type": "code",
   "execution_count": 2,
   "id": "6a9fa3c0",
   "metadata": {},
   "outputs": [
    {
     "name": "stdout",
     "output_type": "stream",
     "text": [
      "'data.frame':\t891 obs. of  12 variables:\n",
      " $ PassengerId: int  1 2 3 4 5 6 7 8 9 10 ...\n",
      " $ Survived   : int  0 1 1 1 0 0 0 0 1 1 ...\n",
      " $ Pclass     : int  3 1 3 1 3 3 1 3 3 2 ...\n",
      " $ Name       : Factor w/ 891 levels \"Abbing, Mr. Anthony\",..: 109 191 358 277 16 559 520 629 417 581 ...\n",
      " $ Sex        : Factor w/ 2 levels \"female\",\"male\": 2 1 1 1 2 2 2 2 1 1 ...\n",
      " $ Age        : num  22 38 26 35 35 NA 54 2 27 14 ...\n",
      " $ SibSp      : int  1 1 0 1 0 0 0 3 0 1 ...\n",
      " $ Parch      : int  0 0 0 0 0 0 0 1 2 0 ...\n",
      " $ Ticket     : Factor w/ 681 levels \"110152\",\"110413\",..: 524 597 670 50 473 276 86 396 345 133 ...\n",
      " $ Fare       : num  7.25 71.28 7.92 53.1 8.05 ...\n",
      " $ Cabin      : Factor w/ 148 levels \"\",\"A10\",\"A14\",..: 1 83 1 57 1 1 131 1 1 1 ...\n",
      " $ Embarked   : Factor w/ 4 levels \"\",\"C\",\"Q\",\"S\": 4 2 4 4 4 3 4 4 4 2 ...\n"
     ]
    }
   ],
   "source": [
    "str(train_df)"
   ]
  },
  {
   "cell_type": "markdown",
   "id": "efd72b56",
   "metadata": {},
   "source": [
    "### 컬럼 내용 확인\n",
    "- Survived : 생존여부,0=사망, 1=생존 (target 컬럼)\n",
    "- Pclass : 티켓등급, 1 = 1등급, 2 = 2등급, 3 = 3등급\n",
    "- Sibsp: 함께 탑승한 형제, 자매, 배우자의 수\n",
    "- PArch: 함께 탑승한 부모, 자식의 수\n",
    "- Fare: 운임\n",
    "- Cabin: 객실 번호\n",
    "- Embarked: 탑승 항구, C=Chermsbourg, Q=Queenstown, S=Southampton"
   ]
  },
  {
   "cell_type": "code",
   "execution_count": 3,
   "id": "9aee82c0",
   "metadata": {},
   "outputs": [
    {
     "data": {
      "text/html": [
       "177"
      ],
      "text/latex": [
       "177"
      ],
      "text/markdown": [
       "177"
      ],
      "text/plain": [
       "[1] 177"
      ]
     },
     "metadata": {},
     "output_type": "display_data"
    },
    {
     "data": {
      "text/html": [
       "<dl class=dl-horizontal>\n",
       "\t<dt>PassengerId</dt>\n",
       "\t\t<dd>0</dd>\n",
       "\t<dt>Survived</dt>\n",
       "\t\t<dd>0</dd>\n",
       "\t<dt>Pclass</dt>\n",
       "\t\t<dd>0</dd>\n",
       "\t<dt>Name</dt>\n",
       "\t\t<dd>0</dd>\n",
       "\t<dt>Sex</dt>\n",
       "\t\t<dd>0</dd>\n",
       "\t<dt>Age</dt>\n",
       "\t\t<dd>177</dd>\n",
       "\t<dt>SibSp</dt>\n",
       "\t\t<dd>0</dd>\n",
       "\t<dt>Parch</dt>\n",
       "\t\t<dd>0</dd>\n",
       "\t<dt>Ticket</dt>\n",
       "\t\t<dd>0</dd>\n",
       "\t<dt>Fare</dt>\n",
       "\t\t<dd>0</dd>\n",
       "\t<dt>Cabin</dt>\n",
       "\t\t<dd>0</dd>\n",
       "\t<dt>Embarked</dt>\n",
       "\t\t<dd>0</dd>\n",
       "</dl>\n"
      ],
      "text/latex": [
       "\\begin{description*}\n",
       "\\item[PassengerId] 0\n",
       "\\item[Survived] 0\n",
       "\\item[Pclass] 0\n",
       "\\item[Name] 0\n",
       "\\item[Sex] 0\n",
       "\\item[Age] 177\n",
       "\\item[SibSp] 0\n",
       "\\item[Parch] 0\n",
       "\\item[Ticket] 0\n",
       "\\item[Fare] 0\n",
       "\\item[Cabin] 0\n",
       "\\item[Embarked] 0\n",
       "\\end{description*}\n"
      ],
      "text/markdown": [
       "PassengerId\n",
       ":   0Survived\n",
       ":   0Pclass\n",
       ":   0Name\n",
       ":   0Sex\n",
       ":   0Age\n",
       ":   177SibSp\n",
       ":   0Parch\n",
       ":   0Ticket\n",
       ":   0Fare\n",
       ":   0Cabin\n",
       ":   0Embarked\n",
       ":   0\n",
       "\n"
      ],
      "text/plain": [
       "PassengerId    Survived      Pclass        Name         Sex         Age \n",
       "          0           0           0           0           0         177 \n",
       "      SibSp       Parch      Ticket        Fare       Cabin    Embarked \n",
       "          0           0           0           0           0           0 "
      ]
     },
     "metadata": {},
     "output_type": "display_data"
    }
   ],
   "source": [
    "# 각 컬럼별 NA 확인\n",
    "sum(is.na(train_df))\n",
    "colSums(is.na(train_df)) #colum별 sum"
   ]
  },
  {
   "cell_type": "code",
   "execution_count": 4,
   "id": "36b5f16d",
   "metadata": {},
   "outputs": [
    {
     "data": {
      "text/html": [
       "0.198653198653199"
      ],
      "text/latex": [
       "0.198653198653199"
      ],
      "text/markdown": [
       "0.198653198653199"
      ],
      "text/plain": [
       "[1] 0.1986532"
      ]
     },
     "metadata": {},
     "output_type": "display_data"
    }
   ],
   "source": [
    "177/891"
   ]
  },
  {
   "cell_type": "code",
   "execution_count": 5,
   "id": "2be6e772",
   "metadata": {},
   "outputs": [
    {
     "data": {
      "text/html": [
       "<table>\n",
       "<thead><tr><th></th><th scope=col>PassengerId</th><th scope=col>Survived</th><th scope=col>Pclass</th><th scope=col>Name</th><th scope=col>Sex</th><th scope=col>Age</th><th scope=col>SibSp</th><th scope=col>Parch</th><th scope=col>Ticket</th><th scope=col>Fare</th><th scope=col>Cabin</th><th scope=col>Embarked</th></tr></thead>\n",
       "<tbody>\n",
       "\t<tr><th scope=row>1</th><td>1                                                  </td><td>0                                                  </td><td>3                                                  </td><td>Braund, Mr. Owen Harris                            </td><td>male                                               </td><td>22                                                 </td><td>1                                                  </td><td>0                                                  </td><td>A/5 21171                                          </td><td> 7.2500                                            </td><td>                                                   </td><td>S                                                  </td></tr>\n",
       "\t<tr><th scope=row>2</th><td>2                                                  </td><td>1                                                  </td><td>1                                                  </td><td>Cumings, Mrs. John Bradley (Florence Briggs Thayer)</td><td>female                                             </td><td>38                                                 </td><td>1                                                  </td><td>0                                                  </td><td>PC 17599                                           </td><td>71.2833                                            </td><td>C85                                                </td><td>C                                                  </td></tr>\n",
       "\t<tr><th scope=row>3</th><td>3                                                  </td><td>1                                                  </td><td>3                                                  </td><td>Heikkinen, Miss. Laina                             </td><td>female                                             </td><td>26                                                 </td><td>0                                                  </td><td>0                                                  </td><td>STON/O2. 3101282                                   </td><td> 7.9250                                            </td><td>                                                   </td><td>S                                                  </td></tr>\n",
       "\t<tr><th scope=row>4</th><td>4                                                  </td><td>1                                                  </td><td>1                                                  </td><td>Futrelle, Mrs. Jacques Heath (Lily May Peel)       </td><td>female                                             </td><td>35                                                 </td><td>1                                                  </td><td>0                                                  </td><td>113803                                             </td><td>53.1000                                            </td><td>C123                                               </td><td>S                                                  </td></tr>\n",
       "\t<tr><th scope=row>5</th><td>5                                                  </td><td>0                                                  </td><td>3                                                  </td><td>Allen, Mr. William Henry                           </td><td>male                                               </td><td>35                                                 </td><td>0                                                  </td><td>0                                                  </td><td>373450                                             </td><td> 8.0500                                            </td><td>                                                   </td><td>S                                                  </td></tr>\n",
       "\t<tr><th scope=row>7</th><td>7                                                  </td><td>0                                                  </td><td>1                                                  </td><td>McCarthy, Mr. Timothy J                            </td><td>male                                               </td><td>54                                                 </td><td>0                                                  </td><td>0                                                  </td><td>17463                                              </td><td>51.8625                                            </td><td>E46                                                </td><td>S                                                  </td></tr>\n",
       "</tbody>\n",
       "</table>\n"
      ],
      "text/latex": [
       "\\begin{tabular}{r|llllllllllll}\n",
       "  & PassengerId & Survived & Pclass & Name & Sex & Age & SibSp & Parch & Ticket & Fare & Cabin & Embarked\\\\\n",
       "\\hline\n",
       "\t1 & 1                                                   & 0                                                   & 3                                                   & Braund, Mr. Owen Harris                             & male                                                & 22                                                  & 1                                                   & 0                                                   & A/5 21171                                           &  7.2500                                             &                                                     & S                                                  \\\\\n",
       "\t2 & 2                                                   & 1                                                   & 1                                                   & Cumings, Mrs. John Bradley (Florence Briggs Thayer) & female                                              & 38                                                  & 1                                                   & 0                                                   & PC 17599                                            & 71.2833                                             & C85                                                 & C                                                  \\\\\n",
       "\t3 & 3                                                   & 1                                                   & 3                                                   & Heikkinen, Miss. Laina                              & female                                              & 26                                                  & 0                                                   & 0                                                   & STON/O2. 3101282                                    &  7.9250                                             &                                                     & S                                                  \\\\\n",
       "\t4 & 4                                                   & 1                                                   & 1                                                   & Futrelle, Mrs. Jacques Heath (Lily May Peel)        & female                                              & 35                                                  & 1                                                   & 0                                                   & 113803                                              & 53.1000                                             & C123                                                & S                                                  \\\\\n",
       "\t5 & 5                                                   & 0                                                   & 3                                                   & Allen, Mr. William Henry                            & male                                                & 35                                                  & 0                                                   & 0                                                   & 373450                                              &  8.0500                                             &                                                     & S                                                  \\\\\n",
       "\t7 & 7                                                   & 0                                                   & 1                                                   & McCarthy, Mr. Timothy J                             & male                                                & 54                                                  & 0                                                   & 0                                                   & 17463                                               & 51.8625                                             & E46                                                 & S                                                  \\\\\n",
       "\\end{tabular}\n"
      ],
      "text/markdown": [
       "\n",
       "| <!--/--> | PassengerId | Survived | Pclass | Name | Sex | Age | SibSp | Parch | Ticket | Fare | Cabin | Embarked |\n",
       "|---|---|---|---|---|---|---|---|---|---|---|---|---|\n",
       "| 1 | 1                                                   | 0                                                   | 3                                                   | Braund, Mr. Owen Harris                             | male                                                | 22                                                  | 1                                                   | 0                                                   | A/5 21171                                           |  7.2500                                             |                                                     | S                                                   |\n",
       "| 2 | 2                                                   | 1                                                   | 1                                                   | Cumings, Mrs. John Bradley (Florence Briggs Thayer) | female                                              | 38                                                  | 1                                                   | 0                                                   | PC 17599                                            | 71.2833                                             | C85                                                 | C                                                   |\n",
       "| 3 | 3                                                   | 1                                                   | 3                                                   | Heikkinen, Miss. Laina                              | female                                              | 26                                                  | 0                                                   | 0                                                   | STON/O2. 3101282                                    |  7.9250                                             |                                                     | S                                                   |\n",
       "| 4 | 4                                                   | 1                                                   | 1                                                   | Futrelle, Mrs. Jacques Heath (Lily May Peel)        | female                                              | 35                                                  | 1                                                   | 0                                                   | 113803                                              | 53.1000                                             | C123                                                | S                                                   |\n",
       "| 5 | 5                                                   | 0                                                   | 3                                                   | Allen, Mr. William Henry                            | male                                                | 35                                                  | 0                                                   | 0                                                   | 373450                                              |  8.0500                                             |                                                     | S                                                   |\n",
       "| 7 | 7                                                   | 0                                                   | 1                                                   | McCarthy, Mr. Timothy J                             | male                                                | 54                                                  | 0                                                   | 0                                                   | 17463                                               | 51.8625                                             | E46                                                 | S                                                   |\n",
       "\n"
      ],
      "text/plain": [
       "  PassengerId Survived Pclass\n",
       "1 1           0        3     \n",
       "2 2           1        1     \n",
       "3 3           1        3     \n",
       "4 4           1        1     \n",
       "5 5           0        3     \n",
       "7 7           0        1     \n",
       "  Name                                                Sex    Age SibSp Parch\n",
       "1 Braund, Mr. Owen Harris                             male   22  1     0    \n",
       "2 Cumings, Mrs. John Bradley (Florence Briggs Thayer) female 38  1     0    \n",
       "3 Heikkinen, Miss. Laina                              female 26  0     0    \n",
       "4 Futrelle, Mrs. Jacques Heath (Lily May Peel)        female 35  1     0    \n",
       "5 Allen, Mr. William Henry                            male   35  0     0    \n",
       "7 McCarthy, Mr. Timothy J                             male   54  0     0    \n",
       "  Ticket           Fare    Cabin Embarked\n",
       "1 A/5 21171         7.2500       S       \n",
       "2 PC 17599         71.2833 C85   C       \n",
       "3 STON/O2. 3101282  7.9250       S       \n",
       "4 113803           53.1000 C123  S       \n",
       "5 373450            8.0500       S       \n",
       "7 17463            51.8625 E46   S       "
      ]
     },
     "metadata": {},
     "output_type": "display_data"
    },
    {
     "data": {
      "text/html": [
       "714"
      ],
      "text/latex": [
       "714"
      ],
      "text/markdown": [
       "714"
      ],
      "text/plain": [
       "[1] 714"
      ]
     },
     "metadata": {},
     "output_type": "display_data"
    }
   ],
   "source": [
    "# train_df$Age가 NA인 것 빼고 데이터셋 만들기\n",
    "head(subset(train_df, !is.na(train_df$Age)))\n",
    "nrow(subset(train_df, !is.na(train_df$Age)))"
   ]
  },
  {
   "cell_type": "code",
   "execution_count": 6,
   "id": "32df6ddf",
   "metadata": {},
   "outputs": [
    {
     "name": "stderr",
     "output_type": "stream",
     "text": [
      "\n",
      "Attaching package: ‘dplyr’\n",
      "\n",
      "The following objects are masked from ‘package:stats’:\n",
      "\n",
      "    filter, lag\n",
      "\n",
      "The following objects are masked from ‘package:base’:\n",
      "\n",
      "    intersect, setdiff, setequal, union\n",
      "\n"
     ]
    }
   ],
   "source": [
    "# Survived 기준으로 Dataset 정렬\n",
    "library(dplyr)"
   ]
  },
  {
   "cell_type": "code",
   "execution_count": 7,
   "id": "30d6b630",
   "metadata": {},
   "outputs": [
    {
     "data": {
      "text/html": [
       "<table>\n",
       "<thead><tr><th scope=col>PassengerId</th><th scope=col>Survived</th><th scope=col>Pclass</th><th scope=col>Name</th><th scope=col>Sex</th><th scope=col>Age</th><th scope=col>SibSp</th><th scope=col>Parch</th><th scope=col>Ticket</th><th scope=col>Fare</th><th scope=col>Cabin</th><th scope=col>Embarked</th></tr></thead>\n",
       "<tbody>\n",
       "\t<tr><td> 1                            </td><td>0                             </td><td>3                             </td><td>Braund, Mr. Owen Harris       </td><td>male                          </td><td>22                            </td><td>1                             </td><td>0                             </td><td>A/5 21171                     </td><td> 7.2500                       </td><td>                              </td><td>S                             </td></tr>\n",
       "\t<tr><td> 5                            </td><td>0                             </td><td>3                             </td><td>Allen, Mr. William Henry      </td><td>male                          </td><td>35                            </td><td>0                             </td><td>0                             </td><td>373450                        </td><td> 8.0500                       </td><td>                              </td><td>S                             </td></tr>\n",
       "\t<tr><td> 6                            </td><td>0                             </td><td>3                             </td><td>Moran, Mr. James              </td><td>male                          </td><td>NA                            </td><td>0                             </td><td>0                             </td><td>330877                        </td><td> 8.4583                       </td><td>                              </td><td>Q                             </td></tr>\n",
       "\t<tr><td> 7                            </td><td>0                             </td><td>1                             </td><td>McCarthy, Mr. Timothy J       </td><td>male                          </td><td>54                            </td><td>0                             </td><td>0                             </td><td>17463                         </td><td>51.8625                       </td><td>E46                           </td><td>S                             </td></tr>\n",
       "\t<tr><td> 8                            </td><td>0                             </td><td>3                             </td><td>Palsson, Master. Gosta Leonard</td><td>male                          </td><td> 2                            </td><td>3                             </td><td>1                             </td><td>349909                        </td><td>21.0750                       </td><td>                              </td><td>S                             </td></tr>\n",
       "\t<tr><td>13                            </td><td>0                             </td><td>3                             </td><td>Saundercock, Mr. William Henry</td><td>male                          </td><td>20                            </td><td>0                             </td><td>0                             </td><td>A/5. 2151                     </td><td> 8.0500                       </td><td>                              </td><td>S                             </td></tr>\n",
       "</tbody>\n",
       "</table>\n"
      ],
      "text/latex": [
       "\\begin{tabular}{r|llllllllllll}\n",
       " PassengerId & Survived & Pclass & Name & Sex & Age & SibSp & Parch & Ticket & Fare & Cabin & Embarked\\\\\n",
       "\\hline\n",
       "\t  1                             & 0                              & 3                              & Braund, Mr. Owen Harris        & male                           & 22                             & 1                              & 0                              & A/5 21171                      &  7.2500                        &                                & S                             \\\\\n",
       "\t  5                             & 0                              & 3                              & Allen, Mr. William Henry       & male                           & 35                             & 0                              & 0                              & 373450                         &  8.0500                        &                                & S                             \\\\\n",
       "\t  6                             & 0                              & 3                              & Moran, Mr. James               & male                           & NA                             & 0                              & 0                              & 330877                         &  8.4583                        &                                & Q                             \\\\\n",
       "\t  7                             & 0                              & 1                              & McCarthy, Mr. Timothy J        & male                           & 54                             & 0                              & 0                              & 17463                          & 51.8625                        & E46                            & S                             \\\\\n",
       "\t  8                             & 0                              & 3                              & Palsson, Master. Gosta Leonard & male                           &  2                             & 3                              & 1                              & 349909                         & 21.0750                        &                                & S                             \\\\\n",
       "\t 13                             & 0                              & 3                              & Saundercock, Mr. William Henry & male                           & 20                             & 0                              & 0                              & A/5. 2151                      &  8.0500                        &                                & S                             \\\\\n",
       "\\end{tabular}\n"
      ],
      "text/markdown": [
       "\n",
       "| PassengerId | Survived | Pclass | Name | Sex | Age | SibSp | Parch | Ticket | Fare | Cabin | Embarked |\n",
       "|---|---|---|---|---|---|---|---|---|---|---|---|\n",
       "|  1                             | 0                              | 3                              | Braund, Mr. Owen Harris        | male                           | 22                             | 1                              | 0                              | A/5 21171                      |  7.2500                        |                                | S                              |\n",
       "|  5                             | 0                              | 3                              | Allen, Mr. William Henry       | male                           | 35                             | 0                              | 0                              | 373450                         |  8.0500                        |                                | S                              |\n",
       "|  6                             | 0                              | 3                              | Moran, Mr. James               | male                           | NA                             | 0                              | 0                              | 330877                         |  8.4583                        |                                | Q                              |\n",
       "|  7                             | 0                              | 1                              | McCarthy, Mr. Timothy J        | male                           | 54                             | 0                              | 0                              | 17463                          | 51.8625                        | E46                            | S                              |\n",
       "|  8                             | 0                              | 3                              | Palsson, Master. Gosta Leonard | male                           |  2                             | 3                              | 1                              | 349909                         | 21.0750                        |                                | S                              |\n",
       "| 13                             | 0                              | 3                              | Saundercock, Mr. William Henry | male                           | 20                             | 0                              | 0                              | A/5. 2151                      |  8.0500                        |                                | S                              |\n",
       "\n"
      ],
      "text/plain": [
       "  PassengerId Survived Pclass Name                           Sex  Age SibSp\n",
       "1  1          0        3      Braund, Mr. Owen Harris        male 22  1    \n",
       "2  5          0        3      Allen, Mr. William Henry       male 35  0    \n",
       "3  6          0        3      Moran, Mr. James               male NA  0    \n",
       "4  7          0        1      McCarthy, Mr. Timothy J        male 54  0    \n",
       "5  8          0        3      Palsson, Master. Gosta Leonard male  2  3    \n",
       "6 13          0        3      Saundercock, Mr. William Henry male 20  0    \n",
       "  Parch Ticket    Fare    Cabin Embarked\n",
       "1 0     A/5 21171  7.2500       S       \n",
       "2 0     373450     8.0500       S       \n",
       "3 0     330877     8.4583       Q       \n",
       "4 0     17463     51.8625 E46   S       \n",
       "5 1     349909    21.0750       S       \n",
       "6 0     A/5. 2151  8.0500       S       "
      ]
     },
     "metadata": {},
     "output_type": "display_data"
    }
   ],
   "source": [
    "train_df<-arrange(train_df, Survived)\n",
    "head(train_df)"
   ]
  },
  {
   "cell_type": "code",
   "execution_count": 8,
   "id": "6093b5e7",
   "metadata": {},
   "outputs": [
    {
     "data": {
      "text/html": [
       "<table>\n",
       "<thead><tr><th></th><th scope=col>PassengerId</th><th scope=col>Survived</th><th scope=col>Pclass</th><th scope=col>Name</th><th scope=col>Sex</th><th scope=col>Age</th><th scope=col>SibSp</th><th scope=col>Parch</th><th scope=col>Ticket</th><th scope=col>Fare</th><th scope=col>Cabin</th><th scope=col>Embarked</th></tr></thead>\n",
       "<tbody>\n",
       "\t<tr><th scope=row>886</th><td>875                                          </td><td>1                                            </td><td>2                                            </td><td>Abelson, Mrs. Samuel (Hannah Wizosky)        </td><td>female                                       </td><td>28                                           </td><td>1                                            </td><td>0                                            </td><td>P/PP 3381                                    </td><td>24.0000                                      </td><td>                                             </td><td>C                                            </td></tr>\n",
       "\t<tr><th scope=row>887</th><td>876                                          </td><td>1                                            </td><td>3                                            </td><td>Najib, Miss. Adele Kiamie \"Jane\"             </td><td>female                                       </td><td>15                                           </td><td>0                                            </td><td>0                                            </td><td>2667                                         </td><td> 7.2250                                      </td><td>                                             </td><td>C                                            </td></tr>\n",
       "\t<tr><th scope=row>888</th><td>880                                          </td><td>1                                            </td><td>1                                            </td><td>Potter, Mrs. Thomas Jr (Lily Alexenia Wilson)</td><td>female                                       </td><td>56                                           </td><td>0                                            </td><td>1                                            </td><td>11767                                        </td><td>83.1583                                      </td><td>C50                                          </td><td>C                                            </td></tr>\n",
       "\t<tr><th scope=row>889</th><td>881                                          </td><td>1                                            </td><td>2                                            </td><td>Shelley, Mrs. William (Imanita Parrish Hall) </td><td>female                                       </td><td>25                                           </td><td>0                                            </td><td>1                                            </td><td>230433                                       </td><td>26.0000                                      </td><td>                                             </td><td>S                                            </td></tr>\n",
       "\t<tr><th scope=row>890</th><td>888                                          </td><td>1                                            </td><td>1                                            </td><td>Graham, Miss. Margaret Edith                 </td><td>female                                       </td><td>19                                           </td><td>0                                            </td><td>0                                            </td><td>112053                                       </td><td>30.0000                                      </td><td>B42                                          </td><td>S                                            </td></tr>\n",
       "\t<tr><th scope=row>891</th><td>890                                          </td><td>1                                            </td><td>1                                            </td><td>Behr, Mr. Karl Howell                        </td><td>male                                         </td><td>26                                           </td><td>0                                            </td><td>0                                            </td><td>111369                                       </td><td>30.0000                                      </td><td>C148                                         </td><td>C                                            </td></tr>\n",
       "</tbody>\n",
       "</table>\n"
      ],
      "text/latex": [
       "\\begin{tabular}{r|llllllllllll}\n",
       "  & PassengerId & Survived & Pclass & Name & Sex & Age & SibSp & Parch & Ticket & Fare & Cabin & Embarked\\\\\n",
       "\\hline\n",
       "\t886 & 875                                           & 1                                             & 2                                             & Abelson, Mrs. Samuel (Hannah Wizosky)         & female                                        & 28                                            & 1                                             & 0                                             & P/PP 3381                                     & 24.0000                                       &                                               & C                                            \\\\\n",
       "\t887 & 876                                           & 1                                             & 3                                             & Najib, Miss. Adele Kiamie \"Jane\"              & female                                        & 15                                            & 0                                             & 0                                             & 2667                                          &  7.2250                                       &                                               & C                                            \\\\\n",
       "\t888 & 880                                           & 1                                             & 1                                             & Potter, Mrs. Thomas Jr (Lily Alexenia Wilson) & female                                        & 56                                            & 0                                             & 1                                             & 11767                                         & 83.1583                                       & C50                                           & C                                            \\\\\n",
       "\t889 & 881                                           & 1                                             & 2                                             & Shelley, Mrs. William (Imanita Parrish Hall)  & female                                        & 25                                            & 0                                             & 1                                             & 230433                                        & 26.0000                                       &                                               & S                                            \\\\\n",
       "\t890 & 888                                           & 1                                             & 1                                             & Graham, Miss. Margaret Edith                  & female                                        & 19                                            & 0                                             & 0                                             & 112053                                        & 30.0000                                       & B42                                           & S                                            \\\\\n",
       "\t891 & 890                                           & 1                                             & 1                                             & Behr, Mr. Karl Howell                         & male                                          & 26                                            & 0                                             & 0                                             & 111369                                        & 30.0000                                       & C148                                          & C                                            \\\\\n",
       "\\end{tabular}\n"
      ],
      "text/markdown": [
       "\n",
       "| <!--/--> | PassengerId | Survived | Pclass | Name | Sex | Age | SibSp | Parch | Ticket | Fare | Cabin | Embarked |\n",
       "|---|---|---|---|---|---|---|---|---|---|---|---|---|\n",
       "| 886 | 875                                           | 1                                             | 2                                             | Abelson, Mrs. Samuel (Hannah Wizosky)         | female                                        | 28                                            | 1                                             | 0                                             | P/PP 3381                                     | 24.0000                                       |                                               | C                                             |\n",
       "| 887 | 876                                           | 1                                             | 3                                             | Najib, Miss. Adele Kiamie \"Jane\"              | female                                        | 15                                            | 0                                             | 0                                             | 2667                                          |  7.2250                                       |                                               | C                                             |\n",
       "| 888 | 880                                           | 1                                             | 1                                             | Potter, Mrs. Thomas Jr (Lily Alexenia Wilson) | female                                        | 56                                            | 0                                             | 1                                             | 11767                                         | 83.1583                                       | C50                                           | C                                             |\n",
       "| 889 | 881                                           | 1                                             | 2                                             | Shelley, Mrs. William (Imanita Parrish Hall)  | female                                        | 25                                            | 0                                             | 1                                             | 230433                                        | 26.0000                                       |                                               | S                                             |\n",
       "| 890 | 888                                           | 1                                             | 1                                             | Graham, Miss. Margaret Edith                  | female                                        | 19                                            | 0                                             | 0                                             | 112053                                        | 30.0000                                       | B42                                           | S                                             |\n",
       "| 891 | 890                                           | 1                                             | 1                                             | Behr, Mr. Karl Howell                         | male                                          | 26                                            | 0                                             | 0                                             | 111369                                        | 30.0000                                       | C148                                          | C                                             |\n",
       "\n"
      ],
      "text/plain": [
       "    PassengerId Survived Pclass Name                                         \n",
       "886 875         1        2      Abelson, Mrs. Samuel (Hannah Wizosky)        \n",
       "887 876         1        3      Najib, Miss. Adele Kiamie \"Jane\"             \n",
       "888 880         1        1      Potter, Mrs. Thomas Jr (Lily Alexenia Wilson)\n",
       "889 881         1        2      Shelley, Mrs. William (Imanita Parrish Hall) \n",
       "890 888         1        1      Graham, Miss. Margaret Edith                 \n",
       "891 890         1        1      Behr, Mr. Karl Howell                        \n",
       "    Sex    Age SibSp Parch Ticket    Fare    Cabin Embarked\n",
       "886 female 28  1     0     P/PP 3381 24.0000       C       \n",
       "887 female 15  0     0     2667       7.2250       C       \n",
       "888 female 56  0     1     11767     83.1583 C50   C       \n",
       "889 female 25  0     1     230433    26.0000       S       \n",
       "890 female 19  0     0     112053    30.0000 B42   S       \n",
       "891 male   26  0     0     111369    30.0000 C148  C       "
      ]
     },
     "metadata": {},
     "output_type": "display_data"
    }
   ],
   "source": [
    "tail(train_df)"
   ]
  },
  {
   "cell_type": "code",
   "execution_count": 9,
   "id": "8b185939",
   "metadata": {},
   "outputs": [
    {
     "data": {
      "text/html": [
       "<ol class=list-inline>\n",
       "\t<li>891</li>\n",
       "\t<li>12</li>\n",
       "</ol>\n"
      ],
      "text/latex": [
       "\\begin{enumerate*}\n",
       "\\item 891\n",
       "\\item 12\n",
       "\\end{enumerate*}\n"
      ],
      "text/markdown": [
       "1. 891\n",
       "2. 12\n",
       "\n",
       "\n"
      ],
      "text/plain": [
       "[1] 891  12"
      ]
     },
     "metadata": {},
     "output_type": "display_data"
    }
   ],
   "source": [
    "dim(train_df)"
   ]
  },
  {
   "cell_type": "code",
   "execution_count": 10,
   "id": "c2ac8bf2",
   "metadata": {},
   "outputs": [],
   "source": [
    "# Target ColumnL Survived 분석 및 확인"
   ]
  },
  {
   "cell_type": "code",
   "execution_count": 11,
   "id": "553fab94",
   "metadata": {},
   "outputs": [
    {
     "data": {
      "text/plain": [
       "\n",
       "  0   1 \n",
       "549 342 "
      ]
     },
     "metadata": {},
     "output_type": "display_data"
    }
   ],
   "source": [
    "table(train_df$Survived)\n",
    "# table(train_df$Survived)[2]"
   ]
  },
  {
   "cell_type": "code",
   "execution_count": null,
   "id": "0518167b",
   "metadata": {},
   "outputs": [],
   "source": []
  },
  {
   "cell_type": "code",
   "execution_count": 34,
   "id": "b324483c",
   "metadata": {},
   "outputs": [
    {
     "data": {
      "text/html": [
       "38.38"
      ],
      "text/latex": [
       "38.38"
      ],
      "text/markdown": [
       "38.38"
      ],
      "text/plain": [
       "[1] 38.38"
      ]
     },
     "metadata": {},
     "output_type": "display_data"
    }
   ],
   "source": [
    "#Survived의 생존과 사망 Count 확인 및 비율 계산하기\n",
    "liveCount<-sum(train_df$Survived==1)\n",
    "deathCount<-sum(train_df$Survived==0)\n",
    "round(sum(train_df$Survived==1)/(sum(train_df$Survived==1)+sum(train_df$Survived==0))*100,2)"
   ]
  },
  {
   "cell_type": "code",
   "execution_count": 35,
   "id": "dbf87597",
   "metadata": {},
   "outputs": [
    {
     "data": {
      "text/html": [
       "549"
      ],
      "text/latex": [
       "549"
      ],
      "text/markdown": [
       "549"
      ],
      "text/plain": [
       "[1] 549"
      ]
     },
     "metadata": {},
     "output_type": "display_data"
    },
    {
     "data": {
      "text/html": [
       "342"
      ],
      "text/latex": [
       "342"
      ],
      "text/markdown": [
       "342"
      ],
      "text/plain": [
       "[1] 342"
      ]
     },
     "metadata": {},
     "output_type": "display_data"
    },
    {
     "data": {
      "text/html": [
       "0.383838383838384"
      ],
      "text/latex": [
       "0.383838383838384"
      ],
      "text/markdown": [
       "0.383838383838384"
      ],
      "text/plain": [
       "[1] 0.3838384"
      ]
     },
     "metadata": {},
     "output_type": "display_data"
    }
   ],
   "source": [
    "#사망자수\n",
    "nrow(subset(train_df, Survived==0))\n",
    "#생존자수\n",
    "nrow(subset(train_df, Survived==1))\n",
    "#비율\n",
    "nrow(subset(train_df, Survived==1)) / nrow(train_df) "
   ]
  },
  {
   "cell_type": "code",
   "execution_count": 36,
   "id": "8bb5c8bb",
   "metadata": {},
   "outputs": [],
   "source": [
    "library(plotrix)"
   ]
  },
  {
   "cell_type": "code",
   "execution_count": 39,
   "id": "8637898c",
   "metadata": {},
   "outputs": [
    {
     "ename": "ERROR",
     "evalue": "Error in sum(t): 인자의 'type' (closure)이 올바르지 않습니다\n",
     "output_type": "error",
     "traceback": [
      "Error in sum(t): 인자의 'type' (closure)이 올바르지 않습니다\nTraceback:\n"
     ]
    }
   ],
   "source": [
    "survivedVector<-c(deathCount,liveCount)\n",
    "ratio <-round(t/sum(t)*100,2)\n",
    "label <- paste(c(\"사망\",\"생존\"),\"\\n\",ratio,\"%\")\n",
    "\n",
    "options(warn=-1)\n",
    "par(family=\"AppleGothic\")\n",
    "pie3D(survivedVector,\n",
    "     main=\"타이타닉호 생존율\",\n",
    "      labels=label,\n",
    "      explode=0.05\n",
    "    )"
   ]
  },
  {
   "cell_type": "code",
   "execution_count": 33,
   "id": "82cfcbbc",
   "metadata": {},
   "outputs": [
    {
     "data": {
      "image/png": "[encoded data removed]",
      "text/plain": [
       "Plot with title “타이타닉호 사망수와 생존수”"
      ]
     },
     "metadata": {},
     "output_type": "display_data"
    }
   ],
   "source": [
    "\n",
    "par(family=\"AppleGothic\")\n",
    "barplot(survivedVector,\n",
    "       ylim=c(0,600),\n",
    "       names=c(\"사망\",\"생존\"),\n",
    "        main=\"타이타닉호 사망수와 생존수\",\n",
    "       ylab=\"인원수\",\n",
    "       col=c(\"red\",\"blue\"))\n"
   ]
  },
  {
   "cell_type": "code",
   "execution_count": 17,
   "id": "75b6ce48",
   "metadata": {},
   "outputs": [],
   "source": [
    "par(family=\"AppleGothic\")\n",
    "barplot(table(train_df$Survived),\n",
    "         ylim=c(0,600),\n",
    "       names=c(\"사망\",\"생존\"),\n",
    "        main=\"타이타닉호 사망수와 생존수\",\n",
    "       ylab=\"인원수\",\n",
    "       col=c(\"red\",\"blue\")\n",
    "        )"
   ]
  },
  {
   "cell_type": "markdown",
   "id": "0f6aee1d",
   "metadata": {},
   "source": [
    "> Target Column으로 Survived를 선정"
   ]
  },
  {
   "cell_type": "markdown",
   "id": "b7f92cdb",
   "metadata": {},
   "source": [
    "---\n",
    "# Feature column 찾기"
   ]
  },
  {
   "cell_type": "code",
   "execution_count": 18,
   "id": "11b87b1c",
   "metadata": {},
   "outputs": [
    {
     "data": {
      "text/html": [
       "<table>\n",
       "<thead><tr><th scope=col>PassengerId</th><th scope=col>Survived</th><th scope=col>Pclass</th><th scope=col>Name</th><th scope=col>Sex</th><th scope=col>Age</th><th scope=col>SibSp</th><th scope=col>Parch</th><th scope=col>Ticket</th><th scope=col>Fare</th><th scope=col>Cabin</th><th scope=col>Embarked</th></tr></thead>\n",
       "<tbody>\n",
       "\t<tr><td> 1                            </td><td>0                             </td><td>3                             </td><td>Braund, Mr. Owen Harris       </td><td>male                          </td><td>22                            </td><td>1                             </td><td>0                             </td><td>A/5 21171                     </td><td> 7.2500                       </td><td>                              </td><td>S                             </td></tr>\n",
       "\t<tr><td> 5                            </td><td>0                             </td><td>3                             </td><td>Allen, Mr. William Henry      </td><td>male                          </td><td>35                            </td><td>0                             </td><td>0                             </td><td>373450                        </td><td> 8.0500                       </td><td>                              </td><td>S                             </td></tr>\n",
       "\t<tr><td> 6                            </td><td>0                             </td><td>3                             </td><td>Moran, Mr. James              </td><td>male                          </td><td>NA                            </td><td>0                             </td><td>0                             </td><td>330877                        </td><td> 8.4583                       </td><td>                              </td><td>Q                             </td></tr>\n",
       "\t<tr><td> 7                            </td><td>0                             </td><td>1                             </td><td>McCarthy, Mr. Timothy J       </td><td>male                          </td><td>54                            </td><td>0                             </td><td>0                             </td><td>17463                         </td><td>51.8625                       </td><td>E46                           </td><td>S                             </td></tr>\n",
       "\t<tr><td> 8                            </td><td>0                             </td><td>3                             </td><td>Palsson, Master. Gosta Leonard</td><td>male                          </td><td> 2                            </td><td>3                             </td><td>1                             </td><td>349909                        </td><td>21.0750                       </td><td>                              </td><td>S                             </td></tr>\n",
       "\t<tr><td>13                            </td><td>0                             </td><td>3                             </td><td>Saundercock, Mr. William Henry</td><td>male                          </td><td>20                            </td><td>0                             </td><td>0                             </td><td>A/5. 2151                     </td><td> 8.0500                       </td><td>                              </td><td>S                             </td></tr>\n",
       "</tbody>\n",
       "</table>\n"
      ],
      "text/latex": [
       "\\begin{tabular}{r|llllllllllll}\n",
       " PassengerId & Survived & Pclass & Name & Sex & Age & SibSp & Parch & Ticket & Fare & Cabin & Embarked\\\\\n",
       "\\hline\n",
       "\t  1                             & 0                              & 3                              & Braund, Mr. Owen Harris        & male                           & 22                             & 1                              & 0                              & A/5 21171                      &  7.2500                        &                                & S                             \\\\\n",
       "\t  5                             & 0                              & 3                              & Allen, Mr. William Henry       & male                           & 35                             & 0                              & 0                              & 373450                         &  8.0500                        &                                & S                             \\\\\n",
       "\t  6                             & 0                              & 3                              & Moran, Mr. James               & male                           & NA                             & 0                              & 0                              & 330877                         &  8.4583                        &                                & Q                             \\\\\n",
       "\t  7                             & 0                              & 1                              & McCarthy, Mr. Timothy J        & male                           & 54                             & 0                              & 0                              & 17463                          & 51.8625                        & E46                            & S                             \\\\\n",
       "\t  8                             & 0                              & 3                              & Palsson, Master. Gosta Leonard & male                           &  2                             & 3                              & 1                              & 349909                         & 21.0750                        &                                & S                             \\\\\n",
       "\t 13                             & 0                              & 3                              & Saundercock, Mr. William Henry & male                           & 20                             & 0                              & 0                              & A/5. 2151                      &  8.0500                        &                                & S                             \\\\\n",
       "\\end{tabular}\n"
      ],
      "text/markdown": [
       "\n",
       "| PassengerId | Survived | Pclass | Name | Sex | Age | SibSp | Parch | Ticket | Fare | Cabin | Embarked |\n",
       "|---|---|---|---|---|---|---|---|---|---|---|---|\n",
       "|  1                             | 0                              | 3                              | Braund, Mr. Owen Harris        | male                           | 22                             | 1                              | 0                              | A/5 21171                      |  7.2500                        |                                | S                              |\n",
       "|  5                             | 0                              | 3                              | Allen, Mr. William Henry       | male                           | 35                             | 0                              | 0                              | 373450                         |  8.0500                        |                                | S                              |\n",
       "|  6                             | 0                              | 3                              | Moran, Mr. James               | male                           | NA                             | 0                              | 0                              | 330877                         |  8.4583                        |                                | Q                              |\n",
       "|  7                             | 0                              | 1                              | McCarthy, Mr. Timothy J        | male                           | 54                             | 0                              | 0                              | 17463                          | 51.8625                        | E46                            | S                              |\n",
       "|  8                             | 0                              | 3                              | Palsson, Master. Gosta Leonard | male                           |  2                             | 3                              | 1                              | 349909                         | 21.0750                        |                                | S                              |\n",
       "| 13                             | 0                              | 3                              | Saundercock, Mr. William Henry | male                           | 20                             | 0                              | 0                              | A/5. 2151                      |  8.0500                        |                                | S                              |\n",
       "\n"
      ],
      "text/plain": [
       "  PassengerId Survived Pclass Name                           Sex  Age SibSp\n",
       "1  1          0        3      Braund, Mr. Owen Harris        male 22  1    \n",
       "2  5          0        3      Allen, Mr. William Henry       male 35  0    \n",
       "3  6          0        3      Moran, Mr. James               male NA  0    \n",
       "4  7          0        1      McCarthy, Mr. Timothy J        male 54  0    \n",
       "5  8          0        3      Palsson, Master. Gosta Leonard male  2  3    \n",
       "6 13          0        3      Saundercock, Mr. William Henry male 20  0    \n",
       "  Parch Ticket    Fare    Cabin Embarked\n",
       "1 0     A/5 21171  7.2500       S       \n",
       "2 0     373450     8.0500       S       \n",
       "3 0     330877     8.4583       Q       \n",
       "4 0     17463     51.8625 E46   S       \n",
       "5 1     349909    21.0750       S       \n",
       "6 0     A/5. 2151  8.0500       S       "
      ]
     },
     "metadata": {},
     "output_type": "display_data"
    }
   ],
   "source": [
    "head(train_df)"
   ]
  },
  {
   "cell_type": "markdown",
   "id": "c28fd7ce",
   "metadata": {},
   "source": [
    "### Sex Column 확인"
   ]
  },
  {
   "cell_type": "code",
   "execution_count": 19,
   "id": "f6f33c49",
   "metadata": {},
   "outputs": [
    {
     "data": {
      "text/html": [
       "<ol class=list-inline>\n",
       "\t<li>male</li>\n",
       "\t<li>female</li>\n",
       "</ol>\n",
       "\n",
       "<details>\n",
       "\t<summary style=display:list-item;cursor:pointer>\n",
       "\t\t<strong>Levels</strong>:\n",
       "\t</summary>\n",
       "\t<ol class=list-inline>\n",
       "\t\t<li>'female'</li>\n",
       "\t\t<li>'male'</li>\n",
       "\t</ol>\n",
       "</details>"
      ],
      "text/latex": [
       "\\begin{enumerate*}\n",
       "\\item male\n",
       "\\item female\n",
       "\\end{enumerate*}\n",
       "\n",
       "\\emph{Levels}: \\begin{enumerate*}\n",
       "\\item 'female'\n",
       "\\item 'male'\n",
       "\\end{enumerate*}\n"
      ],
      "text/markdown": [
       "1. male\n",
       "2. female\n",
       "\n",
       "\n",
       "\n",
       "**Levels**: 1. 'female'\n",
       "2. 'male'\n",
       "\n",
       "\n"
      ],
      "text/plain": [
       "[1] male   female\n",
       "Levels: female male"
      ]
     },
     "metadata": {},
     "output_type": "display_data"
    }
   ],
   "source": [
    "# Sex 컬럼 분류 확인\n",
    "unique(train_df$Sex)"
   ]
  },
  {
   "cell_type": "code",
   "execution_count": 20,
   "id": "86d2de9a",
   "metadata": {},
   "outputs": [],
   "source": [
    "# 여성과 남성의 인원 확인\n",
    "femaleCount <- sum(train_df$Sex==\"female\")\n",
    "maleCount <- sum(train_df$Sex==\"male\")"
   ]
  },
  {
   "cell_type": "code",
   "execution_count": 21,
   "id": "5e8e64b6",
   "metadata": {},
   "outputs": [
    {
     "data": {
      "text/html": [
       "314"
      ],
      "text/latex": [
       "314"
      ],
      "text/markdown": [
       "314"
      ],
      "text/plain": [
       "[1] 314"
      ]
     },
     "metadata": {},
     "output_type": "display_data"
    },
    {
     "data": {
      "text/html": [
       "577"
      ],
      "text/latex": [
       "577"
      ],
      "text/markdown": [
       "577"
      ],
      "text/plain": [
       "[1] 577"
      ]
     },
     "metadata": {},
     "output_type": "display_data"
    }
   ],
   "source": [
    "femaleCount\n",
    "maleCount"
   ]
  },
  {
   "cell_type": "code",
   "execution_count": 22,
   "id": "2ababbc4",
   "metadata": {},
   "outputs": [
    {
     "data": {
      "text/html": [
       "233"
      ],
      "text/latex": [
       "233"
      ],
      "text/markdown": [
       "233"
      ],
      "text/plain": [
       "[1] 233"
      ]
     },
     "metadata": {},
     "output_type": "display_data"
    },
    {
     "data": {
      "text/html": [
       "81"
      ],
      "text/latex": [
       "81"
      ],
      "text/markdown": [
       "81"
      ],
      "text/plain": [
       "[1] 81"
      ]
     },
     "metadata": {},
     "output_type": "display_data"
    },
    {
     "data": {
      "text/html": [
       "233"
      ],
      "text/latex": [
       "233"
      ],
      "text/markdown": [
       "233"
      ],
      "text/plain": [
       "[1] 233"
      ]
     },
     "metadata": {},
     "output_type": "display_data"
    },
    {
     "data": {
      "text/html": [
       "81"
      ],
      "text/latex": [
       "81"
      ],
      "text/markdown": [
       "81"
      ],
      "text/plain": [
       "[1] 81"
      ]
     },
     "metadata": {},
     "output_type": "display_data"
    }
   ],
   "source": [
    "# 여성의 생존수와 사망수 \n",
    "nrow(subset(subset(train_df, Sex==\"female\"), subset(train_df, Sex==\"female\")$Survived==1))\n",
    "nrow(subset(subset(train_df, Sex==\"female\"), subset(train_df, Sex==\"female\")$Survived==0))\n",
    "\n",
    "femaleSurvived<-nrow(subset(train_df, (Sex==\"female\")&(Survived==1)));femaleSurvived\n",
    "femaleDeath<-nrow(subset(train_df, (Sex==\"female\")&(Survived==0)));femaleDeath"
   ]
  },
  {
   "cell_type": "code",
   "execution_count": 23,
   "id": "8fe67f47",
   "metadata": {},
   "outputs": [
    {
     "data": {
      "text/html": [
       "109"
      ],
      "text/latex": [
       "109"
      ],
      "text/markdown": [
       "109"
      ],
      "text/plain": [
       "[1] 109"
      ]
     },
     "metadata": {},
     "output_type": "display_data"
    },
    {
     "data": {
      "text/html": [
       "468"
      ],
      "text/latex": [
       "468"
      ],
      "text/markdown": [
       "468"
      ],
      "text/plain": [
       "[1] 468"
      ]
     },
     "metadata": {},
     "output_type": "display_data"
    },
    {
     "data": {
      "text/html": [
       "109"
      ],
      "text/latex": [
       "109"
      ],
      "text/markdown": [
       "109"
      ],
      "text/plain": [
       "[1] 109"
      ]
     },
     "metadata": {},
     "output_type": "display_data"
    },
    {
     "data": {
      "text/html": [
       "468"
      ],
      "text/latex": [
       "468"
      ],
      "text/markdown": [
       "468"
      ],
      "text/plain": [
       "[1] 468"
      ]
     },
     "metadata": {},
     "output_type": "display_data"
    }
   ],
   "source": [
    "# 남성의 생존수와 사망수\n",
    "nrow(subset(subset(train_df, Sex==\"male\"), subset(train_df, Sex==\"male\")$Survived==1))\n",
    "nrow(subset(subset(train_df, Sex==\"male\"), subset(train_df, Sex==\"male\")$Survived==0))\n",
    "maleSurvived<-nrow(subset(train_df, (Sex==\"male\")&(Survived==1)));maleSurvived\n",
    "maleDeath<-nrow(subset(train_df, (Sex==\"male\")&(Survived==0)));maleDeath"
   ]
  },
  {
   "cell_type": "code",
   "execution_count": 24,
   "id": "4f55edc8",
   "metadata": {},
   "outputs": [
    {
     "data": {
      "text/html": [
       "0.74203821656051"
      ],
      "text/latex": [
       "0.74203821656051"
      ],
      "text/markdown": [
       "0.74203821656051"
      ],
      "text/plain": [
       "[1] 0.7420382"
      ]
     },
     "metadata": {},
     "output_type": "display_data"
    }
   ],
   "source": [
    "233/(233+81)"
   ]
  },
  {
   "cell_type": "code",
   "execution_count": 25,
   "id": "ca328b37",
   "metadata": {},
   "outputs": [
    {
     "data": {
      "text/html": [
       "0.188908145580589"
      ],
      "text/latex": [
       "0.188908145580589"
      ],
      "text/markdown": [
       "0.188908145580589"
      ],
      "text/plain": [
       "[1] 0.1889081"
      ]
     },
     "metadata": {},
     "output_type": "display_data"
    }
   ],
   "source": [
    "109/(109+468)"
   ]
  },
  {
   "cell_type": "code",
   "execution_count": 26,
   "id": "822cbbe5",
   "metadata": {},
   "outputs": [
    {
     "name": "stdout",
     "output_type": "stream",
     "text": [
      "여성의 생존율: 74.2 % \n",
      "여성의 사망율: 25.8 % \n"
     ]
    }
   ],
   "source": [
    "# 여성의 생존율과 사망율\n",
    "cat(\"여성의 생존율:\",round(femaleSurvived/(femaleSurvived + femaleDeath)*100,2),\"%\",\"\\n\")\n",
    "  cat(\"여성의 사망율:\",round(femaleDeath/(femaleSurvived + femaleDeath)*100,2),\"%\",\"\\n\")\n",
    "    \n",
    "    \n",
    "    "
   ]
  },
  {
   "cell_type": "code",
   "execution_count": 27,
   "id": "84dd0c5f",
   "metadata": {},
   "outputs": [
    {
     "name": "stdout",
     "output_type": "stream",
     "text": [
      "남성의 생존율: 18.89 % \n",
      "남성의 사망율: 81.11 % \n"
     ]
    }
   ],
   "source": [
    "cat(\"남성의 생존율:\",round(maleSurvived/(maleSurvived + maleDeath)*100,2),\"%\",\"\\n\")\n",
    "cat(\"남성의 사망율:\",round(maleDeath/(maleSurvived + maleDeath)*100,2),\"%\",\"\\n\")\n",
    "    \n",
    "    "
   ]
  },
  {
   "cell_type": "markdown",
   "id": "c47c908c",
   "metadata": {},
   "source": [
    "> Sex 컬럼은 Feature로 적합\n",
    "\n",
    "> [Survived]<-[Sex]"
   ]
  },
  {
   "cell_type": "code",
   "execution_count": 28,
   "id": "a64512b7",
   "metadata": {},
   "outputs": [
    {
     "data": {
      "image/png": "[encoded data removed]",
      "text/plain": [
       "Plot with title “타이타닉호 남성 생존율”"
      ]
     },
     "metadata": {},
     "output_type": "display_data"
    }
   ],
   "source": [
    "liveVector_m<-c(maleDeath, maleSurvived)\n",
    "ratio<-round(liveVector_m/sum(liveVector_m)*100,2)\n",
    "label <- paste(c(\"사망\",\"생존\"),\"\\n\",ratio,\"%\")\n",
    "\n",
    "options(warn=-1)\n",
    "par(family=\"AppleGothic\")\n",
    "pie3D(liveVector_m,\n",
    "     main=\"타이타닉호 남성 생존율\",\n",
    "      labels=label,\n",
    "      explode=0.05\n",
    "    )"
   ]
  },
  {
   "cell_type": "code",
   "execution_count": 29,
   "id": "302cc654",
   "metadata": {},
   "outputs": [
    {
     "data": {
      "image/png": "[encoded data removed]",
      "text/plain": [
       "Plot with title “타이타닉호 여성 생존율”"
      ]
     },
     "metadata": {},
     "output_type": "display_data"
    }
   ],
   "source": [
    "liveVector_f<-c(femaleDeath, femaleSurvived)\n",
    "ratio<-round(liveVector_f/sum(liveVector_f)*100,2)\n",
    "label <- paste(c(\"사망\",\"생존\"),\"\\n\",ratio,\"%\")\n",
    "\n",
    "options(warn=-1)\n",
    "par(family=\"AppleGothic\")\n",
    "pie3D(liveVector_f,\n",
    "     main=\"타이타닉호 여성 생존율\",\n",
    "      labels=label,\n",
    "      explode=0.05\n",
    "    )"
   ]
  },
  {
   "cell_type": "code",
   "execution_count": null,
   "id": "e25e6fbb",
   "metadata": {},
   "outputs": [],
   "source": []
  },
  {
   "cell_type": "code",
   "execution_count": 30,
   "id": "c4a231c4",
   "metadata": {},
   "outputs": [
    {
     "data": {
      "image/png": "[encoded data removed]",
      "text/plain": [
       "Plot with title “성별 승선 인원수”"
      ]
     },
     "metadata": {},
     "output_type": "display_data"
    }
   ],
   "source": [
    "# 막대그래프\n",
    "\n",
    "par(family=\"AppleGothic\")\n",
    "barplot(table(train_df$Sex),\n",
    "        ylim=c(0,600),\n",
    "        names=c(\"여성\",\"남성\"),\n",
    "        main=\"성별 승선 인원수\",\n",
    "        ylab=\"승선인원수\",\n",
    "        col=c(\"red\",\"blue\")\n",
    "        )\n"
   ]
  },
  {
   "cell_type": "code",
   "execution_count": 31,
   "id": "e50e714f",
   "metadata": {},
   "outputs": [
    {
     "ename": "ERROR",
     "evalue": "Error in pie3D(survivedVector, main = \"타이타닉호 생존율\", labels = label, : 객체 'survivedVector'를 찾을 수 없습니다\n",
     "output_type": "error",
     "traceback": [
      "Error in pie3D(survivedVector, main = \"타이타닉호 생존율\", labels = label, : 객체 'survivedVector'를 찾을 수 없습니다\nTraceback:\n",
      "1. pie3D(survivedVector, main = \"타이타닉호 생존율\", labels = label, \n .     explode = 0.05, labelcex = 0.5)"
     ]
    }
   ],
   "source": [
    "options(warn=-1)\n",
    "par(mfrow =c(3,2))\n",
    "par(family=\"AppleGothic\")\n",
    "pie3D(survivedVector,\n",
    "     main=\"타이타닉호 생존율\",\n",
    "      labels=label,\n",
    "      explode=0.05,\n",
    "      labelcex = 0.5\n",
    "    )\n",
    "barplot(survivedVector,\n",
    "       ylim=c(0,600),\n",
    "       names=c(\"사망\",\"생존\"),\n",
    "        main=\"타이타닉호 사망수와 생존수\",\n",
    "       ylab=\"인원수\",\n",
    "       col=c(\"red\",\"blue\"),\n",
    "       \n",
    "      )\n",
    "text(0.7,deathCount+30,deathCount)\n",
    "text(1.9,liveCount+30,liveCount)\n",
    "par(family=\"AppldeathCount,liveCounteGothic\")\n",
    "pie3D(liveVector_m,\n",
    "     main=\"타이타닉호 남성 생존율\",\n",
    "      labels=label,\n",
    "      explode=0.05,\n",
    "      labelcex = 0.5\n",
    "    )\n",
    "par(family=\"AppleGothic\")\n",
    "pie3D(liveVector_f,\n",
    "     main=\"타이타닉호 여성 생존율\",\n",
    "      labels=label,\n",
    "      explode=0.05,\n",
    "      labelcex = 0.5\n",
    "    )\n",
    "\n",
    "barplot(table(train_df$Sex),\n",
    "        ylim=c(0,600),\n",
    "        names=c(\"여성\",\"남성\"),\n",
    "        main=\"성별 승선 인원수\",\n",
    "        ylab=\"승선인원수\",\n",
    "        col=c(\"red\",\"blue\")\n",
    "        )\n",
    "#text(0.7,deathCount+30,deathCount)\n",
    "#text(1.9,liveCount+30,liveCount)"
   ]
  },
  {
   "cell_type": "markdown",
   "id": "d9170e5f",
   "metadata": {},
   "source": [
    "---\n",
    "### 티켓 등급 분석"
   ]
  },
  {
   "cell_type": "code",
   "execution_count": null,
   "id": "c55ad286",
   "metadata": {},
   "outputs": [],
   "source": [
    "table(train_df$Pclass) #surived와 연관시켜서 봐야함"
   ]
  },
  {
   "cell_type": "code",
   "execution_count": null,
   "id": "66346248",
   "metadata": {},
   "outputs": [],
   "source": [
    "str(train_df)"
   ]
  },
  {
   "cell_type": "code",
   "execution_count": null,
   "id": "77042301",
   "metadata": {},
   "outputs": [],
   "source": [
    "# 1등 객실의 여성 생존율\n",
    "f1_survived<-nrow(subset(train_df,(train_df$Pclass==i)&(train_df$Sex==\"j\")&(train_df$Survived==1)))\n"
   ]
  },
  {
   "cell_type": "code",
   "execution_count": null,
   "id": "9d38001b",
   "metadata": {},
   "outputs": [],
   "source": [
    "f1_death<-nrow(subset(train_df,(train_df$Pclass==i)&(train_df$Sex==\"female\")&(train_df$Survived==0)))"
   ]
  },
  {
   "cell_type": "code",
   "execution_count": null,
   "id": "7e5ada6a",
   "metadata": {},
   "outputs": [],
   "source": [
    "cat(\"1등 객실의 여성 생존율은\",f1_survived,\"/\",f1_survived+f1_death,\",\" ,round(f1_survived/(f1_survived+f1_death)*100,2),\"%\")\n"
   ]
  },
  {
   "cell_type": "code",
   "execution_count": null,
   "id": "b385783c",
   "metadata": {},
   "outputs": [],
   "source": [
    "for(j in c(\"female\", \"male\")){\n",
    "for(i in 1:3){\n",
    "    \n",
    "    f1_survived<-nrow(subset(train_df,(train_df$Pclass==i)&(train_df$Sex==j)&(train_df$Survived==1)))\n",
    "    f1_death<-nrow(subset(train_df,(train_df$Pclass==i)&(train_df$Sex==j)&(train_df$Survived==0)))\n",
    "     cat(i,\"등 객실의\",ifelse(j==\"female\", \"여성\", \"남성\"), \"생존율은\",\n",
    "         f1_survived,\"/\",f1_survived+f1_death,\",\" ,round(f1_survived/(f1_survived+f1_death)*100,2),\"%\",\"\\n\")\n",
    "    \n",
    "    }\n",
    "    cat(\"-------------------------------------\\n\")\n",
    "    }"
   ]
  },
  {
   "cell_type": "code",
   "execution_count": null,
   "id": "c6eafd44",
   "metadata": {},
   "outputs": [],
   "source": [
    "class_survived<-c()\n",
    "for(j in c(\"female\", \"male\")){\n",
    "    for(i in 1:3){\n",
    "    \n",
    "        f1_survived<-nrow(subset(train_df,(train_df$Pclass==i)&(train_df$Sex==j)&(train_df$Survived==1)))\n",
    "        f1_death<-nrow(subset(train_df,(train_df$Pclass==i)&(train_df$Sex==j)&(train_df$Survived==0)))\n",
    "         cat(i,\"등 객실의\",ifelse(j==\"female\", \"여성\", \"남성\"), \"생존율은\",\n",
    "             f1_survived,\"/\",f1_survived+f1_death,\",\" ,round(f1_survived/(f1_survived+f1_death)*100,2),\"%\",\"\\n\")\n",
    "        class_survived<-append(class_survived, round(f1_survived/(f1_survived+f1_death)*100,2))\n",
    "        }\n",
    "        cat(\"-------------------------------------\\n\")\n",
    "}\n",
    "class_survived"
   ]
  },
  {
   "cell_type": "code",
   "execution_count": null,
   "id": "f331f08c",
   "metadata": {},
   "outputs": [],
   "source": [
    "\n",
    "par(family=\"AppleGothic\")\n",
    "barplot(class_survived,\n",
    "        xlab=\"객실등급\",\n",
    "        ylab=\"생존율\",\n",
    "        ylim=c(0,100),\n",
    "        main=\"객실 등급별 생존율\",\n",
    "        density=c(rep(10,3),rep(100,3)),\n",
    "        border=c(rep(\"red\",3),rep(\"blue\",3)),\n",
    "        names=c(\"1(여)\",\"\",\"3(여)\",\"\",\"2(남)\",\"\")\n",
    "        \n",
    "       )\n",
    "\n",
    "for(i in 1:6){\n",
    "   \n",
    "    text(0.7 + 1.2*(i-1), class_survived[i]-5, class_survived[i])\n",
    "}"
   ]
  },
  {
   "cell_type": "markdown",
   "id": "28a2f5c8",
   "metadata": {},
   "source": [
    "---\n",
    "### Embarked(항구의 위치)"
   ]
  },
  {
   "cell_type": "code",
   "execution_count": null,
   "id": "9d41e4f0",
   "metadata": {},
   "outputs": [],
   "source": [
    "str(train_df)"
   ]
  },
  {
   "cell_type": "code",
   "execution_count": null,
   "id": "00af94fc",
   "metadata": {},
   "outputs": [],
   "source": [
    "table(train_df$Embarked) \n",
    "unique(train_df$Embarked) "
   ]
  },
  {
   "cell_type": "code",
   "execution_count": null,
   "id": "7045b2eb",
   "metadata": {},
   "outputs": [],
   "source": [
    "# 빈 칸의 데이터 찾기\n",
    "subset(train_df, Embarked==\"\")"
   ]
  },
  {
   "cell_type": "code",
   "execution_count": null,
   "id": "17ce0ec3",
   "metadata": {},
   "outputs": [],
   "source": [
    "# 제일 많은 운임을 지불한 사람\n",
    "\n",
    "subset(train_df, Fare == max(train_df$Fare))"
   ]
  },
  {
   "cell_type": "code",
   "execution_count": null,
   "id": "92b495f9",
   "metadata": {},
   "outputs": [],
   "source": [
    "mean(train_df$Fare)"
   ]
  },
  {
   "cell_type": "code",
   "execution_count": null,
   "id": "f9af8a7e",
   "metadata": {},
   "outputs": [],
   "source": [
    "# 항구별 탑승인원을 구하여 가장 많은 탑승인원의 항구로 결정\n",
    "# S항구 탑승인원\n",
    "sum(train_df$Embarked==\"S\")\n",
    "# C항구 탑승인원\n",
    "sum(train_df$Embarked==\"C\")\n",
    "# Q항구 탑승인원\n",
    "sum(train_df$Embarked==\"Q\")"
   ]
  },
  {
   "cell_type": "markdown",
   "id": "acf9426b",
   "metadata": {},
   "source": [
    "> 빈 값 항구를 S항구로 변경"
   ]
  },
  {
   "cell_type": "code",
   "execution_count": null,
   "id": "9f99b601",
   "metadata": {},
   "outputs": [],
   "source": [
    "# 연습을 위한 데이터셋 복제\n",
    "train_df_T <-train_df"
   ]
  },
  {
   "cell_type": "code",
   "execution_count": null,
   "id": "f6d8f381",
   "metadata": {},
   "outputs": [],
   "source": [
    "# 빈 칸 항구 찾기-1\n",
    "subset(train_df_T, Embarked==\"\")"
   ]
  },
  {
   "cell_type": "code",
   "execution_count": null,
   "id": "01c342b5",
   "metadata": {},
   "outputs": [],
   "source": [
    "# 빈 칸 항구 찾기-2 T/F\n",
    "train_df_T[train_df_T$Embarked==\"\",]"
   ]
  },
  {
   "cell_type": "code",
   "execution_count": null,
   "id": "af0c8270",
   "metadata": {},
   "outputs": [],
   "source": [
    "# 빈 칸 항구를 S항구로 변경 - 1\n",
    "train_df_T$Embarked <- ifelse(train_df_T$Embarked == \"\", 'S', train_df_T$Embarked)"
   ]
  },
  {
   "cell_type": "code",
   "execution_count": null,
   "id": "2b92265e",
   "metadata": {},
   "outputs": [],
   "source": [
    "train_df_T[train_df_T$Embarked==\"\",]"
   ]
  },
  {
   "cell_type": "code",
   "execution_count": null,
   "id": "df0cd2f0",
   "metadata": {},
   "outputs": [],
   "source": [
    "# 빈 칸 항구를 S항구로 변경 - 2\n",
    "train_df_T<-train_df"
   ]
  },
  {
   "cell_type": "code",
   "execution_count": null,
   "id": "2b0d4ec4",
   "metadata": {},
   "outputs": [],
   "source": [
    "train_df_T[train_df_T$Embarked==\"\",]"
   ]
  },
  {
   "cell_type": "code",
   "execution_count": null,
   "id": "44243c6a",
   "metadata": {},
   "outputs": [],
   "source": [
    "train_df_T[train_df_T$Embarked == \"\",]$Embarked <-\"S\""
   ]
  },
  {
   "cell_type": "code",
   "execution_count": null,
   "id": "4b9968aa",
   "metadata": {},
   "outputs": [],
   "source": [
    "train_df_T[train_df_T$Embarked==\"\",]"
   ]
  },
  {
   "cell_type": "code",
   "execution_count": null,
   "id": "29e141b4",
   "metadata": {},
   "outputs": [],
   "source": [
    "# 빈 칸 항구를 S항구로 변경 - 3\n",
    "train_df_T<-train_df"
   ]
  },
  {
   "cell_type": "code",
   "execution_count": null,
   "id": "47420094",
   "metadata": {},
   "outputs": [],
   "source": [
    "train_df_T$Embarked[train_df_T$Embarked == \"\"]<-\"S\""
   ]
  },
  {
   "cell_type": "code",
   "execution_count": null,
   "id": "f428b2bf",
   "metadata": {},
   "outputs": [],
   "source": [
    "train_df$Embarked[train_df$Embarked == \"\"]<-\"S\""
   ]
  },
  {
   "cell_type": "code",
   "execution_count": null,
   "id": "ebf26fbe",
   "metadata": {},
   "outputs": [],
   "source": [
    "sum(train_df$Embarked==\"S\")"
   ]
  },
  {
   "cell_type": "code",
   "execution_count": null,
   "id": "3888e2a0",
   "metadata": {},
   "outputs": [],
   "source": [
    "str(train_df)"
   ]
  },
  {
   "cell_type": "code",
   "execution_count": null,
   "id": "e41e82aa",
   "metadata": {},
   "outputs": [],
   "source": [
    "train_df$Embarked <-factor(train_df$Embarked)\n",
    "str(train_df)"
   ]
  },
  {
   "cell_type": "code",
   "execution_count": null,
   "id": "07349b0d",
   "metadata": {},
   "outputs": [],
   "source": [
    "# 항구별 승선 인원\n",
    "\n",
    "table(train_df$Embarked)"
   ]
  },
  {
   "cell_type": "code",
   "execution_count": null,
   "id": "460464a5",
   "metadata": {},
   "outputs": [],
   "source": [
    "par(family=\"AppleGothic\")\n",
    "barplot(table(train_df$Embarked),\n",
    "       col=c(\"blue\",\"red\",'yellow'),\n",
    "        main=\"항구별 승선 인원\",\n",
    "        xlab=\"항구별\",\n",
    "        ylab=\"인원수\",\n",
    "        ylim=c(0,700)\n",
    "       )"
   ]
  },
  {
   "cell_type": "code",
   "execution_count": null,
   "id": "88179e83",
   "metadata": {},
   "outputs": [],
   "source": [
    "# 항구별 성별 승선 인원\n",
    "table(train_df$Embarked, train_df$Sex)"
   ]
  },
  {
   "cell_type": "code",
   "execution_count": null,
   "id": "2a57eed1",
   "metadata": {},
   "outputs": [],
   "source": [
    "par(family=\"AppleGothic\")\n",
    "barplot(t(table(train_df$Embarked, train_df$Sex)),\n",
    "       beside=T,\n",
    "       col=c(\"red\",\"blue\"),\n",
    "         main=\"항구별/성별 승선 인원\",\n",
    "        xlab=\"항구별/성별\",\n",
    "        ylab=\"인원수\",\n",
    "        ylim=c(0,500),\n",
    "       \n",
    "        )\n",
    "legend(2,450,\n",
    "      c(\"female\",\"male\"),\n",
    "#       cex =0.7,\n",
    "      fill = c(\"red\",\"blue\")\n",
    "      )"
   ]
  },
  {
   "cell_type": "code",
   "execution_count": null,
   "id": "8e8a753b",
   "metadata": {},
   "outputs": [],
   "source": [
    "# 항구별 생존 인원\n",
    "table(train_df$Embarked, train_df$Survived)"
   ]
  },
  {
   "cell_type": "code",
   "execution_count": null,
   "id": "472c5ed3",
   "metadata": {},
   "outputs": [],
   "source": [
    "par(family=\"AppleGothic\")\n",
    "barplot(t(table(train_df$Embarked, train_df$Survived)),\n",
    "          beside=T,\n",
    "                 col=c(\"red\",\"blue\"),\n",
    "         main=\"항구별 생존 인원\",\n",
    "        xlab=\"항구별/생존여부\",\n",
    "        ylab=\"인원수\",\n",
    "        ylim=c(0,500),\n",
    "       \n",
    "        )\n",
    "legend(2,450,\n",
    "      c(\"death\",\"survive\"),\n",
    "#       cex =0.7,\n",
    "      fill = c(\"red\",\"blue\")\n",
    "      )\n",
    "        "
   ]
  },
  {
   "cell_type": "code",
   "execution_count": null,
   "id": "f774ca7e",
   "metadata": {},
   "outputs": [],
   "source": [
    "# 항구별 객실 등급별 인원\n",
    "\n",
    "par(family=\"AppleGothic\")\n",
    "barplot(t(table(train_df$Embarked, train_df$Pclass)),\n",
    "          beside=T,\n",
    "                 col=c(\"red\",\"blue\",\"yellow\"),\n",
    "         main=\"항구별/객실 등급별 인원\",\n",
    "        xlab=\"항구별/객실 등급\",\n",
    "        ylab=\"인원수\",\n",
    "        ylim=c(0,500),\n",
    "       \n",
    "        )\n",
    "legend(2,450,\n",
    "      c(\"1\",\"2\",\"3\"),\n",
    "#       cex =0.7,\n",
    "      fill = c(\"red\",\"blue\",'yellow')\n",
    "      )"
   ]
  },
  {
   "cell_type": "code",
   "execution_count": null,
   "id": "76d3d56d",
   "metadata": {},
   "outputs": [],
   "source": [
    "options(warn=-1)\n",
    "par(mfrow =c(2,2))\n",
    "par(family=\"AppleGothic\")\n",
    "\n",
    "barplot(table(train_df$Embarked),\n",
    "       col=c(\"blue\",\"red\",'yellow'),\n",
    "        main=\"항구별 승선 인원\",\n",
    "        xlab=\"항구별\",\n",
    "        ylab=\"인원수\",\n",
    "        ylim=c(0,700)\n",
    "       )\n",
    "\n",
    "barplot(t(table(train_df$Embarked, train_df$Sex)),\n",
    "       beside=T,\n",
    "       col=c(\"red\",\"blue\"),\n",
    "         main=\"항구별/성별 승선 인원\",\n",
    "        xlab=\"항구별/성별\",\n",
    "        ylab=\"인원수\",\n",
    "        ylim=c(0,500),\n",
    "       \n",
    "        )\n",
    "legend(2,450,\n",
    "      c(\"female\",\"male\"),\n",
    "#       cex =0.7,\n",
    "      fill = c(\"red\",\"blue\")\n",
    "      )\n",
    "\n",
    "\n",
    "barplot(t(table(train_df$Embarked, train_df$Survived)),\n",
    "          beside=T,\n",
    "                 col=c(\"red\",\"blue\"),\n",
    "         main=\"항구별 생존 인원\",\n",
    "        xlab=\"항구별/생존여부\",\n",
    "        ylab=\"인원수\",\n",
    "        ylim=c(0,500),\n",
    "       \n",
    "        )\n",
    "legend(2,450,\n",
    "      c(\"death\",\"survive\"),\n",
    "#       cex =0.7,\n",
    "      fill = c(\"red\",\"blue\")\n",
    "      )\n",
    "\n",
    "\n",
    "\n",
    "\n",
    "\n",
    "barplot(t(table(train_df$Embarked, train_df$Pclass)),\n",
    "          beside=T,\n",
    "                 col=c(\"red\",\"blue\",\"yellow\"),\n",
    "         main=\"항구별/객실 등급별 인원\",\n",
    "        xlab=\"항구별/객실 등급\",\n",
    "        ylab=\"인원수\",\n",
    "        ylim=c(0,500),\n",
    "       \n",
    "        )\n",
    "legend(2,450,\n",
    "      c(\"1\",\"2\",\"3\"),\n",
    "#       cex =0.7,\n",
    "      fill = c(\"red\",\"blue\",'yellow')\n",
    "      )\n",
    "\n"
   ]
  },
  {
   "cell_type": "markdown",
   "id": "6e26ee9a",
   "metadata": {},
   "source": [
    "---\n",
    "# RandomForest로 예측모델 생성"
   ]
  },
  {
   "cell_type": "code",
   "execution_count": null,
   "id": "1009e992",
   "metadata": {},
   "outputs": [],
   "source": [
    "train_df_T <-train_df\n",
    "\n",
    "target_col <- c(\"Survived\",\"Sex\",\"Pclass\",\"Embarked\")\n",
    "head(train_df_T[,target_col])\n",
    "\n",
    "train_df_T$SexCode[train_df_T$Sex==\"male\"] <-0\n",
    "train_df_T$SexCode[train_df_T$Sex==\"female\"] <-1\n",
    "\n",
    "subset(train_df_T, select= -Sex)\n",
    "head(train_df_T)\n",
    "\n",
    "target_col <-c(\"Survived\",\"Sex\",\"Pclass\",\"Embarked\")\n",
    "head(train_df_T[target_col])\n",
    "\n",
    "train_df_T$Embarked_C = train_df_T$Embarked ==\"C\"\n",
    "train_df_T$Embarked_S = train_df_T$Embarked ==\"S\"\n",
    "train_df_T$Embarked_Q = train_df_T$Embarked ==\"Q\"\n",
    "\n",
    "head(train_df_T[c(\"Embarked\",'Embarked_C','Embarked_S','Embarked_Q')])\n",
    "\n",
    "target_col = c(\"Survived\", \"Pclass\",\"SexCode\",'Embarked_C','Embarked_S','Embarked_Q')\n",
    "head(train_df_T[,target_col])"
   ]
  },
  {
   "cell_type": "code",
   "execution_count": null,
   "id": "f194a490",
   "metadata": {},
   "outputs": [],
   "source": [
    "# 복사본\n",
    "train_df_T <-train_df"
   ]
  },
  {
   "cell_type": "code",
   "execution_count": null,
   "id": "dc41c916",
   "metadata": {},
   "outputs": [],
   "source": [
    "# 예측을 위한 컬럼 확인\n",
    "target_col <- c(\"Survived\",\"Sex\",\"Pclass\",\"Embarked\")\n",
    "head(train_df_T[,target_col])\n",
    "\n",
    "head(train_df_T)\n",
    "tail(train_df_T)"
   ]
  },
  {
   "cell_type": "code",
   "execution_count": null,
   "id": "fca03533",
   "metadata": {},
   "outputs": [],
   "source": [
    "# Sex 컬럼을 숫자로 전환\n",
    "train_df_T$SexCode[train_df_T$Sex==\"male\"] <-0\n",
    "train_df_T$SexCode[train_df_T$Sex==\"female\"] <-1"
   ]
  },
  {
   "cell_type": "code",
   "execution_count": null,
   "id": "68bb4240",
   "metadata": {},
   "outputs": [],
   "source": [
    "head(train_df_T)\n",
    "tail(train_df_T)"
   ]
  },
  {
   "cell_type": "code",
   "execution_count": null,
   "id": "d37af39c",
   "metadata": {},
   "outputs": [],
   "source": [
    "# Sex컬럼 삭제\n",
    "subset(train_df_T, select= -Sex)\n",
    "head(train_df_T)"
   ]
  },
  {
   "cell_type": "code",
   "execution_count": null,
   "id": "4dc4a3a9",
   "metadata": {},
   "outputs": [],
   "source": [
    "target_col <-c(\"Survived\",\"Sex\",\"Pclass\",\"Embarked\")\n",
    "head(train_df_T[target_col])"
   ]
  },
  {
   "cell_type": "markdown",
   "id": "ba199084",
   "metadata": {},
   "source": [
    "#Embarked를 숫자로 전환\n",
    "C=0, S=1, Q=2 -> 맞긴 맞지만 좋은 생각이 아님.\n",
    "2 * S = Q ?\n",
    "S + S = Q ?\n",
    "\n",
    "### One-Hot Encoding 방법\n",
    "C == [1,0,0]\n",
    "S == [0,1,0]\n",
    "P == [0,0,1]\n",
    "처럼 행렬로 만들면 덧셈과 뺄셈 등 각각의 계산에 안전해짐.\n",
    "R은 내부적으로 1은 True, 0은 False."
   ]
  },
  {
   "cell_type": "code",
   "execution_count": null,
   "id": "b9eb1701",
   "metadata": {},
   "outputs": [],
   "source": [
    "#T/F\n",
    "train_df_T$Embarked_C = train_df_T$Embarked ==\"C\"\n",
    "train_df_T$Embarked_S = train_df_T$Embarked ==\"S\"\n",
    "train_df_T$Embarked_Q = train_df_T$Embarked ==\"Q\"\n",
    "\n",
    "head(train_df_T[c(\"Embarked\",'Embarked_C','Embarked_S','Embarked_Q')])"
   ]
  },
  {
   "cell_type": "code",
   "execution_count": null,
   "id": "d2c045e1",
   "metadata": {},
   "outputs": [],
   "source": [
    "target_col = c(\"Survived\", \"Pclass\",\"SexCode\",'Embarked_C','Embarked_S','Embarked_Q')\n",
    "head(train_df_T[,target_col])"
   ]
  },
  {
   "cell_type": "code",
   "execution_count": null,
   "id": "e1aa3d52",
   "metadata": {},
   "outputs": [],
   "source": [
    "train_df_P<-train_df"
   ]
  },
  {
   "cell_type": "code",
   "execution_count": null,
   "id": "07a49456",
   "metadata": {},
   "outputs": [],
   "source": [
    "target_col_2 = c(\"Survived\", \"Pclass\",\"SexCode\",'Embarked_C','Embarked_S','Embarked_Q','Age')\n",
    "head(train_df_P[,target_col])\n",
    "train_data_P <- train_df_P[,target_col]"
   ]
  },
  {
   "cell_type": "code",
   "execution_count": null,
   "id": "314b50c1",
   "metadata": {},
   "outputs": [],
   "source": [
    "train_data <- train_df_T[,target_col]"
   ]
  },
  {
   "cell_type": "code",
   "execution_count": null,
   "id": "376d497c",
   "metadata": {},
   "outputs": [],
   "source": [
    "head(train_data )"
   ]
  },
  {
   "cell_type": "code",
   "execution_count": null,
   "id": "1f8a4125",
   "metadata": {},
   "outputs": [],
   "source": [
    "str(train_data )"
   ]
  },
  {
   "cell_type": "code",
   "execution_count": null,
   "id": "b00071e5",
   "metadata": {},
   "outputs": [],
   "source": [
    "str(target_col)"
   ]
  },
  {
   "cell_type": "code",
   "execution_count": null,
   "id": "2d29059c",
   "metadata": {},
   "outputs": [],
   "source": [
    "# Sampling\n",
    "set.seed(1234)\n",
    "library(caret)\n",
    "samp<-createDataPartition(train_data$Survived, p=0.7, list=F) #0.7~0.8 데이터가 매우 많으면 5:5 도 괜찮.\n"
   ]
  },
  {
   "cell_type": "code",
   "execution_count": null,
   "id": "318fb3bf",
   "metadata": {},
   "outputs": [],
   "source": [
    "# 학습용\n",
    "data.train<-train_data[samp,]"
   ]
  },
  {
   "cell_type": "code",
   "execution_count": null,
   "id": "0e15fe47",
   "metadata": {},
   "outputs": [],
   "source": [
    "# 검증용\n",
    "data.test<-train_data[-samp,]"
   ]
  },
  {
   "cell_type": "code",
   "execution_count": null,
   "id": "9e6dbcf4",
   "metadata": {},
   "outputs": [],
   "source": [
    "library(randomForest)"
   ]
  },
  {
   "cell_type": "code",
   "execution_count": null,
   "id": "3e85cdb8",
   "metadata": {},
   "outputs": [],
   "source": [
    "model.rf<-randomForest(Survived~., data=data.train, ntree=100) # ctree 몇개?, 기본=100"
   ]
  },
  {
   "cell_type": "code",
   "execution_count": null,
   "id": "820515f1",
   "metadata": {},
   "outputs": [],
   "source": [
    "x <- subset(data.test, select=-Survived)\n",
    "y <- data.test$Survived"
   ]
  },
  {
   "cell_type": "code",
   "execution_count": null,
   "id": "aeda3854",
   "metadata": {},
   "outputs": [],
   "source": [
    "# 주관식\n",
    "pred <- predict(model.rf, x)\n",
    "head(pred)"
   ]
  },
  {
   "cell_type": "code",
   "execution_count": null,
   "id": "00885008",
   "metadata": {},
   "outputs": [],
   "source": [
    "mean(pred==y)"
   ]
  },
  {
   "cell_type": "code",
   "execution_count": null,
   "id": "15fba5c6",
   "metadata": {},
   "outputs": [],
   "source": [
    "pred[pred <=0.5] <-0\n",
    "pred[pred > 0.5] <-1\n",
    "head(pred)"
   ]
  },
  {
   "cell_type": "code",
   "execution_count": null,
   "id": "d32e2b1d",
   "metadata": {},
   "outputs": [],
   "source": [
    "mean(pred==y)\n",
    "table(pred,y)"
   ]
  },
  {
   "cell_type": "markdown",
   "id": "197e11e9",
   "metadata": {},
   "source": [
    "---\n",
    "# Survived를 factor로 변환 후에 randomForeset 실행"
   ]
  },
  {
   "cell_type": "code",
   "execution_count": null,
   "id": "108c1875",
   "metadata": {},
   "outputs": [],
   "source": [
    "data.train$Survived <-as.factor(data.train$Survived)\n",
    "data.test$Survived <-as.factor(data.test$Survived)"
   ]
  },
  {
   "cell_type": "code",
   "execution_count": null,
   "id": "f4f58fc0",
   "metadata": {},
   "outputs": [],
   "source": [
    "rf <- randomForest(Survived~., data=data.train, ntree=100)"
   ]
  },
  {
   "cell_type": "code",
   "execution_count": null,
   "id": "88fab7cf",
   "metadata": {},
   "outputs": [],
   "source": [
    "x<-subset(data.test, select = -Survived)\n",
    "y<- data.test$Survived"
   ]
  },
  {
   "cell_type": "code",
   "execution_count": null,
   "id": "e21dcbea",
   "metadata": {},
   "outputs": [],
   "source": [
    "pred <- predict(rf, x)\n",
    "head(pred)"
   ]
  },
  {
   "cell_type": "code",
   "execution_count": null,
   "id": "aef95188",
   "metadata": {},
   "outputs": [],
   "source": [
    "pred <- predict(rf, x)\n"
   ]
  },
  {
   "cell_type": "code",
   "execution_count": null,
   "id": "d9e19182",
   "metadata": {},
   "outputs": [],
   "source": [
    "table(pred,y)"
   ]
  },
  {
   "cell_type": "code",
   "execution_count": null,
   "id": "d12b8bf6",
   "metadata": {},
   "outputs": [],
   "source": [
    "library(nnet)"
   ]
  },
  {
   "cell_type": "code",
   "execution_count": null,
   "id": "122fb394",
   "metadata": {},
   "outputs": [],
   "source": [
    "#다항로지스틱회귀분석\n",
    "model <- multinom(Survived~., data=data.train)"
   ]
  },
  {
   "cell_type": "code",
   "execution_count": null,
   "id": "fdd880c4",
   "metadata": {},
   "outputs": [],
   "source": [
    "x<-subset(data.test, select = -Survived)\n",
    "y<- data.test$Survived"
   ]
  },
  {
   "cell_type": "code",
   "execution_count": null,
   "id": "9faa5fbe",
   "metadata": {},
   "outputs": [],
   "source": [
    "pred <- predict(model, x)\n",
    "head(pred)"
   ]
  },
  {
   "cell_type": "code",
   "execution_count": null,
   "id": "557ed8b4",
   "metadata": {},
   "outputs": [],
   "source": [
    "mean(pred==y)\n",
    "table(pred,y)"
   ]
  },
  {
   "cell_type": "code",
   "execution_count": null,
   "id": "eb1829f8",
   "metadata": {},
   "outputs": [],
   "source": [
    "#SVM\n",
    "library(e1071)\n",
    "model.svm = svm(Survived~., data=data.train)"
   ]
  },
  {
   "cell_type": "code",
   "execution_count": null,
   "id": "9e0dca42",
   "metadata": {},
   "outputs": [],
   "source": [
    "x<-subset(data.test, select = -Survived)\n",
    "y<- data.test$Survived"
   ]
  },
  {
   "cell_type": "code",
   "execution_count": null,
   "id": "f3f7ecdd",
   "metadata": {},
   "outputs": [],
   "source": [
    "pred <- predict(model.svm, x)\n",
    "mean(pred==y)\n",
    "table(pred,y)"
   ]
  },
  {
   "cell_type": "code",
   "execution_count": null,
   "id": "6e6f2269",
   "metadata": {},
   "outputs": [],
   "source": [
    "# 인공신경망\n",
    "model.nnet<-nnet(Survived~., data=data.train, size=3)"
   ]
  },
  {
   "cell_type": "code",
   "execution_count": null,
   "id": "184c6fdf",
   "metadata": {},
   "outputs": [],
   "source": [
    "pred<- predict(model.nnet, x, type=\"class\") \n",
    "head(pred)\n"
   ]
  },
  {
   "cell_type": "code",
   "execution_count": null,
   "id": "c7689757",
   "metadata": {},
   "outputs": [],
   "source": [
    "mean(pred==y)\n",
    "table(pred,y)"
   ]
  },
  {
   "cell_type": "code",
   "execution_count": null,
   "id": "8d6a941a",
   "metadata": {},
   "outputs": [],
   "source": [
    "# 의사결정나무\n",
    "library(party)"
   ]
  },
  {
   "cell_type": "code",
   "execution_count": null,
   "id": "09816b04",
   "metadata": {},
   "outputs": [],
   "source": [
    "model.ctree <-ctree(Survived~., data=data.train)"
   ]
  },
  {
   "cell_type": "code",
   "execution_count": null,
   "id": "9171a9fb",
   "metadata": {},
   "outputs": [],
   "source": [
    "x<-subset(data.test, select = -Survived)\n",
    "y<- data.test$Survived"
   ]
  },
  {
   "cell_type": "code",
   "execution_count": null,
   "id": "24a08431",
   "metadata": {},
   "outputs": [],
   "source": [
    "pred <- predict(model.svm, x)\n",
    "head(pred)"
   ]
  },
  {
   "cell_type": "code",
   "execution_count": null,
   "id": "9f70f753",
   "metadata": {},
   "outputs": [],
   "source": [
    "mean(pred==y)\n",
    "table(pred,y)"
   ]
  },
  {
   "cell_type": "code",
   "execution_count": null,
   "id": "5ecb965f",
   "metadata": {},
   "outputs": [],
   "source": [
    "head(train_df)"
   ]
  },
  {
   "cell_type": "code",
   "execution_count": null,
   "id": "93e2f531",
   "metadata": {},
   "outputs": [],
   "source": [
    "train_df$AgeCode<-train_df$Age%/%10\n",
    "head(train_df)"
   ]
  },
  {
   "cell_type": "code",
   "execution_count": null,
   "id": "bd0f35da",
   "metadata": {},
   "outputs": [],
   "source": [
    "subset(train_df, "
   ]
  },
  {
   "cell_type": "code",
   "execution_count": null,
   "id": "8f66a406",
   "metadata": {},
   "outputs": [],
   "source": []
  },
  {
   "cell_type": "code",
   "execution_count": null,
   "id": "d56284b1",
   "metadata": {},
   "outputs": [],
   "source": [
    "arrange(train_df, desc(Age))"
   ]
  },
  {
   "cell_type": "code",
   "execution_count": null,
   "id": "61adff7b",
   "metadata": {},
   "outputs": [],
   "source": []
  },
  {
   "cell_type": "code",
   "execution_count": null,
   "id": "2bfd802b",
   "metadata": {},
   "outputs": [],
   "source": [
    "train_df$AgeCode<-train_df$Age%/%10\n",
    "head(train_df)"
   ]
  },
  {
   "cell_type": "code",
   "execution_count": null,
   "id": "fb71d4e5",
   "metadata": {},
   "outputs": [],
   "source": [
    "subset(train_df, !is.na(train_df$AgeCode))"
   ]
  },
  {
   "cell_type": "code",
   "execution_count": null,
   "id": "1cb320d3",
   "metadata": {},
   "outputs": [],
   "source": [
    "table(train_df$AgeCode,train_df$Survived)\n",
    "barplot(t(table(train_df$AgeCode,train_df$Survived)),\n",
    "        beside=T,\n",
    "        col=c(\"red\",\"blue\")\n",
    "       )\n",
    "\n",
    "legend(2,120,\n",
    "      c(\"death\",\"survive\"),\n",
    "#       cex =0.7,\n",
    "      fill = c(\"red\",\"blue\")\n",
    "      )"
   ]
  },
  {
   "cell_type": "code",
   "execution_count": null,
   "id": "7773cbb3",
   "metadata": {},
   "outputs": [],
   "source": [
    "table(train_df$AgeCode,train_df$Pclass)\n",
    "barplot(t(table(train_df$AgeCode,train_df$Pclass)),\n",
    "        beside=T,\n",
    "         col=c(\"red\",\"blue\",\"yellow\"),\n",
    "        ylim=c(0,160)\n",
    "       )\n",
    "\n",
    "legend(2,120,\n",
    "      c(\"1\",\"2\",\"3\"),\n",
    "#       cex =0.7,\n",
    "      fill = c(\"red\",\"blue\",\"yellow\")\n",
    "      )"
   ]
  },
  {
   "cell_type": "code",
   "execution_count": null,
   "id": "f0b48b54",
   "metadata": {},
   "outputs": [],
   "source": [
    "barplot(t(table(train_df$AgeCode,train_df$Embarked)),\n",
    "        beside=T,\n",
    "          col=c(\"red\",\"blue\",\"yellow\"),\n",
    "        ylim=c(0,200)\n",
    "       )\n",
    "\n",
    "legend(2,150,\n",
    "      c(\"C\",\"Q\",\"S\"),\n",
    "#       cex =0.7,\n",
    "      fill = c(\"red\",\"blue\",\"yellow\")\n",
    "      )\n",
    "\n"
   ]
  },
  {
   "cell_type": "code",
   "execution_count": null,
   "id": "d6adac8e",
   "metadata": {},
   "outputs": [],
   "source": [
    "par(family=\"AppleGothic\")\n",
    "par(mfrow=c(2,2))\n",
    "barplot(t(table(train_df$AgeCode,train_df$Survived)),\n",
    "        beside=T,\n",
    "        col=c(\"red\",\"blue\"),\n",
    "        main=\"나이대별 사망/생존자수\"\n",
    "       )\n",
    "\n",
    "legend(12,120,\n",
    "      c(\"death\",\"survive\"),\n",
    "#       cex =0.7,\n",
    "      fill = c(\"red\",\"blue\")\n",
    "      )\n",
    "barplot(t(table(train_df$AgeCode,train_df$Embarked)),\n",
    "        beside=T,\n",
    "          col=c(\"red\",\"blue\",\"yellow\"),\n",
    "        ylim=c(0,200),\n",
    "        main=\"나이대별 항구\"\n",
    "       )\n",
    "\n",
    "legend(2,150,\n",
    "      c(\"C\",\"Q\",\"S\"),\n",
    "#       cex =0.7,\n",
    "      fill = c(\"red\",\"blue\",\"yellow\")\n",
    "      )\n",
    "barplot(t(table(train_df$AgeCode,train_df$Pclass)),\n",
    "        beside=T,\n",
    "         col=c(\"red\",\"blue\",\"yellow\"),\n",
    "        ylim=c(0,160),\n",
    "        main=\"나이대별 객실등급\"\n",
    "       )\n",
    "\n",
    "legend(2,130,\n",
    "      c(\"1\",\"2\",\"3\"),\n",
    "#       cex =0.7,\n",
    "      fill = c(\"red\",\"blue\",\"yellow\")\n",
    "      )\n",
    "barplot(t(table(train_df$AgeCode,train_df$Sex)),\n",
    "        beside=T,\n",
    "       col=c(\"red\",\"blue\"),\n",
    "        ylim=c(0,160),\n",
    "        main=\"나이대별 성별\"\n",
    "       )\n",
    "\n",
    "legend(15,120,\n",
    "      c(\"female\",\"male\"),\n",
    "#       cex =0.7,\n",
    "      fill = c(\"red\",\"blue\")\n",
    "      )"
   ]
  },
  {
   "cell_type": "code",
   "execution_count": null,
   "id": "01b8cbae",
   "metadata": {},
   "outputs": [],
   "source": [
    "table(train_df$AgeCode,train_df$Sex)\n",
    "barplot(t(table(train_df$AgeCode,train_df$Sex)),\n",
    "        beside=T,\n",
    "       col=c(\"red\",\"blue\"),\n",
    "        ylim=c(0,160)\n",
    "       )\n",
    "\n",
    "legend(2,120,\n",
    "      c(\"female\",\"male\"),\n",
    "#       cex =0.7,\n",
    "      fill = c(\"red\",\"blue\")\n",
    "      )"
   ]
  },
  {
   "cell_type": "code",
   "execution_count": null,
   "id": "11adc674",
   "metadata": {},
   "outputs": [],
   "source": [
    "train_df$AgeCode1 <- ifelse(train_df$Age<=5, 0, 1)\n",
    "table(train_df$AgeCode1)\n"
   ]
  },
  {
   "cell_type": "code",
   "execution_count": null,
   "id": "5ac2f1d8",
   "metadata": {},
   "outputs": [],
   "source": [
    "train_df<-subset(train_df, !is.na(train_df$AgeCode1))"
   ]
  },
  {
   "cell_type": "code",
   "execution_count": null,
   "id": "f38c8f22",
   "metadata": {},
   "outputs": [],
   "source": [
    "par(family=\"AppleGothic\")\n",
    "par(mfrow=c(2,2))\n",
    "barplot(t(table(train_df$AgeCode1,train_df$Survived)),\n",
    "        beside=T,\n",
    "        col=c(\"red\",\"blue\"),\n",
    "         ylim=c(0,450),\n",
    "        main=\"나이대별 사망/생존자수\"\n",
    "       )\n",
    "\n",
    "legend(1,450,\n",
    "      c(\"death\",\"survive\"),\n",
    "#       cex =0.7,\n",
    "      fill = c(\"red\",\"blue\")\n",
    "       \n",
    "      )\n",
    "barplot(t(table(train_df$AgeCode1,train_df$Embarked)),\n",
    "        beside=T,\n",
    "          col=c(\"red\",\"blue\",\"yellow\"),\n",
    "        ylim=c(0,500),\n",
    "        main=\"나이대별 항구\"\n",
    "       )\n",
    "\n",
    "legend(2,400,\n",
    "      c(\"C\",\"Q\",\"S\"),\n",
    "#       cex =0.7,\n",
    "      fill = c(\"red\",\"blue\",\"yellow\")\n",
    "      )\n",
    "barplot(t(table(train_df$AgeCode1,train_df$Pclass)),\n",
    "        beside=T,\n",
    "         col=c(\"red\",\"blue\",\"yellow\"),\n",
    "        ylim=c(0,500),\n",
    "        main=\"나이대별 객실등급\"\n",
    "       )\n",
    "\n",
    "legend(2,450,\n",
    "      c(\"1\",\"2\",\"3\"),\n",
    "#       cex =0.7,\n",
    "      fill = c(\"red\",\"blue\",\"yellow\")\n",
    "      )\n",
    "barplot(t(table(train_df$AgeCode1,train_df$Sex)),\n",
    "        beside=T,\n",
    "       col=c(\"red\",\"blue\"),\n",
    "        ylim=c(0,500),\n",
    "        main=\"나이대별 성별\"\n",
    "       )\n",
    "\n",
    "legend(1,450,\n",
    "      c(\"female\",\"male\"),\n",
    "#       cex =0.7,\n",
    "      fill = c(\"red\",\"blue\")\n",
    "      )"
   ]
  },
  {
   "cell_type": "code",
   "execution_count": null,
   "id": "e16a78e9",
   "metadata": {},
   "outputs": [],
   "source": [
    "train_df_P<-train_df"
   ]
  },
  {
   "cell_type": "code",
   "execution_count": null,
   "id": "890a87df",
   "metadata": {},
   "outputs": [],
   "source": []
  },
  {
   "cell_type": "code",
   "execution_count": null,
   "id": "fcd114f9",
   "metadata": {},
   "outputs": [],
   "source": [
    "target_col_2 = c(\"Survived\", \"Pclass\",\"SexCode\",'Embarked_C','Embarked_S','Embarked_Q','AgeCode1')\n",
    "head(train_df_P[,target_col])\n"
   ]
  },
  {
   "cell_type": "code",
   "execution_count": null,
   "id": "1e4d128b",
   "metadata": {},
   "outputs": [],
   "source": []
  },
  {
   "cell_type": "code",
   "execution_count": null,
   "id": "cce84c8b",
   "metadata": {},
   "outputs": [],
   "source": []
  }
 ],
 "metadata": {
  "kernelspec": {
   "display_name": "R",
   "language": "R",
   "name": "ir"
  },
  "language_info": {
   "codemirror_mode": "r",
   "file_extension": ".r",
   "mimetype": "text/x-r-source",
   "name": "R",
   "pygments_lexer": "r",
   "version": "3.6.1"
  }
 },
 "nbformat": 4,
 "nbformat_minor": 5
}
