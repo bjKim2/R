{
 "cells": [
  {
   "cell_type": "code",
   "execution_count": 1,
   "id": "eb378c2c",
   "metadata": {},
   "outputs": [],
   "source": [
    "# tree 가 많이 모여 있는 것이 Forest\n",
    "# Ensemble(앙상블) : Model 들을 같이 엮어서 사용하는 방법\n",
    "# R에서는 앙상블이 RandomForest 밖에 없다.\n"
   ]
  },
  {
   "cell_type": "code",
   "execution_count": 2,
   "id": "7158a6c9",
   "metadata": {},
   "outputs": [
    {
     "name": "stderr",
     "output_type": "stream",
     "text": [
      "randomForest 4.6-14\n",
      "Type rfNews() to see new features/changes/bug fixes.\n"
     ]
    }
   ],
   "source": [
    "library(randomForest)"
   ]
  },
  {
   "cell_type": "code",
   "execution_count": 19,
   "id": "9a5647ac",
   "metadata": {},
   "outputs": [],
   "source": [
    "library(caret)"
   ]
  },
  {
   "cell_type": "code",
   "execution_count": 27,
   "id": "e0995fb9",
   "metadata": {},
   "outputs": [],
   "source": [
    "set.seed(1234)\n",
    "# Sampling 데이터가 많으면 0.8 또는 5:5도 좋음\n",
    "samp <- createDataPartition(iris$Species , p = 0.7 , list = F)\n",
    "# 학습용 데이터 만들기\n",
    "data.tr <- iris[samp,]\n",
    "# 검증용 데이터 만들기\n",
    "data.test <- iris[-samp,]\n",
    "# 문제 및 정답 만들기\n",
    "x <- subset(data.test , select = -Species )\n",
    "y <- data.test$Species"
   ]
  },
  {
   "cell_type": "code",
   "execution_count": 28,
   "id": "05e66396",
   "metadata": {},
   "outputs": [
    {
     "data": {
      "text/plain": [
       "  Sepal.Length    Sepal.Width     Petal.Length    Petal.Width         Species  \n",
       " Min.   :4.300   Min.   :2.200   Min.   :1.100   Min.   :0.10   setosa    :35  \n",
       " 1st Qu.:5.100   1st Qu.:2.800   1st Qu.:1.600   1st Qu.:0.30   versicolor:35  \n",
       " Median :5.800   Median :3.000   Median :4.300   Median :1.30   virginica :35  \n",
       " Mean   :5.847   Mean   :3.042   Mean   :3.749   Mean   :1.19                  \n",
       " 3rd Qu.:6.400   3rd Qu.:3.300   3rd Qu.:5.100   3rd Qu.:1.80                  \n",
       " Max.   :7.900   Max.   :4.400   Max.   :6.900   Max.   :2.50                  "
      ]
     },
     "metadata": {},
     "output_type": "display_data"
    }
   ],
   "source": [
    "summary(data.tr)"
   ]
  },
  {
   "cell_type": "code",
   "execution_count": 36,
   "id": "4fec7d2b",
   "metadata": {},
   "outputs": [],
   "source": [
    "# 학습시키기\n",
    "model.rf <- randomForest(Species ~ ., data = data.tr, ntree = 100)\n",
    "#RandomForest는 Species 가 팩터면 class로 풀고, num이면 raw로 푼다.\n",
    "#앙상블 중에서는 RandomForest가 가장 좋다\n",
    "#R에서는 앙상블을 못만들고 파이썬은 만들 수 있다.\n",
    "#데이터가 잘정제되있으면 어떤 기법이든 다 잘나온다."
   ]
  },
  {
   "cell_type": "code",
   "execution_count": 37,
   "id": "c28641e3",
   "metadata": {},
   "outputs": [],
   "source": [
    "# 검증하기\n",
    "pred <- predict ( model.rf,x)"
   ]
  },
  {
   "cell_type": "code",
   "execution_count": 38,
   "id": "69978028",
   "metadata": {},
   "outputs": [
    {
     "data": {
      "text/html": [
       "0.933333333333333"
      ],
      "text/latex": [
       "0.933333333333333"
      ],
      "text/markdown": [
       "0.933333333333333"
      ],
      "text/plain": [
       "[1] 0.9333333"
      ]
     },
     "metadata": {},
     "output_type": "display_data"
    },
    {
     "data": {
      "text/plain": [
       "            y\n",
       "pred         setosa versicolor virginica\n",
       "  setosa         15          0         0\n",
       "  versicolor      0         12         0\n",
       "  virginica       0          3        15"
      ]
     },
     "metadata": {},
     "output_type": "display_data"
    }
   ],
   "source": [
    "# 예측력과 오류분포\n",
    "mean(pred == y )\n",
    "table(pred,y)\n"
   ]
  },
  {
   "cell_type": "markdown",
   "id": "5b2e6379",
   "metadata": {},
   "source": [
    "---\n",
    "### 교통사고 예측하기 (회귀식과 RandomForest 예측 비교)"
   ]
  },
  {
   "cell_type": "code",
   "execution_count": 40,
   "id": "5ae511c7",
   "metadata": {},
   "outputs": [
    {
     "data": {
      "text/html": [
       "<table>\n",
       "<thead><tr><th scope=col>년도</th><th scope=col>월</th><th scope=col>자치구명</th><th scope=col>발생건수</th><th scope=col>사망자수</th><th scope=col>부상자수</th></tr></thead>\n",
       "<tbody>\n",
       "\t<tr><td>2011  </td><td>1     </td><td>종로구</td><td>115   </td><td>2     </td><td>165   </td></tr>\n",
       "\t<tr><td>2011  </td><td>2     </td><td>종로구</td><td> 99   </td><td>0     </td><td>134   </td></tr>\n",
       "\t<tr><td>2011  </td><td>3     </td><td>종로구</td><td>116   </td><td>0     </td><td>162   </td></tr>\n",
       "\t<tr><td>2011  </td><td>4     </td><td>종로구</td><td>110   </td><td>1     </td><td>153   </td></tr>\n",
       "\t<tr><td>2011  </td><td>5     </td><td>종로구</td><td>122   </td><td>0     </td><td>157   </td></tr>\n",
       "\t<tr><td>2011  </td><td>6     </td><td>종로구</td><td>116   </td><td>3     </td><td>163   </td></tr>\n",
       "</tbody>\n",
       "</table>\n"
      ],
      "text/latex": [
       "\\begin{tabular}{r|llllll}\n",
       " 년도 & 월 & 자치구명 & 발생건수 & 사망자수 & 부상자수\\\\\n",
       "\\hline\n",
       "\t 2011   & 1      & 종로구 & 115    & 2      & 165   \\\\\n",
       "\t 2011   & 2      & 종로구 &  99    & 0      & 134   \\\\\n",
       "\t 2011   & 3      & 종로구 & 116    & 0      & 162   \\\\\n",
       "\t 2011   & 4      & 종로구 & 110    & 1      & 153   \\\\\n",
       "\t 2011   & 5      & 종로구 & 122    & 0      & 157   \\\\\n",
       "\t 2011   & 6      & 종로구 & 116    & 3      & 163   \\\\\n",
       "\\end{tabular}\n"
      ],
      "text/markdown": [
       "\n",
       "| 년도 | 월 | 자치구명 | 발생건수 | 사망자수 | 부상자수 |\n",
       "|---|---|---|---|---|---|\n",
       "| 2011   | 1      | 종로구 | 115    | 2      | 165    |\n",
       "| 2011   | 2      | 종로구 |  99    | 0      | 134    |\n",
       "| 2011   | 3      | 종로구 | 116    | 0      | 162    |\n",
       "| 2011   | 4      | 종로구 | 110    | 1      | 153    |\n",
       "| 2011   | 5      | 종로구 | 122    | 0      | 157    |\n",
       "| 2011   | 6      | 종로구 | 116    | 3      | 163    |\n",
       "\n"
      ],
      "text/plain": [
       "  년도 월 자치구명 발생건수 사망자수 부상자수\n",
       "1 2011 1  종로구   115      2        165     \n",
       "2 2011 2  종로구    99      0        134     \n",
       "3 2011 3  종로구   116      0        162     \n",
       "4 2011 4  종로구   110      1        153     \n",
       "5 2011 5  종로구   122      0        157     \n",
       "6 2011 6  종로구   116      3        163     "
      ]
     },
     "metadata": {},
     "output_type": "display_data"
    },
    {
     "data": {
      "text/html": [
       "<table>\n",
       "<thead><tr><th></th><th scope=col>년도</th><th scope=col>월</th><th scope=col>자치구명</th><th scope=col>발생건수</th><th scope=col>사망자수</th><th scope=col>부상자수</th></tr></thead>\n",
       "<tbody>\n",
       "\t<tr><th scope=row>2695</th><td>2019  </td><td> 7    </td><td>강동구</td><td>146   </td><td>2     </td><td>189   </td></tr>\n",
       "\t<tr><th scope=row>2696</th><td>2019  </td><td> 8    </td><td>강동구</td><td>127   </td><td>2     </td><td>175   </td></tr>\n",
       "\t<tr><th scope=row>2697</th><td>2019  </td><td> 9    </td><td>강동구</td><td> 98   </td><td>2     </td><td>137   </td></tr>\n",
       "\t<tr><th scope=row>2698</th><td>2019  </td><td>10    </td><td>강동구</td><td>108   </td><td>1     </td><td>144   </td></tr>\n",
       "\t<tr><th scope=row>2699</th><td>2019  </td><td>11    </td><td>강동구</td><td>146   </td><td>0     </td><td>199   </td></tr>\n",
       "\t<tr><th scope=row>2700</th><td>2019  </td><td>12    </td><td>강동구</td><td>108   </td><td>1     </td><td>131   </td></tr>\n",
       "</tbody>\n",
       "</table>\n"
      ],
      "text/latex": [
       "\\begin{tabular}{r|llllll}\n",
       "  & 년도 & 월 & 자치구명 & 발생건수 & 사망자수 & 부상자수\\\\\n",
       "\\hline\n",
       "\t2695 & 2019   &  7     & 강동구 & 146    & 2      & 189   \\\\\n",
       "\t2696 & 2019   &  8     & 강동구 & 127    & 2      & 175   \\\\\n",
       "\t2697 & 2019   &  9     & 강동구 &  98    & 2      & 137   \\\\\n",
       "\t2698 & 2019   & 10     & 강동구 & 108    & 1      & 144   \\\\\n",
       "\t2699 & 2019   & 11     & 강동구 & 146    & 0      & 199   \\\\\n",
       "\t2700 & 2019   & 12     & 강동구 & 108    & 1      & 131   \\\\\n",
       "\\end{tabular}\n"
      ],
      "text/markdown": [
       "\n",
       "| <!--/--> | 년도 | 월 | 자치구명 | 발생건수 | 사망자수 | 부상자수 |\n",
       "|---|---|---|---|---|---|---|\n",
       "| 2695 | 2019   |  7     | 강동구 | 146    | 2      | 189    |\n",
       "| 2696 | 2019   |  8     | 강동구 | 127    | 2      | 175    |\n",
       "| 2697 | 2019   |  9     | 강동구 |  98    | 2      | 137    |\n",
       "| 2698 | 2019   | 10     | 강동구 | 108    | 1      | 144    |\n",
       "| 2699 | 2019   | 11     | 강동구 | 146    | 0      | 199    |\n",
       "| 2700 | 2019   | 12     | 강동구 | 108    | 1      | 131    |\n",
       "\n"
      ],
      "text/plain": [
       "     년도 월 자치구명 발생건수 사망자수 부상자수\n",
       "2695 2019  7 강동구   146      2        189     \n",
       "2696 2019  8 강동구   127      2        175     \n",
       "2697 2019  9 강동구    98      2        137     \n",
       "2698 2019 10 강동구   108      1        144     \n",
       "2699 2019 11 강동구   146      0        199     \n",
       "2700 2019 12 강동구   108      1        131     "
      ]
     },
     "metadata": {},
     "output_type": "display_data"
    }
   ],
   "source": [
    "seoul <- read.csv(\"../Data/newSeoul2019.csv\")\n",
    "head(seoul)\n",
    "tail(seoul)"
   ]
  },
  {
   "cell_type": "code",
   "execution_count": 41,
   "id": "3e919bec",
   "metadata": {},
   "outputs": [
    {
     "name": "stdout",
     "output_type": "stream",
     "text": [
      "'data.frame':\t2700 obs. of  6 variables:\n",
      " $ 년도    : int  2011 2011 2011 2011 2011 2011 2011 2011 2011 2011 ...\n",
      " $ 월      : int  1 2 3 4 5 6 7 8 9 10 ...\n",
      " $ 자치구명: Factor w/ 25 levels \"강남구\",\"강동구\",..: 23 23 23 23 23 23 23 23 23 23 ...\n",
      " $ 발생건수: int  115 99 116 110 122 116 103 122 121 135 ...\n",
      " $ 사망자수: int  2 0 0 1 0 3 1 1 2 2 ...\n",
      " $ 부상자수: int  165 134 162 153 157 163 154 171 166 193 ...\n"
     ]
    }
   ],
   "source": [
    "str(seoul)"
   ]
  },
  {
   "cell_type": "code",
   "execution_count": 42,
   "id": "6f850e89",
   "metadata": {},
   "outputs": [
    {
     "data": {
      "text/plain": [
       "      년도            월           자치구명       발생건수        사망자수     \n",
       " Min.   :2011   Min.   : 1.00   강남구 : 108   Min.   : 45.0   Min.   : 0.000  \n",
       " 1st Qu.:2013   1st Qu.: 3.75   강동구 : 108   1st Qu.:100.0   1st Qu.: 0.000  \n",
       " Median :2015   Median : 6.50   강북구 : 108   Median :122.0   Median : 1.000  \n",
       " Mean   :2015   Mean   : 6.50   강서구 : 108   Mean   :133.3   Mean   : 1.207  \n",
       " 3rd Qu.:2017   3rd Qu.: 9.25   관악구 : 108   3rd Qu.:149.0   3rd Qu.: 2.000  \n",
       " Max.   :2019   Max.   :12.00   광진구 : 108   Max.   :383.0   Max.   :10.000  \n",
       "                                (Other):2052                                   \n",
       "    부상자수    \n",
       " Min.   : 55.0  \n",
       " 1st Qu.:138.0  \n",
       " Median :168.0  \n",
       " Mean   :187.4  \n",
       " 3rd Qu.:208.0  \n",
       " Max.   :552.0  \n",
       "                "
      ]
     },
     "metadata": {},
     "output_type": "display_data"
    }
   ],
   "source": [
    "summary(seoul)"
   ]
  },
  {
   "cell_type": "code",
   "execution_count": 46,
   "id": "3b06c23b",
   "metadata": {},
   "outputs": [
    {
     "data": {
      "text/html": [
       "<table>\n",
       "<thead><tr><th scope=col>년도</th><th scope=col>월</th><th scope=col>자치구명</th><th scope=col>발생건수</th><th scope=col>사망자수</th><th scope=col>부상자수</th></tr></thead>\n",
       "<tbody>\n",
       "\t<tr><td>2011  </td><td>1     </td><td>종로구</td><td>115   </td><td>2     </td><td>165   </td></tr>\n",
       "\t<tr><td>2011  </td><td>2     </td><td>종로구</td><td> 99   </td><td>0     </td><td>134   </td></tr>\n",
       "\t<tr><td>2011  </td><td>3     </td><td>종로구</td><td>116   </td><td>0     </td><td>162   </td></tr>\n",
       "\t<tr><td>2011  </td><td>4     </td><td>종로구</td><td>110   </td><td>1     </td><td>153   </td></tr>\n",
       "\t<tr><td>2011  </td><td>5     </td><td>종로구</td><td>122   </td><td>0     </td><td>157   </td></tr>\n",
       "\t<tr><td>2011  </td><td>6     </td><td>종로구</td><td>116   </td><td>3     </td><td>163   </td></tr>\n",
       "</tbody>\n",
       "</table>\n"
      ],
      "text/latex": [
       "\\begin{tabular}{r|llllll}\n",
       " 년도 & 월 & 자치구명 & 발생건수 & 사망자수 & 부상자수\\\\\n",
       "\\hline\n",
       "\t 2011   & 1      & 종로구 & 115    & 2      & 165   \\\\\n",
       "\t 2011   & 2      & 종로구 &  99    & 0      & 134   \\\\\n",
       "\t 2011   & 3      & 종로구 & 116    & 0      & 162   \\\\\n",
       "\t 2011   & 4      & 종로구 & 110    & 1      & 153   \\\\\n",
       "\t 2011   & 5      & 종로구 & 122    & 0      & 157   \\\\\n",
       "\t 2011   & 6      & 종로구 & 116    & 3      & 163   \\\\\n",
       "\\end{tabular}\n"
      ],
      "text/markdown": [
       "\n",
       "| 년도 | 월 | 자치구명 | 발생건수 | 사망자수 | 부상자수 |\n",
       "|---|---|---|---|---|---|\n",
       "| 2011   | 1      | 종로구 | 115    | 2      | 165    |\n",
       "| 2011   | 2      | 종로구 |  99    | 0      | 134    |\n",
       "| 2011   | 3      | 종로구 | 116    | 0      | 162    |\n",
       "| 2011   | 4      | 종로구 | 110    | 1      | 153    |\n",
       "| 2011   | 5      | 종로구 | 122    | 0      | 157    |\n",
       "| 2011   | 6      | 종로구 | 116    | 3      | 163    |\n",
       "\n"
      ],
      "text/plain": [
       "  년도 월 자치구명 발생건수 사망자수 부상자수\n",
       "1 2011 1  종로구   115      2        165     \n",
       "2 2011 2  종로구    99      0        134     \n",
       "3 2011 3  종로구   116      0        162     \n",
       "4 2011 4  종로구   110      1        153     \n",
       "5 2011 5  종로구   122      0        157     \n",
       "6 2011 6  종로구   116      3        163     "
      ]
     },
     "metadata": {},
     "output_type": "display_data"
    },
    {
     "data": {
      "text/html": [
       "<table>\n",
       "<thead><tr><th></th><th scope=col>년도</th><th scope=col>월</th><th scope=col>자치구명</th><th scope=col>발생건수</th><th scope=col>사망자수</th><th scope=col>부상자수</th></tr></thead>\n",
       "<tbody>\n",
       "\t<tr><th scope=row>2407</th><td>2019  </td><td> 7    </td><td>종로구</td><td> 83   </td><td>0     </td><td>109   </td></tr>\n",
       "\t<tr><th scope=row>2408</th><td>2019  </td><td> 8    </td><td>종로구</td><td>115   </td><td>0     </td><td>164   </td></tr>\n",
       "\t<tr><th scope=row>2409</th><td>2019  </td><td> 9    </td><td>종로구</td><td> 99   </td><td>0     </td><td>143   </td></tr>\n",
       "\t<tr><th scope=row>2410</th><td>2019  </td><td>10    </td><td>종로구</td><td>104   </td><td>0     </td><td>139   </td></tr>\n",
       "\t<tr><th scope=row>2411</th><td>2019  </td><td>11    </td><td>종로구</td><td>100   </td><td>0     </td><td>126   </td></tr>\n",
       "\t<tr><th scope=row>2412</th><td>2019  </td><td>12    </td><td>종로구</td><td>100   </td><td>0     </td><td>142   </td></tr>\n",
       "</tbody>\n",
       "</table>\n"
      ],
      "text/latex": [
       "\\begin{tabular}{r|llllll}\n",
       "  & 년도 & 월 & 자치구명 & 발생건수 & 사망자수 & 부상자수\\\\\n",
       "\\hline\n",
       "\t2407 & 2019   &  7     & 종로구 &  83    & 0      & 109   \\\\\n",
       "\t2408 & 2019   &  8     & 종로구 & 115    & 0      & 164   \\\\\n",
       "\t2409 & 2019   &  9     & 종로구 &  99    & 0      & 143   \\\\\n",
       "\t2410 & 2019   & 10     & 종로구 & 104    & 0      & 139   \\\\\n",
       "\t2411 & 2019   & 11     & 종로구 & 100    & 0      & 126   \\\\\n",
       "\t2412 & 2019   & 12     & 종로구 & 100    & 0      & 142   \\\\\n",
       "\\end{tabular}\n"
      ],
      "text/markdown": [
       "\n",
       "| <!--/--> | 년도 | 월 | 자치구명 | 발생건수 | 사망자수 | 부상자수 |\n",
       "|---|---|---|---|---|---|---|\n",
       "| 2407 | 2019   |  7     | 종로구 |  83    | 0      | 109    |\n",
       "| 2408 | 2019   |  8     | 종로구 | 115    | 0      | 164    |\n",
       "| 2409 | 2019   |  9     | 종로구 |  99    | 0      | 143    |\n",
       "| 2410 | 2019   | 10     | 종로구 | 104    | 0      | 139    |\n",
       "| 2411 | 2019   | 11     | 종로구 | 100    | 0      | 126    |\n",
       "| 2412 | 2019   | 12     | 종로구 | 100    | 0      | 142    |\n",
       "\n"
      ],
      "text/plain": [
       "     년도 월 자치구명 발생건수 사망자수 부상자수\n",
       "2407 2019  7 종로구    83      0        109     \n",
       "2408 2019  8 종로구   115      0        164     \n",
       "2409 2019  9 종로구    99      0        143     \n",
       "2410 2019 10 종로구   104      0        139     \n",
       "2411 2019 11 종로구   100      0        126     \n",
       "2412 2019 12 종로구   100      0        142     "
      ]
     },
     "metadata": {},
     "output_type": "display_data"
    }
   ],
   "source": [
    "# 종로구 데이터셋 만들기\n",
    "JongRo <- seoul[seoul$자치구명 == \"종로구\" ,]\n",
    "head(JongRo)\n",
    "tail(JongRo)"
   ]
  },
  {
   "cell_type": "code",
   "execution_count": 48,
   "id": "55580d75",
   "metadata": {},
   "outputs": [
    {
     "data": {
      "text/html": [
       "<table>\n",
       "<thead><tr><th scope=col>년도</th><th scope=col>월</th><th scope=col>자치구명</th><th scope=col>발생건수</th><th scope=col>사망자수</th><th scope=col>부상자수</th></tr></thead>\n",
       "<tbody>\n",
       "\t<tr><td>2011  </td><td>1     </td><td>종로구</td><td>115   </td><td>2     </td><td>165   </td></tr>\n",
       "\t<tr><td>2011  </td><td>2     </td><td>종로구</td><td> 99   </td><td>0     </td><td>134   </td></tr>\n",
       "\t<tr><td>2011  </td><td>3     </td><td>종로구</td><td>116   </td><td>0     </td><td>162   </td></tr>\n",
       "\t<tr><td>2011  </td><td>4     </td><td>종로구</td><td>110   </td><td>1     </td><td>153   </td></tr>\n",
       "\t<tr><td>2011  </td><td>5     </td><td>종로구</td><td>122   </td><td>0     </td><td>157   </td></tr>\n",
       "\t<tr><td>2011  </td><td>6     </td><td>종로구</td><td>116   </td><td>3     </td><td>163   </td></tr>\n",
       "</tbody>\n",
       "</table>\n"
      ],
      "text/latex": [
       "\\begin{tabular}{r|llllll}\n",
       " 년도 & 월 & 자치구명 & 발생건수 & 사망자수 & 부상자수\\\\\n",
       "\\hline\n",
       "\t 2011   & 1      & 종로구 & 115    & 2      & 165   \\\\\n",
       "\t 2011   & 2      & 종로구 &  99    & 0      & 134   \\\\\n",
       "\t 2011   & 3      & 종로구 & 116    & 0      & 162   \\\\\n",
       "\t 2011   & 4      & 종로구 & 110    & 1      & 153   \\\\\n",
       "\t 2011   & 5      & 종로구 & 122    & 0      & 157   \\\\\n",
       "\t 2011   & 6      & 종로구 & 116    & 3      & 163   \\\\\n",
       "\\end{tabular}\n"
      ],
      "text/markdown": [
       "\n",
       "| 년도 | 월 | 자치구명 | 발생건수 | 사망자수 | 부상자수 |\n",
       "|---|---|---|---|---|---|\n",
       "| 2011   | 1      | 종로구 | 115    | 2      | 165    |\n",
       "| 2011   | 2      | 종로구 |  99    | 0      | 134    |\n",
       "| 2011   | 3      | 종로구 | 116    | 0      | 162    |\n",
       "| 2011   | 4      | 종로구 | 110    | 1      | 153    |\n",
       "| 2011   | 5      | 종로구 | 122    | 0      | 157    |\n",
       "| 2011   | 6      | 종로구 | 116    | 3      | 163    |\n",
       "\n"
      ],
      "text/plain": [
       "  년도 월 자치구명 발생건수 사망자수 부상자수\n",
       "1 2011 1  종로구   115      2        165     \n",
       "2 2011 2  종로구    99      0        134     \n",
       "3 2011 3  종로구   116      0        162     \n",
       "4 2011 4  종로구   110      1        153     \n",
       "5 2011 5  종로구   122      0        157     \n",
       "6 2011 6  종로구   116      3        163     "
      ]
     },
     "metadata": {},
     "output_type": "display_data"
    },
    {
     "data": {
      "text/html": [
       "<table>\n",
       "<thead><tr><th></th><th scope=col>년도</th><th scope=col>월</th><th scope=col>자치구명</th><th scope=col>발생건수</th><th scope=col>사망자수</th><th scope=col>부상자수</th></tr></thead>\n",
       "<tbody>\n",
       "\t<tr><th scope=row>103</th><td>2019  </td><td> 7    </td><td>종로구</td><td> 83   </td><td>0     </td><td>109   </td></tr>\n",
       "\t<tr><th scope=row>104</th><td>2019  </td><td> 8    </td><td>종로구</td><td>115   </td><td>0     </td><td>164   </td></tr>\n",
       "\t<tr><th scope=row>105</th><td>2019  </td><td> 9    </td><td>종로구</td><td> 99   </td><td>0     </td><td>143   </td></tr>\n",
       "\t<tr><th scope=row>106</th><td>2019  </td><td>10    </td><td>종로구</td><td>104   </td><td>0     </td><td>139   </td></tr>\n",
       "\t<tr><th scope=row>107</th><td>2019  </td><td>11    </td><td>종로구</td><td>100   </td><td>0     </td><td>126   </td></tr>\n",
       "\t<tr><th scope=row>108</th><td>2019  </td><td>12    </td><td>종로구</td><td>100   </td><td>0     </td><td>142   </td></tr>\n",
       "</tbody>\n",
       "</table>\n"
      ],
      "text/latex": [
       "\\begin{tabular}{r|llllll}\n",
       "  & 년도 & 월 & 자치구명 & 발생건수 & 사망자수 & 부상자수\\\\\n",
       "\\hline\n",
       "\t103 & 2019   &  7     & 종로구 &  83    & 0      & 109   \\\\\n",
       "\t104 & 2019   &  8     & 종로구 & 115    & 0      & 164   \\\\\n",
       "\t105 & 2019   &  9     & 종로구 &  99    & 0      & 143   \\\\\n",
       "\t106 & 2019   & 10     & 종로구 & 104    & 0      & 139   \\\\\n",
       "\t107 & 2019   & 11     & 종로구 & 100    & 0      & 126   \\\\\n",
       "\t108 & 2019   & 12     & 종로구 & 100    & 0      & 142   \\\\\n",
       "\\end{tabular}\n"
      ],
      "text/markdown": [
       "\n",
       "| <!--/--> | 년도 | 월 | 자치구명 | 발생건수 | 사망자수 | 부상자수 |\n",
       "|---|---|---|---|---|---|---|\n",
       "| 103 | 2019   |  7     | 종로구 |  83    | 0      | 109    |\n",
       "| 104 | 2019   |  8     | 종로구 | 115    | 0      | 164    |\n",
       "| 105 | 2019   |  9     | 종로구 |  99    | 0      | 143    |\n",
       "| 106 | 2019   | 10     | 종로구 | 104    | 0      | 139    |\n",
       "| 107 | 2019   | 11     | 종로구 | 100    | 0      | 126    |\n",
       "| 108 | 2019   | 12     | 종로구 | 100    | 0      | 142    |\n",
       "\n"
      ],
      "text/plain": [
       "    년도 월 자치구명 발생건수 사망자수 부상자수\n",
       "103 2019  7 종로구    83      0        109     \n",
       "104 2019  8 종로구   115      0        164     \n",
       "105 2019  9 종로구    99      0        143     \n",
       "106 2019 10 종로구   104      0        139     \n",
       "107 2019 11 종로구   100      0        126     \n",
       "108 2019 12 종로구   100      0        142     "
      ]
     },
     "metadata": {},
     "output_type": "display_data"
    }
   ],
   "source": [
    "rownames(JongRo)<- c()\n",
    "head(JongRo)\n",
    "tail(JongRo)"
   ]
  },
  {
   "cell_type": "code",
   "execution_count": 53,
   "id": "718ec865",
   "metadata": {},
   "outputs": [
    {
     "name": "stdout",
     "output_type": "stream",
     "text": [
      "'data.frame':\t108 obs. of  6 variables:\n",
      " $ 년도    : int  2011 2011 2011 2011 2011 2011 2011 2011 2011 2011 ...\n",
      " $ 월      : int  1 2 3 4 5 6 7 8 9 10 ...\n",
      " $ 자치구명: Factor w/ 1 level \"종로구\": 1 1 1 1 1 1 1 1 1 1 ...\n",
      " $ 발생건수: int  115 99 116 110 122 116 103 122 121 135 ...\n",
      " $ 사망자수: int  2 0 0 1 0 3 1 1 2 2 ...\n",
      " $ 부상자수: int  165 134 162 153 157 163 154 171 166 193 ...\n"
     ]
    }
   ],
   "source": [
    "str(JongRo)\n"
   ]
  },
  {
   "cell_type": "code",
   "execution_count": 52,
   "id": "ca9ddc7b",
   "metadata": {},
   "outputs": [],
   "source": [
    "JongRo$자치구명 <- factor(JongRo$자치구명)"
   ]
  },
  {
   "cell_type": "code",
   "execution_count": 54,
   "id": "7eeac286",
   "metadata": {},
   "outputs": [
    {
     "data": {
      "text/html": [
       "<table>\n",
       "<thead><tr><th scope=col>년도</th><th scope=col>월</th><th scope=col>발생건수</th><th scope=col>사망자수</th><th scope=col>부상자수</th></tr></thead>\n",
       "<tbody>\n",
       "\t<tr><td>2011</td><td>1   </td><td>115 </td><td>2   </td><td>165 </td></tr>\n",
       "\t<tr><td>2011</td><td>2   </td><td> 99 </td><td>0   </td><td>134 </td></tr>\n",
       "\t<tr><td>2011</td><td>3   </td><td>116 </td><td>0   </td><td>162 </td></tr>\n",
       "\t<tr><td>2011</td><td>4   </td><td>110 </td><td>1   </td><td>153 </td></tr>\n",
       "\t<tr><td>2011</td><td>5   </td><td>122 </td><td>0   </td><td>157 </td></tr>\n",
       "\t<tr><td>2011</td><td>6   </td><td>116 </td><td>3   </td><td>163 </td></tr>\n",
       "</tbody>\n",
       "</table>\n"
      ],
      "text/latex": [
       "\\begin{tabular}{r|lllll}\n",
       " 년도 & 월 & 발생건수 & 사망자수 & 부상자수\\\\\n",
       "\\hline\n",
       "\t 2011 & 1    & 115  & 2    & 165 \\\\\n",
       "\t 2011 & 2    &  99  & 0    & 134 \\\\\n",
       "\t 2011 & 3    & 116  & 0    & 162 \\\\\n",
       "\t 2011 & 4    & 110  & 1    & 153 \\\\\n",
       "\t 2011 & 5    & 122  & 0    & 157 \\\\\n",
       "\t 2011 & 6    & 116  & 3    & 163 \\\\\n",
       "\\end{tabular}\n"
      ],
      "text/markdown": [
       "\n",
       "| 년도 | 월 | 발생건수 | 사망자수 | 부상자수 |\n",
       "|---|---|---|---|---|\n",
       "| 2011 | 1    | 115  | 2    | 165  |\n",
       "| 2011 | 2    |  99  | 0    | 134  |\n",
       "| 2011 | 3    | 116  | 0    | 162  |\n",
       "| 2011 | 4    | 110  | 1    | 153  |\n",
       "| 2011 | 5    | 122  | 0    | 157  |\n",
       "| 2011 | 6    | 116  | 3    | 163  |\n",
       "\n"
      ],
      "text/plain": [
       "  년도 월 발생건수 사망자수 부상자수\n",
       "1 2011 1  115      2        165     \n",
       "2 2011 2   99      0        134     \n",
       "3 2011 3  116      0        162     \n",
       "4 2011 4  110      1        153     \n",
       "5 2011 5  122      0        157     \n",
       "6 2011 6  116      3        163     "
      ]
     },
     "metadata": {},
     "output_type": "display_data"
    }
   ],
   "source": [
    "JongRo <- JongRo[,-3]\n",
    "head(JongRo)"
   ]
  },
  {
   "cell_type": "code",
   "execution_count": 67,
   "id": "56cc4ca4",
   "metadata": {},
   "outputs": [
    {
     "data": {
      "text/html": [
       "0.920891438840356"
      ],
      "text/latex": [
       "0.920891438840356"
      ],
      "text/markdown": [
       "0.920891438840356"
      ],
      "text/plain": [
       "[1] 0.9208914"
      ]
     },
     "metadata": {},
     "output_type": "display_data"
    },
    {
     "data": {
      "text/html": [
       "-0.0162380762075352"
      ],
      "text/latex": [
       "-0.0162380762075352"
      ],
      "text/markdown": [
       "-0.0162380762075352"
      ],
      "text/plain": [
       "[1] -0.01623808"
      ]
     },
     "metadata": {},
     "output_type": "display_data"
    },
    {
     "data": {
      "text/html": [
       "0.0186563318530112"
      ],
      "text/latex": [
       "0.0186563318530112"
      ],
      "text/markdown": [
       "0.0186563318530112"
      ],
      "text/plain": [
       "[1] 0.01865633"
      ]
     },
     "metadata": {},
     "output_type": "display_data"
    }
   ],
   "source": [
    "# 종로의 발생건수와 부상자수 상관계수\n",
    "cor(JongRo[,3],JongRo[,5])\n",
    "cor(JongRo[,3],JongRo[,4]) # 발생건수 사망자수\n",
    "cor(JongRo[,4],JongRo[,5]) # 사망자수 부상자수"
   ]
  },
  {
   "cell_type": "code",
   "execution_count": 92,
   "id": "10484886",
   "metadata": {},
   "outputs": [
    {
     "data": {
      "image/png": "[encoded data removed]",
      "text/plain": [
       "plot without title"
      ]
     },
     "metadata": {},
     "output_type": "display_data"
    }
   ],
   "source": [
    "# 종로구의 발생건수와 부상자수의 산포도와 회귀선 그리기\n",
    "par(family = \"AppleGothic\")\n",
    "options(warn = -1)\n",
    "plot(JongRo$발생건수,JongRo$부상자수)\n",
    "abline(model.reg, col = \"red\")"
   ]
  },
  {
   "cell_type": "code",
   "execution_count": 96,
   "id": "ca5d4f79",
   "metadata": {},
   "outputs": [
    {
     "data": {
      "text/plain": [
       "\n",
       "Call:\n",
       "lm(formula = JongRo$부상자수 ~ JongRo$발생건수, data = JongRo)\n",
       "\n",
       "Coefficients:\n",
       "    (Intercept)  JongRo$발생건수  \n",
       "          2.886            1.360  \n"
      ]
     },
     "metadata": {},
     "output_type": "display_data"
    }
   ],
   "source": [
    "model.reg <- lm(JongRo$부상자수 ~ JongRo$발생건수 , data = JongRo) \n",
    "model.reg"
   ]
  },
  {
   "cell_type": "code",
   "execution_count": 97,
   "id": "085ce565",
   "metadata": {
    "scrolled": true
   },
   "outputs": [
    {
     "data": {
      "text/plain": [
       "\n",
       "Call:\n",
       "lm(formula = JongRo$부상자수 ~ JongRo$발생건수, data = JongRo)\n",
       "\n",
       "Residuals:\n",
       "    Min      1Q  Median      3Q     Max \n",
       "-21.637  -5.949  -0.019   5.301  33.961 \n",
       "\n",
       "Coefficients:\n",
       "                Estimate Std. Error t value Pr(>|t|)    \n",
       "(Intercept)      2.88612    6.05535   0.477    0.635    \n",
       "JongRo$발생건수  1.35993    0.05591  24.322   <2e-16 ***\n",
       "---\n",
       "Signif. codes:  0 ‘***’ 0.001 ‘**’ 0.01 ‘*’ 0.05 ‘.’ 0.1 ‘ ’ 1\n",
       "\n",
       "Residual standard error: 9.816 on 106 degrees of freedom\n",
       "Multiple R-squared:  0.848,\tAdjusted R-squared:  0.8466 \n",
       "F-statistic: 591.6 on 1 and 106 DF,  p-value: < 2.2e-16\n"
      ]
     },
     "metadata": {},
     "output_type": "display_data"
    }
   ],
   "source": [
    "summary(model.reg)\n"
   ]
  },
  {
   "cell_type": "code",
   "execution_count": null,
   "id": "f9bb444b",
   "metadata": {},
   "outputs": [],
   "source": [
    "# 예측력 Adjusted R-squared:  0.8466 "
   ]
  },
  {
   "cell_type": "code",
   "execution_count": 98,
   "id": "7371a4e2",
   "metadata": {},
   "outputs": [
    {
     "name": "stdout",
     "output_type": "stream",
     "text": [
      "Start:  AIC=495.34\n",
      "JongRo$부상자수 ~ JongRo$발생건수\n",
      "\n",
      "                  Df Sum of Sq   RSS    AIC\n",
      "<none>                         10215 495.34\n",
      "- JongRo$발생건수  1     57004 67219 696.83\n"
     ]
    },
    {
     "data": {
      "text/plain": [
       "\n",
       "Call:\n",
       "lm(formula = JongRo$부상자수 ~ JongRo$발생건수, data = JongRo)\n",
       "\n",
       "Coefficients:\n",
       "    (Intercept)  JongRo$발생건수  \n",
       "          2.886            1.360  \n"
      ]
     },
     "metadata": {},
     "output_type": "display_data"
    }
   ],
   "source": [
    "step(model.reg, direction = \"backward\" )"
   ]
  },
  {
   "cell_type": "code",
   "execution_count": 164,
   "id": "e70fb329",
   "metadata": {},
   "outputs": [
    {
     "name": "stdout",
     "output_type": "stream",
     "text": [
      "126.177 ~ 145.809"
     ]
    }
   ],
   "source": [
    "# 회귀식\n",
    "# - 발생건수가 100건일 경우의 부상 자수 예측\n",
    "funreg <- function (x){\n",
    "    y =1.35993* x\n",
    "    return (y)\n",
    "}\n",
    "cat(funreg(100) - 9.816 , \"~\",funreg(100) + 9.816)"
   ]
  },
  {
   "cell_type": "code",
   "execution_count": 230,
   "id": "31d86f0a",
   "metadata": {},
   "outputs": [
    {
     "data": {
      "text/html": [
       "197.18985"
      ],
      "text/latex": [
       "197.18985"
      ],
      "text/markdown": [
       "197.18985"
      ],
      "text/plain": [
       "[1] 197.1899"
      ]
     },
     "metadata": {},
     "output_type": "display_data"
    },
    {
     "data": {
      "text/html": [
       "203.9895"
      ],
      "text/latex": [
       "203.9895"
      ],
      "text/markdown": [
       "203.9895"
      ],
      "text/plain": [
       "[1] 203.9895"
      ]
     },
     "metadata": {},
     "output_type": "display_data"
    },
    {
     "data": {
      "text/html": [
       "115.59405"
      ],
      "text/latex": [
       "115.59405"
      ],
      "text/markdown": [
       "115.59405"
      ],
      "text/plain": [
       "[1] 115.5941"
      ]
     },
     "metadata": {},
     "output_type": "display_data"
    }
   ],
   "source": [
    "funreg(145)\n",
    "funreg(150)\n",
    "funreg(85)"
   ]
  },
  {
   "cell_type": "code",
   "execution_count": 165,
   "id": "1451e20f",
   "metadata": {},
   "outputs": [
    {
     "data": {
      "text/html": [
       "108"
      ],
      "text/latex": [
       "108"
      ],
      "text/markdown": [
       "108"
      ],
      "text/plain": [
       "[1] 108"
      ]
     },
     "metadata": {},
     "output_type": "display_data"
    }
   ],
   "source": [
    "nrow(JongRo)"
   ]
  },
  {
   "cell_type": "code",
   "execution_count": 233,
   "id": "3c46cf2d",
   "metadata": {},
   "outputs": [],
   "source": [
    "# 랜덤포레스트로 예측\n",
    "# - 발생건수가 100건일 경우의 부상자수 예측\n",
    "\n",
    "data.tr <- JongRo[,]\n",
    "x <- data.frame(발생건수 = 200)"
   ]
  },
  {
   "cell_type": "code",
   "execution_count": 234,
   "id": "1e22406c",
   "metadata": {},
   "outputs": [
    {
     "data": {
      "text/html": [
       "184.536066666667"
      ],
      "text/latex": [
       "184.536066666667"
      ],
      "text/markdown": [
       "184.536066666667"
      ],
      "text/plain": [
       "[1] 184.5361"
      ]
     },
     "metadata": {},
     "output_type": "display_data"
    }
   ],
   "source": [
    "a<- 0\n",
    "for (i in 1:5){\n",
    "    model.rf <- randomForest(부상자수 ~ 발생건수, data = data.tr, ntree = 100)\n",
    "    pred <- predict(model.rf,x)\n",
    "    pred\n",
    "    a<- c(a,pred)\n",
    "}\n",
    "a<- a[-1]\n",
    "mean(a)"
   ]
  },
  {
   "cell_type": "code",
   "execution_count": 217,
   "id": "023a6572",
   "metadata": {},
   "outputs": [
    {
     "data": {
      "text/html": [
       "<strong>1:</strong> 138.612428571429"
      ],
      "text/latex": [
       "\\textbf{1:} 138.612428571429"
      ],
      "text/markdown": [
       "**1:** 138.612428571429"
      ],
      "text/plain": [
       "       1 \n",
       "138.6124 "
      ]
     },
     "metadata": {},
     "output_type": "display_data"
    }
   ],
   "source": []
  },
  {
   "cell_type": "code",
   "execution_count": 153,
   "id": "acf5876b",
   "metadata": {},
   "outputs": [],
   "source": [
    "\n",
    "\n",
    "samp <- sample(1:108,75)\n",
    "# 학습용 데이터 만들기\n",
    "data.tr <- JongRo[samp,]\n",
    "# 검증용 데이터 만들기\n",
    "data.test <- JongRo[-samp,]\n",
    "# 문제 및 정답 만들기\n",
    "x <- subset(data.test , select = 발생건수 )\n",
    "y <- data.test$부상자수"
   ]
  },
  {
   "cell_type": "code",
   "execution_count": 154,
   "id": "48c73378",
   "metadata": {},
   "outputs": [
    {
     "data": {
      "text/html": [
       "<dl class=dl-horizontal>\n",
       "\t<dt>7</dt>\n",
       "\t\t<dd>140.741380952381</dd>\n",
       "\t<dt>11</dt>\n",
       "\t\t<dd>191.687833333333</dd>\n",
       "\t<dt>13</dt>\n",
       "\t\t<dd>153.518595238095</dd>\n",
       "\t<dt>14</dt>\n",
       "\t\t<dd>169.0895</dd>\n",
       "\t<dt>16</dt>\n",
       "\t\t<dd>178.588912337662</dd>\n",
       "\t<dt>17</dt>\n",
       "\t\t<dd>178.588912337662</dd>\n",
       "\t<dt>18</dt>\n",
       "\t\t<dd>152.014</dd>\n",
       "\t<dt>29</dt>\n",
       "\t\t<dd>142.345261904762</dd>\n",
       "\t<dt>33</dt>\n",
       "\t\t<dd>124.20901984127</dd>\n",
       "\t<dt>35</dt>\n",
       "\t\t<dd>173.061</dd>\n",
       "\t<dt>36</dt>\n",
       "\t\t<dd>153.208265873016</dd>\n",
       "\t<dt>38</dt>\n",
       "\t\t<dd>93.7963333333333</dd>\n",
       "\t<dt>39</dt>\n",
       "\t\t<dd>142.345261904762</dd>\n",
       "\t<dt>44</dt>\n",
       "\t\t<dd>154.471119047619</dd>\n",
       "\t<dt>50</dt>\n",
       "\t\t<dd>112.1855</dd>\n",
       "\t<dt>51</dt>\n",
       "\t\t<dd>178.588912337662</dd>\n",
       "\t<dt>52</dt>\n",
       "\t\t<dd>188.3595</dd>\n",
       "\t<dt>53</dt>\n",
       "\t\t<dd>187.3315</dd>\n",
       "\t<dt>65</dt>\n",
       "\t\t<dd>184.971833333333</dd>\n",
       "\t<dt>67</dt>\n",
       "\t\t<dd>169.811484126984</dd>\n",
       "\t<dt>71</dt>\n",
       "\t\t<dd>141.510142857143</dd>\n",
       "\t<dt>74</dt>\n",
       "\t\t<dd>94.7663333333333</dd>\n",
       "\t<dt>75</dt>\n",
       "\t\t<dd>139.001130952381</dd>\n",
       "\t<dt>80</dt>\n",
       "\t\t<dd>111.777166666667</dd>\n",
       "\t<dt>82</dt>\n",
       "\t\t<dd>134.567333333333</dd>\n",
       "\t<dt>83</dt>\n",
       "\t\t<dd>122.005333333333</dd>\n",
       "\t<dt>85</dt>\n",
       "\t\t<dd>140.741380952381</dd>\n",
       "\t<dt>92</dt>\n",
       "\t\t<dd>124.20901984127</dd>\n",
       "\t<dt>94</dt>\n",
       "\t\t<dd>156.105107142857</dd>\n",
       "\t<dt>102</dt>\n",
       "\t\t<dd>128.282833333333</dd>\n",
       "\t<dt>103</dt>\n",
       "\t\t<dd>111.193833333333</dd>\n",
       "\t<dt>106</dt>\n",
       "\t\t<dd>139.835047619048</dd>\n",
       "\t<dt>108</dt>\n",
       "\t\t<dd>139.3185</dd>\n",
       "</dl>\n"
      ],
      "text/latex": [
       "\\begin{description*}\n",
       "\\item[7] 140.741380952381\n",
       "\\item[11] 191.687833333333\n",
       "\\item[13] 153.518595238095\n",
       "\\item[14] 169.0895\n",
       "\\item[16] 178.588912337662\n",
       "\\item[17] 178.588912337662\n",
       "\\item[18] 152.014\n",
       "\\item[29] 142.345261904762\n",
       "\\item[33] 124.20901984127\n",
       "\\item[35] 173.061\n",
       "\\item[36] 153.208265873016\n",
       "\\item[38] 93.7963333333333\n",
       "\\item[39] 142.345261904762\n",
       "\\item[44] 154.471119047619\n",
       "\\item[50] 112.1855\n",
       "\\item[51] 178.588912337662\n",
       "\\item[52] 188.3595\n",
       "\\item[53] 187.3315\n",
       "\\item[65] 184.971833333333\n",
       "\\item[67] 169.811484126984\n",
       "\\item[71] 141.510142857143\n",
       "\\item[74] 94.7663333333333\n",
       "\\item[75] 139.001130952381\n",
       "\\item[80] 111.777166666667\n",
       "\\item[82] 134.567333333333\n",
       "\\item[83] 122.005333333333\n",
       "\\item[85] 140.741380952381\n",
       "\\item[92] 124.20901984127\n",
       "\\item[94] 156.105107142857\n",
       "\\item[102] 128.282833333333\n",
       "\\item[103] 111.193833333333\n",
       "\\item[106] 139.835047619048\n",
       "\\item[108] 139.3185\n",
       "\\end{description*}\n"
      ],
      "text/markdown": [
       "7\n",
       ":   140.74138095238111\n",
       ":   191.68783333333313\n",
       ":   153.51859523809514\n",
       ":   169.089516\n",
       ":   178.58891233766217\n",
       ":   178.58891233766218\n",
       ":   152.01429\n",
       ":   142.34526190476233\n",
       ":   124.2090198412735\n",
       ":   173.06136\n",
       ":   153.20826587301638\n",
       ":   93.796333333333339\n",
       ":   142.34526190476244\n",
       ":   154.47111904761950\n",
       ":   112.185551\n",
       ":   178.58891233766252\n",
       ":   188.359553\n",
       ":   187.331565\n",
       ":   184.97183333333367\n",
       ":   169.81148412698471\n",
       ":   141.51014285714374\n",
       ":   94.766333333333375\n",
       ":   139.00113095238180\n",
       ":   111.77716666666782\n",
       ":   134.56733333333383\n",
       ":   122.00533333333385\n",
       ":   140.74138095238192\n",
       ":   124.2090198412794\n",
       ":   156.105107142857102\n",
       ":   128.282833333333103\n",
       ":   111.193833333333106\n",
       ":   139.835047619048108\n",
       ":   139.3185\n",
       "\n"
      ],
      "text/plain": [
       "        7        11        13        14        16        17        18        29 \n",
       "140.74138 191.68783 153.51860 169.08950 178.58891 178.58891 152.01400 142.34526 \n",
       "       33        35        36        38        39        44        50        51 \n",
       "124.20902 173.06100 153.20827  93.79633 142.34526 154.47112 112.18550 178.58891 \n",
       "       52        53        65        67        71        74        75        80 \n",
       "188.35950 187.33150 184.97183 169.81148 141.51014  94.76633 139.00113 111.77717 \n",
       "       82        83        85        92        94       102       103       106 \n",
       "134.56733 122.00533 140.74138 124.20902 156.10511 128.28283 111.19383 139.83505 \n",
       "      108 \n",
       "139.31850 "
      ]
     },
     "metadata": {},
     "output_type": "display_data"
    }
   ],
   "source": [
    "pred2 <- predict(model.rf,x)\n",
    "pred2"
   ]
  },
  {
   "cell_type": "code",
   "execution_count": 225,
   "id": "4f4c7df0",
   "metadata": {},
   "outputs": [
    {
     "data": {
      "text/html": [
       "1.2234774571208"
      ],
      "text/latex": [
       "1.2234774571208"
      ],
      "text/markdown": [
       "1.2234774571208"
      ],
      "text/plain": [
       "[1] 1.223477"
      ]
     },
     "metadata": {},
     "output_type": "display_data"
    }
   ],
   "source": [
    "sqrt(sum((pred2-y)^2))/length(y)"
   ]
  },
  {
   "cell_type": "code",
   "execution_count": 238,
   "id": "a13cf6e4",
   "metadata": {},
   "outputs": [
    {
     "data": {
      "text/html": [
       "<ol class=list-inline>\n",
       "\t<li>'2011/1'</li>\n",
       "\t<li>'2011/2'</li>\n",
       "\t<li>'2011/3'</li>\n",
       "\t<li>'2011/4'</li>\n",
       "\t<li>'2011/5'</li>\n",
       "\t<li>'2011/6'</li>\n",
       "\t<li>'2011/7'</li>\n",
       "\t<li>'2011/8'</li>\n",
       "\t<li>'2011/9'</li>\n",
       "\t<li>'2011/10'</li>\n",
       "\t<li>'2011/11'</li>\n",
       "\t<li>'2011/12'</li>\n",
       "\t<li>'2012/1'</li>\n",
       "\t<li>'2012/2'</li>\n",
       "\t<li>'2012/3'</li>\n",
       "\t<li>'2012/4'</li>\n",
       "\t<li>'2012/5'</li>\n",
       "\t<li>'2012/6'</li>\n",
       "\t<li>'2012/7'</li>\n",
       "\t<li>'2012/8'</li>\n",
       "\t<li>'2012/9'</li>\n",
       "\t<li>'2012/10'</li>\n",
       "\t<li>'2012/11'</li>\n",
       "\t<li>'2012/12'</li>\n",
       "\t<li>'2013/1'</li>\n",
       "\t<li>'2013/2'</li>\n",
       "\t<li>'2013/3'</li>\n",
       "\t<li>'2013/4'</li>\n",
       "\t<li>'2013/5'</li>\n",
       "\t<li>'2013/6'</li>\n",
       "\t<li>'2013/7'</li>\n",
       "\t<li>'2013/8'</li>\n",
       "\t<li>'2013/9'</li>\n",
       "\t<li>'2013/10'</li>\n",
       "\t<li>'2013/11'</li>\n",
       "\t<li>'2013/12'</li>\n",
       "\t<li>'2014/1'</li>\n",
       "\t<li>'2014/2'</li>\n",
       "\t<li>'2014/3'</li>\n",
       "\t<li>'2014/4'</li>\n",
       "\t<li>'2014/5'</li>\n",
       "\t<li>'2014/6'</li>\n",
       "\t<li>'2014/7'</li>\n",
       "\t<li>'2014/8'</li>\n",
       "\t<li>'2014/9'</li>\n",
       "\t<li>'2014/10'</li>\n",
       "\t<li>'2014/11'</li>\n",
       "\t<li>'2014/12'</li>\n",
       "\t<li>'2015/1'</li>\n",
       "\t<li>'2015/2'</li>\n",
       "\t<li>'2015/3'</li>\n",
       "\t<li>'2015/4'</li>\n",
       "\t<li>'2015/5'</li>\n",
       "\t<li>'2015/6'</li>\n",
       "\t<li>'2015/7'</li>\n",
       "\t<li>'2015/8'</li>\n",
       "\t<li>'2015/9'</li>\n",
       "\t<li>'2015/10'</li>\n",
       "\t<li>'2015/11'</li>\n",
       "\t<li>'2015/12'</li>\n",
       "\t<li>'2016/1'</li>\n",
       "\t<li>'2016/2'</li>\n",
       "\t<li>'2016/3'</li>\n",
       "\t<li>'2016/4'</li>\n",
       "\t<li>'2016/5'</li>\n",
       "\t<li>'2016/6'</li>\n",
       "\t<li>'2016/7'</li>\n",
       "\t<li>'2016/8'</li>\n",
       "\t<li>'2016/9'</li>\n",
       "\t<li>'2016/10'</li>\n",
       "\t<li>'2016/11'</li>\n",
       "\t<li>'2016/12'</li>\n",
       "\t<li>'2017/1'</li>\n",
       "\t<li>'2017/2'</li>\n",
       "\t<li>'2017/3'</li>\n",
       "\t<li>'2017/4'</li>\n",
       "\t<li>'2017/5'</li>\n",
       "\t<li>'2017/6'</li>\n",
       "\t<li>'2017/7'</li>\n",
       "\t<li>'2017/8'</li>\n",
       "\t<li>'2017/9'</li>\n",
       "\t<li>'2017/10'</li>\n",
       "\t<li>'2017/11'</li>\n",
       "\t<li>'2017/12'</li>\n",
       "\t<li>'2018/1'</li>\n",
       "\t<li>'2018/2'</li>\n",
       "\t<li>'2018/3'</li>\n",
       "\t<li>'2018/4'</li>\n",
       "\t<li>'2018/5'</li>\n",
       "\t<li>'2018/6'</li>\n",
       "\t<li>'2018/7'</li>\n",
       "\t<li>'2018/8'</li>\n",
       "\t<li>'2018/9'</li>\n",
       "\t<li>'2018/10'</li>\n",
       "\t<li>'2018/11'</li>\n",
       "\t<li>'2018/12'</li>\n",
       "\t<li>'2019/1'</li>\n",
       "\t<li>'2019/2'</li>\n",
       "\t<li>'2019/3'</li>\n",
       "\t<li>'2019/4'</li>\n",
       "\t<li>'2019/5'</li>\n",
       "\t<li>'2019/6'</li>\n",
       "\t<li>'2019/7'</li>\n",
       "\t<li>'2019/8'</li>\n",
       "\t<li>'2019/9'</li>\n",
       "\t<li>'2019/10'</li>\n",
       "\t<li>'2019/11'</li>\n",
       "\t<li>'2019/12'</li>\n",
       "</ol>\n"
      ],
      "text/latex": [
       "\\begin{enumerate*}\n",
       "\\item '2011/1'\n",
       "\\item '2011/2'\n",
       "\\item '2011/3'\n",
       "\\item '2011/4'\n",
       "\\item '2011/5'\n",
       "\\item '2011/6'\n",
       "\\item '2011/7'\n",
       "\\item '2011/8'\n",
       "\\item '2011/9'\n",
       "\\item '2011/10'\n",
       "\\item '2011/11'\n",
       "\\item '2011/12'\n",
       "\\item '2012/1'\n",
       "\\item '2012/2'\n",
       "\\item '2012/3'\n",
       "\\item '2012/4'\n",
       "\\item '2012/5'\n",
       "\\item '2012/6'\n",
       "\\item '2012/7'\n",
       "\\item '2012/8'\n",
       "\\item '2012/9'\n",
       "\\item '2012/10'\n",
       "\\item '2012/11'\n",
       "\\item '2012/12'\n",
       "\\item '2013/1'\n",
       "\\item '2013/2'\n",
       "\\item '2013/3'\n",
       "\\item '2013/4'\n",
       "\\item '2013/5'\n",
       "\\item '2013/6'\n",
       "\\item '2013/7'\n",
       "\\item '2013/8'\n",
       "\\item '2013/9'\n",
       "\\item '2013/10'\n",
       "\\item '2013/11'\n",
       "\\item '2013/12'\n",
       "\\item '2014/1'\n",
       "\\item '2014/2'\n",
       "\\item '2014/3'\n",
       "\\item '2014/4'\n",
       "\\item '2014/5'\n",
       "\\item '2014/6'\n",
       "\\item '2014/7'\n",
       "\\item '2014/8'\n",
       "\\item '2014/9'\n",
       "\\item '2014/10'\n",
       "\\item '2014/11'\n",
       "\\item '2014/12'\n",
       "\\item '2015/1'\n",
       "\\item '2015/2'\n",
       "\\item '2015/3'\n",
       "\\item '2015/4'\n",
       "\\item '2015/5'\n",
       "\\item '2015/6'\n",
       "\\item '2015/7'\n",
       "\\item '2015/8'\n",
       "\\item '2015/9'\n",
       "\\item '2015/10'\n",
       "\\item '2015/11'\n",
       "\\item '2015/12'\n",
       "\\item '2016/1'\n",
       "\\item '2016/2'\n",
       "\\item '2016/3'\n",
       "\\item '2016/4'\n",
       "\\item '2016/5'\n",
       "\\item '2016/6'\n",
       "\\item '2016/7'\n",
       "\\item '2016/8'\n",
       "\\item '2016/9'\n",
       "\\item '2016/10'\n",
       "\\item '2016/11'\n",
       "\\item '2016/12'\n",
       "\\item '2017/1'\n",
       "\\item '2017/2'\n",
       "\\item '2017/3'\n",
       "\\item '2017/4'\n",
       "\\item '2017/5'\n",
       "\\item '2017/6'\n",
       "\\item '2017/7'\n",
       "\\item '2017/8'\n",
       "\\item '2017/9'\n",
       "\\item '2017/10'\n",
       "\\item '2017/11'\n",
       "\\item '2017/12'\n",
       "\\item '2018/1'\n",
       "\\item '2018/2'\n",
       "\\item '2018/3'\n",
       "\\item '2018/4'\n",
       "\\item '2018/5'\n",
       "\\item '2018/6'\n",
       "\\item '2018/7'\n",
       "\\item '2018/8'\n",
       "\\item '2018/9'\n",
       "\\item '2018/10'\n",
       "\\item '2018/11'\n",
       "\\item '2018/12'\n",
       "\\item '2019/1'\n",
       "\\item '2019/2'\n",
       "\\item '2019/3'\n",
       "\\item '2019/4'\n",
       "\\item '2019/5'\n",
       "\\item '2019/6'\n",
       "\\item '2019/7'\n",
       "\\item '2019/8'\n",
       "\\item '2019/9'\n",
       "\\item '2019/10'\n",
       "\\item '2019/11'\n",
       "\\item '2019/12'\n",
       "\\end{enumerate*}\n"
      ],
      "text/markdown": [
       "1. '2011/1'\n",
       "2. '2011/2'\n",
       "3. '2011/3'\n",
       "4. '2011/4'\n",
       "5. '2011/5'\n",
       "6. '2011/6'\n",
       "7. '2011/7'\n",
       "8. '2011/8'\n",
       "9. '2011/9'\n",
       "10. '2011/10'\n",
       "11. '2011/11'\n",
       "12. '2011/12'\n",
       "13. '2012/1'\n",
       "14. '2012/2'\n",
       "15. '2012/3'\n",
       "16. '2012/4'\n",
       "17. '2012/5'\n",
       "18. '2012/6'\n",
       "19. '2012/7'\n",
       "20. '2012/8'\n",
       "21. '2012/9'\n",
       "22. '2012/10'\n",
       "23. '2012/11'\n",
       "24. '2012/12'\n",
       "25. '2013/1'\n",
       "26. '2013/2'\n",
       "27. '2013/3'\n",
       "28. '2013/4'\n",
       "29. '2013/5'\n",
       "30. '2013/6'\n",
       "31. '2013/7'\n",
       "32. '2013/8'\n",
       "33. '2013/9'\n",
       "34. '2013/10'\n",
       "35. '2013/11'\n",
       "36. '2013/12'\n",
       "37. '2014/1'\n",
       "38. '2014/2'\n",
       "39. '2014/3'\n",
       "40. '2014/4'\n",
       "41. '2014/5'\n",
       "42. '2014/6'\n",
       "43. '2014/7'\n",
       "44. '2014/8'\n",
       "45. '2014/9'\n",
       "46. '2014/10'\n",
       "47. '2014/11'\n",
       "48. '2014/12'\n",
       "49. '2015/1'\n",
       "50. '2015/2'\n",
       "51. '2015/3'\n",
       "52. '2015/4'\n",
       "53. '2015/5'\n",
       "54. '2015/6'\n",
       "55. '2015/7'\n",
       "56. '2015/8'\n",
       "57. '2015/9'\n",
       "58. '2015/10'\n",
       "59. '2015/11'\n",
       "60. '2015/12'\n",
       "61. '2016/1'\n",
       "62. '2016/2'\n",
       "63. '2016/3'\n",
       "64. '2016/4'\n",
       "65. '2016/5'\n",
       "66. '2016/6'\n",
       "67. '2016/7'\n",
       "68. '2016/8'\n",
       "69. '2016/9'\n",
       "70. '2016/10'\n",
       "71. '2016/11'\n",
       "72. '2016/12'\n",
       "73. '2017/1'\n",
       "74. '2017/2'\n",
       "75. '2017/3'\n",
       "76. '2017/4'\n",
       "77. '2017/5'\n",
       "78. '2017/6'\n",
       "79. '2017/7'\n",
       "80. '2017/8'\n",
       "81. '2017/9'\n",
       "82. '2017/10'\n",
       "83. '2017/11'\n",
       "84. '2017/12'\n",
       "85. '2018/1'\n",
       "86. '2018/2'\n",
       "87. '2018/3'\n",
       "88. '2018/4'\n",
       "89. '2018/5'\n",
       "90. '2018/6'\n",
       "91. '2018/7'\n",
       "92. '2018/8'\n",
       "93. '2018/9'\n",
       "94. '2018/10'\n",
       "95. '2018/11'\n",
       "96. '2018/12'\n",
       "97. '2019/1'\n",
       "98. '2019/2'\n",
       "99. '2019/3'\n",
       "100. '2019/4'\n",
       "101. '2019/5'\n",
       "102. '2019/6'\n",
       "103. '2019/7'\n",
       "104. '2019/8'\n",
       "105. '2019/9'\n",
       "106. '2019/10'\n",
       "107. '2019/11'\n",
       "108. '2019/12'\n",
       "\n",
       "\n"
      ],
      "text/plain": [
       "  [1] \"2011/1\"  \"2011/2\"  \"2011/3\"  \"2011/4\"  \"2011/5\"  \"2011/6\"  \"2011/7\" \n",
       "  [8] \"2011/8\"  \"2011/9\"  \"2011/10\" \"2011/11\" \"2011/12\" \"2012/1\"  \"2012/2\" \n",
       " [15] \"2012/3\"  \"2012/4\"  \"2012/5\"  \"2012/6\"  \"2012/7\"  \"2012/8\"  \"2012/9\" \n",
       " [22] \"2012/10\" \"2012/11\" \"2012/12\" \"2013/1\"  \"2013/2\"  \"2013/3\"  \"2013/4\" \n",
       " [29] \"2013/5\"  \"2013/6\"  \"2013/7\"  \"2013/8\"  \"2013/9\"  \"2013/10\" \"2013/11\"\n",
       " [36] \"2013/12\" \"2014/1\"  \"2014/2\"  \"2014/3\"  \"2014/4\"  \"2014/5\"  \"2014/6\" \n",
       " [43] \"2014/7\"  \"2014/8\"  \"2014/9\"  \"2014/10\" \"2014/11\" \"2014/12\" \"2015/1\" \n",
       " [50] \"2015/2\"  \"2015/3\"  \"2015/4\"  \"2015/5\"  \"2015/6\"  \"2015/7\"  \"2015/8\" \n",
       " [57] \"2015/9\"  \"2015/10\" \"2015/11\" \"2015/12\" \"2016/1\"  \"2016/2\"  \"2016/3\" \n",
       " [64] \"2016/4\"  \"2016/5\"  \"2016/6\"  \"2016/7\"  \"2016/8\"  \"2016/9\"  \"2016/10\"\n",
       " [71] \"2016/11\" \"2016/12\" \"2017/1\"  \"2017/2\"  \"2017/3\"  \"2017/4\"  \"2017/5\" \n",
       " [78] \"2017/6\"  \"2017/7\"  \"2017/8\"  \"2017/9\"  \"2017/10\" \"2017/11\" \"2017/12\"\n",
       " [85] \"2018/1\"  \"2018/2\"  \"2018/3\"  \"2018/4\"  \"2018/5\"  \"2018/6\"  \"2018/7\" \n",
       " [92] \"2018/8\"  \"2018/9\"  \"2018/10\" \"2018/11\" \"2018/12\" \"2019/1\"  \"2019/2\" \n",
       " [99] \"2019/3\"  \"2019/4\"  \"2019/5\"  \"2019/6\"  \"2019/7\"  \"2019/8\"  \"2019/9\" \n",
       "[106] \"2019/10\" \"2019/11\" \"2019/12\""
      ]
     },
     "metadata": {},
     "output_type": "display_data"
    }
   ],
   "source": [
    "#(paste(JongRo$년도,JongRo$월,sep = \"/\"))\n",
    "#as.Date(paste(JongRo$년도,JongRo$월,sep = \"/\"),\"%Y/%m\")"
   ]
  },
  {
   "cell_type": "code",
   "execution_count": null,
   "id": "95589221",
   "metadata": {},
   "outputs": [],
   "source": []
  },
  {
   "cell_type": "code",
   "execution_count": null,
   "id": "48f502e8",
   "metadata": {},
   "outputs": [],
   "source": [
    "regression <- lm()"
   ]
  }
 ],
 "metadata": {
  "kernelspec": {
   "display_name": "R",
   "language": "R",
   "name": "ir"
  },
  "language_info": {
   "codemirror_mode": "r",
   "file_extension": ".r",
   "mimetype": "text/x-r-source",
   "name": "R",
   "pygments_lexer": "r",
   "version": "3.6.1"
  }
 },
 "nbformat": 4,
 "nbformat_minor": 5
}
