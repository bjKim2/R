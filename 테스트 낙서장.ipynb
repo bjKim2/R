{
 "cells": [
  {
   "cell_type": "code",
   "execution_count": 7,
   "id": "a1964542",
   "metadata": {},
   "outputs": [],
   "source": [
    "a <- 1\n",
    "b <- 0"
   ]
  },
  {
   "cell_type": "code",
   "execution_count": 12,
   "id": "75d1daab",
   "metadata": {},
   "outputs": [],
   "source": [
    "c <- \"a\""
   ]
  },
  {
   "cell_type": "code",
   "execution_count": 13,
   "id": "afceb86e",
   "metadata": {},
   "outputs": [],
   "source": [
    "d <- factor(\"d\")"
   ]
  },
  {
   "cell_type": "code",
   "execution_count": 14,
   "id": "afa1a8ec",
   "metadata": {},
   "outputs": [
    {
     "data": {
      "text/html": [
       "<ol class=list-inline>\n",
       "\t<li>'a'</li>\n",
       "\t<li>'b'</li>\n",
       "\t<li>'c'</li>\n",
       "\t<li>'d'</li>\n",
       "</ol>\n"
      ],
      "text/latex": [
       "\\begin{enumerate*}\n",
       "\\item 'a'\n",
       "\\item 'b'\n",
       "\\item 'c'\n",
       "\\item 'd'\n",
       "\\end{enumerate*}\n"
      ],
      "text/markdown": [
       "1. 'a'\n",
       "2. 'b'\n",
       "3. 'c'\n",
       "4. 'd'\n",
       "\n",
       "\n"
      ],
      "text/plain": [
       "[1] \"a\" \"b\" \"c\" \"d\""
      ]
     },
     "metadata": {},
     "output_type": "display_data"
    }
   ],
   "source": [
    "ls()"
   ]
  },
  {
   "cell_type": "code",
   "execution_count": 15,
   "id": "acf9535e",
   "metadata": {},
   "outputs": [
    {
     "data": {
      "text/plain": [
       "a :  num 1\n",
       "b :  num 0\n",
       "c :  chr \"a\"\n",
       "d :  Factor w/ 1 level \"d\": 1"
      ]
     },
     "metadata": {},
     "output_type": "display_data"
    }
   ],
   "source": [
    "ls.str()"
   ]
  },
  {
   "cell_type": "code",
   "execution_count": 6,
   "id": "df5ea7b9",
   "metadata": {},
   "outputs": [],
   "source": [
    "rm(list = ls())"
   ]
  },
  {
   "cell_type": "code",
   "execution_count": 17,
   "id": "788f4f93",
   "metadata": {},
   "outputs": [],
   "source": [
    "q<-c(1,2)"
   ]
  },
  {
   "cell_type": "code",
   "execution_count": 20,
   "id": "42e5bfc6",
   "metadata": {},
   "outputs": [
    {
     "data": {
      "text/html": [
       "<ol class=list-inline>\n",
       "\t<li>1</li>\n",
       "\t<li>1</li>\n",
       "\t<li>2</li>\n",
       "\t<li>2</li>\n",
       "</ol>\n"
      ],
      "text/latex": [
       "\\begin{enumerate*}\n",
       "\\item 1\n",
       "\\item 1\n",
       "\\item 2\n",
       "\\item 2\n",
       "\\end{enumerate*}\n"
      ],
      "text/markdown": [
       "1. 1\n",
       "2. 1\n",
       "3. 2\n",
       "4. 2\n",
       "\n",
       "\n"
      ],
      "text/plain": [
       "[1] 1 1 2 2"
      ]
     },
     "metadata": {},
     "output_type": "display_data"
    }
   ],
   "source": [
    "rep(q,each = 2)"
   ]
  },
  {
   "cell_type": "code",
   "execution_count": 22,
   "id": "8fdb7e09",
   "metadata": {},
   "outputs": [],
   "source": [
    "names(q) = c(\"q\",\"w\")"
   ]
  },
  {
   "cell_type": "code",
   "execution_count": 34,
   "id": "2b22553f",
   "metadata": {},
   "outputs": [
    {
     "data": {
      "text/plain": [
       "\n",
       "Call:\n",
       "lm(formula = Sepal.Length ~ Sepal.Width, data = iris)\n",
       "\n",
       "Coefficients:\n",
       "(Intercept)  Sepal.Width  \n",
       "     6.5262      -0.2234  \n"
      ]
     },
     "metadata": {},
     "output_type": "display_data"
    }
   ],
   "source": [
    "lm(Sepal.Length ~ Sepal.Width , data = iris)"
   ]
  },
  {
   "cell_type": "code",
   "execution_count": 39,
   "id": "8a7cf1e7",
   "metadata": {},
   "outputs": [
    {
     "data": {
      "text/html": [
       "1.09861228866811"
      ],
      "text/latex": [
       "1.09861228866811"
      ],
      "text/markdown": [
       "1.09861228866811"
      ],
      "text/plain": [
       "[1] 1.098612"
      ]
     },
     "metadata": {},
     "output_type": "display_data"
    }
   ],
   "source": [
    "log(3)"
   ]
  },
  {
   "cell_type": "code",
   "execution_count": 50,
   "id": "4a739ab9",
   "metadata": {},
   "outputs": [],
   "source": [
    "iris2 <- iris\n",
    "\n",
    "\n"
   ]
  },
  {
   "cell_type": "code",
   "execution_count": 95,
   "id": "deec33d2",
   "metadata": {},
   "outputs": [],
   "source": [
    "for (i in 1:3){\n",
    "    \n",
    "    iris2 <- cbind(iris2,cat = i)\n",
    "    colnames(iris2)[ncol(iris2)] <- paste(\"V\",i, sep = \"\")\n",
    "}\n",
    "\n"
   ]
  },
  {
   "cell_type": "code",
   "execution_count": 98,
   "id": "9854a9be",
   "metadata": {},
   "outputs": [
    {
     "data": {
      "text/html": [
       "'data.frame'"
      ],
      "text/latex": [
       "'data.frame'"
      ],
      "text/markdown": [
       "'data.frame'"
      ],
      "text/plain": [
       "[1] \"data.frame\""
      ]
     },
     "metadata": {},
     "output_type": "display_data"
    }
   ],
   "source": [
    "class(iris2)"
   ]
  },
  {
   "cell_type": "code",
   "execution_count": 66,
   "id": "2306bb8e",
   "metadata": {},
   "outputs": [
    {
     "data": {
      "text/html": [
       "<ol class=list-inline>\n",
       "\t<li>10</li>\n",
       "\t<li>6</li>\n",
       "</ol>\n"
      ],
      "text/latex": [
       "\\begin{enumerate*}\n",
       "\\item 10\n",
       "\\item 6\n",
       "\\end{enumerate*}\n"
      ],
      "text/markdown": [
       "1. 10\n",
       "2. 6\n",
       "\n",
       "\n"
      ],
      "text/plain": [
       "[1] 10  6"
      ]
     },
     "metadata": {},
     "output_type": "display_data"
    }
   ],
   "source": [
    "set.seed(1234)\n",
    "sample(1:10,2)"
   ]
  },
  {
   "cell_type": "code",
   "execution_count": 81,
   "id": "a5b7229d",
   "metadata": {},
   "outputs": [
    {
     "data": {
      "text/html": [
       "<ol class=list-inline>\n",
       "\t<li>3</li>\n",
       "\t<li>6</li>\n",
       "</ol>\n"
      ],
      "text/latex": [
       "\\begin{enumerate*}\n",
       "\\item 3\n",
       "\\item 6\n",
       "\\end{enumerate*}\n"
      ],
      "text/markdown": [
       "1. 3\n",
       "2. 6\n",
       "\n",
       "\n"
      ],
      "text/plain": [
       "[1] 3 6"
      ]
     },
     "metadata": {},
     "output_type": "display_data"
    }
   ],
   "source": [
    "sample(1:10,2)"
   ]
  },
  {
   "cell_type": "code",
   "execution_count": null,
   "id": "3bdb7052",
   "metadata": {},
   "outputs": [],
   "source": []
  }
 ],
 "metadata": {
  "kernelspec": {
   "display_name": "R",
   "language": "R",
   "name": "ir"
  },
  "language_info": {
   "codemirror_mode": "r",
   "file_extension": ".r",
   "mimetype": "text/x-r-source",
   "name": "R",
   "pygments_lexer": "r",
   "version": "3.6.1"
  }
 },
 "nbformat": 4,
 "nbformat_minor": 5
}
