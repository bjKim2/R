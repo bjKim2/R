{
 "cells": [
  {
   "cell_type": "code",
   "execution_count": 1,
   "id": "45b92137",
   "metadata": {},
   "outputs": [],
   "source": [
    "# Anaconda Navigator 에서 el071 설치"
   ]
  },
  {
   "cell_type": "code",
   "execution_count": 6,
   "id": "a50638ee",
   "metadata": {},
   "outputs": [],
   "source": [
    "library(e1071)"
   ]
  },
  {
   "cell_type": "code",
   "execution_count": 97,
   "id": "4933648f",
   "metadata": {},
   "outputs": [],
   "source": [
    "library(caret)"
   ]
  },
  {
   "cell_type": "code",
   "execution_count": 139,
   "id": "1fe1d05c",
   "metadata": {},
   "outputs": [],
   "source": [
    "iris2 <- iris"
   ]
  },
  {
   "cell_type": "code",
   "execution_count": 160,
   "id": "31c88c25",
   "metadata": {},
   "outputs": [],
   "source": [
    "iris2[,1:4] <- as.data.frame(scale(iris[,1:4]))\n"
   ]
  },
  {
   "cell_type": "code",
   "execution_count": 271,
   "id": "7d19be83",
   "metadata": {},
   "outputs": [],
   "source": [
    "# Sampling , 학습용, 검증용 만들기\n",
    "samp <- createDataPartition(iris$Species , p = 0.7 , list = F)\n",
    "data.tr <- iris2[samp,]\n",
    "data.test <- iris2[-samp,]\n",
    "\n"
   ]
  },
  {
   "cell_type": "code",
   "execution_count": 272,
   "id": "0b52f752",
   "metadata": {},
   "outputs": [],
   "source": [
    "# 문제와 정답 만들기\n",
    "x<- subset(data.test, select = -Species)\n",
    "y <- data.test$Species\n"
   ]
  },
  {
   "cell_type": "code",
   "execution_count": 273,
   "id": "a10f0630",
   "metadata": {},
   "outputs": [],
   "source": [
    "# 학습시키기\n",
    "model.svm = svm(Species ~ . , data = data.tr)"
   ]
  },
  {
   "cell_type": "code",
   "execution_count": 274,
   "id": "082b1605",
   "metadata": {},
   "outputs": [
    {
     "data": {
      "text/html": [
       "<dl class=dl-horizontal>\n",
       "\t<dt>1</dt>\n",
       "\t\t<dd>setosa</dd>\n",
       "\t<dt>3</dt>\n",
       "\t\t<dd>setosa</dd>\n",
       "\t<dt>4</dt>\n",
       "\t\t<dd>setosa</dd>\n",
       "\t<dt>8</dt>\n",
       "\t\t<dd>setosa</dd>\n",
       "\t<dt>13</dt>\n",
       "\t\t<dd>setosa</dd>\n",
       "\t<dt>16</dt>\n",
       "\t\t<dd>setosa</dd>\n",
       "</dl>\n",
       "\n",
       "<details>\n",
       "\t<summary style=display:list-item;cursor:pointer>\n",
       "\t\t<strong>Levels</strong>:\n",
       "\t</summary>\n",
       "\t<ol class=list-inline>\n",
       "\t\t<li>'setosa'</li>\n",
       "\t\t<li>'versicolor'</li>\n",
       "\t\t<li>'virginica'</li>\n",
       "\t</ol>\n",
       "</details>"
      ],
      "text/latex": [
       "\\begin{description*}\n",
       "\\item[1] setosa\n",
       "\\item[3] setosa\n",
       "\\item[4] setosa\n",
       "\\item[8] setosa\n",
       "\\item[13] setosa\n",
       "\\item[16] setosa\n",
       "\\end{description*}\n",
       "\n",
       "\\emph{Levels}: \\begin{enumerate*}\n",
       "\\item 'setosa'\n",
       "\\item 'versicolor'\n",
       "\\item 'virginica'\n",
       "\\end{enumerate*}\n"
      ],
      "text/markdown": [
       "1\n",
       ":   setosa3\n",
       ":   setosa4\n",
       ":   setosa8\n",
       ":   setosa13\n",
       ":   setosa16\n",
       ":   setosa\n",
       "\n",
       "\n",
       "**Levels**: 1. 'setosa'\n",
       "2. 'versicolor'\n",
       "3. 'virginica'\n",
       "\n",
       "\n"
      ],
      "text/plain": [
       "     1      3      4      8     13     16 \n",
       "setosa setosa setosa setosa setosa setosa \n",
       "Levels: setosa versicolor virginica"
      ]
     },
     "metadata": {},
     "output_type": "display_data"
    }
   ],
   "source": [
    "# 검증하기\n",
    "pred = predict(model.svm,x)\n",
    "head(pred)"
   ]
  },
  {
   "cell_type": "code",
   "execution_count": 275,
   "id": "8a7db1d7",
   "metadata": {},
   "outputs": [
    {
     "data": {
      "text/html": [
       "1"
      ],
      "text/latex": [
       "1"
      ],
      "text/markdown": [
       "1"
      ],
      "text/plain": [
       "[1] 1"
      ]
     },
     "metadata": {},
     "output_type": "display_data"
    },
    {
     "data": {
      "text/plain": [
       "            y\n",
       "pred         setosa versicolor virginica\n",
       "  setosa         15          0         0\n",
       "  versicolor      0         15         0\n",
       "  virginica       0          0        15"
      ]
     },
     "metadata": {},
     "output_type": "display_data"
    }
   ],
   "source": [
    "mean(pred == y)\n",
    "table(pred,y)"
   ]
  },
  {
   "cell_type": "code",
   "execution_count": null,
   "id": "5346803a",
   "metadata": {},
   "outputs": [],
   "source": []
  },
  {
   "cell_type": "code",
   "execution_count": null,
   "id": "60b7a1e0",
   "metadata": {},
   "outputs": [],
   "source": []
  },
  {
   "cell_type": "code",
   "execution_count": null,
   "id": "f78b70f7",
   "metadata": {},
   "outputs": [],
   "source": []
  },
  {
   "cell_type": "code",
   "execution_count": null,
   "id": "9dd73047",
   "metadata": {},
   "outputs": [],
   "source": []
  }
 ],
 "metadata": {
  "kernelspec": {
   "display_name": "R",
   "language": "R",
   "name": "ir"
  },
  "language_info": {
   "codemirror_mode": "r",
   "file_extension": ".r",
   "mimetype": "text/x-r-source",
   "name": "R",
   "pygments_lexer": "r",
   "version": "3.6.1"
  }
 },
 "nbformat": 4,
 "nbformat_minor": 5
}
