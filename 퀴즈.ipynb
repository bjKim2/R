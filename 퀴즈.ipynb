{
 "cells": [
  {
   "cell_type": "code",
   "execution_count": 1,
   "id": "2d370ef0",
   "metadata": {},
   "outputs": [
    {
     "name": "stderr",
     "output_type": "stream",
     "text": [
      "\n",
      "Attaching package: ‘dplyr’\n",
      "\n",
      "The following objects are masked from ‘package:stats’:\n",
      "\n",
      "    filter, lag\n",
      "\n",
      "The following objects are masked from ‘package:base’:\n",
      "\n",
      "    intersect, setdiff, setequal, union\n",
      "\n"
     ]
    }
   ],
   "source": [
    "library(dplyr)"
   ]
  },
  {
   "cell_type": "code",
   "execution_count": 2,
   "id": "3ac18d35",
   "metadata": {},
   "outputs": [],
   "source": [
    "library(plotrix)"
   ]
  },
  {
   "cell_type": "code",
   "execution_count": 3,
   "id": "44e3f8e5",
   "metadata": {},
   "outputs": [],
   "source": [
    "library(stringr)"
   ]
  },
  {
   "cell_type": "code",
   "execution_count": null,
   "id": "6a4dcf29",
   "metadata": {},
   "outputs": [],
   "source": [
    "#fileEncoding = \"utf-8\",header = F,stingsAsFactors = T\n",
    "data <- read.csv(\"../Data/election_2022.csv\")\n",
    "\n"
   ]
  },
  {
   "cell_type": "code",
   "execution_count": null,
   "id": "78c36abc",
   "metadata": {},
   "outputs": [],
   "source": [
    "head(data)\n",
    "tail(data)"
   ]
  },
  {
   "cell_type": "code",
   "execution_count": null,
   "id": "9cbb0508",
   "metadata": {},
   "outputs": [],
   "source": [
    "str(data)"
   ]
  },
  {
   "cell_type": "code",
   "execution_count": null,
   "id": "befbb0eb",
   "metadata": {},
   "outputs": [],
   "source": [
    "summary(data)"
   ]
  },
  {
   "cell_type": "code",
   "execution_count": 4,
   "id": "fc63b53d",
   "metadata": {},
   "outputs": [
    {
     "ename": "ERROR",
     "evalue": "Error in is.na(): 1를 필요로 하는 'is.na'에 인자 0가 전달되었습니다\n",
     "output_type": "error",
     "traceback": [
      "Error in is.na(): 1를 필요로 하는 'is.na'에 인자 0가 전달되었습니다\nTraceback:\n"
     ]
    }
   ],
   "source": [
    "sum(is.na(data))"
   ]
  },
  {
   "cell_type": "code",
   "execution_count": null,
   "id": "10cb5b34",
   "metadata": {},
   "outputs": [],
   "source": [
    "for(i in 1:ncol(data))\n",
    "    print(table(data[i]))"
   ]
  },
  {
   "cell_type": "code",
   "execution_count": null,
   "id": "6059cce7",
   "metadata": {},
   "outputs": [],
   "source": [
    "for(i in 1:ncol(data))\n",
    "    print(table(data[i]))"
   ]
  },
  {
   "cell_type": "code",
   "execution_count": 5,
   "id": "800dfcab",
   "metadata": {},
   "outputs": [
    {
     "ename": "ERROR",
     "evalue": "Error in data$성별: 객체의 타입 'closure'는 부분대입할 수 없습니다\n",
     "output_type": "error",
     "traceback": [
      "Error in data$성별: 객체의 타입 'closure'는 부분대입할 수 없습니다\nTraceback:\n",
      "1. barplot(table(data$성별, data$학력), beside = T, main = \"성별 학력별 빈도수\", \n .     xlab = \"학력별\", ylab = \"빈도수\", ylim = c(0, 6), col = c(\"orange\", \n .         \"yellow\"), border = c(\"orange\", \"yellow\"), legend.text = T, \n .     density = c(1, 30))",
      "2. table(data$성별, data$학력)"
     ]
    }
   ],
   "source": [
    "par(family = \"AppleGothic\")\n",
    "options(warn = -1)\n",
    "\n",
    "#table(data$학력, data$성별)\n",
    "\n",
    "barplot(table(data$성별, data$학력),\n",
    "        beside = T,\n",
    "        main = \"성별 학력별 빈도수\",\n",
    "        xlab = \"학력별\",\n",
    "        ylab = \"빈도수\",\n",
    "        ylim = c(0,6),\n",
    "        col = c(\"orange\",\"yellow\"),\n",
    "        border = c(\"orange\",\"yellow\"),\n",
    "        legend.text = T,\n",
    "        density = c(1,30)\n",
    "       )\n",
    "\n",
    "legend(7,80,  \n",
    "       rownames(VADeaths),\n",
    "       fill = rainbow(5), \n",
    "       cex = 0.7 \n",
    "      )\n",
    "\n",
    "lines(def,\n",
    "      type= \"o\",\n",
    "      pch = 22,\n",
    "      col = \"green\",\n",
    "      lty = 3\n",
    "     )\n"
   ]
  },
  {
   "cell_type": "code",
   "execution_count": 6,
   "id": "53309aff",
   "metadata": {},
   "outputs": [],
   "source": [
    "# 어그리게이트\n",
    "#funx <- function(x){\n",
    "#    arrange(as.data.frame(table(x)),desc(as.data.frame(table(x))[,2]))[1,1]\n",
    "#}\n",
    "#aggregate(cbind(Sepal.Length,Sepal.Width) ~ Species+Petal.Width,iris, funx)\n"
   ]
  },
  {
   "cell_type": "code",
   "execution_count": null,
   "id": "7d026523",
   "metadata": {},
   "outputs": [],
   "source": [
    "#어플라이\n",
    "#apply(election[3,5:7],1,table\n"
   ]
  }
 ],
 "metadata": {
  "kernelspec": {
   "display_name": "R",
   "language": "R",
   "name": "ir"
  },
  "language_info": {
   "codemirror_mode": "r",
   "file_extension": ".r",
   "mimetype": "text/x-r-source",
   "name": "R",
   "pygments_lexer": "r",
   "version": "3.6.1"
  }
 },
 "nbformat": 4,
 "nbformat_minor": 5
}
