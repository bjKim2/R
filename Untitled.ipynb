{
 "cells": [
  {
   "cell_type": "code",
   "execution_count": 1,
   "id": "83c7e9ff",
   "metadata": {},
   "outputs": [
    {
     "name": "stderr",
     "output_type": "stream",
     "text": [
      "\n",
      "Attaching package: ‘dplyr’\n",
      "\n",
      "The following objects are masked from ‘package:stats’:\n",
      "\n",
      "    filter, lag\n",
      "\n",
      "The following objects are masked from ‘package:base’:\n",
      "\n",
      "    intersect, setdiff, setequal, union\n",
      "\n"
     ]
    }
   ],
   "source": [
    "library(dplyr)"
   ]
  },
  {
   "cell_type": "code",
   "execution_count": 2,
   "id": "39bb017d",
   "metadata": {},
   "outputs": [
    {
     "data": {
      "text/html": [
       "<table>\n",
       "<thead><tr><th scope=col>Sepal.Length</th><th scope=col>Sepal.Width</th><th scope=col>Petal.Length</th><th scope=col>Petal.Width</th><th scope=col>Species</th></tr></thead>\n",
       "<tbody>\n",
       "\t<tr><td>5.1   </td><td>3.5   </td><td>1.4   </td><td>0.2   </td><td>setosa</td></tr>\n",
       "\t<tr><td>4.9   </td><td>3.0   </td><td>1.4   </td><td>0.2   </td><td>setosa</td></tr>\n",
       "\t<tr><td>4.7   </td><td>3.2   </td><td>1.3   </td><td>0.2   </td><td>setosa</td></tr>\n",
       "\t<tr><td>4.6   </td><td>3.1   </td><td>1.5   </td><td>0.2   </td><td>setosa</td></tr>\n",
       "\t<tr><td>5.0   </td><td>3.6   </td><td>1.4   </td><td>0.2   </td><td>setosa</td></tr>\n",
       "\t<tr><td>5.4   </td><td>3.9   </td><td>1.7   </td><td>0.4   </td><td>setosa</td></tr>\n",
       "</tbody>\n",
       "</table>\n"
      ],
      "text/latex": [
       "\\begin{tabular}{r|lllll}\n",
       " Sepal.Length & Sepal.Width & Petal.Length & Petal.Width & Species\\\\\n",
       "\\hline\n",
       "\t 5.1    & 3.5    & 1.4    & 0.2    & setosa\\\\\n",
       "\t 4.9    & 3.0    & 1.4    & 0.2    & setosa\\\\\n",
       "\t 4.7    & 3.2    & 1.3    & 0.2    & setosa\\\\\n",
       "\t 4.6    & 3.1    & 1.5    & 0.2    & setosa\\\\\n",
       "\t 5.0    & 3.6    & 1.4    & 0.2    & setosa\\\\\n",
       "\t 5.4    & 3.9    & 1.7    & 0.4    & setosa\\\\\n",
       "\\end{tabular}\n"
      ],
      "text/markdown": [
       "\n",
       "| Sepal.Length | Sepal.Width | Petal.Length | Petal.Width | Species |\n",
       "|---|---|---|---|---|\n",
       "| 5.1    | 3.5    | 1.4    | 0.2    | setosa |\n",
       "| 4.9    | 3.0    | 1.4    | 0.2    | setosa |\n",
       "| 4.7    | 3.2    | 1.3    | 0.2    | setosa |\n",
       "| 4.6    | 3.1    | 1.5    | 0.2    | setosa |\n",
       "| 5.0    | 3.6    | 1.4    | 0.2    | setosa |\n",
       "| 5.4    | 3.9    | 1.7    | 0.4    | setosa |\n",
       "\n"
      ],
      "text/plain": [
       "  Sepal.Length Sepal.Width Petal.Length Petal.Width Species\n",
       "1 5.1          3.5         1.4          0.2         setosa \n",
       "2 4.9          3.0         1.4          0.2         setosa \n",
       "3 4.7          3.2         1.3          0.2         setosa \n",
       "4 4.6          3.1         1.5          0.2         setosa \n",
       "5 5.0          3.6         1.4          0.2         setosa \n",
       "6 5.4          3.9         1.7          0.4         setosa "
      ]
     },
     "metadata": {},
     "output_type": "display_data"
    }
   ],
   "source": [
    "head(iris)"
   ]
  },
  {
   "cell_type": "code",
   "execution_count": 1,
   "id": "5336fe3d",
   "metadata": {},
   "outputs": [
    {
     "data": {
      "text/html": [
       "<table>\n",
       "<thead><tr><th scope=col>Species</th><th scope=col>Petal.Width</th><th scope=col>Sepal.Length</th><th scope=col>Sepal.Width</th></tr></thead>\n",
       "<tbody>\n",
       "\t<tr><td>setosa    </td><td>0.1       </td><td>1, 1, 2, 1</td><td>2, 1, 1, 1</td></tr>\n",
       "\t<tr><td>setosa                            </td><td>0.2                               </td><td>3, 3, 2, 3, 2, 5, 3, 2, 1, 2, 2, 1</td><td>1, 3, 3, 5, 1, 6, 3, 2, 2, 1, 1, 1</td></tr>\n",
       "\t<tr><td>setosa          </td><td>0.3             </td><td>1, 1, 1, 1, 2, 1</td><td>1, 1, 1, 2, 2   </td></tr>\n",
       "\t<tr><td>setosa       </td><td>0.4          </td><td>1, 2, 3, 1   </td><td>2, 1, 1, 2, 1</td></tr>\n",
       "\t<tr><td>setosa    </td><td>0.5       </td><td>1         </td><td>1         </td></tr>\n",
       "\t<tr><td>setosa    </td><td>0.6       </td><td>1         </td><td>1         </td></tr>\n",
       "\t<tr><td>versicolor      </td><td>1.0             </td><td>1, 2, 1, 1, 1, 1</td><td>1, 1, 1, 2, 1, 1</td></tr>\n",
       "\t<tr><td>versicolor</td><td>1.1       </td><td>1, 1, 1   </td><td>1, 2      </td></tr>\n",
       "\t<tr><td>versicolor</td><td>1.2       </td><td>1, 1, 2, 1</td><td>2, 1, 1, 1</td></tr>\n",
       "\t<tr><td>versicolor            </td><td>1.3                   </td><td>2, 3, 3, 1, 1, 1, 1, 1</td><td>2, 1, 1, 3, 5, 1      </td></tr>\n",
       "\t<tr><td>versicolor      </td><td>1.4             </td><td>1, 2, 1, 1, 1, 1</td><td>1, 1, 1, 2, 1, 1</td></tr>\n",
       "\t<tr><td>virginica </td><td>1.4       </td><td>1         </td><td>1         </td></tr>\n",
       "\t<tr><td>versicolor                  </td><td>1.5                         </td><td>1, 1, 1, 1, 1, 1, 1, 1, 1, 1</td><td>1, 1, 1, 1, 3, 2, 1         </td></tr>\n",
       "\t<tr><td>virginica </td><td>1.5       </td><td>1, 1      </td><td>1, 1      </td></tr>\n",
       "\t<tr><td>versicolor</td><td>1.6       </td><td>2, 1      </td><td>1, 1, 1   </td></tr>\n",
       "\t<tr><td>virginica </td><td>1.6       </td><td>1         </td><td>1         </td></tr>\n",
       "\t<tr><td>versicolor</td><td>1.7       </td><td>1         </td><td>1         </td></tr>\n",
       "\t<tr><td>virginica </td><td>1.7       </td><td>1         </td><td>1         </td></tr>\n",
       "\t<tr><td>versicolor</td><td>1.8       </td><td>1         </td><td>1         </td></tr>\n",
       "\t<tr><td>virginica                   </td><td>1.8                         </td><td>1, 1, 1, 1, 2, 1, 1, 1, 1, 1</td><td>1, 1, 1, 2, 4, 1, 1         </td></tr>\n",
       "\t<tr><td>virginica </td><td>1.9       </td><td>2, 1, 1, 1</td><td>1, 3, 1   </td></tr>\n",
       "\t<tr><td>virginica    </td><td>2.0          </td><td>1, 1, 2, 1, 1</td><td>1, 2, 1, 1, 1</td></tr>\n",
       "\t<tr><td>virginica       </td><td>2.1             </td><td>1, 1, 1, 1, 1, 1</td><td>1, 3, 1, 1      </td></tr>\n",
       "\t<tr><td>virginica </td><td>2.2       </td><td>1, 1, 1   </td><td>1, 1, 1   </td></tr>\n",
       "\t<tr><td>virginica       </td><td>2.3             </td><td>1, 1, 1, 1, 2, 2</td><td>1, 2, 1, 3, 1   </td></tr>\n",
       "\t<tr><td>virginica </td><td>2.4       </td><td>1, 1, 1   </td><td>1, 1, 1   </td></tr>\n",
       "\t<tr><td>virginica </td><td>2.5       </td><td>1, 1, 1   </td><td>2, 1      </td></tr>\n",
       "</tbody>\n",
       "</table>\n"
      ],
      "text/latex": [
       "\\begin{tabular}{r|llll}\n",
       " Species & Petal.Width & Sepal.Length & Sepal.Width\\\\\n",
       "\\hline\n",
       "\t setosa     & 0.1        & 1, 1, 2, 1 & 2, 1, 1, 1\\\\\n",
       "\t setosa                             & 0.2                                & 3, 3, 2, 3, 2, 5, 3, 2, 1, 2, 2, 1 & 1, 3, 3, 5, 1, 6, 3, 2, 2, 1, 1, 1\\\\\n",
       "\t setosa           & 0.3              & 1, 1, 1, 1, 2, 1 & 1, 1, 1, 2, 2   \\\\\n",
       "\t setosa        & 0.4           & 1, 2, 3, 1    & 2, 1, 1, 2, 1\\\\\n",
       "\t setosa     & 0.5        & 1          & 1         \\\\\n",
       "\t setosa     & 0.6        & 1          & 1         \\\\\n",
       "\t versicolor       & 1.0              & 1, 2, 1, 1, 1, 1 & 1, 1, 1, 2, 1, 1\\\\\n",
       "\t versicolor & 1.1        & 1, 1, 1    & 1, 2      \\\\\n",
       "\t versicolor & 1.2        & 1, 1, 2, 1 & 2, 1, 1, 1\\\\\n",
       "\t versicolor             & 1.3                    & 2, 3, 3, 1, 1, 1, 1, 1 & 2, 1, 1, 3, 5, 1      \\\\\n",
       "\t versicolor       & 1.4              & 1, 2, 1, 1, 1, 1 & 1, 1, 1, 2, 1, 1\\\\\n",
       "\t virginica  & 1.4        & 1          & 1         \\\\\n",
       "\t versicolor                   & 1.5                          & 1, 1, 1, 1, 1, 1, 1, 1, 1, 1 & 1, 1, 1, 1, 3, 2, 1         \\\\\n",
       "\t virginica  & 1.5        & 1, 1       & 1, 1      \\\\\n",
       "\t versicolor & 1.6        & 2, 1       & 1, 1, 1   \\\\\n",
       "\t virginica  & 1.6        & 1          & 1         \\\\\n",
       "\t versicolor & 1.7        & 1          & 1         \\\\\n",
       "\t virginica  & 1.7        & 1          & 1         \\\\\n",
       "\t versicolor & 1.8        & 1          & 1         \\\\\n",
       "\t virginica                    & 1.8                          & 1, 1, 1, 1, 2, 1, 1, 1, 1, 1 & 1, 1, 1, 2, 4, 1, 1         \\\\\n",
       "\t virginica  & 1.9        & 2, 1, 1, 1 & 1, 3, 1   \\\\\n",
       "\t virginica     & 2.0           & 1, 1, 2, 1, 1 & 1, 2, 1, 1, 1\\\\\n",
       "\t virginica        & 2.1              & 1, 1, 1, 1, 1, 1 & 1, 3, 1, 1      \\\\\n",
       "\t virginica  & 2.2        & 1, 1, 1    & 1, 1, 1   \\\\\n",
       "\t virginica        & 2.3              & 1, 1, 1, 1, 2, 2 & 1, 2, 1, 3, 1   \\\\\n",
       "\t virginica  & 2.4        & 1, 1, 1    & 1, 1, 1   \\\\\n",
       "\t virginica  & 2.5        & 1, 1, 1    & 2, 1      \\\\\n",
       "\\end{tabular}\n"
      ],
      "text/markdown": [
       "\n",
       "| Species | Petal.Width | Sepal.Length | Sepal.Width |\n",
       "|---|---|---|---|\n",
       "| setosa     | 0.1        | 1, 1, 2, 1 | 2, 1, 1, 1 |\n",
       "| setosa                             | 0.2                                | 3, 3, 2, 3, 2, 5, 3, 2, 1, 2, 2, 1 | 1, 3, 3, 5, 1, 6, 3, 2, 2, 1, 1, 1 |\n",
       "| setosa           | 0.3              | 1, 1, 1, 1, 2, 1 | 1, 1, 1, 2, 2    |\n",
       "| setosa        | 0.4           | 1, 2, 3, 1    | 2, 1, 1, 2, 1 |\n",
       "| setosa     | 0.5        | 1          | 1          |\n",
       "| setosa     | 0.6        | 1          | 1          |\n",
       "| versicolor       | 1.0              | 1, 2, 1, 1, 1, 1 | 1, 1, 1, 2, 1, 1 |\n",
       "| versicolor | 1.1        | 1, 1, 1    | 1, 2       |\n",
       "| versicolor | 1.2        | 1, 1, 2, 1 | 2, 1, 1, 1 |\n",
       "| versicolor             | 1.3                    | 2, 3, 3, 1, 1, 1, 1, 1 | 2, 1, 1, 3, 5, 1       |\n",
       "| versicolor       | 1.4              | 1, 2, 1, 1, 1, 1 | 1, 1, 1, 2, 1, 1 |\n",
       "| virginica  | 1.4        | 1          | 1          |\n",
       "| versicolor                   | 1.5                          | 1, 1, 1, 1, 1, 1, 1, 1, 1, 1 | 1, 1, 1, 1, 3, 2, 1          |\n",
       "| virginica  | 1.5        | 1, 1       | 1, 1       |\n",
       "| versicolor | 1.6        | 2, 1       | 1, 1, 1    |\n",
       "| virginica  | 1.6        | 1          | 1          |\n",
       "| versicolor | 1.7        | 1          | 1          |\n",
       "| virginica  | 1.7        | 1          | 1          |\n",
       "| versicolor | 1.8        | 1          | 1          |\n",
       "| virginica                    | 1.8                          | 1, 1, 1, 1, 2, 1, 1, 1, 1, 1 | 1, 1, 1, 2, 4, 1, 1          |\n",
       "| virginica  | 1.9        | 2, 1, 1, 1 | 1, 3, 1    |\n",
       "| virginica     | 2.0           | 1, 1, 2, 1, 1 | 1, 2, 1, 1, 1 |\n",
       "| virginica        | 2.1              | 1, 1, 1, 1, 1, 1 | 1, 3, 1, 1       |\n",
       "| virginica  | 2.2        | 1, 1, 1    | 1, 1, 1    |\n",
       "| virginica        | 2.3              | 1, 1, 1, 1, 2, 2 | 1, 2, 1, 3, 1    |\n",
       "| virginica  | 2.4        | 1, 1, 1    | 1, 1, 1    |\n",
       "| virginica  | 2.5        | 1, 1, 1    | 2, 1       |\n",
       "\n"
      ],
      "text/plain": [
       "   Species    Petal.Width Sepal.Length                      \n",
       "1  setosa     0.1         1, 1, 2, 1                        \n",
       "2  setosa     0.2         3, 3, 2, 3, 2, 5, 3, 2, 1, 2, 2, 1\n",
       "3  setosa     0.3         1, 1, 1, 1, 2, 1                  \n",
       "4  setosa     0.4         1, 2, 3, 1                        \n",
       "5  setosa     0.5         1                                 \n",
       "6  setosa     0.6         1                                 \n",
       "7  versicolor 1.0         1, 2, 1, 1, 1, 1                  \n",
       "8  versicolor 1.1         1, 1, 1                           \n",
       "9  versicolor 1.2         1, 1, 2, 1                        \n",
       "10 versicolor 1.3         2, 3, 3, 1, 1, 1, 1, 1            \n",
       "11 versicolor 1.4         1, 2, 1, 1, 1, 1                  \n",
       "12 virginica  1.4         1                                 \n",
       "13 versicolor 1.5         1, 1, 1, 1, 1, 1, 1, 1, 1, 1      \n",
       "14 virginica  1.5         1, 1                              \n",
       "15 versicolor 1.6         2, 1                              \n",
       "16 virginica  1.6         1                                 \n",
       "17 versicolor 1.7         1                                 \n",
       "18 virginica  1.7         1                                 \n",
       "19 versicolor 1.8         1                                 \n",
       "20 virginica  1.8         1, 1, 1, 1, 2, 1, 1, 1, 1, 1      \n",
       "21 virginica  1.9         2, 1, 1, 1                        \n",
       "22 virginica  2.0         1, 1, 2, 1, 1                     \n",
       "23 virginica  2.1         1, 1, 1, 1, 1, 1                  \n",
       "24 virginica  2.2         1, 1, 1                           \n",
       "25 virginica  2.3         1, 1, 1, 1, 2, 2                  \n",
       "26 virginica  2.4         1, 1, 1                           \n",
       "27 virginica  2.5         1, 1, 1                           \n",
       "   Sepal.Width                       \n",
       "1  2, 1, 1, 1                        \n",
       "2  1, 3, 3, 5, 1, 6, 3, 2, 2, 1, 1, 1\n",
       "3  1, 1, 1, 2, 2                     \n",
       "4  2, 1, 1, 2, 1                     \n",
       "5  1                                 \n",
       "6  1                                 \n",
       "7  1, 1, 1, 2, 1, 1                  \n",
       "8  1, 2                              \n",
       "9  2, 1, 1, 1                        \n",
       "10 2, 1, 1, 3, 5, 1                  \n",
       "11 1, 1, 1, 2, 1, 1                  \n",
       "12 1                                 \n",
       "13 1, 1, 1, 1, 3, 2, 1               \n",
       "14 1, 1                              \n",
       "15 1, 1, 1                           \n",
       "16 1                                 \n",
       "17 1                                 \n",
       "18 1                                 \n",
       "19 1                                 \n",
       "20 1, 1, 1, 2, 4, 1, 1               \n",
       "21 1, 3, 1                           \n",
       "22 1, 2, 1, 1, 1                     \n",
       "23 1, 3, 1, 1                        \n",
       "24 1, 1, 1                           \n",
       "25 1, 2, 1, 3, 1                     \n",
       "26 1, 1, 1                           \n",
       "27 2, 1                              "
      ]
     },
     "metadata": {},
     "output_type": "display_data"
    }
   ],
   "source": [
    "aggregate(cbind(Sepal.Length,Sepal.Width) ~ Species+Petal.Width, iris,)"
   ]
  },
  {
   "cell_type": "code",
   "execution_count": null,
   "id": "fc92859f",
   "metadata": {},
   "outputs": [],
   "source": []
  }
 ],
 "metadata": {
  "kernelspec": {
   "display_name": "R",
   "language": "R",
   "name": "ir"
  },
  "language_info": {
   "codemirror_mode": "r",
   "file_extension": ".r",
   "mimetype": "text/x-r-source",
   "name": "R",
   "pygments_lexer": "r",
   "version": "3.6.1"
  }
 },
 "nbformat": 4,
 "nbformat_minor": 5
}
