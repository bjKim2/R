{
 "cells": [
  {
   "cell_type": "code",
   "execution_count": 37,
   "id": "83c7e9ff",
   "metadata": {},
   "outputs": [
    {
     "name": "stderr",
     "output_type": "stream",
     "text": [
      "\n",
      "Attaching package: ‘dplyr’\n",
      "\n",
      "The following objects are masked from ‘package:stats’:\n",
      "\n",
      "    filter, lag\n",
      "\n",
      "The following objects are masked from ‘package:base’:\n",
      "\n",
      "    intersect, setdiff, setequal, union\n",
      "\n"
     ]
    }
   ],
   "source": [
    "library(dplyr)"
   ]
  },
  {
   "cell_type": "code",
   "execution_count": 38,
   "id": "71bf30fd",
   "metadata": {},
   "outputs": [],
   "source": [
    "library(stringr)"
   ]
  },
  {
   "cell_type": "code",
   "execution_count": 39,
   "id": "a6c71cf7",
   "metadata": {},
   "outputs": [],
   "source": [
    "library(plotrix)"
   ]
  },
  {
   "cell_type": "code",
   "execution_count": null,
   "id": "6451ab45",
   "metadata": {},
   "outputs": [],
   "source": []
  },
  {
   "cell_type": "code",
   "execution_count": 51,
   "id": "39bb017d",
   "metadata": {},
   "outputs": [
    {
     "data": {
      "text/html": [
       "<table>\n",
       "<thead><tr><th scope=col>Sepal.Length</th><th scope=col>Sepal.Width</th><th scope=col>Petal.Length</th><th scope=col>Petal.Width</th><th scope=col>Species</th></tr></thead>\n",
       "<tbody>\n",
       "\t<tr><td>5.1   </td><td>3.5   </td><td>1.4   </td><td>0.2   </td><td>setosa</td></tr>\n",
       "\t<tr><td>4.9   </td><td>3.0   </td><td>1.4   </td><td>0.2   </td><td>setosa</td></tr>\n",
       "\t<tr><td>4.7   </td><td>3.2   </td><td>1.3   </td><td>0.2   </td><td>setosa</td></tr>\n",
       "\t<tr><td>4.6   </td><td>3.1   </td><td>1.5   </td><td>0.2   </td><td>setosa</td></tr>\n",
       "\t<tr><td>5.0   </td><td>3.6   </td><td>1.4   </td><td>0.2   </td><td>setosa</td></tr>\n",
       "\t<tr><td>5.4   </td><td>3.9   </td><td>1.7   </td><td>0.4   </td><td>setosa</td></tr>\n",
       "</tbody>\n",
       "</table>\n"
      ],
      "text/latex": [
       "\\begin{tabular}{r|lllll}\n",
       " Sepal.Length & Sepal.Width & Petal.Length & Petal.Width & Species\\\\\n",
       "\\hline\n",
       "\t 5.1    & 3.5    & 1.4    & 0.2    & setosa\\\\\n",
       "\t 4.9    & 3.0    & 1.4    & 0.2    & setosa\\\\\n",
       "\t 4.7    & 3.2    & 1.3    & 0.2    & setosa\\\\\n",
       "\t 4.6    & 3.1    & 1.5    & 0.2    & setosa\\\\\n",
       "\t 5.0    & 3.6    & 1.4    & 0.2    & setosa\\\\\n",
       "\t 5.4    & 3.9    & 1.7    & 0.4    & setosa\\\\\n",
       "\\end{tabular}\n"
      ],
      "text/markdown": [
       "\n",
       "| Sepal.Length | Sepal.Width | Petal.Length | Petal.Width | Species |\n",
       "|---|---|---|---|---|\n",
       "| 5.1    | 3.5    | 1.4    | 0.2    | setosa |\n",
       "| 4.9    | 3.0    | 1.4    | 0.2    | setosa |\n",
       "| 4.7    | 3.2    | 1.3    | 0.2    | setosa |\n",
       "| 4.6    | 3.1    | 1.5    | 0.2    | setosa |\n",
       "| 5.0    | 3.6    | 1.4    | 0.2    | setosa |\n",
       "| 5.4    | 3.9    | 1.7    | 0.4    | setosa |\n",
       "\n"
      ],
      "text/plain": [
       "  Sepal.Length Sepal.Width Petal.Length Petal.Width Species\n",
       "1 5.1          3.5         1.4          0.2         setosa \n",
       "2 4.9          3.0         1.4          0.2         setosa \n",
       "3 4.7          3.2         1.3          0.2         setosa \n",
       "4 4.6          3.1         1.5          0.2         setosa \n",
       "5 5.0          3.6         1.4          0.2         setosa \n",
       "6 5.4          3.9         1.7          0.4         setosa "
      ]
     },
     "metadata": {},
     "output_type": "display_data"
    }
   ],
   "source": [
    "head(iris)"
   ]
  },
  {
   "cell_type": "code",
   "execution_count": 52,
   "id": "06e1c7b3",
   "metadata": {},
   "outputs": [
    {
     "name": "stdout",
     "output_type": "stream",
     "text": [
      "'data.frame':\t150 obs. of  5 variables:\n",
      " $ Sepal.Length: num  5.1 4.9 4.7 4.6 5 5.4 4.6 5 4.4 4.9 ...\n",
      " $ Sepal.Width : num  3.5 3 3.2 3.1 3.6 3.9 3.4 3.4 2.9 3.1 ...\n",
      " $ Petal.Length: num  1.4 1.4 1.3 1.5 1.4 1.7 1.4 1.5 1.4 1.5 ...\n",
      " $ Petal.Width : num  0.2 0.2 0.2 0.2 0.2 0.4 0.3 0.2 0.2 0.1 ...\n",
      " $ Species     : Factor w/ 3 levels \"setosa\",\"versicolor\",..: 1 1 1 1 1 1 1 1 1 1 ...\n"
     ]
    }
   ],
   "source": [
    "str(iris)"
   ]
  },
  {
   "cell_type": "code",
   "execution_count": 49,
   "id": "2a1cdf63",
   "metadata": {},
   "outputs": [],
   "source": [
    "funx <- function(x){\n",
    "    arrange(as.data.frame(table(x)),desc(as.data.frame(table(x))[,2]))[1,1]\n",
    "}"
   ]
  },
  {
   "cell_type": "code",
   "execution_count": 50,
   "id": "5336fe3d",
   "metadata": {},
   "outputs": [
    {
     "data": {
      "text/html": [
       "<table>\n",
       "<thead><tr><th scope=col>Species</th><th scope=col>Petal.Width</th><th scope=col>Sepal.Length</th><th scope=col>Sepal.Width</th></tr></thead>\n",
       "<tbody>\n",
       "\t<tr><td>setosa    </td><td>0.1       </td><td>4.3       </td><td>3         </td></tr>\n",
       "\t<tr><td>setosa    </td><td>0.2       </td><td>4.4       </td><td>2.9       </td></tr>\n",
       "\t<tr><td>setosa    </td><td>0.3       </td><td>4.5       </td><td>2.3       </td></tr>\n",
       "\t<tr><td>setosa    </td><td>0.4       </td><td>5         </td><td>3.4       </td></tr>\n",
       "\t<tr><td>setosa    </td><td>0.5       </td><td>5.1       </td><td>3.3       </td></tr>\n",
       "\t<tr><td>setosa    </td><td>0.6       </td><td>5         </td><td>3.5       </td></tr>\n",
       "\t<tr><td>versicolor</td><td>1.0       </td><td>4.9       </td><td>2         </td></tr>\n",
       "\t<tr><td>versicolor</td><td>1.1       </td><td>5.1       </td><td>2.4       </td></tr>\n",
       "\t<tr><td>versicolor</td><td>1.2       </td><td>5.5       </td><td>2.6       </td></tr>\n",
       "\t<tr><td>versicolor</td><td>1.3       </td><td>5.5       </td><td>2.3       </td></tr>\n",
       "\t<tr><td>versicolor</td><td>1.4       </td><td>5.2       </td><td>2.7       </td></tr>\n",
       "\t<tr><td>virginica </td><td>1.4       </td><td>6.1       </td><td>2.6       </td></tr>\n",
       "\t<tr><td>versicolor</td><td>1.5       </td><td>5.4       </td><td>2.2       </td></tr>\n",
       "\t<tr><td>virginica </td><td>1.5       </td><td>6         </td><td>2.2       </td></tr>\n",
       "\t<tr><td>versicolor</td><td>1.6       </td><td>6         </td><td>2.7       </td></tr>\n",
       "\t<tr><td>virginica </td><td>1.6       </td><td>7.2       </td><td>3         </td></tr>\n",
       "\t<tr><td>versicolor</td><td>1.7       </td><td>6.7       </td><td>3         </td></tr>\n",
       "\t<tr><td>virginica </td><td>1.7       </td><td>4.9       </td><td>2.5       </td></tr>\n",
       "\t<tr><td>versicolor</td><td>1.8       </td><td>5.9       </td><td>3.2       </td></tr>\n",
       "\t<tr><td>virginica </td><td>1.8       </td><td>5.9       </td><td>2.5       </td></tr>\n",
       "\t<tr><td>virginica </td><td>1.9       </td><td>5.8       </td><td>2.5       </td></tr>\n",
       "\t<tr><td>virginica </td><td>2.0       </td><td>5.6       </td><td>2.5       </td></tr>\n",
       "\t<tr><td>virginica </td><td>2.1       </td><td>6.4       </td><td>2.8       </td></tr>\n",
       "\t<tr><td>virginica </td><td>2.2       </td><td>6.4       </td><td>2.8       </td></tr>\n",
       "\t<tr><td>virginica </td><td>2.3       </td><td>6.2       </td><td>2.6       </td></tr>\n",
       "\t<tr><td>virginica </td><td>2.4       </td><td>5.8       </td><td>2.8       </td></tr>\n",
       "\t<tr><td>virginica </td><td>2.5       </td><td>6.3       </td><td>3.3       </td></tr>\n",
       "</tbody>\n",
       "</table>\n"
      ],
      "text/latex": [
       "\\begin{tabular}{r|llll}\n",
       " Species & Petal.Width & Sepal.Length & Sepal.Width\\\\\n",
       "\\hline\n",
       "\t setosa     & 0.1        & 4.3        & 3         \\\\\n",
       "\t setosa     & 0.2        & 4.4        & 2.9       \\\\\n",
       "\t setosa     & 0.3        & 4.5        & 2.3       \\\\\n",
       "\t setosa     & 0.4        & 5          & 3.4       \\\\\n",
       "\t setosa     & 0.5        & 5.1        & 3.3       \\\\\n",
       "\t setosa     & 0.6        & 5          & 3.5       \\\\\n",
       "\t versicolor & 1.0        & 4.9        & 2         \\\\\n",
       "\t versicolor & 1.1        & 5.1        & 2.4       \\\\\n",
       "\t versicolor & 1.2        & 5.5        & 2.6       \\\\\n",
       "\t versicolor & 1.3        & 5.5        & 2.3       \\\\\n",
       "\t versicolor & 1.4        & 5.2        & 2.7       \\\\\n",
       "\t virginica  & 1.4        & 6.1        & 2.6       \\\\\n",
       "\t versicolor & 1.5        & 5.4        & 2.2       \\\\\n",
       "\t virginica  & 1.5        & 6          & 2.2       \\\\\n",
       "\t versicolor & 1.6        & 6          & 2.7       \\\\\n",
       "\t virginica  & 1.6        & 7.2        & 3         \\\\\n",
       "\t versicolor & 1.7        & 6.7        & 3         \\\\\n",
       "\t virginica  & 1.7        & 4.9        & 2.5       \\\\\n",
       "\t versicolor & 1.8        & 5.9        & 3.2       \\\\\n",
       "\t virginica  & 1.8        & 5.9        & 2.5       \\\\\n",
       "\t virginica  & 1.9        & 5.8        & 2.5       \\\\\n",
       "\t virginica  & 2.0        & 5.6        & 2.5       \\\\\n",
       "\t virginica  & 2.1        & 6.4        & 2.8       \\\\\n",
       "\t virginica  & 2.2        & 6.4        & 2.8       \\\\\n",
       "\t virginica  & 2.3        & 6.2        & 2.6       \\\\\n",
       "\t virginica  & 2.4        & 5.8        & 2.8       \\\\\n",
       "\t virginica  & 2.5        & 6.3        & 3.3       \\\\\n",
       "\\end{tabular}\n"
      ],
      "text/markdown": [
       "\n",
       "| Species | Petal.Width | Sepal.Length | Sepal.Width |\n",
       "|---|---|---|---|\n",
       "| setosa     | 0.1        | 4.3        | 3          |\n",
       "| setosa     | 0.2        | 4.4        | 2.9        |\n",
       "| setosa     | 0.3        | 4.5        | 2.3        |\n",
       "| setosa     | 0.4        | 5          | 3.4        |\n",
       "| setosa     | 0.5        | 5.1        | 3.3        |\n",
       "| setosa     | 0.6        | 5          | 3.5        |\n",
       "| versicolor | 1.0        | 4.9        | 2          |\n",
       "| versicolor | 1.1        | 5.1        | 2.4        |\n",
       "| versicolor | 1.2        | 5.5        | 2.6        |\n",
       "| versicolor | 1.3        | 5.5        | 2.3        |\n",
       "| versicolor | 1.4        | 5.2        | 2.7        |\n",
       "| virginica  | 1.4        | 6.1        | 2.6        |\n",
       "| versicolor | 1.5        | 5.4        | 2.2        |\n",
       "| virginica  | 1.5        | 6          | 2.2        |\n",
       "| versicolor | 1.6        | 6          | 2.7        |\n",
       "| virginica  | 1.6        | 7.2        | 3          |\n",
       "| versicolor | 1.7        | 6.7        | 3          |\n",
       "| virginica  | 1.7        | 4.9        | 2.5        |\n",
       "| versicolor | 1.8        | 5.9        | 3.2        |\n",
       "| virginica  | 1.8        | 5.9        | 2.5        |\n",
       "| virginica  | 1.9        | 5.8        | 2.5        |\n",
       "| virginica  | 2.0        | 5.6        | 2.5        |\n",
       "| virginica  | 2.1        | 6.4        | 2.8        |\n",
       "| virginica  | 2.2        | 6.4        | 2.8        |\n",
       "| virginica  | 2.3        | 6.2        | 2.6        |\n",
       "| virginica  | 2.4        | 5.8        | 2.8        |\n",
       "| virginica  | 2.5        | 6.3        | 3.3        |\n",
       "\n"
      ],
      "text/plain": [
       "   Species    Petal.Width Sepal.Length Sepal.Width\n",
       "1  setosa     0.1         4.3          3          \n",
       "2  setosa     0.2         4.4          2.9        \n",
       "3  setosa     0.3         4.5          2.3        \n",
       "4  setosa     0.4         5            3.4        \n",
       "5  setosa     0.5         5.1          3.3        \n",
       "6  setosa     0.6         5            3.5        \n",
       "7  versicolor 1.0         4.9          2          \n",
       "8  versicolor 1.1         5.1          2.4        \n",
       "9  versicolor 1.2         5.5          2.6        \n",
       "10 versicolor 1.3         5.5          2.3        \n",
       "11 versicolor 1.4         5.2          2.7        \n",
       "12 virginica  1.4         6.1          2.6        \n",
       "13 versicolor 1.5         5.4          2.2        \n",
       "14 virginica  1.5         6            2.2        \n",
       "15 versicolor 1.6         6            2.7        \n",
       "16 virginica  1.6         7.2          3          \n",
       "17 versicolor 1.7         6.7          3          \n",
       "18 virginica  1.7         4.9          2.5        \n",
       "19 versicolor 1.8         5.9          3.2        \n",
       "20 virginica  1.8         5.9          2.5        \n",
       "21 virginica  1.9         5.8          2.5        \n",
       "22 virginica  2.0         5.6          2.5        \n",
       "23 virginica  2.1         6.4          2.8        \n",
       "24 virginica  2.2         6.4          2.8        \n",
       "25 virginica  2.3         6.2          2.6        \n",
       "26 virginica  2.4         5.8          2.8        \n",
       "27 virginica  2.5         6.3          3.3        "
      ]
     },
     "metadata": {},
     "output_type": "display_data"
    }
   ],
   "source": [
    "aggregate(cbind(Sepal.Length,Sepal.Width) ~ Species+Petal.Width,iris, funx)"
   ]
  },
  {
   "cell_type": "code",
   "execution_count": 11,
   "id": "fc92859f",
   "metadata": {},
   "outputs": [
    {
     "data": {
      "text/html": [
       "26"
      ],
      "text/latex": [
       "26"
      ],
      "text/markdown": [
       "26"
      ],
      "text/plain": [
       "[1] 26"
      ]
     },
     "metadata": {},
     "output_type": "display_data"
    }
   ],
   "source": []
  },
  {
   "cell_type": "code",
   "execution_count": null,
   "id": "d51237ec",
   "metadata": {},
   "outputs": [],
   "source": []
  }
 ],
 "metadata": {
  "kernelspec": {
   "display_name": "R",
   "language": "R",
   "name": "ir"
  },
  "language_info": {
   "codemirror_mode": "r",
   "file_extension": ".r",
   "mimetype": "text/x-r-source",
   "name": "R",
   "pygments_lexer": "r",
   "version": "3.6.1"
  }
 },
 "nbformat": 4,
 "nbformat_minor": 5
}
