{
 "cells": [
  {
   "cell_type": "markdown",
   "id": "528785b0",
   "metadata": {},
   "source": [
    "# 몬테카를로 시뮬레이션\n",
    "분석에서 쓰는 시뮬레이션"
   ]
  },
  {
   "cell_type": "markdown",
   "id": "a2861063",
   "metadata": {},
   "source": [
    "### 동전의 앞면과 뒷면 시뮬레이션"
   ]
  },
  {
   "cell_type": "code",
   "execution_count": 146,
   "id": "1e33aea3",
   "metadata": {},
   "outputs": [
    {
     "name": "stdout",
     "output_type": "stream",
     "text": [
      "[1] 0\n"
     ]
    }
   ],
   "source": [
    "x <- runif(1)\n",
    "if(x <= 1/2) {\n",
    "    result = 0 # 앞면\n",
    "}else{\n",
    "    result = 1 # 뒷면\n",
    "}\n",
    "\n",
    "print(result)"
   ]
  },
  {
   "cell_type": "code",
   "execution_count": 149,
   "id": "0a4a8010",
   "metadata": {},
   "outputs": [],
   "source": [
    "coin <- function(n){\n",
    "    count1 = 0 # 앞면\n",
    "    count2 = 0 # 뒷면\n",
    "    for(i in 1:n){\n",
    "        if(runif(1) <= 1/2){\n",
    "            count1 = count1 + 1\n",
    "        }else{\n",
    "            count2 = count2 + 1\n",
    "        }\n",
    "    }\n",
    "    cat(\"앞면 :\", count1, \"\\n\")\n",
    "    cat(\"뒷면 :\", count2, \"\\n\")\n",
    "    cat(\"---------------------\\n\")\n",
    "}"
   ]
  },
  {
   "cell_type": "code",
   "execution_count": null,
   "id": "2765373f",
   "metadata": {},
   "outputs": [],
   "source": []
  },
  {
   "cell_type": "code",
   "execution_count": 151,
   "id": "182ccbfb",
   "metadata": {
    "scrolled": true
   },
   "outputs": [
    {
     "name": "stdout",
     "output_type": "stream",
     "text": [
      "앞면 : 4 \n",
      "뒷면 : 6 \n",
      "---------------------\n",
      "앞면 : 44 \n",
      "뒷면 : 56 \n",
      "---------------------\n",
      "앞면 : 509 \n",
      "뒷면 : 491 \n",
      "---------------------\n",
      "앞면 : 4971 \n",
      "뒷면 : 5029 \n",
      "---------------------\n",
      "앞면 : 49828 \n",
      "뒷면 : 50172 \n",
      "---------------------\n",
      "앞면 : 499913 \n",
      "뒷면 : 500087 \n",
      "---------------------\n"
     ]
    }
   ],
   "source": [
    "coin(10)\n",
    "coin(100)\n",
    "coin(1000)\n",
    "coin(10000)\n",
    "coin(100000)\n",
    "coin(1000000)"
   ]
  },
  {
   "cell_type": "markdown",
   "id": "0429fcaa",
   "metadata": {},
   "source": [
    "### 가위, 바위, 보 시뮬레이션\n"
   ]
  },
  {
   "cell_type": "code",
   "execution_count": 180,
   "id": "17d6f97a",
   "metadata": {},
   "outputs": [],
   "source": [
    "rock <- function(n){\n",
    "    rock <- 0\n",
    "    scissor <- 0\n",
    "    paper <- 0\n",
    "    \n",
    "    for( i in 1:n){\n",
    "        x <- trunc(runif(1)*3)+1\n",
    "        if(x == 1) scissor = scissor +1\n",
    "        if(x == 2) rock = rock +1\n",
    "        if(x == 3) paper = paper +1\n",
    "    }\n",
    "    \n",
    "    cat(\"rock : \\t\\t\", rock, \"\\n\")\n",
    "    cat(\"scissor : \\t\", scissor, \"\\n\")\n",
    "    cat(\"paper : \\t\", paper, \"\\n\")\n",
    "    cat(\"-----------------------\\n\")\n",
    "}"
   ]
  },
  {
   "cell_type": "code",
   "execution_count": 181,
   "id": "6469d3c4",
   "metadata": {
    "scrolled": false
   },
   "outputs": [
    {
     "name": "stdout",
     "output_type": "stream",
     "text": [
      "rock : \t\t 6 \n",
      "scissor : \t 2 \n",
      "paper : \t 2 \n",
      "-----------------------\n",
      "rock : \t\t 34 \n",
      "scissor : \t 31 \n",
      "paper : \t 35 \n",
      "-----------------------\n",
      "rock : \t\t 315 \n",
      "scissor : \t 346 \n",
      "paper : \t 339 \n",
      "-----------------------\n",
      "rock : \t\t 3375 \n",
      "scissor : \t 3347 \n",
      "paper : \t 3278 \n",
      "-----------------------\n",
      "rock : \t\t 33279 \n",
      "scissor : \t 33437 \n",
      "paper : \t 33284 \n",
      "-----------------------\n",
      "rock : \t\t 333928 \n",
      "scissor : \t 332601 \n",
      "paper : \t 333471 \n",
      "-----------------------\n"
     ]
    }
   ],
   "source": [
    "rock(10)\n",
    "rock(100)\n",
    "rock(1000)\n",
    "rock(10000)\n",
    "rock(100000)\n",
    "rock(1000000)"
   ]
  },
  {
   "cell_type": "markdown",
   "id": "0ebf10de",
   "metadata": {},
   "source": [
    "### 주사위 시뮬레이션"
   ]
  },
  {
   "cell_type": "code",
   "execution_count": 199,
   "id": "4d7878d8",
   "metadata": {},
   "outputs": [],
   "source": [
    "dice <- function(n){\n",
    "    a <- rep(0,6)\n",
    "    for(i in 1:n){\n",
    "        x <- trunc(runif(1)*6)+1\n",
    "        a[x] <- a[x] + 1\n",
    "    }        \n",
    "    \n",
    "    cat(\"Throw :\",n,\"\\n\")\n",
    "    for(i in 1:length(a))\n",
    "        cat(\"No\",i,\"=>\",a[i],\"\\n\")\n",
    "    cat(\"------------------------\\n\")\n",
    "}"
   ]
  },
  {
   "cell_type": "code",
   "execution_count": 200,
   "id": "f7b7e2e8",
   "metadata": {},
   "outputs": [
    {
     "name": "stdout",
     "output_type": "stream",
     "text": [
      "Throw : 10 \n",
      "No 1 => 3 \n",
      "No 2 => 1 \n",
      "No 3 => 1 \n",
      "No 4 => 3 \n",
      "No 5 => 0 \n",
      "No 6 => 2 \n",
      "------------------------\n",
      "Throw : 100 \n",
      "No 1 => 14 \n",
      "No 2 => 14 \n",
      "No 3 => 20 \n",
      "No 4 => 11 \n",
      "No 5 => 20 \n",
      "No 6 => 21 \n",
      "------------------------\n",
      "Throw : 1000 \n",
      "No 1 => 159 \n",
      "No 2 => 173 \n",
      "No 3 => 167 \n",
      "No 4 => 154 \n",
      "No 5 => 177 \n",
      "No 6 => 170 \n",
      "------------------------\n",
      "Throw : 10000 \n",
      "No 1 => 1645 \n",
      "No 2 => 1661 \n",
      "No 3 => 1691 \n",
      "No 4 => 1736 \n",
      "No 5 => 1646 \n",
      "No 6 => 1621 \n",
      "------------------------\n",
      "Throw : 100000 \n",
      "No 1 => 16465 \n",
      "No 2 => 16813 \n",
      "No 3 => 16616 \n",
      "No 4 => 16658 \n",
      "No 5 => 16649 \n",
      "No 6 => 16799 \n",
      "------------------------\n",
      "Throw : 1000000 \n",
      "No 1 => 166988 \n",
      "No 2 => 167098 \n",
      "No 3 => 166485 \n",
      "No 4 => 166328 \n",
      "No 5 => 166791 \n",
      "No 6 => 166310 \n",
      "------------------------\n"
     ]
    }
   ],
   "source": [
    "dice(10)\n",
    "dice(100)\n",
    "dice(1000)\n",
    "dice(10000)\n",
    "dice(100000)\n",
    "dice(1000000)"
   ]
  },
  {
   "cell_type": "code",
   "execution_count": null,
   "id": "ad70d721",
   "metadata": {},
   "outputs": [],
   "source": [
    "a<- "
   ]
  },
  {
   "cell_type": "code",
   "execution_count": 197,
   "id": "621b0126",
   "metadata": {},
   "outputs": [
    {
     "name": "stdout",
     "output_type": "stream",
     "text": [
      "1e+07"
     ]
    }
   ],
   "source": [
    "cat(10000000)\n",
    "help(cat)"
   ]
  },
  {
   "cell_type": "code",
   "execution_count": 198,
   "id": "0e3168dd",
   "metadata": {},
   "outputs": [],
   "source": [
    "options(scipen=100)"
   ]
  },
  {
   "cell_type": "code",
   "execution_count": null,
   "id": "739c8655",
   "metadata": {},
   "outputs": [],
   "source": []
  },
  {
   "cell_type": "code",
   "execution_count": null,
   "id": "1f994a8d",
   "metadata": {},
   "outputs": [],
   "source": []
  }
 ],
 "metadata": {
  "kernelspec": {
   "display_name": "R",
   "language": "R",
   "name": "ir"
  },
  "language_info": {
   "codemirror_mode": "r",
   "file_extension": ".r",
   "mimetype": "text/x-r-source",
   "name": "R",
   "pygments_lexer": "r",
   "version": "3.6.1"
  }
 },
 "nbformat": 4,
 "nbformat_minor": 5
}
