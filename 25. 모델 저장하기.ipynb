{
 "cells": [
  {
   "cell_type": "code",
   "execution_count": 1,
   "id": "f6cb64fc",
   "metadata": {},
   "outputs": [
    {
     "name": "stderr",
     "output_type": "stream",
     "text": [
      "randomForest 4.6-14\n",
      "Type rfNews() to see new features/changes/bug fixes.\n"
     ]
    }
   ],
   "source": [
    "library(randomForest)"
   ]
  },
  {
   "cell_type": "code",
   "execution_count": 5,
   "id": "0ebb2ad2",
   "metadata": {},
   "outputs": [],
   "source": [
    "samp <- c(sample(1:50,35),sample(51:100, 35),sample(101:150, 35))\n",
    "iris.tr <- iris[samp,]\n",
    "iris.test <- iris[-samp,]"
   ]
  },
  {
   "cell_type": "code",
   "execution_count": 6,
   "id": "0549ada0",
   "metadata": {},
   "outputs": [],
   "source": [
    "rf <- randomForest(Species ~ . , data=iris.tr , ntree =100)"
   ]
  },
  {
   "cell_type": "code",
   "execution_count": 8,
   "id": "b08295ad",
   "metadata": {},
   "outputs": [],
   "source": [
    "x <- subset(iris.test, select = -Species)\n",
    "\n",
    "y <- iris.test$Species"
   ]
  },
  {
   "cell_type": "code",
   "execution_count": 9,
   "id": "a63c08c8",
   "metadata": {},
   "outputs": [],
   "source": [
    "pred <- predict(rf,x)"
   ]
  },
  {
   "cell_type": "code",
   "execution_count": 11,
   "id": "98c95a19",
   "metadata": {},
   "outputs": [
    {
     "data": {
      "text/html": [
       "0.955555555555556"
      ],
      "text/latex": [
       "0.955555555555556"
      ],
      "text/markdown": [
       "0.955555555555556"
      ],
      "text/plain": [
       "[1] 0.9555556"
      ]
     },
     "metadata": {},
     "output_type": "display_data"
    },
    {
     "data": {
      "text/plain": [
       "            y\n",
       "pred         setosa versicolor virginica\n",
       "  setosa         15          0         0\n",
       "  versicolor      0         15         2\n",
       "  virginica       0          0        13"
      ]
     },
     "metadata": {},
     "output_type": "display_data"
    }
   ],
   "source": [
    "mean(pred == y)\n",
    "table(pred,y)"
   ]
  },
  {
   "cell_type": "code",
   "execution_count": 12,
   "id": "44087dba",
   "metadata": {},
   "outputs": [],
   "source": [
    "# 모델 저장하기\n",
    "saveRDS(rf, \"../Data/randomForest_iris.rds\")"
   ]
  },
  {
   "cell_type": "code",
   "execution_count": null,
   "id": "53ecf98f",
   "metadata": {},
   "outputs": [],
   "source": []
  }
 ],
 "metadata": {
  "kernelspec": {
   "display_name": "R",
   "language": "R",
   "name": "ir"
  },
  "language_info": {
   "codemirror_mode": "r",
   "file_extension": ".r",
   "mimetype": "text/x-r-source",
   "name": "R",
   "pygments_lexer": "r",
   "version": "3.6.1"
  }
 },
 "nbformat": 4,
 "nbformat_minor": 5
}
