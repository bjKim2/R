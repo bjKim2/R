{
 "cells": [
  {
   "cell_type": "code",
   "execution_count": 1,
   "id": "e00dea55",
   "metadata": {},
   "outputs": [],
   "source": [
    "df<- read.csv(\"../Data/election_2017.csv\")"
   ]
  },
  {
   "cell_type": "code",
   "execution_count": 4,
   "id": "e700b8ec",
   "metadata": {},
   "outputs": [],
   "source": [
    "df <- df[,-1]"
   ]
  },
  {
   "cell_type": "code",
   "execution_count": 9,
   "id": "d3c7b4e0",
   "metadata": {},
   "outputs": [
    {
     "data": {
      "text/html": [
       "<table>\n",
       "<thead><tr><th scope=col>광역시도</th><th scope=col>시군</th><th scope=col>pop</th><th scope=col>moon</th><th scope=col>hong</th><th scope=col>ahn</th></tr></thead>\n",
       "<tbody>\n",
       "\t<tr><td>서울특별시</td><td>종로구    </td><td>102566    </td><td> 42512    </td><td>22325     </td><td>22313     </td></tr>\n",
       "\t<tr><td>서울특별시</td><td>중구      </td><td> 82852    </td><td> 34062    </td><td>17901     </td><td>19372     </td></tr>\n",
       "\t<tr><td>서울특별시</td><td>용산구    </td><td>148157    </td><td> 58081    </td><td>35230     </td><td>32109     </td></tr>\n",
       "\t<tr><td>서울특별시</td><td>성동구    </td><td>203175    </td><td> 86686    </td><td>40566     </td><td>45674     </td></tr>\n",
       "\t<tr><td>서울특별시</td><td>광진구    </td><td>240030    </td><td>105512    </td><td>46368     </td><td>52824     </td></tr>\n",
       "\t<tr><td>서울특별시</td><td>동대문구  </td><td>236092    </td><td> 98958    </td><td>51631     </td><td>53359     </td></tr>\n",
       "</tbody>\n",
       "</table>\n"
      ],
      "text/latex": [
       "\\begin{tabular}{r|llllll}\n",
       " 광역시도 & 시군 & pop & moon & hong & ahn\\\\\n",
       "\\hline\n",
       "\t 서울특별시 & 종로구     & 102566     &  42512     & 22325      & 22313     \\\\\n",
       "\t 서울특별시 & 중구       &  82852     &  34062     & 17901      & 19372     \\\\\n",
       "\t 서울특별시 & 용산구     & 148157     &  58081     & 35230      & 32109     \\\\\n",
       "\t 서울특별시 & 성동구     & 203175     &  86686     & 40566      & 45674     \\\\\n",
       "\t 서울특별시 & 광진구     & 240030     & 105512     & 46368      & 52824     \\\\\n",
       "\t 서울특별시 & 동대문구   & 236092     &  98958     & 51631      & 53359     \\\\\n",
       "\\end{tabular}\n"
      ],
      "text/markdown": [
       "\n",
       "| 광역시도 | 시군 | pop | moon | hong | ahn |\n",
       "|---|---|---|---|---|---|\n",
       "| 서울특별시 | 종로구     | 102566     |  42512     | 22325      | 22313      |\n",
       "| 서울특별시 | 중구       |  82852     |  34062     | 17901      | 19372      |\n",
       "| 서울특별시 | 용산구     | 148157     |  58081     | 35230      | 32109      |\n",
       "| 서울특별시 | 성동구     | 203175     |  86686     | 40566      | 45674      |\n",
       "| 서울특별시 | 광진구     | 240030     | 105512     | 46368      | 52824      |\n",
       "| 서울특별시 | 동대문구   | 236092     |  98958     | 51631      | 53359      |\n",
       "\n"
      ],
      "text/plain": [
       "  광역시도   시군     pop    moon   hong  ahn  \n",
       "1 서울특별시 종로구   102566  42512 22325 22313\n",
       "2 서울특별시 중구      82852  34062 17901 19372\n",
       "3 서울특별시 용산구   148157  58081 35230 32109\n",
       "4 서울특별시 성동구   203175  86686 40566 45674\n",
       "5 서울특별시 광진구   240030 105512 46368 52824\n",
       "6 서울특별시 동대문구 236092  98958 51631 53359"
      ]
     },
     "metadata": {},
     "output_type": "display_data"
    }
   ],
   "source": [
    "head(df)"
   ]
  },
  {
   "cell_type": "code",
   "execution_count": 8,
   "id": "21c8798f",
   "metadata": {},
   "outputs": [
    {
     "data": {
      "text/html": [
       "<ol class=list-inline>\n",
       "\t<li>'광역시도'</li>\n",
       "\t<li>'시군'</li>\n",
       "\t<li>'pop'</li>\n",
       "\t<li>'moon'</li>\n",
       "\t<li>'hong'</li>\n",
       "\t<li>'ahn'</li>\n",
       "</ol>\n"
      ],
      "text/latex": [
       "\\begin{enumerate*}\n",
       "\\item '광역시도'\n",
       "\\item '시군'\n",
       "\\item 'pop'\n",
       "\\item 'moon'\n",
       "\\item 'hong'\n",
       "\\item 'ahn'\n",
       "\\end{enumerate*}\n"
      ],
      "text/markdown": [
       "1. '광역시도'\n",
       "2. '시군'\n",
       "3. 'pop'\n",
       "4. 'moon'\n",
       "5. 'hong'\n",
       "6. 'ahn'\n",
       "\n",
       "\n"
      ],
      "text/plain": [
       "[1] \"광역시도\" \"시군\"     \"pop\"      \"moon\"     \"hong\"     \"ahn\"     "
      ]
     },
     "metadata": {},
     "output_type": "display_data"
    }
   ],
   "source": [
    "temp = colnames(df)\n",
    "temp"
   ]
  },
  {
   "cell_type": "code",
   "execution_count": 10,
   "id": "136c252d",
   "metadata": {},
   "outputs": [],
   "source": [
    "colnames(df) = c(\"광역시도\",\"시군\",\"투표수\",\"문재인\",\"홍준표\",\"안철수\")"
   ]
  },
  {
   "cell_type": "code",
   "execution_count": 12,
   "id": "bdc82b3e",
   "metadata": {},
   "outputs": [
    {
     "data": {
      "text/html": [
       "<table>\n",
       "<thead><tr><th scope=col>광역시도</th><th scope=col>시군</th><th scope=col>투표수</th><th scope=col>문재인</th><th scope=col>홍준표</th><th scope=col>안철수</th></tr></thead>\n",
       "<tbody>\n",
       "\t<tr><td>서울특별시</td><td>종로구    </td><td>102566    </td><td> 42512    </td><td>22325     </td><td>22313     </td></tr>\n",
       "\t<tr><td>서울특별시</td><td>중구      </td><td> 82852    </td><td> 34062    </td><td>17901     </td><td>19372     </td></tr>\n",
       "\t<tr><td>서울특별시</td><td>용산구    </td><td>148157    </td><td> 58081    </td><td>35230     </td><td>32109     </td></tr>\n",
       "\t<tr><td>서울특별시</td><td>성동구    </td><td>203175    </td><td> 86686    </td><td>40566     </td><td>45674     </td></tr>\n",
       "\t<tr><td>서울특별시</td><td>광진구    </td><td>240030    </td><td>105512    </td><td>46368     </td><td>52824     </td></tr>\n",
       "\t<tr><td>서울특별시</td><td>동대문구  </td><td>236092    </td><td> 98958    </td><td>51631     </td><td>53359     </td></tr>\n",
       "</tbody>\n",
       "</table>\n"
      ],
      "text/latex": [
       "\\begin{tabular}{r|llllll}\n",
       " 광역시도 & 시군 & 투표수 & 문재인 & 홍준표 & 안철수\\\\\n",
       "\\hline\n",
       "\t 서울특별시 & 종로구     & 102566     &  42512     & 22325      & 22313     \\\\\n",
       "\t 서울특별시 & 중구       &  82852     &  34062     & 17901      & 19372     \\\\\n",
       "\t 서울특별시 & 용산구     & 148157     &  58081     & 35230      & 32109     \\\\\n",
       "\t 서울특별시 & 성동구     & 203175     &  86686     & 40566      & 45674     \\\\\n",
       "\t 서울특별시 & 광진구     & 240030     & 105512     & 46368      & 52824     \\\\\n",
       "\t 서울특별시 & 동대문구   & 236092     &  98958     & 51631      & 53359     \\\\\n",
       "\\end{tabular}\n"
      ],
      "text/markdown": [
       "\n",
       "| 광역시도 | 시군 | 투표수 | 문재인 | 홍준표 | 안철수 |\n",
       "|---|---|---|---|---|---|\n",
       "| 서울특별시 | 종로구     | 102566     |  42512     | 22325      | 22313      |\n",
       "| 서울특별시 | 중구       |  82852     |  34062     | 17901      | 19372      |\n",
       "| 서울특별시 | 용산구     | 148157     |  58081     | 35230      | 32109      |\n",
       "| 서울특별시 | 성동구     | 203175     |  86686     | 40566      | 45674      |\n",
       "| 서울특별시 | 광진구     | 240030     | 105512     | 46368      | 52824      |\n",
       "| 서울특별시 | 동대문구   | 236092     |  98958     | 51631      | 53359      |\n",
       "\n"
      ],
      "text/plain": [
       "  광역시도   시군     투표수 문재인 홍준표 안철수\n",
       "1 서울특별시 종로구   102566  42512 22325  22313 \n",
       "2 서울특별시 중구      82852  34062 17901  19372 \n",
       "3 서울특별시 용산구   148157  58081 35230  32109 \n",
       "4 서울특별시 성동구   203175  86686 40566  45674 \n",
       "5 서울특별시 광진구   240030 105512 46368  52824 \n",
       "6 서울특별시 동대문구 236092  98958 51631  53359 "
      ]
     },
     "metadata": {},
     "output_type": "display_data"
    }
   ],
   "source": [
    "head(df)"
   ]
  },
  {
   "cell_type": "code",
   "execution_count": 13,
   "id": "a50fa107",
   "metadata": {},
   "outputs": [
    {
     "name": "stdout",
     "output_type": "stream",
     "text": [
      "'data.frame':\t250 obs. of  6 variables:\n",
      " $ 광역시도: Factor w/ 17 levels \"강원도\",\"경기도\",..: 9 9 9 9 9 9 9 9 9 9 ...\n",
      " $ 시군    : Factor w/ 227 levels \"가평군\",\"강남구\",..: 178 179 150 99 30 63 180 100 5 61 ...\n",
      " $ 투표수  : int  102566 82852 148157 203175 240030 236092 265706 295866 210614 229233 ...\n",
      " $ 문재인  : int  42512 34062 58081 86686 105512 98958 111450 129263 89645 94898 ...\n",
      " $ 홍준표  : int  22325 17901 35230 40566 46368 51631 56545 57584 42268 47461 ...\n",
      " $ 안철수  : int  22313 19372 32109 45674 52824 53359 62778 66518 51669 55600 ...\n"
     ]
    }
   ],
   "source": [
    "str(df)"
   ]
  },
  {
   "cell_type": "code",
   "execution_count": null,
   "id": "c839eb01",
   "metadata": {},
   "outputs": [],
   "source": [
    "library(RMySQL)\n",
    "\n",
    "# DB Connection\n",
    "\n",
    "conn <- dbConnect(MySQL(),\n",
    "                  dbname = 'RSQL',\n",
    "                  user = 'root',\n",
    "                  password = 'qwer1234',\n",
    "                  host = '127.0.0.1'\n",
    "                 )\n",
    "\n",
    "# 테이블 목록\n",
    "dbListTables(conn)\n",
    "\n",
    "# 테이블의 컬럼 목록\n",
    "dbListFields(conn, 'score')"
   ]
  }
 ],
 "metadata": {
  "kernelspec": {
   "display_name": "R",
   "language": "R",
   "name": "ir"
  },
  "language_info": {
   "codemirror_mode": "r",
   "file_extension": ".r",
   "mimetype": "text/x-r-source",
   "name": "R",
   "pygments_lexer": "r",
   "version": "3.6.1"
  }
 },
 "nbformat": 4,
 "nbformat_minor": 5
}
