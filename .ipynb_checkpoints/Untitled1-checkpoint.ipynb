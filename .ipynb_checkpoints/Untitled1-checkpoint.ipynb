{
 "cells": [
  {
   "cell_type": "code",
   "execution_count": 42,
   "id": "17555f35",
   "metadata": {},
   "outputs": [
    {
     "name": "stderr",
     "output_type": "stream",
     "text": [
      "\n",
      "Attaching package: ‘dplyr’\n",
      "\n",
      "The following objects are masked from ‘package:stats’:\n",
      "\n",
      "    filter, lag\n",
      "\n",
      "The following objects are masked from ‘package:base’:\n",
      "\n",
      "    intersect, setdiff, setequal, union\n",
      "\n"
     ]
    }
   ],
   "source": [
    "library(dplyr)"
   ]
  },
  {
   "cell_type": "code",
   "execution_count": null,
   "id": "32abf822",
   "metadata": {},
   "outputs": [],
   "source": [
    "# 대선 결과 기준\n",
    "# 윤석열은 48.56%\n",
    "# 이재명은 47.83%\n",
    "# 심상정은 2.37%"
   ]
  },
  {
   "cell_type": "code",
   "execution_count": 43,
   "id": "2a256bca",
   "metadata": {},
   "outputs": [
    {
     "data": {
      "text/html": [
       "<table>\n",
       "<thead><tr><th scope=col>광역시도</th><th scope=col>시군구</th><th scope=col>선거인수</th><th scope=col>투표수</th><th scope=col>이재명</th><th scope=col>윤석열</th><th scope=col>심상정</th></tr></thead>\n",
       "<tbody>\n",
       "\t<tr><td>서울특별시</td><td>종로구    </td><td>129968    </td><td>100629    </td><td> 46130    </td><td> 49172    </td><td>3115      </td></tr>\n",
       "\t<tr><td>서울특별시</td><td>중구      </td><td>111448    </td><td> 84998    </td><td> 38244    </td><td> 42906    </td><td>2310      </td></tr>\n",
       "\t<tr><td>서울특별시</td><td>용산구    </td><td>199077    </td><td>152068    </td><td> 60063    </td><td> 85047    </td><td>4374      </td></tr>\n",
       "\t<tr><td>서울특별시</td><td>성동구    </td><td>252087    </td><td>197240    </td><td> 84411    </td><td>103880    </td><td>5365      </td></tr>\n",
       "\t<tr><td>서울특별시</td><td>광진구    </td><td>303582    </td><td>235471    </td><td>109922    </td><td>113733    </td><td>7072      </td></tr>\n",
       "\t<tr><td>서울특별시</td><td>동대문구  </td><td>300928    </td><td>232106    </td><td>108171    </td><td>112890    </td><td>6416      </td></tr>\n",
       "</tbody>\n",
       "</table>\n"
      ],
      "text/latex": [
       "\\begin{tabular}{r|lllllll}\n",
       " 광역시도 & 시군구 & 선거인수 & 투표수 & 이재명 & 윤석열 & 심상정\\\\\n",
       "\\hline\n",
       "\t 서울특별시 & 종로구     & 129968     & 100629     &  46130     &  49172     & 3115      \\\\\n",
       "\t 서울특별시 & 중구       & 111448     &  84998     &  38244     &  42906     & 2310      \\\\\n",
       "\t 서울특별시 & 용산구     & 199077     & 152068     &  60063     &  85047     & 4374      \\\\\n",
       "\t 서울특별시 & 성동구     & 252087     & 197240     &  84411     & 103880     & 5365      \\\\\n",
       "\t 서울특별시 & 광진구     & 303582     & 235471     & 109922     & 113733     & 7072      \\\\\n",
       "\t 서울특별시 & 동대문구   & 300928     & 232106     & 108171     & 112890     & 6416      \\\\\n",
       "\\end{tabular}\n"
      ],
      "text/markdown": [
       "\n",
       "| 광역시도 | 시군구 | 선거인수 | 투표수 | 이재명 | 윤석열 | 심상정 |\n",
       "|---|---|---|---|---|---|---|\n",
       "| 서울특별시 | 종로구     | 129968     | 100629     |  46130     |  49172     | 3115       |\n",
       "| 서울특별시 | 중구       | 111448     |  84998     |  38244     |  42906     | 2310       |\n",
       "| 서울특별시 | 용산구     | 199077     | 152068     |  60063     |  85047     | 4374       |\n",
       "| 서울특별시 | 성동구     | 252087     | 197240     |  84411     | 103880     | 5365       |\n",
       "| 서울특별시 | 광진구     | 303582     | 235471     | 109922     | 113733     | 7072       |\n",
       "| 서울특별시 | 동대문구   | 300928     | 232106     | 108171     | 112890     | 6416       |\n",
       "\n"
      ],
      "text/plain": [
       "  광역시도   시군구   선거인수 투표수 이재명 윤석열 심상정\n",
       "1 서울특별시 종로구   129968   100629  46130  49172 3115  \n",
       "2 서울특별시 중구     111448    84998  38244  42906 2310  \n",
       "3 서울특별시 용산구   199077   152068  60063  85047 4374  \n",
       "4 서울특별시 성동구   252087   197240  84411 103880 5365  \n",
       "5 서울특별시 광진구   303582   235471 109922 113733 7072  \n",
       "6 서울특별시 동대문구 300928   232106 108171 112890 6416  "
      ]
     },
     "metadata": {},
     "output_type": "display_data"
    }
   ],
   "source": [
    "election <- read.csv(\"../Data/election_2022.csv\")\n",
    "head(election)"
   ]
  },
  {
   "cell_type": "code",
   "execution_count": 44,
   "id": "cd8e111b",
   "metadata": {},
   "outputs": [],
   "source": [
    "test <-cbind( election[,1:2],election[,5:7]/election[,4] * 100)"
   ]
  },
  {
   "cell_type": "code",
   "execution_count": 45,
   "id": "f1b348f8",
   "metadata": {},
   "outputs": [
    {
     "name": "stdout",
     "output_type": "stream",
     "text": [
      "'data.frame':\t7 obs. of  5 variables:\n",
      " $ 광역시도: Factor w/ 17 levels \"강원도\",\"경기도\",..: 12 12 7 7 2 2 17\n",
      " $ 시군구  : Factor w/ 226 levels \"가평군\",\"강남구\",..: 61 72 158 59 108 213 200\n",
      " $ 이재명  : num  46.9 47.1 47.1 46.9 47.8 ...\n",
      " $ 윤석열  : num  48 47.8 48.2 47.8 47.8 ...\n",
      " $ 심상정  : num  2.92 2.74 2.81 2.72 2.67 ...\n"
     ]
    }
   ],
   "source": [
    "a <- test[abs(test$이재명-47.83)<= 1 & abs(test$윤석열-48.56)<= 1 & abs(test$심상정 - 2.37) <= 1,]\n",
    "str(a)\n"
   ]
  },
  {
   "cell_type": "code",
   "execution_count": 46,
   "id": "28fcf6c4",
   "metadata": {},
   "outputs": [
    {
     "data": {
      "text/html": [
       "<table>\n",
       "<thead><tr><th></th><th scope=col>광역시도</th><th scope=col>시군구</th><th scope=col>이재명</th><th scope=col>윤석열</th><th scope=col>심상정</th></tr></thead>\n",
       "<tbody>\n",
       "\t<tr><th scope=row>51</th><td>인천광역시  </td><td>동구        </td><td>46.91089    </td><td>48.04976    </td><td>2.922919    </td></tr>\n",
       "\t<tr><th scope=row>52</th><td>인천광역시  </td><td>미추홀구    </td><td>47.08443    </td><td>47.80874    </td><td>2.743668    </td></tr>\n",
       "\t<tr><th scope=row>68</th><td>대전광역시  </td><td>유성구      </td><td>47.05121    </td><td>48.19437    </td><td>2.810061    </td></tr>\n",
       "\t<tr><th scope=row>69</th><td>대전광역시  </td><td>대덕구      </td><td>46.89525    </td><td>47.79644    </td><td>2.721743    </td></tr>\n",
       "\t<tr><th scope=row>79</th><td>경기도      </td><td>수원시영통구</td><td>47.84281    </td><td>47.77340    </td><td>2.669828    </td></tr>\n",
       "\t<tr><th scope=row>104</th><td>경기도      </td><td>하남시      </td><td>48.40897    </td><td>47.92155    </td><td>2.213944    </td></tr>\n",
       "</tbody>\n",
       "</table>\n"
      ],
      "text/latex": [
       "\\begin{tabular}{r|lllll}\n",
       "  & 광역시도 & 시군구 & 이재명 & 윤석열 & 심상정\\\\\n",
       "\\hline\n",
       "\t51 & 인천광역시   & 동구         & 46.91089     & 48.04976     & 2.922919    \\\\\n",
       "\t52 & 인천광역시   & 미추홀구     & 47.08443     & 47.80874     & 2.743668    \\\\\n",
       "\t68 & 대전광역시   & 유성구       & 47.05121     & 48.19437     & 2.810061    \\\\\n",
       "\t69 & 대전광역시   & 대덕구       & 46.89525     & 47.79644     & 2.721743    \\\\\n",
       "\t79 & 경기도       & 수원시영통구 & 47.84281     & 47.77340     & 2.669828    \\\\\n",
       "\t104 & 경기도       & 하남시       & 48.40897     & 47.92155     & 2.213944    \\\\\n",
       "\\end{tabular}\n"
      ],
      "text/markdown": [
       "\n",
       "| <!--/--> | 광역시도 | 시군구 | 이재명 | 윤석열 | 심상정 |\n",
       "|---|---|---|---|---|---|\n",
       "| 51 | 인천광역시   | 동구         | 46.91089     | 48.04976     | 2.922919     |\n",
       "| 52 | 인천광역시   | 미추홀구     | 47.08443     | 47.80874     | 2.743668     |\n",
       "| 68 | 대전광역시   | 유성구       | 47.05121     | 48.19437     | 2.810061     |\n",
       "| 69 | 대전광역시   | 대덕구       | 46.89525     | 47.79644     | 2.721743     |\n",
       "| 79 | 경기도       | 수원시영통구 | 47.84281     | 47.77340     | 2.669828     |\n",
       "| 104 | 경기도       | 하남시       | 48.40897     | 47.92155     | 2.213944     |\n",
       "\n"
      ],
      "text/plain": [
       "    광역시도   시군구       이재명   윤석열   심상정  \n",
       "51  인천광역시 동구         46.91089 48.04976 2.922919\n",
       "52  인천광역시 미추홀구     47.08443 47.80874 2.743668\n",
       "68  대전광역시 유성구       47.05121 48.19437 2.810061\n",
       "69  대전광역시 대덕구       46.89525 47.79644 2.721743\n",
       "79  경기도     수원시영통구 47.84281 47.77340 2.669828\n",
       "104 경기도     하남시       48.40897 47.92155 2.213944"
      ]
     },
     "metadata": {},
     "output_type": "display_data"
    }
   ],
   "source": [
    "head(a)"
   ]
  },
  {
   "cell_type": "code",
   "execution_count": 47,
   "id": "a4cc2382",
   "metadata": {},
   "outputs": [
    {
     "data": {
      "text/html": [
       "<ol class=list-inline>\n",
       "\t<li>5</li>\n",
       "\t<li>6</li>\n",
       "</ol>\n"
      ],
      "text/latex": [
       "\\begin{enumerate*}\n",
       "\\item 5\n",
       "\\item 6\n",
       "\\end{enumerate*}\n"
      ],
      "text/markdown": [
       "1. 5\n",
       "2. 6\n",
       "\n",
       "\n"
      ],
      "text/plain": [
       "[1] 5 6"
      ]
     },
     "metadata": {},
     "output_type": "display_data"
    },
    {
     "data": {
      "text/html": [
       "<table>\n",
       "<thead><tr><th></th><th scope=col>광역시도</th><th scope=col>시군구</th><th scope=col>이재명</th><th scope=col>윤석열</th><th scope=col>심상정</th></tr></thead>\n",
       "<tbody>\n",
       "\t<tr><th scope=row>51</th><td>인천광역시  </td><td>동구        </td><td>46.91089    </td><td>48.04976    </td><td>2.922919    </td></tr>\n",
       "\t<tr><th scope=row>52</th><td>인천광역시  </td><td>미추홀구    </td><td>47.08443    </td><td>47.80874    </td><td>2.743668    </td></tr>\n",
       "\t<tr><th scope=row>68</th><td>대전광역시  </td><td>유성구      </td><td>47.05121    </td><td>48.19437    </td><td>2.810061    </td></tr>\n",
       "\t<tr><th scope=row>69</th><td>대전광역시  </td><td>대덕구      </td><td>46.89525    </td><td>47.79644    </td><td>2.721743    </td></tr>\n",
       "\t<tr><th scope=row>137</th><td>충청북도    </td><td>청주시흥덕구</td><td>47.00549    </td><td>47.62376    </td><td>2.914169    </td></tr>\n",
       "</tbody>\n",
       "</table>\n"
      ],
      "text/latex": [
       "\\begin{tabular}{r|lllll}\n",
       "  & 광역시도 & 시군구 & 이재명 & 윤석열 & 심상정\\\\\n",
       "\\hline\n",
       "\t51 & 인천광역시   & 동구         & 46.91089     & 48.04976     & 2.922919    \\\\\n",
       "\t52 & 인천광역시   & 미추홀구     & 47.08443     & 47.80874     & 2.743668    \\\\\n",
       "\t68 & 대전광역시   & 유성구       & 47.05121     & 48.19437     & 2.810061    \\\\\n",
       "\t69 & 대전광역시   & 대덕구       & 46.89525     & 47.79644     & 2.721743    \\\\\n",
       "\t137 & 충청북도     & 청주시흥덕구 & 47.00549     & 47.62376     & 2.914169    \\\\\n",
       "\\end{tabular}\n"
      ],
      "text/markdown": [
       "\n",
       "| <!--/--> | 광역시도 | 시군구 | 이재명 | 윤석열 | 심상정 |\n",
       "|---|---|---|---|---|---|\n",
       "| 51 | 인천광역시   | 동구         | 46.91089     | 48.04976     | 2.922919     |\n",
       "| 52 | 인천광역시   | 미추홀구     | 47.08443     | 47.80874     | 2.743668     |\n",
       "| 68 | 대전광역시   | 유성구       | 47.05121     | 48.19437     | 2.810061     |\n",
       "| 69 | 대전광역시   | 대덕구       | 46.89525     | 47.79644     | 2.721743     |\n",
       "| 137 | 충청북도     | 청주시흥덕구 | 47.00549     | 47.62376     | 2.914169     |\n",
       "\n"
      ],
      "text/plain": [
       "    광역시도   시군구       이재명   윤석열   심상정  \n",
       "51  인천광역시 동구         46.91089 48.04976 2.922919\n",
       "52  인천광역시 미추홀구     47.08443 47.80874 2.743668\n",
       "68  대전광역시 유성구       47.05121 48.19437 2.810061\n",
       "69  대전광역시 대덕구       46.89525 47.79644 2.721743\n",
       "137 충청북도   청주시흥덕구 47.00549 47.62376 2.914169"
      ]
     },
     "metadata": {},
     "output_type": "display_data"
    }
   ],
   "source": [
    "\n",
    "x<- 0\n",
    "for( i in 1:nrow(a)){\n",
    "     if( a[i,3] > a[i,4]){\n",
    "         x<-c(x, i)\n",
    "     }\n",
    "}\n",
    "x[-1]\n",
    "a <-a[-x,]\n",
    "a "
   ]
  },
  {
   "cell_type": "code",
   "execution_count": 48,
   "id": "244418fa",
   "metadata": {},
   "outputs": [
    {
     "data": {
      "text/html": [
       "<table>\n",
       "<thead><tr><th></th><th scope=col>광역시도</th><th scope=col>시군구</th><th scope=col>이재명</th><th scope=col>윤석열</th><th scope=col>심상정</th><th scope=col>samsum</th></tr></thead>\n",
       "<tbody>\n",
       "\t<tr><th scope=row>51</th><td>인천광역시  </td><td>동구        </td><td>0.9191050   </td><td>0.5102419   </td><td>0.5529190   </td><td>1.982266    </td></tr>\n",
       "\t<tr><th scope=row>52</th><td>인천광역시  </td><td>미추홀구    </td><td>0.7455664   </td><td>0.7512634   </td><td>0.3736678   </td><td>1.870498    </td></tr>\n",
       "\t<tr><th scope=row>68</th><td>대전광역시  </td><td>유성구      </td><td>0.7787895   </td><td>0.3656331   </td><td>0.4400612   </td><td>1.584484    </td></tr>\n",
       "\t<tr><th scope=row>69</th><td>대전광역시  </td><td>대덕구      </td><td>0.9347451   </td><td>0.7635631   </td><td>0.3517427   </td><td>2.050051    </td></tr>\n",
       "\t<tr><th scope=row>137</th><td>충청북도    </td><td>청주시흥덕구</td><td>0.8245077   </td><td>0.9362394   </td><td>0.5441695   </td><td>2.304917    </td></tr>\n",
       "</tbody>\n",
       "</table>\n"
      ],
      "text/latex": [
       "\\begin{tabular}{r|llllll}\n",
       "  & 광역시도 & 시군구 & 이재명 & 윤석열 & 심상정 & samsum\\\\\n",
       "\\hline\n",
       "\t51 & 인천광역시   & 동구         & 0.9191050    & 0.5102419    & 0.5529190    & 1.982266    \\\\\n",
       "\t52 & 인천광역시   & 미추홀구     & 0.7455664    & 0.7512634    & 0.3736678    & 1.870498    \\\\\n",
       "\t68 & 대전광역시   & 유성구       & 0.7787895    & 0.3656331    & 0.4400612    & 1.584484    \\\\\n",
       "\t69 & 대전광역시   & 대덕구       & 0.9347451    & 0.7635631    & 0.3517427    & 2.050051    \\\\\n",
       "\t137 & 충청북도     & 청주시흥덕구 & 0.8245077    & 0.9362394    & 0.5441695    & 2.304917    \\\\\n",
       "\\end{tabular}\n"
      ],
      "text/markdown": [
       "\n",
       "| <!--/--> | 광역시도 | 시군구 | 이재명 | 윤석열 | 심상정 | samsum |\n",
       "|---|---|---|---|---|---|---|\n",
       "| 51 | 인천광역시   | 동구         | 0.9191050    | 0.5102419    | 0.5529190    | 1.982266     |\n",
       "| 52 | 인천광역시   | 미추홀구     | 0.7455664    | 0.7512634    | 0.3736678    | 1.870498     |\n",
       "| 68 | 대전광역시   | 유성구       | 0.7787895    | 0.3656331    | 0.4400612    | 1.584484     |\n",
       "| 69 | 대전광역시   | 대덕구       | 0.9347451    | 0.7635631    | 0.3517427    | 2.050051     |\n",
       "| 137 | 충청북도     | 청주시흥덕구 | 0.8245077    | 0.9362394    | 0.5441695    | 2.304917     |\n",
       "\n"
      ],
      "text/plain": [
       "    광역시도   시군구       이재명    윤석열    심상정    samsum  \n",
       "51  인천광역시 동구         0.9191050 0.5102419 0.5529190 1.982266\n",
       "52  인천광역시 미추홀구     0.7455664 0.7512634 0.3736678 1.870498\n",
       "68  대전광역시 유성구       0.7787895 0.3656331 0.4400612 1.584484\n",
       "69  대전광역시 대덕구       0.9347451 0.7635631 0.3517427 2.050051\n",
       "137 충청북도   청주시흥덕구 0.8245077 0.9362394 0.5441695 2.304917"
      ]
     },
     "metadata": {},
     "output_type": "display_data"
    }
   ],
   "source": [
    "a[,3] <- abs(a[,3]-47.83)\n",
    "a[,4] <- abs(a[,4]-48.56)\n",
    "a[,5] <- abs(a[,5]-2.37)\n",
    "a$samsum <- apply(a[3:5],1,sum)\n",
    "a"
   ]
  },
  {
   "cell_type": "code",
   "execution_count": 49,
   "id": "2996d661",
   "metadata": {},
   "outputs": [
    {
     "data": {
      "text/html": [
       "<table>\n",
       "<thead><tr><th scope=col>광역시도</th><th scope=col>시군구</th><th scope=col>이재명</th><th scope=col>윤석열</th><th scope=col>심상정</th><th scope=col>samsum</th></tr></thead>\n",
       "<tbody>\n",
       "\t<tr><td>대전광역시  </td><td>유성구      </td><td>0.7787895   </td><td>0.3656331   </td><td>0.4400612   </td><td>1.584484    </td></tr>\n",
       "\t<tr><td>인천광역시  </td><td>미추홀구    </td><td>0.7455664   </td><td>0.7512634   </td><td>0.3736678   </td><td>1.870498    </td></tr>\n",
       "\t<tr><td>인천광역시  </td><td>동구        </td><td>0.9191050   </td><td>0.5102419   </td><td>0.5529190   </td><td>1.982266    </td></tr>\n",
       "\t<tr><td>대전광역시  </td><td>대덕구      </td><td>0.9347451   </td><td>0.7635631   </td><td>0.3517427   </td><td>2.050051    </td></tr>\n",
       "\t<tr><td>충청북도    </td><td>청주시흥덕구</td><td>0.8245077   </td><td>0.9362394   </td><td>0.5441695   </td><td>2.304917    </td></tr>\n",
       "</tbody>\n",
       "</table>\n"
      ],
      "text/latex": [
       "\\begin{tabular}{r|llllll}\n",
       " 광역시도 & 시군구 & 이재명 & 윤석열 & 심상정 & samsum\\\\\n",
       "\\hline\n",
       "\t 대전광역시   & 유성구       & 0.7787895    & 0.3656331    & 0.4400612    & 1.584484    \\\\\n",
       "\t 인천광역시   & 미추홀구     & 0.7455664    & 0.7512634    & 0.3736678    & 1.870498    \\\\\n",
       "\t 인천광역시   & 동구         & 0.9191050    & 0.5102419    & 0.5529190    & 1.982266    \\\\\n",
       "\t 대전광역시   & 대덕구       & 0.9347451    & 0.7635631    & 0.3517427    & 2.050051    \\\\\n",
       "\t 충청북도     & 청주시흥덕구 & 0.8245077    & 0.9362394    & 0.5441695    & 2.304917    \\\\\n",
       "\\end{tabular}\n"
      ],
      "text/markdown": [
       "\n",
       "| 광역시도 | 시군구 | 이재명 | 윤석열 | 심상정 | samsum |\n",
       "|---|---|---|---|---|---|\n",
       "| 대전광역시   | 유성구       | 0.7787895    | 0.3656331    | 0.4400612    | 1.584484     |\n",
       "| 인천광역시   | 미추홀구     | 0.7455664    | 0.7512634    | 0.3736678    | 1.870498     |\n",
       "| 인천광역시   | 동구         | 0.9191050    | 0.5102419    | 0.5529190    | 1.982266     |\n",
       "| 대전광역시   | 대덕구       | 0.9347451    | 0.7635631    | 0.3517427    | 2.050051     |\n",
       "| 충청북도     | 청주시흥덕구 | 0.8245077    | 0.9362394    | 0.5441695    | 2.304917     |\n",
       "\n"
      ],
      "text/plain": [
       "  광역시도   시군구       이재명    윤석열    심상정    samsum  \n",
       "1 대전광역시 유성구       0.7787895 0.3656331 0.4400612 1.584484\n",
       "2 인천광역시 미추홀구     0.7455664 0.7512634 0.3736678 1.870498\n",
       "3 인천광역시 동구         0.9191050 0.5102419 0.5529190 1.982266\n",
       "4 대전광역시 대덕구       0.9347451 0.7635631 0.3517427 2.050051\n",
       "5 충청북도   청주시흥덕구 0.8245077 0.9362394 0.5441695 2.304917"
      ]
     },
     "metadata": {},
     "output_type": "display_data"
    }
   ],
   "source": [
    "answer <- arrange(a,samsum)\n",
    "answer"
   ]
  },
  {
   "cell_type": "code",
   "execution_count": 50,
   "id": "16a38744",
   "metadata": {},
   "outputs": [
    {
     "data": {
      "text/html": [
       "<table>\n",
       "<tbody>\n",
       "\t<tr><th scope=row>이재명</th><td>0.7787895</td><td>0.7455664</td><td>0.9191050</td><td>0.9347451</td><td>0.8245077</td></tr>\n",
       "\t<tr><th scope=row>윤석열</th><td>0.3656331</td><td>0.7512634</td><td>0.5102419</td><td>0.7635631</td><td>0.9362394</td></tr>\n",
       "\t<tr><th scope=row>심상정</th><td>0.4400612</td><td>0.3736678</td><td>0.5529190</td><td>0.3517427</td><td>0.5441695</td></tr>\n",
       "\t<tr><th scope=row>samsum</th><td>1.5844838</td><td>1.8704975</td><td>1.9822660</td><td>2.0500510</td><td>2.3049166</td></tr>\n",
       "</tbody>\n",
       "</table>\n"
      ],
      "text/latex": [
       "\\begin{tabular}{r|lllll}\n",
       "\t이재명 & 0.7787895 & 0.7455664 & 0.9191050 & 0.9347451 & 0.8245077\\\\\n",
       "\t윤석열 & 0.3656331 & 0.7512634 & 0.5102419 & 0.7635631 & 0.9362394\\\\\n",
       "\t심상정 & 0.4400612 & 0.3736678 & 0.5529190 & 0.3517427 & 0.5441695\\\\\n",
       "\tsamsum & 1.5844838 & 1.8704975 & 1.9822660 & 2.0500510 & 2.3049166\\\\\n",
       "\\end{tabular}\n"
      ],
      "text/markdown": [
       "\n",
       "| 이재명 | 0.7787895 | 0.7455664 | 0.9191050 | 0.9347451 | 0.8245077 |\n",
       "| 윤석열 | 0.3656331 | 0.7512634 | 0.5102419 | 0.7635631 | 0.9362394 |\n",
       "| 심상정 | 0.4400612 | 0.3736678 | 0.5529190 | 0.3517427 | 0.5441695 |\n",
       "| samsum | 1.5844838 | 1.8704975 | 1.9822660 | 2.0500510 | 2.3049166 |\n",
       "\n"
      ],
      "text/plain": [
       "       [,1]      [,2]      [,3]      [,4]      [,5]     \n",
       "이재명 0.7787895 0.7455664 0.9191050 0.9347451 0.8245077\n",
       "윤석열 0.3656331 0.7512634 0.5102419 0.7635631 0.9362394\n",
       "심상정 0.4400612 0.3736678 0.5529190 0.3517427 0.5441695\n",
       "samsum 1.5844838 1.8704975 1.9822660 2.0500510 2.3049166"
      ]
     },
     "metadata": {},
     "output_type": "display_data"
    }
   ],
   "source": [
    "answer_mat <- t(as.matrix(answer[3:6]))\n",
    "answer_mat"
   ]
  },
  {
   "cell_type": "code",
   "execution_count": 51,
   "id": "c93769a7",
   "metadata": {},
   "outputs": [],
   "source": [
    "colnames(answer_mat) = paste(answer[1:5,1],answer[1:5,2])"
   ]
  },
  {
   "cell_type": "code",
   "execution_count": 56,
   "id": "4bc06557",
   "metadata": {},
   "outputs": [
    {
     "data": {
      "image/png": "[encoded data removed]",
      "text/plain": [
       "Plot with title “지역구별 대선결과 반영 오차비율 합이 낮은 순위 Top5”"
      ]
     },
     "metadata": {},
     "output_type": "display_data"
    }
   ],
   "source": [
    "par(family = \"AppleGothic\")\n",
    "options(warn = -1)\n",
    "barplot(answer_mat[4,],\n",
    "        main = \"지역구별 대선결과 반영 오차비율 합이 낮은 순위 Top5\",\n",
    "        beside = T,\n",
    "        ylim = c(0,3),\n",
    "        cex.names = 0.5,\n",
    "        col = c(\"darkblue\"),\n",
    "       )\n"
   ]
  },
  {
   "cell_type": "code",
   "execution_count": null,
   "id": "03d608ae",
   "metadata": {},
   "outputs": [],
   "source": []
  },
  {
   "cell_type": "code",
   "execution_count": null,
   "id": "7edf2a81",
   "metadata": {},
   "outputs": [],
   "source": []
  },
  {
   "cell_type": "code",
   "execution_count": null,
   "id": "26cef327",
   "metadata": {},
   "outputs": [],
   "source": []
  }
 ],
 "metadata": {
  "kernelspec": {
   "display_name": "R",
   "language": "R",
   "name": "ir"
  },
  "language_info": {
   "codemirror_mode": "r",
   "file_extension": ".r",
   "mimetype": "text/x-r-source",
   "name": "R",
   "pygments_lexer": "r",
   "version": "3.6.1"
  }
 },
 "nbformat": 4,
 "nbformat_minor": 5
}
