{
 "cells": [
  {
   "cell_type": "code",
   "execution_count": 1,
   "id": "6094dc93",
   "metadata": {},
   "outputs": [
    {
     "name": "stderr",
     "output_type": "stream",
     "text": [
      "\n",
      "Attaching package: ‘dplyr’\n",
      "\n",
      "The following objects are masked from ‘package:stats’:\n",
      "\n",
      "    filter, lag\n",
      "\n",
      "The following objects are masked from ‘package:base’:\n",
      "\n",
      "    intersect, setdiff, setequal, union\n",
      "\n"
     ]
    }
   ],
   "source": [
    "library(dplyr)"
   ]
  },
  {
   "cell_type": "code",
   "execution_count": 2,
   "id": "ab75f69f",
   "metadata": {},
   "outputs": [],
   "source": [
    "library(plotrix)"
   ]
  },
  {
   "cell_type": "code",
   "execution_count": 3,
   "id": "024a539c",
   "metadata": {},
   "outputs": [],
   "source": [
    "library(stringr)"
   ]
  },
  {
   "cell_type": "code",
   "execution_count": null,
   "id": "2e0098c2",
   "metadata": {},
   "outputs": [],
   "source": []
  },
  {
   "cell_type": "code",
   "execution_count": null,
   "id": "87372530",
   "metadata": {},
   "outputs": [],
   "source": [
    "head(data)\n",
    "tail(data)\n"
   ]
  },
  {
   "cell_type": "code",
   "execution_count": null,
   "id": "79297a11",
   "metadata": {},
   "outputs": [],
   "source": [
    "str()\n"
   ]
  },
  {
   "cell_type": "code",
   "execution_count": null,
   "id": "ea441e31",
   "metadata": {},
   "outputs": [],
   "source": [
    "summary()\n"
   ]
  },
  {
   "cell_type": "code",
   "execution_count": null,
   "id": "51e70010",
   "metadata": {},
   "outputs": [],
   "source": []
  },
  {
   "cell_type": "code",
   "execution_count": null,
   "id": "7778bc40",
   "metadata": {},
   "outputs": [],
   "source": [
    "for(i in 1:ncol(data))\n",
    "    print(table(data[i]))"
   ]
  },
  {
   "cell_type": "code",
   "execution_count": null,
   "id": "d652663e",
   "metadata": {},
   "outputs": [],
   "source": [
    "par(family = \"AppleGothic\")\n",
    "options(warn = -1)\n",
    "\n",
    "#table(data$학력, data$성별)\n",
    "\n",
    "barplot(table(data$성별, data$학력),\n",
    "        beside = T,\n",
    "        main = \"성별 학력별 빈도수\",\n",
    "        xlab = \"학력별\",\n",
    "        ylab = \"빈도수\",\n",
    "        ylim = c(0,6),\n",
    "        col = c(\"orange\",\"yellow\"),\n",
    "        border = c(\"orange\",\"yellow\"),\n",
    "        legend.text = T,\n",
    "        density = c(1,30)\n",
    "       )\n",
    "\n"
   ]
  }
 ],
 "metadata": {
  "kernelspec": {
   "display_name": "R",
   "language": "R",
   "name": "ir"
  },
  "language_info": {
   "codemirror_mode": "r",
   "file_extension": ".r",
   "mimetype": "text/x-r-source",
   "name": "R",
   "pygments_lexer": "r",
   "version": "3.6.1"
  }
 },
 "nbformat": 4,
 "nbformat_minor": 5
}
