{
 "cells": [
  {
   "cell_type": "markdown",
   "id": "75fc35a4",
   "metadata": {},
   "source": [
    "# Mushroom\n",
    "# https://archive.ics.uci.edu/ml/datasets/Mushroom\n",
    "- 8124 종류의 버섯의 특징과 독의 유무를 정리해논 데이터셋\n",
    "- 버섯 모양의 특징을 기반으로 독의 유무를 판단\n",
    "\n",
    "한 줄(row)이 버섯 한 종류.\n",
    "1번쨰 컬럼은 독의 유무 : 독(p), 식용(e)   \n",
    "2번쨰 컬럼은 버섯의 머리모양 : b(벨형태), c(원뿔), x(블록), f(평평), k(혹), s(오목)   \n",
    "4번쨰 컬럼은 버섯의 머리 색 : n(갈색), b(황갈색), c(연한갈색), g(회색)    \n",
    "\n",
    "* 자세한 내용은 위의 사이트에서 확인 "
   ]
  },
  {
   "cell_type": "code",
   "execution_count": 15,
   "id": "696b530a",
   "metadata": {},
   "outputs": [],
   "source": [
    "library(caret) #sample\n",
    "library(nnet) #인공신경망 , 다항 로지스틱 회귀분석\n",
    "library(e1071) # svm\n",
    "library(randomForest) # randomForest\n",
    "library(party) # 의사결정나무 ctree\n",
    "library(ggplot2)\n"
   ]
  },
  {
   "cell_type": "code",
   "execution_count": 16,
   "id": "889f7528",
   "metadata": {},
   "outputs": [
    {
     "data": {
      "text/html": [
       "<table>\n",
       "<thead><tr><th scope=col>V1</th><th scope=col>V2</th><th scope=col>V3</th><th scope=col>V4</th><th scope=col>V5</th><th scope=col>V6</th><th scope=col>V7</th><th scope=col>V8</th><th scope=col>V9</th><th scope=col>V10</th><th scope=col>...</th><th scope=col>V14</th><th scope=col>V15</th><th scope=col>V16</th><th scope=col>V17</th><th scope=col>V18</th><th scope=col>V19</th><th scope=col>V20</th><th scope=col>V21</th><th scope=col>V22</th><th scope=col>V23</th></tr></thead>\n",
       "<tbody>\n",
       "\t<tr><td>p  </td><td>x  </td><td>s  </td><td>n  </td><td>t  </td><td>p  </td><td>f  </td><td>c  </td><td>n  </td><td>k  </td><td>...</td><td>s  </td><td>w  </td><td>w  </td><td>p  </td><td>w  </td><td>o  </td><td>p  </td><td>k  </td><td>s  </td><td>u  </td></tr>\n",
       "\t<tr><td>e  </td><td>x  </td><td>s  </td><td>y  </td><td>t  </td><td>a  </td><td>f  </td><td>c  </td><td>b  </td><td>k  </td><td>...</td><td>s  </td><td>w  </td><td>w  </td><td>p  </td><td>w  </td><td>o  </td><td>p  </td><td>n  </td><td>n  </td><td>g  </td></tr>\n",
       "\t<tr><td>e  </td><td>b  </td><td>s  </td><td>w  </td><td>t  </td><td>l  </td><td>f  </td><td>c  </td><td>b  </td><td>n  </td><td>...</td><td>s  </td><td>w  </td><td>w  </td><td>p  </td><td>w  </td><td>o  </td><td>p  </td><td>n  </td><td>n  </td><td>m  </td></tr>\n",
       "\t<tr><td>p  </td><td>x  </td><td>y  </td><td>w  </td><td>t  </td><td>p  </td><td>f  </td><td>c  </td><td>n  </td><td>n  </td><td>...</td><td>s  </td><td>w  </td><td>w  </td><td>p  </td><td>w  </td><td>o  </td><td>p  </td><td>k  </td><td>s  </td><td>u  </td></tr>\n",
       "\t<tr><td>e  </td><td>x  </td><td>s  </td><td>g  </td><td>f  </td><td>n  </td><td>f  </td><td>w  </td><td>b  </td><td>k  </td><td>...</td><td>s  </td><td>w  </td><td>w  </td><td>p  </td><td>w  </td><td>o  </td><td>e  </td><td>n  </td><td>a  </td><td>g  </td></tr>\n",
       "\t<tr><td>e  </td><td>x  </td><td>y  </td><td>y  </td><td>t  </td><td>a  </td><td>f  </td><td>c  </td><td>b  </td><td>n  </td><td>...</td><td>s  </td><td>w  </td><td>w  </td><td>p  </td><td>w  </td><td>o  </td><td>p  </td><td>k  </td><td>n  </td><td>g  </td></tr>\n",
       "</tbody>\n",
       "</table>\n"
      ],
      "text/latex": [
       "\\begin{tabular}{r|lllllllllllllllllllllll}\n",
       " V1 & V2 & V3 & V4 & V5 & V6 & V7 & V8 & V9 & V10 & ... & V14 & V15 & V16 & V17 & V18 & V19 & V20 & V21 & V22 & V23\\\\\n",
       "\\hline\n",
       "\t p   & x   & s   & n   & t   & p   & f   & c   & n   & k   & ... & s   & w   & w   & p   & w   & o   & p   & k   & s   & u  \\\\\n",
       "\t e   & x   & s   & y   & t   & a   & f   & c   & b   & k   & ... & s   & w   & w   & p   & w   & o   & p   & n   & n   & g  \\\\\n",
       "\t e   & b   & s   & w   & t   & l   & f   & c   & b   & n   & ... & s   & w   & w   & p   & w   & o   & p   & n   & n   & m  \\\\\n",
       "\t p   & x   & y   & w   & t   & p   & f   & c   & n   & n   & ... & s   & w   & w   & p   & w   & o   & p   & k   & s   & u  \\\\\n",
       "\t e   & x   & s   & g   & f   & n   & f   & w   & b   & k   & ... & s   & w   & w   & p   & w   & o   & e   & n   & a   & g  \\\\\n",
       "\t e   & x   & y   & y   & t   & a   & f   & c   & b   & n   & ... & s   & w   & w   & p   & w   & o   & p   & k   & n   & g  \\\\\n",
       "\\end{tabular}\n"
      ],
      "text/markdown": [
       "\n",
       "| V1 | V2 | V3 | V4 | V5 | V6 | V7 | V8 | V9 | V10 | ... | V14 | V15 | V16 | V17 | V18 | V19 | V20 | V21 | V22 | V23 |\n",
       "|---|---|---|---|---|---|---|---|---|---|---|---|---|---|---|---|---|---|---|---|---|\n",
       "| p   | x   | s   | n   | t   | p   | f   | c   | n   | k   | ... | s   | w   | w   | p   | w   | o   | p   | k   | s   | u   |\n",
       "| e   | x   | s   | y   | t   | a   | f   | c   | b   | k   | ... | s   | w   | w   | p   | w   | o   | p   | n   | n   | g   |\n",
       "| e   | b   | s   | w   | t   | l   | f   | c   | b   | n   | ... | s   | w   | w   | p   | w   | o   | p   | n   | n   | m   |\n",
       "| p   | x   | y   | w   | t   | p   | f   | c   | n   | n   | ... | s   | w   | w   | p   | w   | o   | p   | k   | s   | u   |\n",
       "| e   | x   | s   | g   | f   | n   | f   | w   | b   | k   | ... | s   | w   | w   | p   | w   | o   | e   | n   | a   | g   |\n",
       "| e   | x   | y   | y   | t   | a   | f   | c   | b   | n   | ... | s   | w   | w   | p   | w   | o   | p   | k   | n   | g   |\n",
       "\n"
      ],
      "text/plain": [
       "  V1 V2 V3 V4 V5 V6 V7 V8 V9 V10 ... V14 V15 V16 V17 V18 V19 V20 V21 V22 V23\n",
       "1 p  x  s  n  t  p  f  c  n  k   ... s   w   w   p   w   o   p   k   s   u  \n",
       "2 e  x  s  y  t  a  f  c  b  k   ... s   w   w   p   w   o   p   n   n   g  \n",
       "3 e  b  s  w  t  l  f  c  b  n   ... s   w   w   p   w   o   p   n   n   m  \n",
       "4 p  x  y  w  t  p  f  c  n  n   ... s   w   w   p   w   o   p   k   s   u  \n",
       "5 e  x  s  g  f  n  f  w  b  k   ... s   w   w   p   w   o   e   n   a   g  \n",
       "6 e  x  y  y  t  a  f  c  b  n   ... s   w   w   p   w   o   p   k   n   g  "
      ]
     },
     "metadata": {},
     "output_type": "display_data"
    }
   ],
   "source": [
    "mush <-read.csv(\"../Data/mushroom.csv\",header = F)\n",
    "head(mush)"
   ]
  },
  {
   "cell_type": "code",
   "execution_count": 17,
   "id": "bf66b277",
   "metadata": {},
   "outputs": [
    {
     "name": "stdout",
     "output_type": "stream",
     "text": [
      "'data.frame':\t8124 obs. of  23 variables:\n",
      " $ V1 : Factor w/ 2 levels \"e\",\"p\": 2 1 1 2 1 1 1 1 2 1 ...\n",
      " $ V2 : Factor w/ 6 levels \"b\",\"c\",\"f\",\"k\",..: 6 6 1 6 6 6 1 1 6 1 ...\n",
      " $ V3 : Factor w/ 4 levels \"f\",\"g\",\"s\",\"y\": 3 3 3 4 3 4 3 4 4 3 ...\n",
      " $ V4 : Factor w/ 10 levels \"b\",\"c\",\"e\",\"g\",..: 5 10 9 9 4 10 9 9 9 10 ...\n",
      " $ V5 : Factor w/ 2 levels \"f\",\"t\": 2 2 2 2 1 2 2 2 2 2 ...\n",
      " $ V6 : Factor w/ 9 levels \"a\",\"c\",\"f\",\"l\",..: 7 1 4 7 6 1 1 4 7 1 ...\n",
      " $ V7 : Factor w/ 2 levels \"a\",\"f\": 2 2 2 2 2 2 2 2 2 2 ...\n",
      " $ V8 : Factor w/ 2 levels \"c\",\"w\": 1 1 1 1 2 1 1 1 1 1 ...\n",
      " $ V9 : Factor w/ 2 levels \"b\",\"n\": 2 1 1 2 1 1 1 1 2 1 ...\n",
      " $ V10: Factor w/ 12 levels \"b\",\"e\",\"g\",\"h\",..: 5 5 6 6 5 6 3 6 8 3 ...\n",
      " $ V11: Factor w/ 2 levels \"e\",\"t\": 1 1 1 1 2 1 1 1 1 1 ...\n",
      " $ V12: Factor w/ 5 levels \"?\",\"b\",\"c\",\"e\",..: 4 3 3 4 4 3 3 3 4 3 ...\n",
      " $ V13: Factor w/ 4 levels \"f\",\"k\",\"s\",\"y\": 3 3 3 3 3 3 3 3 3 3 ...\n",
      " $ V14: Factor w/ 4 levels \"f\",\"k\",\"s\",\"y\": 3 3 3 3 3 3 3 3 3 3 ...\n",
      " $ V15: Factor w/ 9 levels \"b\",\"c\",\"e\",\"g\",..: 8 8 8 8 8 8 8 8 8 8 ...\n",
      " $ V16: Factor w/ 9 levels \"b\",\"c\",\"e\",\"g\",..: 8 8 8 8 8 8 8 8 8 8 ...\n",
      " $ V17: Factor w/ 1 level \"p\": 1 1 1 1 1 1 1 1 1 1 ...\n",
      " $ V18: Factor w/ 4 levels \"n\",\"o\",\"w\",\"y\": 3 3 3 3 3 3 3 3 3 3 ...\n",
      " $ V19: Factor w/ 3 levels \"n\",\"o\",\"t\": 2 2 2 2 2 2 2 2 2 2 ...\n",
      " $ V20: Factor w/ 5 levels \"e\",\"f\",\"l\",\"n\",..: 5 5 5 5 1 5 5 5 5 5 ...\n",
      " $ V21: Factor w/ 9 levels \"b\",\"h\",\"k\",\"n\",..: 3 4 4 3 4 3 3 4 3 3 ...\n",
      " $ V22: Factor w/ 6 levels \"a\",\"c\",\"n\",\"s\",..: 4 3 3 4 1 3 3 4 5 4 ...\n",
      " $ V23: Factor w/ 7 levels \"d\",\"g\",\"l\",\"m\",..: 6 2 4 6 2 2 4 4 2 4 ...\n"
     ]
    }
   ],
   "source": [
    "str(mush)"
   ]
  },
  {
   "cell_type": "code",
   "execution_count": 18,
   "id": "9c99cf00",
   "metadata": {},
   "outputs": [],
   "source": [
    "#인공신경망,의사결정나무, RandomForest, SVM, 로지스틱 회귀분석으로 예측력 구하기"
   ]
  },
  {
   "cell_type": "code",
   "execution_count": null,
   "id": "b2f8676f",
   "metadata": {},
   "outputs": [],
   "source": []
  },
  {
   "cell_type": "code",
   "execution_count": 19,
   "id": "f59f1443",
   "metadata": {},
   "outputs": [
    {
     "data": {
      "text/html": [
       "0"
      ],
      "text/latex": [
       "0"
      ],
      "text/markdown": [
       "0"
      ],
      "text/plain": [
       "[1] 0"
      ]
     },
     "metadata": {},
     "output_type": "display_data"
    }
   ],
   "source": [
    "sum(is.na(mush))"
   ]
  },
  {
   "cell_type": "code",
   "execution_count": 65,
   "id": "bc3c9cfa",
   "metadata": {},
   "outputs": [],
   "source": [
    "mush <-mush[,-17]"
   ]
  },
  {
   "cell_type": "code",
   "execution_count": 66,
   "id": "0cb1f9c1",
   "metadata": {},
   "outputs": [
    {
     "name": "stdout",
     "output_type": "stream",
     "text": [
      "[1] 0.05295056\n",
      "[1] 0.1784461\n",
      "[1] -0.03138409\n",
      "[1] -0.5015304\n",
      "[1] -0.09355164\n",
      "[1] 0.1291999\n",
      "[1] -0.3483868\n",
      "[1] 0.5400244\n",
      "[1] -0.5305662\n",
      "[1] -0.102019\n",
      "[1] -0.379361\n",
      "[1] -0.3345927\n",
      "[1] -0.2988006\n",
      "[1] -0.1540027\n",
      "[1] -0.1467303\n",
      "[1] -0.4117714\n",
      "[1] 0.171961\n",
      "[1] 0.2986855\n",
      "[1] 0.2171793\n"
     ]
    },
    {
     "ename": "ERROR",
     "evalue": "Error in `[.data.frame`(mush, , i): undefined columns selected\n",
     "output_type": "error",
     "traceback": [
      "Error in `[.data.frame`(mush, , i): undefined columns selected\nTraceback:\n",
      "1. print(cor(as.numeric(mush[, 1]), as.numeric(mush[, i])))",
      "2. cor(as.numeric(mush[, 1]), as.numeric(mush[, i]))",
      "3. is.data.frame(y)",
      "4. mush[, i]",
      "5. `[.data.frame`(mush, , i)",
      "6. stop(\"undefined columns selected\")"
     ]
    }
   ],
   "source": []
  },
  {
   "cell_type": "code",
   "execution_count": 67,
   "id": "b3a7f3ce",
   "metadata": {},
   "outputs": [
    {
     "name": "stdout",
     "output_type": "stream",
     "text": [
      "'data.frame':\t8124 obs. of  20 variables:\n",
      " $ V1 : Factor w/ 2 levels \"e\",\"p\": 2 1 1 2 1 1 1 1 2 1 ...\n",
      " $ V2 : Factor w/ 6 levels \"b\",\"c\",\"f\",\"k\",..: 6 6 1 6 6 6 1 1 6 1 ...\n",
      " $ V3 : Factor w/ 4 levels \"f\",\"g\",\"s\",\"y\": 3 3 3 4 3 4 3 4 4 3 ...\n",
      " $ V4 : Factor w/ 10 levels \"b\",\"c\",\"e\",\"g\",..: 5 10 9 9 4 10 9 9 9 10 ...\n",
      " $ V5 : Factor w/ 2 levels \"f\",\"t\": 2 2 2 2 1 2 2 2 2 2 ...\n",
      " $ V6 : Factor w/ 9 levels \"a\",\"c\",\"f\",\"l\",..: 7 1 4 7 6 1 1 4 7 1 ...\n",
      " $ V7 : Factor w/ 2 levels \"a\",\"f\": 2 2 2 2 2 2 2 2 2 2 ...\n",
      " $ V8 : Factor w/ 2 levels \"c\",\"w\": 1 1 1 1 2 1 1 1 1 1 ...\n",
      " $ V9 : Factor w/ 2 levels \"b\",\"n\": 2 1 1 2 1 1 1 1 2 1 ...\n",
      " $ V10: Factor w/ 12 levels \"b\",\"e\",\"g\",\"h\",..: 5 5 6 6 5 6 3 6 8 3 ...\n",
      " $ V11: Factor w/ 2 levels \"e\",\"t\": 1 1 1 1 2 1 1 1 1 1 ...\n",
      " $ V12: Factor w/ 5 levels \"?\",\"b\",\"c\",\"e\",..: 4 3 3 4 4 3 3 3 4 3 ...\n",
      " $ V13: Factor w/ 4 levels \"f\",\"k\",\"s\",\"y\": 3 3 3 3 3 3 3 3 3 3 ...\n",
      " $ V14: Factor w/ 4 levels \"f\",\"k\",\"s\",\"y\": 3 3 3 3 3 3 3 3 3 3 ...\n",
      " $ V15: Factor w/ 9 levels \"b\",\"c\",\"e\",\"g\",..: 8 8 8 8 8 8 8 8 8 8 ...\n",
      " $ V16: Factor w/ 9 levels \"b\",\"c\",\"e\",\"g\",..: 8 8 8 8 8 8 8 8 8 8 ...\n",
      " $ V20: Factor w/ 5 levels \"e\",\"f\",\"l\",\"n\",..: 5 5 5 5 1 5 5 5 5 5 ...\n",
      " $ V21: Factor w/ 9 levels \"b\",\"h\",\"k\",\"n\",..: 3 4 4 3 4 3 3 4 3 3 ...\n",
      " $ V22: Factor w/ 6 levels \"a\",\"c\",\"n\",\"s\",..: 4 3 3 4 1 3 3 4 5 4 ...\n",
      " $ V23: Factor w/ 7 levels \"d\",\"g\",\"l\",\"m\",..: 6 2 4 6 2 2 4 4 2 4 ...\n"
     ]
    }
   ],
   "source": [
    "str(mush)"
   ]
  },
  {
   "cell_type": "code",
   "execution_count": 84,
   "id": "039958df",
   "metadata": {},
   "outputs": [],
   "source": [
    "mush <- mush[ ,-12]"
   ]
  },
  {
   "cell_type": "code",
   "execution_count": 111,
   "id": "5a25a262",
   "metadata": {},
   "outputs": [
    {
     "name": "stdout",
     "output_type": "stream",
     "text": [
      "'data.frame':\t8124 obs. of  19 variables:\n",
      " $ V1 : Factor w/ 2 levels \"e\",\"p\": 2 1 1 2 1 1 1 1 2 1 ...\n",
      " $ V2 : Factor w/ 6 levels \"b\",\"c\",\"f\",\"k\",..: 6 6 1 6 6 6 1 1 6 1 ...\n",
      " $ V3 : Factor w/ 4 levels \"f\",\"g\",\"s\",\"y\": 3 3 3 4 3 4 3 4 4 3 ...\n",
      " $ V4 : Factor w/ 10 levels \"b\",\"c\",\"e\",\"g\",..: 5 10 9 9 4 10 9 9 9 10 ...\n",
      " $ V5 : Factor w/ 2 levels \"f\",\"t\": 2 2 2 2 1 2 2 2 2 2 ...\n",
      " $ V6 : Factor w/ 9 levels \"a\",\"c\",\"f\",\"l\",..: 7 1 4 7 6 1 1 4 7 1 ...\n",
      " $ V7 : Factor w/ 2 levels \"a\",\"f\": 2 2 2 2 2 2 2 2 2 2 ...\n",
      " $ V8 : Factor w/ 2 levels \"c\",\"w\": 1 1 1 1 2 1 1 1 1 1 ...\n",
      " $ V9 : Factor w/ 2 levels \"b\",\"n\": 2 1 1 2 1 1 1 1 2 1 ...\n",
      " $ V10: Factor w/ 12 levels \"b\",\"e\",\"g\",\"h\",..: 5 5 6 6 5 6 3 6 8 3 ...\n",
      " $ V11: Factor w/ 2 levels \"e\",\"t\": 1 1 1 1 2 1 1 1 1 1 ...\n",
      " $ V13: Factor w/ 4 levels \"f\",\"k\",\"s\",\"y\": 3 3 3 3 3 3 3 3 3 3 ...\n",
      " $ V14: Factor w/ 4 levels \"f\",\"k\",\"s\",\"y\": 3 3 3 3 3 3 3 3 3 3 ...\n",
      " $ V15: Factor w/ 9 levels \"b\",\"c\",\"e\",\"g\",..: 8 8 8 8 8 8 8 8 8 8 ...\n",
      " $ V16: Factor w/ 9 levels \"b\",\"c\",\"e\",\"g\",..: 8 8 8 8 8 8 8 8 8 8 ...\n",
      " $ V20: Factor w/ 5 levels \"e\",\"f\",\"l\",\"n\",..: 5 5 5 5 1 5 5 5 5 5 ...\n",
      " $ V21: Factor w/ 9 levels \"b\",\"h\",\"k\",\"n\",..: 3 4 4 3 4 3 3 4 3 3 ...\n",
      " $ V22: Factor w/ 6 levels \"a\",\"c\",\"n\",\"s\",..: 4 3 3 4 1 3 3 4 5 4 ...\n",
      " $ V23: Factor w/ 7 levels \"d\",\"g\",\"l\",\"m\",..: 6 2 4 6 2 2 4 4 2 4 ...\n"
     ]
    }
   ],
   "source": [
    "str(mush)"
   ]
  },
  {
   "cell_type": "code",
   "execution_count": 70,
   "id": "0cbaacee",
   "metadata": {},
   "outputs": [],
   "source": [
    "#model <- lm(V1 ~ . , data = mush.num)"
   ]
  },
  {
   "cell_type": "code",
   "execution_count": null,
   "id": "a465f317",
   "metadata": {},
   "outputs": [],
   "source": [
    "\n",
    "\n",
    "qplot(Sepal.Length, Petal.Length,data=iris , col = Species , size = Petal.Width)"
   ]
  },
  {
   "cell_type": "code",
   "execution_count": 99,
   "id": "6cc08c3f",
   "metadata": {},
   "outputs": [
    {
     "data": {
      "text/plain": [
       "\n",
       "Call:\n",
       "lm(formula = V1 ~ ., data = mush.num)\n",
       "\n",
       "Coefficients:\n",
       "(Intercept)           V2           V3           V4           V5           V6  \n",
       "   1.894596    -0.001782     0.023349    -0.001350    -0.348543    -0.022486  \n",
       "         V7           V8           V9          V10          V11          V12  \n",
       "  -0.068924    -0.474142     0.539086    -0.010069    -0.052575    -0.071722  \n",
       "        V13          V14          V15          V16          V18          V19  \n",
       "  -0.161188    -0.057135    -0.010981    -0.006322     0.400785     0.038662  \n",
       "        V20          V21          V22          V23  \n",
       "   0.017830    -0.048491    -0.009910     0.016822  \n"
      ]
     },
     "metadata": {},
     "output_type": "display_data"
    }
   ],
   "source": [
    "model"
   ]
  },
  {
   "cell_type": "code",
   "execution_count": 100,
   "id": "2533ce2b",
   "metadata": {},
   "outputs": [],
   "source": [
    "#summary(model)"
   ]
  },
  {
   "cell_type": "code",
   "execution_count": 101,
   "id": "1f3e25a4",
   "metadata": {},
   "outputs": [],
   "source": [
    "#reduced <- step(model, direction = \"backward\" )"
   ]
  },
  {
   "cell_type": "code",
   "execution_count": 102,
   "id": "e1f21881",
   "metadata": {},
   "outputs": [],
   "source": [
    "# 샘플나누기\n",
    "\n",
    "sampling <- function(){\n",
    "samp <<- createDataPartition(mush$V1 , p = 0.7,list = F)\n",
    "data.tr <<- mush[samp,]\n",
    "data.test <<- mush[-samp,]\n",
    "\n",
    "x <<- subset(data.test, select = -V1)\n",
    "y <<- data.test$V1\n",
    "\n",
    "}    \n",
    "\n"
   ]
  },
  {
   "cell_type": "code",
   "execution_count": 103,
   "id": "1bec0e79",
   "metadata": {},
   "outputs": [],
   "source": [
    "sampling()"
   ]
  },
  {
   "cell_type": "code",
   "execution_count": 104,
   "id": "cc7511f2",
   "metadata": {},
   "outputs": [],
   "source": [
    "#인공신경망 테스트\n",
    "ANN <- function(data.tr , data.test , x , y ){\n",
    "    model.nnet <- nnet(V1 ~. , data = data.tr , size = 3)\n",
    "    pred <- predict(model.nnet , x , type = \"class\")\n",
    "    cat(\"예측력\" ,mean(pred == y), \"입니다.\")\n",
    "    table(pred,y)\n",
    "    return(mean(pred == y))\n",
    "}"
   ]
  },
  {
   "cell_type": "code",
   "execution_count": 105,
   "id": "8654a42c",
   "metadata": {},
   "outputs": [],
   "source": [
    "#의사결정 나무 \n",
    "CTREE <-function(data.tr , data.test , x , y ){\n",
    "    model.ctree <- ctree(V1 ~ . , data=data.tr)\n",
    "    pred <- predict(model.ctree , x )\n",
    "    cat(\"예측력\" ,mean(pred == y), \"입니다.\")\n",
    "    table(pred,y)\n",
    "    return(mean(pred == y))\n",
    "}"
   ]
  },
  {
   "cell_type": "code",
   "execution_count": 106,
   "id": "ab33ac1a",
   "metadata": {},
   "outputs": [],
   "source": [
    "#RandomForesst\n",
    "RandomForest<-function(data.tr , data.test , x , y ){\n",
    "    model.rf <- randomForest(V1 ~ . , data=data.tr, ntree = 100)\n",
    "    pred <- predict(model.rf , x )\n",
    "    cat(\"예측력\" ,mean(pred == y), \"입니다.\")\n",
    "    table(pred,y)\n",
    "    return(mean(pred == y))\n",
    "} "
   ]
  },
  {
   "cell_type": "code",
   "execution_count": 107,
   "id": "c8684d7e",
   "metadata": {},
   "outputs": [],
   "source": [
    "#SVM\n",
    "SVM <-function(data.tr , data.test , x , y ){\n",
    "    model.svm <- svm(V1 ~ . , data=data.tr)\n",
    "    pred <- predict(model.svm , x )\n",
    "    cat(\"예측력\" ,mean(pred == y), \"입니다.\")\n",
    "    table(pred,y)\n",
    "    return(mean(pred == y))\n",
    "} "
   ]
  },
  {
   "cell_type": "code",
   "execution_count": 108,
   "id": "af92da35",
   "metadata": {},
   "outputs": [],
   "source": [
    "#Logistic regression\n",
    "Logisticreg <-function(data.tr , data.test , x , y ){\n",
    "    model.log <- multinom(V1 ~ . , data=data.tr)\n",
    "    pred <- predict(model.log , x )\n",
    "    cat(\"예측력\" ,mean(pred == y), \"입니다.\")\n",
    "    table(pred,y)\n",
    "    return(mean(pred == y))\n",
    "} "
   ]
  },
  {
   "cell_type": "code",
   "execution_count": 109,
   "id": "e77d9e79",
   "metadata": {},
   "outputs": [
    {
     "name": "stdout",
     "output_type": "stream",
     "text": [
      "# weights:  265\n",
      "initial  value 3979.459846 \n",
      "iter  10 value 45.108563\n",
      "iter  20 value 1.259989\n",
      "iter  30 value 0.030891\n",
      "iter  40 value 0.001779\n",
      "iter  50 value 0.000567\n",
      "iter  60 value 0.000294\n",
      "final  value 0.000082 \n",
      "converged\n",
      "예측력 1 입니다.예측력 0.9987685 입니다.예측력 1 입니다.예측력 0.9967159 입니다.# weights:  88 (87 variable)\n",
      "initial  value 3942.621163 \n",
      "iter  10 value 57.668987\n",
      "iter  20 value 3.943178\n",
      "iter  30 value 1.225303\n",
      "iter  40 value 0.141278\n",
      "iter  50 value 0.031601\n",
      "iter  60 value 0.003022\n",
      "iter  70 value 0.000209\n",
      "final  value 0.000065 \n",
      "converged\n",
      "예측력 0.999179 입니다.# weights:  265\n",
      "initial  value 4097.202040 \n",
      "iter  10 value 197.239881\n",
      "iter  20 value 24.631579\n",
      "iter  30 value 23.193106\n",
      "iter  40 value 21.960132\n",
      "iter  50 value 21.508628\n",
      "iter  60 value 21.260224\n",
      "iter  70 value 18.320713\n",
      "iter  80 value 12.485362\n",
      "iter  90 value 0.390306\n",
      "iter 100 value 0.008864\n",
      "final  value 0.008864 \n",
      "stopped after 100 iterations\n",
      "예측력 1 입니다.예측력 0.9987685 입니다.예측력 1 입니다.예측력 0.9967159 입니다.# weights:  88 (87 variable)\n",
      "initial  value 3942.621163 \n",
      "iter  10 value 57.668987\n",
      "iter  20 value 3.943178\n",
      "iter  30 value 1.225303\n",
      "iter  40 value 0.141278\n",
      "iter  50 value 0.031601\n",
      "iter  60 value 0.003022\n",
      "iter  70 value 0.000209\n",
      "final  value 0.000065 \n",
      "converged\n",
      "예측력 0.999179 입니다.# weights:  265\n",
      "initial  value 4575.484770 \n",
      "iter  10 value 277.036178\n",
      "iter  20 value 111.086357\n",
      "iter  30 value 19.935772\n",
      "iter  40 value 0.064061\n",
      "iter  50 value 0.001236\n",
      "final  value 0.000088 \n",
      "converged\n",
      "예측력 1 입니다.예측력 0.9987685 입니다.예측력 1 입니다.예측력 0.9967159 입니다.# weights:  88 (87 variable)\n",
      "initial  value 3942.621163 \n",
      "iter  10 value 57.668987\n",
      "iter  20 value 3.943178\n",
      "iter  30 value 1.225303\n",
      "iter  40 value 0.141278\n",
      "iter  50 value 0.031601\n",
      "iter  60 value 0.003022\n",
      "iter  70 value 0.000209\n",
      "final  value 0.000065 \n",
      "converged\n",
      "예측력 0.999179 입니다.# weights:  265\n",
      "initial  value 4554.727275 \n",
      "iter  10 value 1297.524051\n",
      "iter  20 value 293.253808\n",
      "iter  30 value 270.659483\n",
      "iter  40 value 270.451709\n",
      "iter  50 value 41.246456\n",
      "iter  60 value 0.475646\n",
      "iter  70 value 0.017875\n",
      "iter  80 value 0.007045\n",
      "iter  90 value 0.000305\n",
      "iter 100 value 0.000143\n",
      "final  value 0.000143 \n",
      "stopped after 100 iterations\n",
      "예측력 1 입니다.예측력 0.9987685 입니다.예측력 1 입니다.예측력 0.9967159 입니다.# weights:  88 (87 variable)\n",
      "initial  value 3942.621163 \n",
      "iter  10 value 57.668987\n",
      "iter  20 value 3.943178\n",
      "iter  30 value 1.225303\n",
      "iter  40 value 0.141278\n",
      "iter  50 value 0.031601\n",
      "iter  60 value 0.003022\n",
      "iter  70 value 0.000209\n",
      "final  value 0.000065 \n",
      "converged\n",
      "예측력 0.999179 입니다.# weights:  265\n",
      "initial  value 4007.055385 \n",
      "iter  10 value 352.102409\n",
      "iter  20 value 62.120166\n",
      "iter  30 value 25.468235\n",
      "iter  40 value 10.391575\n",
      "iter  50 value 0.018474\n",
      "iter  60 value 0.000905\n",
      "iter  70 value 0.000725\n",
      "iter  80 value 0.000725\n",
      "iter  90 value 0.000451\n",
      "iter 100 value 0.000253\n",
      "final  value 0.000253 \n",
      "stopped after 100 iterations\n",
      "예측력 1 입니다.예측력 0.9987685 입니다.예측력 1 입니다.예측력 0.9967159 입니다.# weights:  88 (87 variable)\n",
      "initial  value 3942.621163 \n",
      "iter  10 value 57.668987\n",
      "iter  20 value 3.943178\n",
      "iter  30 value 1.225303\n",
      "iter  40 value 0.141278\n",
      "iter  50 value 0.031601\n",
      "iter  60 value 0.003022\n",
      "iter  70 value 0.000209\n",
      "final  value 0.000065 \n",
      "converged\n",
      "예측력 0.999179 입니다."
     ]
    },
    {
     "data": {
      "text/html": [
       "<table>\n",
       "<thead><tr><th></th><th scope=col>예측력</th></tr></thead>\n",
       "<tbody>\n",
       "\t<tr><th scope=row>인공신경망</th><td>1.0000000</td></tr>\n",
       "\t<tr><th scope=row>의사결정나무</th><td>0.9987685</td></tr>\n",
       "\t<tr><th scope=row>RandomForest</th><td>1.0000000</td></tr>\n",
       "\t<tr><th scope=row>SVM</th><td>0.9967159</td></tr>\n",
       "\t<tr><th scope=row>로지스틱회귀분석</th><td>0.9991790</td></tr>\n",
       "</tbody>\n",
       "</table>\n"
      ],
      "text/latex": [
       "\\begin{tabular}{r|l}\n",
       "  & 예측력\\\\\n",
       "\\hline\n",
       "\t인공신경망 & 1.0000000\\\\\n",
       "\t의사결정나무 & 0.9987685\\\\\n",
       "\tRandomForest & 1.0000000\\\\\n",
       "\tSVM & 0.9967159\\\\\n",
       "\t로지스틱회귀분석 & 0.9991790\\\\\n",
       "\\end{tabular}\n"
      ],
      "text/markdown": [
       "\n",
       "| <!--/--> | 예측력 |\n",
       "|---|---|\n",
       "| 인공신경망 | 1.0000000 |\n",
       "| 의사결정나무 | 0.9987685 |\n",
       "| RandomForest | 1.0000000 |\n",
       "| SVM | 0.9967159 |\n",
       "| 로지스틱회귀분석 | 0.9991790 |\n",
       "\n"
      ],
      "text/plain": [
       "                 예측력   \n",
       "인공신경망       1.0000000\n",
       "의사결정나무     0.9987685\n",
       "RandomForest     1.0000000\n",
       "SVM              0.9967159\n",
       "로지스틱회귀분석 0.9991790"
      ]
     },
     "metadata": {},
     "output_type": "display_data"
    }
   ],
   "source": [
    "a <- rep(0,5)\n",
    "iteration <- 5\n",
    "for(i in 1:iteration){\n",
    "    \n",
    "    a = a + c(\n",
    "            ANN(data.tr , data.test , x , y ),\n",
    "            CTREE(data.tr , data.test , x , y ),\n",
    "            RandomForest(data.tr , data.test , x , y ),\n",
    "            SVM(data.tr , data.test , x , y ),\n",
    "            Logisticreg(data.tr , data.test , x , y )\n",
    "    )\n",
    "    \n",
    "}\n",
    "a<- a/iteration\n",
    "\n",
    "result<-data.frame(예측력 = a)\n",
    "rownames(result) = c(\"인공신경망\",\"의사결정나무\",\"RandomForest\",\"SVM\",\"로지스틱회귀분석\")\n",
    "result"
   ]
  },
  {
   "cell_type": "code",
   "execution_count": 110,
   "id": "0716e715",
   "metadata": {},
   "outputs": [
    {
     "data": {
      "text/html": [
       "<table>\n",
       "<thead><tr><th></th><th scope=col>예측력</th></tr></thead>\n",
       "<tbody>\n",
       "\t<tr><th scope=row>인공신경망</th><td>1.0000000</td></tr>\n",
       "\t<tr><th scope=row>의사결정나무</th><td>0.9987685</td></tr>\n",
       "\t<tr><th scope=row>RandomForest</th><td>1.0000000</td></tr>\n",
       "\t<tr><th scope=row>SVM</th><td>0.9967159</td></tr>\n",
       "\t<tr><th scope=row>로지스틱회귀분석</th><td>0.9991790</td></tr>\n",
       "</tbody>\n",
       "</table>\n"
      ],
      "text/latex": [
       "\\begin{tabular}{r|l}\n",
       "  & 예측력\\\\\n",
       "\\hline\n",
       "\t인공신경망 & 1.0000000\\\\\n",
       "\t의사결정나무 & 0.9987685\\\\\n",
       "\tRandomForest & 1.0000000\\\\\n",
       "\tSVM & 0.9967159\\\\\n",
       "\t로지스틱회귀분석 & 0.9991790\\\\\n",
       "\\end{tabular}\n"
      ],
      "text/markdown": [
       "\n",
       "| <!--/--> | 예측력 |\n",
       "|---|---|\n",
       "| 인공신경망 | 1.0000000 |\n",
       "| 의사결정나무 | 0.9987685 |\n",
       "| RandomForest | 1.0000000 |\n",
       "| SVM | 0.9967159 |\n",
       "| 로지스틱회귀분석 | 0.9991790 |\n",
       "\n"
      ],
      "text/plain": [
       "                 예측력   \n",
       "인공신경망       1.0000000\n",
       "의사결정나무     0.9987685\n",
       "RandomForest     1.0000000\n",
       "SVM              0.9967159\n",
       "로지스틱회귀분석 0.9991790"
      ]
     },
     "metadata": {},
     "output_type": "display_data"
    }
   ],
   "source": [
    "\n",
    "result"
   ]
  },
  {
   "cell_type": "code",
   "execution_count": null,
   "id": "e6f6628b",
   "metadata": {},
   "outputs": [],
   "source": []
  },
  {
   "cell_type": "code",
   "execution_count": null,
   "id": "b28c2993",
   "metadata": {},
   "outputs": [],
   "source": []
  }
 ],
 "metadata": {
  "kernelspec": {
   "display_name": "R",
   "language": "R",
   "name": "ir"
  },
  "language_info": {
   "codemirror_mode": "r",
   "file_extension": ".r",
   "mimetype": "text/x-r-source",
   "name": "R",
   "pygments_lexer": "r",
   "version": "3.6.1"
  }
 },
 "nbformat": 4,
 "nbformat_minor": 5
}
