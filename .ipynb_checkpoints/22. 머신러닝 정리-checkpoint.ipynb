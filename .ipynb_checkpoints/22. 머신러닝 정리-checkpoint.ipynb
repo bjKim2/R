{
 "cells": [
  {
   "cell_type": "code",
   "execution_count": 16,
   "id": "41259daf",
   "metadata": {},
   "outputs": [],
   "source": [
    "library(caret) #sample\n",
    "library(nnet) #인공신경망 , 다항 로지스틱 회귀분석\n",
    "library(e1071) # svm\n",
    "library(randomForest) # randomForest\n",
    "library(party) # 의사결정나무 ctree"
   ]
  },
  {
   "cell_type": "code",
   "execution_count": 17,
   "id": "11297c60",
   "metadata": {},
   "outputs": [],
   "source": [
    "# 표준화\n",
    "iris2 <- iris\n",
    "iris2[,1:4] <- as.data.frame(scale(iris[,1:4]))"
   ]
  },
  {
   "cell_type": "code",
   "execution_count": 50,
   "id": "fa18a785",
   "metadata": {},
   "outputs": [],
   "source": [
    "# 샘플나누기\n",
    "\n",
    "sampling <- function(){\n",
    "samp <<- createDataPartition(iris2$Species , p = 0.7,list = F)\n",
    "data.tr <<- iris2[samp,]\n",
    "data.test <<- iris2[-samp,]\n",
    "\n",
    "x <<- subset(data.test, select = -Species)\n",
    "y <<- data.test$Species\n",
    "    \n",
    "}    \n"
   ]
  },
  {
   "cell_type": "code",
   "execution_count": 62,
   "id": "5f30e93c",
   "metadata": {},
   "outputs": [
    {
     "data": {
      "text/html": [
       "<table>\n",
       "<thead><tr><th scope=col>Resample1</th></tr></thead>\n",
       "<tbody>\n",
       "\t<tr><td>1</td></tr>\n",
       "\t<tr><td>4</td></tr>\n",
       "\t<tr><td>5</td></tr>\n",
       "\t<tr><td>6</td></tr>\n",
       "\t<tr><td>7</td></tr>\n",
       "\t<tr><td>9</td></tr>\n",
       "</tbody>\n",
       "</table>\n"
      ],
      "text/latex": [
       "\\begin{tabular}{l}\n",
       " Resample1\\\\\n",
       "\\hline\n",
       "\t 1\\\\\n",
       "\t 4\\\\\n",
       "\t 5\\\\\n",
       "\t 6\\\\\n",
       "\t 7\\\\\n",
       "\t 9\\\\\n",
       "\\end{tabular}\n"
      ],
      "text/markdown": [
       "\n",
       "| Resample1 |\n",
       "|---|\n",
       "| 1 |\n",
       "| 4 |\n",
       "| 5 |\n",
       "| 6 |\n",
       "| 7 |\n",
       "| 9 |\n",
       "\n"
      ],
      "text/plain": [
       "     Resample1\n",
       "[1,] 1        \n",
       "[2,] 4        \n",
       "[3,] 5        \n",
       "[4,] 6        \n",
       "[5,] 7        \n",
       "[6,] 9        "
      ]
     },
     "metadata": {},
     "output_type": "display_data"
    }
   ],
   "source": [
    "sampling() \n",
    "head(samp)"
   ]
  },
  {
   "cell_type": "code",
   "execution_count": 44,
   "id": "4d694208",
   "metadata": {},
   "outputs": [],
   "source": [
    "#인공신경망 테스트\n",
    "ANN <- function(data.tr , data.test , x , y ){\n",
    "    model.nnet <- nnet(Species ~. , data = data.tr , size = 3)\n",
    "    pred <- predict(model.nnet , x , type = \"class\")\n",
    "    cat(\"예측력\" ,mean(pred == y), \"입니다.\")\n",
    "    table(pred,y)\n",
    "    return(mean(pred == y))\n",
    "}"
   ]
  },
  {
   "cell_type": "code",
   "execution_count": 33,
   "id": "769e8e02",
   "metadata": {},
   "outputs": [
    {
     "name": "stdout",
     "output_type": "stream",
     "text": [
      "# weights:  27\n",
      "initial  value 117.736040 \n",
      "iter  10 value 21.324631\n",
      "iter  20 value 2.119669\n",
      "iter  30 value 0.006665\n",
      "final  value 0.000087 \n",
      "converged\n",
      "예측력 0.9777778 입니다."
     ]
    },
    {
     "data": {
      "text/html": [
       "0.977777777777778"
      ],
      "text/latex": [
       "0.977777777777778"
      ],
      "text/markdown": [
       "0.977777777777778"
      ],
      "text/plain": [
       "[1] 0.9777778"
      ]
     },
     "metadata": {},
     "output_type": "display_data"
    }
   ],
   "source": [
    "ANN(data.tr , data.test , x , y )"
   ]
  },
  {
   "cell_type": "code",
   "execution_count": 34,
   "id": "047fa4fa",
   "metadata": {},
   "outputs": [],
   "source": [
    "#의사결정 나무 \n",
    "CTREE <-function(data.tr , data.test , x , y ){\n",
    "    model.ctree <- ctree(Species ~ . , data=data.tr)\n",
    "    pred <- predict(model.ctree , x )\n",
    "    cat(\"예측력\" ,mean(pred == y), \"입니다.\")\n",
    "    table(pred,y)\n",
    "    return(mean(pred == y))\n",
    "}"
   ]
  },
  {
   "cell_type": "code",
   "execution_count": 35,
   "id": "1072ebbd",
   "metadata": {},
   "outputs": [
    {
     "name": "stdout",
     "output_type": "stream",
     "text": [
      "예측력 0.9777778 입니다."
     ]
    },
    {
     "data": {
      "text/html": [
       "0.977777777777778"
      ],
      "text/latex": [
       "0.977777777777778"
      ],
      "text/markdown": [
       "0.977777777777778"
      ],
      "text/plain": [
       "[1] 0.9777778"
      ]
     },
     "metadata": {},
     "output_type": "display_data"
    }
   ],
   "source": [
    " CTREE(data.tr , data.test , x , y )"
   ]
  },
  {
   "cell_type": "code",
   "execution_count": 36,
   "id": "71a7c79d",
   "metadata": {},
   "outputs": [],
   "source": [
    "#RandomForesst\n",
    "RandomForest<-function(data.tr , data.test , x , y ){\n",
    "    model.rf <- randomForest(Species ~ . , data=data.tr, ntree = 100)\n",
    "    pred <- predict(model.rf , x )\n",
    "    cat(\"예측력\" ,mean(pred == y), \"입니다.\")\n",
    "    table(pred,y)\n",
    "    return(mean(pred == y))\n",
    "} "
   ]
  },
  {
   "cell_type": "code",
   "execution_count": 37,
   "id": "0d3d0d35",
   "metadata": {},
   "outputs": [],
   "source": [
    "#SVM\n",
    "SVM <-function(data.tr , data.test , x , y ){\n",
    "    model.svm <- svm(Species ~ . , data=data.tr)\n",
    "    pred <- predict(model.svm , x )\n",
    "    cat(\"예측력\" ,mean(pred == y), \"입니다.\")\n",
    "    table(pred,y)\n",
    "    return(mean(pred == y))\n",
    "} "
   ]
  },
  {
   "cell_type": "code",
   "execution_count": 38,
   "id": "632f72bb",
   "metadata": {},
   "outputs": [],
   "source": [
    "#Logistic regression\n",
    "Logisticreg <-function(data.tr , data.test , x , y ){\n",
    "    model.log <- multinom(Species ~ . , data=data.tr)\n",
    "    pred <- predict(model.log , x )\n",
    "    cat(\"예측력\" ,mean(pred == y), \"입니다.\")\n",
    "    table(pred,y)\n",
    "    return(mean(pred == y))\n",
    "} "
   ]
  },
  {
   "cell_type": "code",
   "execution_count": 63,
   "id": "04a9a96a",
   "metadata": {},
   "outputs": [
    {
     "name": "stdout",
     "output_type": "stream",
     "text": [
      "# weights:  27\n",
      "initial  value 139.172197 \n",
      "iter  10 value 7.489771\n",
      "iter  20 value 4.801521\n",
      "iter  30 value 4.537388\n",
      "iter  40 value 2.766603\n",
      "iter  50 value 0.979393\n",
      "iter  60 value 0.212965\n",
      "iter  70 value 0.149069\n",
      "iter  80 value 0.030285\n",
      "final  value 0.000089 \n",
      "converged\n",
      "예측력 0.9333333 입니다.예측력 0.9555556 입니다.예측력 0.9333333 입니다.예측력 0.9555556 입니다.# weights:  18 (10 variable)\n",
      "initial  value 115.354290 \n",
      "iter  10 value 9.669815\n",
      "iter  20 value 4.482194\n",
      "iter  30 value 4.445642\n",
      "iter  40 value 4.438677\n",
      "iter  50 value 4.438324\n",
      "iter  60 value 4.437459\n",
      "iter  70 value 4.436913\n",
      "iter  80 value 4.436580\n",
      "iter  90 value 4.436413\n",
      "iter 100 value 4.436196\n",
      "final  value 4.436196 \n",
      "stopped after 100 iterations\n",
      "예측력 0.9555556 입니다.# weights:  27\n",
      "initial  value 120.275888 \n",
      "iter  10 value 12.718417\n",
      "iter  20 value 4.570525\n",
      "iter  30 value 4.497400\n",
      "iter  40 value 4.441548\n",
      "iter  50 value 4.234696\n",
      "iter  60 value 4.197140\n",
      "iter  70 value 4.129799\n",
      "iter  80 value 3.853494\n",
      "iter  90 value 2.434511\n",
      "iter 100 value 1.037665\n",
      "final  value 1.037665 \n",
      "stopped after 100 iterations\n",
      "예측력 0.9333333 입니다.예측력 0.9555556 입니다.예측력 0.9333333 입니다.예측력 0.9555556 입니다.# weights:  18 (10 variable)\n",
      "initial  value 115.354290 \n",
      "iter  10 value 9.669815\n",
      "iter  20 value 4.482194\n",
      "iter  30 value 4.445642\n",
      "iter  40 value 4.438677\n",
      "iter  50 value 4.438324\n",
      "iter  60 value 4.437459\n",
      "iter  70 value 4.436913\n",
      "iter  80 value 4.436580\n",
      "iter  90 value 4.436413\n",
      "iter 100 value 4.436196\n",
      "final  value 4.436196 \n",
      "stopped after 100 iterations\n",
      "예측력 0.9555556 입니다.# weights:  27\n",
      "initial  value 117.531283 \n",
      "iter  10 value 4.572846\n",
      "iter  20 value 4.513222\n",
      "iter  30 value 4.471260\n",
      "iter  40 value 4.457827\n",
      "iter  50 value 4.450301\n",
      "iter  60 value 4.449657\n",
      "iter  70 value 4.440418\n",
      "iter  80 value 4.438127\n",
      "iter  90 value 4.435033\n",
      "iter 100 value 4.431841\n",
      "final  value 4.431841 \n",
      "stopped after 100 iterations\n",
      "예측력 0.9555556 입니다.예측력 0.9555556 입니다.예측력 0.9111111 입니다.예측력 0.9555556 입니다.# weights:  18 (10 variable)\n",
      "initial  value 115.354290 \n",
      "iter  10 value 9.669815\n",
      "iter  20 value 4.482194\n",
      "iter  30 value 4.445642\n",
      "iter  40 value 4.438677\n",
      "iter  50 value 4.438324\n",
      "iter  60 value 4.437459\n",
      "iter  70 value 4.436913\n",
      "iter  80 value 4.436580\n",
      "iter  90 value 4.436413\n",
      "iter 100 value 4.436196\n",
      "final  value 4.436196 \n",
      "stopped after 100 iterations\n",
      "예측력 0.9555556 입니다.# weights:  27\n",
      "initial  value 120.273064 \n",
      "iter  10 value 5.221290\n",
      "iter  20 value 4.605186\n",
      "iter  30 value 2.518712\n",
      "iter  40 value 0.764009\n",
      "iter  50 value 0.155871\n",
      "iter  60 value 0.024192\n",
      "iter  70 value 0.007107\n",
      "iter  80 value 0.006004\n",
      "iter  90 value 0.001844\n",
      "iter 100 value 0.000198\n",
      "final  value 0.000198 \n",
      "stopped after 100 iterations\n",
      "예측력 0.9777778 입니다.예측력 0.9555556 입니다.예측력 0.9111111 입니다.예측력 0.9555556 입니다.# weights:  18 (10 variable)\n",
      "initial  value 115.354290 \n",
      "iter  10 value 9.669815\n",
      "iter  20 value 4.482194\n",
      "iter  30 value 4.445642\n",
      "iter  40 value 4.438677\n",
      "iter  50 value 4.438324\n",
      "iter  60 value 4.437459\n",
      "iter  70 value 4.436913\n",
      "iter  80 value 4.436580\n",
      "iter  90 value 4.436413\n",
      "iter 100 value 4.436196\n",
      "final  value 4.436196 \n",
      "stopped after 100 iterations\n",
      "예측력 0.9555556 입니다.# weights:  27\n",
      "initial  value 117.598550 \n",
      "iter  10 value 11.893068\n",
      "iter  20 value 4.867003\n",
      "iter  30 value 4.772411\n",
      "iter  40 value 4.493668\n",
      "iter  50 value 4.402347\n",
      "iter  60 value 3.683116\n",
      "iter  70 value 0.966501\n",
      "iter  80 value 0.404065\n",
      "iter  90 value 0.283400\n",
      "iter 100 value 0.243446\n",
      "final  value 0.243446 \n",
      "stopped after 100 iterations\n",
      "예측력 0.9333333 입니다.예측력 0.9555556 입니다.예측력 0.9111111 입니다.예측력 0.9555556 입니다.# weights:  18 (10 variable)\n",
      "initial  value 115.354290 \n",
      "iter  10 value 9.669815\n",
      "iter  20 value 4.482194\n",
      "iter  30 value 4.445642\n",
      "iter  40 value 4.438677\n",
      "iter  50 value 4.438324\n",
      "iter  60 value 4.437459\n",
      "iter  70 value 4.436913\n",
      "iter  80 value 4.436580\n",
      "iter  90 value 4.436413\n",
      "iter 100 value 4.436196\n",
      "final  value 4.436196 \n",
      "stopped after 100 iterations\n",
      "예측력 0.9555556 입니다."
     ]
    },
    {
     "data": {
      "text/html": [
       "<table>\n",
       "<thead><tr><th></th><th scope=col>예측력</th></tr></thead>\n",
       "<tbody>\n",
       "\t<tr><th scope=row>인공신경망</th><td>0.9466667</td></tr>\n",
       "\t<tr><th scope=row>의사결정나무</th><td>0.9555556</td></tr>\n",
       "\t<tr><th scope=row>RandomForest</th><td>0.9200000</td></tr>\n",
       "\t<tr><th scope=row>SVM</th><td>0.9555556</td></tr>\n",
       "\t<tr><th scope=row>로지스틱회귀분석</th><td>0.9555556</td></tr>\n",
       "</tbody>\n",
       "</table>\n"
      ],
      "text/latex": [
       "\\begin{tabular}{r|l}\n",
       "  & 예측력\\\\\n",
       "\\hline\n",
       "\t인공신경망 & 0.9466667\\\\\n",
       "\t의사결정나무 & 0.9555556\\\\\n",
       "\tRandomForest & 0.9200000\\\\\n",
       "\tSVM & 0.9555556\\\\\n",
       "\t로지스틱회귀분석 & 0.9555556\\\\\n",
       "\\end{tabular}\n"
      ],
      "text/markdown": [
       "\n",
       "| <!--/--> | 예측력 |\n",
       "|---|---|\n",
       "| 인공신경망 | 0.9466667 |\n",
       "| 의사결정나무 | 0.9555556 |\n",
       "| RandomForest | 0.9200000 |\n",
       "| SVM | 0.9555556 |\n",
       "| 로지스틱회귀분석 | 0.9555556 |\n",
       "\n"
      ],
      "text/plain": [
       "                 예측력   \n",
       "인공신경망       0.9466667\n",
       "의사결정나무     0.9555556\n",
       "RandomForest     0.9200000\n",
       "SVM              0.9555556\n",
       "로지스틱회귀분석 0.9555556"
      ]
     },
     "metadata": {},
     "output_type": "display_data"
    }
   ],
   "source": [
    "a <- rep(0,5)\n",
    "iteration <- 5\n",
    "for(i in 1:iteration){\n",
    "    \n",
    "    a = a + c(\n",
    "                            ANN(data.tr , data.test , x , y ),\n",
    "                            CTREE(data.tr , data.test , x , y ),\n",
    "                            RandomForest(data.tr , data.test , x , y ),\n",
    "                            SVM(data.tr , data.test , x , y ),\n",
    "                            Logisticreg(data.tr , data.test , x , y )\n",
    "    )\n",
    "    \n",
    "}\n",
    "a<- a/iteration\n",
    "\n",
    "result<-data.frame(예측력 = a)\n",
    "rownames(result) = c(\"인공신경망\",\"의사결정나무\",\"RandomForest\",\"SVM\",\"로지스틱회귀분석\")\n",
    "result"
   ]
  },
  {
   "cell_type": "code",
   "execution_count": 68,
   "id": "f6884563",
   "metadata": {},
   "outputs": [
    {
     "data": {
      "text/html": [
       "<table>\n",
       "<thead><tr><th></th><th scope=col>예측력</th></tr></thead>\n",
       "<tbody>\n",
       "\t<tr><th scope=row>인공신경망</th><td>0.9466667</td></tr>\n",
       "\t<tr><th scope=row>의사결정나무</th><td>0.9555556</td></tr>\n",
       "\t<tr><th scope=row>RandomForest</th><td>0.9200000</td></tr>\n",
       "\t<tr><th scope=row>SVM</th><td>0.9555556</td></tr>\n",
       "\t<tr><th scope=row>로지스틱회귀분석</th><td>0.9555556</td></tr>\n",
       "</tbody>\n",
       "</table>\n"
      ],
      "text/latex": [
       "\\begin{tabular}{r|l}\n",
       "  & 예측력\\\\\n",
       "\\hline\n",
       "\t인공신경망 & 0.9466667\\\\\n",
       "\t의사결정나무 & 0.9555556\\\\\n",
       "\tRandomForest & 0.9200000\\\\\n",
       "\tSVM & 0.9555556\\\\\n",
       "\t로지스틱회귀분석 & 0.9555556\\\\\n",
       "\\end{tabular}\n"
      ],
      "text/markdown": [
       "\n",
       "| <!--/--> | 예측력 |\n",
       "|---|---|\n",
       "| 인공신경망 | 0.9466667 |\n",
       "| 의사결정나무 | 0.9555556 |\n",
       "| RandomForest | 0.9200000 |\n",
       "| SVM | 0.9555556 |\n",
       "| 로지스틱회귀분석 | 0.9555556 |\n",
       "\n"
      ],
      "text/plain": [
       "                 예측력   \n",
       "인공신경망       0.9466667\n",
       "의사결정나무     0.9555556\n",
       "RandomForest     0.9200000\n",
       "SVM              0.9555556\n",
       "로지스틱회귀분석 0.9555556"
      ]
     },
     "metadata": {},
     "output_type": "display_data"
    }
   ],
   "source": [
    "result"
   ]
  },
  {
   "cell_type": "code",
   "execution_count": null,
   "id": "f5f6b6df",
   "metadata": {},
   "outputs": [],
   "source": []
  },
  {
   "cell_type": "code",
   "execution_count": null,
   "id": "9da4cc76",
   "metadata": {},
   "outputs": [],
   "source": []
  },
  {
   "cell_type": "code",
   "execution_count": null,
   "id": "7e2f0f38",
   "metadata": {},
   "outputs": [],
   "source": []
  },
  {
   "cell_type": "code",
   "execution_count": null,
   "id": "267ade89",
   "metadata": {},
   "outputs": [],
   "source": []
  },
  {
   "cell_type": "code",
   "execution_count": null,
   "id": "46481684",
   "metadata": {},
   "outputs": [],
   "source": []
  },
  {
   "cell_type": "code",
   "execution_count": null,
   "id": "dd52a5b5",
   "metadata": {},
   "outputs": [],
   "source": []
  },
  {
   "cell_type": "code",
   "execution_count": null,
   "id": "3f1118ee",
   "metadata": {},
   "outputs": [],
   "source": []
  },
  {
   "cell_type": "code",
   "execution_count": null,
   "id": "6b42de1a",
   "metadata": {},
   "outputs": [],
   "source": []
  }
 ],
 "metadata": {
  "kernelspec": {
   "display_name": "R",
   "language": "R",
   "name": "ir"
  },
  "language_info": {
   "codemirror_mode": "r",
   "file_extension": ".r",
   "mimetype": "text/x-r-source",
   "name": "R",
   "pygments_lexer": "r",
   "version": "3.6.1"
  }
 },
 "nbformat": 4,
 "nbformat_minor": 5
}
