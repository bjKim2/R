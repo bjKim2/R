{
 "cells": [
  {
   "cell_type": "code",
   "execution_count": 2,
   "id": "297389cf",
   "metadata": {},
   "outputs": [
    {
     "data": {
      "text/html": [
       "<table>\n",
       "<thead><tr><th scope=col>V1</th><th scope=col>V2</th><th scope=col>V3</th><th scope=col>V4</th><th scope=col>V5</th><th scope=col>V6</th><th scope=col>V7</th><th scope=col>V8</th><th scope=col>V9</th><th scope=col>V10</th><th scope=col>...</th><th scope=col>V14</th><th scope=col>V15</th><th scope=col>V16</th><th scope=col>V17</th><th scope=col>V18</th><th scope=col>V19</th><th scope=col>V20</th><th scope=col>V21</th><th scope=col>V22</th><th scope=col>V23</th></tr></thead>\n",
       "<tbody>\n",
       "\t<tr><td>p  </td><td>x  </td><td>s  </td><td>n  </td><td>t  </td><td>p  </td><td>f  </td><td>c  </td><td>n  </td><td>k  </td><td>...</td><td>s  </td><td>w  </td><td>w  </td><td>p  </td><td>w  </td><td>o  </td><td>p  </td><td>k  </td><td>s  </td><td>u  </td></tr>\n",
       "\t<tr><td>e  </td><td>x  </td><td>s  </td><td>y  </td><td>t  </td><td>a  </td><td>f  </td><td>c  </td><td>b  </td><td>k  </td><td>...</td><td>s  </td><td>w  </td><td>w  </td><td>p  </td><td>w  </td><td>o  </td><td>p  </td><td>n  </td><td>n  </td><td>g  </td></tr>\n",
       "\t<tr><td>e  </td><td>b  </td><td>s  </td><td>w  </td><td>t  </td><td>l  </td><td>f  </td><td>c  </td><td>b  </td><td>n  </td><td>...</td><td>s  </td><td>w  </td><td>w  </td><td>p  </td><td>w  </td><td>o  </td><td>p  </td><td>n  </td><td>n  </td><td>m  </td></tr>\n",
       "\t<tr><td>p  </td><td>x  </td><td>y  </td><td>w  </td><td>t  </td><td>p  </td><td>f  </td><td>c  </td><td>n  </td><td>n  </td><td>...</td><td>s  </td><td>w  </td><td>w  </td><td>p  </td><td>w  </td><td>o  </td><td>p  </td><td>k  </td><td>s  </td><td>u  </td></tr>\n",
       "\t<tr><td>e  </td><td>x  </td><td>s  </td><td>g  </td><td>f  </td><td>n  </td><td>f  </td><td>w  </td><td>b  </td><td>k  </td><td>...</td><td>s  </td><td>w  </td><td>w  </td><td>p  </td><td>w  </td><td>o  </td><td>e  </td><td>n  </td><td>a  </td><td>g  </td></tr>\n",
       "\t<tr><td>e  </td><td>x  </td><td>y  </td><td>y  </td><td>t  </td><td>a  </td><td>f  </td><td>c  </td><td>b  </td><td>n  </td><td>...</td><td>s  </td><td>w  </td><td>w  </td><td>p  </td><td>w  </td><td>o  </td><td>p  </td><td>k  </td><td>n  </td><td>g  </td></tr>\n",
       "</tbody>\n",
       "</table>\n"
      ],
      "text/latex": [
       "\\begin{tabular}{r|lllllllllllllllllllllll}\n",
       " V1 & V2 & V3 & V4 & V5 & V6 & V7 & V8 & V9 & V10 & ... & V14 & V15 & V16 & V17 & V18 & V19 & V20 & V21 & V22 & V23\\\\\n",
       "\\hline\n",
       "\t p   & x   & s   & n   & t   & p   & f   & c   & n   & k   & ... & s   & w   & w   & p   & w   & o   & p   & k   & s   & u  \\\\\n",
       "\t e   & x   & s   & y   & t   & a   & f   & c   & b   & k   & ... & s   & w   & w   & p   & w   & o   & p   & n   & n   & g  \\\\\n",
       "\t e   & b   & s   & w   & t   & l   & f   & c   & b   & n   & ... & s   & w   & w   & p   & w   & o   & p   & n   & n   & m  \\\\\n",
       "\t p   & x   & y   & w   & t   & p   & f   & c   & n   & n   & ... & s   & w   & w   & p   & w   & o   & p   & k   & s   & u  \\\\\n",
       "\t e   & x   & s   & g   & f   & n   & f   & w   & b   & k   & ... & s   & w   & w   & p   & w   & o   & e   & n   & a   & g  \\\\\n",
       "\t e   & x   & y   & y   & t   & a   & f   & c   & b   & n   & ... & s   & w   & w   & p   & w   & o   & p   & k   & n   & g  \\\\\n",
       "\\end{tabular}\n"
      ],
      "text/markdown": [
       "\n",
       "| V1 | V2 | V3 | V4 | V5 | V6 | V7 | V8 | V9 | V10 | ... | V14 | V15 | V16 | V17 | V18 | V19 | V20 | V21 | V22 | V23 |\n",
       "|---|---|---|---|---|---|---|---|---|---|---|---|---|---|---|---|---|---|---|---|---|\n",
       "| p   | x   | s   | n   | t   | p   | f   | c   | n   | k   | ... | s   | w   | w   | p   | w   | o   | p   | k   | s   | u   |\n",
       "| e   | x   | s   | y   | t   | a   | f   | c   | b   | k   | ... | s   | w   | w   | p   | w   | o   | p   | n   | n   | g   |\n",
       "| e   | b   | s   | w   | t   | l   | f   | c   | b   | n   | ... | s   | w   | w   | p   | w   | o   | p   | n   | n   | m   |\n",
       "| p   | x   | y   | w   | t   | p   | f   | c   | n   | n   | ... | s   | w   | w   | p   | w   | o   | p   | k   | s   | u   |\n",
       "| e   | x   | s   | g   | f   | n   | f   | w   | b   | k   | ... | s   | w   | w   | p   | w   | o   | e   | n   | a   | g   |\n",
       "| e   | x   | y   | y   | t   | a   | f   | c   | b   | n   | ... | s   | w   | w   | p   | w   | o   | p   | k   | n   | g   |\n",
       "\n"
      ],
      "text/plain": [
       "  V1 V2 V3 V4 V5 V6 V7 V8 V9 V10 ... V14 V15 V16 V17 V18 V19 V20 V21 V22 V23\n",
       "1 p  x  s  n  t  p  f  c  n  k   ... s   w   w   p   w   o   p   k   s   u  \n",
       "2 e  x  s  y  t  a  f  c  b  k   ... s   w   w   p   w   o   p   n   n   g  \n",
       "3 e  b  s  w  t  l  f  c  b  n   ... s   w   w   p   w   o   p   n   n   m  \n",
       "4 p  x  y  w  t  p  f  c  n  n   ... s   w   w   p   w   o   p   k   s   u  \n",
       "5 e  x  s  g  f  n  f  w  b  k   ... s   w   w   p   w   o   e   n   a   g  \n",
       "6 e  x  y  y  t  a  f  c  b  n   ... s   w   w   p   w   o   p   k   n   g  "
      ]
     },
     "metadata": {},
     "output_type": "display_data"
    }
   ],
   "source": [
    "mr <- read.csv(\"../Data/mushroom.csv\" , header = F)\n",
    "head(mr)"
   ]
  },
  {
   "cell_type": "code",
   "execution_count": 6,
   "id": "951659e1",
   "metadata": {},
   "outputs": [
    {
     "data": {
      "text/html": [
       "<table>\n",
       "<thead><tr><th scope=col>V1</th><th scope=col>V2</th><th scope=col>V3</th><th scope=col>V4</th><th scope=col>V5</th><th scope=col>V6</th><th scope=col>V7</th><th scope=col>V8</th><th scope=col>V9</th><th scope=col>V10</th><th scope=col>...</th><th scope=col>V14</th><th scope=col>V15</th><th scope=col>V16</th><th scope=col>V17</th><th scope=col>V18</th><th scope=col>V19</th><th scope=col>V20</th><th scope=col>V21</th><th scope=col>V22</th><th scope=col>V23</th></tr></thead>\n",
       "<tbody>\n",
       "\t<tr><td>p  </td><td>6  </td><td>3  </td><td> 5 </td><td>2  </td><td>7  </td><td>2  </td><td>1  </td><td>2  </td><td>5  </td><td>...</td><td>3  </td><td>8  </td><td>8  </td><td>1  </td><td>3  </td><td>2  </td><td>5  </td><td>3  </td><td>4  </td><td>6  </td></tr>\n",
       "\t<tr><td>e  </td><td>6  </td><td>3  </td><td>10 </td><td>2  </td><td>1  </td><td>2  </td><td>1  </td><td>1  </td><td>5  </td><td>...</td><td>3  </td><td>8  </td><td>8  </td><td>1  </td><td>3  </td><td>2  </td><td>5  </td><td>4  </td><td>3  </td><td>2  </td></tr>\n",
       "\t<tr><td>e  </td><td>1  </td><td>3  </td><td> 9 </td><td>2  </td><td>4  </td><td>2  </td><td>1  </td><td>1  </td><td>6  </td><td>...</td><td>3  </td><td>8  </td><td>8  </td><td>1  </td><td>3  </td><td>2  </td><td>5  </td><td>4  </td><td>3  </td><td>4  </td></tr>\n",
       "\t<tr><td>p  </td><td>6  </td><td>4  </td><td> 9 </td><td>2  </td><td>7  </td><td>2  </td><td>1  </td><td>2  </td><td>6  </td><td>...</td><td>3  </td><td>8  </td><td>8  </td><td>1  </td><td>3  </td><td>2  </td><td>5  </td><td>3  </td><td>4  </td><td>6  </td></tr>\n",
       "\t<tr><td>e  </td><td>6  </td><td>3  </td><td> 4 </td><td>1  </td><td>6  </td><td>2  </td><td>2  </td><td>1  </td><td>5  </td><td>...</td><td>3  </td><td>8  </td><td>8  </td><td>1  </td><td>3  </td><td>2  </td><td>1  </td><td>4  </td><td>1  </td><td>2  </td></tr>\n",
       "\t<tr><td>e  </td><td>6  </td><td>4  </td><td>10 </td><td>2  </td><td>1  </td><td>2  </td><td>1  </td><td>1  </td><td>6  </td><td>...</td><td>3  </td><td>8  </td><td>8  </td><td>1  </td><td>3  </td><td>2  </td><td>5  </td><td>3  </td><td>3  </td><td>2  </td></tr>\n",
       "</tbody>\n",
       "</table>\n"
      ],
      "text/latex": [
       "\\begin{tabular}{r|lllllllllllllllllllllll}\n",
       " V1 & V2 & V3 & V4 & V5 & V6 & V7 & V8 & V9 & V10 & ... & V14 & V15 & V16 & V17 & V18 & V19 & V20 & V21 & V22 & V23\\\\\n",
       "\\hline\n",
       "\t p   & 6   & 3   &  5  & 2   & 7   & 2   & 1   & 2   & 5   & ... & 3   & 8   & 8   & 1   & 3   & 2   & 5   & 3   & 4   & 6  \\\\\n",
       "\t e   & 6   & 3   & 10  & 2   & 1   & 2   & 1   & 1   & 5   & ... & 3   & 8   & 8   & 1   & 3   & 2   & 5   & 4   & 3   & 2  \\\\\n",
       "\t e   & 1   & 3   &  9  & 2   & 4   & 2   & 1   & 1   & 6   & ... & 3   & 8   & 8   & 1   & 3   & 2   & 5   & 4   & 3   & 4  \\\\\n",
       "\t p   & 6   & 4   &  9  & 2   & 7   & 2   & 1   & 2   & 6   & ... & 3   & 8   & 8   & 1   & 3   & 2   & 5   & 3   & 4   & 6  \\\\\n",
       "\t e   & 6   & 3   &  4  & 1   & 6   & 2   & 2   & 1   & 5   & ... & 3   & 8   & 8   & 1   & 3   & 2   & 1   & 4   & 1   & 2  \\\\\n",
       "\t e   & 6   & 4   & 10  & 2   & 1   & 2   & 1   & 1   & 6   & ... & 3   & 8   & 8   & 1   & 3   & 2   & 5   & 3   & 3   & 2  \\\\\n",
       "\\end{tabular}\n"
      ],
      "text/markdown": [
       "\n",
       "| V1 | V2 | V3 | V4 | V5 | V6 | V7 | V8 | V9 | V10 | ... | V14 | V15 | V16 | V17 | V18 | V19 | V20 | V21 | V22 | V23 |\n",
       "|---|---|---|---|---|---|---|---|---|---|---|---|---|---|---|---|---|---|---|---|---|\n",
       "| p   | 6   | 3   |  5  | 2   | 7   | 2   | 1   | 2   | 5   | ... | 3   | 8   | 8   | 1   | 3   | 2   | 5   | 3   | 4   | 6   |\n",
       "| e   | 6   | 3   | 10  | 2   | 1   | 2   | 1   | 1   | 5   | ... | 3   | 8   | 8   | 1   | 3   | 2   | 5   | 4   | 3   | 2   |\n",
       "| e   | 1   | 3   |  9  | 2   | 4   | 2   | 1   | 1   | 6   | ... | 3   | 8   | 8   | 1   | 3   | 2   | 5   | 4   | 3   | 4   |\n",
       "| p   | 6   | 4   |  9  | 2   | 7   | 2   | 1   | 2   | 6   | ... | 3   | 8   | 8   | 1   | 3   | 2   | 5   | 3   | 4   | 6   |\n",
       "| e   | 6   | 3   |  4  | 1   | 6   | 2   | 2   | 1   | 5   | ... | 3   | 8   | 8   | 1   | 3   | 2   | 1   | 4   | 1   | 2   |\n",
       "| e   | 6   | 4   | 10  | 2   | 1   | 2   | 1   | 1   | 6   | ... | 3   | 8   | 8   | 1   | 3   | 2   | 5   | 3   | 3   | 2   |\n",
       "\n"
      ],
      "text/plain": [
       "  V1 V2 V3 V4 V5 V6 V7 V8 V9 V10 ... V14 V15 V16 V17 V18 V19 V20 V21 V22 V23\n",
       "1 p  6  3   5 2  7  2  1  2  5   ... 3   8   8   1   3   2   5   3   4   6  \n",
       "2 e  6  3  10 2  1  2  1  1  5   ... 3   8   8   1   3   2   5   4   3   2  \n",
       "3 e  1  3   9 2  4  2  1  1  6   ... 3   8   8   1   3   2   5   4   3   4  \n",
       "4 p  6  4   9 2  7  2  1  2  6   ... 3   8   8   1   3   2   5   3   4   6  \n",
       "5 e  6  3   4 1  6  2  2  1  5   ... 3   8   8   1   3   2   1   4   1   2  \n",
       "6 e  6  4  10 2  1  2  1  1  6   ... 3   8   8   1   3   2   5   3   3   2  "
      ]
     },
     "metadata": {},
     "output_type": "display_data"
    }
   ],
   "source": [
    "# 문자를 숫자로 변환\n",
    "for(i in 2:23){\n",
    "    mr[,i] <- as.numeric(mr[,i])\n",
    "}\n",
    "head(mr)"
   ]
  },
  {
   "cell_type": "code",
   "execution_count": 8,
   "id": "89583758",
   "metadata": {},
   "outputs": [
    {
     "data": {
      "text/html": [
       "<ol class=list-inline>\n",
       "\t<li>6</li>\n",
       "\t<li>1</li>\n",
       "\t<li>5</li>\n",
       "\t<li>3</li>\n",
       "\t<li>4</li>\n",
       "\t<li>2</li>\n",
       "</ol>\n"
      ],
      "text/latex": [
       "\\begin{enumerate*}\n",
       "\\item 6\n",
       "\\item 1\n",
       "\\item 5\n",
       "\\item 3\n",
       "\\item 4\n",
       "\\item 2\n",
       "\\end{enumerate*}\n"
      ],
      "text/markdown": [
       "1. 6\n",
       "2. 1\n",
       "3. 5\n",
       "4. 3\n",
       "5. 4\n",
       "6. 2\n",
       "\n",
       "\n"
      ],
      "text/plain": [
       "[1] 6 1 5 3 4 2"
      ]
     },
     "metadata": {},
     "output_type": "display_data"
    }
   ],
   "source": [
    "unique(mr$V2)"
   ]
  },
  {
   "cell_type": "code",
   "execution_count": 16,
   "id": "967ed63f",
   "metadata": {},
   "outputs": [
    {
     "name": "stdout",
     "output_type": "stream",
     "text": [
      "Column Name : V2\n",
      "   1    2    3    4    5    6 \n",
      " 452    4 3152  828   32 3656 \n",
      "-------------------\n",
      "Column Name : V3\n",
      "   1    2    3    4 \n",
      "2320    4 2556 3244 \n",
      "-------------------\n",
      "Column Name : V4\n",
      "   1    2    3    4    5    6    7    8    9   10 \n",
      " 168   44 1500 1840 2284  144   16   16 1040 1072 \n",
      "-------------------\n",
      "Column Name : V5\n",
      "   1    2 \n",
      "4748 3376 \n",
      "-------------------\n",
      "Column Name : V6\n",
      "   1    2    3    4    5    6    7    8    9 \n",
      " 400  192 2160  400   36 3528  256  576  576 \n",
      "-------------------\n",
      "Column Name : V7\n",
      "   1    2 \n",
      " 210 7914 \n",
      "-------------------\n",
      "Column Name : V8\n",
      "   1    2 \n",
      "6812 1312 \n",
      "-------------------\n",
      "Column Name : V9\n",
      "   1    2 \n",
      "5612 2512 \n",
      "-------------------\n",
      "Column Name : V10\n",
      "   1    2    3    4    5    6    7    8    9   10   11   12 \n",
      "1728   96  752  732  408 1048   64 1492   24  492 1202   86 \n",
      "-------------------\n",
      "Column Name : V11\n",
      "   1    2 \n",
      "3516 4608 \n",
      "-------------------\n",
      "Column Name : V12\n",
      "   1    2    3    4    5 \n",
      "2480 3776  556 1120  192 \n",
      "-------------------\n",
      "Column Name : V13\n",
      "   1    2    3    4 \n",
      " 552 2372 5176   24 \n",
      "-------------------\n",
      "Column Name : V14\n",
      "   1    2    3    4 \n",
      " 600 2304 4936  284 \n",
      "-------------------\n",
      "Column Name : V15\n",
      "   1    2    3    4    5    6    7    8    9 \n",
      " 432   36   96  576  448  192 1872 4464    8 \n",
      "-------------------\n",
      "Column Name : V16\n",
      "   1    2    3    4    5    6    7    8    9 \n",
      " 432   36   96  576  512  192 1872 4384   24 \n",
      "-------------------\n",
      "Column Name : V17\n",
      "   1 \n",
      "8124 \n",
      "-------------------\n",
      "Column Name : V18\n",
      "   1    2    3    4 \n",
      "  96   96 7924    8 \n",
      "-------------------\n",
      "Column Name : V19\n",
      "   1    2    3 \n",
      "  36 7488  600 \n",
      "-------------------\n",
      "Column Name : V20\n",
      "   1    2    3    4    5 \n",
      "2776   48 1296   36 3968 \n",
      "-------------------\n",
      "Column Name : V21\n",
      "   1    2    3    4    5    6    7    8    9 \n",
      "  48 1632 1872 1968   48   72   48 2388   48 \n",
      "-------------------\n",
      "Column Name : V22\n",
      "   1    2    3    4    5    6 \n",
      " 384  340  400 1248 4040 1712 \n",
      "-------------------\n",
      "Column Name : V23\n",
      "   1    2    3    4    5    6    7 \n",
      "3148 2148  832  292 1144  368  192 \n",
      "-------------------\n"
     ]
    }
   ],
   "source": [
    "#각 컬럼별 Data 확인\n",
    "for(i in 2:23){\n",
    "    cat(\"Column Name :\", colnames(mr)[i])\n",
    "    print(table(mr[,i]))\n",
    "    cat(\"-------------------\\n\")\n",
    "}"
   ]
  },
  {
   "cell_type": "code",
   "execution_count": 22,
   "id": "9fd92135",
   "metadata": {},
   "outputs": [
    {
     "data": {
      "text/html": [
       "<ol class=list-inline>\n",
       "\t<li>6</li>\n",
       "\t<li>4</li>\n",
       "\t<li>10</li>\n",
       "\t<li>2</li>\n",
       "\t<li>9</li>\n",
       "\t<li>2</li>\n",
       "\t<li>2</li>\n",
       "\t<li>2</li>\n",
       "\t<li>12</li>\n",
       "\t<li>2</li>\n",
       "\t<li>5</li>\n",
       "\t<li>4</li>\n",
       "\t<li>4</li>\n",
       "\t<li>9</li>\n",
       "\t<li>9</li>\n",
       "\t<li>1</li>\n",
       "\t<li>4</li>\n",
       "\t<li>3</li>\n",
       "\t<li>5</li>\n",
       "\t<li>9</li>\n",
       "\t<li>6</li>\n",
       "\t<li>7</li>\n",
       "</ol>\n"
      ],
      "text/latex": [
       "\\begin{enumerate*}\n",
       "\\item 6\n",
       "\\item 4\n",
       "\\item 10\n",
       "\\item 2\n",
       "\\item 9\n",
       "\\item 2\n",
       "\\item 2\n",
       "\\item 2\n",
       "\\item 12\n",
       "\\item 2\n",
       "\\item 5\n",
       "\\item 4\n",
       "\\item 4\n",
       "\\item 9\n",
       "\\item 9\n",
       "\\item 1\n",
       "\\item 4\n",
       "\\item 3\n",
       "\\item 5\n",
       "\\item 9\n",
       "\\item 6\n",
       "\\item 7\n",
       "\\end{enumerate*}\n"
      ],
      "text/markdown": [
       "1. 6\n",
       "2. 4\n",
       "3. 10\n",
       "4. 2\n",
       "5. 9\n",
       "6. 2\n",
       "7. 2\n",
       "8. 2\n",
       "9. 12\n",
       "10. 2\n",
       "11. 5\n",
       "12. 4\n",
       "13. 4\n",
       "14. 9\n",
       "15. 9\n",
       "16. 1\n",
       "17. 4\n",
       "18. 3\n",
       "19. 5\n",
       "20. 9\n",
       "21. 6\n",
       "22. 7\n",
       "\n",
       "\n"
      ],
      "text/plain": [
       " [1]  6  4 10  2  9  2  2  2 12  2  5  4  4  9  9  1  4  3  5  9  6  7"
      ]
     },
     "metadata": {},
     "output_type": "display_data"
    },
    {
     "data": {
      "text/html": [
       "117"
      ],
      "text/latex": [
       "117"
      ],
      "text/markdown": [
       "117"
      ],
      "text/plain": [
       "[1] 117"
      ]
     },
     "metadata": {},
     "output_type": "display_data"
    }
   ],
   "source": [
    "# 작업 수행후의 컬럼 갯수 파악\n",
    "num <- c()\n",
    "for(i in 2:23){\n",
    "    num <- append(num, length(unique(mr[,i])))\n",
    "}\n",
    "num\n",
    "sum(num)"
   ]
  },
  {
   "cell_type": "code",
   "execution_count": 24,
   "id": "f56bba2f",
   "metadata": {},
   "outputs": [
    {
     "data": {
      "text/html": [
       "<table>\n",
       "<thead><tr><th scope=col>V1</th></tr></thead>\n",
       "<tbody>\n",
       "\t<tr><td>p</td></tr>\n",
       "\t<tr><td>e</td></tr>\n",
       "\t<tr><td>e</td></tr>\n",
       "\t<tr><td>p</td></tr>\n",
       "\t<tr><td>e</td></tr>\n",
       "\t<tr><td>e</td></tr>\n",
       "</tbody>\n",
       "</table>\n"
      ],
      "text/latex": [
       "\\begin{tabular}{r|l}\n",
       " V1\\\\\n",
       "\\hline\n",
       "\t p\\\\\n",
       "\t e\\\\\n",
       "\t e\\\\\n",
       "\t p\\\\\n",
       "\t e\\\\\n",
       "\t e\\\\\n",
       "\\end{tabular}\n"
      ],
      "text/markdown": [
       "\n",
       "| V1 |\n",
       "|---|\n",
       "| p |\n",
       "| e |\n",
       "| e |\n",
       "| p |\n",
       "| e |\n",
       "| e |\n",
       "\n"
      ],
      "text/plain": [
       "  V1\n",
       "1 p \n",
       "2 e \n",
       "3 e \n",
       "4 p \n",
       "5 e \n",
       "6 e "
      ]
     },
     "metadata": {},
     "output_type": "display_data"
    }
   ],
   "source": [
    "# 별도의 DataFrame 생성\n",
    "\n",
    "mr2 <-data.frame(V1 = mr$V1)\n",
    "head(mr2)"
   ]
  },
  {
   "cell_type": "code",
   "execution_count": 31,
   "id": "0a77552d",
   "metadata": {},
   "outputs": [
    {
     "data": {
      "text/html": [
       "<ol class=list-inline>\n",
       "\t<li>1</li>\n",
       "\t<li>2</li>\n",
       "\t<li>3</li>\n",
       "\t<li>4</li>\n",
       "\t<li>5</li>\n",
       "\t<li>6</li>\n",
       "</ol>\n"
      ],
      "text/latex": [
       "\\begin{enumerate*}\n",
       "\\item 1\n",
       "\\item 2\n",
       "\\item 3\n",
       "\\item 4\n",
       "\\item 5\n",
       "\\item 6\n",
       "\\end{enumerate*}\n"
      ],
      "text/markdown": [
       "1. 1\n",
       "2. 2\n",
       "3. 3\n",
       "4. 4\n",
       "5. 5\n",
       "6. 6\n",
       "\n",
       "\n"
      ],
      "text/plain": [
       "[1] 1 2 3 4 5 6"
      ]
     },
     "metadata": {},
     "output_type": "display_data"
    }
   ],
   "source": [
    "sort(unique(mr$V2))\n"
   ]
  },
  {
   "cell_type": "code",
   "execution_count": 33,
   "id": "3a3dda20",
   "metadata": {},
   "outputs": [],
   "source": [
    "for(i in 2:23){\n",
    "    for ( j in sort(unique(mr[,i]))){\n",
    "        mr2 = cbind(mr2,mr[,i] == j)\n",
    "        colnames(mr2)[ncol(mr2)] = paste(i,\"-\",j)\n",
    "    }\n",
    "}\n"
   ]
  },
  {
   "cell_type": "code",
   "execution_count": 34,
   "id": "c91d0767",
   "metadata": {},
   "outputs": [
    {
     "data": {
      "text/html": [
       "118"
      ],
      "text/latex": [
       "118"
      ],
      "text/markdown": [
       "118"
      ],
      "text/plain": [
       "[1] 118"
      ]
     },
     "metadata": {},
     "output_type": "display_data"
    }
   ],
   "source": [
    "ncol(mr2)"
   ]
  },
  {
   "cell_type": "code",
   "execution_count": 37,
   "id": "161647f4",
   "metadata": {},
   "outputs": [
    {
     "name": "stdout",
     "output_type": "stream",
     "text": [
      "'data.frame':\t8124 obs. of  118 variables:\n",
      " $ V1     : Factor w/ 2 levels \"e\",\"p\": 2 1 1 2 1 1 1 1 2 1 ...\n",
      " $ 2 - 1  : logi  FALSE FALSE TRUE FALSE FALSE FALSE ...\n",
      " $ 2 - 2  : logi  FALSE FALSE FALSE FALSE FALSE FALSE ...\n",
      " $ 2 - 3  : logi  FALSE FALSE FALSE FALSE FALSE FALSE ...\n",
      " $ 2 - 4  : logi  FALSE FALSE FALSE FALSE FALSE FALSE ...\n",
      " $ 2 - 5  : logi  FALSE FALSE FALSE FALSE FALSE FALSE ...\n",
      " $ 2 - 6  : logi  TRUE TRUE FALSE TRUE TRUE TRUE ...\n",
      " $ 3 - 1  : logi  FALSE FALSE FALSE FALSE FALSE FALSE ...\n",
      " $ 3 - 2  : logi  FALSE FALSE FALSE FALSE FALSE FALSE ...\n",
      " $ 3 - 3  : logi  TRUE TRUE TRUE FALSE TRUE FALSE ...\n",
      " $ 3 - 4  : logi  FALSE FALSE FALSE TRUE FALSE TRUE ...\n",
      " $ 4 - 1  : logi  FALSE FALSE FALSE FALSE FALSE FALSE ...\n",
      " $ 4 - 2  : logi  FALSE FALSE FALSE FALSE FALSE FALSE ...\n",
      " $ 4 - 3  : logi  FALSE FALSE FALSE FALSE FALSE FALSE ...\n",
      " $ 4 - 4  : logi  FALSE FALSE FALSE FALSE TRUE FALSE ...\n",
      " $ 4 - 5  : logi  TRUE FALSE FALSE FALSE FALSE FALSE ...\n",
      " $ 4 - 6  : logi  FALSE FALSE FALSE FALSE FALSE FALSE ...\n",
      " $ 4 - 7  : logi  FALSE FALSE FALSE FALSE FALSE FALSE ...\n",
      " $ 4 - 8  : logi  FALSE FALSE FALSE FALSE FALSE FALSE ...\n",
      " $ 4 - 9  : logi  FALSE FALSE TRUE TRUE FALSE FALSE ...\n",
      " $ 4 - 10 : logi  FALSE TRUE FALSE FALSE FALSE TRUE ...\n",
      " $ 5 - 1  : logi  FALSE FALSE FALSE FALSE TRUE FALSE ...\n",
      " $ 5 - 2  : logi  TRUE TRUE TRUE TRUE FALSE TRUE ...\n",
      " $ 6 - 1  : logi  FALSE TRUE FALSE FALSE FALSE TRUE ...\n",
      " $ 6 - 2  : logi  FALSE FALSE FALSE FALSE FALSE FALSE ...\n",
      " $ 6 - 3  : logi  FALSE FALSE FALSE FALSE FALSE FALSE ...\n",
      " $ 6 - 4  : logi  FALSE FALSE TRUE FALSE FALSE FALSE ...\n",
      " $ 6 - 5  : logi  FALSE FALSE FALSE FALSE FALSE FALSE ...\n",
      " $ 6 - 6  : logi  FALSE FALSE FALSE FALSE TRUE FALSE ...\n",
      " $ 6 - 7  : logi  TRUE FALSE FALSE TRUE FALSE FALSE ...\n",
      " $ 6 - 8  : logi  FALSE FALSE FALSE FALSE FALSE FALSE ...\n",
      " $ 6 - 9  : logi  FALSE FALSE FALSE FALSE FALSE FALSE ...\n",
      " $ 7 - 1  : logi  FALSE FALSE FALSE FALSE FALSE FALSE ...\n",
      " $ 7 - 2  : logi  TRUE TRUE TRUE TRUE TRUE TRUE ...\n",
      " $ 8 - 1  : logi  TRUE TRUE TRUE TRUE FALSE TRUE ...\n",
      " $ 8 - 2  : logi  FALSE FALSE FALSE FALSE TRUE FALSE ...\n",
      " $ 9 - 1  : logi  FALSE TRUE TRUE FALSE TRUE TRUE ...\n",
      " $ 9 - 2  : logi  TRUE FALSE FALSE TRUE FALSE FALSE ...\n",
      " $ 10 - 1 : logi  FALSE FALSE FALSE FALSE FALSE FALSE ...\n",
      " $ 10 - 2 : logi  FALSE FALSE FALSE FALSE FALSE FALSE ...\n",
      " $ 10 - 3 : logi  FALSE FALSE FALSE FALSE FALSE FALSE ...\n",
      " $ 10 - 4 : logi  FALSE FALSE FALSE FALSE FALSE FALSE ...\n",
      " $ 10 - 5 : logi  TRUE TRUE FALSE FALSE TRUE FALSE ...\n",
      " $ 10 - 6 : logi  FALSE FALSE TRUE TRUE FALSE TRUE ...\n",
      " $ 10 - 7 : logi  FALSE FALSE FALSE FALSE FALSE FALSE ...\n",
      " $ 10 - 8 : logi  FALSE FALSE FALSE FALSE FALSE FALSE ...\n",
      " $ 10 - 9 : logi  FALSE FALSE FALSE FALSE FALSE FALSE ...\n",
      " $ 10 - 10: logi  FALSE FALSE FALSE FALSE FALSE FALSE ...\n",
      " $ 10 - 11: logi  FALSE FALSE FALSE FALSE FALSE FALSE ...\n",
      " $ 10 - 12: logi  FALSE FALSE FALSE FALSE FALSE FALSE ...\n",
      " $ 11 - 1 : logi  TRUE TRUE TRUE TRUE FALSE TRUE ...\n",
      " $ 11 - 2 : logi  FALSE FALSE FALSE FALSE TRUE FALSE ...\n",
      " $ 12 - 1 : logi  FALSE FALSE FALSE FALSE FALSE FALSE ...\n",
      " $ 12 - 2 : logi  FALSE FALSE FALSE FALSE FALSE FALSE ...\n",
      " $ 12 - 3 : logi  FALSE TRUE TRUE FALSE FALSE TRUE ...\n",
      " $ 12 - 4 : logi  TRUE FALSE FALSE TRUE TRUE FALSE ...\n",
      " $ 12 - 5 : logi  FALSE FALSE FALSE FALSE FALSE FALSE ...\n",
      " $ 13 - 1 : logi  FALSE FALSE FALSE FALSE FALSE FALSE ...\n",
      " $ 13 - 2 : logi  FALSE FALSE FALSE FALSE FALSE FALSE ...\n",
      " $ 13 - 3 : logi  TRUE TRUE TRUE TRUE TRUE TRUE ...\n",
      " $ 13 - 4 : logi  FALSE FALSE FALSE FALSE FALSE FALSE ...\n",
      " $ 14 - 1 : logi  FALSE FALSE FALSE FALSE FALSE FALSE ...\n",
      " $ 14 - 2 : logi  FALSE FALSE FALSE FALSE FALSE FALSE ...\n",
      " $ 14 - 3 : logi  TRUE TRUE TRUE TRUE TRUE TRUE ...\n",
      " $ 14 - 4 : logi  FALSE FALSE FALSE FALSE FALSE FALSE ...\n",
      " $ 15 - 1 : logi  FALSE FALSE FALSE FALSE FALSE FALSE ...\n",
      " $ 15 - 2 : logi  FALSE FALSE FALSE FALSE FALSE FALSE ...\n",
      " $ 15 - 3 : logi  FALSE FALSE FALSE FALSE FALSE FALSE ...\n",
      " $ 15 - 4 : logi  FALSE FALSE FALSE FALSE FALSE FALSE ...\n",
      " $ 15 - 5 : logi  FALSE FALSE FALSE FALSE FALSE FALSE ...\n",
      " $ 15 - 6 : logi  FALSE FALSE FALSE FALSE FALSE FALSE ...\n",
      " $ 15 - 7 : logi  FALSE FALSE FALSE FALSE FALSE FALSE ...\n",
      " $ 15 - 8 : logi  TRUE TRUE TRUE TRUE TRUE TRUE ...\n",
      " $ 15 - 9 : logi  FALSE FALSE FALSE FALSE FALSE FALSE ...\n",
      " $ 16 - 1 : logi  FALSE FALSE FALSE FALSE FALSE FALSE ...\n",
      " $ 16 - 2 : logi  FALSE FALSE FALSE FALSE FALSE FALSE ...\n",
      " $ 16 - 3 : logi  FALSE FALSE FALSE FALSE FALSE FALSE ...\n",
      " $ 16 - 4 : logi  FALSE FALSE FALSE FALSE FALSE FALSE ...\n",
      " $ 16 - 5 : logi  FALSE FALSE FALSE FALSE FALSE FALSE ...\n",
      " $ 16 - 6 : logi  FALSE FALSE FALSE FALSE FALSE FALSE ...\n",
      " $ 16 - 7 : logi  FALSE FALSE FALSE FALSE FALSE FALSE ...\n",
      " $ 16 - 8 : logi  TRUE TRUE TRUE TRUE TRUE TRUE ...\n",
      " $ 16 - 9 : logi  FALSE FALSE FALSE FALSE FALSE FALSE ...\n",
      " $ 17 - 1 : logi  TRUE TRUE TRUE TRUE TRUE TRUE ...\n",
      " $ 18 - 1 : logi  FALSE FALSE FALSE FALSE FALSE FALSE ...\n",
      " $ 18 - 2 : logi  FALSE FALSE FALSE FALSE FALSE FALSE ...\n",
      " $ 18 - 3 : logi  TRUE TRUE TRUE TRUE TRUE TRUE ...\n",
      " $ 18 - 4 : logi  FALSE FALSE FALSE FALSE FALSE FALSE ...\n",
      " $ 19 - 1 : logi  FALSE FALSE FALSE FALSE FALSE FALSE ...\n",
      " $ 19 - 2 : logi  TRUE TRUE TRUE TRUE TRUE TRUE ...\n",
      " $ 19 - 3 : logi  FALSE FALSE FALSE FALSE FALSE FALSE ...\n",
      " $ 20 - 1 : logi  FALSE FALSE FALSE FALSE TRUE FALSE ...\n",
      " $ 20 - 2 : logi  FALSE FALSE FALSE FALSE FALSE FALSE ...\n",
      " $ 20 - 3 : logi  FALSE FALSE FALSE FALSE FALSE FALSE ...\n",
      " $ 20 - 4 : logi  FALSE FALSE FALSE FALSE FALSE FALSE ...\n",
      " $ 20 - 5 : logi  TRUE TRUE TRUE TRUE FALSE TRUE ...\n",
      " $ 21 - 1 : logi  FALSE FALSE FALSE FALSE FALSE FALSE ...\n",
      " $ 21 - 2 : logi  FALSE FALSE FALSE FALSE FALSE FALSE ...\n",
      " $ 21 - 3 : logi  TRUE FALSE FALSE TRUE FALSE TRUE ...\n",
      "  [list output truncated]\n"
     ]
    }
   ],
   "source": [
    "str(mr2)"
   ]
  },
  {
   "cell_type": "code",
   "execution_count": null,
   "id": "d811a3e0",
   "metadata": {},
   "outputs": [],
   "source": []
  },
  {
   "cell_type": "code",
   "execution_count": 41,
   "id": "2a7da72d",
   "metadata": {},
   "outputs": [
    {
     "name": "stdout",
     "output_type": "stream",
     "text": [
      "'data.frame':\t8124 obs. of  19 variables:\n",
      " $ 21 - 4: logi  FALSE TRUE TRUE FALSE TRUE FALSE ...\n",
      " $ 21 - 5: logi  FALSE FALSE FALSE FALSE FALSE FALSE ...\n",
      " $ 21 - 6: logi  FALSE FALSE FALSE FALSE FALSE FALSE ...\n",
      " $ 21 - 7: logi  FALSE FALSE FALSE FALSE FALSE FALSE ...\n",
      " $ 21 - 8: logi  FALSE FALSE FALSE FALSE FALSE FALSE ...\n",
      " $ 21 - 9: logi  FALSE FALSE FALSE FALSE FALSE FALSE ...\n",
      " $ 22 - 1: logi  FALSE FALSE FALSE FALSE TRUE FALSE ...\n",
      " $ 22 - 2: logi  FALSE FALSE FALSE FALSE FALSE FALSE ...\n",
      " $ 22 - 3: logi  FALSE TRUE TRUE FALSE FALSE TRUE ...\n",
      " $ 22 - 4: logi  TRUE FALSE FALSE TRUE FALSE FALSE ...\n",
      " $ 22 - 5: logi  FALSE FALSE FALSE FALSE FALSE FALSE ...\n",
      " $ 22 - 6: logi  FALSE FALSE FALSE FALSE FALSE FALSE ...\n",
      " $ 23 - 1: logi  FALSE FALSE FALSE FALSE FALSE FALSE ...\n",
      " $ 23 - 2: logi  FALSE TRUE FALSE FALSE TRUE TRUE ...\n",
      " $ 23 - 3: logi  FALSE FALSE FALSE FALSE FALSE FALSE ...\n",
      " $ 23 - 4: logi  FALSE FALSE TRUE FALSE FALSE FALSE ...\n",
      " $ 23 - 5: logi  FALSE FALSE FALSE FALSE FALSE FALSE ...\n",
      " $ 23 - 6: logi  TRUE FALSE FALSE TRUE FALSE FALSE ...\n",
      " $ 23 - 7: logi  FALSE FALSE FALSE FALSE FALSE FALSE ...\n"
     ]
    }
   ],
   "source": [
    "# 컬럼 갯수가 많아서 structure을 다 못 보는 경우 str 는 100개만 보여줌\n",
    "# 100번 부터 끝까지 보기\n",
    "str(mr2[,100:ncol(mr2)])\n"
   ]
  },
  {
   "cell_type": "code",
   "execution_count": 43,
   "id": "f5885ecf",
   "metadata": {},
   "outputs": [],
   "source": [
    "#정렬\n",
    "library(dplyr)"
   ]
  },
  {
   "cell_type": "code",
   "execution_count": 46,
   "id": "c42b3fb6",
   "metadata": {},
   "outputs": [
    {
     "data": {
      "text/html": [
       "<table>\n",
       "<thead><tr><th scope=col>V1</th><th scope=col>2 - 1</th><th scope=col>2 - 2</th><th scope=col>2 - 3</th><th scope=col>2 - 4</th><th scope=col>2 - 5</th><th scope=col>2 - 6</th><th scope=col>3 - 1</th><th scope=col>3 - 2</th><th scope=col>3 - 3</th><th scope=col>...</th><th scope=col>22 - 4</th><th scope=col>22 - 5</th><th scope=col>22 - 6</th><th scope=col>23 - 1</th><th scope=col>23 - 2</th><th scope=col>23 - 3</th><th scope=col>23 - 4</th><th scope=col>23 - 5</th><th scope=col>23 - 6</th><th scope=col>23 - 7</th></tr></thead>\n",
       "<tbody>\n",
       "\t<tr><td>e    </td><td>FALSE</td><td>FALSE</td><td>FALSE</td><td>FALSE</td><td>FALSE</td><td> TRUE</td><td>FALSE</td><td>FALSE</td><td> TRUE</td><td>...  </td><td>FALSE</td><td>FALSE</td><td>FALSE</td><td>FALSE</td><td> TRUE</td><td>FALSE</td><td>FALSE</td><td>FALSE</td><td>FALSE</td><td>FALSE</td></tr>\n",
       "\t<tr><td>e    </td><td> TRUE</td><td>FALSE</td><td>FALSE</td><td>FALSE</td><td>FALSE</td><td>FALSE</td><td>FALSE</td><td>FALSE</td><td> TRUE</td><td>...  </td><td>FALSE</td><td>FALSE</td><td>FALSE</td><td>FALSE</td><td>FALSE</td><td>FALSE</td><td> TRUE</td><td>FALSE</td><td>FALSE</td><td>FALSE</td></tr>\n",
       "\t<tr><td>e    </td><td>FALSE</td><td>FALSE</td><td>FALSE</td><td>FALSE</td><td>FALSE</td><td> TRUE</td><td>FALSE</td><td>FALSE</td><td> TRUE</td><td>...  </td><td>FALSE</td><td>FALSE</td><td>FALSE</td><td>FALSE</td><td> TRUE</td><td>FALSE</td><td>FALSE</td><td>FALSE</td><td>FALSE</td><td>FALSE</td></tr>\n",
       "\t<tr><td>e    </td><td>FALSE</td><td>FALSE</td><td>FALSE</td><td>FALSE</td><td>FALSE</td><td> TRUE</td><td>FALSE</td><td>FALSE</td><td>FALSE</td><td>...  </td><td>FALSE</td><td>FALSE</td><td>FALSE</td><td>FALSE</td><td> TRUE</td><td>FALSE</td><td>FALSE</td><td>FALSE</td><td>FALSE</td><td>FALSE</td></tr>\n",
       "\t<tr><td>e    </td><td> TRUE</td><td>FALSE</td><td>FALSE</td><td>FALSE</td><td>FALSE</td><td>FALSE</td><td>FALSE</td><td>FALSE</td><td> TRUE</td><td>...  </td><td>FALSE</td><td>FALSE</td><td>FALSE</td><td>FALSE</td><td>FALSE</td><td>FALSE</td><td> TRUE</td><td>FALSE</td><td>FALSE</td><td>FALSE</td></tr>\n",
       "\t<tr><td>e    </td><td> TRUE</td><td>FALSE</td><td>FALSE</td><td>FALSE</td><td>FALSE</td><td>FALSE</td><td>FALSE</td><td>FALSE</td><td>FALSE</td><td>...  </td><td> TRUE</td><td>FALSE</td><td>FALSE</td><td>FALSE</td><td>FALSE</td><td>FALSE</td><td> TRUE</td><td>FALSE</td><td>FALSE</td><td>FALSE</td></tr>\n",
       "</tbody>\n",
       "</table>\n"
      ],
      "text/latex": [
       "\\begin{tabular}{r|llllllllllllllllllllllllllllllllllllllllllllllllllllllllllllllllllllllllllllllllllllllllllllllllllllllllllllllllllllll}\n",
       " V1 & 2 - 1 & 2 - 2 & 2 - 3 & 2 - 4 & 2 - 5 & 2 - 6 & 3 - 1 & 3 - 2 & 3 - 3 & ... & 22 - 4 & 22 - 5 & 22 - 6 & 23 - 1 & 23 - 2 & 23 - 3 & 23 - 4 & 23 - 5 & 23 - 6 & 23 - 7\\\\\n",
       "\\hline\n",
       "\t e     & FALSE & FALSE & FALSE & FALSE & FALSE &  TRUE & FALSE & FALSE &  TRUE & ...   & FALSE & FALSE & FALSE & FALSE &  TRUE & FALSE & FALSE & FALSE & FALSE & FALSE\\\\\n",
       "\t e     &  TRUE & FALSE & FALSE & FALSE & FALSE & FALSE & FALSE & FALSE &  TRUE & ...   & FALSE & FALSE & FALSE & FALSE & FALSE & FALSE &  TRUE & FALSE & FALSE & FALSE\\\\\n",
       "\t e     & FALSE & FALSE & FALSE & FALSE & FALSE &  TRUE & FALSE & FALSE &  TRUE & ...   & FALSE & FALSE & FALSE & FALSE &  TRUE & FALSE & FALSE & FALSE & FALSE & FALSE\\\\\n",
       "\t e     & FALSE & FALSE & FALSE & FALSE & FALSE &  TRUE & FALSE & FALSE & FALSE & ...   & FALSE & FALSE & FALSE & FALSE &  TRUE & FALSE & FALSE & FALSE & FALSE & FALSE\\\\\n",
       "\t e     &  TRUE & FALSE & FALSE & FALSE & FALSE & FALSE & FALSE & FALSE &  TRUE & ...   & FALSE & FALSE & FALSE & FALSE & FALSE & FALSE &  TRUE & FALSE & FALSE & FALSE\\\\\n",
       "\t e     &  TRUE & FALSE & FALSE & FALSE & FALSE & FALSE & FALSE & FALSE & FALSE & ...   &  TRUE & FALSE & FALSE & FALSE & FALSE & FALSE &  TRUE & FALSE & FALSE & FALSE\\\\\n",
       "\\end{tabular}\n"
      ],
      "text/markdown": [
       "\n",
       "| V1 | 2 - 1 | 2 - 2 | 2 - 3 | 2 - 4 | 2 - 5 | 2 - 6 | 3 - 1 | 3 - 2 | 3 - 3 | ... | 22 - 4 | 22 - 5 | 22 - 6 | 23 - 1 | 23 - 2 | 23 - 3 | 23 - 4 | 23 - 5 | 23 - 6 | 23 - 7 |\n",
       "|---|---|---|---|---|---|---|---|---|---|---|---|---|---|---|---|---|---|---|---|---|\n",
       "| e     | FALSE | FALSE | FALSE | FALSE | FALSE |  TRUE | FALSE | FALSE |  TRUE | ...   | FALSE | FALSE | FALSE | FALSE |  TRUE | FALSE | FALSE | FALSE | FALSE | FALSE |\n",
       "| e     |  TRUE | FALSE | FALSE | FALSE | FALSE | FALSE | FALSE | FALSE |  TRUE | ...   | FALSE | FALSE | FALSE | FALSE | FALSE | FALSE |  TRUE | FALSE | FALSE | FALSE |\n",
       "| e     | FALSE | FALSE | FALSE | FALSE | FALSE |  TRUE | FALSE | FALSE |  TRUE | ...   | FALSE | FALSE | FALSE | FALSE |  TRUE | FALSE | FALSE | FALSE | FALSE | FALSE |\n",
       "| e     | FALSE | FALSE | FALSE | FALSE | FALSE |  TRUE | FALSE | FALSE | FALSE | ...   | FALSE | FALSE | FALSE | FALSE |  TRUE | FALSE | FALSE | FALSE | FALSE | FALSE |\n",
       "| e     |  TRUE | FALSE | FALSE | FALSE | FALSE | FALSE | FALSE | FALSE |  TRUE | ...   | FALSE | FALSE | FALSE | FALSE | FALSE | FALSE |  TRUE | FALSE | FALSE | FALSE |\n",
       "| e     |  TRUE | FALSE | FALSE | FALSE | FALSE | FALSE | FALSE | FALSE | FALSE | ...   |  TRUE | FALSE | FALSE | FALSE | FALSE | FALSE |  TRUE | FALSE | FALSE | FALSE |\n",
       "\n"
      ],
      "text/plain": [
       "  V1 2 - 1 2 - 2 2 - 3 2 - 4 2 - 5 2 - 6 3 - 1 3 - 2 3 - 3 ... 22 - 4 22 - 5\n",
       "1 e  FALSE FALSE FALSE FALSE FALSE  TRUE FALSE FALSE  TRUE ... FALSE  FALSE \n",
       "2 e   TRUE FALSE FALSE FALSE FALSE FALSE FALSE FALSE  TRUE ... FALSE  FALSE \n",
       "3 e  FALSE FALSE FALSE FALSE FALSE  TRUE FALSE FALSE  TRUE ... FALSE  FALSE \n",
       "4 e  FALSE FALSE FALSE FALSE FALSE  TRUE FALSE FALSE FALSE ... FALSE  FALSE \n",
       "5 e   TRUE FALSE FALSE FALSE FALSE FALSE FALSE FALSE  TRUE ... FALSE  FALSE \n",
       "6 e   TRUE FALSE FALSE FALSE FALSE FALSE FALSE FALSE FALSE ...  TRUE  FALSE \n",
       "  22 - 6 23 - 1 23 - 2 23 - 3 23 - 4 23 - 5 23 - 6 23 - 7\n",
       "1 FALSE  FALSE   TRUE  FALSE  FALSE  FALSE  FALSE  FALSE \n",
       "2 FALSE  FALSE  FALSE  FALSE   TRUE  FALSE  FALSE  FALSE \n",
       "3 FALSE  FALSE   TRUE  FALSE  FALSE  FALSE  FALSE  FALSE \n",
       "4 FALSE  FALSE   TRUE  FALSE  FALSE  FALSE  FALSE  FALSE \n",
       "5 FALSE  FALSE  FALSE  FALSE   TRUE  FALSE  FALSE  FALSE \n",
       "6 FALSE  FALSE  FALSE  FALSE   TRUE  FALSE  FALSE  FALSE "
      ]
     },
     "metadata": {},
     "output_type": "display_data"
    }
   ],
   "source": [
    "head(arrange(mr2 , V1))"
   ]
  },
  {
   "cell_type": "code",
   "execution_count": 48,
   "id": "58fa5cee",
   "metadata": {},
   "outputs": [],
   "source": [
    "# 정렬하려고 하면 column name때문에 정렬이 안됨\n",
    "# colnames(mr2) <- paste(\"V\", 1:118, sep = \"\")\n",
    "# head(mr)"
   ]
  },
  {
   "cell_type": "markdown",
   "id": "0d19e03e",
   "metadata": {},
   "source": [
    "## column 이름과 one-hot encoding을 한번에 처리하기"
   ]
  },
  {
   "cell_type": "code",
   "execution_count": 57,
   "id": "004d73c3",
   "metadata": {},
   "outputs": [
    {
     "data": {
      "text/html": [
       "<table>\n",
       "<thead><tr><th scope=col>V1</th></tr></thead>\n",
       "<tbody>\n",
       "\t<tr><td>p</td></tr>\n",
       "\t<tr><td>e</td></tr>\n",
       "\t<tr><td>e</td></tr>\n",
       "\t<tr><td>p</td></tr>\n",
       "\t<tr><td>e</td></tr>\n",
       "\t<tr><td>e</td></tr>\n",
       "</tbody>\n",
       "</table>\n"
      ],
      "text/latex": [
       "\\begin{tabular}{r|l}\n",
       " V1\\\\\n",
       "\\hline\n",
       "\t p\\\\\n",
       "\t e\\\\\n",
       "\t e\\\\\n",
       "\t p\\\\\n",
       "\t e\\\\\n",
       "\t e\\\\\n",
       "\\end{tabular}\n"
      ],
      "text/markdown": [
       "\n",
       "| V1 |\n",
       "|---|\n",
       "| p |\n",
       "| e |\n",
       "| e |\n",
       "| p |\n",
       "| e |\n",
       "| e |\n",
       "\n"
      ],
      "text/plain": [
       "  V1\n",
       "1 p \n",
       "2 e \n",
       "3 e \n",
       "4 p \n",
       "5 e \n",
       "6 e "
      ]
     },
     "metadata": {},
     "output_type": "display_data"
    }
   ],
   "source": [
    "mr3 <- data.frame(V1 = mr$V1)\n",
    "head(mr3)"
   ]
  },
  {
   "cell_type": "code",
   "execution_count": 58,
   "id": "32bf5fc0",
   "metadata": {},
   "outputs": [
    {
     "data": {
      "text/html": [
       "<table>\n",
       "<thead><tr><th scope=col>V1</th><th scope=col>V2_1</th><th scope=col>V2_2</th><th scope=col>V2_3</th><th scope=col>V2_4</th><th scope=col>V2_5</th><th scope=col>V2_6</th><th scope=col>V3_1</th><th scope=col>V3_2</th><th scope=col>V3_3</th><th scope=col>...</th><th scope=col>V22_4</th><th scope=col>V22_5</th><th scope=col>V22_6</th><th scope=col>V23_1</th><th scope=col>V23_2</th><th scope=col>V23_3</th><th scope=col>V23_4</th><th scope=col>V23_5</th><th scope=col>V23_6</th><th scope=col>V23_7</th></tr></thead>\n",
       "<tbody>\n",
       "\t<tr><td>p    </td><td>FALSE</td><td>FALSE</td><td>FALSE</td><td>FALSE</td><td>FALSE</td><td> TRUE</td><td>FALSE</td><td>FALSE</td><td> TRUE</td><td>...  </td><td> TRUE</td><td>FALSE</td><td>FALSE</td><td>FALSE</td><td>FALSE</td><td>FALSE</td><td>FALSE</td><td>FALSE</td><td> TRUE</td><td>FALSE</td></tr>\n",
       "\t<tr><td>e    </td><td>FALSE</td><td>FALSE</td><td>FALSE</td><td>FALSE</td><td>FALSE</td><td> TRUE</td><td>FALSE</td><td>FALSE</td><td> TRUE</td><td>...  </td><td>FALSE</td><td>FALSE</td><td>FALSE</td><td>FALSE</td><td> TRUE</td><td>FALSE</td><td>FALSE</td><td>FALSE</td><td>FALSE</td><td>FALSE</td></tr>\n",
       "\t<tr><td>e    </td><td> TRUE</td><td>FALSE</td><td>FALSE</td><td>FALSE</td><td>FALSE</td><td>FALSE</td><td>FALSE</td><td>FALSE</td><td> TRUE</td><td>...  </td><td>FALSE</td><td>FALSE</td><td>FALSE</td><td>FALSE</td><td>FALSE</td><td>FALSE</td><td> TRUE</td><td>FALSE</td><td>FALSE</td><td>FALSE</td></tr>\n",
       "\t<tr><td>p    </td><td>FALSE</td><td>FALSE</td><td>FALSE</td><td>FALSE</td><td>FALSE</td><td> TRUE</td><td>FALSE</td><td>FALSE</td><td>FALSE</td><td>...  </td><td> TRUE</td><td>FALSE</td><td>FALSE</td><td>FALSE</td><td>FALSE</td><td>FALSE</td><td>FALSE</td><td>FALSE</td><td> TRUE</td><td>FALSE</td></tr>\n",
       "\t<tr><td>e    </td><td>FALSE</td><td>FALSE</td><td>FALSE</td><td>FALSE</td><td>FALSE</td><td> TRUE</td><td>FALSE</td><td>FALSE</td><td> TRUE</td><td>...  </td><td>FALSE</td><td>FALSE</td><td>FALSE</td><td>FALSE</td><td> TRUE</td><td>FALSE</td><td>FALSE</td><td>FALSE</td><td>FALSE</td><td>FALSE</td></tr>\n",
       "\t<tr><td>e    </td><td>FALSE</td><td>FALSE</td><td>FALSE</td><td>FALSE</td><td>FALSE</td><td> TRUE</td><td>FALSE</td><td>FALSE</td><td>FALSE</td><td>...  </td><td>FALSE</td><td>FALSE</td><td>FALSE</td><td>FALSE</td><td> TRUE</td><td>FALSE</td><td>FALSE</td><td>FALSE</td><td>FALSE</td><td>FALSE</td></tr>\n",
       "</tbody>\n",
       "</table>\n"
      ],
      "text/latex": [
       "\\begin{tabular}{r|llllllllllllllllllllllllllllllllllllllllllllllllllllllllllllllllllllllllllllllllllllllllllllllllllllllllllllllllllllll}\n",
       " V1 & V2\\_1 & V2\\_2 & V2\\_3 & V2\\_4 & V2\\_5 & V2\\_6 & V3\\_1 & V3\\_2 & V3\\_3 & ... & V22\\_4 & V22\\_5 & V22\\_6 & V23\\_1 & V23\\_2 & V23\\_3 & V23\\_4 & V23\\_5 & V23\\_6 & V23\\_7\\\\\n",
       "\\hline\n",
       "\t p     & FALSE & FALSE & FALSE & FALSE & FALSE &  TRUE & FALSE & FALSE &  TRUE & ...   &  TRUE & FALSE & FALSE & FALSE & FALSE & FALSE & FALSE & FALSE &  TRUE & FALSE\\\\\n",
       "\t e     & FALSE & FALSE & FALSE & FALSE & FALSE &  TRUE & FALSE & FALSE &  TRUE & ...   & FALSE & FALSE & FALSE & FALSE &  TRUE & FALSE & FALSE & FALSE & FALSE & FALSE\\\\\n",
       "\t e     &  TRUE & FALSE & FALSE & FALSE & FALSE & FALSE & FALSE & FALSE &  TRUE & ...   & FALSE & FALSE & FALSE & FALSE & FALSE & FALSE &  TRUE & FALSE & FALSE & FALSE\\\\\n",
       "\t p     & FALSE & FALSE & FALSE & FALSE & FALSE &  TRUE & FALSE & FALSE & FALSE & ...   &  TRUE & FALSE & FALSE & FALSE & FALSE & FALSE & FALSE & FALSE &  TRUE & FALSE\\\\\n",
       "\t e     & FALSE & FALSE & FALSE & FALSE & FALSE &  TRUE & FALSE & FALSE &  TRUE & ...   & FALSE & FALSE & FALSE & FALSE &  TRUE & FALSE & FALSE & FALSE & FALSE & FALSE\\\\\n",
       "\t e     & FALSE & FALSE & FALSE & FALSE & FALSE &  TRUE & FALSE & FALSE & FALSE & ...   & FALSE & FALSE & FALSE & FALSE &  TRUE & FALSE & FALSE & FALSE & FALSE & FALSE\\\\\n",
       "\\end{tabular}\n"
      ],
      "text/markdown": [
       "\n",
       "| V1 | V2_1 | V2_2 | V2_3 | V2_4 | V2_5 | V2_6 | V3_1 | V3_2 | V3_3 | ... | V22_4 | V22_5 | V22_6 | V23_1 | V23_2 | V23_3 | V23_4 | V23_5 | V23_6 | V23_7 |\n",
       "|---|---|---|---|---|---|---|---|---|---|---|---|---|---|---|---|---|---|---|---|---|\n",
       "| p     | FALSE | FALSE | FALSE | FALSE | FALSE |  TRUE | FALSE | FALSE |  TRUE | ...   |  TRUE | FALSE | FALSE | FALSE | FALSE | FALSE | FALSE | FALSE |  TRUE | FALSE |\n",
       "| e     | FALSE | FALSE | FALSE | FALSE | FALSE |  TRUE | FALSE | FALSE |  TRUE | ...   | FALSE | FALSE | FALSE | FALSE |  TRUE | FALSE | FALSE | FALSE | FALSE | FALSE |\n",
       "| e     |  TRUE | FALSE | FALSE | FALSE | FALSE | FALSE | FALSE | FALSE |  TRUE | ...   | FALSE | FALSE | FALSE | FALSE | FALSE | FALSE |  TRUE | FALSE | FALSE | FALSE |\n",
       "| p     | FALSE | FALSE | FALSE | FALSE | FALSE |  TRUE | FALSE | FALSE | FALSE | ...   |  TRUE | FALSE | FALSE | FALSE | FALSE | FALSE | FALSE | FALSE |  TRUE | FALSE |\n",
       "| e     | FALSE | FALSE | FALSE | FALSE | FALSE |  TRUE | FALSE | FALSE |  TRUE | ...   | FALSE | FALSE | FALSE | FALSE |  TRUE | FALSE | FALSE | FALSE | FALSE | FALSE |\n",
       "| e     | FALSE | FALSE | FALSE | FALSE | FALSE |  TRUE | FALSE | FALSE | FALSE | ...   | FALSE | FALSE | FALSE | FALSE |  TRUE | FALSE | FALSE | FALSE | FALSE | FALSE |\n",
       "\n"
      ],
      "text/plain": [
       "  V1 V2_1  V2_2  V2_3  V2_4  V2_5  V2_6  V3_1  V3_2  V3_3  ... V22_4 V22_5\n",
       "1 p  FALSE FALSE FALSE FALSE FALSE  TRUE FALSE FALSE  TRUE ...  TRUE FALSE\n",
       "2 e  FALSE FALSE FALSE FALSE FALSE  TRUE FALSE FALSE  TRUE ... FALSE FALSE\n",
       "3 e   TRUE FALSE FALSE FALSE FALSE FALSE FALSE FALSE  TRUE ... FALSE FALSE\n",
       "4 p  FALSE FALSE FALSE FALSE FALSE  TRUE FALSE FALSE FALSE ...  TRUE FALSE\n",
       "5 e  FALSE FALSE FALSE FALSE FALSE  TRUE FALSE FALSE  TRUE ... FALSE FALSE\n",
       "6 e  FALSE FALSE FALSE FALSE FALSE  TRUE FALSE FALSE FALSE ... FALSE FALSE\n",
       "  V22_6 V23_1 V23_2 V23_3 V23_4 V23_5 V23_6 V23_7\n",
       "1 FALSE FALSE FALSE FALSE FALSE FALSE  TRUE FALSE\n",
       "2 FALSE FALSE  TRUE FALSE FALSE FALSE FALSE FALSE\n",
       "3 FALSE FALSE FALSE FALSE  TRUE FALSE FALSE FALSE\n",
       "4 FALSE FALSE FALSE FALSE FALSE FALSE  TRUE FALSE\n",
       "5 FALSE FALSE  TRUE FALSE FALSE FALSE FALSE FALSE\n",
       "6 FALSE FALSE  TRUE FALSE FALSE FALSE FALSE FALSE"
      ]
     },
     "metadata": {},
     "output_type": "display_data"
    }
   ],
   "source": [
    "count = 2 #\n",
    "\n",
    "for (i in 2:23){\n",
    "    for ( j in sort(unique(mr[,i]))){\n",
    "        mr3 = cbind(mr3,mr[,i] == j)\n",
    "        colnames(mr3)[count] <- paste(\"V\",i,\"_\",j ,sep = \"\")\n",
    "        count = count + 1\n",
    "    }\n",
    "}\n",
    "head(mr3)"
   ]
  },
  {
   "cell_type": "code",
   "execution_count": 60,
   "id": "13e4410d",
   "metadata": {},
   "outputs": [],
   "source": [
    "mr3 <- arrange(mr3 , V1)"
   ]
  },
  {
   "cell_type": "code",
   "execution_count": null,
   "id": "26445ac1",
   "metadata": {},
   "outputs": [],
   "source": []
  },
  {
   "cell_type": "code",
   "execution_count": 61,
   "id": "6faa0f4f",
   "metadata": {},
   "outputs": [
    {
     "data": {
      "text/plain": [
       "\n",
       "   e    p \n",
       "4208 3916 "
      ]
     },
     "metadata": {},
     "output_type": "display_data"
    }
   ],
   "source": [
    "table(mr3$V1)"
   ]
  },
  {
   "cell_type": "code",
   "execution_count": 63,
   "id": "1fc7b51c",
   "metadata": {},
   "outputs": [],
   "source": [
    "library(caret) #sample\n",
    "library(nnet) #인공신경망 , 다항 로지스틱 회귀분석\n",
    "library(e1071) # svm\n",
    "library(randomForest) # randomForest\n",
    "library(party) # 의사결정나무 ctree\n",
    "library(ggplot2)"
   ]
  },
  {
   "cell_type": "code",
   "execution_count": 66,
   "id": "ccc7c245",
   "metadata": {},
   "outputs": [],
   "source": [
    "set.seed(1234)\n",
    "# Sampling\n",
    "samp <- createDataPartition(mr3$V1 , p = 0.7 ,list = F)\n",
    "#학습용\n",
    "data.train <- mr3[samp,]\n",
    "#검증용\n",
    "data.test <- mr3[-samp,]\n",
    "\n",
    "#테스트셋\n",
    "x <- subset(data.test , select = -V1)\n",
    "y <- data.test$V1\n"
   ]
  },
  {
   "cell_type": "code",
   "execution_count": 71,
   "id": "3af5eba9",
   "metadata": {},
   "outputs": [],
   "source": [
    "#인공신경망 테스트\n",
    "ANN <- function(data.tr , data.test , x , y ){\n",
    "    model.nnet <- nnet(V1 ~. , data = data.tr , size = 3)\n",
    "    pred <- predict(model.nnet , x , type = \"class\")\n",
    "    cat(\"예측력\" ,mean(pred == y), \"입니다.\")\n",
    "    print(table(pred,y))\n",
    "    return(mean(pred == y))\n",
    "}\n",
    "\n",
    "#의사결정 나무 \n",
    "CTREE <-function(data.tr , data.test , x , y ){\n",
    "    model.ctree <- ctree(V1 ~ . , data=data.tr)\n",
    "    pred <- predict(model.ctree , x )\n",
    "    cat(\"예측력\" ,mean(pred == y), \"입니다.\")\n",
    "    print(table(pred,y))\n",
    "    return(mean(pred == y))\n",
    "}\n",
    "\n",
    "#RandomForesst\n",
    "RandomForest<-function(data.tr , data.test , x , y ){\n",
    "    model.rf <- randomForest(V1 ~ . , data=data.tr, ntree = 100)\n",
    "    pred <- predict(model.rf , x )\n",
    "    cat(\"예측력\" ,mean(pred == y), \"입니다.\")\n",
    "    print(table(pred,y))\n",
    "    return(mean(pred == y))\n",
    "} \n",
    "\n",
    "#SVM\n",
    "SVM <-function(data.tr , data.test , x , y ){\n",
    "    model.svm <- svm(V1 ~ . , data=data.tr)\n",
    "    pred <- predict(model.svm , x )\n",
    "    cat(\"예측력\" ,mean(pred == y), \"입니다.\")\n",
    "    print(table(pred,y))\n",
    "    return(mean(pred == y))\n",
    "} \n",
    "\n",
    "#Logistic regression\n",
    "Logisticreg <-function(data.tr , data.test , x , y ){\n",
    "    model.log <- multinom(V1 ~ . , data=data.tr)\n",
    "    pred <- predict(model.log , x )\n",
    "    cat(\"예측력\" ,mean(pred == y), \"입니다.\")\n",
    "    print(table(pred,y))\n",
    "    return(mean(pred == y))\n",
    "} \n"
   ]
  },
  {
   "cell_type": "code",
   "execution_count": 72,
   "id": "e80c3a34",
   "metadata": {},
   "outputs": [
    {
     "name": "stdout",
     "output_type": "stream",
     "text": [
      "# weights:  358\n",
      "initial  value 4098.532622 \n",
      "iter  10 value 671.791448\n",
      "iter  20 value 271.268463\n",
      "iter  30 value 195.894194\n",
      "iter  40 value 146.792087\n",
      "iter  50 value 61.782881\n",
      "iter  60 value 39.660400\n",
      "iter  70 value 0.058319\n",
      "iter  80 value 0.011015\n",
      "iter  90 value 0.003371\n",
      "iter 100 value 0.002153\n",
      "final  value 0.002153 \n",
      "stopped after 100 iterations\n",
      "예측력 1 입니다.    y\n",
      "pred    e    p\n",
      "   e 1262    0\n",
      "   p    0 1174\n",
      "예측력 0.999179 입니다.    y\n",
      "pred    e    p\n",
      "   e 1262    2\n",
      "   p    0 1172\n",
      "예측력 1 입니다.    y\n",
      "pred    e    p\n",
      "   e 1262    0\n",
      "   p    0 1174\n",
      "예측력 0.9975369 입니다.    y\n",
      "pred    e    p\n",
      "   e 1262    6\n",
      "   p    0 1168\n",
      "# weights:  119 (118 variable)\n",
      "initial  value 3942.621163 \n",
      "iter  10 value 119.564501\n",
      "iter  20 value 6.258442\n",
      "iter  30 value 0.648195\n",
      "iter  40 value 0.353389\n",
      "iter  50 value 0.188963\n",
      "iter  60 value 0.123492\n",
      "iter  70 value 0.072709\n",
      "iter  80 value 0.042991\n",
      "iter  90 value 0.028542\n",
      "iter 100 value 0.006974\n",
      "final  value 0.006974 \n",
      "stopped after 100 iterations\n",
      "예측력 1 입니다.    y\n",
      "pred    e    p\n",
      "   e 1262    0\n",
      "   p    0 1174\n",
      "# weights:  358\n",
      "initial  value 4083.299565 \n",
      "iter  10 value 152.073243\n",
      "iter  20 value 7.237902\n",
      "iter  30 value 3.682083\n",
      "iter  40 value 0.036491\n",
      "final  value 0.000065 \n",
      "converged\n",
      "예측력 1 입니다.    y\n",
      "pred    e    p\n",
      "   e 1262    0\n",
      "   p    0 1174\n",
      "예측력 0.999179 입니다.    y\n",
      "pred    e    p\n",
      "   e 1262    2\n",
      "   p    0 1172\n",
      "예측력 1 입니다.    y\n",
      "pred    e    p\n",
      "   e 1262    0\n",
      "   p    0 1174\n",
      "예측력 0.9975369 입니다.    y\n",
      "pred    e    p\n",
      "   e 1262    6\n",
      "   p    0 1168\n",
      "# weights:  119 (118 variable)\n",
      "initial  value 3942.621163 \n",
      "iter  10 value 119.564501\n",
      "iter  20 value 6.258442\n",
      "iter  30 value 0.648195\n",
      "iter  40 value 0.353389\n",
      "iter  50 value 0.188963\n",
      "iter  60 value 0.123492\n",
      "iter  70 value 0.072709\n",
      "iter  80 value 0.042991\n",
      "iter  90 value 0.028542\n",
      "iter 100 value 0.006974\n",
      "final  value 0.006974 \n",
      "stopped after 100 iterations\n",
      "예측력 1 입니다.    y\n",
      "pred    e    p\n",
      "   e 1262    0\n",
      "   p    0 1174\n",
      "# weights:  358\n",
      "initial  value 4349.500353 \n",
      "iter  10 value 269.825634\n",
      "iter  20 value 55.677129\n",
      "iter  30 value 43.492763\n",
      "iter  40 value 43.253243\n",
      "iter  50 value 43.192224\n",
      "iter  60 value 43.185342\n",
      "iter  70 value 43.185047\n",
      "iter  80 value 43.184986\n",
      "final  value 43.184959 \n",
      "converged\n",
      "예측력 0.999179 입니다.    y\n",
      "pred    e    p\n",
      "   e 1262    2\n",
      "   p    0 1172\n",
      "예측력 0.999179 입니다.    y\n",
      "pred    e    p\n",
      "   e 1262    2\n",
      "   p    0 1172\n",
      "예측력 1 입니다.    y\n",
      "pred    e    p\n",
      "   e 1262    0\n",
      "   p    0 1174\n",
      "예측력 0.9975369 입니다.    y\n",
      "pred    e    p\n",
      "   e 1262    6\n",
      "   p    0 1168\n",
      "# weights:  119 (118 variable)\n",
      "initial  value 3942.621163 \n",
      "iter  10 value 119.564501\n",
      "iter  20 value 6.258442\n",
      "iter  30 value 0.648195\n",
      "iter  40 value 0.353389\n",
      "iter  50 value 0.188963\n",
      "iter  60 value 0.123492\n",
      "iter  70 value 0.072709\n",
      "iter  80 value 0.042991\n",
      "iter  90 value 0.028542\n",
      "iter 100 value 0.006974\n",
      "final  value 0.006974 \n",
      "stopped after 100 iterations\n",
      "예측력 1 입니다.    y\n",
      "pred    e    p\n",
      "   e 1262    0\n",
      "   p    0 1174\n",
      "# weights:  358\n",
      "initial  value 4065.449097 \n",
      "iter  10 value 1312.637313\n",
      "iter  20 value 409.939394\n",
      "iter  30 value 256.616060\n",
      "iter  40 value 237.336549\n",
      "iter  50 value 169.134857\n",
      "iter  60 value 167.953723\n",
      "iter  70 value 167.930617\n",
      "iter  80 value 165.139070\n",
      "iter  90 value 4.289505\n",
      "iter 100 value 0.059783\n",
      "final  value 0.059783 \n",
      "stopped after 100 iterations\n",
      "예측력 1 입니다.    y\n",
      "pred    e    p\n",
      "   e 1262    0\n",
      "   p    0 1174\n",
      "예측력 0.999179 입니다.    y\n",
      "pred    e    p\n",
      "   e 1262    2\n",
      "   p    0 1172\n",
      "예측력 1 입니다.    y\n",
      "pred    e    p\n",
      "   e 1262    0\n",
      "   p    0 1174\n",
      "예측력 0.9975369 입니다.    y\n",
      "pred    e    p\n",
      "   e 1262    6\n",
      "   p    0 1168\n",
      "# weights:  119 (118 variable)\n",
      "initial  value 3942.621163 \n",
      "iter  10 value 119.564501\n",
      "iter  20 value 6.258442\n",
      "iter  30 value 0.648195\n",
      "iter  40 value 0.353389\n",
      "iter  50 value 0.188963\n",
      "iter  60 value 0.123492\n",
      "iter  70 value 0.072709\n",
      "iter  80 value 0.042991\n",
      "iter  90 value 0.028542\n",
      "iter 100 value 0.006974\n",
      "final  value 0.006974 \n",
      "stopped after 100 iterations\n",
      "예측력 1 입니다.    y\n",
      "pred    e    p\n",
      "   e 1262    0\n",
      "   p    0 1174\n",
      "# weights:  358\n",
      "initial  value 4119.247819 \n",
      "iter  10 value 452.272381\n",
      "iter  20 value 214.977045\n",
      "iter  30 value 36.426041\n",
      "iter  40 value 2.200967\n",
      "iter  50 value 0.022061\n",
      "iter  60 value 0.000146\n",
      "final  value 0.000083 \n",
      "converged\n",
      "예측력 1 입니다.    y\n",
      "pred    e    p\n",
      "   e 1262    0\n",
      "   p    0 1174\n",
      "예측력 0.999179 입니다.    y\n",
      "pred    e    p\n",
      "   e 1262    2\n",
      "   p    0 1172\n",
      "예측력 1 입니다.    y\n",
      "pred    e    p\n",
      "   e 1262    0\n",
      "   p    0 1174\n",
      "예측력 0.9975369 입니다.    y\n",
      "pred    e    p\n",
      "   e 1262    6\n",
      "   p    0 1168\n",
      "# weights:  119 (118 variable)\n",
      "initial  value 3942.621163 \n",
      "iter  10 value 119.564501\n",
      "iter  20 value 6.258442\n",
      "iter  30 value 0.648195\n",
      "iter  40 value 0.353389\n",
      "iter  50 value 0.188963\n",
      "iter  60 value 0.123492\n",
      "iter  70 value 0.072709\n",
      "iter  80 value 0.042991\n",
      "iter  90 value 0.028542\n",
      "iter 100 value 0.006974\n",
      "final  value 0.006974 \n",
      "stopped after 100 iterations\n",
      "예측력 1 입니다.    y\n",
      "pred    e    p\n",
      "   e 1262    0\n",
      "   p    0 1174\n"
     ]
    },
    {
     "data": {
      "text/html": [
       "<table>\n",
       "<thead><tr><th></th><th scope=col>예측력</th></tr></thead>\n",
       "<tbody>\n",
       "\t<tr><th scope=row>인공신경망</th><td>0.9998358</td></tr>\n",
       "\t<tr><th scope=row>의사결정나무</th><td>0.9991790</td></tr>\n",
       "\t<tr><th scope=row>RandomForest</th><td>1.0000000</td></tr>\n",
       "\t<tr><th scope=row>SVM</th><td>0.9975369</td></tr>\n",
       "\t<tr><th scope=row>로지스틱회귀분석</th><td>1.0000000</td></tr>\n",
       "</tbody>\n",
       "</table>\n"
      ],
      "text/latex": [
       "\\begin{tabular}{r|l}\n",
       "  & 예측력\\\\\n",
       "\\hline\n",
       "\t인공신경망 & 0.9998358\\\\\n",
       "\t의사결정나무 & 0.9991790\\\\\n",
       "\tRandomForest & 1.0000000\\\\\n",
       "\tSVM & 0.9975369\\\\\n",
       "\t로지스틱회귀분석 & 1.0000000\\\\\n",
       "\\end{tabular}\n"
      ],
      "text/markdown": [
       "\n",
       "| <!--/--> | 예측력 |\n",
       "|---|---|\n",
       "| 인공신경망 | 0.9998358 |\n",
       "| 의사결정나무 | 0.9991790 |\n",
       "| RandomForest | 1.0000000 |\n",
       "| SVM | 0.9975369 |\n",
       "| 로지스틱회귀분석 | 1.0000000 |\n",
       "\n"
      ],
      "text/plain": [
       "                 예측력   \n",
       "인공신경망       0.9998358\n",
       "의사결정나무     0.9991790\n",
       "RandomForest     1.0000000\n",
       "SVM              0.9975369\n",
       "로지스틱회귀분석 1.0000000"
      ]
     },
     "metadata": {},
     "output_type": "display_data"
    }
   ],
   "source": [
    "a <- rep(0,5)\n",
    "iteration <- 5\n",
    "for(i in 1:iteration){\n",
    "    a = a + c(\n",
    "            ANN(data.train , data.test , x , y ),\n",
    "            CTREE(data.train , data.test , x , y ),\n",
    "            RandomForest(data.train , data.test , x , y ),\n",
    "            SVM(data.train , data.test , x , y ),\n",
    "            Logisticreg(data.train , data.test , x , y )\n",
    "    )\n",
    "}\n",
    "a<- a/iteration\n",
    "result<-data.frame(예측력 = a)\n",
    "rownames(result) = c(\"인공신경망\",\"의사결정나무\",\"RandomForest\",\"SVM\",\"로지스틱회귀분석\")\n",
    "result"
   ]
  },
  {
   "cell_type": "code",
   "execution_count": 86,
   "id": "10b22cd0",
   "metadata": {},
   "outputs": [
    {
     "data": {
      "text/html": [
       "<table>\n",
       "<thead><tr><th scope=col>a</th></tr></thead>\n",
       "<tbody>\n",
       "\t<tr><td>2</td></tr>\n",
       "\t<tr><td>3</td></tr>\n",
       "</tbody>\n",
       "</table>\n"
      ],
      "text/latex": [
       "\\begin{tabular}{r|l}\n",
       " a\\\\\n",
       "\\hline\n",
       "\t 2\\\\\n",
       "\t 3\\\\\n",
       "\\end{tabular}\n"
      ],
      "text/markdown": [
       "\n",
       "| a |\n",
       "|---|\n",
       "| 2 |\n",
       "| 3 |\n",
       "\n"
      ],
      "text/plain": [
       "  a\n",
       "1 2\n",
       "2 3"
      ]
     },
     "metadata": {},
     "output_type": "display_data"
    }
   ],
   "source": [
    "funx <- function(x){\n",
    "    y = data.frame(a= c(x+1,x+2))\n",
    "    return(y)\n",
    "}\n",
    "\n",
    "funx(1)"
   ]
  },
  {
   "cell_type": "code",
   "execution_count": null,
   "id": "ad7db5ac",
   "metadata": {},
   "outputs": [],
   "source": []
  },
  {
   "cell_type": "code",
   "execution_count": null,
   "id": "6ef729e7",
   "metadata": {},
   "outputs": [],
   "source": []
  },
  {
   "cell_type": "code",
   "execution_count": null,
   "id": "be70f088",
   "metadata": {},
   "outputs": [],
   "source": []
  },
  {
   "cell_type": "code",
   "execution_count": null,
   "id": "f707f000",
   "metadata": {},
   "outputs": [],
   "source": []
  },
  {
   "cell_type": "code",
   "execution_count": null,
   "id": "931825bf",
   "metadata": {},
   "outputs": [],
   "source": []
  }
 ],
 "metadata": {
  "kernelspec": {
   "display_name": "R",
   "language": "R",
   "name": "ir"
  },
  "language_info": {
   "codemirror_mode": "r",
   "file_extension": ".r",
   "mimetype": "text/x-r-source",
   "name": "R",
   "pygments_lexer": "r",
   "version": "3.6.1"
  }
 },
 "nbformat": 4,
 "nbformat_minor": 5
}
