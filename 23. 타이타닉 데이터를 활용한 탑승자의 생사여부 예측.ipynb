{
 "cells": [
  {
   "cell_type": "code",
   "execution_count": 1,
   "id": "8c8d0ed2",
   "metadata": {},
   "outputs": [
    {
     "data": {
      "text/html": [
       "<table>\n",
       "<thead><tr><th scope=col>癤풮assengerId</th><th scope=col>Survived</th><th scope=col>Pclass</th><th scope=col>Name</th><th scope=col>Sex</th><th scope=col>Age</th><th scope=col>SibSp</th><th scope=col>Parch</th><th scope=col>Ticket</th><th scope=col>Fare</th><th scope=col>Cabin</th><th scope=col>Embarked</th></tr></thead>\n",
       "<tbody>\n",
       "\t<tr><td>1                                                  </td><td>0                                                  </td><td>3                                                  </td><td>Braund, Mr. Owen Harris                            </td><td>male                                               </td><td>22                                                 </td><td>1                                                  </td><td>0                                                  </td><td>A/5 21171                                          </td><td> 7.2500                                            </td><td>                                                   </td><td>S                                                  </td></tr>\n",
       "\t<tr><td>2                                                  </td><td>1                                                  </td><td>1                                                  </td><td>Cumings, Mrs. John Bradley (Florence Briggs Thayer)</td><td>female                                             </td><td>38                                                 </td><td>1                                                  </td><td>0                                                  </td><td>PC 17599                                           </td><td>71.2833                                            </td><td>C85                                                </td><td>C                                                  </td></tr>\n",
       "\t<tr><td>3                                                  </td><td>1                                                  </td><td>3                                                  </td><td>Heikkinen, Miss. Laina                             </td><td>female                                             </td><td>26                                                 </td><td>0                                                  </td><td>0                                                  </td><td>STON/O2. 3101282                                   </td><td> 7.9250                                            </td><td>                                                   </td><td>S                                                  </td></tr>\n",
       "\t<tr><td>4                                                  </td><td>1                                                  </td><td>1                                                  </td><td>Futrelle, Mrs. Jacques Heath (Lily May Peel)       </td><td>female                                             </td><td>35                                                 </td><td>1                                                  </td><td>0                                                  </td><td>113803                                             </td><td>53.1000                                            </td><td>C123                                               </td><td>S                                                  </td></tr>\n",
       "\t<tr><td>5                                                  </td><td>0                                                  </td><td>3                                                  </td><td>Allen, Mr. William Henry                           </td><td>male                                               </td><td>35                                                 </td><td>0                                                  </td><td>0                                                  </td><td>373450                                             </td><td> 8.0500                                            </td><td>                                                   </td><td>S                                                  </td></tr>\n",
       "\t<tr><td>6                                                  </td><td>0                                                  </td><td>3                                                  </td><td>Moran, Mr. James                                   </td><td>male                                               </td><td>NA                                                 </td><td>0                                                  </td><td>0                                                  </td><td>330877                                             </td><td> 8.4583                                            </td><td>                                                   </td><td>Q                                                  </td></tr>\n",
       "</tbody>\n",
       "</table>\n"
      ],
      "text/latex": [
       "\\begin{tabular}{r|llllllllllll}\n",
       " 癤풮assengerId & Survived & Pclass & Name & Sex & Age & SibSp & Parch & Ticket & Fare & Cabin & Embarked\\\\\n",
       "\\hline\n",
       "\t 1                                                   & 0                                                   & 3                                                   & Braund, Mr. Owen Harris                             & male                                                & 22                                                  & 1                                                   & 0                                                   & A/5 21171                                           &  7.2500                                             &                                                     & S                                                  \\\\\n",
       "\t 2                                                   & 1                                                   & 1                                                   & Cumings, Mrs. John Bradley (Florence Briggs Thayer) & female                                              & 38                                                  & 1                                                   & 0                                                   & PC 17599                                            & 71.2833                                             & C85                                                 & C                                                  \\\\\n",
       "\t 3                                                   & 1                                                   & 3                                                   & Heikkinen, Miss. Laina                              & female                                              & 26                                                  & 0                                                   & 0                                                   & STON/O2. 3101282                                    &  7.9250                                             &                                                     & S                                                  \\\\\n",
       "\t 4                                                   & 1                                                   & 1                                                   & Futrelle, Mrs. Jacques Heath (Lily May Peel)        & female                                              & 35                                                  & 1                                                   & 0                                                   & 113803                                              & 53.1000                                             & C123                                                & S                                                  \\\\\n",
       "\t 5                                                   & 0                                                   & 3                                                   & Allen, Mr. William Henry                            & male                                                & 35                                                  & 0                                                   & 0                                                   & 373450                                              &  8.0500                                             &                                                     & S                                                  \\\\\n",
       "\t 6                                                   & 0                                                   & 3                                                   & Moran, Mr. James                                    & male                                                & NA                                                  & 0                                                   & 0                                                   & 330877                                              &  8.4583                                             &                                                     & Q                                                  \\\\\n",
       "\\end{tabular}\n"
      ],
      "text/markdown": [
       "\n",
       "| 癤풮assengerId | Survived | Pclass | Name | Sex | Age | SibSp | Parch | Ticket | Fare | Cabin | Embarked |\n",
       "|---|---|---|---|---|---|---|---|---|---|---|---|\n",
       "| 1                                                   | 0                                                   | 3                                                   | Braund, Mr. Owen Harris                             | male                                                | 22                                                  | 1                                                   | 0                                                   | A/5 21171                                           |  7.2500                                             |                                                     | S                                                   |\n",
       "| 2                                                   | 1                                                   | 1                                                   | Cumings, Mrs. John Bradley (Florence Briggs Thayer) | female                                              | 38                                                  | 1                                                   | 0                                                   | PC 17599                                            | 71.2833                                             | C85                                                 | C                                                   |\n",
       "| 3                                                   | 1                                                   | 3                                                   | Heikkinen, Miss. Laina                              | female                                              | 26                                                  | 0                                                   | 0                                                   | STON/O2. 3101282                                    |  7.9250                                             |                                                     | S                                                   |\n",
       "| 4                                                   | 1                                                   | 1                                                   | Futrelle, Mrs. Jacques Heath (Lily May Peel)        | female                                              | 35                                                  | 1                                                   | 0                                                   | 113803                                              | 53.1000                                             | C123                                                | S                                                   |\n",
       "| 5                                                   | 0                                                   | 3                                                   | Allen, Mr. William Henry                            | male                                                | 35                                                  | 0                                                   | 0                                                   | 373450                                              |  8.0500                                             |                                                     | S                                                   |\n",
       "| 6                                                   | 0                                                   | 3                                                   | Moran, Mr. James                                    | male                                                | NA                                                  | 0                                                   | 0                                                   | 330877                                              |  8.4583                                             |                                                     | Q                                                   |\n",
       "\n"
      ],
      "text/plain": [
       "  癤풮assengerId Survived Pclass\n",
       "1 1              0        3     \n",
       "2 2              1        1     \n",
       "3 3              1        3     \n",
       "4 4              1        1     \n",
       "5 5              0        3     \n",
       "6 6              0        3     \n",
       "  Name                                                Sex    Age SibSp Parch\n",
       "1 Braund, Mr. Owen Harris                             male   22  1     0    \n",
       "2 Cumings, Mrs. John Bradley (Florence Briggs Thayer) female 38  1     0    \n",
       "3 Heikkinen, Miss. Laina                              female 26  0     0    \n",
       "4 Futrelle, Mrs. Jacques Heath (Lily May Peel)        female 35  1     0    \n",
       "5 Allen, Mr. William Henry                            male   35  0     0    \n",
       "6 Moran, Mr. James                                    male   NA  0     0    \n",
       "  Ticket           Fare    Cabin Embarked\n",
       "1 A/5 21171         7.2500       S       \n",
       "2 PC 17599         71.2833 C85   C       \n",
       "3 STON/O2. 3101282  7.9250       S       \n",
       "4 113803           53.1000 C123  S       \n",
       "5 373450            8.0500       S       \n",
       "6 330877            8.4583       Q       "
      ]
     },
     "metadata": {},
     "output_type": "display_data"
    }
   ],
   "source": [
    "train_df <- read.csv(\"Data/Titanic_train.csv\")\n",
    "head(train_df)"
   ]
  },
  {
   "cell_type": "code",
   "execution_count": 2,
   "id": "197e8bb1",
   "metadata": {},
   "outputs": [],
   "source": [
    "names(train_df)[1] <- \"assengerId\""
   ]
  },
  {
   "cell_type": "code",
   "execution_count": 3,
   "id": "dc21529f",
   "metadata": {},
   "outputs": [
    {
     "data": {
      "text/html": [
       "<table>\n",
       "<thead><tr><th scope=col>assengerId</th><th scope=col>Survived</th><th scope=col>Pclass</th><th scope=col>Name</th><th scope=col>Sex</th><th scope=col>Age</th><th scope=col>SibSp</th><th scope=col>Parch</th><th scope=col>Ticket</th><th scope=col>Fare</th><th scope=col>Cabin</th><th scope=col>Embarked</th></tr></thead>\n",
       "<tbody>\n",
       "\t<tr><td>1                                                  </td><td>0                                                  </td><td>3                                                  </td><td>Braund, Mr. Owen Harris                            </td><td>male                                               </td><td>22                                                 </td><td>1                                                  </td><td>0                                                  </td><td>A/5 21171                                          </td><td> 7.2500                                            </td><td>                                                   </td><td>S                                                  </td></tr>\n",
       "\t<tr><td>2                                                  </td><td>1                                                  </td><td>1                                                  </td><td>Cumings, Mrs. John Bradley (Florence Briggs Thayer)</td><td>female                                             </td><td>38                                                 </td><td>1                                                  </td><td>0                                                  </td><td>PC 17599                                           </td><td>71.2833                                            </td><td>C85                                                </td><td>C                                                  </td></tr>\n",
       "\t<tr><td>3                                                  </td><td>1                                                  </td><td>3                                                  </td><td>Heikkinen, Miss. Laina                             </td><td>female                                             </td><td>26                                                 </td><td>0                                                  </td><td>0                                                  </td><td>STON/O2. 3101282                                   </td><td> 7.9250                                            </td><td>                                                   </td><td>S                                                  </td></tr>\n",
       "\t<tr><td>4                                                  </td><td>1                                                  </td><td>1                                                  </td><td>Futrelle, Mrs. Jacques Heath (Lily May Peel)       </td><td>female                                             </td><td>35                                                 </td><td>1                                                  </td><td>0                                                  </td><td>113803                                             </td><td>53.1000                                            </td><td>C123                                               </td><td>S                                                  </td></tr>\n",
       "\t<tr><td>5                                                  </td><td>0                                                  </td><td>3                                                  </td><td>Allen, Mr. William Henry                           </td><td>male                                               </td><td>35                                                 </td><td>0                                                  </td><td>0                                                  </td><td>373450                                             </td><td> 8.0500                                            </td><td>                                                   </td><td>S                                                  </td></tr>\n",
       "\t<tr><td>6                                                  </td><td>0                                                  </td><td>3                                                  </td><td>Moran, Mr. James                                   </td><td>male                                               </td><td>NA                                                 </td><td>0                                                  </td><td>0                                                  </td><td>330877                                             </td><td> 8.4583                                            </td><td>                                                   </td><td>Q                                                  </td></tr>\n",
       "</tbody>\n",
       "</table>\n"
      ],
      "text/latex": [
       "\\begin{tabular}{r|llllllllllll}\n",
       " assengerId & Survived & Pclass & Name & Sex & Age & SibSp & Parch & Ticket & Fare & Cabin & Embarked\\\\\n",
       "\\hline\n",
       "\t 1                                                   & 0                                                   & 3                                                   & Braund, Mr. Owen Harris                             & male                                                & 22                                                  & 1                                                   & 0                                                   & A/5 21171                                           &  7.2500                                             &                                                     & S                                                  \\\\\n",
       "\t 2                                                   & 1                                                   & 1                                                   & Cumings, Mrs. John Bradley (Florence Briggs Thayer) & female                                              & 38                                                  & 1                                                   & 0                                                   & PC 17599                                            & 71.2833                                             & C85                                                 & C                                                  \\\\\n",
       "\t 3                                                   & 1                                                   & 3                                                   & Heikkinen, Miss. Laina                              & female                                              & 26                                                  & 0                                                   & 0                                                   & STON/O2. 3101282                                    &  7.9250                                             &                                                     & S                                                  \\\\\n",
       "\t 4                                                   & 1                                                   & 1                                                   & Futrelle, Mrs. Jacques Heath (Lily May Peel)        & female                                              & 35                                                  & 1                                                   & 0                                                   & 113803                                              & 53.1000                                             & C123                                                & S                                                  \\\\\n",
       "\t 5                                                   & 0                                                   & 3                                                   & Allen, Mr. William Henry                            & male                                                & 35                                                  & 0                                                   & 0                                                   & 373450                                              &  8.0500                                             &                                                     & S                                                  \\\\\n",
       "\t 6                                                   & 0                                                   & 3                                                   & Moran, Mr. James                                    & male                                                & NA                                                  & 0                                                   & 0                                                   & 330877                                              &  8.4583                                             &                                                     & Q                                                  \\\\\n",
       "\\end{tabular}\n"
      ],
      "text/markdown": [
       "\n",
       "| assengerId | Survived | Pclass | Name | Sex | Age | SibSp | Parch | Ticket | Fare | Cabin | Embarked |\n",
       "|---|---|---|---|---|---|---|---|---|---|---|---|\n",
       "| 1                                                   | 0                                                   | 3                                                   | Braund, Mr. Owen Harris                             | male                                                | 22                                                  | 1                                                   | 0                                                   | A/5 21171                                           |  7.2500                                             |                                                     | S                                                   |\n",
       "| 2                                                   | 1                                                   | 1                                                   | Cumings, Mrs. John Bradley (Florence Briggs Thayer) | female                                              | 38                                                  | 1                                                   | 0                                                   | PC 17599                                            | 71.2833                                             | C85                                                 | C                                                   |\n",
       "| 3                                                   | 1                                                   | 3                                                   | Heikkinen, Miss. Laina                              | female                                              | 26                                                  | 0                                                   | 0                                                   | STON/O2. 3101282                                    |  7.9250                                             |                                                     | S                                                   |\n",
       "| 4                                                   | 1                                                   | 1                                                   | Futrelle, Mrs. Jacques Heath (Lily May Peel)        | female                                              | 35                                                  | 1                                                   | 0                                                   | 113803                                              | 53.1000                                             | C123                                                | S                                                   |\n",
       "| 5                                                   | 0                                                   | 3                                                   | Allen, Mr. William Henry                            | male                                                | 35                                                  | 0                                                   | 0                                                   | 373450                                              |  8.0500                                             |                                                     | S                                                   |\n",
       "| 6                                                   | 0                                                   | 3                                                   | Moran, Mr. James                                    | male                                                | NA                                                  | 0                                                   | 0                                                   | 330877                                              |  8.4583                                             |                                                     | Q                                                   |\n",
       "\n"
      ],
      "text/plain": [
       "  assengerId Survived Pclass\n",
       "1 1          0        3     \n",
       "2 2          1        1     \n",
       "3 3          1        3     \n",
       "4 4          1        1     \n",
       "5 5          0        3     \n",
       "6 6          0        3     \n",
       "  Name                                                Sex    Age SibSp Parch\n",
       "1 Braund, Mr. Owen Harris                             male   22  1     0    \n",
       "2 Cumings, Mrs. John Bradley (Florence Briggs Thayer) female 38  1     0    \n",
       "3 Heikkinen, Miss. Laina                              female 26  0     0    \n",
       "4 Futrelle, Mrs. Jacques Heath (Lily May Peel)        female 35  1     0    \n",
       "5 Allen, Mr. William Henry                            male   35  0     0    \n",
       "6 Moran, Mr. James                                    male   NA  0     0    \n",
       "  Ticket           Fare    Cabin Embarked\n",
       "1 A/5 21171         7.2500       S       \n",
       "2 PC 17599         71.2833 C85   C       \n",
       "3 STON/O2. 3101282  7.9250       S       \n",
       "4 113803           53.1000 C123  S       \n",
       "5 373450            8.0500       S       \n",
       "6 330877            8.4583       Q       "
      ]
     },
     "metadata": {},
     "output_type": "display_data"
    }
   ],
   "source": [
    "head(train_df)"
   ]
  },
  {
   "cell_type": "code",
   "execution_count": 4,
   "id": "abd1d5e6",
   "metadata": {},
   "outputs": [
    {
     "data": {
      "text/html": [
       "<table>\n",
       "<thead><tr><th></th><th scope=col>assengerId</th><th scope=col>Survived</th><th scope=col>Pclass</th><th scope=col>Name</th><th scope=col>Sex</th><th scope=col>Age</th><th scope=col>SibSp</th><th scope=col>Parch</th><th scope=col>Ticket</th><th scope=col>Fare</th><th scope=col>Cabin</th><th scope=col>Embarked</th></tr></thead>\n",
       "<tbody>\n",
       "\t<tr><th scope=row>886</th><td>886                                     </td><td>0                                       </td><td>3                                       </td><td>Rice, Mrs. William (Margaret Norton)    </td><td>female                                  </td><td>39                                      </td><td>0                                       </td><td>5                                       </td><td>382652                                  </td><td>29.125                                  </td><td>                                        </td><td>Q                                       </td></tr>\n",
       "\t<tr><th scope=row>887</th><td>887                                     </td><td>0                                       </td><td>2                                       </td><td>Montvila, Rev. Juozas                   </td><td>male                                    </td><td>27                                      </td><td>0                                       </td><td>0                                       </td><td>211536                                  </td><td>13.000                                  </td><td>                                        </td><td>S                                       </td></tr>\n",
       "\t<tr><th scope=row>888</th><td>888                                     </td><td>1                                       </td><td>1                                       </td><td>Graham, Miss. Margaret Edith            </td><td>female                                  </td><td>19                                      </td><td>0                                       </td><td>0                                       </td><td>112053                                  </td><td>30.000                                  </td><td>B42                                     </td><td>S                                       </td></tr>\n",
       "\t<tr><th scope=row>889</th><td>889                                     </td><td>0                                       </td><td>3                                       </td><td>Johnston, Miss. Catherine Helen \"Carrie\"</td><td>female                                  </td><td>NA                                      </td><td>1                                       </td><td>2                                       </td><td>W./C. 6607                              </td><td>23.450                                  </td><td>                                        </td><td>S                                       </td></tr>\n",
       "\t<tr><th scope=row>890</th><td>890                                     </td><td>1                                       </td><td>1                                       </td><td>Behr, Mr. Karl Howell                   </td><td>male                                    </td><td>26                                      </td><td>0                                       </td><td>0                                       </td><td>111369                                  </td><td>30.000                                  </td><td>C148                                    </td><td>C                                       </td></tr>\n",
       "\t<tr><th scope=row>891</th><td>891                                     </td><td>0                                       </td><td>3                                       </td><td>Dooley, Mr. Patrick                     </td><td>male                                    </td><td>32                                      </td><td>0                                       </td><td>0                                       </td><td>370376                                  </td><td> 7.750                                  </td><td>                                        </td><td>Q                                       </td></tr>\n",
       "</tbody>\n",
       "</table>\n"
      ],
      "text/latex": [
       "\\begin{tabular}{r|llllllllllll}\n",
       "  & assengerId & Survived & Pclass & Name & Sex & Age & SibSp & Parch & Ticket & Fare & Cabin & Embarked\\\\\n",
       "\\hline\n",
       "\t886 & 886                                      & 0                                        & 3                                        & Rice, Mrs. William (Margaret Norton)     & female                                   & 39                                       & 0                                        & 5                                        & 382652                                   & 29.125                                   &                                          & Q                                       \\\\\n",
       "\t887 & 887                                      & 0                                        & 2                                        & Montvila, Rev. Juozas                    & male                                     & 27                                       & 0                                        & 0                                        & 211536                                   & 13.000                                   &                                          & S                                       \\\\\n",
       "\t888 & 888                                      & 1                                        & 1                                        & Graham, Miss. Margaret Edith             & female                                   & 19                                       & 0                                        & 0                                        & 112053                                   & 30.000                                   & B42                                      & S                                       \\\\\n",
       "\t889 & 889                                      & 0                                        & 3                                        & Johnston, Miss. Catherine Helen \"Carrie\" & female                                   & NA                                       & 1                                        & 2                                        & W./C. 6607                               & 23.450                                   &                                          & S                                       \\\\\n",
       "\t890 & 890                                      & 1                                        & 1                                        & Behr, Mr. Karl Howell                    & male                                     & 26                                       & 0                                        & 0                                        & 111369                                   & 30.000                                   & C148                                     & C                                       \\\\\n",
       "\t891 & 891                                      & 0                                        & 3                                        & Dooley, Mr. Patrick                      & male                                     & 32                                       & 0                                        & 0                                        & 370376                                   &  7.750                                   &                                          & Q                                       \\\\\n",
       "\\end{tabular}\n"
      ],
      "text/markdown": [
       "\n",
       "| <!--/--> | assengerId | Survived | Pclass | Name | Sex | Age | SibSp | Parch | Ticket | Fare | Cabin | Embarked |\n",
       "|---|---|---|---|---|---|---|---|---|---|---|---|---|\n",
       "| 886 | 886                                      | 0                                        | 3                                        | Rice, Mrs. William (Margaret Norton)     | female                                   | 39                                       | 0                                        | 5                                        | 382652                                   | 29.125                                   |                                          | Q                                        |\n",
       "| 887 | 887                                      | 0                                        | 2                                        | Montvila, Rev. Juozas                    | male                                     | 27                                       | 0                                        | 0                                        | 211536                                   | 13.000                                   |                                          | S                                        |\n",
       "| 888 | 888                                      | 1                                        | 1                                        | Graham, Miss. Margaret Edith             | female                                   | 19                                       | 0                                        | 0                                        | 112053                                   | 30.000                                   | B42                                      | S                                        |\n",
       "| 889 | 889                                      | 0                                        | 3                                        | Johnston, Miss. Catherine Helen \"Carrie\" | female                                   | NA                                       | 1                                        | 2                                        | W./C. 6607                               | 23.450                                   |                                          | S                                        |\n",
       "| 890 | 890                                      | 1                                        | 1                                        | Behr, Mr. Karl Howell                    | male                                     | 26                                       | 0                                        | 0                                        | 111369                                   | 30.000                                   | C148                                     | C                                        |\n",
       "| 891 | 891                                      | 0                                        | 3                                        | Dooley, Mr. Patrick                      | male                                     | 32                                       | 0                                        | 0                                        | 370376                                   |  7.750                                   |                                          | Q                                        |\n",
       "\n"
      ],
      "text/plain": [
       "    assengerId Survived Pclass Name                                     Sex   \n",
       "886 886        0        3      Rice, Mrs. William (Margaret Norton)     female\n",
       "887 887        0        2      Montvila, Rev. Juozas                    male  \n",
       "888 888        1        1      Graham, Miss. Margaret Edith             female\n",
       "889 889        0        3      Johnston, Miss. Catherine Helen \"Carrie\" female\n",
       "890 890        1        1      Behr, Mr. Karl Howell                    male  \n",
       "891 891        0        3      Dooley, Mr. Patrick                      male  \n",
       "    Age SibSp Parch Ticket     Fare   Cabin Embarked\n",
       "886 39  0     5     382652     29.125       Q       \n",
       "887 27  0     0     211536     13.000       S       \n",
       "888 19  0     0     112053     30.000 B42   S       \n",
       "889 NA  1     2     W./C. 6607 23.450       S       \n",
       "890 26  0     0     111369     30.000 C148  C       \n",
       "891 32  0     0     370376      7.750       Q       "
      ]
     },
     "metadata": {},
     "output_type": "display_data"
    }
   ],
   "source": [
    "tail(train_df)"
   ]
  },
  {
   "cell_type": "code",
   "execution_count": 5,
   "id": "542d3b12",
   "metadata": {},
   "outputs": [
    {
     "name": "stdout",
     "output_type": "stream",
     "text": [
      "'data.frame':\t891 obs. of  12 variables:\n",
      " $ assengerId: int  1 2 3 4 5 6 7 8 9 10 ...\n",
      " $ Survived  : int  0 1 1 1 0 0 0 0 1 1 ...\n",
      " $ Pclass    : int  3 1 3 1 3 3 1 3 3 2 ...\n",
      " $ Name      : Factor w/ 891 levels \"Abbing, Mr. Anthony\",..: 109 191 358 277 16 559 520 629 417 581 ...\n",
      " $ Sex       : Factor w/ 2 levels \"female\",\"male\": 2 1 1 1 2 2 2 2 1 1 ...\n",
      " $ Age       : num  22 38 26 35 35 NA 54 2 27 14 ...\n",
      " $ SibSp     : int  1 1 0 1 0 0 0 3 0 1 ...\n",
      " $ Parch     : int  0 0 0 0 0 0 0 1 2 0 ...\n",
      " $ Ticket    : Factor w/ 681 levels \"110152\",\"110413\",..: 524 597 670 50 473 276 86 396 345 133 ...\n",
      " $ Fare      : num  7.25 71.28 7.92 53.1 8.05 ...\n",
      " $ Cabin     : Factor w/ 148 levels \"\",\"A10\",\"A14\",..: 1 83 1 57 1 1 131 1 1 1 ...\n",
      " $ Embarked  : Factor w/ 4 levels \"\",\"C\",\"Q\",\"S\": 4 2 4 4 4 3 4 4 4 2 ...\n"
     ]
    }
   ],
   "source": [
    "str(train_df)"
   ]
  },
  {
   "cell_type": "markdown",
   "id": "5136c03e",
   "metadata": {},
   "source": [
    "### 컬럼 내용 확인\n",
    "- Survived : 생존여부, 0= 사망, 1= 생존\n",
    "- Pclass : 티켓등급, 1=1등급, 2=2등급, 3=3등급\n",
    "- SibSp : 함께 탑승한 형제, 자매, 배우자의 수 (sibling)\n",
    "- Parch : 함께 탑승한 부모, 자식의 수 (Parent Children)\n",
    "- Fare : 운임\n",
    "- Cabin : 객실 번호\n",
    "- Embarked : 탑승항구, C=Chersbourg, Q=Queenstown, S=Southampton\n"
   ]
  },
  {
   "cell_type": "code",
   "execution_count": 6,
   "id": "9fa0f6db",
   "metadata": {},
   "outputs": [
    {
     "data": {
      "text/html": [
       "177"
      ],
      "text/latex": [
       "177"
      ],
      "text/markdown": [
       "177"
      ],
      "text/plain": [
       "[1] 177"
      ]
     },
     "metadata": {},
     "output_type": "display_data"
    },
    {
     "data": {
      "text/html": [
       "<dl class=dl-horizontal>\n",
       "\t<dt>assengerId</dt>\n",
       "\t\t<dd>0</dd>\n",
       "\t<dt>Survived</dt>\n",
       "\t\t<dd>0</dd>\n",
       "\t<dt>Pclass</dt>\n",
       "\t\t<dd>0</dd>\n",
       "\t<dt>Name</dt>\n",
       "\t\t<dd>0</dd>\n",
       "\t<dt>Sex</dt>\n",
       "\t\t<dd>0</dd>\n",
       "\t<dt>Age</dt>\n",
       "\t\t<dd>177</dd>\n",
       "\t<dt>SibSp</dt>\n",
       "\t\t<dd>0</dd>\n",
       "\t<dt>Parch</dt>\n",
       "\t\t<dd>0</dd>\n",
       "\t<dt>Ticket</dt>\n",
       "\t\t<dd>0</dd>\n",
       "\t<dt>Fare</dt>\n",
       "\t\t<dd>0</dd>\n",
       "\t<dt>Cabin</dt>\n",
       "\t\t<dd>0</dd>\n",
       "\t<dt>Embarked</dt>\n",
       "\t\t<dd>0</dd>\n",
       "</dl>\n"
      ],
      "text/latex": [
       "\\begin{description*}\n",
       "\\item[assengerId] 0\n",
       "\\item[Survived] 0\n",
       "\\item[Pclass] 0\n",
       "\\item[Name] 0\n",
       "\\item[Sex] 0\n",
       "\\item[Age] 177\n",
       "\\item[SibSp] 0\n",
       "\\item[Parch] 0\n",
       "\\item[Ticket] 0\n",
       "\\item[Fare] 0\n",
       "\\item[Cabin] 0\n",
       "\\item[Embarked] 0\n",
       "\\end{description*}\n"
      ],
      "text/markdown": [
       "assengerId\n",
       ":   0Survived\n",
       ":   0Pclass\n",
       ":   0Name\n",
       ":   0Sex\n",
       ":   0Age\n",
       ":   177SibSp\n",
       ":   0Parch\n",
       ":   0Ticket\n",
       ":   0Fare\n",
       ":   0Cabin\n",
       ":   0Embarked\n",
       ":   0\n",
       "\n"
      ],
      "text/plain": [
       "assengerId   Survived     Pclass       Name        Sex        Age      SibSp \n",
       "         0          0          0          0          0        177          0 \n",
       "     Parch     Ticket       Fare      Cabin   Embarked \n",
       "         0          0          0          0          0 "
      ]
     },
     "metadata": {},
     "output_type": "display_data"
    }
   ],
   "source": [
    "# 각 컬럼별 NA 확인\n",
    "sum(is.na(train_df)) \n",
    "colSums(is.na(train_df)) # 컬럼별 Sum 하는 함수"
   ]
  },
  {
   "cell_type": "code",
   "execution_count": 7,
   "id": "d2e89ce6",
   "metadata": {},
   "outputs": [
    {
     "data": {
      "text/html": [
       "0.198653198653199"
      ],
      "text/latex": [
       "0.198653198653199"
      ],
      "text/markdown": [
       "0.198653198653199"
      ],
      "text/plain": [
       "[1] 0.1986532"
      ]
     },
     "metadata": {},
     "output_type": "display_data"
    }
   ],
   "source": [
    "177/891 \n",
    "# age는 아기에 대해서 관대하게 살렸으니 쓸모가 있는 컬럼이다.\n",
    "#20% NA라 쓸만하다, 그러나 연결된 데이터가 없어서 채울 수가 없다.\n",
    "# 그래서 177개를 뺴고 쓸 것인가.\n"
   ]
  },
  {
   "cell_type": "code",
   "execution_count": 8,
   "id": "126e5020",
   "metadata": {},
   "outputs": [
    {
     "data": {
      "text/html": [
       "<table>\n",
       "<thead><tr><th></th><th scope=col>assengerId</th><th scope=col>Survived</th><th scope=col>Pclass</th><th scope=col>Name</th><th scope=col>Sex</th><th scope=col>Age</th><th scope=col>SibSp</th><th scope=col>Parch</th><th scope=col>Ticket</th><th scope=col>Fare</th><th scope=col>Cabin</th><th scope=col>Embarked</th></tr></thead>\n",
       "<tbody>\n",
       "\t<tr><th scope=row>1</th><td>1                                                  </td><td>0                                                  </td><td>3                                                  </td><td>Braund, Mr. Owen Harris                            </td><td>male                                               </td><td>22                                                 </td><td>1                                                  </td><td>0                                                  </td><td>A/5 21171                                          </td><td> 7.2500                                            </td><td>                                                   </td><td>S                                                  </td></tr>\n",
       "\t<tr><th scope=row>2</th><td>2                                                  </td><td>1                                                  </td><td>1                                                  </td><td>Cumings, Mrs. John Bradley (Florence Briggs Thayer)</td><td>female                                             </td><td>38                                                 </td><td>1                                                  </td><td>0                                                  </td><td>PC 17599                                           </td><td>71.2833                                            </td><td>C85                                                </td><td>C                                                  </td></tr>\n",
       "\t<tr><th scope=row>3</th><td>3                                                  </td><td>1                                                  </td><td>3                                                  </td><td>Heikkinen, Miss. Laina                             </td><td>female                                             </td><td>26                                                 </td><td>0                                                  </td><td>0                                                  </td><td>STON/O2. 3101282                                   </td><td> 7.9250                                            </td><td>                                                   </td><td>S                                                  </td></tr>\n",
       "\t<tr><th scope=row>4</th><td>4                                                  </td><td>1                                                  </td><td>1                                                  </td><td>Futrelle, Mrs. Jacques Heath (Lily May Peel)       </td><td>female                                             </td><td>35                                                 </td><td>1                                                  </td><td>0                                                  </td><td>113803                                             </td><td>53.1000                                            </td><td>C123                                               </td><td>S                                                  </td></tr>\n",
       "\t<tr><th scope=row>5</th><td>5                                                  </td><td>0                                                  </td><td>3                                                  </td><td>Allen, Mr. William Henry                           </td><td>male                                               </td><td>35                                                 </td><td>0                                                  </td><td>0                                                  </td><td>373450                                             </td><td> 8.0500                                            </td><td>                                                   </td><td>S                                                  </td></tr>\n",
       "\t<tr><th scope=row>7</th><td>7                                                  </td><td>0                                                  </td><td>1                                                  </td><td>McCarthy, Mr. Timothy J                            </td><td>male                                               </td><td>54                                                 </td><td>0                                                  </td><td>0                                                  </td><td>17463                                              </td><td>51.8625                                            </td><td>E46                                                </td><td>S                                                  </td></tr>\n",
       "</tbody>\n",
       "</table>\n"
      ],
      "text/latex": [
       "\\begin{tabular}{r|llllllllllll}\n",
       "  & assengerId & Survived & Pclass & Name & Sex & Age & SibSp & Parch & Ticket & Fare & Cabin & Embarked\\\\\n",
       "\\hline\n",
       "\t1 & 1                                                   & 0                                                   & 3                                                   & Braund, Mr. Owen Harris                             & male                                                & 22                                                  & 1                                                   & 0                                                   & A/5 21171                                           &  7.2500                                             &                                                     & S                                                  \\\\\n",
       "\t2 & 2                                                   & 1                                                   & 1                                                   & Cumings, Mrs. John Bradley (Florence Briggs Thayer) & female                                              & 38                                                  & 1                                                   & 0                                                   & PC 17599                                            & 71.2833                                             & C85                                                 & C                                                  \\\\\n",
       "\t3 & 3                                                   & 1                                                   & 3                                                   & Heikkinen, Miss. Laina                              & female                                              & 26                                                  & 0                                                   & 0                                                   & STON/O2. 3101282                                    &  7.9250                                             &                                                     & S                                                  \\\\\n",
       "\t4 & 4                                                   & 1                                                   & 1                                                   & Futrelle, Mrs. Jacques Heath (Lily May Peel)        & female                                              & 35                                                  & 1                                                   & 0                                                   & 113803                                              & 53.1000                                             & C123                                                & S                                                  \\\\\n",
       "\t5 & 5                                                   & 0                                                   & 3                                                   & Allen, Mr. William Henry                            & male                                                & 35                                                  & 0                                                   & 0                                                   & 373450                                              &  8.0500                                             &                                                     & S                                                  \\\\\n",
       "\t7 & 7                                                   & 0                                                   & 1                                                   & McCarthy, Mr. Timothy J                             & male                                                & 54                                                  & 0                                                   & 0                                                   & 17463                                               & 51.8625                                             & E46                                                 & S                                                  \\\\\n",
       "\\end{tabular}\n"
      ],
      "text/markdown": [
       "\n",
       "| <!--/--> | assengerId | Survived | Pclass | Name | Sex | Age | SibSp | Parch | Ticket | Fare | Cabin | Embarked |\n",
       "|---|---|---|---|---|---|---|---|---|---|---|---|---|\n",
       "| 1 | 1                                                   | 0                                                   | 3                                                   | Braund, Mr. Owen Harris                             | male                                                | 22                                                  | 1                                                   | 0                                                   | A/5 21171                                           |  7.2500                                             |                                                     | S                                                   |\n",
       "| 2 | 2                                                   | 1                                                   | 1                                                   | Cumings, Mrs. John Bradley (Florence Briggs Thayer) | female                                              | 38                                                  | 1                                                   | 0                                                   | PC 17599                                            | 71.2833                                             | C85                                                 | C                                                   |\n",
       "| 3 | 3                                                   | 1                                                   | 3                                                   | Heikkinen, Miss. Laina                              | female                                              | 26                                                  | 0                                                   | 0                                                   | STON/O2. 3101282                                    |  7.9250                                             |                                                     | S                                                   |\n",
       "| 4 | 4                                                   | 1                                                   | 1                                                   | Futrelle, Mrs. Jacques Heath (Lily May Peel)        | female                                              | 35                                                  | 1                                                   | 0                                                   | 113803                                              | 53.1000                                             | C123                                                | S                                                   |\n",
       "| 5 | 5                                                   | 0                                                   | 3                                                   | Allen, Mr. William Henry                            | male                                                | 35                                                  | 0                                                   | 0                                                   | 373450                                              |  8.0500                                             |                                                     | S                                                   |\n",
       "| 7 | 7                                                   | 0                                                   | 1                                                   | McCarthy, Mr. Timothy J                             | male                                                | 54                                                  | 0                                                   | 0                                                   | 17463                                               | 51.8625                                             | E46                                                 | S                                                   |\n",
       "\n"
      ],
      "text/plain": [
       "  assengerId Survived Pclass\n",
       "1 1          0        3     \n",
       "2 2          1        1     \n",
       "3 3          1        3     \n",
       "4 4          1        1     \n",
       "5 5          0        3     \n",
       "7 7          0        1     \n",
       "  Name                                                Sex    Age SibSp Parch\n",
       "1 Braund, Mr. Owen Harris                             male   22  1     0    \n",
       "2 Cumings, Mrs. John Bradley (Florence Briggs Thayer) female 38  1     0    \n",
       "3 Heikkinen, Miss. Laina                              female 26  0     0    \n",
       "4 Futrelle, Mrs. Jacques Heath (Lily May Peel)        female 35  1     0    \n",
       "5 Allen, Mr. William Henry                            male   35  0     0    \n",
       "7 McCarthy, Mr. Timothy J                             male   54  0     0    \n",
       "  Ticket           Fare    Cabin Embarked\n",
       "1 A/5 21171         7.2500       S       \n",
       "2 PC 17599         71.2833 C85   C       \n",
       "3 STON/O2. 3101282  7.9250       S       \n",
       "4 113803           53.1000 C123  S       \n",
       "5 373450            8.0500       S       \n",
       "7 17463            51.8625 E46   S       "
      ]
     },
     "metadata": {},
     "output_type": "display_data"
    },
    {
     "data": {
      "text/html": [
       "714"
      ],
      "text/latex": [
       "714"
      ],
      "text/markdown": [
       "714"
      ],
      "text/plain": [
       "[1] 714"
      ]
     },
     "metadata": {},
     "output_type": "display_data"
    }
   ],
   "source": [
    "# train_df$Age가 NA인 것 뺴고 데이터셋 만들기\n",
    "head(train_df[!is.na(train_df$Age),])\n",
    "nrow(train_df[!is.na(train_df$Age),])\n",
    "\n",
    "#subset(train_df , !is.na(Age))"
   ]
  },
  {
   "cell_type": "code",
   "execution_count": 9,
   "id": "e3c790c3",
   "metadata": {},
   "outputs": [
    {
     "name": "stderr",
     "output_type": "stream",
     "text": [
      "\n",
      "Attaching package: 'dplyr'\n",
      "\n",
      "The following objects are masked from 'package:stats':\n",
      "\n",
      "    filter, lag\n",
      "\n",
      "The following objects are masked from 'package:base':\n",
      "\n",
      "    intersect, setdiff, setequal, union\n",
      "\n"
     ]
    }
   ],
   "source": [
    "# Survived 기준으로 Dataset 정렬\n",
    "library(dplyr)\n",
    "train_df<- arrange(train_df, Survived)\n",
    "\n"
   ]
  },
  {
   "cell_type": "code",
   "execution_count": 10,
   "id": "19f8c875",
   "metadata": {},
   "outputs": [
    {
     "data": {
      "text/html": [
       "<table>\n",
       "<thead><tr><th></th><th scope=col>assengerId</th><th scope=col>Survived</th><th scope=col>Pclass</th><th scope=col>Name</th><th scope=col>Sex</th><th scope=col>Age</th><th scope=col>SibSp</th><th scope=col>Parch</th><th scope=col>Ticket</th><th scope=col>Fare</th><th scope=col>Cabin</th><th scope=col>Embarked</th></tr></thead>\n",
       "<tbody>\n",
       "\t<tr><th scope=row>886</th><td>875                                          </td><td>1                                            </td><td>2                                            </td><td>Abelson, Mrs. Samuel (Hannah Wizosky)        </td><td>female                                       </td><td>28                                           </td><td>1                                            </td><td>0                                            </td><td>P/PP 3381                                    </td><td>24.0000                                      </td><td>                                             </td><td>C                                            </td></tr>\n",
       "\t<tr><th scope=row>887</th><td>876                                          </td><td>1                                            </td><td>3                                            </td><td>Najib, Miss. Adele Kiamie \"Jane\"             </td><td>female                                       </td><td>15                                           </td><td>0                                            </td><td>0                                            </td><td>2667                                         </td><td> 7.2250                                      </td><td>                                             </td><td>C                                            </td></tr>\n",
       "\t<tr><th scope=row>888</th><td>880                                          </td><td>1                                            </td><td>1                                            </td><td>Potter, Mrs. Thomas Jr (Lily Alexenia Wilson)</td><td>female                                       </td><td>56                                           </td><td>0                                            </td><td>1                                            </td><td>11767                                        </td><td>83.1583                                      </td><td>C50                                          </td><td>C                                            </td></tr>\n",
       "\t<tr><th scope=row>889</th><td>881                                          </td><td>1                                            </td><td>2                                            </td><td>Shelley, Mrs. William (Imanita Parrish Hall) </td><td>female                                       </td><td>25                                           </td><td>0                                            </td><td>1                                            </td><td>230433                                       </td><td>26.0000                                      </td><td>                                             </td><td>S                                            </td></tr>\n",
       "\t<tr><th scope=row>890</th><td>888                                          </td><td>1                                            </td><td>1                                            </td><td>Graham, Miss. Margaret Edith                 </td><td>female                                       </td><td>19                                           </td><td>0                                            </td><td>0                                            </td><td>112053                                       </td><td>30.0000                                      </td><td>B42                                          </td><td>S                                            </td></tr>\n",
       "\t<tr><th scope=row>891</th><td>890                                          </td><td>1                                            </td><td>1                                            </td><td>Behr, Mr. Karl Howell                        </td><td>male                                         </td><td>26                                           </td><td>0                                            </td><td>0                                            </td><td>111369                                       </td><td>30.0000                                      </td><td>C148                                         </td><td>C                                            </td></tr>\n",
       "</tbody>\n",
       "</table>\n"
      ],
      "text/latex": [
       "\\begin{tabular}{r|llllllllllll}\n",
       "  & assengerId & Survived & Pclass & Name & Sex & Age & SibSp & Parch & Ticket & Fare & Cabin & Embarked\\\\\n",
       "\\hline\n",
       "\t886 & 875                                           & 1                                             & 2                                             & Abelson, Mrs. Samuel (Hannah Wizosky)         & female                                        & 28                                            & 1                                             & 0                                             & P/PP 3381                                     & 24.0000                                       &                                               & C                                            \\\\\n",
       "\t887 & 876                                           & 1                                             & 3                                             & Najib, Miss. Adele Kiamie \"Jane\"              & female                                        & 15                                            & 0                                             & 0                                             & 2667                                          &  7.2250                                       &                                               & C                                            \\\\\n",
       "\t888 & 880                                           & 1                                             & 1                                             & Potter, Mrs. Thomas Jr (Lily Alexenia Wilson) & female                                        & 56                                            & 0                                             & 1                                             & 11767                                         & 83.1583                                       & C50                                           & C                                            \\\\\n",
       "\t889 & 881                                           & 1                                             & 2                                             & Shelley, Mrs. William (Imanita Parrish Hall)  & female                                        & 25                                            & 0                                             & 1                                             & 230433                                        & 26.0000                                       &                                               & S                                            \\\\\n",
       "\t890 & 888                                           & 1                                             & 1                                             & Graham, Miss. Margaret Edith                  & female                                        & 19                                            & 0                                             & 0                                             & 112053                                        & 30.0000                                       & B42                                           & S                                            \\\\\n",
       "\t891 & 890                                           & 1                                             & 1                                             & Behr, Mr. Karl Howell                         & male                                          & 26                                            & 0                                             & 0                                             & 111369                                        & 30.0000                                       & C148                                          & C                                            \\\\\n",
       "\\end{tabular}\n"
      ],
      "text/markdown": [
       "\n",
       "| <!--/--> | assengerId | Survived | Pclass | Name | Sex | Age | SibSp | Parch | Ticket | Fare | Cabin | Embarked |\n",
       "|---|---|---|---|---|---|---|---|---|---|---|---|---|\n",
       "| 886 | 875                                           | 1                                             | 2                                             | Abelson, Mrs. Samuel (Hannah Wizosky)         | female                                        | 28                                            | 1                                             | 0                                             | P/PP 3381                                     | 24.0000                                       |                                               | C                                             |\n",
       "| 887 | 876                                           | 1                                             | 3                                             | Najib, Miss. Adele Kiamie \"Jane\"              | female                                        | 15                                            | 0                                             | 0                                             | 2667                                          |  7.2250                                       |                                               | C                                             |\n",
       "| 888 | 880                                           | 1                                             | 1                                             | Potter, Mrs. Thomas Jr (Lily Alexenia Wilson) | female                                        | 56                                            | 0                                             | 1                                             | 11767                                         | 83.1583                                       | C50                                           | C                                             |\n",
       "| 889 | 881                                           | 1                                             | 2                                             | Shelley, Mrs. William (Imanita Parrish Hall)  | female                                        | 25                                            | 0                                             | 1                                             | 230433                                        | 26.0000                                       |                                               | S                                             |\n",
       "| 890 | 888                                           | 1                                             | 1                                             | Graham, Miss. Margaret Edith                  | female                                        | 19                                            | 0                                             | 0                                             | 112053                                        | 30.0000                                       | B42                                           | S                                             |\n",
       "| 891 | 890                                           | 1                                             | 1                                             | Behr, Mr. Karl Howell                         | male                                          | 26                                            | 0                                             | 0                                             | 111369                                        | 30.0000                                       | C148                                          | C                                             |\n",
       "\n"
      ],
      "text/plain": [
       "    assengerId Survived Pclass Name                                         \n",
       "886 875        1        2      Abelson, Mrs. Samuel (Hannah Wizosky)        \n",
       "887 876        1        3      Najib, Miss. Adele Kiamie \"Jane\"             \n",
       "888 880        1        1      Potter, Mrs. Thomas Jr (Lily Alexenia Wilson)\n",
       "889 881        1        2      Shelley, Mrs. William (Imanita Parrish Hall) \n",
       "890 888        1        1      Graham, Miss. Margaret Edith                 \n",
       "891 890        1        1      Behr, Mr. Karl Howell                        \n",
       "    Sex    Age SibSp Parch Ticket    Fare    Cabin Embarked\n",
       "886 female 28  1     0     P/PP 3381 24.0000       C       \n",
       "887 female 15  0     0     2667       7.2250       C       \n",
       "888 female 56  0     1     11767     83.1583 C50   C       \n",
       "889 female 25  0     1     230433    26.0000       S       \n",
       "890 female 19  0     0     112053    30.0000 B42   S       \n",
       "891 male   26  0     0     111369    30.0000 C148  C       "
      ]
     },
     "metadata": {},
     "output_type": "display_data"
    }
   ],
   "source": [
    "tail(train_df)"
   ]
  },
  {
   "cell_type": "code",
   "execution_count": 11,
   "id": "1d614600",
   "metadata": {},
   "outputs": [
    {
     "data": {
      "text/html": [
       "<ol class=list-inline>\n",
       "\t<li>891</li>\n",
       "\t<li>12</li>\n",
       "</ol>\n"
      ],
      "text/latex": [
       "\\begin{enumerate*}\n",
       "\\item 891\n",
       "\\item 12\n",
       "\\end{enumerate*}\n"
      ],
      "text/markdown": [
       "1. 891\n",
       "2. 12\n",
       "\n",
       "\n"
      ],
      "text/plain": [
       "[1] 891  12"
      ]
     },
     "metadata": {},
     "output_type": "display_data"
    }
   ],
   "source": [
    "# 정렬된 크기 확인하기\n",
    "dim(train_df)"
   ]
  },
  {
   "cell_type": "markdown",
   "id": "6b7eeaab",
   "metadata": {},
   "source": [
    "#Target Column : Survived 분석 및 확인\n",
    "--"
   ]
  },
  {
   "cell_type": "code",
   "execution_count": 12,
   "id": "93276f07",
   "metadata": {},
   "outputs": [
    {
     "data": {
      "text/plain": [
       "\n",
       "  0   1 \n",
       "549 342 "
      ]
     },
     "metadata": {},
     "output_type": "display_data"
    }
   ],
   "source": [
    "table(train_df$Survived)"
   ]
  },
  {
   "cell_type": "code",
   "execution_count": 13,
   "id": "e01388f6",
   "metadata": {},
   "outputs": [
    {
     "data": {
      "text/html": [
       "549"
      ],
      "text/latex": [
       "549"
      ],
      "text/markdown": [
       "549"
      ],
      "text/plain": [
       "[1] 549"
      ]
     },
     "metadata": {},
     "output_type": "display_data"
    },
    {
     "data": {
      "text/html": [
       "342"
      ],
      "text/latex": [
       "342"
      ],
      "text/markdown": [
       "342"
      ],
      "text/plain": [
       "[1] 342"
      ]
     },
     "metadata": {},
     "output_type": "display_data"
    },
    {
     "data": {
      "text/html": [
       "0.383838383838384"
      ],
      "text/latex": [
       "0.383838383838384"
      ],
      "text/markdown": [
       "0.383838383838384"
      ],
      "text/plain": [
       "[1] 0.3838384"
      ]
     },
     "metadata": {},
     "output_type": "display_data"
    }
   ],
   "source": [
    "# Survived의 생존과 사망 Count 확인\n",
    "# 사망자수\n",
    "nrow(subset(train_df,Survived == 0))\n",
    "#table(train_df$Survived)[1]\n",
    "# 생존자수\n",
    "nrow(subset(train_df,Survived == 1))\n",
    "#table(train_df$Survived)[2]\n",
    "# 생존자수의 비율\n",
    "nrow(subset(train_df,Survived == 1)) / nrow(train_df)\n",
    "#table(train_df$Survived)[2]/(table(train_df$Survived)[1]+table(train_df$Survived)[2])"
   ]
  },
  {
   "cell_type": "code",
   "execution_count": 14,
   "id": "47f9375d",
   "metadata": {},
   "outputs": [],
   "source": [
    "# 타켓의 비율은 일정한 것이 좋지만, 피처의 비율은 다른 것이 좋다."
   ]
  },
  {
   "cell_type": "code",
   "execution_count": 15,
   "id": "0d5087d8",
   "metadata": {},
   "outputs": [],
   "source": [
    "# 생존과 사망 비율을 Pie Chart로 생성\n",
    "library(plotrix)"
   ]
  },
  {
   "cell_type": "code",
   "execution_count": 16,
   "id": "44c6f034",
   "metadata": {},
   "outputs": [
    {
     "data": {
      "image/png": "[encoded data removed]",
      "text/plain": [
       "Plot with title \"타이타닉호 생존율\""
      ]
     },
     "metadata": {},
     "output_type": "display_data"
    }
   ],
   "source": [
    "par(family = \"AppleGothic\")\n",
    "options(warn = -1)\n",
    "ratio = c(round(nrow(subset(train_df,Survived == 0)) / nrow(train_df) *100,2),\n",
    "          round(nrow(subset(train_df,Survived == 1)) / nrow(train_df) *100,2)\n",
    "         )\n",
    "label = paste(c(\"사망\",\"생존\") ,\"\\n\",ratio, \"%\")\n",
    "\n",
    "\n",
    "pie3D(\n",
    "        c(nrow(subset(train_df,Survived == 0)),nrow(subset(train_df,Survived == 1))),\n",
    "        main = \"타이타닉호 생존율\",\n",
    "        labels = label,\n",
    "        explode = 0.05,\n",
    "        labelcex = 1.5\n",
    "        )"
   ]
  },
  {
   "cell_type": "code",
   "execution_count": 17,
   "id": "4af911a7",
   "metadata": {},
   "outputs": [],
   "source": [
    "# 처음부터 5:5 로 맞춰서하기보단 6:4면 데이터량이있으니 그대로해본다음 맞춰서해보는 게 낫다 \n"
   ]
  },
  {
   "cell_type": "code",
   "execution_count": 18,
   "id": "9abc128c",
   "metadata": {},
   "outputs": [
    {
     "data": {
      "image/png": "[encoded data removed]",
      "text/plain": [
       "Plot with title \"타이타닉호 생존율\""
      ]
     },
     "metadata": {},
     "output_type": "display_data"
    }
   ],
   "source": [
    "SurvDeath<- c(nrow(subset(train_df,Survived == 0)),nrow(subset(train_df,Survived == 1)))\n",
    "names(SurvDeath) <- c(\"사망\",\"생존\")\n",
    "\n",
    "par(family = \"AppleGothic\")\n",
    "options(warn = -1)\n",
    "barplot(\n",
    "        SurvDeath,\n",
    "        main = \"타이타닉호 생존율\",\n",
    "        col = c(\"red\",\"blue\"),\n",
    "        ylim = c(0,600),\n",
    "        ylab = \"인원수\",\n",
    "        )\n",
    "\n"
   ]
  },
  {
   "cell_type": "code",
   "execution_count": 19,
   "id": "33d302f7",
   "metadata": {},
   "outputs": [
    {
     "data": {
      "image/png": "[encoded data removed]",
      "text/plain": [
       "Plot with title \"타이타닉호 생존수와 사망수\""
      ]
     },
     "metadata": {},
     "output_type": "display_data"
    }
   ],
   "source": [
    "# barplot 은 table과 친하다\n",
    "par(family = \"AppleGothic\")\n",
    "options(warn = -1)\n",
    "barplot(\n",
    "        table(train_df$Survived),\n",
    "        main = \"타이타닉호 생존수와 사망수\",\n",
    "        col = c(\"red\",\"blue\"),\n",
    "        ylim = c(0,600),\n",
    "        xlab = \"생존여부\",\n",
    "        ylab = \"인원수\",\n",
    "        names = c(\"사망\", \"생존\")\n",
    "        )"
   ]
  },
  {
   "cell_type": "markdown",
   "id": "0870bcc0",
   "metadata": {},
   "source": [
    "> Target Column으로 Survived를 선정 "
   ]
  },
  {
   "cell_type": "markdown",
   "id": "3b993cbe",
   "metadata": {},
   "source": [
    "---\n",
    "# Feature column 찾기"
   ]
  },
  {
   "cell_type": "code",
   "execution_count": 20,
   "id": "5e84ac13",
   "metadata": {},
   "outputs": [
    {
     "data": {
      "text/html": [
       "<table>\n",
       "<thead><tr><th scope=col>assengerId</th><th scope=col>Survived</th><th scope=col>Pclass</th><th scope=col>Name</th><th scope=col>Sex</th><th scope=col>Age</th><th scope=col>SibSp</th><th scope=col>Parch</th><th scope=col>Ticket</th><th scope=col>Fare</th><th scope=col>Cabin</th><th scope=col>Embarked</th></tr></thead>\n",
       "<tbody>\n",
       "\t<tr><td> 1                            </td><td>0                             </td><td>3                             </td><td>Braund, Mr. Owen Harris       </td><td>male                          </td><td>22                            </td><td>1                             </td><td>0                             </td><td>A/5 21171                     </td><td> 7.2500                       </td><td>                              </td><td>S                             </td></tr>\n",
       "\t<tr><td> 5                            </td><td>0                             </td><td>3                             </td><td>Allen, Mr. William Henry      </td><td>male                          </td><td>35                            </td><td>0                             </td><td>0                             </td><td>373450                        </td><td> 8.0500                       </td><td>                              </td><td>S                             </td></tr>\n",
       "\t<tr><td> 6                            </td><td>0                             </td><td>3                             </td><td>Moran, Mr. James              </td><td>male                          </td><td>NA                            </td><td>0                             </td><td>0                             </td><td>330877                        </td><td> 8.4583                       </td><td>                              </td><td>Q                             </td></tr>\n",
       "\t<tr><td> 7                            </td><td>0                             </td><td>1                             </td><td>McCarthy, Mr. Timothy J       </td><td>male                          </td><td>54                            </td><td>0                             </td><td>0                             </td><td>17463                         </td><td>51.8625                       </td><td>E46                           </td><td>S                             </td></tr>\n",
       "\t<tr><td> 8                            </td><td>0                             </td><td>3                             </td><td>Palsson, Master. Gosta Leonard</td><td>male                          </td><td> 2                            </td><td>3                             </td><td>1                             </td><td>349909                        </td><td>21.0750                       </td><td>                              </td><td>S                             </td></tr>\n",
       "\t<tr><td>13                            </td><td>0                             </td><td>3                             </td><td>Saundercock, Mr. William Henry</td><td>male                          </td><td>20                            </td><td>0                             </td><td>0                             </td><td>A/5. 2151                     </td><td> 8.0500                       </td><td>                              </td><td>S                             </td></tr>\n",
       "</tbody>\n",
       "</table>\n"
      ],
      "text/latex": [
       "\\begin{tabular}{r|llllllllllll}\n",
       " assengerId & Survived & Pclass & Name & Sex & Age & SibSp & Parch & Ticket & Fare & Cabin & Embarked\\\\\n",
       "\\hline\n",
       "\t  1                             & 0                              & 3                              & Braund, Mr. Owen Harris        & male                           & 22                             & 1                              & 0                              & A/5 21171                      &  7.2500                        &                                & S                             \\\\\n",
       "\t  5                             & 0                              & 3                              & Allen, Mr. William Henry       & male                           & 35                             & 0                              & 0                              & 373450                         &  8.0500                        &                                & S                             \\\\\n",
       "\t  6                             & 0                              & 3                              & Moran, Mr. James               & male                           & NA                             & 0                              & 0                              & 330877                         &  8.4583                        &                                & Q                             \\\\\n",
       "\t  7                             & 0                              & 1                              & McCarthy, Mr. Timothy J        & male                           & 54                             & 0                              & 0                              & 17463                          & 51.8625                        & E46                            & S                             \\\\\n",
       "\t  8                             & 0                              & 3                              & Palsson, Master. Gosta Leonard & male                           &  2                             & 3                              & 1                              & 349909                         & 21.0750                        &                                & S                             \\\\\n",
       "\t 13                             & 0                              & 3                              & Saundercock, Mr. William Henry & male                           & 20                             & 0                              & 0                              & A/5. 2151                      &  8.0500                        &                                & S                             \\\\\n",
       "\\end{tabular}\n"
      ],
      "text/markdown": [
       "\n",
       "| assengerId | Survived | Pclass | Name | Sex | Age | SibSp | Parch | Ticket | Fare | Cabin | Embarked |\n",
       "|---|---|---|---|---|---|---|---|---|---|---|---|\n",
       "|  1                             | 0                              | 3                              | Braund, Mr. Owen Harris        | male                           | 22                             | 1                              | 0                              | A/5 21171                      |  7.2500                        |                                | S                              |\n",
       "|  5                             | 0                              | 3                              | Allen, Mr. William Henry       | male                           | 35                             | 0                              | 0                              | 373450                         |  8.0500                        |                                | S                              |\n",
       "|  6                             | 0                              | 3                              | Moran, Mr. James               | male                           | NA                             | 0                              | 0                              | 330877                         |  8.4583                        |                                | Q                              |\n",
       "|  7                             | 0                              | 1                              | McCarthy, Mr. Timothy J        | male                           | 54                             | 0                              | 0                              | 17463                          | 51.8625                        | E46                            | S                              |\n",
       "|  8                             | 0                              | 3                              | Palsson, Master. Gosta Leonard | male                           |  2                             | 3                              | 1                              | 349909                         | 21.0750                        |                                | S                              |\n",
       "| 13                             | 0                              | 3                              | Saundercock, Mr. William Henry | male                           | 20                             | 0                              | 0                              | A/5. 2151                      |  8.0500                        |                                | S                              |\n",
       "\n"
      ],
      "text/plain": [
       "  assengerId Survived Pclass Name                           Sex  Age SibSp\n",
       "1  1         0        3      Braund, Mr. Owen Harris        male 22  1    \n",
       "2  5         0        3      Allen, Mr. William Henry       male 35  0    \n",
       "3  6         0        3      Moran, Mr. James               male NA  0    \n",
       "4  7         0        1      McCarthy, Mr. Timothy J        male 54  0    \n",
       "5  8         0        3      Palsson, Master. Gosta Leonard male  2  3    \n",
       "6 13         0        3      Saundercock, Mr. William Henry male 20  0    \n",
       "  Parch Ticket    Fare    Cabin Embarked\n",
       "1 0     A/5 21171  7.2500       S       \n",
       "2 0     373450     8.0500       S       \n",
       "3 0     330877     8.4583       Q       \n",
       "4 0     17463     51.8625 E46   S       \n",
       "5 1     349909    21.0750       S       \n",
       "6 0     A/5. 2151  8.0500       S       "
      ]
     },
     "metadata": {},
     "output_type": "display_data"
    }
   ],
   "source": [
    "head(train_df)"
   ]
  },
  {
   "cell_type": "code",
   "execution_count": 21,
   "id": "8f24daba",
   "metadata": {},
   "outputs": [],
   "source": [
    "#피처 컬럼은 연관성을 본 컬럼 중 데이터 종류 수가 작은 것부터 하는 게 좋다."
   ]
  },
  {
   "cell_type": "markdown",
   "id": "bda1fda2",
   "metadata": {},
   "source": [
    "### Sex컬럼 확인"
   ]
  },
  {
   "cell_type": "code",
   "execution_count": 22,
   "id": "3d58d6f7",
   "metadata": {},
   "outputs": [
    {
     "data": {
      "text/html": [
       "<ol class=list-inline>\n",
       "\t<li>male</li>\n",
       "\t<li>female</li>\n",
       "</ol>\n",
       "\n",
       "<details>\n",
       "\t<summary style=display:list-item;cursor:pointer>\n",
       "\t\t<strong>Levels</strong>:\n",
       "\t</summary>\n",
       "\t<ol class=list-inline>\n",
       "\t\t<li>'female'</li>\n",
       "\t\t<li>'male'</li>\n",
       "\t</ol>\n",
       "</details>"
      ],
      "text/latex": [
       "\\begin{enumerate*}\n",
       "\\item male\n",
       "\\item female\n",
       "\\end{enumerate*}\n",
       "\n",
       "\\emph{Levels}: \\begin{enumerate*}\n",
       "\\item 'female'\n",
       "\\item 'male'\n",
       "\\end{enumerate*}\n"
      ],
      "text/markdown": [
       "1. male\n",
       "2. female\n",
       "\n",
       "\n",
       "\n",
       "**Levels**: 1. 'female'\n",
       "2. 'male'\n",
       "\n",
       "\n"
      ],
      "text/plain": [
       "[1] male   female\n",
       "Levels: female male"
      ]
     },
     "metadata": {},
     "output_type": "display_data"
    }
   ],
   "source": [
    "# Sex 컬럼 분류 확인\n",
    "unique(train_df$Sex)"
   ]
  },
  {
   "cell_type": "code",
   "execution_count": 23,
   "id": "84a1a5f4",
   "metadata": {},
   "outputs": [
    {
     "data": {
      "text/html": [
       "314"
      ],
      "text/latex": [
       "314"
      ],
      "text/markdown": [
       "314"
      ],
      "text/plain": [
       "[1] 314"
      ]
     },
     "metadata": {},
     "output_type": "display_data"
    },
    {
     "data": {
      "text/html": [
       "577"
      ],
      "text/latex": [
       "577"
      ],
      "text/markdown": [
       "577"
      ],
      "text/plain": [
       "[1] 577"
      ]
     },
     "metadata": {},
     "output_type": "display_data"
    }
   ],
   "source": [
    "# 여성과 남성의 인원 확인\n",
    "femaleCount <- sum(train_df$Sex == \"female\"); femaleCount\n",
    "maleCount <- sum(train_df$Sex == \"male\"); maleCount"
   ]
  },
  {
   "cell_type": "code",
   "execution_count": 24,
   "id": "44df6ea4",
   "metadata": {},
   "outputs": [
    {
     "data": {
      "text/html": [
       "233"
      ],
      "text/latex": [
       "233"
      ],
      "text/markdown": [
       "233"
      ],
      "text/plain": [
       "[1] 233"
      ]
     },
     "metadata": {},
     "output_type": "display_data"
    },
    {
     "data": {
      "text/html": [
       "81"
      ],
      "text/latex": [
       "81"
      ],
      "text/markdown": [
       "81"
      ],
      "text/plain": [
       "[1] 81"
      ]
     },
     "metadata": {},
     "output_type": "display_data"
    }
   ],
   "source": [
    "# 여성의 생존수와 사망수\n",
    "femaleSurvived <- sum(train_df$Sex == \"female\" & train_df$Survived == 1); femaleSurvived\n",
    "femaleDeath <- sum(train_df$Sex == \"female\" & train_df$Survived == 0); femaleDeath"
   ]
  },
  {
   "cell_type": "code",
   "execution_count": 25,
   "id": "b74c3940",
   "metadata": {},
   "outputs": [
    {
     "data": {
      "text/html": [
       "109"
      ],
      "text/latex": [
       "109"
      ],
      "text/markdown": [
       "109"
      ],
      "text/plain": [
       "[1] 109"
      ]
     },
     "metadata": {},
     "output_type": "display_data"
    },
    {
     "data": {
      "text/html": [
       "468"
      ],
      "text/latex": [
       "468"
      ],
      "text/markdown": [
       "468"
      ],
      "text/plain": [
       "[1] 468"
      ]
     },
     "metadata": {},
     "output_type": "display_data"
    }
   ],
   "source": [
    "# 남성의 생존수와 사망수\n",
    "maleSurvived <- sum(train_df$Sex == \"male\" & train_df$Survived == 1); maleSurvived\n",
    "maleDeath <- sum(train_df$Sex == \"male\" & train_df$Survived == 0); maleDeath"
   ]
  },
  {
   "cell_type": "code",
   "execution_count": 26,
   "id": "2e658ef7",
   "metadata": {},
   "outputs": [
    {
     "name": "stdout",
     "output_type": "stream",
     "text": [
      "여성의 생존률 : 74.2%\n",
      "여성의 사망률 : 25.8%\n",
      "남성의 생존률 : 18.89%\n",
      "남성의 사망률 : 81.11%\n"
     ]
    }
   ],
   "source": [
    "# 여성의 생존율과 사망률\n",
    "\n",
    "femaleSurvivedRatio<-round(femaleSurvived/ femaleCount * 100,2)\n",
    "femaleDeathRatio<- round(femaleDeath/ femaleCount * 100,2)\n",
    "\n",
    "maleSurvivedRatio<-round(maleSurvived/ maleCount * 100,2)\n",
    "maleDeathRatio<-round(maleDeath/ maleCount * 100,2)\n",
    "\n",
    "cat(\"여성의 생존률 : \",femaleSurvivedRatio,\"%\\n여성의 사망률 : \",femaleDeathRatio,\"%\\n\", sep = \"\")\n",
    "cat(\"남성의 생존률 : \",maleSurvivedRatio,\"%\\n남성의 사망률 : \",maleDeathRatio,\"%\\n\", sep = \"\")"
   ]
  },
  {
   "cell_type": "markdown",
   "id": "8f9f8e8f",
   "metadata": {},
   "source": [
    ">Sex 컬럼 feature 컬럼으로 적합  \n",
    "> [Survived] <- [Sex]"
   ]
  },
  {
   "cell_type": "code",
   "execution_count": 27,
   "id": "321e4ff8",
   "metadata": {},
   "outputs": [
    {
     "data": {
      "image/png": "[encoded data removed]",
      "text/plain": [
       "Plot with title \"타이타닉호 남성 생존율\""
      ]
     },
     "metadata": {},
     "output_type": "display_data"
    }
   ],
   "source": [
    "par(family = \"AppleGothic\")\n",
    "options(warn = -1)\n",
    "#par(mflow = c(2,2))\n",
    "\n",
    "\n",
    "label = paste(c(\"사망\",\"생존\") ,\"\\n\",c(maleDeathRatio,maleSurvivedRatio), \"%\")\n",
    "\n",
    "\n",
    "pie3D(\n",
    "        c(maleDeathRatio,maleSurvivedRatio),\n",
    "        main = \"타이타닉호 남성 생존율\",\n",
    "        labels = label,\n",
    "        explode = 0.05,\n",
    "        labelcex = 1.5\n",
    "        )\n",
    "\n"
   ]
  },
  {
   "cell_type": "code",
   "execution_count": 28,
   "id": "eaea9a39",
   "metadata": {},
   "outputs": [
    {
     "data": {
      "image/png": "[encoded data removed]",
      "text/plain": [
       "Plot with title \"타이타닉호 남성 생존율\""
      ]
     },
     "metadata": {},
     "output_type": "display_data"
    }
   ],
   "source": [
    "par(family = \"AppleGothic\")\n",
    "options(warn = -1)\n",
    "\n",
    "\n",
    "label = paste(c(\"사망\",\"생존\") ,\"\\n\",c(femaleDeathRatio,femaleSurvivedRatio), \"%\")\n",
    "\n",
    "\n",
    "pie3D(\n",
    "        c(femaleDeathRatio,femaleSurvivedRatio),\n",
    "        main = \"타이타닉호 남성 생존율\",\n",
    "        labels = label,\n",
    "        explode = 0.05,\n",
    "        labelcex = 1.5\n",
    "        )"
   ]
  },
  {
   "cell_type": "code",
   "execution_count": 29,
   "id": "6da8d94f",
   "metadata": {},
   "outputs": [
    {
     "data": {
      "image/png": "[encoded data removed]",
      "text/plain": [
       "Plot with title \"성별별 승선 인원수\""
      ]
     },
     "metadata": {},
     "output_type": "display_data"
    }
   ],
   "source": [
    "par(family = \"AppleGothic\")\n",
    "options(warn = -1)\n",
    "barplot(\n",
    "        table(train_df$Sex),\n",
    "        main = \"성별별 승선 인원수\",\n",
    "        col = c(\"red\",\"blue\"),\n",
    "        ylim = c(0,600),\n",
    "        xlab = \"성별\",\n",
    "        ylab = \"인원수\",\n",
    "        names = c(\"여성\", \"남성\")\n",
    "        )"
   ]
  },
  {
   "cell_type": "code",
   "execution_count": 30,
   "id": "91306aba",
   "metadata": {},
   "outputs": [
    {
     "data": {
      "image/png": "[encoded data removed]",
      "text/plain": [
       "Plot with title \"성별별 승선 인원수\""
      ]
     },
     "metadata": {},
     "output_type": "display_data"
    }
   ],
   "source": [
    "par(family = \"AppleGothic\")\n",
    "options(warn = -1)\n",
    "par(mfrow = c(2,2))\n",
    "\n",
    "\n",
    "label = paste(c(\"사망\",\"생존\") ,\"\\n\",c(maleDeathRatio,maleSurvivedRatio), \"%\")\n",
    "\n",
    "\n",
    "pie3D(\n",
    "        c(maleDeathRatio,maleSurvivedRatio),\n",
    "        main = \"타이타닉호 남성 생존율\",\n",
    "        labels = label,\n",
    "        explode = 0.05,\n",
    "        labelcex = 1.5\n",
    "        )\n",
    "\n",
    "label = paste(c(\"사망\",\"생존\") ,\"\\n\",c(femaleDeathRatio,femaleSurvivedRatio), \"%\")\n",
    "\n",
    "\n",
    "pie3D(\n",
    "        c(femaleDeathRatio,femaleSurvivedRatio),\n",
    "        main = \"타이타닉호 남성 생존율\",\n",
    "        labels = label,\n",
    "        explode = 0.05,\n",
    "        labelcex = 1.5\n",
    "        )\n",
    "\n",
    "barplot(\n",
    "        table(train_df$Sex),\n",
    "        main = \"성별별 승선 인원수\",\n",
    "        col = c(\"red\",\"blue\"),\n",
    "        ylim = c(0,700),\n",
    "        xlab = \"성별\",\n",
    "        ylab = \"인원수\",\n",
    "        names = c(\"여성\", \"남성\")\n",
    "        )\n",
    "\n",
    "text(0.7,table(train_df$Sex)[1]+30,table(train_df$Sex)[1])\n",
    "text(1.9,table(train_df$Sex)[2]+30,table(train_df$Sex)[2])"
   ]
  },
  {
   "cell_type": "code",
   "execution_count": 31,
   "id": "c317ae30",
   "metadata": {},
   "outputs": [
    {
     "data": {
      "text/html": [
       "0.770491803278688"
      ],
      "text/latex": [
       "0.770491803278688"
      ],
      "text/markdown": [
       "0.770491803278688"
      ],
      "text/plain": [
       "[1] 0.7704918"
      ]
     },
     "metadata": {},
     "output_type": "display_data"
    },
    {
     "data": {
      "text/html": [
       "0.54419410745234"
      ],
      "text/latex": [
       "0.54419410745234"
      ],
      "text/markdown": [
       "0.54419410745234"
      ],
      "text/plain": [
       "[1] 0.5441941"
      ]
     },
     "metadata": {},
     "output_type": "display_data"
    }
   ],
   "source": [
    "sum(train_df$Sex == \"female\" & train_df$Pclass == 1)/sum(train_df$Sex == \"male\" & train_df$Pclass == 1)\n",
    "femaleCount/maleCount"
   ]
  },
  {
   "cell_type": "code",
   "execution_count": 32,
   "id": "6e118455",
   "metadata": {},
   "outputs": [
    {
     "data": {
      "text/html": [
       "144"
      ],
      "text/latex": [
       "144"
      ],
      "text/markdown": [
       "144"
      ],
      "text/plain": [
       "[1] 144"
      ]
     },
     "metadata": {},
     "output_type": "display_data"
    },
    {
     "data": {
      "text/html": [
       "347"
      ],
      "text/latex": [
       "347"
      ],
      "text/markdown": [
       "347"
      ],
      "text/plain": [
       "[1] 347"
      ]
     },
     "metadata": {},
     "output_type": "display_data"
    },
    {
     "data": {
      "text/html": [
       "72"
      ],
      "text/latex": [
       "72"
      ],
      "text/markdown": [
       "72"
      ],
      "text/plain": [
       "[1] 72"
      ]
     },
     "metadata": {},
     "output_type": "display_data"
    },
    {
     "data": {
      "text/html": [
       "47"
      ],
      "text/latex": [
       "47"
      ],
      "text/markdown": [
       "47"
      ],
      "text/plain": [
       "[1] 47"
      ]
     },
     "metadata": {},
     "output_type": "display_data"
    }
   ],
   "source": [
    "class3female <- sum(train_df$Sex == \"female\" & train_df$Pclass == 3) ; class3female\n",
    "class3male <- sum(train_df$Sex == \"male\" & train_df$Pclass == 3) ; class3male\n",
    "\n",
    "class3femaleSurv <- sum(train_df$Sex == \"female\" & train_df$Pclass == 3 & train_df$Survived == 1); class3femaleSurv\n",
    "class3maleSurv <- sum(train_df$Sex == \"male\" & train_df$Pclass == 3 & train_df$Survived == 1); class3maleSurv"
   ]
  },
  {
   "cell_type": "code",
   "execution_count": 33,
   "id": "682adf1f",
   "metadata": {},
   "outputs": [
    {
     "data": {
      "text/html": [
       "<table>\n",
       "<thead><tr><th scope=col>assengerId</th><th scope=col>Survived</th><th scope=col>Pclass</th><th scope=col>Name</th><th scope=col>Sex</th><th scope=col>Age</th><th scope=col>SibSp</th><th scope=col>Parch</th><th scope=col>Ticket</th><th scope=col>Fare</th><th scope=col>Cabin</th><th scope=col>Embarked</th></tr></thead>\n",
       "<tbody>\n",
       "\t<tr><td> 1                            </td><td>0                             </td><td>3                             </td><td>Braund, Mr. Owen Harris       </td><td>male                          </td><td>22                            </td><td>1                             </td><td>0                             </td><td>A/5 21171                     </td><td> 7.2500                       </td><td>                              </td><td>S                             </td></tr>\n",
       "\t<tr><td> 5                            </td><td>0                             </td><td>3                             </td><td>Allen, Mr. William Henry      </td><td>male                          </td><td>35                            </td><td>0                             </td><td>0                             </td><td>373450                        </td><td> 8.0500                       </td><td>                              </td><td>S                             </td></tr>\n",
       "\t<tr><td> 6                            </td><td>0                             </td><td>3                             </td><td>Moran, Mr. James              </td><td>male                          </td><td>NA                            </td><td>0                             </td><td>0                             </td><td>330877                        </td><td> 8.4583                       </td><td>                              </td><td>Q                             </td></tr>\n",
       "\t<tr><td> 7                            </td><td>0                             </td><td>1                             </td><td>McCarthy, Mr. Timothy J       </td><td>male                          </td><td>54                            </td><td>0                             </td><td>0                             </td><td>17463                         </td><td>51.8625                       </td><td>E46                           </td><td>S                             </td></tr>\n",
       "\t<tr><td> 8                            </td><td>0                             </td><td>3                             </td><td>Palsson, Master. Gosta Leonard</td><td>male                          </td><td> 2                            </td><td>3                             </td><td>1                             </td><td>349909                        </td><td>21.0750                       </td><td>                              </td><td>S                             </td></tr>\n",
       "\t<tr><td>13                            </td><td>0                             </td><td>3                             </td><td>Saundercock, Mr. William Henry</td><td>male                          </td><td>20                            </td><td>0                             </td><td>0                             </td><td>A/5. 2151                     </td><td> 8.0500                       </td><td>                              </td><td>S                             </td></tr>\n",
       "</tbody>\n",
       "</table>\n"
      ],
      "text/latex": [
       "\\begin{tabular}{r|llllllllllll}\n",
       " assengerId & Survived & Pclass & Name & Sex & Age & SibSp & Parch & Ticket & Fare & Cabin & Embarked\\\\\n",
       "\\hline\n",
       "\t  1                             & 0                              & 3                              & Braund, Mr. Owen Harris        & male                           & 22                             & 1                              & 0                              & A/5 21171                      &  7.2500                        &                                & S                             \\\\\n",
       "\t  5                             & 0                              & 3                              & Allen, Mr. William Henry       & male                           & 35                             & 0                              & 0                              & 373450                         &  8.0500                        &                                & S                             \\\\\n",
       "\t  6                             & 0                              & 3                              & Moran, Mr. James               & male                           & NA                             & 0                              & 0                              & 330877                         &  8.4583                        &                                & Q                             \\\\\n",
       "\t  7                             & 0                              & 1                              & McCarthy, Mr. Timothy J        & male                           & 54                             & 0                              & 0                              & 17463                          & 51.8625                        & E46                            & S                             \\\\\n",
       "\t  8                             & 0                              & 3                              & Palsson, Master. Gosta Leonard & male                           &  2                             & 3                              & 1                              & 349909                         & 21.0750                        &                                & S                             \\\\\n",
       "\t 13                             & 0                              & 3                              & Saundercock, Mr. William Henry & male                           & 20                             & 0                              & 0                              & A/5. 2151                      &  8.0500                        &                                & S                             \\\\\n",
       "\\end{tabular}\n"
      ],
      "text/markdown": [
       "\n",
       "| assengerId | Survived | Pclass | Name | Sex | Age | SibSp | Parch | Ticket | Fare | Cabin | Embarked |\n",
       "|---|---|---|---|---|---|---|---|---|---|---|---|\n",
       "|  1                             | 0                              | 3                              | Braund, Mr. Owen Harris        | male                           | 22                             | 1                              | 0                              | A/5 21171                      |  7.2500                        |                                | S                              |\n",
       "|  5                             | 0                              | 3                              | Allen, Mr. William Henry       | male                           | 35                             | 0                              | 0                              | 373450                         |  8.0500                        |                                | S                              |\n",
       "|  6                             | 0                              | 3                              | Moran, Mr. James               | male                           | NA                             | 0                              | 0                              | 330877                         |  8.4583                        |                                | Q                              |\n",
       "|  7                             | 0                              | 1                              | McCarthy, Mr. Timothy J        | male                           | 54                             | 0                              | 0                              | 17463                          | 51.8625                        | E46                            | S                              |\n",
       "|  8                             | 0                              | 3                              | Palsson, Master. Gosta Leonard | male                           |  2                             | 3                              | 1                              | 349909                         | 21.0750                        |                                | S                              |\n",
       "| 13                             | 0                              | 3                              | Saundercock, Mr. William Henry | male                           | 20                             | 0                              | 0                              | A/5. 2151                      |  8.0500                        |                                | S                              |\n",
       "\n"
      ],
      "text/plain": [
       "  assengerId Survived Pclass Name                           Sex  Age SibSp\n",
       "1  1         0        3      Braund, Mr. Owen Harris        male 22  1    \n",
       "2  5         0        3      Allen, Mr. William Henry       male 35  0    \n",
       "3  6         0        3      Moran, Mr. James               male NA  0    \n",
       "4  7         0        1      McCarthy, Mr. Timothy J        male 54  0    \n",
       "5  8         0        3      Palsson, Master. Gosta Leonard male  2  3    \n",
       "6 13         0        3      Saundercock, Mr. William Henry male 20  0    \n",
       "  Parch Ticket    Fare    Cabin Embarked\n",
       "1 0     A/5 21171  7.2500       S       \n",
       "2 0     373450     8.0500       S       \n",
       "3 0     330877     8.4583       Q       \n",
       "4 0     17463     51.8625 E46   S       \n",
       "5 1     349909    21.0750       S       \n",
       "6 0     A/5. 2151  8.0500       S       "
      ]
     },
     "metadata": {},
     "output_type": "display_data"
    }
   ],
   "source": [
    "head(train_df)"
   ]
  },
  {
   "cell_type": "code",
   "execution_count": 34,
   "id": "eb30a00b",
   "metadata": {},
   "outputs": [
    {
     "data": {
      "text/html": [
       "<table>\n",
       "<thead><tr><th scope=col>Sex</th><th scope=col>Survived</th><th scope=col>Pclass</th><th scope=col>Parch</th></tr></thead>\n",
       "<tbody>\n",
       "\t<tr><td>female   </td><td>0        </td><td>1        </td><td>1.3333333</td></tr>\n",
       "\t<tr><td>male     </td><td>0        </td><td>1        </td><td>0.2597403</td></tr>\n",
       "\t<tr><td>female   </td><td>1        </td><td>1        </td><td>0.4285714</td></tr>\n",
       "\t<tr><td>male     </td><td>1        </td><td>1        </td><td>0.3111111</td></tr>\n",
       "\t<tr><td>female   </td><td>0        </td><td>2        </td><td>0.1666667</td></tr>\n",
       "\t<tr><td>male     </td><td>0        </td><td>2        </td><td>0.1428571</td></tr>\n",
       "\t<tr><td>female   </td><td>1        </td><td>2        </td><td>0.6428571</td></tr>\n",
       "\t<tr><td>male     </td><td>1        </td><td>2        </td><td>0.6470588</td></tr>\n",
       "\t<tr><td>female   </td><td>0        </td><td>3        </td><td>1.0972222</td></tr>\n",
       "\t<tr><td>male     </td><td>0        </td><td>3        </td><td>0.2133333</td></tr>\n",
       "\t<tr><td>female   </td><td>1        </td><td>3        </td><td>0.5000000</td></tr>\n",
       "\t<tr><td>male     </td><td>1        </td><td>3        </td><td>0.2978723</td></tr>\n",
       "</tbody>\n",
       "</table>\n"
      ],
      "text/latex": [
       "\\begin{tabular}{r|llll}\n",
       " Sex & Survived & Pclass & Parch\\\\\n",
       "\\hline\n",
       "\t female    & 0         & 1         & 1.3333333\\\\\n",
       "\t male      & 0         & 1         & 0.2597403\\\\\n",
       "\t female    & 1         & 1         & 0.4285714\\\\\n",
       "\t male      & 1         & 1         & 0.3111111\\\\\n",
       "\t female    & 0         & 2         & 0.1666667\\\\\n",
       "\t male      & 0         & 2         & 0.1428571\\\\\n",
       "\t female    & 1         & 2         & 0.6428571\\\\\n",
       "\t male      & 1         & 2         & 0.6470588\\\\\n",
       "\t female    & 0         & 3         & 1.0972222\\\\\n",
       "\t male      & 0         & 3         & 0.2133333\\\\\n",
       "\t female    & 1         & 3         & 0.5000000\\\\\n",
       "\t male      & 1         & 3         & 0.2978723\\\\\n",
       "\\end{tabular}\n"
      ],
      "text/markdown": [
       "\n",
       "| Sex | Survived | Pclass | Parch |\n",
       "|---|---|---|---|\n",
       "| female    | 0         | 1         | 1.3333333 |\n",
       "| male      | 0         | 1         | 0.2597403 |\n",
       "| female    | 1         | 1         | 0.4285714 |\n",
       "| male      | 1         | 1         | 0.3111111 |\n",
       "| female    | 0         | 2         | 0.1666667 |\n",
       "| male      | 0         | 2         | 0.1428571 |\n",
       "| female    | 1         | 2         | 0.6428571 |\n",
       "| male      | 1         | 2         | 0.6470588 |\n",
       "| female    | 0         | 3         | 1.0972222 |\n",
       "| male      | 0         | 3         | 0.2133333 |\n",
       "| female    | 1         | 3         | 0.5000000 |\n",
       "| male      | 1         | 3         | 0.2978723 |\n",
       "\n"
      ],
      "text/plain": [
       "   Sex    Survived Pclass Parch    \n",
       "1  female 0        1      1.3333333\n",
       "2  male   0        1      0.2597403\n",
       "3  female 1        1      0.4285714\n",
       "4  male   1        1      0.3111111\n",
       "5  female 0        2      0.1666667\n",
       "6  male   0        2      0.1428571\n",
       "7  female 1        2      0.6428571\n",
       "8  male   1        2      0.6470588\n",
       "9  female 0        3      1.0972222\n",
       "10 male   0        3      0.2133333\n",
       "11 female 1        3      0.5000000\n",
       "12 male   1        3      0.2978723"
      ]
     },
     "metadata": {},
     "output_type": "display_data"
    }
   ],
   "source": [
    "aggregate(Parch ~ Sex+Survived+Pclass ,data=train_df, mean)"
   ]
  },
  {
   "cell_type": "code",
   "execution_count": 35,
   "id": "360a0a9d",
   "metadata": {},
   "outputs": [],
   "source": [
    "#table(train_df[,])"
   ]
  },
  {
   "cell_type": "code",
   "execution_count": 36,
   "id": "23ec87e3",
   "metadata": {},
   "outputs": [
    {
     "data": {
      "text/html": [
       "<table>\n",
       "<thead><tr><th></th><th scope=col>assengerId</th><th scope=col>Survived</th><th scope=col>Pclass</th><th scope=col>Name</th><th scope=col>Sex</th><th scope=col>Age</th><th scope=col>SibSp</th><th scope=col>Parch</th><th scope=col>Ticket</th><th scope=col>Fare</th><th scope=col>Cabin</th><th scope=col>Embarked</th></tr></thead>\n",
       "<tbody>\n",
       "\t<tr><th scope=row>80</th><td>886                                                                               </td><td>0                                                                                 </td><td>3                                                                                 </td><td>Rice, Mrs. William (Margaret Norton)                                              </td><td>female                                                                            </td><td>39                                                                                </td><td>0                                                                                 </td><td>5                                                                                 </td><td>382652                                                                            </td><td> 29.1250                                                                          </td><td>                                                                                  </td><td>Q                                                                                 </td></tr>\n",
       "\t<tr><th scope=row>81</th><td>889                                                                               </td><td>0                                                                                 </td><td>3                                                                                 </td><td>Johnston, Miss. Catherine Helen \"Carrie\"                                          </td><td>female                                                                            </td><td>NA                                                                                </td><td>1                                                                                 </td><td>2                                                                                 </td><td>W./C. 6607                                                                        </td><td> 23.4500                                                                          </td><td>                                                                                  </td><td>S                                                                                 </td></tr>\n",
       "\t<tr><th scope=row>82</th><td>  2                                                                               </td><td>1                                                                                 </td><td>1                                                                                 </td><td>Cumings, Mrs. John Bradley (Florence Briggs Thayer)                               </td><td>female                                                                            </td><td>38                                                                                </td><td>1                                                                                 </td><td>0                                                                                 </td><td>PC 17599                                                                          </td><td> 71.2833                                                                          </td><td>C85                                                                               </td><td>C                                                                                 </td></tr>\n",
       "\t<tr><th scope=row>83</th><td>  4                                                                               </td><td>1                                                                                 </td><td>1                                                                                 </td><td>Futrelle, Mrs. Jacques Heath (Lily May Peel)                                      </td><td>female                                                                            </td><td>35                                                                                </td><td>1                                                                                 </td><td>0                                                                                 </td><td>113803                                                                            </td><td> 53.1000                                                                          </td><td>C123                                                                              </td><td>S                                                                                 </td></tr>\n",
       "\t<tr><th scope=row>84</th><td> 12                                                                               </td><td>1                                                                                 </td><td>1                                                                                 </td><td>Bonnell, Miss. Elizabeth                                                          </td><td>female                                                                            </td><td>58                                                                                </td><td>0                                                                                 </td><td>0                                                                                 </td><td>113783                                                                            </td><td> 26.5500                                                                          </td><td>C103                                                                              </td><td>S                                                                                 </td></tr>\n",
       "\t<tr><th scope=row>85</th><td> 32                                                                               </td><td>1                                                                                 </td><td>1                                                                                 </td><td>Spencer, Mrs. William Augustus (Marie Eugenie)                                    </td><td>female                                                                            </td><td>NA                                                                                </td><td>1                                                                                 </td><td>0                                                                                 </td><td>PC 17569                                                                          </td><td>146.5208                                                                          </td><td>B78                                                                               </td><td>C                                                                                 </td></tr>\n",
       "\t<tr><th scope=row>86</th><td> 53                                                                               </td><td>1                                                                                 </td><td>1                                                                                 </td><td>Harper, Mrs. Henry Sleeper (Myna Haxtun)                                          </td><td>female                                                                            </td><td>49                                                                                </td><td>1                                                                                 </td><td>0                                                                                 </td><td>PC 17572                                                                          </td><td> 76.7292                                                                          </td><td>D33                                                                               </td><td>C                                                                                 </td></tr>\n",
       "\t<tr><th scope=row>87</th><td> 62                                                                               </td><td>1                                                                                 </td><td>1                                                                                 </td><td>Icard, Miss. Amelie                                                               </td><td>female                                                                            </td><td>38                                                                                </td><td>0                                                                                 </td><td>0                                                                                 </td><td>113572                                                                            </td><td> 80.0000                                                                          </td><td>B28                                                                               </td><td>                                                                                  </td></tr>\n",
       "\t<tr><th scope=row>88</th><td> 89                                                                               </td><td>1                                                                                 </td><td>1                                                                                 </td><td>Fortune, Miss. Mabel Helen                                                        </td><td>female                                                                            </td><td>23                                                                                </td><td>3                                                                                 </td><td>2                                                                                 </td><td>19950                                                                             </td><td>263.0000                                                                          </td><td>C23 C25 C27                                                                       </td><td>S                                                                                 </td></tr>\n",
       "\t<tr><th scope=row>89</th><td>137                                                                               </td><td>1                                                                                 </td><td>1                                                                                 </td><td>Newsom, Miss. Helen Monypeny                                                      </td><td>female                                                                            </td><td>19                                                                                </td><td>0                                                                                 </td><td>2                                                                                 </td><td>11752                                                                             </td><td> 26.2833                                                                          </td><td>D47                                                                               </td><td>S                                                                                 </td></tr>\n",
       "\t<tr><th scope=row>90</th><td>152                                                                               </td><td>1                                                                                 </td><td>1                                                                                 </td><td>Pears, Mrs. Thomas (Edith Wearne)                                                 </td><td>female                                                                            </td><td>22                                                                                </td><td>1                                                                                 </td><td>0                                                                                 </td><td>113776                                                                            </td><td> 66.6000                                                                          </td><td>C2                                                                                </td><td>S                                                                                 </td></tr>\n",
       "\t<tr><th scope=row>91</th><td>167                                                                               </td><td>1                                                                                 </td><td>1                                                                                 </td><td>Chibnall, Mrs. (Edith Martha Bowerman)                                            </td><td>female                                                                            </td><td>NA                                                                                </td><td>0                                                                                 </td><td>1                                                                                 </td><td>113505                                                                            </td><td> 55.0000                                                                          </td><td>E33                                                                               </td><td>S                                                                                 </td></tr>\n",
       "\t<tr><th scope=row>92</th><td>195                                                                               </td><td>1                                                                                 </td><td>1                                                                                 </td><td>Brown, Mrs. James Joseph (Margaret Tobin)                                         </td><td>female                                                                            </td><td>44                                                                                </td><td>0                                                                                 </td><td>0                                                                                 </td><td>PC 17610                                                                          </td><td> 27.7208                                                                          </td><td>B4                                                                                </td><td>C                                                                                 </td></tr>\n",
       "\t<tr><th scope=row>93</th><td>196                                                                               </td><td>1                                                                                 </td><td>1                                                                                 </td><td>Lurette, Miss. Elise                                                              </td><td>female                                                                            </td><td>58                                                                                </td><td>0                                                                                 </td><td>0                                                                                 </td><td>PC 17569                                                                          </td><td>146.5208                                                                          </td><td>B80                                                                               </td><td>C                                                                                 </td></tr>\n",
       "\t<tr><th scope=row>94</th><td>216                                                                               </td><td>1                                                                                 </td><td>1                                                                                 </td><td>Newell, Miss. Madeleine                                                           </td><td>female                                                                            </td><td>31                                                                                </td><td>1                                                                                 </td><td>0                                                                                 </td><td>35273                                                                             </td><td>113.2750                                                                          </td><td>D36                                                                               </td><td>C                                                                                 </td></tr>\n",
       "\t<tr><th scope=row>95</th><td>219                                                                               </td><td>1                                                                                 </td><td>1                                                                                 </td><td>Bazzani, Miss. Albina                                                             </td><td>female                                                                            </td><td>32                                                                                </td><td>0                                                                                 </td><td>0                                                                                 </td><td>11813                                                                             </td><td> 76.2917                                                                          </td><td>D15                                                                               </td><td>C                                                                                 </td></tr>\n",
       "\t<tr><th scope=row>96</th><td>231                                                                               </td><td>1                                                                                 </td><td>1                                                                                 </td><td>Harris, Mrs. Henry Birkhardt (Irene Wallach)                                      </td><td>female                                                                            </td><td>35                                                                                </td><td>1                                                                                 </td><td>0                                                                                 </td><td>36973                                                                             </td><td> 83.4750                                                                          </td><td>C83                                                                               </td><td>S                                                                                 </td></tr>\n",
       "\t<tr><th scope=row>97</th><td>257                                                                               </td><td>1                                                                                 </td><td>1                                                                                 </td><td>Thorne, Mrs. Gertrude Maybelle                                                    </td><td>female                                                                            </td><td>NA                                                                                </td><td>0                                                                                 </td><td>0                                                                                 </td><td>PC 17585                                                                          </td><td> 79.2000                                                                          </td><td>                                                                                  </td><td>C                                                                                 </td></tr>\n",
       "\t<tr><th scope=row>98</th><td>258                                                                               </td><td>1                                                                                 </td><td>1                                                                                 </td><td>Cherry, Miss. Gladys                                                              </td><td>female                                                                            </td><td>30                                                                                </td><td>0                                                                                 </td><td>0                                                                                 </td><td>110152                                                                            </td><td> 86.5000                                                                          </td><td>B77                                                                               </td><td>S                                                                                 </td></tr>\n",
       "\t<tr><th scope=row>99</th><td>259                                                                               </td><td>1                                                                                 </td><td>1                                                                                 </td><td>Ward, Miss. Anna                                                                  </td><td>female                                                                            </td><td>35                                                                                </td><td>0                                                                                 </td><td>0                                                                                 </td><td>PC 17755                                                                          </td><td>512.3292                                                                          </td><td>                                                                                  </td><td>C                                                                                 </td></tr>\n",
       "\t<tr><th scope=row>100</th><td>269                                                                               </td><td>1                                                                                 </td><td>1                                                                                 </td><td>Graham, Mrs. William Thompson (Edith Junkins)                                     </td><td>female                                                                            </td><td>58                                                                                </td><td>0                                                                                 </td><td>1                                                                                 </td><td>PC 17582                                                                          </td><td>153.4625                                                                          </td><td>C125                                                                              </td><td>S                                                                                 </td></tr>\n",
       "\t<tr><th scope=row>101</th><td>270                                                                               </td><td>1                                                                                 </td><td>1                                                                                 </td><td>Bissette, Miss. Amelia                                                            </td><td>female                                                                            </td><td>35                                                                                </td><td>0                                                                                 </td><td>0                                                                                 </td><td>PC 17760                                                                          </td><td>135.6333                                                                          </td><td>C99                                                                               </td><td>S                                                                                 </td></tr>\n",
       "\t<tr><th scope=row>102</th><td>276                                                                               </td><td>1                                                                                 </td><td>1                                                                                 </td><td>Andrews, Miss. Kornelia Theodosia                                                 </td><td>female                                                                            </td><td>63                                                                                </td><td>1                                                                                 </td><td>0                                                                                 </td><td>13502                                                                             </td><td> 77.9583                                                                          </td><td>D7                                                                                </td><td>S                                                                                 </td></tr>\n",
       "\t<tr><th scope=row>103</th><td>291                                                                               </td><td>1                                                                                 </td><td>1                                                                                 </td><td>Barber, Miss. Ellen \"Nellie\"                                                      </td><td>female                                                                            </td><td>26                                                                                </td><td>0                                                                                 </td><td>0                                                                                 </td><td>19877                                                                             </td><td> 78.8500                                                                          </td><td>                                                                                  </td><td>S                                                                                 </td></tr>\n",
       "\t<tr><th scope=row>104</th><td>292                                                                               </td><td>1                                                                                 </td><td>1                                                                                 </td><td>Bishop, Mrs. Dickinson H (Helen Walton)                                           </td><td>female                                                                            </td><td>19                                                                                </td><td>1                                                                                 </td><td>0                                                                                 </td><td>11967                                                                             </td><td> 91.0792                                                                          </td><td>B49                                                                               </td><td>C                                                                                 </td></tr>\n",
       "\t<tr><th scope=row>105</th><td>300                                                                               </td><td>1                                                                                 </td><td>1                                                                                 </td><td>Baxter, Mrs. James (Helene DeLaudeniere Chaput)                                   </td><td>female                                                                            </td><td>50                                                                                </td><td>0                                                                                 </td><td>1                                                                                 </td><td>PC 17558                                                                          </td><td>247.5208                                                                          </td><td>B58 B60                                                                           </td><td>C                                                                                 </td></tr>\n",
       "\t<tr><th scope=row>106</th><td>307                                                                               </td><td>1                                                                                 </td><td>1                                                                                 </td><td>Fleming, Miss. Margaret                                                           </td><td>female                                                                            </td><td>NA                                                                                </td><td>0                                                                                 </td><td>0                                                                                 </td><td>17421                                                                             </td><td>110.8833                                                                          </td><td>                                                                                  </td><td>C                                                                                 </td></tr>\n",
       "\t<tr><th scope=row>107</th><td>308                                                                               </td><td>1                                                                                 </td><td>1                                                                                 </td><td>Penasco y Castellana, Mrs. Victor de Satode (Maria Josefa Perez de Soto y Vallejo)</td><td>female                                                                            </td><td>17                                                                                </td><td>1                                                                                 </td><td>0                                                                                 </td><td>PC 17758                                                                          </td><td>108.9000                                                                          </td><td>C65                                                                               </td><td>C                                                                                 </td></tr>\n",
       "\t<tr><th scope=row>108</th><td>310                                                                               </td><td>1                                                                                 </td><td>1                                                                                 </td><td>Francatelli, Miss. Laura Mabel                                                    </td><td>female                                                                            </td><td>30                                                                                </td><td>0                                                                                 </td><td>0                                                                                 </td><td>PC 17485                                                                          </td><td> 56.9292                                                                          </td><td>E36                                                                               </td><td>C                                                                                 </td></tr>\n",
       "\t<tr><th scope=row>109</th><td>311                                                                               </td><td>1                                                                                 </td><td>1                                                                                 </td><td>Hays, Miss. Margaret Bechstein                                                    </td><td>female                                                                            </td><td>24                                                                                </td><td>0                                                                                 </td><td>0                                                                                 </td><td>11767                                                                             </td><td> 83.1583                                                                          </td><td>C54                                                                               </td><td>C                                                                                 </td></tr>\n",
       "\t<tr><th scope=row>...</th><td>...</td><td>...</td><td>...</td><td>...</td><td>...</td><td>...</td><td>...</td><td>...</td><td>...</td><td>...</td><td>...</td><td>...</td></tr>\n",
       "\t<tr><th scope=row>141</th><td>582                                                     </td><td>1                                                       </td><td>1                                                       </td><td>Thayer, Mrs. John Borland (Marian Longstreth Morris)    </td><td>female                                                  </td><td>39                                                      </td><td>1                                                       </td><td>1                                                       </td><td>17421                                                   </td><td>110.8833                                                </td><td>C68                                                     </td><td>C                                                       </td></tr>\n",
       "\t<tr><th scope=row>142</th><td>586                                                     </td><td>1                                                       </td><td>1                                                       </td><td>Taussig, Miss. Ruth                                     </td><td>female                                                  </td><td>18                                                      </td><td>0                                                       </td><td>2                                                       </td><td>110413                                                  </td><td> 79.6500                                                </td><td>E68                                                     </td><td>S                                                       </td></tr>\n",
       "\t<tr><th scope=row>143</th><td>592                                                     </td><td>1                                                       </td><td>1                                                       </td><td>Stephenson, Mrs. Walter Bertram (Martha Eustis)         </td><td>female                                                  </td><td>52                                                      </td><td>1                                                       </td><td>0                                                       </td><td>36947                                                   </td><td> 78.2667                                                </td><td>D20                                                     </td><td>C                                                       </td></tr>\n",
       "\t<tr><th scope=row>144</th><td>610                                                     </td><td>1                                                       </td><td>1                                                       </td><td>Shutes, Miss. Elizabeth W                               </td><td>female                                                  </td><td>40                                                      </td><td>0                                                       </td><td>0                                                       </td><td>PC 17582                                                </td><td>153.4625                                                </td><td>C125                                                    </td><td>S                                                       </td></tr>\n",
       "\t<tr><th scope=row>145</th><td>628                                                     </td><td>1                                                       </td><td>1                                                       </td><td>Longley, Miss. Gretchen Fiske                           </td><td>female                                                  </td><td>21                                                      </td><td>0                                                       </td><td>0                                                       </td><td>13502                                                   </td><td> 77.9583                                                </td><td>D9                                                      </td><td>S                                                       </td></tr>\n",
       "\t<tr><th scope=row>146</th><td>642                                                     </td><td>1                                                       </td><td>1                                                       </td><td>Sagesser, Mlle. Emma                                    </td><td>female                                                  </td><td>24                                                      </td><td>0                                                       </td><td>0                                                       </td><td>PC 17477                                                </td><td> 69.3000                                                </td><td>B35                                                     </td><td>C                                                       </td></tr>\n",
       "\t<tr><th scope=row>147</th><td>670                                                     </td><td>1                                                       </td><td>1                                                       </td><td>Taylor, Mrs. Elmer Zebley (Juliet Cummins Wright)       </td><td>female                                                  </td><td>NA                                                      </td><td>1                                                       </td><td>0                                                       </td><td>19996                                                   </td><td> 52.0000                                                </td><td>C126                                                    </td><td>S                                                       </td></tr>\n",
       "\t<tr><th scope=row>148</th><td>690                                                     </td><td>1                                                       </td><td>1                                                       </td><td>Madill, Miss. Georgette Alexandra                       </td><td>female                                                  </td><td>15                                                      </td><td>0                                                       </td><td>1                                                       </td><td>24160                                                   </td><td>211.3375                                                </td><td>B5                                                      </td><td>S                                                       </td></tr>\n",
       "\t<tr><th scope=row>149</th><td>701                                                     </td><td>1                                                       </td><td>1                                                       </td><td>Astor, Mrs. John Jacob (Madeleine Talmadge Force)       </td><td>female                                                  </td><td>18                                                      </td><td>1                                                       </td><td>0                                                       </td><td>PC 17757                                                </td><td>227.5250                                                </td><td>C62 C64                                                 </td><td>C                                                       </td></tr>\n",
       "\t<tr><th scope=row>150</th><td>709                                                     </td><td>1                                                       </td><td>1                                                       </td><td>Cleaver, Miss. Alice                                    </td><td>female                                                  </td><td>22                                                      </td><td>0                                                       </td><td>0                                                       </td><td>113781                                                  </td><td>151.5500                                                </td><td>                                                        </td><td>S                                                       </td></tr>\n",
       "\t<tr><th scope=row>151</th><td>711                                                     </td><td>1                                                       </td><td>1                                                       </td><td>Mayne, Mlle. Berthe Antonine (\"Mrs de Villiers\")        </td><td>female                                                  </td><td>24                                                      </td><td>0                                                       </td><td>0                                                       </td><td>PC 17482                                                </td><td> 49.5042                                                </td><td>C90                                                     </td><td>C                                                       </td></tr>\n",
       "\t<tr><th scope=row>152</th><td>717                                                     </td><td>1                                                       </td><td>1                                                       </td><td>Endres, Miss. Caroline Louise                           </td><td>female                                                  </td><td>38                                                      </td><td>0                                                       </td><td>0                                                       </td><td>PC 17757                                                </td><td>227.5250                                                </td><td>C45                                                     </td><td>C                                                       </td></tr>\n",
       "\t<tr><th scope=row>153</th><td>731                                                     </td><td>1                                                       </td><td>1                                                       </td><td>Allen, Miss. Elisabeth Walton                           </td><td>female                                                  </td><td>29                                                      </td><td>0                                                       </td><td>0                                                       </td><td>24160                                                   </td><td>211.3375                                                </td><td>B5                                                      </td><td>S                                                       </td></tr>\n",
       "\t<tr><th scope=row>154</th><td>743                                                     </td><td>1                                                       </td><td>1                                                       </td><td>Ryerson, Miss. Susan Parker \"Suzette\"                   </td><td>female                                                  </td><td>21                                                      </td><td>2                                                       </td><td>2                                                       </td><td>PC 17608                                                </td><td>262.3750                                                </td><td>B57 B59 B63 B66                                         </td><td>C                                                       </td></tr>\n",
       "\t<tr><th scope=row>155</th><td>760                                                     </td><td>1                                                       </td><td>1                                                       </td><td>Rothes, the Countess. of (Lucy Noel Martha Dyer-Edwards)</td><td>female                                                  </td><td>33                                                      </td><td>0                                                       </td><td>0                                                       </td><td>110152                                                  </td><td> 86.5000                                                </td><td>B77                                                     </td><td>S                                                       </td></tr>\n",
       "\t<tr><th scope=row>156</th><td>764                                                     </td><td>1                                                       </td><td>1                                                       </td><td>Carter, Mrs. William Ernest (Lucile Polk)               </td><td>female                                                  </td><td>36                                                      </td><td>1                                                       </td><td>2                                                       </td><td>113760                                                  </td><td>120.0000                                                </td><td>B96 B98                                                 </td><td>S                                                       </td></tr>\n",
       "\t<tr><th scope=row>157</th><td>766                                                     </td><td>1                                                       </td><td>1                                                       </td><td>Hogeboom, Mrs. John C (Anna Andrews)                    </td><td>female                                                  </td><td>51                                                      </td><td>1                                                       </td><td>0                                                       </td><td>13502                                                   </td><td> 77.9583                                                </td><td>D11                                                     </td><td>S                                                       </td></tr>\n",
       "\t<tr><th scope=row>158</th><td>780                                                     </td><td>1                                                       </td><td>1                                                       </td><td>Robert, Mrs. Edward Scott (Elisabeth Walton McMillan)   </td><td>female                                                  </td><td>43                                                      </td><td>0                                                       </td><td>1                                                       </td><td>24160                                                   </td><td>211.3375                                                </td><td>B3                                                      </td><td>S                                                       </td></tr>\n",
       "\t<tr><th scope=row>159</th><td>782                                                     </td><td>1                                                       </td><td>1                                                       </td><td>Dick, Mrs. Albert Adrian (Vera Gillespie)               </td><td>female                                                  </td><td>17                                                      </td><td>1                                                       </td><td>0                                                       </td><td>17474                                                   </td><td> 57.0000                                                </td><td>B20                                                     </td><td>S                                                       </td></tr>\n",
       "\t<tr><th scope=row>160</th><td>797                                                     </td><td>1                                                       </td><td>1                                                       </td><td>Leader, Dr. Alice (Farnham)                             </td><td>female                                                  </td><td>49                                                      </td><td>0                                                       </td><td>0                                                       </td><td>17465                                                   </td><td> 25.9292                                                </td><td>D17                                                     </td><td>S                                                       </td></tr>\n",
       "\t<tr><th scope=row>161</th><td>810                                                     </td><td>1                                                       </td><td>1                                                       </td><td>Chambers, Mrs. Norman Campbell (Bertha Griggs)          </td><td>female                                                  </td><td>33                                                      </td><td>1                                                       </td><td>0                                                       </td><td>113806                                                  </td><td> 53.1000                                                </td><td>E8                                                      </td><td>S                                                       </td></tr>\n",
       "\t<tr><th scope=row>162</th><td>821                                                     </td><td>1                                                       </td><td>1                                                       </td><td>Hays, Mrs. Charles Melville (Clara Jennings Gregg)      </td><td>female                                                  </td><td>52                                                      </td><td>1                                                       </td><td>1                                                       </td><td>12749                                                   </td><td> 93.5000                                                </td><td>B69                                                     </td><td>S                                                       </td></tr>\n",
       "\t<tr><th scope=row>163</th><td>830                                                     </td><td>1                                                       </td><td>1                                                       </td><td>Stone, Mrs. George Nelson (Martha Evelyn)               </td><td>female                                                  </td><td>62                                                      </td><td>0                                                       </td><td>0                                                       </td><td>113572                                                  </td><td> 80.0000                                                </td><td>B28                                                     </td><td>                                                        </td></tr>\n",
       "\t<tr><th scope=row>164</th><td>836                                                     </td><td>1                                                       </td><td>1                                                       </td><td>Compton, Miss. Sara Rebecca                             </td><td>female                                                  </td><td>39                                                      </td><td>1                                                       </td><td>1                                                       </td><td>PC 17756                                                </td><td> 83.1583                                                </td><td>E49                                                     </td><td>C                                                       </td></tr>\n",
       "\t<tr><th scope=row>165</th><td>843                                                     </td><td>1                                                       </td><td>1                                                       </td><td>Serepeca, Miss. Augusta                                 </td><td>female                                                  </td><td>30                                                      </td><td>0                                                       </td><td>0                                                       </td><td>113798                                                  </td><td> 31.0000                                                </td><td>                                                        </td><td>C                                                       </td></tr>\n",
       "\t<tr><th scope=row>166</th><td>850                                                     </td><td>1                                                       </td><td>1                                                       </td><td>Goldenberg, Mrs. Samuel L (Edwiga Grabowska)            </td><td>female                                                  </td><td>NA                                                      </td><td>1                                                       </td><td>0                                                       </td><td>17453                                                   </td><td> 89.1042                                                </td><td>C92                                                     </td><td>C                                                       </td></tr>\n",
       "\t<tr><th scope=row>167</th><td>854                                                     </td><td>1                                                       </td><td>1                                                       </td><td>Lines, Miss. Mary Conover                               </td><td>female                                                  </td><td>16                                                      </td><td>0                                                       </td><td>1                                                       </td><td>PC 17592                                                </td><td> 39.4000                                                </td><td>D28                                                     </td><td>S                                                       </td></tr>\n",
       "\t<tr><th scope=row>168</th><td>857                                                     </td><td>1                                                       </td><td>1                                                       </td><td>Wick, Mrs. George Dennick (Mary Hitchcock)              </td><td>female                                                  </td><td>45                                                      </td><td>1                                                       </td><td>1                                                       </td><td>36928                                                   </td><td>164.8667                                                </td><td>                                                        </td><td>S                                                       </td></tr>\n",
       "\t<tr><th scope=row>169</th><td>863                                                     </td><td>1                                                       </td><td>1                                                       </td><td>Swift, Mrs. Frederick Joel (Margaret Welles Barron)     </td><td>female                                                  </td><td>48                                                      </td><td>0                                                       </td><td>0                                                       </td><td>17466                                                   </td><td> 25.9292                                                </td><td>D17                                                     </td><td>S                                                       </td></tr>\n",
       "\t<tr><th scope=row>170</th><td>872                                                     </td><td>1                                                       </td><td>1                                                       </td><td>Beckwith, Mrs. Richard Leonard (Sallie Monypeny)        </td><td>female                                                  </td><td>47                                                      </td><td>1                                                       </td><td>1                                                       </td><td>11751                                                   </td><td> 52.5542                                                </td><td>D35                                                     </td><td>S                                                       </td></tr>\n",
       "</tbody>\n",
       "</table>\n"
      ],
      "text/latex": [
       "\\begin{tabular}{r|llllllllllll}\n",
       "  & assengerId & Survived & Pclass & Name & Sex & Age & SibSp & Parch & Ticket & Fare & Cabin & Embarked\\\\\n",
       "\\hline\n",
       "\t80 & 886                                                                                & 0                                                                                  & 3                                                                                  & Rice, Mrs. William (Margaret Norton)                                               & female                                                                             & 39                                                                                 & 0                                                                                  & 5                                                                                  & 382652                                                                             &  29.1250                                                                           &                                                                                    & Q                                                                                 \\\\\n",
       "\t81 & 889                                                                                & 0                                                                                  & 3                                                                                  & Johnston, Miss. Catherine Helen \"Carrie\"                                           & female                                                                             & NA                                                                                 & 1                                                                                  & 2                                                                                  & W./C. 6607                                                                         &  23.4500                                                                           &                                                                                    & S                                                                                 \\\\\n",
       "\t82 &   2                                                                                & 1                                                                                  & 1                                                                                  & Cumings, Mrs. John Bradley (Florence Briggs Thayer)                                & female                                                                             & 38                                                                                 & 1                                                                                  & 0                                                                                  & PC 17599                                                                           &  71.2833                                                                           & C85                                                                                & C                                                                                 \\\\\n",
       "\t83 &   4                                                                                & 1                                                                                  & 1                                                                                  & Futrelle, Mrs. Jacques Heath (Lily May Peel)                                       & female                                                                             & 35                                                                                 & 1                                                                                  & 0                                                                                  & 113803                                                                             &  53.1000                                                                           & C123                                                                               & S                                                                                 \\\\\n",
       "\t84 &  12                                                                                & 1                                                                                  & 1                                                                                  & Bonnell, Miss. Elizabeth                                                           & female                                                                             & 58                                                                                 & 0                                                                                  & 0                                                                                  & 113783                                                                             &  26.5500                                                                           & C103                                                                               & S                                                                                 \\\\\n",
       "\t85 &  32                                                                                & 1                                                                                  & 1                                                                                  & Spencer, Mrs. William Augustus (Marie Eugenie)                                     & female                                                                             & NA                                                                                 & 1                                                                                  & 0                                                                                  & PC 17569                                                                           & 146.5208                                                                           & B78                                                                                & C                                                                                 \\\\\n",
       "\t86 &  53                                                                                & 1                                                                                  & 1                                                                                  & Harper, Mrs. Henry Sleeper (Myna Haxtun)                                           & female                                                                             & 49                                                                                 & 1                                                                                  & 0                                                                                  & PC 17572                                                                           &  76.7292                                                                           & D33                                                                                & C                                                                                 \\\\\n",
       "\t87 &  62                                                                                & 1                                                                                  & 1                                                                                  & Icard, Miss. Amelie                                                                & female                                                                             & 38                                                                                 & 0                                                                                  & 0                                                                                  & 113572                                                                             &  80.0000                                                                           & B28                                                                                &                                                                                   \\\\\n",
       "\t88 &  89                                                                                & 1                                                                                  & 1                                                                                  & Fortune, Miss. Mabel Helen                                                         & female                                                                             & 23                                                                                 & 3                                                                                  & 2                                                                                  & 19950                                                                              & 263.0000                                                                           & C23 C25 C27                                                                        & S                                                                                 \\\\\n",
       "\t89 & 137                                                                                & 1                                                                                  & 1                                                                                  & Newsom, Miss. Helen Monypeny                                                       & female                                                                             & 19                                                                                 & 0                                                                                  & 2                                                                                  & 11752                                                                              &  26.2833                                                                           & D47                                                                                & S                                                                                 \\\\\n",
       "\t90 & 152                                                                                & 1                                                                                  & 1                                                                                  & Pears, Mrs. Thomas (Edith Wearne)                                                  & female                                                                             & 22                                                                                 & 1                                                                                  & 0                                                                                  & 113776                                                                             &  66.6000                                                                           & C2                                                                                 & S                                                                                 \\\\\n",
       "\t91 & 167                                                                                & 1                                                                                  & 1                                                                                  & Chibnall, Mrs. (Edith Martha Bowerman)                                             & female                                                                             & NA                                                                                 & 0                                                                                  & 1                                                                                  & 113505                                                                             &  55.0000                                                                           & E33                                                                                & S                                                                                 \\\\\n",
       "\t92 & 195                                                                                & 1                                                                                  & 1                                                                                  & Brown, Mrs. James Joseph (Margaret Tobin)                                          & female                                                                             & 44                                                                                 & 0                                                                                  & 0                                                                                  & PC 17610                                                                           &  27.7208                                                                           & B4                                                                                 & C                                                                                 \\\\\n",
       "\t93 & 196                                                                                & 1                                                                                  & 1                                                                                  & Lurette, Miss. Elise                                                               & female                                                                             & 58                                                                                 & 0                                                                                  & 0                                                                                  & PC 17569                                                                           & 146.5208                                                                           & B80                                                                                & C                                                                                 \\\\\n",
       "\t94 & 216                                                                                & 1                                                                                  & 1                                                                                  & Newell, Miss. Madeleine                                                            & female                                                                             & 31                                                                                 & 1                                                                                  & 0                                                                                  & 35273                                                                              & 113.2750                                                                           & D36                                                                                & C                                                                                 \\\\\n",
       "\t95 & 219                                                                                & 1                                                                                  & 1                                                                                  & Bazzani, Miss. Albina                                                              & female                                                                             & 32                                                                                 & 0                                                                                  & 0                                                                                  & 11813                                                                              &  76.2917                                                                           & D15                                                                                & C                                                                                 \\\\\n",
       "\t96 & 231                                                                                & 1                                                                                  & 1                                                                                  & Harris, Mrs. Henry Birkhardt (Irene Wallach)                                       & female                                                                             & 35                                                                                 & 1                                                                                  & 0                                                                                  & 36973                                                                              &  83.4750                                                                           & C83                                                                                & S                                                                                 \\\\\n",
       "\t97 & 257                                                                                & 1                                                                                  & 1                                                                                  & Thorne, Mrs. Gertrude Maybelle                                                     & female                                                                             & NA                                                                                 & 0                                                                                  & 0                                                                                  & PC 17585                                                                           &  79.2000                                                                           &                                                                                    & C                                                                                 \\\\\n",
       "\t98 & 258                                                                                & 1                                                                                  & 1                                                                                  & Cherry, Miss. Gladys                                                               & female                                                                             & 30                                                                                 & 0                                                                                  & 0                                                                                  & 110152                                                                             &  86.5000                                                                           & B77                                                                                & S                                                                                 \\\\\n",
       "\t99 & 259                                                                                & 1                                                                                  & 1                                                                                  & Ward, Miss. Anna                                                                   & female                                                                             & 35                                                                                 & 0                                                                                  & 0                                                                                  & PC 17755                                                                           & 512.3292                                                                           &                                                                                    & C                                                                                 \\\\\n",
       "\t100 & 269                                                                                & 1                                                                                  & 1                                                                                  & Graham, Mrs. William Thompson (Edith Junkins)                                      & female                                                                             & 58                                                                                 & 0                                                                                  & 1                                                                                  & PC 17582                                                                           & 153.4625                                                                           & C125                                                                               & S                                                                                 \\\\\n",
       "\t101 & 270                                                                                & 1                                                                                  & 1                                                                                  & Bissette, Miss. Amelia                                                             & female                                                                             & 35                                                                                 & 0                                                                                  & 0                                                                                  & PC 17760                                                                           & 135.6333                                                                           & C99                                                                                & S                                                                                 \\\\\n",
       "\t102 & 276                                                                                & 1                                                                                  & 1                                                                                  & Andrews, Miss. Kornelia Theodosia                                                  & female                                                                             & 63                                                                                 & 1                                                                                  & 0                                                                                  & 13502                                                                              &  77.9583                                                                           & D7                                                                                 & S                                                                                 \\\\\n",
       "\t103 & 291                                                                                & 1                                                                                  & 1                                                                                  & Barber, Miss. Ellen \"Nellie\"                                                       & female                                                                             & 26                                                                                 & 0                                                                                  & 0                                                                                  & 19877                                                                              &  78.8500                                                                           &                                                                                    & S                                                                                 \\\\\n",
       "\t104 & 292                                                                                & 1                                                                                  & 1                                                                                  & Bishop, Mrs. Dickinson H (Helen Walton)                                            & female                                                                             & 19                                                                                 & 1                                                                                  & 0                                                                                  & 11967                                                                              &  91.0792                                                                           & B49                                                                                & C                                                                                 \\\\\n",
       "\t105 & 300                                                                                & 1                                                                                  & 1                                                                                  & Baxter, Mrs. James (Helene DeLaudeniere Chaput)                                    & female                                                                             & 50                                                                                 & 0                                                                                  & 1                                                                                  & PC 17558                                                                           & 247.5208                                                                           & B58 B60                                                                            & C                                                                                 \\\\\n",
       "\t106 & 307                                                                                & 1                                                                                  & 1                                                                                  & Fleming, Miss. Margaret                                                            & female                                                                             & NA                                                                                 & 0                                                                                  & 0                                                                                  & 17421                                                                              & 110.8833                                                                           &                                                                                    & C                                                                                 \\\\\n",
       "\t107 & 308                                                                                & 1                                                                                  & 1                                                                                  & Penasco y Castellana, Mrs. Victor de Satode (Maria Josefa Perez de Soto y Vallejo) & female                                                                             & 17                                                                                 & 1                                                                                  & 0                                                                                  & PC 17758                                                                           & 108.9000                                                                           & C65                                                                                & C                                                                                 \\\\\n",
       "\t108 & 310                                                                                & 1                                                                                  & 1                                                                                  & Francatelli, Miss. Laura Mabel                                                     & female                                                                             & 30                                                                                 & 0                                                                                  & 0                                                                                  & PC 17485                                                                           &  56.9292                                                                           & E36                                                                                & C                                                                                 \\\\\n",
       "\t109 & 311                                                                                & 1                                                                                  & 1                                                                                  & Hays, Miss. Margaret Bechstein                                                     & female                                                                             & 24                                                                                 & 0                                                                                  & 0                                                                                  & 11767                                                                              &  83.1583                                                                           & C54                                                                                & C                                                                                 \\\\\n",
       "\t... & ... & ... & ... & ... & ... & ... & ... & ... & ... & ... & ... & ...\\\\\n",
       "\t141 & 582                                                      & 1                                                        & 1                                                        & Thayer, Mrs. John Borland (Marian Longstreth Morris)     & female                                                   & 39                                                       & 1                                                        & 1                                                        & 17421                                                    & 110.8833                                                 & C68                                                      & C                                                       \\\\\n",
       "\t142 & 586                                                      & 1                                                        & 1                                                        & Taussig, Miss. Ruth                                      & female                                                   & 18                                                       & 0                                                        & 2                                                        & 110413                                                   &  79.6500                                                 & E68                                                      & S                                                       \\\\\n",
       "\t143 & 592                                                      & 1                                                        & 1                                                        & Stephenson, Mrs. Walter Bertram (Martha Eustis)          & female                                                   & 52                                                       & 1                                                        & 0                                                        & 36947                                                    &  78.2667                                                 & D20                                                      & C                                                       \\\\\n",
       "\t144 & 610                                                      & 1                                                        & 1                                                        & Shutes, Miss. Elizabeth W                                & female                                                   & 40                                                       & 0                                                        & 0                                                        & PC 17582                                                 & 153.4625                                                 & C125                                                     & S                                                       \\\\\n",
       "\t145 & 628                                                      & 1                                                        & 1                                                        & Longley, Miss. Gretchen Fiske                            & female                                                   & 21                                                       & 0                                                        & 0                                                        & 13502                                                    &  77.9583                                                 & D9                                                       & S                                                       \\\\\n",
       "\t146 & 642                                                      & 1                                                        & 1                                                        & Sagesser, Mlle. Emma                                     & female                                                   & 24                                                       & 0                                                        & 0                                                        & PC 17477                                                 &  69.3000                                                 & B35                                                      & C                                                       \\\\\n",
       "\t147 & 670                                                      & 1                                                        & 1                                                        & Taylor, Mrs. Elmer Zebley (Juliet Cummins Wright)        & female                                                   & NA                                                       & 1                                                        & 0                                                        & 19996                                                    &  52.0000                                                 & C126                                                     & S                                                       \\\\\n",
       "\t148 & 690                                                      & 1                                                        & 1                                                        & Madill, Miss. Georgette Alexandra                        & female                                                   & 15                                                       & 0                                                        & 1                                                        & 24160                                                    & 211.3375                                                 & B5                                                       & S                                                       \\\\\n",
       "\t149 & 701                                                      & 1                                                        & 1                                                        & Astor, Mrs. John Jacob (Madeleine Talmadge Force)        & female                                                   & 18                                                       & 1                                                        & 0                                                        & PC 17757                                                 & 227.5250                                                 & C62 C64                                                  & C                                                       \\\\\n",
       "\t150 & 709                                                      & 1                                                        & 1                                                        & Cleaver, Miss. Alice                                     & female                                                   & 22                                                       & 0                                                        & 0                                                        & 113781                                                   & 151.5500                                                 &                                                          & S                                                       \\\\\n",
       "\t151 & 711                                                      & 1                                                        & 1                                                        & Mayne, Mlle. Berthe Antonine (\"Mrs de Villiers\")         & female                                                   & 24                                                       & 0                                                        & 0                                                        & PC 17482                                                 &  49.5042                                                 & C90                                                      & C                                                       \\\\\n",
       "\t152 & 717                                                      & 1                                                        & 1                                                        & Endres, Miss. Caroline Louise                            & female                                                   & 38                                                       & 0                                                        & 0                                                        & PC 17757                                                 & 227.5250                                                 & C45                                                      & C                                                       \\\\\n",
       "\t153 & 731                                                      & 1                                                        & 1                                                        & Allen, Miss. Elisabeth Walton                            & female                                                   & 29                                                       & 0                                                        & 0                                                        & 24160                                                    & 211.3375                                                 & B5                                                       & S                                                       \\\\\n",
       "\t154 & 743                                                      & 1                                                        & 1                                                        & Ryerson, Miss. Susan Parker \"Suzette\"                    & female                                                   & 21                                                       & 2                                                        & 2                                                        & PC 17608                                                 & 262.3750                                                 & B57 B59 B63 B66                                          & C                                                       \\\\\n",
       "\t155 & 760                                                      & 1                                                        & 1                                                        & Rothes, the Countess. of (Lucy Noel Martha Dyer-Edwards) & female                                                   & 33                                                       & 0                                                        & 0                                                        & 110152                                                   &  86.5000                                                 & B77                                                      & S                                                       \\\\\n",
       "\t156 & 764                                                      & 1                                                        & 1                                                        & Carter, Mrs. William Ernest (Lucile Polk)                & female                                                   & 36                                                       & 1                                                        & 2                                                        & 113760                                                   & 120.0000                                                 & B96 B98                                                  & S                                                       \\\\\n",
       "\t157 & 766                                                      & 1                                                        & 1                                                        & Hogeboom, Mrs. John C (Anna Andrews)                     & female                                                   & 51                                                       & 1                                                        & 0                                                        & 13502                                                    &  77.9583                                                 & D11                                                      & S                                                       \\\\\n",
       "\t158 & 780                                                      & 1                                                        & 1                                                        & Robert, Mrs. Edward Scott (Elisabeth Walton McMillan)    & female                                                   & 43                                                       & 0                                                        & 1                                                        & 24160                                                    & 211.3375                                                 & B3                                                       & S                                                       \\\\\n",
       "\t159 & 782                                                      & 1                                                        & 1                                                        & Dick, Mrs. Albert Adrian (Vera Gillespie)                & female                                                   & 17                                                       & 1                                                        & 0                                                        & 17474                                                    &  57.0000                                                 & B20                                                      & S                                                       \\\\\n",
       "\t160 & 797                                                      & 1                                                        & 1                                                        & Leader, Dr. Alice (Farnham)                              & female                                                   & 49                                                       & 0                                                        & 0                                                        & 17465                                                    &  25.9292                                                 & D17                                                      & S                                                       \\\\\n",
       "\t161 & 810                                                      & 1                                                        & 1                                                        & Chambers, Mrs. Norman Campbell (Bertha Griggs)           & female                                                   & 33                                                       & 1                                                        & 0                                                        & 113806                                                   &  53.1000                                                 & E8                                                       & S                                                       \\\\\n",
       "\t162 & 821                                                      & 1                                                        & 1                                                        & Hays, Mrs. Charles Melville (Clara Jennings Gregg)       & female                                                   & 52                                                       & 1                                                        & 1                                                        & 12749                                                    &  93.5000                                                 & B69                                                      & S                                                       \\\\\n",
       "\t163 & 830                                                      & 1                                                        & 1                                                        & Stone, Mrs. George Nelson (Martha Evelyn)                & female                                                   & 62                                                       & 0                                                        & 0                                                        & 113572                                                   &  80.0000                                                 & B28                                                      &                                                         \\\\\n",
       "\t164 & 836                                                      & 1                                                        & 1                                                        & Compton, Miss. Sara Rebecca                              & female                                                   & 39                                                       & 1                                                        & 1                                                        & PC 17756                                                 &  83.1583                                                 & E49                                                      & C                                                       \\\\\n",
       "\t165 & 843                                                      & 1                                                        & 1                                                        & Serepeca, Miss. Augusta                                  & female                                                   & 30                                                       & 0                                                        & 0                                                        & 113798                                                   &  31.0000                                                 &                                                          & C                                                       \\\\\n",
       "\t166 & 850                                                      & 1                                                        & 1                                                        & Goldenberg, Mrs. Samuel L (Edwiga Grabowska)             & female                                                   & NA                                                       & 1                                                        & 0                                                        & 17453                                                    &  89.1042                                                 & C92                                                      & C                                                       \\\\\n",
       "\t167 & 854                                                      & 1                                                        & 1                                                        & Lines, Miss. Mary Conover                                & female                                                   & 16                                                       & 0                                                        & 1                                                        & PC 17592                                                 &  39.4000                                                 & D28                                                      & S                                                       \\\\\n",
       "\t168 & 857                                                      & 1                                                        & 1                                                        & Wick, Mrs. George Dennick (Mary Hitchcock)               & female                                                   & 45                                                       & 1                                                        & 1                                                        & 36928                                                    & 164.8667                                                 &                                                          & S                                                       \\\\\n",
       "\t169 & 863                                                      & 1                                                        & 1                                                        & Swift, Mrs. Frederick Joel (Margaret Welles Barron)      & female                                                   & 48                                                       & 0                                                        & 0                                                        & 17466                                                    &  25.9292                                                 & D17                                                      & S                                                       \\\\\n",
       "\t170 & 872                                                      & 1                                                        & 1                                                        & Beckwith, Mrs. Richard Leonard (Sallie Monypeny)         & female                                                   & 47                                                       & 1                                                        & 1                                                        & 11751                                                    &  52.5542                                                 & D35                                                      & S                                                       \\\\\n",
       "\\end{tabular}\n"
      ],
      "text/markdown": [
       "\n",
       "| <!--/--> | assengerId | Survived | Pclass | Name | Sex | Age | SibSp | Parch | Ticket | Fare | Cabin | Embarked |\n",
       "|---|---|---|---|---|---|---|---|---|---|---|---|---|\n",
       "| 80 | 886                                                                                | 0                                                                                  | 3                                                                                  | Rice, Mrs. William (Margaret Norton)                                               | female                                                                             | 39                                                                                 | 0                                                                                  | 5                                                                                  | 382652                                                                             |  29.1250                                                                           |                                                                                    | Q                                                                                  |\n",
       "| 81 | 889                                                                                | 0                                                                                  | 3                                                                                  | Johnston, Miss. Catherine Helen \"Carrie\"                                           | female                                                                             | NA                                                                                 | 1                                                                                  | 2                                                                                  | W./C. 6607                                                                         |  23.4500                                                                           |                                                                                    | S                                                                                  |\n",
       "| 82 |   2                                                                                | 1                                                                                  | 1                                                                                  | Cumings, Mrs. John Bradley (Florence Briggs Thayer)                                | female                                                                             | 38                                                                                 | 1                                                                                  | 0                                                                                  | PC 17599                                                                           |  71.2833                                                                           | C85                                                                                | C                                                                                  |\n",
       "| 83 |   4                                                                                | 1                                                                                  | 1                                                                                  | Futrelle, Mrs. Jacques Heath (Lily May Peel)                                       | female                                                                             | 35                                                                                 | 1                                                                                  | 0                                                                                  | 113803                                                                             |  53.1000                                                                           | C123                                                                               | S                                                                                  |\n",
       "| 84 |  12                                                                                | 1                                                                                  | 1                                                                                  | Bonnell, Miss. Elizabeth                                                           | female                                                                             | 58                                                                                 | 0                                                                                  | 0                                                                                  | 113783                                                                             |  26.5500                                                                           | C103                                                                               | S                                                                                  |\n",
       "| 85 |  32                                                                                | 1                                                                                  | 1                                                                                  | Spencer, Mrs. William Augustus (Marie Eugenie)                                     | female                                                                             | NA                                                                                 | 1                                                                                  | 0                                                                                  | PC 17569                                                                           | 146.5208                                                                           | B78                                                                                | C                                                                                  |\n",
       "| 86 |  53                                                                                | 1                                                                                  | 1                                                                                  | Harper, Mrs. Henry Sleeper (Myna Haxtun)                                           | female                                                                             | 49                                                                                 | 1                                                                                  | 0                                                                                  | PC 17572                                                                           |  76.7292                                                                           | D33                                                                                | C                                                                                  |\n",
       "| 87 |  62                                                                                | 1                                                                                  | 1                                                                                  | Icard, Miss. Amelie                                                                | female                                                                             | 38                                                                                 | 0                                                                                  | 0                                                                                  | 113572                                                                             |  80.0000                                                                           | B28                                                                                |                                                                                    |\n",
       "| 88 |  89                                                                                | 1                                                                                  | 1                                                                                  | Fortune, Miss. Mabel Helen                                                         | female                                                                             | 23                                                                                 | 3                                                                                  | 2                                                                                  | 19950                                                                              | 263.0000                                                                           | C23 C25 C27                                                                        | S                                                                                  |\n",
       "| 89 | 137                                                                                | 1                                                                                  | 1                                                                                  | Newsom, Miss. Helen Monypeny                                                       | female                                                                             | 19                                                                                 | 0                                                                                  | 2                                                                                  | 11752                                                                              |  26.2833                                                                           | D47                                                                                | S                                                                                  |\n",
       "| 90 | 152                                                                                | 1                                                                                  | 1                                                                                  | Pears, Mrs. Thomas (Edith Wearne)                                                  | female                                                                             | 22                                                                                 | 1                                                                                  | 0                                                                                  | 113776                                                                             |  66.6000                                                                           | C2                                                                                 | S                                                                                  |\n",
       "| 91 | 167                                                                                | 1                                                                                  | 1                                                                                  | Chibnall, Mrs. (Edith Martha Bowerman)                                             | female                                                                             | NA                                                                                 | 0                                                                                  | 1                                                                                  | 113505                                                                             |  55.0000                                                                           | E33                                                                                | S                                                                                  |\n",
       "| 92 | 195                                                                                | 1                                                                                  | 1                                                                                  | Brown, Mrs. James Joseph (Margaret Tobin)                                          | female                                                                             | 44                                                                                 | 0                                                                                  | 0                                                                                  | PC 17610                                                                           |  27.7208                                                                           | B4                                                                                 | C                                                                                  |\n",
       "| 93 | 196                                                                                | 1                                                                                  | 1                                                                                  | Lurette, Miss. Elise                                                               | female                                                                             | 58                                                                                 | 0                                                                                  | 0                                                                                  | PC 17569                                                                           | 146.5208                                                                           | B80                                                                                | C                                                                                  |\n",
       "| 94 | 216                                                                                | 1                                                                                  | 1                                                                                  | Newell, Miss. Madeleine                                                            | female                                                                             | 31                                                                                 | 1                                                                                  | 0                                                                                  | 35273                                                                              | 113.2750                                                                           | D36                                                                                | C                                                                                  |\n",
       "| 95 | 219                                                                                | 1                                                                                  | 1                                                                                  | Bazzani, Miss. Albina                                                              | female                                                                             | 32                                                                                 | 0                                                                                  | 0                                                                                  | 11813                                                                              |  76.2917                                                                           | D15                                                                                | C                                                                                  |\n",
       "| 96 | 231                                                                                | 1                                                                                  | 1                                                                                  | Harris, Mrs. Henry Birkhardt (Irene Wallach)                                       | female                                                                             | 35                                                                                 | 1                                                                                  | 0                                                                                  | 36973                                                                              |  83.4750                                                                           | C83                                                                                | S                                                                                  |\n",
       "| 97 | 257                                                                                | 1                                                                                  | 1                                                                                  | Thorne, Mrs. Gertrude Maybelle                                                     | female                                                                             | NA                                                                                 | 0                                                                                  | 0                                                                                  | PC 17585                                                                           |  79.2000                                                                           |                                                                                    | C                                                                                  |\n",
       "| 98 | 258                                                                                | 1                                                                                  | 1                                                                                  | Cherry, Miss. Gladys                                                               | female                                                                             | 30                                                                                 | 0                                                                                  | 0                                                                                  | 110152                                                                             |  86.5000                                                                           | B77                                                                                | S                                                                                  |\n",
       "| 99 | 259                                                                                | 1                                                                                  | 1                                                                                  | Ward, Miss. Anna                                                                   | female                                                                             | 35                                                                                 | 0                                                                                  | 0                                                                                  | PC 17755                                                                           | 512.3292                                                                           |                                                                                    | C                                                                                  |\n",
       "| 100 | 269                                                                                | 1                                                                                  | 1                                                                                  | Graham, Mrs. William Thompson (Edith Junkins)                                      | female                                                                             | 58                                                                                 | 0                                                                                  | 1                                                                                  | PC 17582                                                                           | 153.4625                                                                           | C125                                                                               | S                                                                                  |\n",
       "| 101 | 270                                                                                | 1                                                                                  | 1                                                                                  | Bissette, Miss. Amelia                                                             | female                                                                             | 35                                                                                 | 0                                                                                  | 0                                                                                  | PC 17760                                                                           | 135.6333                                                                           | C99                                                                                | S                                                                                  |\n",
       "| 102 | 276                                                                                | 1                                                                                  | 1                                                                                  | Andrews, Miss. Kornelia Theodosia                                                  | female                                                                             | 63                                                                                 | 1                                                                                  | 0                                                                                  | 13502                                                                              |  77.9583                                                                           | D7                                                                                 | S                                                                                  |\n",
       "| 103 | 291                                                                                | 1                                                                                  | 1                                                                                  | Barber, Miss. Ellen \"Nellie\"                                                       | female                                                                             | 26                                                                                 | 0                                                                                  | 0                                                                                  | 19877                                                                              |  78.8500                                                                           |                                                                                    | S                                                                                  |\n",
       "| 104 | 292                                                                                | 1                                                                                  | 1                                                                                  | Bishop, Mrs. Dickinson H (Helen Walton)                                            | female                                                                             | 19                                                                                 | 1                                                                                  | 0                                                                                  | 11967                                                                              |  91.0792                                                                           | B49                                                                                | C                                                                                  |\n",
       "| 105 | 300                                                                                | 1                                                                                  | 1                                                                                  | Baxter, Mrs. James (Helene DeLaudeniere Chaput)                                    | female                                                                             | 50                                                                                 | 0                                                                                  | 1                                                                                  | PC 17558                                                                           | 247.5208                                                                           | B58 B60                                                                            | C                                                                                  |\n",
       "| 106 | 307                                                                                | 1                                                                                  | 1                                                                                  | Fleming, Miss. Margaret                                                            | female                                                                             | NA                                                                                 | 0                                                                                  | 0                                                                                  | 17421                                                                              | 110.8833                                                                           |                                                                                    | C                                                                                  |\n",
       "| 107 | 308                                                                                | 1                                                                                  | 1                                                                                  | Penasco y Castellana, Mrs. Victor de Satode (Maria Josefa Perez de Soto y Vallejo) | female                                                                             | 17                                                                                 | 1                                                                                  | 0                                                                                  | PC 17758                                                                           | 108.9000                                                                           | C65                                                                                | C                                                                                  |\n",
       "| 108 | 310                                                                                | 1                                                                                  | 1                                                                                  | Francatelli, Miss. Laura Mabel                                                     | female                                                                             | 30                                                                                 | 0                                                                                  | 0                                                                                  | PC 17485                                                                           |  56.9292                                                                           | E36                                                                                | C                                                                                  |\n",
       "| 109 | 311                                                                                | 1                                                                                  | 1                                                                                  | Hays, Miss. Margaret Bechstein                                                     | female                                                                             | 24                                                                                 | 0                                                                                  | 0                                                                                  | 11767                                                                              |  83.1583                                                                           | C54                                                                                | C                                                                                  |\n",
       "| ... | ... | ... | ... | ... | ... | ... | ... | ... | ... | ... | ... | ... |\n",
       "| 141 | 582                                                      | 1                                                        | 1                                                        | Thayer, Mrs. John Borland (Marian Longstreth Morris)     | female                                                   | 39                                                       | 1                                                        | 1                                                        | 17421                                                    | 110.8833                                                 | C68                                                      | C                                                        |\n",
       "| 142 | 586                                                      | 1                                                        | 1                                                        | Taussig, Miss. Ruth                                      | female                                                   | 18                                                       | 0                                                        | 2                                                        | 110413                                                   |  79.6500                                                 | E68                                                      | S                                                        |\n",
       "| 143 | 592                                                      | 1                                                        | 1                                                        | Stephenson, Mrs. Walter Bertram (Martha Eustis)          | female                                                   | 52                                                       | 1                                                        | 0                                                        | 36947                                                    |  78.2667                                                 | D20                                                      | C                                                        |\n",
       "| 144 | 610                                                      | 1                                                        | 1                                                        | Shutes, Miss. Elizabeth W                                | female                                                   | 40                                                       | 0                                                        | 0                                                        | PC 17582                                                 | 153.4625                                                 | C125                                                     | S                                                        |\n",
       "| 145 | 628                                                      | 1                                                        | 1                                                        | Longley, Miss. Gretchen Fiske                            | female                                                   | 21                                                       | 0                                                        | 0                                                        | 13502                                                    |  77.9583                                                 | D9                                                       | S                                                        |\n",
       "| 146 | 642                                                      | 1                                                        | 1                                                        | Sagesser, Mlle. Emma                                     | female                                                   | 24                                                       | 0                                                        | 0                                                        | PC 17477                                                 |  69.3000                                                 | B35                                                      | C                                                        |\n",
       "| 147 | 670                                                      | 1                                                        | 1                                                        | Taylor, Mrs. Elmer Zebley (Juliet Cummins Wright)        | female                                                   | NA                                                       | 1                                                        | 0                                                        | 19996                                                    |  52.0000                                                 | C126                                                     | S                                                        |\n",
       "| 148 | 690                                                      | 1                                                        | 1                                                        | Madill, Miss. Georgette Alexandra                        | female                                                   | 15                                                       | 0                                                        | 1                                                        | 24160                                                    | 211.3375                                                 | B5                                                       | S                                                        |\n",
       "| 149 | 701                                                      | 1                                                        | 1                                                        | Astor, Mrs. John Jacob (Madeleine Talmadge Force)        | female                                                   | 18                                                       | 1                                                        | 0                                                        | PC 17757                                                 | 227.5250                                                 | C62 C64                                                  | C                                                        |\n",
       "| 150 | 709                                                      | 1                                                        | 1                                                        | Cleaver, Miss. Alice                                     | female                                                   | 22                                                       | 0                                                        | 0                                                        | 113781                                                   | 151.5500                                                 |                                                          | S                                                        |\n",
       "| 151 | 711                                                      | 1                                                        | 1                                                        | Mayne, Mlle. Berthe Antonine (\"Mrs de Villiers\")         | female                                                   | 24                                                       | 0                                                        | 0                                                        | PC 17482                                                 |  49.5042                                                 | C90                                                      | C                                                        |\n",
       "| 152 | 717                                                      | 1                                                        | 1                                                        | Endres, Miss. Caroline Louise                            | female                                                   | 38                                                       | 0                                                        | 0                                                        | PC 17757                                                 | 227.5250                                                 | C45                                                      | C                                                        |\n",
       "| 153 | 731                                                      | 1                                                        | 1                                                        | Allen, Miss. Elisabeth Walton                            | female                                                   | 29                                                       | 0                                                        | 0                                                        | 24160                                                    | 211.3375                                                 | B5                                                       | S                                                        |\n",
       "| 154 | 743                                                      | 1                                                        | 1                                                        | Ryerson, Miss. Susan Parker \"Suzette\"                    | female                                                   | 21                                                       | 2                                                        | 2                                                        | PC 17608                                                 | 262.3750                                                 | B57 B59 B63 B66                                          | C                                                        |\n",
       "| 155 | 760                                                      | 1                                                        | 1                                                        | Rothes, the Countess. of (Lucy Noel Martha Dyer-Edwards) | female                                                   | 33                                                       | 0                                                        | 0                                                        | 110152                                                   |  86.5000                                                 | B77                                                      | S                                                        |\n",
       "| 156 | 764                                                      | 1                                                        | 1                                                        | Carter, Mrs. William Ernest (Lucile Polk)                | female                                                   | 36                                                       | 1                                                        | 2                                                        | 113760                                                   | 120.0000                                                 | B96 B98                                                  | S                                                        |\n",
       "| 157 | 766                                                      | 1                                                        | 1                                                        | Hogeboom, Mrs. John C (Anna Andrews)                     | female                                                   | 51                                                       | 1                                                        | 0                                                        | 13502                                                    |  77.9583                                                 | D11                                                      | S                                                        |\n",
       "| 158 | 780                                                      | 1                                                        | 1                                                        | Robert, Mrs. Edward Scott (Elisabeth Walton McMillan)    | female                                                   | 43                                                       | 0                                                        | 1                                                        | 24160                                                    | 211.3375                                                 | B3                                                       | S                                                        |\n",
       "| 159 | 782                                                      | 1                                                        | 1                                                        | Dick, Mrs. Albert Adrian (Vera Gillespie)                | female                                                   | 17                                                       | 1                                                        | 0                                                        | 17474                                                    |  57.0000                                                 | B20                                                      | S                                                        |\n",
       "| 160 | 797                                                      | 1                                                        | 1                                                        | Leader, Dr. Alice (Farnham)                              | female                                                   | 49                                                       | 0                                                        | 0                                                        | 17465                                                    |  25.9292                                                 | D17                                                      | S                                                        |\n",
       "| 161 | 810                                                      | 1                                                        | 1                                                        | Chambers, Mrs. Norman Campbell (Bertha Griggs)           | female                                                   | 33                                                       | 1                                                        | 0                                                        | 113806                                                   |  53.1000                                                 | E8                                                       | S                                                        |\n",
       "| 162 | 821                                                      | 1                                                        | 1                                                        | Hays, Mrs. Charles Melville (Clara Jennings Gregg)       | female                                                   | 52                                                       | 1                                                        | 1                                                        | 12749                                                    |  93.5000                                                 | B69                                                      | S                                                        |\n",
       "| 163 | 830                                                      | 1                                                        | 1                                                        | Stone, Mrs. George Nelson (Martha Evelyn)                | female                                                   | 62                                                       | 0                                                        | 0                                                        | 113572                                                   |  80.0000                                                 | B28                                                      |                                                          |\n",
       "| 164 | 836                                                      | 1                                                        | 1                                                        | Compton, Miss. Sara Rebecca                              | female                                                   | 39                                                       | 1                                                        | 1                                                        | PC 17756                                                 |  83.1583                                                 | E49                                                      | C                                                        |\n",
       "| 165 | 843                                                      | 1                                                        | 1                                                        | Serepeca, Miss. Augusta                                  | female                                                   | 30                                                       | 0                                                        | 0                                                        | 113798                                                   |  31.0000                                                 |                                                          | C                                                        |\n",
       "| 166 | 850                                                      | 1                                                        | 1                                                        | Goldenberg, Mrs. Samuel L (Edwiga Grabowska)             | female                                                   | NA                                                       | 1                                                        | 0                                                        | 17453                                                    |  89.1042                                                 | C92                                                      | C                                                        |\n",
       "| 167 | 854                                                      | 1                                                        | 1                                                        | Lines, Miss. Mary Conover                                | female                                                   | 16                                                       | 0                                                        | 1                                                        | PC 17592                                                 |  39.4000                                                 | D28                                                      | S                                                        |\n",
       "| 168 | 857                                                      | 1                                                        | 1                                                        | Wick, Mrs. George Dennick (Mary Hitchcock)               | female                                                   | 45                                                       | 1                                                        | 1                                                        | 36928                                                    | 164.8667                                                 |                                                          | S                                                        |\n",
       "| 169 | 863                                                      | 1                                                        | 1                                                        | Swift, Mrs. Frederick Joel (Margaret Welles Barron)      | female                                                   | 48                                                       | 0                                                        | 0                                                        | 17466                                                    |  25.9292                                                 | D17                                                      | S                                                        |\n",
       "| 170 | 872                                                      | 1                                                        | 1                                                        | Beckwith, Mrs. Richard Leonard (Sallie Monypeny)         | female                                                   | 47                                                       | 1                                                        | 1                                                        | 11751                                                    |  52.5542                                                 | D35                                                      | S                                                        |\n",
       "\n"
      ],
      "text/plain": [
       "    assengerId Survived Pclass\n",
       "80  886        0        3     \n",
       "81  889        0        3     \n",
       "82    2        1        1     \n",
       "83    4        1        1     \n",
       "84   12        1        1     \n",
       "85   32        1        1     \n",
       "86   53        1        1     \n",
       "87   62        1        1     \n",
       "88   89        1        1     \n",
       "89  137        1        1     \n",
       "90  152        1        1     \n",
       "91  167        1        1     \n",
       "92  195        1        1     \n",
       "93  196        1        1     \n",
       "94  216        1        1     \n",
       "95  219        1        1     \n",
       "96  231        1        1     \n",
       "97  257        1        1     \n",
       "98  258        1        1     \n",
       "99  259        1        1     \n",
       "100 269        1        1     \n",
       "101 270        1        1     \n",
       "102 276        1        1     \n",
       "103 291        1        1     \n",
       "104 292        1        1     \n",
       "105 300        1        1     \n",
       "106 307        1        1     \n",
       "107 308        1        1     \n",
       "108 310        1        1     \n",
       "109 311        1        1     \n",
       "... ...        ...      ...   \n",
       "141 582        1        1     \n",
       "142 586        1        1     \n",
       "143 592        1        1     \n",
       "144 610        1        1     \n",
       "145 628        1        1     \n",
       "146 642        1        1     \n",
       "147 670        1        1     \n",
       "148 690        1        1     \n",
       "149 701        1        1     \n",
       "150 709        1        1     \n",
       "151 711        1        1     \n",
       "152 717        1        1     \n",
       "153 731        1        1     \n",
       "154 743        1        1     \n",
       "155 760        1        1     \n",
       "156 764        1        1     \n",
       "157 766        1        1     \n",
       "158 780        1        1     \n",
       "159 782        1        1     \n",
       "160 797        1        1     \n",
       "161 810        1        1     \n",
       "162 821        1        1     \n",
       "163 830        1        1     \n",
       "164 836        1        1     \n",
       "165 843        1        1     \n",
       "166 850        1        1     \n",
       "167 854        1        1     \n",
       "168 857        1        1     \n",
       "169 863        1        1     \n",
       "170 872        1        1     \n",
       "    Name                                                                              \n",
       "80  Rice, Mrs. William (Margaret Norton)                                              \n",
       "81  Johnston, Miss. Catherine Helen \"Carrie\"                                          \n",
       "82  Cumings, Mrs. John Bradley (Florence Briggs Thayer)                               \n",
       "83  Futrelle, Mrs. Jacques Heath (Lily May Peel)                                      \n",
       "84  Bonnell, Miss. Elizabeth                                                          \n",
       "85  Spencer, Mrs. William Augustus (Marie Eugenie)                                    \n",
       "86  Harper, Mrs. Henry Sleeper (Myna Haxtun)                                          \n",
       "87  Icard, Miss. Amelie                                                               \n",
       "88  Fortune, Miss. Mabel Helen                                                        \n",
       "89  Newsom, Miss. Helen Monypeny                                                      \n",
       "90  Pears, Mrs. Thomas (Edith Wearne)                                                 \n",
       "91  Chibnall, Mrs. (Edith Martha Bowerman)                                            \n",
       "92  Brown, Mrs. James Joseph (Margaret Tobin)                                         \n",
       "93  Lurette, Miss. Elise                                                              \n",
       "94  Newell, Miss. Madeleine                                                           \n",
       "95  Bazzani, Miss. Albina                                                             \n",
       "96  Harris, Mrs. Henry Birkhardt (Irene Wallach)                                      \n",
       "97  Thorne, Mrs. Gertrude Maybelle                                                    \n",
       "98  Cherry, Miss. Gladys                                                              \n",
       "99  Ward, Miss. Anna                                                                  \n",
       "100 Graham, Mrs. William Thompson (Edith Junkins)                                     \n",
       "101 Bissette, Miss. Amelia                                                            \n",
       "102 Andrews, Miss. Kornelia Theodosia                                                 \n",
       "103 Barber, Miss. Ellen \"Nellie\"                                                      \n",
       "104 Bishop, Mrs. Dickinson H (Helen Walton)                                           \n",
       "105 Baxter, Mrs. James (Helene DeLaudeniere Chaput)                                   \n",
       "106 Fleming, Miss. Margaret                                                           \n",
       "107 Penasco y Castellana, Mrs. Victor de Satode (Maria Josefa Perez de Soto y Vallejo)\n",
       "108 Francatelli, Miss. Laura Mabel                                                    \n",
       "109 Hays, Miss. Margaret Bechstein                                                    \n",
       "... ...                                                                               \n",
       "141 Thayer, Mrs. John Borland (Marian Longstreth Morris)                              \n",
       "142 Taussig, Miss. Ruth                                                               \n",
       "143 Stephenson, Mrs. Walter Bertram (Martha Eustis)                                   \n",
       "144 Shutes, Miss. Elizabeth W                                                         \n",
       "145 Longley, Miss. Gretchen Fiske                                                     \n",
       "146 Sagesser, Mlle. Emma                                                              \n",
       "147 Taylor, Mrs. Elmer Zebley (Juliet Cummins Wright)                                 \n",
       "148 Madill, Miss. Georgette Alexandra                                                 \n",
       "149 Astor, Mrs. John Jacob (Madeleine Talmadge Force)                                 \n",
       "150 Cleaver, Miss. Alice                                                              \n",
       "151 Mayne, Mlle. Berthe Antonine (\"Mrs de Villiers\")                                  \n",
       "152 Endres, Miss. Caroline Louise                                                     \n",
       "153 Allen, Miss. Elisabeth Walton                                                     \n",
       "154 Ryerson, Miss. Susan Parker \"Suzette\"                                             \n",
       "155 Rothes, the Countess. of (Lucy Noel Martha Dyer-Edwards)                          \n",
       "156 Carter, Mrs. William Ernest (Lucile Polk)                                         \n",
       "157 Hogeboom, Mrs. John C (Anna Andrews)                                              \n",
       "158 Robert, Mrs. Edward Scott (Elisabeth Walton McMillan)                             \n",
       "159 Dick, Mrs. Albert Adrian (Vera Gillespie)                                         \n",
       "160 Leader, Dr. Alice (Farnham)                                                       \n",
       "161 Chambers, Mrs. Norman Campbell (Bertha Griggs)                                    \n",
       "162 Hays, Mrs. Charles Melville (Clara Jennings Gregg)                                \n",
       "163 Stone, Mrs. George Nelson (Martha Evelyn)                                         \n",
       "164 Compton, Miss. Sara Rebecca                                                       \n",
       "165 Serepeca, Miss. Augusta                                                           \n",
       "166 Goldenberg, Mrs. Samuel L (Edwiga Grabowska)                                      \n",
       "167 Lines, Miss. Mary Conover                                                         \n",
       "168 Wick, Mrs. George Dennick (Mary Hitchcock)                                        \n",
       "169 Swift, Mrs. Frederick Joel (Margaret Welles Barron)                               \n",
       "170 Beckwith, Mrs. Richard Leonard (Sallie Monypeny)                                  \n",
       "    Sex    Age SibSp Parch Ticket     Fare     Cabin           Embarked\n",
       "80  female 39  0     5     382652      29.1250                 Q       \n",
       "81  female NA  1     2     W./C. 6607  23.4500                 S       \n",
       "82  female 38  1     0     PC 17599    71.2833 C85             C       \n",
       "83  female 35  1     0     113803      53.1000 C123            S       \n",
       "84  female 58  0     0     113783      26.5500 C103            S       \n",
       "85  female NA  1     0     PC 17569   146.5208 B78             C       \n",
       "86  female 49  1     0     PC 17572    76.7292 D33             C       \n",
       "87  female 38  0     0     113572      80.0000 B28                     \n",
       "88  female 23  3     2     19950      263.0000 C23 C25 C27     S       \n",
       "89  female 19  0     2     11752       26.2833 D47             S       \n",
       "90  female 22  1     0     113776      66.6000 C2              S       \n",
       "91  female NA  0     1     113505      55.0000 E33             S       \n",
       "92  female 44  0     0     PC 17610    27.7208 B4              C       \n",
       "93  female 58  0     0     PC 17569   146.5208 B80             C       \n",
       "94  female 31  1     0     35273      113.2750 D36             C       \n",
       "95  female 32  0     0     11813       76.2917 D15             C       \n",
       "96  female 35  1     0     36973       83.4750 C83             S       \n",
       "97  female NA  0     0     PC 17585    79.2000                 C       \n",
       "98  female 30  0     0     110152      86.5000 B77             S       \n",
       "99  female 35  0     0     PC 17755   512.3292                 C       \n",
       "100 female 58  0     1     PC 17582   153.4625 C125            S       \n",
       "101 female 35  0     0     PC 17760   135.6333 C99             S       \n",
       "102 female 63  1     0     13502       77.9583 D7              S       \n",
       "103 female 26  0     0     19877       78.8500                 S       \n",
       "104 female 19  1     0     11967       91.0792 B49             C       \n",
       "105 female 50  0     1     PC 17558   247.5208 B58 B60         C       \n",
       "106 female NA  0     0     17421      110.8833                 C       \n",
       "107 female 17  1     0     PC 17758   108.9000 C65             C       \n",
       "108 female 30  0     0     PC 17485    56.9292 E36             C       \n",
       "109 female 24  0     0     11767       83.1583 C54             C       \n",
       "... ...    ... ...   ...   ...        ...      ...             ...     \n",
       "141 female 39  1     1     17421      110.8833 C68             C       \n",
       "142 female 18  0     2     110413      79.6500 E68             S       \n",
       "143 female 52  1     0     36947       78.2667 D20             C       \n",
       "144 female 40  0     0     PC 17582   153.4625 C125            S       \n",
       "145 female 21  0     0     13502       77.9583 D9              S       \n",
       "146 female 24  0     0     PC 17477    69.3000 B35             C       \n",
       "147 female NA  1     0     19996       52.0000 C126            S       \n",
       "148 female 15  0     1     24160      211.3375 B5              S       \n",
       "149 female 18  1     0     PC 17757   227.5250 C62 C64         C       \n",
       "150 female 22  0     0     113781     151.5500                 S       \n",
       "151 female 24  0     0     PC 17482    49.5042 C90             C       \n",
       "152 female 38  0     0     PC 17757   227.5250 C45             C       \n",
       "153 female 29  0     0     24160      211.3375 B5              S       \n",
       "154 female 21  2     2     PC 17608   262.3750 B57 B59 B63 B66 C       \n",
       "155 female 33  0     0     110152      86.5000 B77             S       \n",
       "156 female 36  1     2     113760     120.0000 B96 B98         S       \n",
       "157 female 51  1     0     13502       77.9583 D11             S       \n",
       "158 female 43  0     1     24160      211.3375 B3              S       \n",
       "159 female 17  1     0     17474       57.0000 B20             S       \n",
       "160 female 49  0     0     17465       25.9292 D17             S       \n",
       "161 female 33  1     0     113806      53.1000 E8              S       \n",
       "162 female 52  1     1     12749       93.5000 B69             S       \n",
       "163 female 62  0     0     113572      80.0000 B28                     \n",
       "164 female 39  1     1     PC 17756    83.1583 E49             C       \n",
       "165 female 30  0     0     113798      31.0000                 C       \n",
       "166 female NA  1     0     17453       89.1042 C92             C       \n",
       "167 female 16  0     1     PC 17592    39.4000 D28             S       \n",
       "168 female 45  1     1     36928      164.8667                 S       \n",
       "169 female 48  0     0     17466       25.9292 D17             S       \n",
       "170 female 47  1     1     11751       52.5542 D35             S       "
      ]
     },
     "metadata": {},
     "output_type": "display_data"
    }
   ],
   "source": [
    "arrange(train_df,Sex,Survived,Pclass)[80:170,]"
   ]
  },
  {
   "cell_type": "code",
   "execution_count": 214,
   "id": "8c0360a4",
   "metadata": {},
   "outputs": [
    {
     "data": {
      "text/html": [
       "84.1546875"
      ],
      "text/latex": [
       "84.1546875"
      ],
      "text/markdown": [
       "84.1546875"
      ],
      "text/plain": [
       "[1] 84.15469"
      ]
     },
     "metadata": {},
     "output_type": "display_data"
    },
    {
     "data": {
      "text/html": [
       "20.6621831521739"
      ],
      "text/latex": [
       "20.6621831521739"
      ],
      "text/markdown": [
       "20.6621831521739"
      ],
      "text/plain": [
       "[1] 20.66218"
      ]
     },
     "metadata": {},
     "output_type": "display_data"
    },
    {
     "data": {
      "text/html": [
       "13.675550101833"
      ],
      "text/latex": [
       "13.675550101833"
      ],
      "text/markdown": [
       "13.675550101833"
      ],
      "text/plain": [
       "[1] 13.67555"
      ]
     },
     "metadata": {},
     "output_type": "display_data"
    },
    {
     "data": {
      "text/html": [
       "13.2760298701299"
      ],
      "text/latex": [
       "13.2760298701299"
      ],
      "text/markdown": [
       "13.2760298701299"
      ],
      "text/plain": [
       "[1] 13.27603"
      ]
     },
     "metadata": {},
     "output_type": "display_data"
    },
    {
     "data": {
      "text/html": [
       "27.2436513931889"
      ],
      "text/latex": [
       "27.2436513931889"
      ],
      "text/markdown": [
       "27.2436513931889"
      ],
      "text/plain": [
       "[1] 27.24365"
      ]
     },
     "metadata": {},
     "output_type": "display_data"
    },
    {
     "data": {
      "text/html": [
       "59.954144047619"
      ],
      "text/latex": [
       "59.954144047619"
      ],
      "text/markdown": [
       "59.954144047619"
      ],
      "text/plain": [
       "[1] 59.95414"
      ]
     },
     "metadata": {},
     "output_type": "display_data"
    }
   ],
   "source": [
    "mean(train_df[train_df$Pclass == 1,]$Fare)\n",
    "mean(train_df[train_df$Pclass == 2,]$Fare)\n",
    "mean(train_df[train_df$Pclass == 3,]$Fare)\n",
    "mean(train_df[train_df$Embarked == \"Q\",]$Fare)\n",
    "mean(train_df[train_df$Embarked == \"S\",]$Fare)\n",
    "mean(train_df[train_df$Embarked == \"C\",]$Fare)"
   ]
  },
  {
   "cell_type": "code",
   "execution_count": 37,
   "id": "e4a23372",
   "metadata": {},
   "outputs": [
    {
     "data": {
      "text/html": [
       "<table>\n",
       "<thead><tr><th scope=col>assengerId</th><th scope=col>Survived</th><th scope=col>Pclass</th><th scope=col>Name</th><th scope=col>Sex</th><th scope=col>Age</th><th scope=col>SibSp</th><th scope=col>Parch</th><th scope=col>Ticket</th><th scope=col>Fare</th><th scope=col>Cabin</th><th scope=col>Embarked</th></tr></thead>\n",
       "<tbody>\n",
       "\t<tr><td> 1                            </td><td>0                             </td><td>3                             </td><td>Braund, Mr. Owen Harris       </td><td>male                          </td><td>22                            </td><td>1                             </td><td>0                             </td><td>A/5 21171                     </td><td> 7.2500                       </td><td>                              </td><td>S                             </td></tr>\n",
       "\t<tr><td> 5                            </td><td>0                             </td><td>3                             </td><td>Allen, Mr. William Henry      </td><td>male                          </td><td>35                            </td><td>0                             </td><td>0                             </td><td>373450                        </td><td> 8.0500                       </td><td>                              </td><td>S                             </td></tr>\n",
       "\t<tr><td> 6                            </td><td>0                             </td><td>3                             </td><td>Moran, Mr. James              </td><td>male                          </td><td>NA                            </td><td>0                             </td><td>0                             </td><td>330877                        </td><td> 8.4583                       </td><td>                              </td><td>Q                             </td></tr>\n",
       "\t<tr><td> 7                            </td><td>0                             </td><td>1                             </td><td>McCarthy, Mr. Timothy J       </td><td>male                          </td><td>54                            </td><td>0                             </td><td>0                             </td><td>17463                         </td><td>51.8625                       </td><td>E46                           </td><td>S                             </td></tr>\n",
       "\t<tr><td> 8                            </td><td>0                             </td><td>3                             </td><td>Palsson, Master. Gosta Leonard</td><td>male                          </td><td> 2                            </td><td>3                             </td><td>1                             </td><td>349909                        </td><td>21.0750                       </td><td>                              </td><td>S                             </td></tr>\n",
       "\t<tr><td>13                            </td><td>0                             </td><td>3                             </td><td>Saundercock, Mr. William Henry</td><td>male                          </td><td>20                            </td><td>0                             </td><td>0                             </td><td>A/5. 2151                     </td><td> 8.0500                       </td><td>                              </td><td>S                             </td></tr>\n",
       "</tbody>\n",
       "</table>\n"
      ],
      "text/latex": [
       "\\begin{tabular}{r|llllllllllll}\n",
       " assengerId & Survived & Pclass & Name & Sex & Age & SibSp & Parch & Ticket & Fare & Cabin & Embarked\\\\\n",
       "\\hline\n",
       "\t  1                             & 0                              & 3                              & Braund, Mr. Owen Harris        & male                           & 22                             & 1                              & 0                              & A/5 21171                      &  7.2500                        &                                & S                             \\\\\n",
       "\t  5                             & 0                              & 3                              & Allen, Mr. William Henry       & male                           & 35                             & 0                              & 0                              & 373450                         &  8.0500                        &                                & S                             \\\\\n",
       "\t  6                             & 0                              & 3                              & Moran, Mr. James               & male                           & NA                             & 0                              & 0                              & 330877                         &  8.4583                        &                                & Q                             \\\\\n",
       "\t  7                             & 0                              & 1                              & McCarthy, Mr. Timothy J        & male                           & 54                             & 0                              & 0                              & 17463                          & 51.8625                        & E46                            & S                             \\\\\n",
       "\t  8                             & 0                              & 3                              & Palsson, Master. Gosta Leonard & male                           &  2                             & 3                              & 1                              & 349909                         & 21.0750                        &                                & S                             \\\\\n",
       "\t 13                             & 0                              & 3                              & Saundercock, Mr. William Henry & male                           & 20                             & 0                              & 0                              & A/5. 2151                      &  8.0500                        &                                & S                             \\\\\n",
       "\\end{tabular}\n"
      ],
      "text/markdown": [
       "\n",
       "| assengerId | Survived | Pclass | Name | Sex | Age | SibSp | Parch | Ticket | Fare | Cabin | Embarked |\n",
       "|---|---|---|---|---|---|---|---|---|---|---|---|\n",
       "|  1                             | 0                              | 3                              | Braund, Mr. Owen Harris        | male                           | 22                             | 1                              | 0                              | A/5 21171                      |  7.2500                        |                                | S                              |\n",
       "|  5                             | 0                              | 3                              | Allen, Mr. William Henry       | male                           | 35                             | 0                              | 0                              | 373450                         |  8.0500                        |                                | S                              |\n",
       "|  6                             | 0                              | 3                              | Moran, Mr. James               | male                           | NA                             | 0                              | 0                              | 330877                         |  8.4583                        |                                | Q                              |\n",
       "|  7                             | 0                              | 1                              | McCarthy, Mr. Timothy J        | male                           | 54                             | 0                              | 0                              | 17463                          | 51.8625                        | E46                            | S                              |\n",
       "|  8                             | 0                              | 3                              | Palsson, Master. Gosta Leonard | male                           |  2                             | 3                              | 1                              | 349909                         | 21.0750                        |                                | S                              |\n",
       "| 13                             | 0                              | 3                              | Saundercock, Mr. William Henry | male                           | 20                             | 0                              | 0                              | A/5. 2151                      |  8.0500                        |                                | S                              |\n",
       "\n"
      ],
      "text/plain": [
       "  assengerId Survived Pclass Name                           Sex  Age SibSp\n",
       "1  1         0        3      Braund, Mr. Owen Harris        male 22  1    \n",
       "2  5         0        3      Allen, Mr. William Henry       male 35  0    \n",
       "3  6         0        3      Moran, Mr. James               male NA  0    \n",
       "4  7         0        1      McCarthy, Mr. Timothy J        male 54  0    \n",
       "5  8         0        3      Palsson, Master. Gosta Leonard male  2  3    \n",
       "6 13         0        3      Saundercock, Mr. William Henry male 20  0    \n",
       "  Parch Ticket    Fare    Cabin Embarked\n",
       "1 0     A/5 21171  7.2500       S       \n",
       "2 0     373450     8.0500       S       \n",
       "3 0     330877     8.4583       Q       \n",
       "4 0     17463     51.8625 E46   S       \n",
       "5 1     349909    21.0750       S       \n",
       "6 0     A/5. 2151  8.0500       S       "
      ]
     },
     "metadata": {},
     "output_type": "display_data"
    }
   ],
   "source": [
    "head(train_df)"
   ]
  },
  {
   "cell_type": "markdown",
   "id": "332df2d0",
   "metadata": {},
   "source": [
    "---\n",
    "### 티켓 등급 분석"
   ]
  },
  {
   "cell_type": "code",
   "execution_count": 38,
   "id": "62a34d6a",
   "metadata": {},
   "outputs": [
    {
     "data": {
      "text/plain": [
       "\n",
       "  1   2   3 \n",
       "216 184 491 "
      ]
     },
     "metadata": {},
     "output_type": "display_data"
    }
   ],
   "source": [
    "table(train_df$Pclass)"
   ]
  },
  {
   "cell_type": "code",
   "execution_count": 39,
   "id": "59a8a389",
   "metadata": {},
   "outputs": [
    {
     "name": "stdout",
     "output_type": "stream",
     "text": [
      "1 등 객실의  여성 생존율은  91 / 94 , 96.81 %\n",
      "2 등 객실의  여성 생존율은  70 / 76 , 92.11 %\n",
      "3 등 객실의  여성 생존율은  72 / 144 , 50 %\n",
      "--------------------------------------------------\n",
      "1 등 객실의  남성 생존율은  45 / 122 , 36.89 %\n",
      "2 등 객실의  남성 생존율은  17 / 108 , 15.74 %\n",
      "3 등 객실의  남성 생존율은  47 / 347 , 13.54 %\n",
      "--------------------------------------------------\n"
     ]
    }
   ],
   "source": [
    "# 1등 객실 여성 생존율\n",
    "\n",
    "survrateperlass <- 0\n",
    "\n",
    "for( j in c(\"female\",\"male\")){\n",
    "    for( i in 1:3) {\n",
    "        class1Female <- sum(train_df$Sex == j & train_df$Pclass == i)\n",
    "        class1FemaleSurv <-sum(train_df$Sex == j & train_df$Pclass == i & train_df$Survived == 1)\n",
    "        cat(i,\"등 객실의 \",ifelse(j == \"female\",\"여성\",\"남성\"),\"생존율은 \" , class1FemaleSurv,\"/\",class1Female ,\",\",round(class1FemaleSurv/class1Female * 100,2),\"%\\n\"  )\n",
    "        survrateperlass<- c(survrateperlass,round(class1FemaleSurv/class1Female * 100,2))\n",
    "    }\n",
    "    cat(\"--------------------------------------------------\\n\")\n",
    "}\n",
    "survrateperlass <- survrateperlass[-1]"
   ]
  },
  {
   "cell_type": "code",
   "execution_count": 40,
   "id": "59c87d3a",
   "metadata": {},
   "outputs": [
    {
     "data": {
      "image/png": "[encoded data removed]",
      "text/plain": [
       "Plot with title \"객실 등급별 생존률\""
      ]
     },
     "metadata": {},
     "output_type": "display_data"
    }
   ],
   "source": [
    "par(family = \"AppleGothic\")\n",
    "options(warn = -1)\n",
    "\n",
    "barplot(\n",
    "        survrateperlass,\n",
    "        main = \"객실 등급별 생존률\",\n",
    "        col = c(\"gray\"),\n",
    "        ylim = c(0,100),\n",
    "        xlab = \"객실등급\",\n",
    "        ylab = \"생존률\",\n",
    "        names = c(\"1객실(여)\",\"2객실(여)\",\"3객실(여)\",\"1객실(남)\",\"2객실(남)\",\"3객실(남)\"),\n",
    "        cex.axis = 1,\n",
    "        cex.names = 0.9,\n",
    "        border = rep(c(\"red\",\"blue\"),each = 3),\n",
    "        density = rep(c(10,100),each=3)\n",
    "        )\n",
    "for ( i in 1:6)\n",
    "    text(i*1.2 -0.5,survrateperlass[i]-4, paste(survrateperlass[i],\"%\",sep=\"\"))\n"
   ]
  },
  {
   "cell_type": "code",
   "execution_count": 41,
   "id": "ee5003ec",
   "metadata": {},
   "outputs": [
    {
     "name": "stdout",
     "output_type": "stream",
     "text": [
      "'data.frame':\t891 obs. of  12 variables:\n",
      " $ assengerId: int  1 5 6 7 8 13 14 15 17 19 ...\n",
      " $ Survived  : int  0 0 0 0 0 0 0 0 0 0 ...\n",
      " $ Pclass    : int  3 3 3 1 3 3 3 3 3 3 ...\n",
      " $ Name      : Factor w/ 891 levels \"Abbing, Mr. Anthony\",..: 109 16 559 520 629 734 29 847 687 846 ...\n",
      " $ Sex       : Factor w/ 2 levels \"female\",\"male\": 2 2 2 2 2 2 2 1 2 1 ...\n",
      " $ Age       : num  22 35 NA 54 2 20 39 14 2 31 ...\n",
      " $ SibSp     : int  1 0 0 0 3 0 1 0 4 1 ...\n",
      " $ Parch     : int  0 0 0 0 1 0 5 0 1 0 ...\n",
      " $ Ticket    : Factor w/ 681 levels \"110152\",\"110413\",..: 524 473 276 86 396 536 334 414 481 302 ...\n",
      " $ Fare      : num  7.25 8.05 8.46 51.86 21.07 ...\n",
      " $ Cabin     : Factor w/ 148 levels \"\",\"A10\",\"A14\",..: 1 1 1 131 1 1 1 1 1 1 ...\n",
      " $ Embarked  : Factor w/ 4 levels \"\",\"C\",\"Q\",\"S\": 4 4 3 4 4 4 4 4 3 4 ...\n"
     ]
    }
   ],
   "source": [
    "str(train_df)"
   ]
  },
  {
   "cell_type": "markdown",
   "id": "9726b39b",
   "metadata": {},
   "source": [
    "> [Survived] <- [Sex,Pclass]"
   ]
  },
  {
   "cell_type": "code",
   "execution_count": 42,
   "id": "58af70d7",
   "metadata": {},
   "outputs": [
    {
     "data": {
      "text/html": [
       "<table>\n",
       "<thead><tr><th scope=col>assengerId</th><th scope=col>Survived</th><th scope=col>Pclass</th><th scope=col>Name</th><th scope=col>Sex</th><th scope=col>Age</th><th scope=col>SibSp</th><th scope=col>Parch</th><th scope=col>Ticket</th><th scope=col>Fare</th><th scope=col>Cabin</th><th scope=col>Embarked</th></tr></thead>\n",
       "<tbody>\n",
       "\t<tr><td> 1                            </td><td>0                             </td><td>3                             </td><td>Braund, Mr. Owen Harris       </td><td>male                          </td><td>22                            </td><td>1                             </td><td>0                             </td><td>A/5 21171                     </td><td> 7.2500                       </td><td>                              </td><td>S                             </td></tr>\n",
       "\t<tr><td> 5                            </td><td>0                             </td><td>3                             </td><td>Allen, Mr. William Henry      </td><td>male                          </td><td>35                            </td><td>0                             </td><td>0                             </td><td>373450                        </td><td> 8.0500                       </td><td>                              </td><td>S                             </td></tr>\n",
       "\t<tr><td> 6                            </td><td>0                             </td><td>3                             </td><td>Moran, Mr. James              </td><td>male                          </td><td>NA                            </td><td>0                             </td><td>0                             </td><td>330877                        </td><td> 8.4583                       </td><td>                              </td><td>Q                             </td></tr>\n",
       "\t<tr><td> 7                            </td><td>0                             </td><td>1                             </td><td>McCarthy, Mr. Timothy J       </td><td>male                          </td><td>54                            </td><td>0                             </td><td>0                             </td><td>17463                         </td><td>51.8625                       </td><td>E46                           </td><td>S                             </td></tr>\n",
       "\t<tr><td> 8                            </td><td>0                             </td><td>3                             </td><td>Palsson, Master. Gosta Leonard</td><td>male                          </td><td> 2                            </td><td>3                             </td><td>1                             </td><td>349909                        </td><td>21.0750                       </td><td>                              </td><td>S                             </td></tr>\n",
       "\t<tr><td>13                            </td><td>0                             </td><td>3                             </td><td>Saundercock, Mr. William Henry</td><td>male                          </td><td>20                            </td><td>0                             </td><td>0                             </td><td>A/5. 2151                     </td><td> 8.0500                       </td><td>                              </td><td>S                             </td></tr>\n",
       "</tbody>\n",
       "</table>\n"
      ],
      "text/latex": [
       "\\begin{tabular}{r|llllllllllll}\n",
       " assengerId & Survived & Pclass & Name & Sex & Age & SibSp & Parch & Ticket & Fare & Cabin & Embarked\\\\\n",
       "\\hline\n",
       "\t  1                             & 0                              & 3                              & Braund, Mr. Owen Harris        & male                           & 22                             & 1                              & 0                              & A/5 21171                      &  7.2500                        &                                & S                             \\\\\n",
       "\t  5                             & 0                              & 3                              & Allen, Mr. William Henry       & male                           & 35                             & 0                              & 0                              & 373450                         &  8.0500                        &                                & S                             \\\\\n",
       "\t  6                             & 0                              & 3                              & Moran, Mr. James               & male                           & NA                             & 0                              & 0                              & 330877                         &  8.4583                        &                                & Q                             \\\\\n",
       "\t  7                             & 0                              & 1                              & McCarthy, Mr. Timothy J        & male                           & 54                             & 0                              & 0                              & 17463                          & 51.8625                        & E46                            & S                             \\\\\n",
       "\t  8                             & 0                              & 3                              & Palsson, Master. Gosta Leonard & male                           &  2                             & 3                              & 1                              & 349909                         & 21.0750                        &                                & S                             \\\\\n",
       "\t 13                             & 0                              & 3                              & Saundercock, Mr. William Henry & male                           & 20                             & 0                              & 0                              & A/5. 2151                      &  8.0500                        &                                & S                             \\\\\n",
       "\\end{tabular}\n"
      ],
      "text/markdown": [
       "\n",
       "| assengerId | Survived | Pclass | Name | Sex | Age | SibSp | Parch | Ticket | Fare | Cabin | Embarked |\n",
       "|---|---|---|---|---|---|---|---|---|---|---|---|\n",
       "|  1                             | 0                              | 3                              | Braund, Mr. Owen Harris        | male                           | 22                             | 1                              | 0                              | A/5 21171                      |  7.2500                        |                                | S                              |\n",
       "|  5                             | 0                              | 3                              | Allen, Mr. William Henry       | male                           | 35                             | 0                              | 0                              | 373450                         |  8.0500                        |                                | S                              |\n",
       "|  6                             | 0                              | 3                              | Moran, Mr. James               | male                           | NA                             | 0                              | 0                              | 330877                         |  8.4583                        |                                | Q                              |\n",
       "|  7                             | 0                              | 1                              | McCarthy, Mr. Timothy J        | male                           | 54                             | 0                              | 0                              | 17463                          | 51.8625                        | E46                            | S                              |\n",
       "|  8                             | 0                              | 3                              | Palsson, Master. Gosta Leonard | male                           |  2                             | 3                              | 1                              | 349909                         | 21.0750                        |                                | S                              |\n",
       "| 13                             | 0                              | 3                              | Saundercock, Mr. William Henry | male                           | 20                             | 0                              | 0                              | A/5. 2151                      |  8.0500                        |                                | S                              |\n",
       "\n"
      ],
      "text/plain": [
       "  assengerId Survived Pclass Name                           Sex  Age SibSp\n",
       "1  1         0        3      Braund, Mr. Owen Harris        male 22  1    \n",
       "2  5         0        3      Allen, Mr. William Henry       male 35  0    \n",
       "3  6         0        3      Moran, Mr. James               male NA  0    \n",
       "4  7         0        1      McCarthy, Mr. Timothy J        male 54  0    \n",
       "5  8         0        3      Palsson, Master. Gosta Leonard male  2  3    \n",
       "6 13         0        3      Saundercock, Mr. William Henry male 20  0    \n",
       "  Parch Ticket    Fare    Cabin Embarked\n",
       "1 0     A/5 21171  7.2500       S       \n",
       "2 0     373450     8.0500       S       \n",
       "3 0     330877     8.4583       Q       \n",
       "4 0     17463     51.8625 E46   S       \n",
       "5 1     349909    21.0750       S       \n",
       "6 0     A/5. 2151  8.0500       S       "
      ]
     },
     "metadata": {},
     "output_type": "display_data"
    }
   ],
   "source": [
    "head(train_df)"
   ]
  },
  {
   "cell_type": "markdown",
   "id": "44faf55f",
   "metadata": {},
   "source": [
    "---\n",
    "### Embarked(항구의 위치)"
   ]
  },
  {
   "cell_type": "code",
   "execution_count": 43,
   "id": "f54002d5",
   "metadata": {},
   "outputs": [
    {
     "name": "stdout",
     "output_type": "stream",
     "text": [
      "'data.frame':\t891 obs. of  12 variables:\n",
      " $ assengerId: int  1 5 6 7 8 13 14 15 17 19 ...\n",
      " $ Survived  : int  0 0 0 0 0 0 0 0 0 0 ...\n",
      " $ Pclass    : int  3 3 3 1 3 3 3 3 3 3 ...\n",
      " $ Name      : Factor w/ 891 levels \"Abbing, Mr. Anthony\",..: 109 16 559 520 629 734 29 847 687 846 ...\n",
      " $ Sex       : Factor w/ 2 levels \"female\",\"male\": 2 2 2 2 2 2 2 1 2 1 ...\n",
      " $ Age       : num  22 35 NA 54 2 20 39 14 2 31 ...\n",
      " $ SibSp     : int  1 0 0 0 3 0 1 0 4 1 ...\n",
      " $ Parch     : int  0 0 0 0 1 0 5 0 1 0 ...\n",
      " $ Ticket    : Factor w/ 681 levels \"110152\",\"110413\",..: 524 473 276 86 396 536 334 414 481 302 ...\n",
      " $ Fare      : num  7.25 8.05 8.46 51.86 21.07 ...\n",
      " $ Cabin     : Factor w/ 148 levels \"\",\"A10\",\"A14\",..: 1 1 1 131 1 1 1 1 1 1 ...\n",
      " $ Embarked  : Factor w/ 4 levels \"\",\"C\",\"Q\",\"S\": 4 4 3 4 4 4 4 4 3 4 ...\n"
     ]
    }
   ],
   "source": [
    "str(train_df)"
   ]
  },
  {
   "cell_type": "code",
   "execution_count": 44,
   "id": "ba76ff1e",
   "metadata": {},
   "outputs": [
    {
     "data": {
      "text/plain": [
       "\n",
       "      C   Q   S \n",
       "  2 168  77 644 "
      ]
     },
     "metadata": {},
     "output_type": "display_data"
    }
   ],
   "source": [
    "table(train_df$Embarked)"
   ]
  },
  {
   "cell_type": "code",
   "execution_count": 45,
   "id": "20429dce",
   "metadata": {},
   "outputs": [
    {
     "data": {
      "text/html": [
       "<ol class=list-inline>\n",
       "\t<li>S</li>\n",
       "\t<li>Q</li>\n",
       "\t<li>C</li>\n",
       "\t<li></li>\n",
       "</ol>\n",
       "\n",
       "<details>\n",
       "\t<summary style=display:list-item;cursor:pointer>\n",
       "\t\t<strong>Levels</strong>:\n",
       "\t</summary>\n",
       "\t<ol class=list-inline>\n",
       "\t\t<li>''</li>\n",
       "\t\t<li>'C'</li>\n",
       "\t\t<li>'Q'</li>\n",
       "\t\t<li>'S'</li>\n",
       "\t</ol>\n",
       "</details>"
      ],
      "text/latex": [
       "\\begin{enumerate*}\n",
       "\\item S\n",
       "\\item Q\n",
       "\\item C\n",
       "\\item \n",
       "\\end{enumerate*}\n",
       "\n",
       "\\emph{Levels}: \\begin{enumerate*}\n",
       "\\item ''\n",
       "\\item 'C'\n",
       "\\item 'Q'\n",
       "\\item 'S'\n",
       "\\end{enumerate*}\n"
      ],
      "text/markdown": [
       "1. S\n",
       "2. Q\n",
       "3. C\n",
       "4. \n",
       "\n",
       "\n",
       "\n",
       "**Levels**: 1. ''\n",
       "2. 'C'\n",
       "3. 'Q'\n",
       "4. 'S'\n",
       "\n",
       "\n"
      ],
      "text/plain": [
       "[1] S Q C  \n",
       "Levels:  C Q S"
      ]
     },
     "metadata": {},
     "output_type": "display_data"
    }
   ],
   "source": [
    "unique(train_df$Embarked)"
   ]
  },
  {
   "cell_type": "code",
   "execution_count": 46,
   "id": "8a0a22f3",
   "metadata": {},
   "outputs": [
    {
     "data": {
      "text/html": [
       "<table>\n",
       "<thead><tr><th></th><th scope=col>assengerId</th><th scope=col>Survived</th><th scope=col>Pclass</th><th scope=col>Name</th><th scope=col>Sex</th><th scope=col>Age</th><th scope=col>SibSp</th><th scope=col>Parch</th><th scope=col>Ticket</th><th scope=col>Fare</th><th scope=col>Cabin</th><th scope=col>Embarked</th></tr></thead>\n",
       "<tbody>\n",
       "\t<tr><th scope=row>577</th><td> 62                                      </td><td>1                                        </td><td>1                                        </td><td>Icard, Miss. Amelie                      </td><td>female                                   </td><td>38                                       </td><td>0                                        </td><td>0                                        </td><td>113572                                   </td><td>80                                       </td><td>B28                                      </td><td>                                         </td></tr>\n",
       "\t<tr><th scope=row>868</th><td>830                                      </td><td>1                                        </td><td>1                                        </td><td>Stone, Mrs. George Nelson (Martha Evelyn)</td><td>female                                   </td><td>62                                       </td><td>0                                        </td><td>0                                        </td><td>113572                                   </td><td>80                                       </td><td>B28                                      </td><td>                                         </td></tr>\n",
       "</tbody>\n",
       "</table>\n"
      ],
      "text/latex": [
       "\\begin{tabular}{r|llllllllllll}\n",
       "  & assengerId & Survived & Pclass & Name & Sex & Age & SibSp & Parch & Ticket & Fare & Cabin & Embarked\\\\\n",
       "\\hline\n",
       "\t577 &  62                                       & 1                                         & 1                                         & Icard, Miss. Amelie                       & female                                    & 38                                        & 0                                         & 0                                         & 113572                                    & 80                                        & B28                                       &                                          \\\\\n",
       "\t868 & 830                                       & 1                                         & 1                                         & Stone, Mrs. George Nelson (Martha Evelyn) & female                                    & 62                                        & 0                                         & 0                                         & 113572                                    & 80                                        & B28                                       &                                          \\\\\n",
       "\\end{tabular}\n"
      ],
      "text/markdown": [
       "\n",
       "| <!--/--> | assengerId | Survived | Pclass | Name | Sex | Age | SibSp | Parch | Ticket | Fare | Cabin | Embarked |\n",
       "|---|---|---|---|---|---|---|---|---|---|---|---|---|\n",
       "| 577 |  62                                       | 1                                         | 1                                         | Icard, Miss. Amelie                       | female                                    | 38                                        | 0                                         | 0                                         | 113572                                    | 80                                        | B28                                       |                                           |\n",
       "| 868 | 830                                       | 1                                         | 1                                         | Stone, Mrs. George Nelson (Martha Evelyn) | female                                    | 62                                        | 0                                         | 0                                         | 113572                                    | 80                                        | B28                                       |                                           |\n",
       "\n"
      ],
      "text/plain": [
       "    assengerId Survived Pclass Name                                      Sex   \n",
       "577  62        1        1      Icard, Miss. Amelie                       female\n",
       "868 830        1        1      Stone, Mrs. George Nelson (Martha Evelyn) female\n",
       "    Age SibSp Parch Ticket Fare Cabin Embarked\n",
       "577 38  0     0     113572 80   B28           \n",
       "868 62  0     0     113572 80   B28           "
      ]
     },
     "metadata": {},
     "output_type": "display_data"
    }
   ],
   "source": [
    "# 빈칸의 데이터 찾기\n",
    "train_df[train_df$Embarked == \"\",]"
   ]
  },
  {
   "cell_type": "code",
   "execution_count": 47,
   "id": "534d0dcc",
   "metadata": {},
   "outputs": [
    {
     "data": {
      "text/html": [
       "<table>\n",
       "<thead><tr><th></th><th scope=col>assengerId</th><th scope=col>Survived</th><th scope=col>Pclass</th><th scope=col>Name</th><th scope=col>Sex</th><th scope=col>Age</th><th scope=col>SibSp</th><th scope=col>Parch</th><th scope=col>Ticket</th><th scope=col>Fare</th><th scope=col>Cabin</th><th scope=col>Embarked</th></tr></thead>\n",
       "<tbody>\n",
       "\t<tr><th scope=row>639</th><td>259                               </td><td>1                                 </td><td>1                                 </td><td>Ward, Miss. Anna                  </td><td>female                            </td><td>35                                </td><td>0                                 </td><td>0                                 </td><td>PC 17755                          </td><td>512.3292                          </td><td>                                  </td><td>C                                 </td></tr>\n",
       "\t<tr><th scope=row>814</th><td>680                               </td><td>1                                 </td><td>1                                 </td><td>Cardeza, Mr. Thomas Drake Martinez</td><td>male                              </td><td>36                                </td><td>0                                 </td><td>1                                 </td><td>PC 17755                          </td><td>512.3292                          </td><td>B51 B53 B55                       </td><td>C                                 </td></tr>\n",
       "\t<tr><th scope=row>836</th><td>738                               </td><td>1                                 </td><td>1                                 </td><td>Lesurer, Mr. Gustave J            </td><td>male                              </td><td>35                                </td><td>0                                 </td><td>0                                 </td><td>PC 17755                          </td><td>512.3292                          </td><td>B101                              </td><td>C                                 </td></tr>\n",
       "</tbody>\n",
       "</table>\n"
      ],
      "text/latex": [
       "\\begin{tabular}{r|llllllllllll}\n",
       "  & assengerId & Survived & Pclass & Name & Sex & Age & SibSp & Parch & Ticket & Fare & Cabin & Embarked\\\\\n",
       "\\hline\n",
       "\t639 & 259                                & 1                                  & 1                                  & Ward, Miss. Anna                   & female                             & 35                                 & 0                                  & 0                                  & PC 17755                           & 512.3292                           &                                    & C                                 \\\\\n",
       "\t814 & 680                                & 1                                  & 1                                  & Cardeza, Mr. Thomas Drake Martinez & male                               & 36                                 & 0                                  & 1                                  & PC 17755                           & 512.3292                           & B51 B53 B55                        & C                                 \\\\\n",
       "\t836 & 738                                & 1                                  & 1                                  & Lesurer, Mr. Gustave J             & male                               & 35                                 & 0                                  & 0                                  & PC 17755                           & 512.3292                           & B101                               & C                                 \\\\\n",
       "\\end{tabular}\n"
      ],
      "text/markdown": [
       "\n",
       "| <!--/--> | assengerId | Survived | Pclass | Name | Sex | Age | SibSp | Parch | Ticket | Fare | Cabin | Embarked |\n",
       "|---|---|---|---|---|---|---|---|---|---|---|---|---|\n",
       "| 639 | 259                                | 1                                  | 1                                  | Ward, Miss. Anna                   | female                             | 35                                 | 0                                  | 0                                  | PC 17755                           | 512.3292                           |                                    | C                                  |\n",
       "| 814 | 680                                | 1                                  | 1                                  | Cardeza, Mr. Thomas Drake Martinez | male                               | 36                                 | 0                                  | 1                                  | PC 17755                           | 512.3292                           | B51 B53 B55                        | C                                  |\n",
       "| 836 | 738                                | 1                                  | 1                                  | Lesurer, Mr. Gustave J             | male                               | 35                                 | 0                                  | 0                                  | PC 17755                           | 512.3292                           | B101                               | C                                  |\n",
       "\n"
      ],
      "text/plain": [
       "    assengerId Survived Pclass Name                               Sex    Age\n",
       "639 259        1        1      Ward, Miss. Anna                   female 35 \n",
       "814 680        1        1      Cardeza, Mr. Thomas Drake Martinez male   36 \n",
       "836 738        1        1      Lesurer, Mr. Gustave J             male   35 \n",
       "    SibSp Parch Ticket   Fare     Cabin       Embarked\n",
       "639 0     0     PC 17755 512.3292             C       \n",
       "814 0     1     PC 17755 512.3292 B51 B53 B55 C       \n",
       "836 0     0     PC 17755 512.3292 B101        C       "
      ]
     },
     "metadata": {},
     "output_type": "display_data"
    }
   ],
   "source": [
    "# 제일 많은 운임을 지불한 사람\n",
    "train_df[train_df$Fare == max(train_df$Fare),]"
   ]
  },
  {
   "cell_type": "code",
   "execution_count": 48,
   "id": "d0604047",
   "metadata": {},
   "outputs": [
    {
     "data": {
      "text/html": [
       "32.2042079685746"
      ],
      "text/latex": [
       "32.2042079685746"
      ],
      "text/markdown": [
       "32.2042079685746"
      ],
      "text/plain": [
       "[1] 32.20421"
      ]
     },
     "metadata": {},
     "output_type": "display_data"
    }
   ],
   "source": [
    "mean(train_df$Fare)"
   ]
  },
  {
   "cell_type": "code",
   "execution_count": 49,
   "id": "da6b3851",
   "metadata": {},
   "outputs": [
    {
     "data": {
      "text/html": [
       "644"
      ],
      "text/latex": [
       "644"
      ],
      "text/markdown": [
       "644"
      ],
      "text/plain": [
       "[1] 644"
      ]
     },
     "metadata": {},
     "output_type": "display_data"
    },
    {
     "data": {
      "text/html": [
       "168"
      ],
      "text/latex": [
       "168"
      ],
      "text/markdown": [
       "168"
      ],
      "text/plain": [
       "[1] 168"
      ]
     },
     "metadata": {},
     "output_type": "display_data"
    },
    {
     "data": {
      "text/html": [
       "77"
      ],
      "text/latex": [
       "77"
      ],
      "text/markdown": [
       "77"
      ],
      "text/plain": [
       "[1] 77"
      ]
     },
     "metadata": {},
     "output_type": "display_data"
    }
   ],
   "source": [
    "# 항구별 탑승인원을 구하여 가장 많은 탑승인원의 항구로 결정\n",
    "# 가장 많은 사람이 타니까 거기서 탈 확률도 높기 때문\n",
    "# S항구 탑승인원\n",
    "sum(train_df$Embarked == \"S\")\n",
    "# C항구 탑승인원\n",
    "sum(train_df$Embarked == \"C\")\n",
    "# Q항구 탑승인원\n",
    "sum(train_df$Embarked == \"Q\")\n"
   ]
  },
  {
   "cell_type": "markdown",
   "id": "20946518",
   "metadata": {},
   "source": [
    ">빈값 항구 S항구로 변경"
   ]
  },
  {
   "cell_type": "code",
   "execution_count": 50,
   "id": "d98d2a8e",
   "metadata": {},
   "outputs": [],
   "source": [
    "# 연습을 위한 데이터셋 복제\n",
    "train_df_T <- train_df"
   ]
  },
  {
   "cell_type": "code",
   "execution_count": 51,
   "id": "2575ad7a",
   "metadata": {},
   "outputs": [
    {
     "data": {
      "text/html": [
       "<table>\n",
       "<thead><tr><th></th><th scope=col>assengerId</th><th scope=col>Survived</th><th scope=col>Pclass</th><th scope=col>Name</th><th scope=col>Sex</th><th scope=col>Age</th><th scope=col>SibSp</th><th scope=col>Parch</th><th scope=col>Ticket</th><th scope=col>Fare</th><th scope=col>Cabin</th><th scope=col>Embarked</th></tr></thead>\n",
       "<tbody>\n",
       "\t<tr><th scope=row>577</th><td> 62                                      </td><td>1                                        </td><td>1                                        </td><td>Icard, Miss. Amelie                      </td><td>female                                   </td><td>38                                       </td><td>0                                        </td><td>0                                        </td><td>113572                                   </td><td>80                                       </td><td>B28                                      </td><td>                                         </td></tr>\n",
       "\t<tr><th scope=row>868</th><td>830                                      </td><td>1                                        </td><td>1                                        </td><td>Stone, Mrs. George Nelson (Martha Evelyn)</td><td>female                                   </td><td>62                                       </td><td>0                                        </td><td>0                                        </td><td>113572                                   </td><td>80                                       </td><td>B28                                      </td><td>                                         </td></tr>\n",
       "</tbody>\n",
       "</table>\n"
      ],
      "text/latex": [
       "\\begin{tabular}{r|llllllllllll}\n",
       "  & assengerId & Survived & Pclass & Name & Sex & Age & SibSp & Parch & Ticket & Fare & Cabin & Embarked\\\\\n",
       "\\hline\n",
       "\t577 &  62                                       & 1                                         & 1                                         & Icard, Miss. Amelie                       & female                                    & 38                                        & 0                                         & 0                                         & 113572                                    & 80                                        & B28                                       &                                          \\\\\n",
       "\t868 & 830                                       & 1                                         & 1                                         & Stone, Mrs. George Nelson (Martha Evelyn) & female                                    & 62                                        & 0                                         & 0                                         & 113572                                    & 80                                        & B28                                       &                                          \\\\\n",
       "\\end{tabular}\n"
      ],
      "text/markdown": [
       "\n",
       "| <!--/--> | assengerId | Survived | Pclass | Name | Sex | Age | SibSp | Parch | Ticket | Fare | Cabin | Embarked |\n",
       "|---|---|---|---|---|---|---|---|---|---|---|---|---|\n",
       "| 577 |  62                                       | 1                                         | 1                                         | Icard, Miss. Amelie                       | female                                    | 38                                        | 0                                         | 0                                         | 113572                                    | 80                                        | B28                                       |                                           |\n",
       "| 868 | 830                                       | 1                                         | 1                                         | Stone, Mrs. George Nelson (Martha Evelyn) | female                                    | 62                                        | 0                                         | 0                                         | 113572                                    | 80                                        | B28                                       |                                           |\n",
       "\n"
      ],
      "text/plain": [
       "    assengerId Survived Pclass Name                                      Sex   \n",
       "577  62        1        1      Icard, Miss. Amelie                       female\n",
       "868 830        1        1      Stone, Mrs. George Nelson (Martha Evelyn) female\n",
       "    Age SibSp Parch Ticket Fare Cabin Embarked\n",
       "577 38  0     0     113572 80   B28           \n",
       "868 62  0     0     113572 80   B28           "
      ]
     },
     "metadata": {},
     "output_type": "display_data"
    }
   ],
   "source": [
    "# 빈칸 항구 찾기 - 1\n",
    "subset(train_df_T, Embarked == \"\") "
   ]
  },
  {
   "cell_type": "code",
   "execution_count": 52,
   "id": "dadc42bb",
   "metadata": {},
   "outputs": [
    {
     "data": {
      "text/html": [
       "<table>\n",
       "<thead><tr><th></th><th scope=col>assengerId</th><th scope=col>Survived</th><th scope=col>Pclass</th><th scope=col>Name</th><th scope=col>Sex</th><th scope=col>Age</th><th scope=col>SibSp</th><th scope=col>Parch</th><th scope=col>Ticket</th><th scope=col>Fare</th><th scope=col>Cabin</th><th scope=col>Embarked</th></tr></thead>\n",
       "<tbody>\n",
       "\t<tr><th scope=row>577</th><td> 62                                      </td><td>1                                        </td><td>1                                        </td><td>Icard, Miss. Amelie                      </td><td>female                                   </td><td>38                                       </td><td>0                                        </td><td>0                                        </td><td>113572                                   </td><td>80                                       </td><td>B28                                      </td><td>                                         </td></tr>\n",
       "\t<tr><th scope=row>868</th><td>830                                      </td><td>1                                        </td><td>1                                        </td><td>Stone, Mrs. George Nelson (Martha Evelyn)</td><td>female                                   </td><td>62                                       </td><td>0                                        </td><td>0                                        </td><td>113572                                   </td><td>80                                       </td><td>B28                                      </td><td>                                         </td></tr>\n",
       "</tbody>\n",
       "</table>\n"
      ],
      "text/latex": [
       "\\begin{tabular}{r|llllllllllll}\n",
       "  & assengerId & Survived & Pclass & Name & Sex & Age & SibSp & Parch & Ticket & Fare & Cabin & Embarked\\\\\n",
       "\\hline\n",
       "\t577 &  62                                       & 1                                         & 1                                         & Icard, Miss. Amelie                       & female                                    & 38                                        & 0                                         & 0                                         & 113572                                    & 80                                        & B28                                       &                                          \\\\\n",
       "\t868 & 830                                       & 1                                         & 1                                         & Stone, Mrs. George Nelson (Martha Evelyn) & female                                    & 62                                        & 0                                         & 0                                         & 113572                                    & 80                                        & B28                                       &                                          \\\\\n",
       "\\end{tabular}\n"
      ],
      "text/markdown": [
       "\n",
       "| <!--/--> | assengerId | Survived | Pclass | Name | Sex | Age | SibSp | Parch | Ticket | Fare | Cabin | Embarked |\n",
       "|---|---|---|---|---|---|---|---|---|---|---|---|---|\n",
       "| 577 |  62                                       | 1                                         | 1                                         | Icard, Miss. Amelie                       | female                                    | 38                                        | 0                                         | 0                                         | 113572                                    | 80                                        | B28                                       |                                           |\n",
       "| 868 | 830                                       | 1                                         | 1                                         | Stone, Mrs. George Nelson (Martha Evelyn) | female                                    | 62                                        | 0                                         | 0                                         | 113572                                    | 80                                        | B28                                       |                                           |\n",
       "\n"
      ],
      "text/plain": [
       "    assengerId Survived Pclass Name                                      Sex   \n",
       "577  62        1        1      Icard, Miss. Amelie                       female\n",
       "868 830        1        1      Stone, Mrs. George Nelson (Martha Evelyn) female\n",
       "    Age SibSp Parch Ticket Fare Cabin Embarked\n",
       "577 38  0     0     113572 80   B28           \n",
       "868 62  0     0     113572 80   B28           "
      ]
     },
     "metadata": {},
     "output_type": "display_data"
    }
   ],
   "source": [
    "# 빈칸 항구 찾기 - 2\n",
    "train_df_T[train_df_T$Embarked == \"\",]"
   ]
  },
  {
   "cell_type": "code",
   "execution_count": 53,
   "id": "257f00e0",
   "metadata": {},
   "outputs": [],
   "source": [
    "# 빈칸 항구를 S항구로 변경 - 1\n",
    "train_df_T$Embarked <- ifelse(train_df_T$Embarked == \"\", \"S\", train_df_T$Embarked)"
   ]
  },
  {
   "cell_type": "code",
   "execution_count": 54,
   "id": "2a5da586",
   "metadata": {},
   "outputs": [
    {
     "data": {
      "text/html": [
       "<table>\n",
       "<thead><tr><th></th><th scope=col>assengerId</th><th scope=col>Survived</th><th scope=col>Pclass</th><th scope=col>Name</th><th scope=col>Sex</th><th scope=col>Age</th><th scope=col>SibSp</th><th scope=col>Parch</th><th scope=col>Ticket</th><th scope=col>Fare</th><th scope=col>Cabin</th><th scope=col>Embarked</th></tr></thead>\n",
       "<tbody>\n",
       "\t<tr><th scope=row>577</th><td> 62                                      </td><td>1                                        </td><td>1                                        </td><td>Icard, Miss. Amelie                      </td><td>female                                   </td><td>38                                       </td><td>0                                        </td><td>0                                        </td><td>113572                                   </td><td>80                                       </td><td>B28                                      </td><td>S                                        </td></tr>\n",
       "\t<tr><th scope=row>868</th><td>830                                      </td><td>1                                        </td><td>1                                        </td><td>Stone, Mrs. George Nelson (Martha Evelyn)</td><td>female                                   </td><td>62                                       </td><td>0                                        </td><td>0                                        </td><td>113572                                   </td><td>80                                       </td><td>B28                                      </td><td>S                                        </td></tr>\n",
       "</tbody>\n",
       "</table>\n"
      ],
      "text/latex": [
       "\\begin{tabular}{r|llllllllllll}\n",
       "  & assengerId & Survived & Pclass & Name & Sex & Age & SibSp & Parch & Ticket & Fare & Cabin & Embarked\\\\\n",
       "\\hline\n",
       "\t577 &  62                                       & 1                                         & 1                                         & Icard, Miss. Amelie                       & female                                    & 38                                        & 0                                         & 0                                         & 113572                                    & 80                                        & B28                                       & S                                        \\\\\n",
       "\t868 & 830                                       & 1                                         & 1                                         & Stone, Mrs. George Nelson (Martha Evelyn) & female                                    & 62                                        & 0                                         & 0                                         & 113572                                    & 80                                        & B28                                       & S                                        \\\\\n",
       "\\end{tabular}\n"
      ],
      "text/markdown": [
       "\n",
       "| <!--/--> | assengerId | Survived | Pclass | Name | Sex | Age | SibSp | Parch | Ticket | Fare | Cabin | Embarked |\n",
       "|---|---|---|---|---|---|---|---|---|---|---|---|---|\n",
       "| 577 |  62                                       | 1                                         | 1                                         | Icard, Miss. Amelie                       | female                                    | 38                                        | 0                                         | 0                                         | 113572                                    | 80                                        | B28                                       | S                                         |\n",
       "| 868 | 830                                       | 1                                         | 1                                         | Stone, Mrs. George Nelson (Martha Evelyn) | female                                    | 62                                        | 0                                         | 0                                         | 113572                                    | 80                                        | B28                                       | S                                         |\n",
       "\n"
      ],
      "text/plain": [
       "    assengerId Survived Pclass Name                                      Sex   \n",
       "577  62        1        1      Icard, Miss. Amelie                       female\n",
       "868 830        1        1      Stone, Mrs. George Nelson (Martha Evelyn) female\n",
       "    Age SibSp Parch Ticket Fare Cabin Embarked\n",
       "577 38  0     0     113572 80   B28   S       \n",
       "868 62  0     0     113572 80   B28   S       "
      ]
     },
     "metadata": {},
     "output_type": "display_data"
    }
   ],
   "source": [
    "train_df_T[c(577,868),]"
   ]
  },
  {
   "cell_type": "code",
   "execution_count": 55,
   "id": "fa72359a",
   "metadata": {},
   "outputs": [
    {
     "data": {
      "text/html": [
       "<table>\n",
       "<thead><tr><th></th><th scope=col>assengerId</th><th scope=col>Survived</th><th scope=col>Pclass</th><th scope=col>Name</th><th scope=col>Sex</th><th scope=col>Age</th><th scope=col>SibSp</th><th scope=col>Parch</th><th scope=col>Ticket</th><th scope=col>Fare</th><th scope=col>Cabin</th><th scope=col>Embarked</th></tr></thead>\n",
       "<tbody>\n",
       "\t<tr><th scope=row>577</th><td> 62                                      </td><td>1                                        </td><td>1                                        </td><td>Icard, Miss. Amelie                      </td><td>female                                   </td><td>38                                       </td><td>0                                        </td><td>0                                        </td><td>113572                                   </td><td>80                                       </td><td>B28                                      </td><td>                                         </td></tr>\n",
       "\t<tr><th scope=row>868</th><td>830                                      </td><td>1                                        </td><td>1                                        </td><td>Stone, Mrs. George Nelson (Martha Evelyn)</td><td>female                                   </td><td>62                                       </td><td>0                                        </td><td>0                                        </td><td>113572                                   </td><td>80                                       </td><td>B28                                      </td><td>                                         </td></tr>\n",
       "</tbody>\n",
       "</table>\n"
      ],
      "text/latex": [
       "\\begin{tabular}{r|llllllllllll}\n",
       "  & assengerId & Survived & Pclass & Name & Sex & Age & SibSp & Parch & Ticket & Fare & Cabin & Embarked\\\\\n",
       "\\hline\n",
       "\t577 &  62                                       & 1                                         & 1                                         & Icard, Miss. Amelie                       & female                                    & 38                                        & 0                                         & 0                                         & 113572                                    & 80                                        & B28                                       &                                          \\\\\n",
       "\t868 & 830                                       & 1                                         & 1                                         & Stone, Mrs. George Nelson (Martha Evelyn) & female                                    & 62                                        & 0                                         & 0                                         & 113572                                    & 80                                        & B28                                       &                                          \\\\\n",
       "\\end{tabular}\n"
      ],
      "text/markdown": [
       "\n",
       "| <!--/--> | assengerId | Survived | Pclass | Name | Sex | Age | SibSp | Parch | Ticket | Fare | Cabin | Embarked |\n",
       "|---|---|---|---|---|---|---|---|---|---|---|---|---|\n",
       "| 577 |  62                                       | 1                                         | 1                                         | Icard, Miss. Amelie                       | female                                    | 38                                        | 0                                         | 0                                         | 113572                                    | 80                                        | B28                                       |                                           |\n",
       "| 868 | 830                                       | 1                                         | 1                                         | Stone, Mrs. George Nelson (Martha Evelyn) | female                                    | 62                                        | 0                                         | 0                                         | 113572                                    | 80                                        | B28                                       |                                           |\n",
       "\n"
      ],
      "text/plain": [
       "    assengerId Survived Pclass Name                                      Sex   \n",
       "577  62        1        1      Icard, Miss. Amelie                       female\n",
       "868 830        1        1      Stone, Mrs. George Nelson (Martha Evelyn) female\n",
       "    Age SibSp Parch Ticket Fare Cabin Embarked\n",
       "577 38  0     0     113572 80   B28           \n",
       "868 62  0     0     113572 80   B28           "
      ]
     },
     "metadata": {},
     "output_type": "display_data"
    }
   ],
   "source": [
    "# 빈칸 항구를 S항구로 변경 -2\n",
    "train_df_T <- train_df\n",
    "train_df_T[c(577,868),]"
   ]
  },
  {
   "cell_type": "code",
   "execution_count": 56,
   "id": "e5788e82",
   "metadata": {},
   "outputs": [
    {
     "data": {
      "text/html": [
       "<table>\n",
       "<thead><tr><th></th><th scope=col>assengerId</th><th scope=col>Survived</th><th scope=col>Pclass</th><th scope=col>Name</th><th scope=col>Sex</th><th scope=col>Age</th><th scope=col>SibSp</th><th scope=col>Parch</th><th scope=col>Ticket</th><th scope=col>Fare</th><th scope=col>Cabin</th><th scope=col>Embarked</th></tr></thead>\n",
       "<tbody>\n",
       "\t<tr><th scope=row>577</th><td> 62                                      </td><td>1                                        </td><td>1                                        </td><td>Icard, Miss. Amelie                      </td><td>female                                   </td><td>38                                       </td><td>0                                        </td><td>0                                        </td><td>113572                                   </td><td>80                                       </td><td>B28                                      </td><td>S                                        </td></tr>\n",
       "\t<tr><th scope=row>868</th><td>830                                      </td><td>1                                        </td><td>1                                        </td><td>Stone, Mrs. George Nelson (Martha Evelyn)</td><td>female                                   </td><td>62                                       </td><td>0                                        </td><td>0                                        </td><td>113572                                   </td><td>80                                       </td><td>B28                                      </td><td>S                                        </td></tr>\n",
       "</tbody>\n",
       "</table>\n"
      ],
      "text/latex": [
       "\\begin{tabular}{r|llllllllllll}\n",
       "  & assengerId & Survived & Pclass & Name & Sex & Age & SibSp & Parch & Ticket & Fare & Cabin & Embarked\\\\\n",
       "\\hline\n",
       "\t577 &  62                                       & 1                                         & 1                                         & Icard, Miss. Amelie                       & female                                    & 38                                        & 0                                         & 0                                         & 113572                                    & 80                                        & B28                                       & S                                        \\\\\n",
       "\t868 & 830                                       & 1                                         & 1                                         & Stone, Mrs. George Nelson (Martha Evelyn) & female                                    & 62                                        & 0                                         & 0                                         & 113572                                    & 80                                        & B28                                       & S                                        \\\\\n",
       "\\end{tabular}\n"
      ],
      "text/markdown": [
       "\n",
       "| <!--/--> | assengerId | Survived | Pclass | Name | Sex | Age | SibSp | Parch | Ticket | Fare | Cabin | Embarked |\n",
       "|---|---|---|---|---|---|---|---|---|---|---|---|---|\n",
       "| 577 |  62                                       | 1                                         | 1                                         | Icard, Miss. Amelie                       | female                                    | 38                                        | 0                                         | 0                                         | 113572                                    | 80                                        | B28                                       | S                                         |\n",
       "| 868 | 830                                       | 1                                         | 1                                         | Stone, Mrs. George Nelson (Martha Evelyn) | female                                    | 62                                        | 0                                         | 0                                         | 113572                                    | 80                                        | B28                                       | S                                         |\n",
       "\n"
      ],
      "text/plain": [
       "    assengerId Survived Pclass Name                                      Sex   \n",
       "577  62        1        1      Icard, Miss. Amelie                       female\n",
       "868 830        1        1      Stone, Mrs. George Nelson (Martha Evelyn) female\n",
       "    Age SibSp Parch Ticket Fare Cabin Embarked\n",
       "577 38  0     0     113572 80   B28   S       \n",
       "868 62  0     0     113572 80   B28   S       "
      ]
     },
     "metadata": {},
     "output_type": "display_data"
    }
   ],
   "source": [
    "train_df_T[train_df_T$Embarked == \"\",]$Embarked <- \"S\"\n",
    "train_df_T[c(577,868),]"
   ]
  },
  {
   "cell_type": "code",
   "execution_count": 57,
   "id": "fdcb8224",
   "metadata": {},
   "outputs": [
    {
     "data": {
      "text/html": [
       "<table>\n",
       "<thead><tr><th></th><th scope=col>assengerId</th><th scope=col>Survived</th><th scope=col>Pclass</th><th scope=col>Name</th><th scope=col>Sex</th><th scope=col>Age</th><th scope=col>SibSp</th><th scope=col>Parch</th><th scope=col>Ticket</th><th scope=col>Fare</th><th scope=col>Cabin</th><th scope=col>Embarked</th></tr></thead>\n",
       "<tbody>\n",
       "\t<tr><th scope=row>577</th><td> 62                                      </td><td>1                                        </td><td>1                                        </td><td>Icard, Miss. Amelie                      </td><td>female                                   </td><td>38                                       </td><td>0                                        </td><td>0                                        </td><td>113572                                   </td><td>80                                       </td><td>B28                                      </td><td>                                         </td></tr>\n",
       "\t<tr><th scope=row>868</th><td>830                                      </td><td>1                                        </td><td>1                                        </td><td>Stone, Mrs. George Nelson (Martha Evelyn)</td><td>female                                   </td><td>62                                       </td><td>0                                        </td><td>0                                        </td><td>113572                                   </td><td>80                                       </td><td>B28                                      </td><td>                                         </td></tr>\n",
       "</tbody>\n",
       "</table>\n"
      ],
      "text/latex": [
       "\\begin{tabular}{r|llllllllllll}\n",
       "  & assengerId & Survived & Pclass & Name & Sex & Age & SibSp & Parch & Ticket & Fare & Cabin & Embarked\\\\\n",
       "\\hline\n",
       "\t577 &  62                                       & 1                                         & 1                                         & Icard, Miss. Amelie                       & female                                    & 38                                        & 0                                         & 0                                         & 113572                                    & 80                                        & B28                                       &                                          \\\\\n",
       "\t868 & 830                                       & 1                                         & 1                                         & Stone, Mrs. George Nelson (Martha Evelyn) & female                                    & 62                                        & 0                                         & 0                                         & 113572                                    & 80                                        & B28                                       &                                          \\\\\n",
       "\\end{tabular}\n"
      ],
      "text/markdown": [
       "\n",
       "| <!--/--> | assengerId | Survived | Pclass | Name | Sex | Age | SibSp | Parch | Ticket | Fare | Cabin | Embarked |\n",
       "|---|---|---|---|---|---|---|---|---|---|---|---|---|\n",
       "| 577 |  62                                       | 1                                         | 1                                         | Icard, Miss. Amelie                       | female                                    | 38                                        | 0                                         | 0                                         | 113572                                    | 80                                        | B28                                       |                                           |\n",
       "| 868 | 830                                       | 1                                         | 1                                         | Stone, Mrs. George Nelson (Martha Evelyn) | female                                    | 62                                        | 0                                         | 0                                         | 113572                                    | 80                                        | B28                                       |                                           |\n",
       "\n"
      ],
      "text/plain": [
       "    assengerId Survived Pclass Name                                      Sex   \n",
       "577  62        1        1      Icard, Miss. Amelie                       female\n",
       "868 830        1        1      Stone, Mrs. George Nelson (Martha Evelyn) female\n",
       "    Age SibSp Parch Ticket Fare Cabin Embarked\n",
       "577 38  0     0     113572 80   B28           \n",
       "868 62  0     0     113572 80   B28           "
      ]
     },
     "metadata": {},
     "output_type": "display_data"
    }
   ],
   "source": [
    "# 빈칸 항구를 S항구로 변경 - 3\n",
    "train_df_T <- train_df\n",
    "train_df_T[c(577,868),]"
   ]
  },
  {
   "cell_type": "code",
   "execution_count": 58,
   "id": "b2b4193e",
   "metadata": {},
   "outputs": [],
   "source": [
    "train_df_T$Embarked[train_df_T$Embarked == \"\"] <- \"S\""
   ]
  },
  {
   "cell_type": "code",
   "execution_count": 59,
   "id": "8e035b9c",
   "metadata": {},
   "outputs": [
    {
     "data": {
      "text/html": [
       "<table>\n",
       "<thead><tr><th></th><th scope=col>assengerId</th><th scope=col>Survived</th><th scope=col>Pclass</th><th scope=col>Name</th><th scope=col>Sex</th><th scope=col>Age</th><th scope=col>SibSp</th><th scope=col>Parch</th><th scope=col>Ticket</th><th scope=col>Fare</th><th scope=col>Cabin</th><th scope=col>Embarked</th></tr></thead>\n",
       "<tbody>\n",
       "\t<tr><th scope=row>577</th><td> 62                                      </td><td>1                                        </td><td>1                                        </td><td>Icard, Miss. Amelie                      </td><td>female                                   </td><td>38                                       </td><td>0                                        </td><td>0                                        </td><td>113572                                   </td><td>80                                       </td><td>B28                                      </td><td>S                                        </td></tr>\n",
       "\t<tr><th scope=row>868</th><td>830                                      </td><td>1                                        </td><td>1                                        </td><td>Stone, Mrs. George Nelson (Martha Evelyn)</td><td>female                                   </td><td>62                                       </td><td>0                                        </td><td>0                                        </td><td>113572                                   </td><td>80                                       </td><td>B28                                      </td><td>S                                        </td></tr>\n",
       "</tbody>\n",
       "</table>\n"
      ],
      "text/latex": [
       "\\begin{tabular}{r|llllllllllll}\n",
       "  & assengerId & Survived & Pclass & Name & Sex & Age & SibSp & Parch & Ticket & Fare & Cabin & Embarked\\\\\n",
       "\\hline\n",
       "\t577 &  62                                       & 1                                         & 1                                         & Icard, Miss. Amelie                       & female                                    & 38                                        & 0                                         & 0                                         & 113572                                    & 80                                        & B28                                       & S                                        \\\\\n",
       "\t868 & 830                                       & 1                                         & 1                                         & Stone, Mrs. George Nelson (Martha Evelyn) & female                                    & 62                                        & 0                                         & 0                                         & 113572                                    & 80                                        & B28                                       & S                                        \\\\\n",
       "\\end{tabular}\n"
      ],
      "text/markdown": [
       "\n",
       "| <!--/--> | assengerId | Survived | Pclass | Name | Sex | Age | SibSp | Parch | Ticket | Fare | Cabin | Embarked |\n",
       "|---|---|---|---|---|---|---|---|---|---|---|---|---|\n",
       "| 577 |  62                                       | 1                                         | 1                                         | Icard, Miss. Amelie                       | female                                    | 38                                        | 0                                         | 0                                         | 113572                                    | 80                                        | B28                                       | S                                         |\n",
       "| 868 | 830                                       | 1                                         | 1                                         | Stone, Mrs. George Nelson (Martha Evelyn) | female                                    | 62                                        | 0                                         | 0                                         | 113572                                    | 80                                        | B28                                       | S                                         |\n",
       "\n"
      ],
      "text/plain": [
       "    assengerId Survived Pclass Name                                      Sex   \n",
       "577  62        1        1      Icard, Miss. Amelie                       female\n",
       "868 830        1        1      Stone, Mrs. George Nelson (Martha Evelyn) female\n",
       "    Age SibSp Parch Ticket Fare Cabin Embarked\n",
       "577 38  0     0     113572 80   B28   S       \n",
       "868 62  0     0     113572 80   B28   S       "
      ]
     },
     "metadata": {},
     "output_type": "display_data"
    }
   ],
   "source": [
    "train_df_T[c(577,868),]"
   ]
  },
  {
   "cell_type": "code",
   "execution_count": 60,
   "id": "f0fc1a09",
   "metadata": {},
   "outputs": [],
   "source": [
    "train_df$Embarked[train_df$Embarked == \"\"] <- \"S\""
   ]
  },
  {
   "cell_type": "code",
   "execution_count": 61,
   "id": "5fe1a1c2",
   "metadata": {},
   "outputs": [
    {
     "data": {
      "text/html": [
       "<table>\n",
       "<thead><tr><th></th><th scope=col>assengerId</th><th scope=col>Survived</th><th scope=col>Pclass</th><th scope=col>Name</th><th scope=col>Sex</th><th scope=col>Age</th><th scope=col>SibSp</th><th scope=col>Parch</th><th scope=col>Ticket</th><th scope=col>Fare</th><th scope=col>Cabin</th><th scope=col>Embarked</th></tr></thead>\n",
       "<tbody>\n",
       "\t<tr><th scope=row>577</th><td> 62                                      </td><td>1                                        </td><td>1                                        </td><td>Icard, Miss. Amelie                      </td><td>female                                   </td><td>38                                       </td><td>0                                        </td><td>0                                        </td><td>113572                                   </td><td>80                                       </td><td>B28                                      </td><td>S                                        </td></tr>\n",
       "\t<tr><th scope=row>868</th><td>830                                      </td><td>1                                        </td><td>1                                        </td><td>Stone, Mrs. George Nelson (Martha Evelyn)</td><td>female                                   </td><td>62                                       </td><td>0                                        </td><td>0                                        </td><td>113572                                   </td><td>80                                       </td><td>B28                                      </td><td>S                                        </td></tr>\n",
       "</tbody>\n",
       "</table>\n"
      ],
      "text/latex": [
       "\\begin{tabular}{r|llllllllllll}\n",
       "  & assengerId & Survived & Pclass & Name & Sex & Age & SibSp & Parch & Ticket & Fare & Cabin & Embarked\\\\\n",
       "\\hline\n",
       "\t577 &  62                                       & 1                                         & 1                                         & Icard, Miss. Amelie                       & female                                    & 38                                        & 0                                         & 0                                         & 113572                                    & 80                                        & B28                                       & S                                        \\\\\n",
       "\t868 & 830                                       & 1                                         & 1                                         & Stone, Mrs. George Nelson (Martha Evelyn) & female                                    & 62                                        & 0                                         & 0                                         & 113572                                    & 80                                        & B28                                       & S                                        \\\\\n",
       "\\end{tabular}\n"
      ],
      "text/markdown": [
       "\n",
       "| <!--/--> | assengerId | Survived | Pclass | Name | Sex | Age | SibSp | Parch | Ticket | Fare | Cabin | Embarked |\n",
       "|---|---|---|---|---|---|---|---|---|---|---|---|---|\n",
       "| 577 |  62                                       | 1                                         | 1                                         | Icard, Miss. Amelie                       | female                                    | 38                                        | 0                                         | 0                                         | 113572                                    | 80                                        | B28                                       | S                                         |\n",
       "| 868 | 830                                       | 1                                         | 1                                         | Stone, Mrs. George Nelson (Martha Evelyn) | female                                    | 62                                        | 0                                         | 0                                         | 113572                                    | 80                                        | B28                                       | S                                         |\n",
       "\n"
      ],
      "text/plain": [
       "    assengerId Survived Pclass Name                                      Sex   \n",
       "577  62        1        1      Icard, Miss. Amelie                       female\n",
       "868 830        1        1      Stone, Mrs. George Nelson (Martha Evelyn) female\n",
       "    Age SibSp Parch Ticket Fare Cabin Embarked\n",
       "577 38  0     0     113572 80   B28   S       \n",
       "868 62  0     0     113572 80   B28   S       "
      ]
     },
     "metadata": {},
     "output_type": "display_data"
    }
   ],
   "source": [
    "train_df[c(577,868),]"
   ]
  },
  {
   "cell_type": "code",
   "execution_count": 62,
   "id": "c3f7a2b6",
   "metadata": {},
   "outputs": [
    {
     "data": {
      "text/html": [
       "646"
      ],
      "text/latex": [
       "646"
      ],
      "text/markdown": [
       "646"
      ],
      "text/plain": [
       "[1] 646"
      ]
     },
     "metadata": {},
     "output_type": "display_data"
    }
   ],
   "source": [
    "sum(train_df$Embarked == \"S\")"
   ]
  },
  {
   "cell_type": "code",
   "execution_count": 63,
   "id": "ad0a4654",
   "metadata": {},
   "outputs": [],
   "source": [
    "train_df$Embarked <- factor(train_df$Embarked)"
   ]
  },
  {
   "cell_type": "code",
   "execution_count": 64,
   "id": "d4f0941f",
   "metadata": {},
   "outputs": [
    {
     "name": "stdout",
     "output_type": "stream",
     "text": [
      " Factor w/ 3 levels \"C\",\"Q\",\"S\": 3 3 2 3 3 3 3 3 2 3 ...\n"
     ]
    }
   ],
   "source": [
    "str(train_df$Embarked)"
   ]
  },
  {
   "cell_type": "code",
   "execution_count": 65,
   "id": "43abb10b",
   "metadata": {
    "scrolled": true
   },
   "outputs": [
    {
     "data": {
      "image/png": "[encoded data removed]",
      "text/plain": [
       "Plot with title \"항구별 승선인원\""
      ]
     },
     "metadata": {},
     "output_type": "display_data"
    }
   ],
   "source": [
    "# 항구별 승선 인원\n",
    "par(family = \"AppleGothic\")\n",
    "options(warn = -1)\n",
    "\n",
    "barplot(\n",
    "        table(train_df$Embarked),\n",
    "        main = \"항구별 승선인원\",\n",
    "        col = c(\"blue\",\"red\",\"yellow\"),\n",
    "        ylim = c(0,700),\n",
    "        xlab = \"항구별\",\n",
    "        ylab = \"인원수\",\n",
    "#        names = c(\"C\",\"Q\",\"S\"),\n",
    "        cex.axis = 1,\n",
    "        cex.names = 1,\n",
    "#        border = rep(c(\"red\",\"blue\"),each = 3),\n",
    "#        density = rep(c(10,100),each=3)\n",
    "        )\n",
    "\n",
    "for(i in 1:length(table(train_df$Embarked)))\n",
    "    text(1.2*i-0.5,table(train_df$Embarked)[i]+20,table(train_df$Embarked)[i])"
   ]
  },
  {
   "cell_type": "code",
   "execution_count": 66,
   "id": "16fb428a",
   "metadata": {},
   "outputs": [
    {
     "data": {
      "text/plain": [
       "        Sex\n",
       "Embarked female male\n",
       "       C     73   95\n",
       "       Q     36   41\n",
       "       S    205  441"
      ]
     },
     "metadata": {},
     "output_type": "display_data"
    }
   ],
   "source": [
    "table(train_df[c(\"Embarked\",\"Sex\")])"
   ]
  },
  {
   "cell_type": "code",
   "execution_count": 67,
   "id": "37ff9157",
   "metadata": {
    "collapsed": true
   },
   "outputs": [
    {
     "data": {
      "image/png": "[encoded data removed]",
      "text/plain": [
       "Plot with title \"항구별 성별별 승선인원\""
      ]
     },
     "metadata": {},
     "output_type": "display_data"
    }
   ],
   "source": [
    "#항구별 승선 인원\n",
    "#항구별 성별 \n",
    "par(family = \"AppleGothic\")\n",
    "options(warn = -1)\n",
    "\n",
    "barplot(\n",
    "        t(table(train_df[c(\"Embarked\",\"Sex\")])),\n",
    "        main = \"항구별 성별별 승선인원\",\n",
    "        beside = T,\n",
    "        col = c(\"red\",\"blue\"),\n",
    "        ylim = c(0,500),\n",
    "        xlab = \"항구별 / 성별별\",\n",
    "        ylab = \"인원수\",\n",
    "#        names = c(\"C\",\"Q\",\"S\"),\n",
    "\n",
    "        cex.axis = 1,\n",
    "        cex.names = 1,\n",
    "#        border = rep(c(\"red\",\"blue\"),each = 3),\n",
    "#        density = rep(c(10,100),each=3)\n",
    "        )\n",
    "\n",
    "legend(1,450,\n",
    "      c(\"female\",\"male\"),\n",
    "       fill = c(\"red\",\"blue\")\n",
    "      )\n",
    "\n",
    "\n",
    "\n",
    "# for(i in 1:length(table(train_df$Embarked)))\n",
    "#     text(1.2*i-0.5,table(train_df$Embarked)[i]+20,table(train_df$Embarked)[i])"
   ]
  },
  {
   "cell_type": "code",
   "execution_count": 68,
   "id": "f6d16764",
   "metadata": {},
   "outputs": [],
   "source": [
    "# plot 이 C Q 보다 S 가 월등히 크기때문에 S항구만 의미가 있으면 됨.\n",
    "# S 항구에 성별비율 갭이 커서 쓸만하다\n"
   ]
  },
  {
   "cell_type": "code",
   "execution_count": 69,
   "id": "3c82dcca",
   "metadata": {},
   "outputs": [
    {
     "data": {
      "image/png": "[encoded data removed]",
      "text/plain": [
       "Plot with title \"항구별 생존인원\""
      ]
     },
     "metadata": {},
     "output_type": "display_data"
    }
   ],
   "source": [
    "par(family = \"AppleGothic\")\n",
    "options(warn = -1)\n",
    "\n",
    "barplot(\n",
    "        t(table(train_df[c(\"Embarked\",\"Survived\")])),\n",
    "        main = \"항구별 생존인원\",\n",
    "        beside = T,\n",
    "        col = c(\"red\",\"blue\"),\n",
    "        ylim = c(0,500),\n",
    "        xlab = \"항구별\",\n",
    "        ylab = \"인원수\",\n",
    "        cex.axis = 1,\n",
    "        cex.names = 1,\n",
    "        )\n",
    "\n",
    "legend(1,450,\n",
    "       c(\"death\",\"survive\"),\n",
    "       fill = c(\"red\",\"blue\")\n",
    "      \n",
    "      )"
   ]
  },
  {
   "cell_type": "code",
   "execution_count": 70,
   "id": "0727701a",
   "metadata": {},
   "outputs": [
    {
     "data": {
      "text/html": [
       "0.725028058361392"
      ],
      "text/latex": [
       "0.725028058361392"
      ],
      "text/markdown": [
       "0.725028058361392"
      ],
      "text/plain": [
       "[1] 0.7250281"
      ]
     },
     "metadata": {},
     "output_type": "display_data"
    }
   ],
   "source": [
    "sum(train_df$Embarked == \"S\")/nrow(train_df)"
   ]
  },
  {
   "cell_type": "code",
   "execution_count": 71,
   "id": "1f671179",
   "metadata": {},
   "outputs": [
    {
     "data": {
      "image/png": "[encoded data removed]",
      "text/plain": [
       "Plot with title \"항구별 객실 등급별 승선인원\""
      ]
     },
     "metadata": {},
     "output_type": "display_data"
    }
   ],
   "source": [
    "par(family = \"AppleGothic\")\n",
    "options(warn = -1)\n",
    "\n",
    "barplot(\n",
    "        t(table(train_df[c(\"Embarked\",\"Pclass\")])),\n",
    "        main = \"항구별 객실 등급별 승선인원\",\n",
    "        beside = T,\n",
    "        col = c(\"red\",\"blue\",\"yellow\"),\n",
    "        ylim = c(0,500),\n",
    "        xlab = \"항구별 / 객실 등급\",\n",
    "        ylab = \"인원수\",\n",
    "#        names = c(\"C\",\"Q\",\"S\"),\n",
    "\n",
    "        cex.axis = 1,\n",
    "        cex.names = 1,\n",
    "#        border = rep(c(\"red\",\"blue\"),each = 3),\n",
    "#        density = rep(c(10,100),each=3)\n",
    "        )\n",
    "\n",
    "legend(1,450,\n",
    "      c(1,2,3),\n",
    "       fill = c(\"red\",\"blue\",\"yellow\")\n",
    "      \n",
    "      )"
   ]
  },
  {
   "cell_type": "code",
   "execution_count": 152,
   "id": "f50456ad",
   "metadata": {},
   "outputs": [
    {
     "data": {
      "image/png": "[encoded data removed]",
      "text/plain": [
       "Plot with title \"항구별 객실 등급별 승선인원\""
      ]
     },
     "metadata": {},
     "output_type": "display_data"
    }
   ],
   "source": [
    "# 그래프 한눈에 보기\n",
    "par(mfrow = c(2,2))\n",
    "par(family = \"AppleGothic\")\n",
    "options(warn = -1)\n",
    "\n",
    "barplot(\n",
    "        table(train_df$Embarked),\n",
    "        main = \"항구별 승선인원\",\n",
    "        col = c(\"blue\",\"red\",\"yellow\"),\n",
    "        ylim = c(0,700),\n",
    "        xlab = \"항구별\",\n",
    "        ylab = \"인원수\",\n",
    "        )\n",
    "\n",
    "for(i in 1:length(table(train_df$Embarked)))\n",
    "    text(1.2*i-0.5,table(train_df$Embarked)[i]+30,table(train_df$Embarked)[i])\n",
    "barplot(\n",
    "        t(table(train_df[c(\"Embarked\",\"Sex\")])),\n",
    "        main = \"항구별 성별별 승선인원\",\n",
    "        beside = T,\n",
    "        col = c(\"red\",\"blue\"),\n",
    "        ylim = c(0,500),\n",
    "        xlab = \"항구별 / 성별별\",\n",
    "        ylab = \"인원수\",\n",
    "        )\n",
    "\n",
    "legend(1,450,\n",
    "      c(\"female\",\"male\"),\n",
    "       fill = c(\"red\",\"blue\")\n",
    "      )\n",
    "\n",
    "barplot(\n",
    "        t(table(train_df[c(\"Embarked\",\"Survived\")])),\n",
    "        main = \"항구별 생존인원\",\n",
    "        beside = T,\n",
    "        col = c(\"red\",\"blue\"),\n",
    "        ylim = c(0,500),\n",
    "        xlab = \"항구별\",\n",
    "        ylab = \"인원수\",\n",
    "        )\n",
    "legend(1,450,\n",
    "       c(\"death\",\"survive\"),\n",
    "       fill = c(\"red\",\"blue\")\n",
    "      )\n",
    "\n",
    "barplot(\n",
    "        t(table(train_df[c(\"Embarked\",\"Pclass\")])),\n",
    "        main = \"항구별 객실 등급별 승선인원\",\n",
    "        beside = T,\n",
    "        col = c(\"red\",\"blue\",\"yellow\"),\n",
    "        ylim = c(0,500),\n",
    "        xlab = \"항구별 / 객실 등급\",\n",
    "        ylab = \"인원수\",\n",
    "        )\n",
    "\n",
    "legend(1,450,\n",
    "      c(1,2,3),\n",
    "       fill = c(\"red\",\"blue\",\"yellow\")\n",
    "      )\n"
   ]
  },
  {
   "cell_type": "markdown",
   "id": "710143e9",
   "metadata": {},
   "source": [
    "---\n",
    "# RandomForest로 예측모델 생성"
   ]
  },
  {
   "cell_type": "code",
   "execution_count": 73,
   "id": "12af8bc8",
   "metadata": {},
   "outputs": [],
   "source": [
    "# 복사본\n",
    "train_df_T <- train_df"
   ]
  },
  {
   "cell_type": "code",
   "execution_count": 74,
   "id": "e67ec358",
   "metadata": {},
   "outputs": [
    {
     "data": {
      "text/html": [
       "<table>\n",
       "<thead><tr><th scope=col>Survived</th><th scope=col>Sex</th><th scope=col>Pclass</th><th scope=col>Embarked</th></tr></thead>\n",
       "<tbody>\n",
       "\t<tr><td>0   </td><td>male</td><td>3   </td><td>S   </td></tr>\n",
       "\t<tr><td>0   </td><td>male</td><td>3   </td><td>S   </td></tr>\n",
       "\t<tr><td>0   </td><td>male</td><td>3   </td><td>Q   </td></tr>\n",
       "\t<tr><td>0   </td><td>male</td><td>1   </td><td>S   </td></tr>\n",
       "\t<tr><td>0   </td><td>male</td><td>3   </td><td>S   </td></tr>\n",
       "\t<tr><td>0   </td><td>male</td><td>3   </td><td>S   </td></tr>\n",
       "</tbody>\n",
       "</table>\n"
      ],
      "text/latex": [
       "\\begin{tabular}{r|llll}\n",
       " Survived & Sex & Pclass & Embarked\\\\\n",
       "\\hline\n",
       "\t 0    & male & 3    & S   \\\\\n",
       "\t 0    & male & 3    & S   \\\\\n",
       "\t 0    & male & 3    & Q   \\\\\n",
       "\t 0    & male & 1    & S   \\\\\n",
       "\t 0    & male & 3    & S   \\\\\n",
       "\t 0    & male & 3    & S   \\\\\n",
       "\\end{tabular}\n"
      ],
      "text/markdown": [
       "\n",
       "| Survived | Sex | Pclass | Embarked |\n",
       "|---|---|---|---|\n",
       "| 0    | male | 3    | S    |\n",
       "| 0    | male | 3    | S    |\n",
       "| 0    | male | 3    | Q    |\n",
       "| 0    | male | 1    | S    |\n",
       "| 0    | male | 3    | S    |\n",
       "| 0    | male | 3    | S    |\n",
       "\n"
      ],
      "text/plain": [
       "  Survived Sex  Pclass Embarked\n",
       "1 0        male 3      S       \n",
       "2 0        male 3      S       \n",
       "3 0        male 3      Q       \n",
       "4 0        male 1      S       \n",
       "5 0        male 3      S       \n",
       "6 0        male 3      S       "
      ]
     },
     "metadata": {},
     "output_type": "display_data"
    }
   ],
   "source": [
    "# 예측을 위한 컬럼 확인\n",
    "target_col <- c(\"Survived\",\"Sex\",\"Pclass\",\"Embarked\")\n",
    "head(train_df_T[,target_col])"
   ]
  },
  {
   "cell_type": "code",
   "execution_count": 75,
   "id": "ad529906",
   "metadata": {},
   "outputs": [],
   "source": [
    "# Sex 컬럼을 숫자로 전환\n",
    "train_df_T$SexCode[train_df_T$Sex == \"male\"] <- 0\n",
    "train_df_T$SexCode[train_df_T$Sex == \"female\"] <- 1\n"
   ]
  },
  {
   "cell_type": "code",
   "execution_count": 76,
   "id": "f304d0b2",
   "metadata": {},
   "outputs": [
    {
     "data": {
      "text/html": [
       "<table>\n",
       "<thead><tr><th scope=col>assengerId</th><th scope=col>Survived</th><th scope=col>Pclass</th><th scope=col>Name</th><th scope=col>Sex</th><th scope=col>Age</th><th scope=col>SibSp</th><th scope=col>Parch</th><th scope=col>Ticket</th><th scope=col>Fare</th><th scope=col>Cabin</th><th scope=col>Embarked</th><th scope=col>SexCode</th></tr></thead>\n",
       "<tbody>\n",
       "\t<tr><td> 1                            </td><td>0                             </td><td>3                             </td><td>Braund, Mr. Owen Harris       </td><td>male                          </td><td>22                            </td><td>1                             </td><td>0                             </td><td>A/5 21171                     </td><td> 7.2500                       </td><td>                              </td><td>S                             </td><td>0                             </td></tr>\n",
       "\t<tr><td> 5                            </td><td>0                             </td><td>3                             </td><td>Allen, Mr. William Henry      </td><td>male                          </td><td>35                            </td><td>0                             </td><td>0                             </td><td>373450                        </td><td> 8.0500                       </td><td>                              </td><td>S                             </td><td>0                             </td></tr>\n",
       "\t<tr><td> 6                            </td><td>0                             </td><td>3                             </td><td>Moran, Mr. James              </td><td>male                          </td><td>NA                            </td><td>0                             </td><td>0                             </td><td>330877                        </td><td> 8.4583                       </td><td>                              </td><td>Q                             </td><td>0                             </td></tr>\n",
       "\t<tr><td> 7                            </td><td>0                             </td><td>1                             </td><td>McCarthy, Mr. Timothy J       </td><td>male                          </td><td>54                            </td><td>0                             </td><td>0                             </td><td>17463                         </td><td>51.8625                       </td><td>E46                           </td><td>S                             </td><td>0                             </td></tr>\n",
       "\t<tr><td> 8                            </td><td>0                             </td><td>3                             </td><td>Palsson, Master. Gosta Leonard</td><td>male                          </td><td> 2                            </td><td>3                             </td><td>1                             </td><td>349909                        </td><td>21.0750                       </td><td>                              </td><td>S                             </td><td>0                             </td></tr>\n",
       "\t<tr><td>13                            </td><td>0                             </td><td>3                             </td><td>Saundercock, Mr. William Henry</td><td>male                          </td><td>20                            </td><td>0                             </td><td>0                             </td><td>A/5. 2151                     </td><td> 8.0500                       </td><td>                              </td><td>S                             </td><td>0                             </td></tr>\n",
       "</tbody>\n",
       "</table>\n"
      ],
      "text/latex": [
       "\\begin{tabular}{r|lllllllllllll}\n",
       " assengerId & Survived & Pclass & Name & Sex & Age & SibSp & Parch & Ticket & Fare & Cabin & Embarked & SexCode\\\\\n",
       "\\hline\n",
       "\t  1                             & 0                              & 3                              & Braund, Mr. Owen Harris        & male                           & 22                             & 1                              & 0                              & A/5 21171                      &  7.2500                        &                                & S                              & 0                             \\\\\n",
       "\t  5                             & 0                              & 3                              & Allen, Mr. William Henry       & male                           & 35                             & 0                              & 0                              & 373450                         &  8.0500                        &                                & S                              & 0                             \\\\\n",
       "\t  6                             & 0                              & 3                              & Moran, Mr. James               & male                           & NA                             & 0                              & 0                              & 330877                         &  8.4583                        &                                & Q                              & 0                             \\\\\n",
       "\t  7                             & 0                              & 1                              & McCarthy, Mr. Timothy J        & male                           & 54                             & 0                              & 0                              & 17463                          & 51.8625                        & E46                            & S                              & 0                             \\\\\n",
       "\t  8                             & 0                              & 3                              & Palsson, Master. Gosta Leonard & male                           &  2                             & 3                              & 1                              & 349909                         & 21.0750                        &                                & S                              & 0                             \\\\\n",
       "\t 13                             & 0                              & 3                              & Saundercock, Mr. William Henry & male                           & 20                             & 0                              & 0                              & A/5. 2151                      &  8.0500                        &                                & S                              & 0                             \\\\\n",
       "\\end{tabular}\n"
      ],
      "text/markdown": [
       "\n",
       "| assengerId | Survived | Pclass | Name | Sex | Age | SibSp | Parch | Ticket | Fare | Cabin | Embarked | SexCode |\n",
       "|---|---|---|---|---|---|---|---|---|---|---|---|---|\n",
       "|  1                             | 0                              | 3                              | Braund, Mr. Owen Harris        | male                           | 22                             | 1                              | 0                              | A/5 21171                      |  7.2500                        |                                | S                              | 0                              |\n",
       "|  5                             | 0                              | 3                              | Allen, Mr. William Henry       | male                           | 35                             | 0                              | 0                              | 373450                         |  8.0500                        |                                | S                              | 0                              |\n",
       "|  6                             | 0                              | 3                              | Moran, Mr. James               | male                           | NA                             | 0                              | 0                              | 330877                         |  8.4583                        |                                | Q                              | 0                              |\n",
       "|  7                             | 0                              | 1                              | McCarthy, Mr. Timothy J        | male                           | 54                             | 0                              | 0                              | 17463                          | 51.8625                        | E46                            | S                              | 0                              |\n",
       "|  8                             | 0                              | 3                              | Palsson, Master. Gosta Leonard | male                           |  2                             | 3                              | 1                              | 349909                         | 21.0750                        |                                | S                              | 0                              |\n",
       "| 13                             | 0                              | 3                              | Saundercock, Mr. William Henry | male                           | 20                             | 0                              | 0                              | A/5. 2151                      |  8.0500                        |                                | S                              | 0                              |\n",
       "\n"
      ],
      "text/plain": [
       "  assengerId Survived Pclass Name                           Sex  Age SibSp\n",
       "1  1         0        3      Braund, Mr. Owen Harris        male 22  1    \n",
       "2  5         0        3      Allen, Mr. William Henry       male 35  0    \n",
       "3  6         0        3      Moran, Mr. James               male NA  0    \n",
       "4  7         0        1      McCarthy, Mr. Timothy J        male 54  0    \n",
       "5  8         0        3      Palsson, Master. Gosta Leonard male  2  3    \n",
       "6 13         0        3      Saundercock, Mr. William Henry male 20  0    \n",
       "  Parch Ticket    Fare    Cabin Embarked SexCode\n",
       "1 0     A/5 21171  7.2500       S        0      \n",
       "2 0     373450     8.0500       S        0      \n",
       "3 0     330877     8.4583       Q        0      \n",
       "4 0     17463     51.8625 E46   S        0      \n",
       "5 1     349909    21.0750       S        0      \n",
       "6 0     A/5. 2151  8.0500       S        0      "
      ]
     },
     "metadata": {},
     "output_type": "display_data"
    },
    {
     "data": {
      "text/html": [
       "<table>\n",
       "<thead><tr><th></th><th scope=col>assengerId</th><th scope=col>Survived</th><th scope=col>Pclass</th><th scope=col>Name</th><th scope=col>Sex</th><th scope=col>Age</th><th scope=col>SibSp</th><th scope=col>Parch</th><th scope=col>Ticket</th><th scope=col>Fare</th><th scope=col>Cabin</th><th scope=col>Embarked</th><th scope=col>SexCode</th></tr></thead>\n",
       "<tbody>\n",
       "\t<tr><th scope=row>886</th><td>875                                          </td><td>1                                            </td><td>2                                            </td><td>Abelson, Mrs. Samuel (Hannah Wizosky)        </td><td>female                                       </td><td>28                                           </td><td>1                                            </td><td>0                                            </td><td>P/PP 3381                                    </td><td>24.0000                                      </td><td>                                             </td><td>C                                            </td><td>1                                            </td></tr>\n",
       "\t<tr><th scope=row>887</th><td>876                                          </td><td>1                                            </td><td>3                                            </td><td>Najib, Miss. Adele Kiamie \"Jane\"             </td><td>female                                       </td><td>15                                           </td><td>0                                            </td><td>0                                            </td><td>2667                                         </td><td> 7.2250                                      </td><td>                                             </td><td>C                                            </td><td>1                                            </td></tr>\n",
       "\t<tr><th scope=row>888</th><td>880                                          </td><td>1                                            </td><td>1                                            </td><td>Potter, Mrs. Thomas Jr (Lily Alexenia Wilson)</td><td>female                                       </td><td>56                                           </td><td>0                                            </td><td>1                                            </td><td>11767                                        </td><td>83.1583                                      </td><td>C50                                          </td><td>C                                            </td><td>1                                            </td></tr>\n",
       "\t<tr><th scope=row>889</th><td>881                                          </td><td>1                                            </td><td>2                                            </td><td>Shelley, Mrs. William (Imanita Parrish Hall) </td><td>female                                       </td><td>25                                           </td><td>0                                            </td><td>1                                            </td><td>230433                                       </td><td>26.0000                                      </td><td>                                             </td><td>S                                            </td><td>1                                            </td></tr>\n",
       "\t<tr><th scope=row>890</th><td>888                                          </td><td>1                                            </td><td>1                                            </td><td>Graham, Miss. Margaret Edith                 </td><td>female                                       </td><td>19                                           </td><td>0                                            </td><td>0                                            </td><td>112053                                       </td><td>30.0000                                      </td><td>B42                                          </td><td>S                                            </td><td>1                                            </td></tr>\n",
       "\t<tr><th scope=row>891</th><td>890                                          </td><td>1                                            </td><td>1                                            </td><td>Behr, Mr. Karl Howell                        </td><td>male                                         </td><td>26                                           </td><td>0                                            </td><td>0                                            </td><td>111369                                       </td><td>30.0000                                      </td><td>C148                                         </td><td>C                                            </td><td>0                                            </td></tr>\n",
       "</tbody>\n",
       "</table>\n"
      ],
      "text/latex": [
       "\\begin{tabular}{r|lllllllllllll}\n",
       "  & assengerId & Survived & Pclass & Name & Sex & Age & SibSp & Parch & Ticket & Fare & Cabin & Embarked & SexCode\\\\\n",
       "\\hline\n",
       "\t886 & 875                                           & 1                                             & 2                                             & Abelson, Mrs. Samuel (Hannah Wizosky)         & female                                        & 28                                            & 1                                             & 0                                             & P/PP 3381                                     & 24.0000                                       &                                               & C                                             & 1                                            \\\\\n",
       "\t887 & 876                                           & 1                                             & 3                                             & Najib, Miss. Adele Kiamie \"Jane\"              & female                                        & 15                                            & 0                                             & 0                                             & 2667                                          &  7.2250                                       &                                               & C                                             & 1                                            \\\\\n",
       "\t888 & 880                                           & 1                                             & 1                                             & Potter, Mrs. Thomas Jr (Lily Alexenia Wilson) & female                                        & 56                                            & 0                                             & 1                                             & 11767                                         & 83.1583                                       & C50                                           & C                                             & 1                                            \\\\\n",
       "\t889 & 881                                           & 1                                             & 2                                             & Shelley, Mrs. William (Imanita Parrish Hall)  & female                                        & 25                                            & 0                                             & 1                                             & 230433                                        & 26.0000                                       &                                               & S                                             & 1                                            \\\\\n",
       "\t890 & 888                                           & 1                                             & 1                                             & Graham, Miss. Margaret Edith                  & female                                        & 19                                            & 0                                             & 0                                             & 112053                                        & 30.0000                                       & B42                                           & S                                             & 1                                            \\\\\n",
       "\t891 & 890                                           & 1                                             & 1                                             & Behr, Mr. Karl Howell                         & male                                          & 26                                            & 0                                             & 0                                             & 111369                                        & 30.0000                                       & C148                                          & C                                             & 0                                            \\\\\n",
       "\\end{tabular}\n"
      ],
      "text/markdown": [
       "\n",
       "| <!--/--> | assengerId | Survived | Pclass | Name | Sex | Age | SibSp | Parch | Ticket | Fare | Cabin | Embarked | SexCode |\n",
       "|---|---|---|---|---|---|---|---|---|---|---|---|---|---|\n",
       "| 886 | 875                                           | 1                                             | 2                                             | Abelson, Mrs. Samuel (Hannah Wizosky)         | female                                        | 28                                            | 1                                             | 0                                             | P/PP 3381                                     | 24.0000                                       |                                               | C                                             | 1                                             |\n",
       "| 887 | 876                                           | 1                                             | 3                                             | Najib, Miss. Adele Kiamie \"Jane\"              | female                                        | 15                                            | 0                                             | 0                                             | 2667                                          |  7.2250                                       |                                               | C                                             | 1                                             |\n",
       "| 888 | 880                                           | 1                                             | 1                                             | Potter, Mrs. Thomas Jr (Lily Alexenia Wilson) | female                                        | 56                                            | 0                                             | 1                                             | 11767                                         | 83.1583                                       | C50                                           | C                                             | 1                                             |\n",
       "| 889 | 881                                           | 1                                             | 2                                             | Shelley, Mrs. William (Imanita Parrish Hall)  | female                                        | 25                                            | 0                                             | 1                                             | 230433                                        | 26.0000                                       |                                               | S                                             | 1                                             |\n",
       "| 890 | 888                                           | 1                                             | 1                                             | Graham, Miss. Margaret Edith                  | female                                        | 19                                            | 0                                             | 0                                             | 112053                                        | 30.0000                                       | B42                                           | S                                             | 1                                             |\n",
       "| 891 | 890                                           | 1                                             | 1                                             | Behr, Mr. Karl Howell                         | male                                          | 26                                            | 0                                             | 0                                             | 111369                                        | 30.0000                                       | C148                                          | C                                             | 0                                             |\n",
       "\n"
      ],
      "text/plain": [
       "    assengerId Survived Pclass Name                                         \n",
       "886 875        1        2      Abelson, Mrs. Samuel (Hannah Wizosky)        \n",
       "887 876        1        3      Najib, Miss. Adele Kiamie \"Jane\"             \n",
       "888 880        1        1      Potter, Mrs. Thomas Jr (Lily Alexenia Wilson)\n",
       "889 881        1        2      Shelley, Mrs. William (Imanita Parrish Hall) \n",
       "890 888        1        1      Graham, Miss. Margaret Edith                 \n",
       "891 890        1        1      Behr, Mr. Karl Howell                        \n",
       "    Sex    Age SibSp Parch Ticket    Fare    Cabin Embarked SexCode\n",
       "886 female 28  1     0     P/PP 3381 24.0000       C        1      \n",
       "887 female 15  0     0     2667       7.2250       C        1      \n",
       "888 female 56  0     1     11767     83.1583 C50   C        1      \n",
       "889 female 25  0     1     230433    26.0000       S        1      \n",
       "890 female 19  0     0     112053    30.0000 B42   S        1      \n",
       "891 male   26  0     0     111369    30.0000 C148  C        0      "
      ]
     },
     "metadata": {},
     "output_type": "display_data"
    }
   ],
   "source": [
    "head(train_df_T)\n",
    "tail(train_df_T)"
   ]
  },
  {
   "cell_type": "code",
   "execution_count": 77,
   "id": "8b1d6746",
   "metadata": {},
   "outputs": [
    {
     "data": {
      "text/html": [
       "<table>\n",
       "<thead><tr><th scope=col>assengerId</th><th scope=col>Survived</th><th scope=col>Pclass</th><th scope=col>Name</th><th scope=col>Age</th><th scope=col>SibSp</th><th scope=col>Parch</th><th scope=col>Ticket</th><th scope=col>Fare</th><th scope=col>Cabin</th><th scope=col>Embarked</th><th scope=col>SexCode</th></tr></thead>\n",
       "<tbody>\n",
       "\t<tr><td> 1                            </td><td>0                             </td><td>3                             </td><td>Braund, Mr. Owen Harris       </td><td>22                            </td><td>1                             </td><td>0                             </td><td>A/5 21171                     </td><td> 7.2500                       </td><td>                              </td><td>S                             </td><td>0                             </td></tr>\n",
       "\t<tr><td> 5                            </td><td>0                             </td><td>3                             </td><td>Allen, Mr. William Henry      </td><td>35                            </td><td>0                             </td><td>0                             </td><td>373450                        </td><td> 8.0500                       </td><td>                              </td><td>S                             </td><td>0                             </td></tr>\n",
       "\t<tr><td> 6                            </td><td>0                             </td><td>3                             </td><td>Moran, Mr. James              </td><td>NA                            </td><td>0                             </td><td>0                             </td><td>330877                        </td><td> 8.4583                       </td><td>                              </td><td>Q                             </td><td>0                             </td></tr>\n",
       "\t<tr><td> 7                            </td><td>0                             </td><td>1                             </td><td>McCarthy, Mr. Timothy J       </td><td>54                            </td><td>0                             </td><td>0                             </td><td>17463                         </td><td>51.8625                       </td><td>E46                           </td><td>S                             </td><td>0                             </td></tr>\n",
       "\t<tr><td> 8                            </td><td>0                             </td><td>3                             </td><td>Palsson, Master. Gosta Leonard</td><td> 2                            </td><td>3                             </td><td>1                             </td><td>349909                        </td><td>21.0750                       </td><td>                              </td><td>S                             </td><td>0                             </td></tr>\n",
       "\t<tr><td>13                            </td><td>0                             </td><td>3                             </td><td>Saundercock, Mr. William Henry</td><td>20                            </td><td>0                             </td><td>0                             </td><td>A/5. 2151                     </td><td> 8.0500                       </td><td>                              </td><td>S                             </td><td>0                             </td></tr>\n",
       "</tbody>\n",
       "</table>\n"
      ],
      "text/latex": [
       "\\begin{tabular}{r|llllllllllll}\n",
       " assengerId & Survived & Pclass & Name & Age & SibSp & Parch & Ticket & Fare & Cabin & Embarked & SexCode\\\\\n",
       "\\hline\n",
       "\t  1                             & 0                              & 3                              & Braund, Mr. Owen Harris        & 22                             & 1                              & 0                              & A/5 21171                      &  7.2500                        &                                & S                              & 0                             \\\\\n",
       "\t  5                             & 0                              & 3                              & Allen, Mr. William Henry       & 35                             & 0                              & 0                              & 373450                         &  8.0500                        &                                & S                              & 0                             \\\\\n",
       "\t  6                             & 0                              & 3                              & Moran, Mr. James               & NA                             & 0                              & 0                              & 330877                         &  8.4583                        &                                & Q                              & 0                             \\\\\n",
       "\t  7                             & 0                              & 1                              & McCarthy, Mr. Timothy J        & 54                             & 0                              & 0                              & 17463                          & 51.8625                        & E46                            & S                              & 0                             \\\\\n",
       "\t  8                             & 0                              & 3                              & Palsson, Master. Gosta Leonard &  2                             & 3                              & 1                              & 349909                         & 21.0750                        &                                & S                              & 0                             \\\\\n",
       "\t 13                             & 0                              & 3                              & Saundercock, Mr. William Henry & 20                             & 0                              & 0                              & A/5. 2151                      &  8.0500                        &                                & S                              & 0                             \\\\\n",
       "\\end{tabular}\n"
      ],
      "text/markdown": [
       "\n",
       "| assengerId | Survived | Pclass | Name | Age | SibSp | Parch | Ticket | Fare | Cabin | Embarked | SexCode |\n",
       "|---|---|---|---|---|---|---|---|---|---|---|---|\n",
       "|  1                             | 0                              | 3                              | Braund, Mr. Owen Harris        | 22                             | 1                              | 0                              | A/5 21171                      |  7.2500                        |                                | S                              | 0                              |\n",
       "|  5                             | 0                              | 3                              | Allen, Mr. William Henry       | 35                             | 0                              | 0                              | 373450                         |  8.0500                        |                                | S                              | 0                              |\n",
       "|  6                             | 0                              | 3                              | Moran, Mr. James               | NA                             | 0                              | 0                              | 330877                         |  8.4583                        |                                | Q                              | 0                              |\n",
       "|  7                             | 0                              | 1                              | McCarthy, Mr. Timothy J        | 54                             | 0                              | 0                              | 17463                          | 51.8625                        | E46                            | S                              | 0                              |\n",
       "|  8                             | 0                              | 3                              | Palsson, Master. Gosta Leonard |  2                             | 3                              | 1                              | 349909                         | 21.0750                        |                                | S                              | 0                              |\n",
       "| 13                             | 0                              | 3                              | Saundercock, Mr. William Henry | 20                             | 0                              | 0                              | A/5. 2151                      |  8.0500                        |                                | S                              | 0                              |\n",
       "\n"
      ],
      "text/plain": [
       "  assengerId Survived Pclass Name                           Age SibSp Parch\n",
       "1  1         0        3      Braund, Mr. Owen Harris        22  1     0    \n",
       "2  5         0        3      Allen, Mr. William Henry       35  0     0    \n",
       "3  6         0        3      Moran, Mr. James               NA  0     0    \n",
       "4  7         0        1      McCarthy, Mr. Timothy J        54  0     0    \n",
       "5  8         0        3      Palsson, Master. Gosta Leonard  2  3     1    \n",
       "6 13         0        3      Saundercock, Mr. William Henry 20  0     0    \n",
       "  Ticket    Fare    Cabin Embarked SexCode\n",
       "1 A/5 21171  7.2500       S        0      \n",
       "2 373450     8.0500       S        0      \n",
       "3 330877     8.4583       Q        0      \n",
       "4 17463     51.8625 E46   S        0      \n",
       "5 349909    21.0750       S        0      \n",
       "6 A/5. 2151  8.0500       S        0      "
      ]
     },
     "metadata": {},
     "output_type": "display_data"
    }
   ],
   "source": [
    "# Sex컬럼 삭제\n",
    "train_df_T <- subset(train_df_T,select = -Sex)\n",
    "head(train_df_T)"
   ]
  },
  {
   "cell_type": "code",
   "execution_count": 78,
   "id": "1901e2ce",
   "metadata": {},
   "outputs": [
    {
     "data": {
      "text/html": [
       "<table>\n",
       "<thead><tr><th scope=col>Survived</th><th scope=col>SexCode</th><th scope=col>Pclass</th><th scope=col>Embarked</th></tr></thead>\n",
       "<tbody>\n",
       "\t<tr><td>0</td><td>0</td><td>3</td><td>S</td></tr>\n",
       "\t<tr><td>0</td><td>0</td><td>3</td><td>S</td></tr>\n",
       "\t<tr><td>0</td><td>0</td><td>3</td><td>Q</td></tr>\n",
       "\t<tr><td>0</td><td>0</td><td>1</td><td>S</td></tr>\n",
       "\t<tr><td>0</td><td>0</td><td>3</td><td>S</td></tr>\n",
       "\t<tr><td>0</td><td>0</td><td>3</td><td>S</td></tr>\n",
       "</tbody>\n",
       "</table>\n"
      ],
      "text/latex": [
       "\\begin{tabular}{r|llll}\n",
       " Survived & SexCode & Pclass & Embarked\\\\\n",
       "\\hline\n",
       "\t 0 & 0 & 3 & S\\\\\n",
       "\t 0 & 0 & 3 & S\\\\\n",
       "\t 0 & 0 & 3 & Q\\\\\n",
       "\t 0 & 0 & 1 & S\\\\\n",
       "\t 0 & 0 & 3 & S\\\\\n",
       "\t 0 & 0 & 3 & S\\\\\n",
       "\\end{tabular}\n"
      ],
      "text/markdown": [
       "\n",
       "| Survived | SexCode | Pclass | Embarked |\n",
       "|---|---|---|---|\n",
       "| 0 | 0 | 3 | S |\n",
       "| 0 | 0 | 3 | S |\n",
       "| 0 | 0 | 3 | Q |\n",
       "| 0 | 0 | 1 | S |\n",
       "| 0 | 0 | 3 | S |\n",
       "| 0 | 0 | 3 | S |\n",
       "\n"
      ],
      "text/plain": [
       "  Survived SexCode Pclass Embarked\n",
       "1 0        0       3      S       \n",
       "2 0        0       3      S       \n",
       "3 0        0       3      Q       \n",
       "4 0        0       1      S       \n",
       "5 0        0       3      S       \n",
       "6 0        0       3      S       "
      ]
     },
     "metadata": {},
     "output_type": "display_data"
    }
   ],
   "source": [
    "target_col <- c(\"Survived\",\"SexCode\",\"Pclass\",\"Embarked\")\n",
    "head(train_df_T[,target_col])"
   ]
  },
  {
   "cell_type": "markdown",
   "id": "3bc26d36",
   "metadata": {},
   "source": [
    "# Embarked를 숫자로 전환 \n",
    "C = 0, S= 1, Q = 2 -> 맞긴 맞지만 좋은 생각이 아니다.\n",
    "2 * S = Q ?\n",
    "S + S = Q ?\n",
    "\n",
    "### One-Hot Encoding방법\n",
    "C == [1,0,0]   \n",
    "S == [0,1,0]    \n",
    "Q == [0,0,1]   \n",
    "처럼 행렬로 만들면 덧셈과 뺄셈에 대해 각각 계산에 굉장히 안전해 진다.  \n",
    "R은 내부적으로 1은 True, 0은 False."
   ]
  },
  {
   "cell_type": "code",
   "execution_count": 79,
   "id": "f5a7e08f",
   "metadata": {},
   "outputs": [],
   "source": [
    "train_df_T$Embarked_C = train_df_T$Embarked == \"C\"\n",
    "train_df_T$Embarked_S = train_df_T$Embarked == \"S\"\n",
    "train_df_T$Embarked_Q = train_df_T$Embarked == \"Q\""
   ]
  },
  {
   "cell_type": "code",
   "execution_count": 80,
   "id": "40b54099",
   "metadata": {},
   "outputs": [
    {
     "data": {
      "text/html": [
       "<table>\n",
       "<thead><tr><th scope=col>Embarked</th><th scope=col>Embarked_C</th><th scope=col>Embarked_S</th><th scope=col>Embarked_Q</th></tr></thead>\n",
       "<tbody>\n",
       "\t<tr><td>S    </td><td>FALSE</td><td> TRUE</td><td>FALSE</td></tr>\n",
       "\t<tr><td>S    </td><td>FALSE</td><td> TRUE</td><td>FALSE</td></tr>\n",
       "\t<tr><td>Q    </td><td>FALSE</td><td>FALSE</td><td> TRUE</td></tr>\n",
       "\t<tr><td>S    </td><td>FALSE</td><td> TRUE</td><td>FALSE</td></tr>\n",
       "\t<tr><td>S    </td><td>FALSE</td><td> TRUE</td><td>FALSE</td></tr>\n",
       "\t<tr><td>S    </td><td>FALSE</td><td> TRUE</td><td>FALSE</td></tr>\n",
       "</tbody>\n",
       "</table>\n"
      ],
      "text/latex": [
       "\\begin{tabular}{r|llll}\n",
       " Embarked & Embarked\\_C & Embarked\\_S & Embarked\\_Q\\\\\n",
       "\\hline\n",
       "\t S     & FALSE &  TRUE & FALSE\\\\\n",
       "\t S     & FALSE &  TRUE & FALSE\\\\\n",
       "\t Q     & FALSE & FALSE &  TRUE\\\\\n",
       "\t S     & FALSE &  TRUE & FALSE\\\\\n",
       "\t S     & FALSE &  TRUE & FALSE\\\\\n",
       "\t S     & FALSE &  TRUE & FALSE\\\\\n",
       "\\end{tabular}\n"
      ],
      "text/markdown": [
       "\n",
       "| Embarked | Embarked_C | Embarked_S | Embarked_Q |\n",
       "|---|---|---|---|\n",
       "| S     | FALSE |  TRUE | FALSE |\n",
       "| S     | FALSE |  TRUE | FALSE |\n",
       "| Q     | FALSE | FALSE |  TRUE |\n",
       "| S     | FALSE |  TRUE | FALSE |\n",
       "| S     | FALSE |  TRUE | FALSE |\n",
       "| S     | FALSE |  TRUE | FALSE |\n",
       "\n"
      ],
      "text/plain": [
       "  Embarked Embarked_C Embarked_S Embarked_Q\n",
       "1 S        FALSE       TRUE      FALSE     \n",
       "2 S        FALSE       TRUE      FALSE     \n",
       "3 Q        FALSE      FALSE       TRUE     \n",
       "4 S        FALSE       TRUE      FALSE     \n",
       "5 S        FALSE       TRUE      FALSE     \n",
       "6 S        FALSE       TRUE      FALSE     "
      ]
     },
     "metadata": {},
     "output_type": "display_data"
    }
   ],
   "source": [
    "head(train_df_T[c(\"Embarked\",\"Embarked_C\",\"Embarked_S\",\"Embarked_Q\")])"
   ]
  },
  {
   "cell_type": "code",
   "execution_count": 81,
   "id": "be735ad0",
   "metadata": {},
   "outputs": [
    {
     "data": {
      "text/html": [
       "<table>\n",
       "<thead><tr><th scope=col>Survived</th><th scope=col>Pclass</th><th scope=col>SexCode</th><th scope=col>Embarked_C</th><th scope=col>Embarked_S</th><th scope=col>Embarked_Q</th></tr></thead>\n",
       "<tbody>\n",
       "\t<tr><td>0    </td><td>3    </td><td>0    </td><td>FALSE</td><td> TRUE</td><td>FALSE</td></tr>\n",
       "\t<tr><td>0    </td><td>3    </td><td>0    </td><td>FALSE</td><td> TRUE</td><td>FALSE</td></tr>\n",
       "\t<tr><td>0    </td><td>3    </td><td>0    </td><td>FALSE</td><td>FALSE</td><td> TRUE</td></tr>\n",
       "\t<tr><td>0    </td><td>1    </td><td>0    </td><td>FALSE</td><td> TRUE</td><td>FALSE</td></tr>\n",
       "\t<tr><td>0    </td><td>3    </td><td>0    </td><td>FALSE</td><td> TRUE</td><td>FALSE</td></tr>\n",
       "\t<tr><td>0    </td><td>3    </td><td>0    </td><td>FALSE</td><td> TRUE</td><td>FALSE</td></tr>\n",
       "</tbody>\n",
       "</table>\n"
      ],
      "text/latex": [
       "\\begin{tabular}{r|llllll}\n",
       " Survived & Pclass & SexCode & Embarked\\_C & Embarked\\_S & Embarked\\_Q\\\\\n",
       "\\hline\n",
       "\t 0     & 3     & 0     & FALSE &  TRUE & FALSE\\\\\n",
       "\t 0     & 3     & 0     & FALSE &  TRUE & FALSE\\\\\n",
       "\t 0     & 3     & 0     & FALSE & FALSE &  TRUE\\\\\n",
       "\t 0     & 1     & 0     & FALSE &  TRUE & FALSE\\\\\n",
       "\t 0     & 3     & 0     & FALSE &  TRUE & FALSE\\\\\n",
       "\t 0     & 3     & 0     & FALSE &  TRUE & FALSE\\\\\n",
       "\\end{tabular}\n"
      ],
      "text/markdown": [
       "\n",
       "| Survived | Pclass | SexCode | Embarked_C | Embarked_S | Embarked_Q |\n",
       "|---|---|---|---|---|---|\n",
       "| 0     | 3     | 0     | FALSE |  TRUE | FALSE |\n",
       "| 0     | 3     | 0     | FALSE |  TRUE | FALSE |\n",
       "| 0     | 3     | 0     | FALSE | FALSE |  TRUE |\n",
       "| 0     | 1     | 0     | FALSE |  TRUE | FALSE |\n",
       "| 0     | 3     | 0     | FALSE |  TRUE | FALSE |\n",
       "| 0     | 3     | 0     | FALSE |  TRUE | FALSE |\n",
       "\n"
      ],
      "text/plain": [
       "  Survived Pclass SexCode Embarked_C Embarked_S Embarked_Q\n",
       "1 0        3      0       FALSE       TRUE      FALSE     \n",
       "2 0        3      0       FALSE       TRUE      FALSE     \n",
       "3 0        3      0       FALSE      FALSE       TRUE     \n",
       "4 0        1      0       FALSE       TRUE      FALSE     \n",
       "5 0        3      0       FALSE       TRUE      FALSE     \n",
       "6 0        3      0       FALSE       TRUE      FALSE     "
      ]
     },
     "metadata": {},
     "output_type": "display_data"
    }
   ],
   "source": [
    "target_col <- c(\"Survived\",\"Pclass\",\"SexCode\",\"Embarked_C\",\"Embarked_S\",\"Embarked_Q\")\n",
    "head(train_df_T[,target_col])"
   ]
  },
  {
   "cell_type": "code",
   "execution_count": 82,
   "id": "a024f36d",
   "metadata": {},
   "outputs": [],
   "source": [
    "train_data <- train_df_T[,target_col]"
   ]
  },
  {
   "cell_type": "code",
   "execution_count": 83,
   "id": "bfafbf91",
   "metadata": {},
   "outputs": [
    {
     "data": {
      "text/html": [
       "<table>\n",
       "<thead><tr><th scope=col>Survived</th><th scope=col>Pclass</th><th scope=col>SexCode</th><th scope=col>Embarked_C</th><th scope=col>Embarked_S</th><th scope=col>Embarked_Q</th></tr></thead>\n",
       "<tbody>\n",
       "\t<tr><td>0    </td><td>3    </td><td>0    </td><td>FALSE</td><td> TRUE</td><td>FALSE</td></tr>\n",
       "\t<tr><td>0    </td><td>3    </td><td>0    </td><td>FALSE</td><td> TRUE</td><td>FALSE</td></tr>\n",
       "\t<tr><td>0    </td><td>3    </td><td>0    </td><td>FALSE</td><td>FALSE</td><td> TRUE</td></tr>\n",
       "\t<tr><td>0    </td><td>1    </td><td>0    </td><td>FALSE</td><td> TRUE</td><td>FALSE</td></tr>\n",
       "\t<tr><td>0    </td><td>3    </td><td>0    </td><td>FALSE</td><td> TRUE</td><td>FALSE</td></tr>\n",
       "\t<tr><td>0    </td><td>3    </td><td>0    </td><td>FALSE</td><td> TRUE</td><td>FALSE</td></tr>\n",
       "</tbody>\n",
       "</table>\n"
      ],
      "text/latex": [
       "\\begin{tabular}{r|llllll}\n",
       " Survived & Pclass & SexCode & Embarked\\_C & Embarked\\_S & Embarked\\_Q\\\\\n",
       "\\hline\n",
       "\t 0     & 3     & 0     & FALSE &  TRUE & FALSE\\\\\n",
       "\t 0     & 3     & 0     & FALSE &  TRUE & FALSE\\\\\n",
       "\t 0     & 3     & 0     & FALSE & FALSE &  TRUE\\\\\n",
       "\t 0     & 1     & 0     & FALSE &  TRUE & FALSE\\\\\n",
       "\t 0     & 3     & 0     & FALSE &  TRUE & FALSE\\\\\n",
       "\t 0     & 3     & 0     & FALSE &  TRUE & FALSE\\\\\n",
       "\\end{tabular}\n"
      ],
      "text/markdown": [
       "\n",
       "| Survived | Pclass | SexCode | Embarked_C | Embarked_S | Embarked_Q |\n",
       "|---|---|---|---|---|---|\n",
       "| 0     | 3     | 0     | FALSE |  TRUE | FALSE |\n",
       "| 0     | 3     | 0     | FALSE |  TRUE | FALSE |\n",
       "| 0     | 3     | 0     | FALSE | FALSE |  TRUE |\n",
       "| 0     | 1     | 0     | FALSE |  TRUE | FALSE |\n",
       "| 0     | 3     | 0     | FALSE |  TRUE | FALSE |\n",
       "| 0     | 3     | 0     | FALSE |  TRUE | FALSE |\n",
       "\n"
      ],
      "text/plain": [
       "  Survived Pclass SexCode Embarked_C Embarked_S Embarked_Q\n",
       "1 0        3      0       FALSE       TRUE      FALSE     \n",
       "2 0        3      0       FALSE       TRUE      FALSE     \n",
       "3 0        3      0       FALSE      FALSE       TRUE     \n",
       "4 0        1      0       FALSE       TRUE      FALSE     \n",
       "5 0        3      0       FALSE       TRUE      FALSE     \n",
       "6 0        3      0       FALSE       TRUE      FALSE     "
      ]
     },
     "metadata": {},
     "output_type": "display_data"
    }
   ],
   "source": [
    "head(train_data)"
   ]
  },
  {
   "cell_type": "code",
   "execution_count": 84,
   "id": "328b1baf",
   "metadata": {},
   "outputs": [
    {
     "name": "stdout",
     "output_type": "stream",
     "text": [
      "'data.frame':\t891 obs. of  6 variables:\n",
      " $ Survived  : int  0 0 0 0 0 0 0 0 0 0 ...\n",
      " $ Pclass    : int  3 3 3 1 3 3 3 3 3 3 ...\n",
      " $ SexCode   : num  0 0 0 0 0 0 0 1 0 1 ...\n",
      " $ Embarked_C: logi  FALSE FALSE FALSE FALSE FALSE FALSE ...\n",
      " $ Embarked_S: logi  TRUE TRUE FALSE TRUE TRUE TRUE ...\n",
      " $ Embarked_Q: logi  FALSE FALSE TRUE FALSE FALSE FALSE ...\n"
     ]
    }
   ],
   "source": [
    "str(train_data)"
   ]
  },
  {
   "cell_type": "code",
   "execution_count": 85,
   "id": "d5a6d332",
   "metadata": {},
   "outputs": [
    {
     "name": "stderr",
     "output_type": "stream",
     "text": [
      "randomForest 4.6-14\n",
      "Type rfNews() to see new features/changes/bug fixes.\n",
      "\n",
      "Attaching package: 'randomForest'\n",
      "\n",
      "The following object is masked from 'package:dplyr':\n",
      "\n",
      "    combine\n",
      "\n",
      "Loading required package: lattice\n",
      "Loading required package: ggplot2\n",
      "Registered S3 methods overwritten by 'ggplot2':\n",
      "  method         from \n",
      "  [.quosures     rlang\n",
      "  c.quosures     rlang\n",
      "  print.quosures rlang\n",
      "\n",
      "Attaching package: 'ggplot2'\n",
      "\n",
      "The following object is masked from 'package:randomForest':\n",
      "\n",
      "    margin\n",
      "\n",
      "Loading required package: grid\n",
      "Loading required package: mvtnorm\n",
      "Loading required package: modeltools\n",
      "Loading required package: stats4\n",
      "Loading required package: strucchange\n",
      "Loading required package: zoo\n",
      "\n",
      "Attaching package: 'zoo'\n",
      "\n",
      "The following objects are masked from 'package:base':\n",
      "\n",
      "    as.Date, as.Date.numeric\n",
      "\n",
      "Loading required package: sandwich\n"
     ]
    }
   ],
   "source": [
    "library(randomForest)\n",
    "library(caret)\n",
    "library(caret) #sample\n",
    "library(nnet) #인공신경망 , 다항 로지스틱 회귀분석\n",
    "library(e1071) # svm\n",
    "library(randomForest) # randomForest\n",
    "library(party) # 의사결정나무 ctree"
   ]
  },
  {
   "cell_type": "code",
   "execution_count": 86,
   "id": "f2d5d1f9",
   "metadata": {},
   "outputs": [],
   "source": [
    "set.seed(1234)\n",
    "# Sampling\n",
    "samp <- createDataPartition(train_data$Survived , p = 0.7 ,list = F)\n",
    "#학습용\n",
    "data.train <- train_data[samp,]\n",
    "#검증용\n",
    "data.test <- train_data[-samp,]\n",
    "\n",
    "#테스트셋\n",
    "x <- subset(data.test , select = -Survived)\n",
    "y <- data.test$Survived\n"
   ]
  },
  {
   "cell_type": "code",
   "execution_count": 87,
   "id": "04f73305",
   "metadata": {},
   "outputs": [
    {
     "data": {
      "text/html": [
       "<dl class=dl-horizontal>\n",
       "\t<dt>5</dt>\n",
       "\t\t<dd>0.214258438655153</dd>\n",
       "\t<dt>6</dt>\n",
       "\t\t<dd>0.214258438655153</dd>\n",
       "\t<dt>7</dt>\n",
       "\t\t<dd>0.214258438655153</dd>\n",
       "\t<dt>8</dt>\n",
       "\t\t<dd>0.381342291475005</dd>\n",
       "\t<dt>9</dt>\n",
       "\t\t<dd>0.231116973094979</dd>\n",
       "\t<dt>16</dt>\n",
       "\t\t<dd>0.448923102083669</dd>\n",
       "\t<dt>18</dt>\n",
       "\t\t<dd>0.448923102083669</dd>\n",
       "\t<dt>20</dt>\n",
       "\t\t<dd>0.214258438655153</dd>\n",
       "\t<dt>24</dt>\n",
       "\t\t<dd>0.320671121282892</dd>\n",
       "\t<dt>26</dt>\n",
       "\t\t<dd>0.231116973094979</dd>\n",
       "\t<dt>27</dt>\n",
       "\t\t<dd>0.320671121282892</dd>\n",
       "\t<dt>28</dt>\n",
       "\t\t<dd>0.381342291475005</dd>\n",
       "\t<dt>33</dt>\n",
       "\t\t<dd>0.214258438655153</dd>\n",
       "\t<dt>37</dt>\n",
       "\t\t<dd>0.448923102083669</dd>\n",
       "\t<dt>44</dt>\n",
       "\t\t<dd>0.214258438655153</dd>\n",
       "\t<dt>46</dt>\n",
       "\t\t<dd>0.214258438655153</dd>\n",
       "\t<dt>47</dt>\n",
       "\t\t<dd>0.214258438655153</dd>\n",
       "\t<dt>48</dt>\n",
       "\t\t<dd>0.349513391451938</dd>\n",
       "\t<dt>50</dt>\n",
       "\t\t<dd>0.214258438655153</dd>\n",
       "\t<dt>52</dt>\n",
       "\t\t<dd>0.214258438655153</dd>\n",
       "\t<dt>56</dt>\n",
       "\t\t<dd>0.214258438655153</dd>\n",
       "\t<dt>62</dt>\n",
       "\t\t<dd>0.349513391451938</dd>\n",
       "\t<dt>65</dt>\n",
       "\t\t<dd>0.214258438655153</dd>\n",
       "\t<dt>68</dt>\n",
       "\t\t<dd>0.582457586987105</dd>\n",
       "\t<dt>69</dt>\n",
       "\t\t<dd>0.214258438655153</dd>\n",
       "\t<dt>72</dt>\n",
       "\t\t<dd>0.214258438655153</dd>\n",
       "\t<dt>73</dt>\n",
       "\t\t<dd>0.231116973094979</dd>\n",
       "\t<dt>78</dt>\n",
       "\t\t<dd>0.214258438655153</dd>\n",
       "\t<dt>80</dt>\n",
       "\t\t<dd>0.349513391451938</dd>\n",
       "\t<dt>81</dt>\n",
       "\t\t<dd>0.231116973094979</dd>\n",
       "\t<dt>82</dt>\n",
       "\t\t<dd>0.214258438655153</dd>\n",
       "\t<dt>89</dt>\n",
       "\t\t<dd>0.214258438655153</dd>\n",
       "\t<dt>90</dt>\n",
       "\t\t<dd>0.448923102083669</dd>\n",
       "\t<dt>92</dt>\n",
       "\t\t<dd>0.231116973094979</dd>\n",
       "\t<dt>93</dt>\n",
       "\t\t<dd>0.290583992927489</dd>\n",
       "\t<dt>96</dt>\n",
       "\t\t<dd>0.290583992927489</dd>\n",
       "\t<dt>99</dt>\n",
       "\t\t<dd>0.214258438655153</dd>\n",
       "\t<dt>109</dt>\n",
       "\t\t<dd>0.214258438655153</dd>\n",
       "\t<dt>111</dt>\n",
       "\t\t<dd>0.349513391451938</dd>\n",
       "\t<dt>114</dt>\n",
       "\t\t<dd>0.231116973094979</dd>\n",
       "\t<dt>115</dt>\n",
       "\t\t<dd>0.214258438655153</dd>\n",
       "\t<dt>117</dt>\n",
       "\t\t<dd>0.214258438655153</dd>\n",
       "\t<dt>119</dt>\n",
       "\t\t<dd>0.774032508815679</dd>\n",
       "\t<dt>129</dt>\n",
       "\t\t<dd>0.231116973094979</dd>\n",
       "\t<dt>130</dt>\n",
       "\t\t<dd>0.214258438655153</dd>\n",
       "\t<dt>134</dt>\n",
       "\t\t<dd>0.214258438655153</dd>\n",
       "\t<dt>137</dt>\n",
       "\t\t<dd>0.214258438655153</dd>\n",
       "\t<dt>139</dt>\n",
       "\t\t<dd>0.214258438655153</dd>\n",
       "\t<dt>140</dt>\n",
       "\t\t<dd>0.290583992927489</dd>\n",
       "\t<dt>144</dt>\n",
       "\t\t<dd>0.290583992927489</dd>\n",
       "\t<dt>148</dt>\n",
       "\t\t<dd>0.214258438655153</dd>\n",
       "\t<dt>151</dt>\n",
       "\t\t<dd>0.214258438655153</dd>\n",
       "\t<dt>153</dt>\n",
       "\t\t<dd>0.290583992927489</dd>\n",
       "\t<dt>154</dt>\n",
       "\t\t<dd>0.381342291475005</dd>\n",
       "\t<dt>158</dt>\n",
       "\t\t<dd>0.582457586987105</dd>\n",
       "\t<dt>167</dt>\n",
       "\t\t<dd>0.349513391451938</dd>\n",
       "\t<dt>172</dt>\n",
       "\t\t<dd>0.349513391451938</dd>\n",
       "\t<dt>173</dt>\n",
       "\t\t<dd>0.557868264425587</dd>\n",
       "\t<dt>175</dt>\n",
       "\t\t<dd>0.214258438655153</dd>\n",
       "\t<dt>180</dt>\n",
       "\t\t<dd>0.231116973094979</dd>\n",
       "\t<dt>185</dt>\n",
       "\t\t<dd>0.320671121282892</dd>\n",
       "\t<dt>193</dt>\n",
       "\t\t<dd>0.214258438655153</dd>\n",
       "\t<dt>196</dt>\n",
       "\t\t<dd>0.625079522610075</dd>\n",
       "\t<dt>197</dt>\n",
       "\t\t<dd>0.214258438655153</dd>\n",
       "\t<dt>200</dt>\n",
       "\t\t<dd>0.214258438655153</dd>\n",
       "\t<dt>202</dt>\n",
       "\t\t<dd>0.214258438655153</dd>\n",
       "\t<dt>209</dt>\n",
       "\t\t<dd>0.349513391451938</dd>\n",
       "\t<dt>213</dt>\n",
       "\t\t<dd>0.214258438655153</dd>\n",
       "\t<dt>217</dt>\n",
       "\t\t<dd>0.214258438655153</dd>\n",
       "\t<dt>219</dt>\n",
       "\t\t<dd>0.214258438655153</dd>\n",
       "\t<dt>220</dt>\n",
       "\t\t<dd>0.625079522610075</dd>\n",
       "\t<dt>230</dt>\n",
       "\t\t<dd>0.381342291475005</dd>\n",
       "\t<dt>232</dt>\n",
       "\t\t<dd>0.320671121282892</dd>\n",
       "\t<dt>233</dt>\n",
       "\t\t<dd>0.214258438655153</dd>\n",
       "\t<dt>236</dt>\n",
       "\t\t<dd>0.290583992927489</dd>\n",
       "\t<dt>239</dt>\n",
       "\t\t<dd>0.214258438655153</dd>\n",
       "\t<dt>240</dt>\n",
       "\t\t<dd>0.214258438655153</dd>\n",
       "\t<dt>242</dt>\n",
       "\t\t<dd>0.290583992927489</dd>\n",
       "\t<dt>244</dt>\n",
       "\t\t<dd>0.214258438655153</dd>\n",
       "\t<dt>246</dt>\n",
       "\t\t<dd>0.214258438655153</dd>\n",
       "\t<dt>247</dt>\n",
       "\t\t<dd>0.381342291475005</dd>\n",
       "\t<dt>257</dt>\n",
       "\t\t<dd>0.381342291475005</dd>\n",
       "\t<dt>261</dt>\n",
       "\t\t<dd>0.381342291475005</dd>\n",
       "\t<dt>266</dt>\n",
       "\t\t<dd>0.349513391451938</dd>\n",
       "\t<dt>268</dt>\n",
       "\t\t<dd>0.349513391451938</dd>\n",
       "\t<dt>273</dt>\n",
       "\t\t<dd>0.214258438655153</dd>\n",
       "\t<dt>282</dt>\n",
       "\t\t<dd>0.214258438655153</dd>\n",
       "\t<dt>287</dt>\n",
       "\t\t<dd>0.214258438655153</dd>\n",
       "\t<dt>288</dt>\n",
       "\t\t<dd>0.381342291475005</dd>\n",
       "\t<dt>290</dt>\n",
       "\t\t<dd>0.290583992927489</dd>\n",
       "\t<dt>300</dt>\n",
       "\t\t<dd>0.214258438655153</dd>\n",
       "\t<dt>301</dt>\n",
       "\t\t<dd>0.349513391451938</dd>\n",
       "\t<dt>312</dt>\n",
       "\t\t<dd>0.448923102083669</dd>\n",
       "\t<dt>314</dt>\n",
       "\t\t<dd>0.214258438655153</dd>\n",
       "\t<dt>315</dt>\n",
       "\t\t<dd>0.214258438655153</dd>\n",
       "\t<dt>316</dt>\n",
       "\t\t<dd>0.349513391451938</dd>\n",
       "\t<dt>320</dt>\n",
       "\t\t<dd>0.320671121282892</dd>\n",
       "\t<dt>322</dt>\n",
       "\t\t<dd>0.231116973094979</dd>\n",
       "\t<dt>323</dt>\n",
       "\t\t<dd>0.349513391451938</dd>\n",
       "\t<dt>324</dt>\n",
       "\t\t<dd>0.214258438655153</dd>\n",
       "\t<dt>325</dt>\n",
       "\t\t<dd>0.290583992927489</dd>\n",
       "\t<dt>327</dt>\n",
       "\t\t<dd>0.320671121282892</dd>\n",
       "\t<dt>333</dt>\n",
       "\t\t<dd>0.448923102083669</dd>\n",
       "\t<dt>337</dt>\n",
       "\t\t<dd>0.231116973094979</dd>\n",
       "\t<dt>355</dt>\n",
       "\t\t<dd>0.290583992927489</dd>\n",
       "\t<dt>356</dt>\n",
       "\t\t<dd>0.214258438655153</dd>\n",
       "\t<dt>360</dt>\n",
       "\t\t<dd>0.557868264425587</dd>\n",
       "\t<dt>368</dt>\n",
       "\t\t<dd>0.214258438655153</dd>\n",
       "\t<dt>369</dt>\n",
       "\t\t<dd>0.214258438655153</dd>\n",
       "\t<dt>370</dt>\n",
       "\t\t<dd>0.381342291475005</dd>\n",
       "\t<dt>373</dt>\n",
       "\t\t<dd>0.214258438655153</dd>\n",
       "\t<dt>377</dt>\n",
       "\t\t<dd>0.320671121282892</dd>\n",
       "\t<dt>385</dt>\n",
       "\t\t<dd>0.349513391451938</dd>\n",
       "\t<dt>386</dt>\n",
       "\t\t<dd>0.381342291475005</dd>\n",
       "\t<dt>387</dt>\n",
       "\t\t<dd>0.214258438655153</dd>\n",
       "\t<dt>388</dt>\n",
       "\t\t<dd>0.290583992927489</dd>\n",
       "\t<dt>391</dt>\n",
       "\t\t<dd>0.214258438655153</dd>\n",
       "\t<dt>392</dt>\n",
       "\t\t<dd>0.381342291475005</dd>\n",
       "\t<dt>393</dt>\n",
       "\t\t<dd>0.214258438655153</dd>\n",
       "\t<dt>394</dt>\n",
       "\t\t<dd>0.214258438655153</dd>\n",
       "\t<dt>396</dt>\n",
       "\t\t<dd>0.214258438655153</dd>\n",
       "\t<dt>398</dt>\n",
       "\t\t<dd>0.290583992927489</dd>\n",
       "\t<dt>406</dt>\n",
       "\t\t<dd>0.290583992927489</dd>\n",
       "\t<dt>407</dt>\n",
       "\t\t<dd>0.290583992927489</dd>\n",
       "\t<dt>411</dt>\n",
       "\t\t<dd>0.290583992927489</dd>\n",
       "\t<dt>412</dt>\n",
       "\t\t<dd>0.290583992927489</dd>\n",
       "\t<dt>416</dt>\n",
       "\t\t<dd>0.557868264425587</dd>\n",
       "\t<dt>422</dt>\n",
       "\t\t<dd>0.214258438655153</dd>\n",
       "\t<dt>423</dt>\n",
       "\t\t<dd>0.214258438655153</dd>\n",
       "\t<dt>433</dt>\n",
       "\t\t<dd>0.290583992927489</dd>\n",
       "\t<dt>435</dt>\n",
       "\t\t<dd>0.214258438655153</dd>\n",
       "\t<dt>437</dt>\n",
       "\t\t<dd>0.214258438655153</dd>\n",
       "\t<dt>438</dt>\n",
       "\t\t<dd>0.231116973094979</dd>\n",
       "\t<dt>445</dt>\n",
       "\t\t<dd>0.381342291475005</dd>\n",
       "\t<dt>447</dt>\n",
       "\t\t<dd>0.290583992927489</dd>\n",
       "\t<dt>451</dt>\n",
       "\t\t<dd>0.381342291475005</dd>\n",
       "\t<dt>452</dt>\n",
       "\t\t<dd>0.214258438655153</dd>\n",
       "\t<dt>453</dt>\n",
       "\t\t<dd>0.214258438655153</dd>\n",
       "\t<dt>458</dt>\n",
       "\t\t<dd>0.349513391451938</dd>\n",
       "\t<dt>465</dt>\n",
       "\t\t<dd>0.214258438655153</dd>\n",
       "\t<dt>466</dt>\n",
       "\t\t<dd>0.214258438655153</dd>\n",
       "\t<dt>467</dt>\n",
       "\t\t<dd>0.214258438655153</dd>\n",
       "\t<dt>472</dt>\n",
       "\t\t<dd>0.214258438655153</dd>\n",
       "\t<dt>477</dt>\n",
       "\t\t<dd>0.231116973094979</dd>\n",
       "\t<dt>481</dt>\n",
       "\t\t<dd>0.214258438655153</dd>\n",
       "\t<dt>489</dt>\n",
       "\t\t<dd>0.214258438655153</dd>\n",
       "\t<dt>490</dt>\n",
       "\t\t<dd>0.290583992927489</dd>\n",
       "\t<dt>492</dt>\n",
       "\t\t<dd>0.381342291475005</dd>\n",
       "\t<dt>494</dt>\n",
       "\t\t<dd>0.214258438655153</dd>\n",
       "\t<dt>500</dt>\n",
       "\t\t<dd>0.290583992927489</dd>\n",
       "\t<dt>502</dt>\n",
       "\t\t<dd>0.214258438655153</dd>\n",
       "\t<dt>503</dt>\n",
       "\t\t<dd>0.349513391451938</dd>\n",
       "\t<dt>505</dt>\n",
       "\t\t<dd>0.39183199949822</dd>\n",
       "\t<dt>509</dt>\n",
       "\t\t<dd>0.214258438655153</dd>\n",
       "\t<dt>513</dt>\n",
       "\t\t<dd>0.214258438655153</dd>\n",
       "\t<dt>516</dt>\n",
       "\t\t<dd>0.214258438655153</dd>\n",
       "\t<dt>517</dt>\n",
       "\t\t<dd>0.214258438655153</dd>\n",
       "\t<dt>519</dt>\n",
       "\t\t<dd>0.320671121282892</dd>\n",
       "\t<dt>520</dt>\n",
       "\t\t<dd>0.214258438655153</dd>\n",
       "\t<dt>524</dt>\n",
       "\t\t<dd>0.290583992927489</dd>\n",
       "\t<dt>525</dt>\n",
       "\t\t<dd>0.214258438655153</dd>\n",
       "\t<dt>527</dt>\n",
       "\t\t<dd>0.582457586987105</dd>\n",
       "\t<dt>532</dt>\n",
       "\t\t<dd>0.381342291475005</dd>\n",
       "\t<dt>533</dt>\n",
       "\t\t<dd>0.290583992927489</dd>\n",
       "\t<dt>536</dt>\n",
       "\t\t<dd>0.214258438655153</dd>\n",
       "\t<dt>546</dt>\n",
       "\t\t<dd>0.557868264425587</dd>\n",
       "\t<dt>555</dt>\n",
       "\t\t<dd>0.381342291475005</dd>\n",
       "\t<dt>556</dt>\n",
       "\t\t<dd>0.661527307126109</dd>\n",
       "\t<dt>559</dt>\n",
       "\t\t<dd>0.582457586987105</dd>\n",
       "\t<dt>560</dt>\n",
       "\t\t<dd>0.290583992927489</dd>\n",
       "\t<dt>563</dt>\n",
       "\t\t<dd>0.381342291475005</dd>\n",
       "\t<dt>565</dt>\n",
       "\t\t<dd>0.774032508815679</dd>\n",
       "\t<dt>568</dt>\n",
       "\t\t<dd>0.582457586987105</dd>\n",
       "\t<dt>571</dt>\n",
       "\t\t<dd>0.557868264425587</dd>\n",
       "\t<dt>579</dt>\n",
       "\t\t<dd>0.625079522610075</dd>\n",
       "\t<dt>580</dt>\n",
       "\t\t<dd>0.381342291475005</dd>\n",
       "\t<dt>583</dt>\n",
       "\t\t<dd>0.381342291475005</dd>\n",
       "\t<dt>584</dt>\n",
       "\t\t<dd>0.214258438655153</dd>\n",
       "\t<dt>589</dt>\n",
       "\t\t<dd>0.448923102083669</dd>\n",
       "\t<dt>590</dt>\n",
       "\t\t<dd>0.625079522610075</dd>\n",
       "\t<dt>591</dt>\n",
       "\t\t<dd>0.381342291475005</dd>\n",
       "\t<dt>594</dt>\n",
       "\t\t<dd>0.625079522610075</dd>\n",
       "\t<dt>603</dt>\n",
       "\t\t<dd>0.661527307126109</dd>\n",
       "\t<dt>604</dt>\n",
       "\t\t<dd>0.557868264425587</dd>\n",
       "\t<dt>610</dt>\n",
       "\t\t<dd>0.381342291475005</dd>\n",
       "\t<dt>614</dt>\n",
       "\t\t<dd>0.381342291475005</dd>\n",
       "\t<dt>615</dt>\n",
       "\t\t<dd>0.290583992927489</dd>\n",
       "\t<dt>618</dt>\n",
       "\t\t<dd>0.557868264425587</dd>\n",
       "\t<dt>619</dt>\n",
       "\t\t<dd>0.214258438655153</dd>\n",
       "\t<dt>622</dt>\n",
       "\t\t<dd>0.448923102083669</dd>\n",
       "\t<dt>625</dt>\n",
       "\t\t<dd>0.381342291475005</dd>\n",
       "\t<dt>626</dt>\n",
       "\t\t<dd>0.774032508815679</dd>\n",
       "\t<dt>637</dt>\n",
       "\t\t<dd>0.774032508815679</dd>\n",
       "\t<dt>644</dt>\n",
       "\t\t<dd>0.661527307126109</dd>\n",
       "\t<dt>648</dt>\n",
       "\t\t<dd>0.661527307126109</dd>\n",
       "\t<dt>650</dt>\n",
       "\t\t<dd>0.214258438655153</dd>\n",
       "\t<dt>651</dt>\n",
       "\t\t<dd>0.214258438655153</dd>\n",
       "\t<dt>652</dt>\n",
       "\t\t<dd>0.290583992927489</dd>\n",
       "\t<dt>654</dt>\n",
       "\t\t<dd>0.661527307126109</dd>\n",
       "\t<dt>664</dt>\n",
       "\t\t<dd>0.774032508815679</dd>\n",
       "\t<dt>669</dt>\n",
       "\t\t<dd>0.661527307126109</dd>\n",
       "\t<dt>673</dt>\n",
       "\t\t<dd>0.774032508815679</dd>\n",
       "\t<dt>679</dt>\n",
       "\t\t<dd>0.774032508815679</dd>\n",
       "\t<dt>680</dt>\n",
       "\t\t<dd>0.214258438655153</dd>\n",
       "\t<dt>684</dt>\n",
       "\t\t<dd>0.625079522610075</dd>\n",
       "\t<dt>685</dt>\n",
       "\t\t<dd>0.381342291475005</dd>\n",
       "\t<dt>686</dt>\n",
       "\t\t<dd>0.214258438655153</dd>\n",
       "\t<dt>689</dt>\n",
       "\t\t<dd>0.557868264425587</dd>\n",
       "\t<dt>698</dt>\n",
       "\t\t<dd>0.582457586987105</dd>\n",
       "\t<dt>702</dt>\n",
       "\t\t<dd>0.349513391451938</dd>\n",
       "\t<dt>703</dt>\n",
       "\t\t<dd>0.214258438655153</dd>\n",
       "\t<dt>704</dt>\n",
       "\t\t<dd>0.774032508815679</dd>\n",
       "\t<dt>705</dt>\n",
       "\t\t<dd>0.381342291475005</dd>\n",
       "\t<dt>716</dt>\n",
       "\t\t<dd>0.349513391451938</dd>\n",
       "\t<dt>717</dt>\n",
       "\t\t<dd>0.381342291475005</dd>\n",
       "\t<dt>718</dt>\n",
       "\t\t<dd>0.625079522610075</dd>\n",
       "\t<dt>723</dt>\n",
       "\t\t<dd>0.214258438655153</dd>\n",
       "\t<dt>725</dt>\n",
       "\t\t<dd>0.625079522610075</dd>\n",
       "\t<dt>728</dt>\n",
       "\t\t<dd>0.349513391451938</dd>\n",
       "\t<dt>730</dt>\n",
       "\t\t<dd>0.320671121282892</dd>\n",
       "\t<dt>735</dt>\n",
       "\t\t<dd>0.625079522610075</dd>\n",
       "\t<dt>738</dt>\n",
       "\t\t<dd>0.381342291475005</dd>\n",
       "\t<dt>741</dt>\n",
       "\t\t<dd>0.214258438655153</dd>\n",
       "\t<dt>747</dt>\n",
       "\t\t<dd>0.231116973094979</dd>\n",
       "\t<dt>748</dt>\n",
       "\t\t<dd>0.349513391451938</dd>\n",
       "\t<dt>754</dt>\n",
       "\t\t<dd>0.625079522610075</dd>\n",
       "\t<dt>762</dt>\n",
       "\t\t<dd>0.625079522610075</dd>\n",
       "\t<dt>764</dt>\n",
       "\t\t<dd>0.290583992927489</dd>\n",
       "\t<dt>769</dt>\n",
       "\t\t<dd>0.661527307126109</dd>\n",
       "\t<dt>770</dt>\n",
       "\t\t<dd>0.381342291475005</dd>\n",
       "\t<dt>772</dt>\n",
       "\t\t<dd>0.290583992927489</dd>\n",
       "\t<dt>774</dt>\n",
       "\t\t<dd>0.349513391451938</dd>\n",
       "\t<dt>775</dt>\n",
       "\t\t<dd>0.557868264425587</dd>\n",
       "\t<dt>778</dt>\n",
       "\t\t<dd>0.214258438655153</dd>\n",
       "\t<dt>781</dt>\n",
       "\t\t<dd>0.661527307126109</dd>\n",
       "\t<dt>782</dt>\n",
       "\t\t<dd>0.448923102083669</dd>\n",
       "\t<dt>783</dt>\n",
       "\t\t<dd>0.774032508815679</dd>\n",
       "\t<dt>785</dt>\n",
       "\t\t<dd>0.448923102083669</dd>\n",
       "\t<dt>790</dt>\n",
       "\t\t<dd>0.661527307126109</dd>\n",
       "\t<dt>799</dt>\n",
       "\t\t<dd>0.625079522610075</dd>\n",
       "\t<dt>802</dt>\n",
       "\t\t<dd>0.582457586987105</dd>\n",
       "\t<dt>806</dt>\n",
       "\t\t<dd>0.625079522610075</dd>\n",
       "\t<dt>807</dt>\n",
       "\t\t<dd>0.557868264425587</dd>\n",
       "\t<dt>814</dt>\n",
       "\t\t<dd>0.448923102083669</dd>\n",
       "\t<dt>819</dt>\n",
       "\t\t<dd>0.214258438655153</dd>\n",
       "\t<dt>823</dt>\n",
       "\t\t<dd>0.625079522610075</dd>\n",
       "\t<dt>825</dt>\n",
       "\t\t<dd>0.661527307126109</dd>\n",
       "\t<dt>828</dt>\n",
       "\t\t<dd>0.349513391451938</dd>\n",
       "\t<dt>832</dt>\n",
       "\t\t<dd>0.349513391451938</dd>\n",
       "\t<dt>841</dt>\n",
       "\t\t<dd>0.625079522610075</dd>\n",
       "\t<dt>844</dt>\n",
       "\t\t<dd>0.290583992927489</dd>\n",
       "\t<dt>845</dt>\n",
       "\t\t<dd>0.661527307126109</dd>\n",
       "\t<dt>851</dt>\n",
       "\t\t<dd>0.661527307126109</dd>\n",
       "\t<dt>852</dt>\n",
       "\t\t<dd>0.582457586987105</dd>\n",
       "\t<dt>858</dt>\n",
       "\t\t<dd>0.625079522610075</dd>\n",
       "\t<dt>860</dt>\n",
       "\t\t<dd>0.320671121282892</dd>\n",
       "\t<dt>865</dt>\n",
       "\t\t<dd>0.381342291475005</dd>\n",
       "\t<dt>867</dt>\n",
       "\t\t<dd>0.231116973094979</dd>\n",
       "\t<dt>868</dt>\n",
       "\t\t<dd>0.661527307126109</dd>\n",
       "\t<dt>871</dt>\n",
       "\t\t<dd>0.774032508815679</dd>\n",
       "\t<dt>872</dt>\n",
       "\t\t<dd>0.214258438655153</dd>\n",
       "\t<dt>876</dt>\n",
       "\t\t<dd>0.661527307126109</dd>\n",
       "\t<dt>879</dt>\n",
       "\t\t<dd>0.349513391451938</dd>\n",
       "\t<dt>883</dt>\n",
       "\t\t<dd>0.763092674427175</dd>\n",
       "\t<dt>885</dt>\n",
       "\t\t<dd>0.661527307126109</dd>\n",
       "\t<dt>887</dt>\n",
       "\t\t<dd>0.582457586987105</dd>\n",
       "\t<dt>889</dt>\n",
       "\t\t<dd>0.625079522610075</dd>\n",
       "</dl>\n"
      ],
      "text/latex": [
       "\\begin{description*}\n",
       "\\item[5] 0.214258438655153\n",
       "\\item[6] 0.214258438655153\n",
       "\\item[7] 0.214258438655153\n",
       "\\item[8] 0.381342291475005\n",
       "\\item[9] 0.231116973094979\n",
       "\\item[16] 0.448923102083669\n",
       "\\item[18] 0.448923102083669\n",
       "\\item[20] 0.214258438655153\n",
       "\\item[24] 0.320671121282892\n",
       "\\item[26] 0.231116973094979\n",
       "\\item[27] 0.320671121282892\n",
       "\\item[28] 0.381342291475005\n",
       "\\item[33] 0.214258438655153\n",
       "\\item[37] 0.448923102083669\n",
       "\\item[44] 0.214258438655153\n",
       "\\item[46] 0.214258438655153\n",
       "\\item[47] 0.214258438655153\n",
       "\\item[48] 0.349513391451938\n",
       "\\item[50] 0.214258438655153\n",
       "\\item[52] 0.214258438655153\n",
       "\\item[56] 0.214258438655153\n",
       "\\item[62] 0.349513391451938\n",
       "\\item[65] 0.214258438655153\n",
       "\\item[68] 0.582457586987105\n",
       "\\item[69] 0.214258438655153\n",
       "\\item[72] 0.214258438655153\n",
       "\\item[73] 0.231116973094979\n",
       "\\item[78] 0.214258438655153\n",
       "\\item[80] 0.349513391451938\n",
       "\\item[81] 0.231116973094979\n",
       "\\item[82] 0.214258438655153\n",
       "\\item[89] 0.214258438655153\n",
       "\\item[90] 0.448923102083669\n",
       "\\item[92] 0.231116973094979\n",
       "\\item[93] 0.290583992927489\n",
       "\\item[96] 0.290583992927489\n",
       "\\item[99] 0.214258438655153\n",
       "\\item[109] 0.214258438655153\n",
       "\\item[111] 0.349513391451938\n",
       "\\item[114] 0.231116973094979\n",
       "\\item[115] 0.214258438655153\n",
       "\\item[117] 0.214258438655153\n",
       "\\item[119] 0.774032508815679\n",
       "\\item[129] 0.231116973094979\n",
       "\\item[130] 0.214258438655153\n",
       "\\item[134] 0.214258438655153\n",
       "\\item[137] 0.214258438655153\n",
       "\\item[139] 0.214258438655153\n",
       "\\item[140] 0.290583992927489\n",
       "\\item[144] 0.290583992927489\n",
       "\\item[148] 0.214258438655153\n",
       "\\item[151] 0.214258438655153\n",
       "\\item[153] 0.290583992927489\n",
       "\\item[154] 0.381342291475005\n",
       "\\item[158] 0.582457586987105\n",
       "\\item[167] 0.349513391451938\n",
       "\\item[172] 0.349513391451938\n",
       "\\item[173] 0.557868264425587\n",
       "\\item[175] 0.214258438655153\n",
       "\\item[180] 0.231116973094979\n",
       "\\item[185] 0.320671121282892\n",
       "\\item[193] 0.214258438655153\n",
       "\\item[196] 0.625079522610075\n",
       "\\item[197] 0.214258438655153\n",
       "\\item[200] 0.214258438655153\n",
       "\\item[202] 0.214258438655153\n",
       "\\item[209] 0.349513391451938\n",
       "\\item[213] 0.214258438655153\n",
       "\\item[217] 0.214258438655153\n",
       "\\item[219] 0.214258438655153\n",
       "\\item[220] 0.625079522610075\n",
       "\\item[230] 0.381342291475005\n",
       "\\item[232] 0.320671121282892\n",
       "\\item[233] 0.214258438655153\n",
       "\\item[236] 0.290583992927489\n",
       "\\item[239] 0.214258438655153\n",
       "\\item[240] 0.214258438655153\n",
       "\\item[242] 0.290583992927489\n",
       "\\item[244] 0.214258438655153\n",
       "\\item[246] 0.214258438655153\n",
       "\\item[247] 0.381342291475005\n",
       "\\item[257] 0.381342291475005\n",
       "\\item[261] 0.381342291475005\n",
       "\\item[266] 0.349513391451938\n",
       "\\item[268] 0.349513391451938\n",
       "\\item[273] 0.214258438655153\n",
       "\\item[282] 0.214258438655153\n",
       "\\item[287] 0.214258438655153\n",
       "\\item[288] 0.381342291475005\n",
       "\\item[290] 0.290583992927489\n",
       "\\item[300] 0.214258438655153\n",
       "\\item[301] 0.349513391451938\n",
       "\\item[312] 0.448923102083669\n",
       "\\item[314] 0.214258438655153\n",
       "\\item[315] 0.214258438655153\n",
       "\\item[316] 0.349513391451938\n",
       "\\item[320] 0.320671121282892\n",
       "\\item[322] 0.231116973094979\n",
       "\\item[323] 0.349513391451938\n",
       "\\item[324] 0.214258438655153\n",
       "\\item[325] 0.290583992927489\n",
       "\\item[327] 0.320671121282892\n",
       "\\item[333] 0.448923102083669\n",
       "\\item[337] 0.231116973094979\n",
       "\\item[355] 0.290583992927489\n",
       "\\item[356] 0.214258438655153\n",
       "\\item[360] 0.557868264425587\n",
       "\\item[368] 0.214258438655153\n",
       "\\item[369] 0.214258438655153\n",
       "\\item[370] 0.381342291475005\n",
       "\\item[373] 0.214258438655153\n",
       "\\item[377] 0.320671121282892\n",
       "\\item[385] 0.349513391451938\n",
       "\\item[386] 0.381342291475005\n",
       "\\item[387] 0.214258438655153\n",
       "\\item[388] 0.290583992927489\n",
       "\\item[391] 0.214258438655153\n",
       "\\item[392] 0.381342291475005\n",
       "\\item[393] 0.214258438655153\n",
       "\\item[394] 0.214258438655153\n",
       "\\item[396] 0.214258438655153\n",
       "\\item[398] 0.290583992927489\n",
       "\\item[406] 0.290583992927489\n",
       "\\item[407] 0.290583992927489\n",
       "\\item[411] 0.290583992927489\n",
       "\\item[412] 0.290583992927489\n",
       "\\item[416] 0.557868264425587\n",
       "\\item[422] 0.214258438655153\n",
       "\\item[423] 0.214258438655153\n",
       "\\item[433] 0.290583992927489\n",
       "\\item[435] 0.214258438655153\n",
       "\\item[437] 0.214258438655153\n",
       "\\item[438] 0.231116973094979\n",
       "\\item[445] 0.381342291475005\n",
       "\\item[447] 0.290583992927489\n",
       "\\item[451] 0.381342291475005\n",
       "\\item[452] 0.214258438655153\n",
       "\\item[453] 0.214258438655153\n",
       "\\item[458] 0.349513391451938\n",
       "\\item[465] 0.214258438655153\n",
       "\\item[466] 0.214258438655153\n",
       "\\item[467] 0.214258438655153\n",
       "\\item[472] 0.214258438655153\n",
       "\\item[477] 0.231116973094979\n",
       "\\item[481] 0.214258438655153\n",
       "\\item[489] 0.214258438655153\n",
       "\\item[490] 0.290583992927489\n",
       "\\item[492] 0.381342291475005\n",
       "\\item[494] 0.214258438655153\n",
       "\\item[500] 0.290583992927489\n",
       "\\item[502] 0.214258438655153\n",
       "\\item[503] 0.349513391451938\n",
       "\\item[505] 0.39183199949822\n",
       "\\item[509] 0.214258438655153\n",
       "\\item[513] 0.214258438655153\n",
       "\\item[516] 0.214258438655153\n",
       "\\item[517] 0.214258438655153\n",
       "\\item[519] 0.320671121282892\n",
       "\\item[520] 0.214258438655153\n",
       "\\item[524] 0.290583992927489\n",
       "\\item[525] 0.214258438655153\n",
       "\\item[527] 0.582457586987105\n",
       "\\item[532] 0.381342291475005\n",
       "\\item[533] 0.290583992927489\n",
       "\\item[536] 0.214258438655153\n",
       "\\item[546] 0.557868264425587\n",
       "\\item[555] 0.381342291475005\n",
       "\\item[556] 0.661527307126109\n",
       "\\item[559] 0.582457586987105\n",
       "\\item[560] 0.290583992927489\n",
       "\\item[563] 0.381342291475005\n",
       "\\item[565] 0.774032508815679\n",
       "\\item[568] 0.582457586987105\n",
       "\\item[571] 0.557868264425587\n",
       "\\item[579] 0.625079522610075\n",
       "\\item[580] 0.381342291475005\n",
       "\\item[583] 0.381342291475005\n",
       "\\item[584] 0.214258438655153\n",
       "\\item[589] 0.448923102083669\n",
       "\\item[590] 0.625079522610075\n",
       "\\item[591] 0.381342291475005\n",
       "\\item[594] 0.625079522610075\n",
       "\\item[603] 0.661527307126109\n",
       "\\item[604] 0.557868264425587\n",
       "\\item[610] 0.381342291475005\n",
       "\\item[614] 0.381342291475005\n",
       "\\item[615] 0.290583992927489\n",
       "\\item[618] 0.557868264425587\n",
       "\\item[619] 0.214258438655153\n",
       "\\item[622] 0.448923102083669\n",
       "\\item[625] 0.381342291475005\n",
       "\\item[626] 0.774032508815679\n",
       "\\item[637] 0.774032508815679\n",
       "\\item[644] 0.661527307126109\n",
       "\\item[648] 0.661527307126109\n",
       "\\item[650] 0.214258438655153\n",
       "\\item[651] 0.214258438655153\n",
       "\\item[652] 0.290583992927489\n",
       "\\item[654] 0.661527307126109\n",
       "\\item[664] 0.774032508815679\n",
       "\\item[669] 0.661527307126109\n",
       "\\item[673] 0.774032508815679\n",
       "\\item[679] 0.774032508815679\n",
       "\\item[680] 0.214258438655153\n",
       "\\item[684] 0.625079522610075\n",
       "\\item[685] 0.381342291475005\n",
       "\\item[686] 0.214258438655153\n",
       "\\item[689] 0.557868264425587\n",
       "\\item[698] 0.582457586987105\n",
       "\\item[702] 0.349513391451938\n",
       "\\item[703] 0.214258438655153\n",
       "\\item[704] 0.774032508815679\n",
       "\\item[705] 0.381342291475005\n",
       "\\item[716] 0.349513391451938\n",
       "\\item[717] 0.381342291475005\n",
       "\\item[718] 0.625079522610075\n",
       "\\item[723] 0.214258438655153\n",
       "\\item[725] 0.625079522610075\n",
       "\\item[728] 0.349513391451938\n",
       "\\item[730] 0.320671121282892\n",
       "\\item[735] 0.625079522610075\n",
       "\\item[738] 0.381342291475005\n",
       "\\item[741] 0.214258438655153\n",
       "\\item[747] 0.231116973094979\n",
       "\\item[748] 0.349513391451938\n",
       "\\item[754] 0.625079522610075\n",
       "\\item[762] 0.625079522610075\n",
       "\\item[764] 0.290583992927489\n",
       "\\item[769] 0.661527307126109\n",
       "\\item[770] 0.381342291475005\n",
       "\\item[772] 0.290583992927489\n",
       "\\item[774] 0.349513391451938\n",
       "\\item[775] 0.557868264425587\n",
       "\\item[778] 0.214258438655153\n",
       "\\item[781] 0.661527307126109\n",
       "\\item[782] 0.448923102083669\n",
       "\\item[783] 0.774032508815679\n",
       "\\item[785] 0.448923102083669\n",
       "\\item[790] 0.661527307126109\n",
       "\\item[799] 0.625079522610075\n",
       "\\item[802] 0.582457586987105\n",
       "\\item[806] 0.625079522610075\n",
       "\\item[807] 0.557868264425587\n",
       "\\item[814] 0.448923102083669\n",
       "\\item[819] 0.214258438655153\n",
       "\\item[823] 0.625079522610075\n",
       "\\item[825] 0.661527307126109\n",
       "\\item[828] 0.349513391451938\n",
       "\\item[832] 0.349513391451938\n",
       "\\item[841] 0.625079522610075\n",
       "\\item[844] 0.290583992927489\n",
       "\\item[845] 0.661527307126109\n",
       "\\item[851] 0.661527307126109\n",
       "\\item[852] 0.582457586987105\n",
       "\\item[858] 0.625079522610075\n",
       "\\item[860] 0.320671121282892\n",
       "\\item[865] 0.381342291475005\n",
       "\\item[867] 0.231116973094979\n",
       "\\item[868] 0.661527307126109\n",
       "\\item[871] 0.774032508815679\n",
       "\\item[872] 0.214258438655153\n",
       "\\item[876] 0.661527307126109\n",
       "\\item[879] 0.349513391451938\n",
       "\\item[883] 0.763092674427175\n",
       "\\item[885] 0.661527307126109\n",
       "\\item[887] 0.582457586987105\n",
       "\\item[889] 0.625079522610075\n",
       "\\end{description*}\n"
      ],
      "text/markdown": [
       "5\n",
       ":   0.2142584386551536\n",
       ":   0.2142584386551537\n",
       ":   0.2142584386551538\n",
       ":   0.3813422914750059\n",
       ":   0.23111697309497916\n",
       ":   0.44892310208366918\n",
       ":   0.44892310208366920\n",
       ":   0.21425843865515324\n",
       ":   0.32067112128289226\n",
       ":   0.23111697309497927\n",
       ":   0.32067112128289228\n",
       ":   0.38134229147500533\n",
       ":   0.21425843865515337\n",
       ":   0.44892310208366944\n",
       ":   0.21425843865515346\n",
       ":   0.21425843865515347\n",
       ":   0.21425843865515348\n",
       ":   0.34951339145193850\n",
       ":   0.21425843865515352\n",
       ":   0.21425843865515356\n",
       ":   0.21425843865515362\n",
       ":   0.34951339145193865\n",
       ":   0.21425843865515368\n",
       ":   0.58245758698710569\n",
       ":   0.21425843865515372\n",
       ":   0.21425843865515373\n",
       ":   0.23111697309497978\n",
       ":   0.21425843865515380\n",
       ":   0.34951339145193881\n",
       ":   0.23111697309497982\n",
       ":   0.21425843865515389\n",
       ":   0.21425843865515390\n",
       ":   0.44892310208366992\n",
       ":   0.23111697309497993\n",
       ":   0.29058399292748996\n",
       ":   0.29058399292748999\n",
       ":   0.214258438655153109\n",
       ":   0.214258438655153111\n",
       ":   0.349513391451938114\n",
       ":   0.231116973094979115\n",
       ":   0.214258438655153117\n",
       ":   0.214258438655153119\n",
       ":   0.774032508815679129\n",
       ":   0.231116973094979130\n",
       ":   0.214258438655153134\n",
       ":   0.214258438655153137\n",
       ":   0.214258438655153139\n",
       ":   0.214258438655153140\n",
       ":   0.290583992927489144\n",
       ":   0.290583992927489148\n",
       ":   0.214258438655153151\n",
       ":   0.214258438655153153\n",
       ":   0.290583992927489154\n",
       ":   0.381342291475005158\n",
       ":   0.582457586987105167\n",
       ":   0.349513391451938172\n",
       ":   0.349513391451938173\n",
       ":   0.557868264425587175\n",
       ":   0.214258438655153180\n",
       ":   0.231116973094979185\n",
       ":   0.320671121282892193\n",
       ":   0.214258438655153196\n",
       ":   0.625079522610075197\n",
       ":   0.214258438655153200\n",
       ":   0.214258438655153202\n",
       ":   0.214258438655153209\n",
       ":   0.349513391451938213\n",
       ":   0.214258438655153217\n",
       ":   0.214258438655153219\n",
       ":   0.214258438655153220\n",
       ":   0.625079522610075230\n",
       ":   0.381342291475005232\n",
       ":   0.320671121282892233\n",
       ":   0.214258438655153236\n",
       ":   0.290583992927489239\n",
       ":   0.214258438655153240\n",
       ":   0.214258438655153242\n",
       ":   0.290583992927489244\n",
       ":   0.214258438655153246\n",
       ":   0.214258438655153247\n",
       ":   0.381342291475005257\n",
       ":   0.381342291475005261\n",
       ":   0.381342291475005266\n",
       ":   0.349513391451938268\n",
       ":   0.349513391451938273\n",
       ":   0.214258438655153282\n",
       ":   0.214258438655153287\n",
       ":   0.214258438655153288\n",
       ":   0.381342291475005290\n",
       ":   0.290583992927489300\n",
       ":   0.214258438655153301\n",
       ":   0.349513391451938312\n",
       ":   0.448923102083669314\n",
       ":   0.214258438655153315\n",
       ":   0.214258438655153316\n",
       ":   0.349513391451938320\n",
       ":   0.320671121282892322\n",
       ":   0.231116973094979323\n",
       ":   0.349513391451938324\n",
       ":   0.214258438655153325\n",
       ":   0.290583992927489327\n",
       ":   0.320671121282892333\n",
       ":   0.448923102083669337\n",
       ":   0.231116973094979355\n",
       ":   0.290583992927489356\n",
       ":   0.214258438655153360\n",
       ":   0.557868264425587368\n",
       ":   0.214258438655153369\n",
       ":   0.214258438655153370\n",
       ":   0.381342291475005373\n",
       ":   0.214258438655153377\n",
       ":   0.320671121282892385\n",
       ":   0.349513391451938386\n",
       ":   0.381342291475005387\n",
       ":   0.214258438655153388\n",
       ":   0.290583992927489391\n",
       ":   0.214258438655153392\n",
       ":   0.381342291475005393\n",
       ":   0.214258438655153394\n",
       ":   0.214258438655153396\n",
       ":   0.214258438655153398\n",
       ":   0.290583992927489406\n",
       ":   0.290583992927489407\n",
       ":   0.290583992927489411\n",
       ":   0.290583992927489412\n",
       ":   0.290583992927489416\n",
       ":   0.557868264425587422\n",
       ":   0.214258438655153423\n",
       ":   0.214258438655153433\n",
       ":   0.290583992927489435\n",
       ":   0.214258438655153437\n",
       ":   0.214258438655153438\n",
       ":   0.231116973094979445\n",
       ":   0.381342291475005447\n",
       ":   0.290583992927489451\n",
       ":   0.381342291475005452\n",
       ":   0.214258438655153453\n",
       ":   0.214258438655153458\n",
       ":   0.349513391451938465\n",
       ":   0.214258438655153466\n",
       ":   0.214258438655153467\n",
       ":   0.214258438655153472\n",
       ":   0.214258438655153477\n",
       ":   0.231116973094979481\n",
       ":   0.214258438655153489\n",
       ":   0.214258438655153490\n",
       ":   0.290583992927489492\n",
       ":   0.381342291475005494\n",
       ":   0.214258438655153500\n",
       ":   0.290583992927489502\n",
       ":   0.214258438655153503\n",
       ":   0.349513391451938505\n",
       ":   0.39183199949822509\n",
       ":   0.214258438655153513\n",
       ":   0.214258438655153516\n",
       ":   0.214258438655153517\n",
       ":   0.214258438655153519\n",
       ":   0.320671121282892520\n",
       ":   0.214258438655153524\n",
       ":   0.290583992927489525\n",
       ":   0.214258438655153527\n",
       ":   0.582457586987105532\n",
       ":   0.381342291475005533\n",
       ":   0.290583992927489536\n",
       ":   0.214258438655153546\n",
       ":   0.557868264425587555\n",
       ":   0.381342291475005556\n",
       ":   0.661527307126109559\n",
       ":   0.582457586987105560\n",
       ":   0.290583992927489563\n",
       ":   0.381342291475005565\n",
       ":   0.774032508815679568\n",
       ":   0.582457586987105571\n",
       ":   0.557868264425587579\n",
       ":   0.625079522610075580\n",
       ":   0.381342291475005583\n",
       ":   0.381342291475005584\n",
       ":   0.214258438655153589\n",
       ":   0.448923102083669590\n",
       ":   0.625079522610075591\n",
       ":   0.381342291475005594\n",
       ":   0.625079522610075603\n",
       ":   0.661527307126109604\n",
       ":   0.557868264425587610\n",
       ":   0.381342291475005614\n",
       ":   0.381342291475005615\n",
       ":   0.290583992927489618\n",
       ":   0.557868264425587619\n",
       ":   0.214258438655153622\n",
       ":   0.448923102083669625\n",
       ":   0.381342291475005626\n",
       ":   0.774032508815679637\n",
       ":   0.774032508815679644\n",
       ":   0.661527307126109648\n",
       ":   0.661527307126109650\n",
       ":   0.214258438655153651\n",
       ":   0.214258438655153652\n",
       ":   0.290583992927489654\n",
       ":   0.661527307126109664\n",
       ":   0.774032508815679669\n",
       ":   0.661527307126109673\n",
       ":   0.774032508815679679\n",
       ":   0.774032508815679680\n",
       ":   0.214258438655153684\n",
       ":   0.625079522610075685\n",
       ":   0.381342291475005686\n",
       ":   0.214258438655153689\n",
       ":   0.557868264425587698\n",
       ":   0.582457586987105702\n",
       ":   0.349513391451938703\n",
       ":   0.214258438655153704\n",
       ":   0.774032508815679705\n",
       ":   0.381342291475005716\n",
       ":   0.349513391451938717\n",
       ":   0.381342291475005718\n",
       ":   0.625079522610075723\n",
       ":   0.214258438655153725\n",
       ":   0.625079522610075728\n",
       ":   0.349513391451938730\n",
       ":   0.320671121282892735\n",
       ":   0.625079522610075738\n",
       ":   0.381342291475005741\n",
       ":   0.214258438655153747\n",
       ":   0.231116973094979748\n",
       ":   0.349513391451938754\n",
       ":   0.625079522610075762\n",
       ":   0.625079522610075764\n",
       ":   0.290583992927489769\n",
       ":   0.661527307126109770\n",
       ":   0.381342291475005772\n",
       ":   0.290583992927489774\n",
       ":   0.349513391451938775\n",
       ":   0.557868264425587778\n",
       ":   0.214258438655153781\n",
       ":   0.661527307126109782\n",
       ":   0.448923102083669783\n",
       ":   0.774032508815679785\n",
       ":   0.448923102083669790\n",
       ":   0.661527307126109799\n",
       ":   0.625079522610075802\n",
       ":   0.582457586987105806\n",
       ":   0.625079522610075807\n",
       ":   0.557868264425587814\n",
       ":   0.448923102083669819\n",
       ":   0.214258438655153823\n",
       ":   0.625079522610075825\n",
       ":   0.661527307126109828\n",
       ":   0.349513391451938832\n",
       ":   0.349513391451938841\n",
       ":   0.625079522610075844\n",
       ":   0.290583992927489845\n",
       ":   0.661527307126109851\n",
       ":   0.661527307126109852\n",
       ":   0.582457586987105858\n",
       ":   0.625079522610075860\n",
       ":   0.320671121282892865\n",
       ":   0.381342291475005867\n",
       ":   0.231116973094979868\n",
       ":   0.661527307126109871\n",
       ":   0.774032508815679872\n",
       ":   0.214258438655153876\n",
       ":   0.661527307126109879\n",
       ":   0.349513391451938883\n",
       ":   0.763092674427175885\n",
       ":   0.661527307126109887\n",
       ":   0.582457586987105889\n",
       ":   0.625079522610075\n",
       "\n"
      ],
      "text/plain": [
       "        5         6         7         8         9        16        18        20 \n",
       "0.2142584 0.2142584 0.2142584 0.3813423 0.2311170 0.4489231 0.4489231 0.2142584 \n",
       "       24        26        27        28        33        37        44        46 \n",
       "0.3206711 0.2311170 0.3206711 0.3813423 0.2142584 0.4489231 0.2142584 0.2142584 \n",
       "       47        48        50        52        56        62        65        68 \n",
       "0.2142584 0.3495134 0.2142584 0.2142584 0.2142584 0.3495134 0.2142584 0.5824576 \n",
       "       69        72        73        78        80        81        82        89 \n",
       "0.2142584 0.2142584 0.2311170 0.2142584 0.3495134 0.2311170 0.2142584 0.2142584 \n",
       "       90        92        93        96        99       109       111       114 \n",
       "0.4489231 0.2311170 0.2905840 0.2905840 0.2142584 0.2142584 0.3495134 0.2311170 \n",
       "      115       117       119       129       130       134       137       139 \n",
       "0.2142584 0.2142584 0.7740325 0.2311170 0.2142584 0.2142584 0.2142584 0.2142584 \n",
       "      140       144       148       151       153       154       158       167 \n",
       "0.2905840 0.2905840 0.2142584 0.2142584 0.2905840 0.3813423 0.5824576 0.3495134 \n",
       "      172       173       175       180       185       193       196       197 \n",
       "0.3495134 0.5578683 0.2142584 0.2311170 0.3206711 0.2142584 0.6250795 0.2142584 \n",
       "      200       202       209       213       217       219       220       230 \n",
       "0.2142584 0.2142584 0.3495134 0.2142584 0.2142584 0.2142584 0.6250795 0.3813423 \n",
       "      232       233       236       239       240       242       244       246 \n",
       "0.3206711 0.2142584 0.2905840 0.2142584 0.2142584 0.2905840 0.2142584 0.2142584 \n",
       "      247       257       261       266       268       273       282       287 \n",
       "0.3813423 0.3813423 0.3813423 0.3495134 0.3495134 0.2142584 0.2142584 0.2142584 \n",
       "      288       290       300       301       312       314       315       316 \n",
       "0.3813423 0.2905840 0.2142584 0.3495134 0.4489231 0.2142584 0.2142584 0.3495134 \n",
       "      320       322       323       324       325       327       333       337 \n",
       "0.3206711 0.2311170 0.3495134 0.2142584 0.2905840 0.3206711 0.4489231 0.2311170 \n",
       "      355       356       360       368       369       370       373       377 \n",
       "0.2905840 0.2142584 0.5578683 0.2142584 0.2142584 0.3813423 0.2142584 0.3206711 \n",
       "      385       386       387       388       391       392       393       394 \n",
       "0.3495134 0.3813423 0.2142584 0.2905840 0.2142584 0.3813423 0.2142584 0.2142584 \n",
       "      396       398       406       407       411       412       416       422 \n",
       "0.2142584 0.2905840 0.2905840 0.2905840 0.2905840 0.2905840 0.5578683 0.2142584 \n",
       "      423       433       435       437       438       445       447       451 \n",
       "0.2142584 0.2905840 0.2142584 0.2142584 0.2311170 0.3813423 0.2905840 0.3813423 \n",
       "      452       453       458       465       466       467       472       477 \n",
       "0.2142584 0.2142584 0.3495134 0.2142584 0.2142584 0.2142584 0.2142584 0.2311170 \n",
       "      481       489       490       492       494       500       502       503 \n",
       "0.2142584 0.2142584 0.2905840 0.3813423 0.2142584 0.2905840 0.2142584 0.3495134 \n",
       "      505       509       513       516       517       519       520       524 \n",
       "0.3918320 0.2142584 0.2142584 0.2142584 0.2142584 0.3206711 0.2142584 0.2905840 \n",
       "      525       527       532       533       536       546       555       556 \n",
       "0.2142584 0.5824576 0.3813423 0.2905840 0.2142584 0.5578683 0.3813423 0.6615273 \n",
       "      559       560       563       565       568       571       579       580 \n",
       "0.5824576 0.2905840 0.3813423 0.7740325 0.5824576 0.5578683 0.6250795 0.3813423 \n",
       "      583       584       589       590       591       594       603       604 \n",
       "0.3813423 0.2142584 0.4489231 0.6250795 0.3813423 0.6250795 0.6615273 0.5578683 \n",
       "      610       614       615       618       619       622       625       626 \n",
       "0.3813423 0.3813423 0.2905840 0.5578683 0.2142584 0.4489231 0.3813423 0.7740325 \n",
       "      637       644       648       650       651       652       654       664 \n",
       "0.7740325 0.6615273 0.6615273 0.2142584 0.2142584 0.2905840 0.6615273 0.7740325 \n",
       "      669       673       679       680       684       685       686       689 \n",
       "0.6615273 0.7740325 0.7740325 0.2142584 0.6250795 0.3813423 0.2142584 0.5578683 \n",
       "      698       702       703       704       705       716       717       718 \n",
       "0.5824576 0.3495134 0.2142584 0.7740325 0.3813423 0.3495134 0.3813423 0.6250795 \n",
       "      723       725       728       730       735       738       741       747 \n",
       "0.2142584 0.6250795 0.3495134 0.3206711 0.6250795 0.3813423 0.2142584 0.2311170 \n",
       "      748       754       762       764       769       770       772       774 \n",
       "0.3495134 0.6250795 0.6250795 0.2905840 0.6615273 0.3813423 0.2905840 0.3495134 \n",
       "      775       778       781       782       783       785       790       799 \n",
       "0.5578683 0.2142584 0.6615273 0.4489231 0.7740325 0.4489231 0.6615273 0.6250795 \n",
       "      802       806       807       814       819       823       825       828 \n",
       "0.5824576 0.6250795 0.5578683 0.4489231 0.2142584 0.6250795 0.6615273 0.3495134 \n",
       "      832       841       844       845       851       852       858       860 \n",
       "0.3495134 0.6250795 0.2905840 0.6615273 0.6615273 0.5824576 0.6250795 0.3206711 \n",
       "      865       867       868       871       872       876       879       883 \n",
       "0.3813423 0.2311170 0.6615273 0.7740325 0.2142584 0.6615273 0.3495134 0.7630927 \n",
       "      885       887       889 \n",
       "0.6615273 0.5824576 0.6250795 "
      ]
     },
     "metadata": {},
     "output_type": "display_data"
    }
   ],
   "source": [
    "model.rf <- randomForest(Survived ~ ., data = data.train , ntree = 100)\n",
    "pred <- predict (model.rf , x)\n",
    "pred"
   ]
  },
  {
   "cell_type": "markdown",
   "id": "e16df3c7",
   "metadata": {},
   "source": [
    "--- \n",
    "### Survived를 factor로 변환 후에 randomForest 실행"
   ]
  },
  {
   "cell_type": "code",
   "execution_count": 88,
   "id": "ae506959",
   "metadata": {},
   "outputs": [],
   "source": [
    "data.train$Survived <- as.factor(data.train$Survived)\n",
    "data.test$Survived <- as.factor(data.test$Survived)"
   ]
  },
  {
   "cell_type": "code",
   "execution_count": 89,
   "id": "6a24fcc6",
   "metadata": {},
   "outputs": [
    {
     "data": {
      "text/html": [
       "<dl class=dl-horizontal>\n",
       "\t<dt>5</dt>\n",
       "\t\t<dd>0</dd>\n",
       "\t<dt>6</dt>\n",
       "\t\t<dd>0</dd>\n",
       "\t<dt>7</dt>\n",
       "\t\t<dd>0</dd>\n",
       "\t<dt>8</dt>\n",
       "\t\t<dd>0</dd>\n",
       "\t<dt>9</dt>\n",
       "\t\t<dd>0</dd>\n",
       "\t<dt>16</dt>\n",
       "\t\t<dd>0</dd>\n",
       "\t<dt>18</dt>\n",
       "\t\t<dd>0</dd>\n",
       "\t<dt>20</dt>\n",
       "\t\t<dd>0</dd>\n",
       "\t<dt>24</dt>\n",
       "\t\t<dd>0</dd>\n",
       "\t<dt>26</dt>\n",
       "\t\t<dd>0</dd>\n",
       "\t<dt>27</dt>\n",
       "\t\t<dd>0</dd>\n",
       "\t<dt>28</dt>\n",
       "\t\t<dd>0</dd>\n",
       "\t<dt>33</dt>\n",
       "\t\t<dd>0</dd>\n",
       "\t<dt>37</dt>\n",
       "\t\t<dd>0</dd>\n",
       "\t<dt>44</dt>\n",
       "\t\t<dd>0</dd>\n",
       "\t<dt>46</dt>\n",
       "\t\t<dd>0</dd>\n",
       "\t<dt>47</dt>\n",
       "\t\t<dd>0</dd>\n",
       "\t<dt>48</dt>\n",
       "\t\t<dd>0</dd>\n",
       "\t<dt>50</dt>\n",
       "\t\t<dd>0</dd>\n",
       "\t<dt>52</dt>\n",
       "\t\t<dd>0</dd>\n",
       "\t<dt>56</dt>\n",
       "\t\t<dd>0</dd>\n",
       "\t<dt>62</dt>\n",
       "\t\t<dd>0</dd>\n",
       "\t<dt>65</dt>\n",
       "\t\t<dd>0</dd>\n",
       "\t<dt>68</dt>\n",
       "\t\t<dd>1</dd>\n",
       "\t<dt>69</dt>\n",
       "\t\t<dd>0</dd>\n",
       "\t<dt>72</dt>\n",
       "\t\t<dd>0</dd>\n",
       "\t<dt>73</dt>\n",
       "\t\t<dd>0</dd>\n",
       "\t<dt>78</dt>\n",
       "\t\t<dd>0</dd>\n",
       "\t<dt>80</dt>\n",
       "\t\t<dd>0</dd>\n",
       "\t<dt>81</dt>\n",
       "\t\t<dd>0</dd>\n",
       "\t<dt>82</dt>\n",
       "\t\t<dd>0</dd>\n",
       "\t<dt>89</dt>\n",
       "\t\t<dd>0</dd>\n",
       "\t<dt>90</dt>\n",
       "\t\t<dd>0</dd>\n",
       "\t<dt>92</dt>\n",
       "\t\t<dd>0</dd>\n",
       "\t<dt>93</dt>\n",
       "\t\t<dd>0</dd>\n",
       "\t<dt>96</dt>\n",
       "\t\t<dd>0</dd>\n",
       "\t<dt>99</dt>\n",
       "\t\t<dd>0</dd>\n",
       "\t<dt>109</dt>\n",
       "\t\t<dd>0</dd>\n",
       "\t<dt>111</dt>\n",
       "\t\t<dd>0</dd>\n",
       "\t<dt>114</dt>\n",
       "\t\t<dd>0</dd>\n",
       "\t<dt>115</dt>\n",
       "\t\t<dd>0</dd>\n",
       "\t<dt>117</dt>\n",
       "\t\t<dd>0</dd>\n",
       "\t<dt>119</dt>\n",
       "\t\t<dd>1</dd>\n",
       "\t<dt>129</dt>\n",
       "\t\t<dd>0</dd>\n",
       "\t<dt>130</dt>\n",
       "\t\t<dd>0</dd>\n",
       "\t<dt>134</dt>\n",
       "\t\t<dd>0</dd>\n",
       "\t<dt>137</dt>\n",
       "\t\t<dd>0</dd>\n",
       "\t<dt>139</dt>\n",
       "\t\t<dd>0</dd>\n",
       "\t<dt>140</dt>\n",
       "\t\t<dd>0</dd>\n",
       "\t<dt>144</dt>\n",
       "\t\t<dd>0</dd>\n",
       "\t<dt>148</dt>\n",
       "\t\t<dd>0</dd>\n",
       "\t<dt>151</dt>\n",
       "\t\t<dd>0</dd>\n",
       "\t<dt>153</dt>\n",
       "\t\t<dd>0</dd>\n",
       "\t<dt>154</dt>\n",
       "\t\t<dd>0</dd>\n",
       "\t<dt>158</dt>\n",
       "\t\t<dd>1</dd>\n",
       "\t<dt>167</dt>\n",
       "\t\t<dd>0</dd>\n",
       "\t<dt>172</dt>\n",
       "\t\t<dd>0</dd>\n",
       "\t<dt>173</dt>\n",
       "\t\t<dd>1</dd>\n",
       "\t<dt>175</dt>\n",
       "\t\t<dd>0</dd>\n",
       "\t<dt>180</dt>\n",
       "\t\t<dd>0</dd>\n",
       "\t<dt>185</dt>\n",
       "\t\t<dd>0</dd>\n",
       "\t<dt>193</dt>\n",
       "\t\t<dd>0</dd>\n",
       "\t<dt>196</dt>\n",
       "\t\t<dd>1</dd>\n",
       "\t<dt>197</dt>\n",
       "\t\t<dd>0</dd>\n",
       "\t<dt>200</dt>\n",
       "\t\t<dd>0</dd>\n",
       "\t<dt>202</dt>\n",
       "\t\t<dd>0</dd>\n",
       "\t<dt>209</dt>\n",
       "\t\t<dd>0</dd>\n",
       "\t<dt>213</dt>\n",
       "\t\t<dd>0</dd>\n",
       "\t<dt>217</dt>\n",
       "\t\t<dd>0</dd>\n",
       "\t<dt>219</dt>\n",
       "\t\t<dd>0</dd>\n",
       "\t<dt>220</dt>\n",
       "\t\t<dd>1</dd>\n",
       "\t<dt>230</dt>\n",
       "\t\t<dd>0</dd>\n",
       "\t<dt>232</dt>\n",
       "\t\t<dd>0</dd>\n",
       "\t<dt>233</dt>\n",
       "\t\t<dd>0</dd>\n",
       "\t<dt>236</dt>\n",
       "\t\t<dd>0</dd>\n",
       "\t<dt>239</dt>\n",
       "\t\t<dd>0</dd>\n",
       "\t<dt>240</dt>\n",
       "\t\t<dd>0</dd>\n",
       "\t<dt>242</dt>\n",
       "\t\t<dd>0</dd>\n",
       "\t<dt>244</dt>\n",
       "\t\t<dd>0</dd>\n",
       "\t<dt>246</dt>\n",
       "\t\t<dd>0</dd>\n",
       "\t<dt>247</dt>\n",
       "\t\t<dd>0</dd>\n",
       "\t<dt>257</dt>\n",
       "\t\t<dd>0</dd>\n",
       "\t<dt>261</dt>\n",
       "\t\t<dd>0</dd>\n",
       "\t<dt>266</dt>\n",
       "\t\t<dd>0</dd>\n",
       "\t<dt>268</dt>\n",
       "\t\t<dd>0</dd>\n",
       "\t<dt>273</dt>\n",
       "\t\t<dd>0</dd>\n",
       "\t<dt>282</dt>\n",
       "\t\t<dd>0</dd>\n",
       "\t<dt>287</dt>\n",
       "\t\t<dd>0</dd>\n",
       "\t<dt>288</dt>\n",
       "\t\t<dd>0</dd>\n",
       "\t<dt>290</dt>\n",
       "\t\t<dd>0</dd>\n",
       "\t<dt>300</dt>\n",
       "\t\t<dd>0</dd>\n",
       "\t<dt>301</dt>\n",
       "\t\t<dd>0</dd>\n",
       "\t<dt>312</dt>\n",
       "\t\t<dd>0</dd>\n",
       "\t<dt>314</dt>\n",
       "\t\t<dd>0</dd>\n",
       "\t<dt>315</dt>\n",
       "\t\t<dd>0</dd>\n",
       "\t<dt>316</dt>\n",
       "\t\t<dd>0</dd>\n",
       "\t<dt>320</dt>\n",
       "\t\t<dd>0</dd>\n",
       "\t<dt>322</dt>\n",
       "\t\t<dd>0</dd>\n",
       "\t<dt>323</dt>\n",
       "\t\t<dd>0</dd>\n",
       "\t<dt>324</dt>\n",
       "\t\t<dd>0</dd>\n",
       "\t<dt>325</dt>\n",
       "\t\t<dd>0</dd>\n",
       "\t<dt>327</dt>\n",
       "\t\t<dd>0</dd>\n",
       "\t<dt>333</dt>\n",
       "\t\t<dd>0</dd>\n",
       "\t<dt>337</dt>\n",
       "\t\t<dd>0</dd>\n",
       "\t<dt>355</dt>\n",
       "\t\t<dd>0</dd>\n",
       "\t<dt>356</dt>\n",
       "\t\t<dd>0</dd>\n",
       "\t<dt>360</dt>\n",
       "\t\t<dd>1</dd>\n",
       "\t<dt>368</dt>\n",
       "\t\t<dd>0</dd>\n",
       "\t<dt>369</dt>\n",
       "\t\t<dd>0</dd>\n",
       "\t<dt>370</dt>\n",
       "\t\t<dd>0</dd>\n",
       "\t<dt>373</dt>\n",
       "\t\t<dd>0</dd>\n",
       "\t<dt>377</dt>\n",
       "\t\t<dd>0</dd>\n",
       "\t<dt>385</dt>\n",
       "\t\t<dd>0</dd>\n",
       "\t<dt>386</dt>\n",
       "\t\t<dd>0</dd>\n",
       "\t<dt>387</dt>\n",
       "\t\t<dd>0</dd>\n",
       "\t<dt>388</dt>\n",
       "\t\t<dd>0</dd>\n",
       "\t<dt>391</dt>\n",
       "\t\t<dd>0</dd>\n",
       "\t<dt>392</dt>\n",
       "\t\t<dd>0</dd>\n",
       "\t<dt>393</dt>\n",
       "\t\t<dd>0</dd>\n",
       "\t<dt>394</dt>\n",
       "\t\t<dd>0</dd>\n",
       "\t<dt>396</dt>\n",
       "\t\t<dd>0</dd>\n",
       "\t<dt>398</dt>\n",
       "\t\t<dd>0</dd>\n",
       "\t<dt>406</dt>\n",
       "\t\t<dd>0</dd>\n",
       "\t<dt>407</dt>\n",
       "\t\t<dd>0</dd>\n",
       "\t<dt>411</dt>\n",
       "\t\t<dd>0</dd>\n",
       "\t<dt>412</dt>\n",
       "\t\t<dd>0</dd>\n",
       "\t<dt>416</dt>\n",
       "\t\t<dd>1</dd>\n",
       "\t<dt>422</dt>\n",
       "\t\t<dd>0</dd>\n",
       "\t<dt>423</dt>\n",
       "\t\t<dd>0</dd>\n",
       "\t<dt>433</dt>\n",
       "\t\t<dd>0</dd>\n",
       "\t<dt>435</dt>\n",
       "\t\t<dd>0</dd>\n",
       "\t<dt>437</dt>\n",
       "\t\t<dd>0</dd>\n",
       "\t<dt>438</dt>\n",
       "\t\t<dd>0</dd>\n",
       "\t<dt>445</dt>\n",
       "\t\t<dd>0</dd>\n",
       "\t<dt>447</dt>\n",
       "\t\t<dd>0</dd>\n",
       "\t<dt>451</dt>\n",
       "\t\t<dd>0</dd>\n",
       "\t<dt>452</dt>\n",
       "\t\t<dd>0</dd>\n",
       "\t<dt>453</dt>\n",
       "\t\t<dd>0</dd>\n",
       "\t<dt>458</dt>\n",
       "\t\t<dd>0</dd>\n",
       "\t<dt>465</dt>\n",
       "\t\t<dd>0</dd>\n",
       "\t<dt>466</dt>\n",
       "\t\t<dd>0</dd>\n",
       "\t<dt>467</dt>\n",
       "\t\t<dd>0</dd>\n",
       "\t<dt>472</dt>\n",
       "\t\t<dd>0</dd>\n",
       "\t<dt>477</dt>\n",
       "\t\t<dd>0</dd>\n",
       "\t<dt>481</dt>\n",
       "\t\t<dd>0</dd>\n",
       "\t<dt>489</dt>\n",
       "\t\t<dd>0</dd>\n",
       "\t<dt>490</dt>\n",
       "\t\t<dd>0</dd>\n",
       "\t<dt>492</dt>\n",
       "\t\t<dd>0</dd>\n",
       "\t<dt>494</dt>\n",
       "\t\t<dd>0</dd>\n",
       "\t<dt>500</dt>\n",
       "\t\t<dd>0</dd>\n",
       "\t<dt>502</dt>\n",
       "\t\t<dd>0</dd>\n",
       "\t<dt>503</dt>\n",
       "\t\t<dd>0</dd>\n",
       "\t<dt>505</dt>\n",
       "\t\t<dd>0</dd>\n",
       "\t<dt>509</dt>\n",
       "\t\t<dd>0</dd>\n",
       "\t<dt>513</dt>\n",
       "\t\t<dd>0</dd>\n",
       "\t<dt>516</dt>\n",
       "\t\t<dd>0</dd>\n",
       "\t<dt>517</dt>\n",
       "\t\t<dd>0</dd>\n",
       "\t<dt>519</dt>\n",
       "\t\t<dd>0</dd>\n",
       "\t<dt>520</dt>\n",
       "\t\t<dd>0</dd>\n",
       "\t<dt>524</dt>\n",
       "\t\t<dd>0</dd>\n",
       "\t<dt>525</dt>\n",
       "\t\t<dd>0</dd>\n",
       "\t<dt>527</dt>\n",
       "\t\t<dd>1</dd>\n",
       "\t<dt>532</dt>\n",
       "\t\t<dd>0</dd>\n",
       "\t<dt>533</dt>\n",
       "\t\t<dd>0</dd>\n",
       "\t<dt>536</dt>\n",
       "\t\t<dd>0</dd>\n",
       "\t<dt>546</dt>\n",
       "\t\t<dd>1</dd>\n",
       "\t<dt>555</dt>\n",
       "\t\t<dd>0</dd>\n",
       "\t<dt>556</dt>\n",
       "\t\t<dd>1</dd>\n",
       "\t<dt>559</dt>\n",
       "\t\t<dd>1</dd>\n",
       "\t<dt>560</dt>\n",
       "\t\t<dd>0</dd>\n",
       "\t<dt>563</dt>\n",
       "\t\t<dd>0</dd>\n",
       "\t<dt>565</dt>\n",
       "\t\t<dd>1</dd>\n",
       "\t<dt>568</dt>\n",
       "\t\t<dd>1</dd>\n",
       "\t<dt>571</dt>\n",
       "\t\t<dd>1</dd>\n",
       "\t<dt>579</dt>\n",
       "\t\t<dd>1</dd>\n",
       "\t<dt>580</dt>\n",
       "\t\t<dd>0</dd>\n",
       "\t<dt>583</dt>\n",
       "\t\t<dd>0</dd>\n",
       "\t<dt>584</dt>\n",
       "\t\t<dd>0</dd>\n",
       "\t<dt>589</dt>\n",
       "\t\t<dd>0</dd>\n",
       "\t<dt>590</dt>\n",
       "\t\t<dd>1</dd>\n",
       "\t<dt>591</dt>\n",
       "\t\t<dd>0</dd>\n",
       "\t<dt>594</dt>\n",
       "\t\t<dd>1</dd>\n",
       "\t<dt>603</dt>\n",
       "\t\t<dd>1</dd>\n",
       "\t<dt>604</dt>\n",
       "\t\t<dd>1</dd>\n",
       "\t<dt>610</dt>\n",
       "\t\t<dd>0</dd>\n",
       "\t<dt>614</dt>\n",
       "\t\t<dd>0</dd>\n",
       "\t<dt>615</dt>\n",
       "\t\t<dd>0</dd>\n",
       "\t<dt>618</dt>\n",
       "\t\t<dd>1</dd>\n",
       "\t<dt>619</dt>\n",
       "\t\t<dd>0</dd>\n",
       "\t<dt>622</dt>\n",
       "\t\t<dd>0</dd>\n",
       "\t<dt>625</dt>\n",
       "\t\t<dd>0</dd>\n",
       "\t<dt>626</dt>\n",
       "\t\t<dd>1</dd>\n",
       "\t<dt>637</dt>\n",
       "\t\t<dd>1</dd>\n",
       "\t<dt>644</dt>\n",
       "\t\t<dd>1</dd>\n",
       "\t<dt>648</dt>\n",
       "\t\t<dd>1</dd>\n",
       "\t<dt>650</dt>\n",
       "\t\t<dd>0</dd>\n",
       "\t<dt>651</dt>\n",
       "\t\t<dd>0</dd>\n",
       "\t<dt>652</dt>\n",
       "\t\t<dd>0</dd>\n",
       "\t<dt>654</dt>\n",
       "\t\t<dd>1</dd>\n",
       "\t<dt>664</dt>\n",
       "\t\t<dd>1</dd>\n",
       "\t<dt>669</dt>\n",
       "\t\t<dd>1</dd>\n",
       "\t<dt>673</dt>\n",
       "\t\t<dd>1</dd>\n",
       "\t<dt>679</dt>\n",
       "\t\t<dd>1</dd>\n",
       "\t<dt>680</dt>\n",
       "\t\t<dd>0</dd>\n",
       "\t<dt>684</dt>\n",
       "\t\t<dd>1</dd>\n",
       "\t<dt>685</dt>\n",
       "\t\t<dd>0</dd>\n",
       "\t<dt>686</dt>\n",
       "\t\t<dd>0</dd>\n",
       "\t<dt>689</dt>\n",
       "\t\t<dd>1</dd>\n",
       "\t<dt>698</dt>\n",
       "\t\t<dd>1</dd>\n",
       "\t<dt>702</dt>\n",
       "\t\t<dd>0</dd>\n",
       "\t<dt>703</dt>\n",
       "\t\t<dd>0</dd>\n",
       "\t<dt>704</dt>\n",
       "\t\t<dd>1</dd>\n",
       "\t<dt>705</dt>\n",
       "\t\t<dd>0</dd>\n",
       "\t<dt>716</dt>\n",
       "\t\t<dd>0</dd>\n",
       "\t<dt>717</dt>\n",
       "\t\t<dd>0</dd>\n",
       "\t<dt>718</dt>\n",
       "\t\t<dd>1</dd>\n",
       "\t<dt>723</dt>\n",
       "\t\t<dd>0</dd>\n",
       "\t<dt>725</dt>\n",
       "\t\t<dd>1</dd>\n",
       "\t<dt>728</dt>\n",
       "\t\t<dd>0</dd>\n",
       "\t<dt>730</dt>\n",
       "\t\t<dd>0</dd>\n",
       "\t<dt>735</dt>\n",
       "\t\t<dd>1</dd>\n",
       "\t<dt>738</dt>\n",
       "\t\t<dd>0</dd>\n",
       "\t<dt>741</dt>\n",
       "\t\t<dd>0</dd>\n",
       "\t<dt>747</dt>\n",
       "\t\t<dd>0</dd>\n",
       "\t<dt>748</dt>\n",
       "\t\t<dd>0</dd>\n",
       "\t<dt>754</dt>\n",
       "\t\t<dd>1</dd>\n",
       "\t<dt>762</dt>\n",
       "\t\t<dd>1</dd>\n",
       "\t<dt>764</dt>\n",
       "\t\t<dd>0</dd>\n",
       "\t<dt>769</dt>\n",
       "\t\t<dd>1</dd>\n",
       "\t<dt>770</dt>\n",
       "\t\t<dd>0</dd>\n",
       "\t<dt>772</dt>\n",
       "\t\t<dd>0</dd>\n",
       "\t<dt>774</dt>\n",
       "\t\t<dd>0</dd>\n",
       "\t<dt>775</dt>\n",
       "\t\t<dd>1</dd>\n",
       "\t<dt>778</dt>\n",
       "\t\t<dd>0</dd>\n",
       "\t<dt>781</dt>\n",
       "\t\t<dd>1</dd>\n",
       "\t<dt>782</dt>\n",
       "\t\t<dd>0</dd>\n",
       "\t<dt>783</dt>\n",
       "\t\t<dd>1</dd>\n",
       "\t<dt>785</dt>\n",
       "\t\t<dd>0</dd>\n",
       "\t<dt>790</dt>\n",
       "\t\t<dd>1</dd>\n",
       "\t<dt>799</dt>\n",
       "\t\t<dd>1</dd>\n",
       "\t<dt>802</dt>\n",
       "\t\t<dd>1</dd>\n",
       "\t<dt>806</dt>\n",
       "\t\t<dd>1</dd>\n",
       "\t<dt>807</dt>\n",
       "\t\t<dd>1</dd>\n",
       "\t<dt>814</dt>\n",
       "\t\t<dd>0</dd>\n",
       "\t<dt>819</dt>\n",
       "\t\t<dd>0</dd>\n",
       "\t<dt>823</dt>\n",
       "\t\t<dd>1</dd>\n",
       "\t<dt>825</dt>\n",
       "\t\t<dd>1</dd>\n",
       "\t<dt>828</dt>\n",
       "\t\t<dd>0</dd>\n",
       "\t<dt>832</dt>\n",
       "\t\t<dd>0</dd>\n",
       "\t<dt>841</dt>\n",
       "\t\t<dd>1</dd>\n",
       "\t<dt>844</dt>\n",
       "\t\t<dd>0</dd>\n",
       "\t<dt>845</dt>\n",
       "\t\t<dd>1</dd>\n",
       "\t<dt>851</dt>\n",
       "\t\t<dd>1</dd>\n",
       "\t<dt>852</dt>\n",
       "\t\t<dd>1</dd>\n",
       "\t<dt>858</dt>\n",
       "\t\t<dd>1</dd>\n",
       "\t<dt>860</dt>\n",
       "\t\t<dd>0</dd>\n",
       "\t<dt>865</dt>\n",
       "\t\t<dd>0</dd>\n",
       "\t<dt>867</dt>\n",
       "\t\t<dd>0</dd>\n",
       "\t<dt>868</dt>\n",
       "\t\t<dd>1</dd>\n",
       "\t<dt>871</dt>\n",
       "\t\t<dd>1</dd>\n",
       "\t<dt>872</dt>\n",
       "\t\t<dd>0</dd>\n",
       "\t<dt>876</dt>\n",
       "\t\t<dd>1</dd>\n",
       "\t<dt>879</dt>\n",
       "\t\t<dd>0</dd>\n",
       "\t<dt>883</dt>\n",
       "\t\t<dd>1</dd>\n",
       "\t<dt>885</dt>\n",
       "\t\t<dd>1</dd>\n",
       "\t<dt>887</dt>\n",
       "\t\t<dd>1</dd>\n",
       "\t<dt>889</dt>\n",
       "\t\t<dd>1</dd>\n",
       "</dl>\n",
       "\n",
       "<details>\n",
       "\t<summary style=display:list-item;cursor:pointer>\n",
       "\t\t<strong>Levels</strong>:\n",
       "\t</summary>\n",
       "\t<ol class=list-inline>\n",
       "\t\t<li>'0'</li>\n",
       "\t\t<li>'1'</li>\n",
       "\t</ol>\n",
       "</details>"
      ],
      "text/latex": [
       "\\begin{description*}\n",
       "\\item[5] 0\n",
       "\\item[6] 0\n",
       "\\item[7] 0\n",
       "\\item[8] 0\n",
       "\\item[9] 0\n",
       "\\item[16] 0\n",
       "\\item[18] 0\n",
       "\\item[20] 0\n",
       "\\item[24] 0\n",
       "\\item[26] 0\n",
       "\\item[27] 0\n",
       "\\item[28] 0\n",
       "\\item[33] 0\n",
       "\\item[37] 0\n",
       "\\item[44] 0\n",
       "\\item[46] 0\n",
       "\\item[47] 0\n",
       "\\item[48] 0\n",
       "\\item[50] 0\n",
       "\\item[52] 0\n",
       "\\item[56] 0\n",
       "\\item[62] 0\n",
       "\\item[65] 0\n",
       "\\item[68] 1\n",
       "\\item[69] 0\n",
       "\\item[72] 0\n",
       "\\item[73] 0\n",
       "\\item[78] 0\n",
       "\\item[80] 0\n",
       "\\item[81] 0\n",
       "\\item[82] 0\n",
       "\\item[89] 0\n",
       "\\item[90] 0\n",
       "\\item[92] 0\n",
       "\\item[93] 0\n",
       "\\item[96] 0\n",
       "\\item[99] 0\n",
       "\\item[109] 0\n",
       "\\item[111] 0\n",
       "\\item[114] 0\n",
       "\\item[115] 0\n",
       "\\item[117] 0\n",
       "\\item[119] 1\n",
       "\\item[129] 0\n",
       "\\item[130] 0\n",
       "\\item[134] 0\n",
       "\\item[137] 0\n",
       "\\item[139] 0\n",
       "\\item[140] 0\n",
       "\\item[144] 0\n",
       "\\item[148] 0\n",
       "\\item[151] 0\n",
       "\\item[153] 0\n",
       "\\item[154] 0\n",
       "\\item[158] 1\n",
       "\\item[167] 0\n",
       "\\item[172] 0\n",
       "\\item[173] 1\n",
       "\\item[175] 0\n",
       "\\item[180] 0\n",
       "\\item[185] 0\n",
       "\\item[193] 0\n",
       "\\item[196] 1\n",
       "\\item[197] 0\n",
       "\\item[200] 0\n",
       "\\item[202] 0\n",
       "\\item[209] 0\n",
       "\\item[213] 0\n",
       "\\item[217] 0\n",
       "\\item[219] 0\n",
       "\\item[220] 1\n",
       "\\item[230] 0\n",
       "\\item[232] 0\n",
       "\\item[233] 0\n",
       "\\item[236] 0\n",
       "\\item[239] 0\n",
       "\\item[240] 0\n",
       "\\item[242] 0\n",
       "\\item[244] 0\n",
       "\\item[246] 0\n",
       "\\item[247] 0\n",
       "\\item[257] 0\n",
       "\\item[261] 0\n",
       "\\item[266] 0\n",
       "\\item[268] 0\n",
       "\\item[273] 0\n",
       "\\item[282] 0\n",
       "\\item[287] 0\n",
       "\\item[288] 0\n",
       "\\item[290] 0\n",
       "\\item[300] 0\n",
       "\\item[301] 0\n",
       "\\item[312] 0\n",
       "\\item[314] 0\n",
       "\\item[315] 0\n",
       "\\item[316] 0\n",
       "\\item[320] 0\n",
       "\\item[322] 0\n",
       "\\item[323] 0\n",
       "\\item[324] 0\n",
       "\\item[325] 0\n",
       "\\item[327] 0\n",
       "\\item[333] 0\n",
       "\\item[337] 0\n",
       "\\item[355] 0\n",
       "\\item[356] 0\n",
       "\\item[360] 1\n",
       "\\item[368] 0\n",
       "\\item[369] 0\n",
       "\\item[370] 0\n",
       "\\item[373] 0\n",
       "\\item[377] 0\n",
       "\\item[385] 0\n",
       "\\item[386] 0\n",
       "\\item[387] 0\n",
       "\\item[388] 0\n",
       "\\item[391] 0\n",
       "\\item[392] 0\n",
       "\\item[393] 0\n",
       "\\item[394] 0\n",
       "\\item[396] 0\n",
       "\\item[398] 0\n",
       "\\item[406] 0\n",
       "\\item[407] 0\n",
       "\\item[411] 0\n",
       "\\item[412] 0\n",
       "\\item[416] 1\n",
       "\\item[422] 0\n",
       "\\item[423] 0\n",
       "\\item[433] 0\n",
       "\\item[435] 0\n",
       "\\item[437] 0\n",
       "\\item[438] 0\n",
       "\\item[445] 0\n",
       "\\item[447] 0\n",
       "\\item[451] 0\n",
       "\\item[452] 0\n",
       "\\item[453] 0\n",
       "\\item[458] 0\n",
       "\\item[465] 0\n",
       "\\item[466] 0\n",
       "\\item[467] 0\n",
       "\\item[472] 0\n",
       "\\item[477] 0\n",
       "\\item[481] 0\n",
       "\\item[489] 0\n",
       "\\item[490] 0\n",
       "\\item[492] 0\n",
       "\\item[494] 0\n",
       "\\item[500] 0\n",
       "\\item[502] 0\n",
       "\\item[503] 0\n",
       "\\item[505] 0\n",
       "\\item[509] 0\n",
       "\\item[513] 0\n",
       "\\item[516] 0\n",
       "\\item[517] 0\n",
       "\\item[519] 0\n",
       "\\item[520] 0\n",
       "\\item[524] 0\n",
       "\\item[525] 0\n",
       "\\item[527] 1\n",
       "\\item[532] 0\n",
       "\\item[533] 0\n",
       "\\item[536] 0\n",
       "\\item[546] 1\n",
       "\\item[555] 0\n",
       "\\item[556] 1\n",
       "\\item[559] 1\n",
       "\\item[560] 0\n",
       "\\item[563] 0\n",
       "\\item[565] 1\n",
       "\\item[568] 1\n",
       "\\item[571] 1\n",
       "\\item[579] 1\n",
       "\\item[580] 0\n",
       "\\item[583] 0\n",
       "\\item[584] 0\n",
       "\\item[589] 0\n",
       "\\item[590] 1\n",
       "\\item[591] 0\n",
       "\\item[594] 1\n",
       "\\item[603] 1\n",
       "\\item[604] 1\n",
       "\\item[610] 0\n",
       "\\item[614] 0\n",
       "\\item[615] 0\n",
       "\\item[618] 1\n",
       "\\item[619] 0\n",
       "\\item[622] 0\n",
       "\\item[625] 0\n",
       "\\item[626] 1\n",
       "\\item[637] 1\n",
       "\\item[644] 1\n",
       "\\item[648] 1\n",
       "\\item[650] 0\n",
       "\\item[651] 0\n",
       "\\item[652] 0\n",
       "\\item[654] 1\n",
       "\\item[664] 1\n",
       "\\item[669] 1\n",
       "\\item[673] 1\n",
       "\\item[679] 1\n",
       "\\item[680] 0\n",
       "\\item[684] 1\n",
       "\\item[685] 0\n",
       "\\item[686] 0\n",
       "\\item[689] 1\n",
       "\\item[698] 1\n",
       "\\item[702] 0\n",
       "\\item[703] 0\n",
       "\\item[704] 1\n",
       "\\item[705] 0\n",
       "\\item[716] 0\n",
       "\\item[717] 0\n",
       "\\item[718] 1\n",
       "\\item[723] 0\n",
       "\\item[725] 1\n",
       "\\item[728] 0\n",
       "\\item[730] 0\n",
       "\\item[735] 1\n",
       "\\item[738] 0\n",
       "\\item[741] 0\n",
       "\\item[747] 0\n",
       "\\item[748] 0\n",
       "\\item[754] 1\n",
       "\\item[762] 1\n",
       "\\item[764] 0\n",
       "\\item[769] 1\n",
       "\\item[770] 0\n",
       "\\item[772] 0\n",
       "\\item[774] 0\n",
       "\\item[775] 1\n",
       "\\item[778] 0\n",
       "\\item[781] 1\n",
       "\\item[782] 0\n",
       "\\item[783] 1\n",
       "\\item[785] 0\n",
       "\\item[790] 1\n",
       "\\item[799] 1\n",
       "\\item[802] 1\n",
       "\\item[806] 1\n",
       "\\item[807] 1\n",
       "\\item[814] 0\n",
       "\\item[819] 0\n",
       "\\item[823] 1\n",
       "\\item[825] 1\n",
       "\\item[828] 0\n",
       "\\item[832] 0\n",
       "\\item[841] 1\n",
       "\\item[844] 0\n",
       "\\item[845] 1\n",
       "\\item[851] 1\n",
       "\\item[852] 1\n",
       "\\item[858] 1\n",
       "\\item[860] 0\n",
       "\\item[865] 0\n",
       "\\item[867] 0\n",
       "\\item[868] 1\n",
       "\\item[871] 1\n",
       "\\item[872] 0\n",
       "\\item[876] 1\n",
       "\\item[879] 0\n",
       "\\item[883] 1\n",
       "\\item[885] 1\n",
       "\\item[887] 1\n",
       "\\item[889] 1\n",
       "\\end{description*}\n",
       "\n",
       "\\emph{Levels}: \\begin{enumerate*}\n",
       "\\item '0'\n",
       "\\item '1'\n",
       "\\end{enumerate*}\n"
      ],
      "text/markdown": [
       "5\n",
       ":   06\n",
       ":   07\n",
       ":   08\n",
       ":   09\n",
       ":   016\n",
       ":   018\n",
       ":   020\n",
       ":   024\n",
       ":   026\n",
       ":   027\n",
       ":   028\n",
       ":   033\n",
       ":   037\n",
       ":   044\n",
       ":   046\n",
       ":   047\n",
       ":   048\n",
       ":   050\n",
       ":   052\n",
       ":   056\n",
       ":   062\n",
       ":   065\n",
       ":   068\n",
       ":   169\n",
       ":   072\n",
       ":   073\n",
       ":   078\n",
       ":   080\n",
       ":   081\n",
       ":   082\n",
       ":   089\n",
       ":   090\n",
       ":   092\n",
       ":   093\n",
       ":   096\n",
       ":   099\n",
       ":   0109\n",
       ":   0111\n",
       ":   0114\n",
       ":   0115\n",
       ":   0117\n",
       ":   0119\n",
       ":   1129\n",
       ":   0130\n",
       ":   0134\n",
       ":   0137\n",
       ":   0139\n",
       ":   0140\n",
       ":   0144\n",
       ":   0148\n",
       ":   0151\n",
       ":   0153\n",
       ":   0154\n",
       ":   0158\n",
       ":   1167\n",
       ":   0172\n",
       ":   0173\n",
       ":   1175\n",
       ":   0180\n",
       ":   0185\n",
       ":   0193\n",
       ":   0196\n",
       ":   1197\n",
       ":   0200\n",
       ":   0202\n",
       ":   0209\n",
       ":   0213\n",
       ":   0217\n",
       ":   0219\n",
       ":   0220\n",
       ":   1230\n",
       ":   0232\n",
       ":   0233\n",
       ":   0236\n",
       ":   0239\n",
       ":   0240\n",
       ":   0242\n",
       ":   0244\n",
       ":   0246\n",
       ":   0247\n",
       ":   0257\n",
       ":   0261\n",
       ":   0266\n",
       ":   0268\n",
       ":   0273\n",
       ":   0282\n",
       ":   0287\n",
       ":   0288\n",
       ":   0290\n",
       ":   0300\n",
       ":   0301\n",
       ":   0312\n",
       ":   0314\n",
       ":   0315\n",
       ":   0316\n",
       ":   0320\n",
       ":   0322\n",
       ":   0323\n",
       ":   0324\n",
       ":   0325\n",
       ":   0327\n",
       ":   0333\n",
       ":   0337\n",
       ":   0355\n",
       ":   0356\n",
       ":   0360\n",
       ":   1368\n",
       ":   0369\n",
       ":   0370\n",
       ":   0373\n",
       ":   0377\n",
       ":   0385\n",
       ":   0386\n",
       ":   0387\n",
       ":   0388\n",
       ":   0391\n",
       ":   0392\n",
       ":   0393\n",
       ":   0394\n",
       ":   0396\n",
       ":   0398\n",
       ":   0406\n",
       ":   0407\n",
       ":   0411\n",
       ":   0412\n",
       ":   0416\n",
       ":   1422\n",
       ":   0423\n",
       ":   0433\n",
       ":   0435\n",
       ":   0437\n",
       ":   0438\n",
       ":   0445\n",
       ":   0447\n",
       ":   0451\n",
       ":   0452\n",
       ":   0453\n",
       ":   0458\n",
       ":   0465\n",
       ":   0466\n",
       ":   0467\n",
       ":   0472\n",
       ":   0477\n",
       ":   0481\n",
       ":   0489\n",
       ":   0490\n",
       ":   0492\n",
       ":   0494\n",
       ":   0500\n",
       ":   0502\n",
       ":   0503\n",
       ":   0505\n",
       ":   0509\n",
       ":   0513\n",
       ":   0516\n",
       ":   0517\n",
       ":   0519\n",
       ":   0520\n",
       ":   0524\n",
       ":   0525\n",
       ":   0527\n",
       ":   1532\n",
       ":   0533\n",
       ":   0536\n",
       ":   0546\n",
       ":   1555\n",
       ":   0556\n",
       ":   1559\n",
       ":   1560\n",
       ":   0563\n",
       ":   0565\n",
       ":   1568\n",
       ":   1571\n",
       ":   1579\n",
       ":   1580\n",
       ":   0583\n",
       ":   0584\n",
       ":   0589\n",
       ":   0590\n",
       ":   1591\n",
       ":   0594\n",
       ":   1603\n",
       ":   1604\n",
       ":   1610\n",
       ":   0614\n",
       ":   0615\n",
       ":   0618\n",
       ":   1619\n",
       ":   0622\n",
       ":   0625\n",
       ":   0626\n",
       ":   1637\n",
       ":   1644\n",
       ":   1648\n",
       ":   1650\n",
       ":   0651\n",
       ":   0652\n",
       ":   0654\n",
       ":   1664\n",
       ":   1669\n",
       ":   1673\n",
       ":   1679\n",
       ":   1680\n",
       ":   0684\n",
       ":   1685\n",
       ":   0686\n",
       ":   0689\n",
       ":   1698\n",
       ":   1702\n",
       ":   0703\n",
       ":   0704\n",
       ":   1705\n",
       ":   0716\n",
       ":   0717\n",
       ":   0718\n",
       ":   1723\n",
       ":   0725\n",
       ":   1728\n",
       ":   0730\n",
       ":   0735\n",
       ":   1738\n",
       ":   0741\n",
       ":   0747\n",
       ":   0748\n",
       ":   0754\n",
       ":   1762\n",
       ":   1764\n",
       ":   0769\n",
       ":   1770\n",
       ":   0772\n",
       ":   0774\n",
       ":   0775\n",
       ":   1778\n",
       ":   0781\n",
       ":   1782\n",
       ":   0783\n",
       ":   1785\n",
       ":   0790\n",
       ":   1799\n",
       ":   1802\n",
       ":   1806\n",
       ":   1807\n",
       ":   1814\n",
       ":   0819\n",
       ":   0823\n",
       ":   1825\n",
       ":   1828\n",
       ":   0832\n",
       ":   0841\n",
       ":   1844\n",
       ":   0845\n",
       ":   1851\n",
       ":   1852\n",
       ":   1858\n",
       ":   1860\n",
       ":   0865\n",
       ":   0867\n",
       ":   0868\n",
       ":   1871\n",
       ":   1872\n",
       ":   0876\n",
       ":   1879\n",
       ":   0883\n",
       ":   1885\n",
       ":   1887\n",
       ":   1889\n",
       ":   1\n",
       "\n",
       "\n",
       "**Levels**: 1. '0'\n",
       "2. '1'\n",
       "\n",
       "\n"
      ],
      "text/plain": [
       "  5   6   7   8   9  16  18  20  24  26  27  28  33  37  44  46  47  48  50  52 \n",
       "  0   0   0   0   0   0   0   0   0   0   0   0   0   0   0   0   0   0   0   0 \n",
       " 56  62  65  68  69  72  73  78  80  81  82  89  90  92  93  96  99 109 111 114 \n",
       "  0   0   0   1   0   0   0   0   0   0   0   0   0   0   0   0   0   0   0   0 \n",
       "115 117 119 129 130 134 137 139 140 144 148 151 153 154 158 167 172 173 175 180 \n",
       "  0   0   1   0   0   0   0   0   0   0   0   0   0   0   1   0   0   1   0   0 \n",
       "185 193 196 197 200 202 209 213 217 219 220 230 232 233 236 239 240 242 244 246 \n",
       "  0   0   1   0   0   0   0   0   0   0   1   0   0   0   0   0   0   0   0   0 \n",
       "247 257 261 266 268 273 282 287 288 290 300 301 312 314 315 316 320 322 323 324 \n",
       "  0   0   0   0   0   0   0   0   0   0   0   0   0   0   0   0   0   0   0   0 \n",
       "325 327 333 337 355 356 360 368 369 370 373 377 385 386 387 388 391 392 393 394 \n",
       "  0   0   0   0   0   0   1   0   0   0   0   0   0   0   0   0   0   0   0   0 \n",
       "396 398 406 407 411 412 416 422 423 433 435 437 438 445 447 451 452 453 458 465 \n",
       "  0   0   0   0   0   0   1   0   0   0   0   0   0   0   0   0   0   0   0   0 \n",
       "466 467 472 477 481 489 490 492 494 500 502 503 505 509 513 516 517 519 520 524 \n",
       "  0   0   0   0   0   0   0   0   0   0   0   0   0   0   0   0   0   0   0   0 \n",
       "525 527 532 533 536 546 555 556 559 560 563 565 568 571 579 580 583 584 589 590 \n",
       "  0   1   0   0   0   1   0   1   1   0   0   1   1   1   1   0   0   0   0   1 \n",
       "591 594 603 604 610 614 615 618 619 622 625 626 637 644 648 650 651 652 654 664 \n",
       "  0   1   1   1   0   0   0   1   0   0   0   1   1   1   1   0   0   0   1   1 \n",
       "669 673 679 680 684 685 686 689 698 702 703 704 705 716 717 718 723 725 728 730 \n",
       "  1   1   1   0   1   0   0   1   1   0   0   1   0   0   0   1   0   1   0   0 \n",
       "735 738 741 747 748 754 762 764 769 770 772 774 775 778 781 782 783 785 790 799 \n",
       "  1   0   0   0   0   1   1   0   1   0   0   0   1   0   1   0   1   0   1   1 \n",
       "802 806 807 814 819 823 825 828 832 841 844 845 851 852 858 860 865 867 868 871 \n",
       "  1   1   1   0   0   1   1   0   0   1   0   1   1   1   1   0   0   0   1   1 \n",
       "872 876 879 883 885 887 889 \n",
       "  0   1   0   1   1   1   1 \n",
       "Levels: 0 1"
      ]
     },
     "metadata": {},
     "output_type": "display_data"
    }
   ],
   "source": [
    "model.rf <- randomForest(Survived ~ ., data = data.train , ntree = 100)\n",
    "pred <- predict (model.rf , x)\n",
    "pred"
   ]
  },
  {
   "cell_type": "code",
   "execution_count": 90,
   "id": "88b23125",
   "metadata": {},
   "outputs": [
    {
     "data": {
      "text/html": [
       "0.779026217228464"
      ],
      "text/latex": [
       "0.779026217228464"
      ],
      "text/markdown": [
       "0.779026217228464"
      ],
      "text/plain": [
       "[1] 0.7790262"
      ]
     },
     "metadata": {},
     "output_type": "display_data"
    },
    {
     "data": {
      "text/plain": [
       "    y\n",
       "pred   0   1\n",
       "   0 156  49\n",
       "   1  10  52"
      ]
     },
     "metadata": {},
     "output_type": "display_data"
    }
   ],
   "source": [
    "mean(pred == y)\n",
    "table(pred,y)"
   ]
  },
  {
   "cell_type": "code",
   "execution_count": 91,
   "id": "5817a735",
   "metadata": {},
   "outputs": [],
   "source": [
    "#인공신경망 테스트\n",
    "ANN <- function(data.tr , data.test , x , y ){\n",
    "    model.nnet <- nnet(Survived ~. , data = data.tr , size = 3)\n",
    "    pred <- predict(model.nnet , x , type = \"class\")\n",
    "    cat(\"예측력\" ,mean(pred == y), \"입니다.\")\n",
    "    print(table(pred,y))\n",
    "    return(mean(pred == y))\n",
    "}\n",
    "\n",
    "#의사결정 나무 \n",
    "CTREE <-function(data.tr , data.test , x , y ){\n",
    "    model.ctree <- ctree(Survived ~ . , data=data.tr)\n",
    "    pred <- predict(model.ctree , x )\n",
    "    cat(\"예측력\" ,mean(pred == y), \"입니다.\")\n",
    "    print(table(pred,y))\n",
    "    return(mean(pred == y))\n",
    "}\n",
    "\n",
    "#RandomForesst\n",
    "RandomForest<-function(data.tr , data.test , x , y ){\n",
    "    model.rf <- randomForest(Survived ~ . , data=data.tr, ntree = 100)\n",
    "    pred <- predict(model.rf , x )\n",
    "    cat(\"예측력\" ,mean(pred == y), \"입니다.\")\n",
    "    print(table(pred,y))\n",
    "    return(mean(pred == y))\n",
    "} \n",
    "\n",
    "#SVM\n",
    "SVM <-function(data.tr , data.test , x , y ){\n",
    "    model.svm <- svm(Survived ~ . , data=data.tr)\n",
    "    pred <- predict(model.svm , x )\n",
    "    cat(\"예측력\" ,mean(pred == y), \"입니다.\")\n",
    "    print(table(pred,y))\n",
    "    return(mean(pred == y))\n",
    "} \n",
    "\n",
    "#Logistic regression\n",
    "Logisticreg <-function(data.tr , data.test , x , y ){\n",
    "    model.log <- multinom(Survived ~ . , data=data.tr)\n",
    "    pred <- predict(model.log , x )\n",
    "    cat(\"예측력\" ,mean(pred == y), \"입니다.\")\n",
    "    print(table(pred,y))\n",
    "    return(mean(pred == y))\n",
    "} "
   ]
  },
  {
   "cell_type": "code",
   "execution_count": 92,
   "id": "28f2ca6e",
   "metadata": {},
   "outputs": [
    {
     "name": "stdout",
     "output_type": "stream",
     "text": [
      "# weights:  22\n",
      "initial  value 427.825740 \n",
      "iter  10 value 294.250115\n",
      "iter  20 value 259.763176\n",
      "iter  30 value 258.132133\n",
      "iter  40 value 258.027269\n",
      "iter  50 value 257.959894\n",
      "iter  60 value 257.880570\n",
      "iter  70 value 257.667377\n",
      "iter  80 value 257.593717\n",
      "iter  90 value 257.546649\n",
      "iter 100 value 257.543365\n",
      "final  value 257.543365 \n",
      "stopped after 100 iterations\n",
      "예측력 0.7790262 입니다.    y\n",
      "pred   0   1\n",
      "   0 156  49\n",
      "   1  10  52\n",
      "예측력 0.7790262 입니다.    y\n",
      "pred   0   1\n",
      "   0 156  49\n",
      "   1  10  52\n",
      "예측력 0.7790262 입니다.    y\n",
      "pred   0   1\n",
      "   0 156  49\n",
      "   1  10  52\n",
      "예측력 0.7790262 입니다.    y\n",
      "pred   0   1\n",
      "   0 156  49\n",
      "   1  10  52\n",
      "# weights:  7 (6 variable)\n",
      "initial  value 432.523841 \n",
      "iter  10 value 280.078664\n",
      "final  value 280.078633 \n",
      "converged\n",
      "예측력 0.7715356 입니다.    y\n",
      "pred   0   1\n",
      "   0 135  30\n",
      "   1  31  71\n",
      "# weights:  22\n",
      "initial  value 419.670460 \n",
      "iter  10 value 351.323924\n",
      "iter  20 value 270.669088\n",
      "iter  30 value 267.179158\n",
      "iter  40 value 265.122574\n",
      "iter  50 value 264.452458\n",
      "final  value 264.452441 \n",
      "converged\n",
      "예측력 0.7790262 입니다.    y\n",
      "pred   0   1\n",
      "   0 156  49\n",
      "   1  10  52\n",
      "예측력 0.7790262 입니다.    y\n",
      "pred   0   1\n",
      "   0 156  49\n",
      "   1  10  52\n",
      "예측력 0.7790262 입니다.    y\n",
      "pred   0   1\n",
      "   0 156  49\n",
      "   1  10  52\n",
      "예측력 0.7790262 입니다.    y\n",
      "pred   0   1\n",
      "   0 156  49\n",
      "   1  10  52\n",
      "# weights:  7 (6 variable)\n",
      "initial  value 432.523841 \n",
      "iter  10 value 280.078664\n",
      "final  value 280.078633 \n",
      "converged\n",
      "예측력 0.7715356 입니다.    y\n",
      "pred   0   1\n",
      "   0 135  30\n",
      "   1  31  71\n",
      "# weights:  22\n",
      "initial  value 418.143606 \n",
      "iter  10 value 288.924964\n",
      "iter  20 value 262.283475\n",
      "iter  30 value 260.368746\n",
      "iter  40 value 260.091625\n",
      "iter  50 value 260.046594\n",
      "iter  60 value 260.009033\n",
      "iter  70 value 259.504142\n",
      "iter  80 value 257.920578\n",
      "iter  90 value 257.432794\n",
      "iter 100 value 257.404825\n",
      "final  value 257.404825 \n",
      "stopped after 100 iterations\n",
      "예측력 0.7790262 입니다.    y\n",
      "pred   0   1\n",
      "   0 156  49\n",
      "   1  10  52\n",
      "예측력 0.7790262 입니다.    y\n",
      "pred   0   1\n",
      "   0 156  49\n",
      "   1  10  52\n",
      "예측력 0.7790262 입니다.    y\n",
      "pred   0   1\n",
      "   0 156  49\n",
      "   1  10  52\n",
      "예측력 0.7790262 입니다.    y\n",
      "pred   0   1\n",
      "   0 156  49\n",
      "   1  10  52\n",
      "# weights:  7 (6 variable)\n",
      "initial  value 432.523841 \n",
      "iter  10 value 280.078664\n",
      "final  value 280.078633 \n",
      "converged\n",
      "예측력 0.7715356 입니다.    y\n",
      "pred   0   1\n",
      "   0 135  30\n",
      "   1  31  71\n",
      "# weights:  22\n",
      "initial  value 503.008766 \n",
      "iter  10 value 267.699088\n",
      "iter  20 value 260.114374\n",
      "iter  30 value 258.693020\n",
      "iter  40 value 257.918940\n",
      "iter  50 value 257.876372\n",
      "iter  60 value 257.865866\n",
      "iter  70 value 257.846132\n",
      "iter  80 value 257.818965\n",
      "iter  90 value 257.767608\n",
      "iter 100 value 257.726331\n",
      "final  value 257.726331 \n",
      "stopped after 100 iterations\n",
      "예측력 0.7790262 입니다.    y\n",
      "pred   0   1\n",
      "   0 156  49\n",
      "   1  10  52\n",
      "예측력 0.7790262 입니다.    y\n",
      "pred   0   1\n",
      "   0 156  49\n",
      "   1  10  52\n",
      "예측력 0.7790262 입니다.    y\n",
      "pred   0   1\n",
      "   0 156  49\n",
      "   1  10  52\n",
      "예측력 0.7790262 입니다.    y\n",
      "pred   0   1\n",
      "   0 156  49\n",
      "   1  10  52\n",
      "# weights:  7 (6 variable)\n",
      "initial  value 432.523841 \n",
      "iter  10 value 280.078664\n",
      "final  value 280.078633 \n",
      "converged\n",
      "예측력 0.7715356 입니다.    y\n",
      "pred   0   1\n",
      "   0 135  30\n",
      "   1  31  71\n",
      "# weights:  22\n",
      "initial  value 426.529448 \n",
      "iter  10 value 266.392024\n",
      "iter  20 value 261.895882\n",
      "iter  30 value 260.273142\n",
      "iter  40 value 258.916292\n",
      "iter  50 value 258.782798\n",
      "iter  60 value 258.767528\n",
      "iter  70 value 258.712562\n",
      "iter  80 value 258.681017\n",
      "iter  90 value 258.615010\n",
      "iter 100 value 258.560399\n",
      "final  value 258.560399 \n",
      "stopped after 100 iterations\n",
      "예측력 0.7790262 입니다.    y\n",
      "pred   0   1\n",
      "   0 156  49\n",
      "   1  10  52\n",
      "예측력 0.7790262 입니다.    y\n",
      "pred   0   1\n",
      "   0 156  49\n",
      "   1  10  52\n",
      "예측력 0.7790262 입니다.    y\n",
      "pred   0   1\n",
      "   0 156  49\n",
      "   1  10  52\n",
      "예측력 0.7790262 입니다.    y\n",
      "pred   0   1\n",
      "   0 156  49\n",
      "   1  10  52\n",
      "# weights:  7 (6 variable)\n",
      "initial  value 432.523841 \n",
      "iter  10 value 280.078664\n",
      "final  value 280.078633 \n",
      "converged\n",
      "예측력 0.7715356 입니다.    y\n",
      "pred   0   1\n",
      "   0 135  30\n",
      "   1  31  71\n"
     ]
    },
    {
     "data": {
      "text/html": [
       "<table>\n",
       "<thead><tr><th></th><th scope=col>예측력</th></tr></thead>\n",
       "<tbody>\n",
       "\t<tr><th scope=row>인공신경망</th><td>0.7790262</td></tr>\n",
       "\t<tr><th scope=row>의사결정나무</th><td>0.7790262</td></tr>\n",
       "\t<tr><th scope=row>RandomForest</th><td>0.7790262</td></tr>\n",
       "\t<tr><th scope=row>SVM</th><td>0.7790262</td></tr>\n",
       "\t<tr><th scope=row>로지스틱회귀분석</th><td>0.7715356</td></tr>\n",
       "</tbody>\n",
       "</table>\n"
      ],
      "text/latex": [
       "\\begin{tabular}{r|l}\n",
       "  & 예측력\\\\\n",
       "\\hline\n",
       "\t인공신경망 & 0.7790262\\\\\n",
       "\t의사결정나무 & 0.7790262\\\\\n",
       "\tRandomForest & 0.7790262\\\\\n",
       "\tSVM & 0.7790262\\\\\n",
       "\t로지스틱회귀분석 & 0.7715356\\\\\n",
       "\\end{tabular}\n"
      ],
      "text/markdown": [
       "\n",
       "| <!--/--> | 예측력 |\n",
       "|---|---|\n",
       "| 인공신경망 | 0.7790262 |\n",
       "| 의사결정나무 | 0.7790262 |\n",
       "| RandomForest | 0.7790262 |\n",
       "| SVM | 0.7790262 |\n",
       "| 로지스틱회귀분석 | 0.7715356 |\n",
       "\n"
      ],
      "text/plain": [
       "                 예측력   \n",
       "인공신경망       0.7790262\n",
       "의사결정나무     0.7790262\n",
       "RandomForest     0.7790262\n",
       "SVM              0.7790262\n",
       "로지스틱회귀분석 0.7715356"
      ]
     },
     "metadata": {},
     "output_type": "display_data"
    }
   ],
   "source": [
    "a <- rep(0,5)\n",
    "iteration <- 5\n",
    "for(i in 1:iteration){\n",
    "    \n",
    "    a = a + c(\n",
    "            ANN(data.train , data.test , x , y ),\n",
    "            CTREE(data.train , data.test , x , y ),\n",
    "            RandomForest(data.train , data.test , x , y ),\n",
    "            SVM(data.train , data.test , x , y ),\n",
    "            Logisticreg(data.train , data.test , x , y )\n",
    "    )\n",
    "    \n",
    "}\n",
    "a<- a/iteration\n",
    "result<-data.frame(예측력 = a)\n",
    "rownames(result) = c(\"인공신경망\",\"의사결정나무\",\"RandomForest\",\"SVM\",\"로지스틱회귀분석\")\n",
    "result"
   ]
  },
  {
   "cell_type": "code",
   "execution_count": 93,
   "id": "154ad85a",
   "metadata": {},
   "outputs": [
    {
     "data": {
      "text/html": [
       "<table>\n",
       "<thead><tr><th></th><th scope=col>예측력</th></tr></thead>\n",
       "<tbody>\n",
       "\t<tr><th scope=row>인공신경망</th><td>0.7790262</td></tr>\n",
       "\t<tr><th scope=row>의사결정나무</th><td>0.7790262</td></tr>\n",
       "\t<tr><th scope=row>RandomForest</th><td>0.7790262</td></tr>\n",
       "\t<tr><th scope=row>SVM</th><td>0.7790262</td></tr>\n",
       "\t<tr><th scope=row>로지스틱회귀분석</th><td>0.7715356</td></tr>\n",
       "</tbody>\n",
       "</table>\n"
      ],
      "text/latex": [
       "\\begin{tabular}{r|l}\n",
       "  & 예측력\\\\\n",
       "\\hline\n",
       "\t인공신경망 & 0.7790262\\\\\n",
       "\t의사결정나무 & 0.7790262\\\\\n",
       "\tRandomForest & 0.7790262\\\\\n",
       "\tSVM & 0.7790262\\\\\n",
       "\t로지스틱회귀분석 & 0.7715356\\\\\n",
       "\\end{tabular}\n"
      ],
      "text/markdown": [
       "\n",
       "| <!--/--> | 예측력 |\n",
       "|---|---|\n",
       "| 인공신경망 | 0.7790262 |\n",
       "| 의사결정나무 | 0.7790262 |\n",
       "| RandomForest | 0.7790262 |\n",
       "| SVM | 0.7790262 |\n",
       "| 로지스틱회귀분석 | 0.7715356 |\n",
       "\n"
      ],
      "text/plain": [
       "                 예측력   \n",
       "인공신경망       0.7790262\n",
       "의사결정나무     0.7790262\n",
       "RandomForest     0.7790262\n",
       "SVM              0.7790262\n",
       "로지스틱회귀분석 0.7715356"
      ]
     },
     "metadata": {},
     "output_type": "display_data"
    }
   ],
   "source": [
    "result"
   ]
  },
  {
   "cell_type": "code",
   "execution_count": 94,
   "id": "6416b335",
   "metadata": {},
   "outputs": [
    {
     "data": {
      "text/html": [
       "342"
      ],
      "text/latex": [
       "342"
      ],
      "text/markdown": [
       "342"
      ],
      "text/plain": [
       "[1] 342"
      ]
     },
     "metadata": {},
     "output_type": "display_data"
    },
    {
     "data": {
      "text/html": [
       "549"
      ],
      "text/latex": [
       "549"
      ],
      "text/markdown": [
       "549"
      ],
      "text/plain": [
       "[1] 549"
      ]
     },
     "metadata": {},
     "output_type": "display_data"
    }
   ],
   "source": [
    "nrow(train_data[train_data$Survived == 1,])\n",
    "nrow(train_data[train_data$Survived == 0,])\n",
    "samp <-sample(1:549, 207)\n",
    "train_data3 <- train_data[-samp, ]"
   ]
  },
  {
   "cell_type": "code",
   "execution_count": 95,
   "id": "5529024a",
   "metadata": {},
   "outputs": [
    {
     "data": {
      "text/html": [
       "342"
      ],
      "text/latex": [
       "342"
      ],
      "text/markdown": [
       "342"
      ],
      "text/plain": [
       "[1] 342"
      ]
     },
     "metadata": {},
     "output_type": "display_data"
    },
    {
     "data": {
      "text/html": [
       "342"
      ],
      "text/latex": [
       "342"
      ],
      "text/markdown": [
       "342"
      ],
      "text/plain": [
       "[1] 342"
      ]
     },
     "metadata": {},
     "output_type": "display_data"
    }
   ],
   "source": [
    "nrow(train_data3[train_data3$Survived == 1,])\n",
    "nrow(train_data3[train_data3$Survived == 0,])"
   ]
  },
  {
   "cell_type": "code",
   "execution_count": 96,
   "id": "c4e7e565",
   "metadata": {},
   "outputs": [],
   "source": [
    "train_data3$Survived <- factor(train_data3$Survived)"
   ]
  },
  {
   "cell_type": "code",
   "execution_count": 97,
   "id": "a456ae79",
   "metadata": {},
   "outputs": [],
   "source": [
    "set.seed(1234)\n",
    "# Sampling\n",
    "samp <- createDataPartition(train_data3$Survived , p = 0.7 ,list = F)\n",
    "#학습용\n",
    "data.train <- train_data3[samp,]\n",
    "#검증용\n",
    "data.test <- train_data3[-samp,]\n",
    "\n",
    "#테스트셋\n",
    "x <- subset(data.test , select = -Survived)\n",
    "y <- data.test$Survived\n",
    "\n",
    "#인공신경망 테스트\n",
    "ANN <- function(data.tr , data.test , x , y ){\n",
    "    model.nnet <- nnet(Survived ~. , data = data.tr , size = 3)\n",
    "    pred <- predict(model.nnet , x , type = \"class\")\n",
    "    cat(\"예측력\" ,mean(pred == y), \"입니다.\")\n",
    "    print(table(pred,y))\n",
    "    return(mean(pred == y))\n",
    "}\n",
    "\n",
    "#의사결정 나무 \n",
    "CTREE <-function(data.tr , data.test , x , y ){\n",
    "    model.ctree <- ctree(Survived ~ . , data=data.tr)\n",
    "    pred <- predict(model.ctree , x )\n",
    "    cat(\"예측력\" ,mean(pred == y), \"입니다.\")\n",
    "    print(table(pred,y))\n",
    "    return(mean(pred == y))\n",
    "}\n",
    "\n",
    "#RandomForesst\n",
    "RandomForest<-function(data.tr , data.test , x , y ){\n",
    "    model.rf <- randomForest(Survived ~ . , data=data.tr, ntree = 100)\n",
    "    pred <- predict(model.rf , x )\n",
    "    cat(\"예측력\" ,mean(pred == y), \"입니다.\")\n",
    "    print(table(pred,y))\n",
    "    return(mean(pred == y))\n",
    "} \n",
    "\n",
    "#SVM\n",
    "SVM <-function(data.tr , data.test , x , y ){\n",
    "    model.svm <- svm(Survived ~ . , data=data.tr)\n",
    "    pred <- predict(model.svm , x )\n",
    "    cat(\"예측력\" ,mean(pred == y), \"입니다.\")\n",
    "    print(table(pred,y))\n",
    "    return(mean(pred == y))\n",
    "} \n",
    "\n",
    "#Logistic regression\n",
    "Logisticreg <-function(data.tr , data.test , x , y ){\n",
    "    model.log <- multinom(Survived ~ . , data=data.tr)\n",
    "    pred <- predict(model.log , x )\n",
    "    cat(\"예측력\" ,mean(pred == y), \"입니다.\")\n",
    "    print(table(pred,y))\n",
    "    return(mean(pred == y))\n",
    "} "
   ]
  },
  {
   "cell_type": "code",
   "execution_count": 98,
   "id": "3409f8e6",
   "metadata": {},
   "outputs": [
    {
     "name": "stdout",
     "output_type": "stream",
     "text": [
      "# weights:  22\n",
      "initial  value 324.186031 \n",
      "iter  10 value 228.761300\n",
      "iter  20 value 225.349820\n",
      "iter  30 value 224.648301\n",
      "iter  40 value 221.798083\n",
      "iter  50 value 220.932612\n",
      "iter  60 value 220.851102\n",
      "iter  70 value 220.791353\n",
      "iter  80 value 220.749209\n",
      "iter  90 value 220.710427\n",
      "iter 100 value 220.703815\n",
      "final  value 220.703815 \n",
      "stopped after 100 iterations\n",
      "예측력 0.75 입니다.    y\n",
      "pred  0  1\n",
      "   0 98 47\n",
      "   1  4 55\n",
      "예측력 0.75 입니다.    y\n",
      "pred  0  1\n",
      "   0 98 47\n",
      "   1  4 55\n",
      "예측력 0.75 입니다.    y\n",
      "pred  0  1\n",
      "   0 98 47\n",
      "   1  4 55\n",
      "예측력 0.745098 입니다.    y\n",
      "pred  0  1\n",
      "   0 87 37\n",
      "   1 15 65\n",
      "# weights:  7 (6 variable)\n",
      "initial  value 332.710647 \n",
      "iter  10 value 236.571087\n",
      "final  value 236.571051 \n",
      "converged\n",
      "예측력 0.7794118 입니다.    y\n",
      "pred  0  1\n",
      "   0 86 29\n",
      "   1 16 73\n",
      "# weights:  22\n",
      "initial  value 369.781631 \n",
      "iter  10 value 231.630823\n",
      "iter  20 value 226.202285\n",
      "iter  30 value 224.713467\n",
      "iter  40 value 222.084942\n",
      "iter  50 value 221.260061\n",
      "iter  60 value 221.075079\n",
      "iter  70 value 220.974857\n",
      "iter  80 value 220.970040\n",
      "iter  90 value 220.966777\n",
      "iter 100 value 220.966262\n",
      "final  value 220.966262 \n",
      "stopped after 100 iterations\n",
      "예측력 0.75 입니다.    y\n",
      "pred  0  1\n",
      "   0 98 47\n",
      "   1  4 55\n",
      "예측력 0.75 입니다.    y\n",
      "pred  0  1\n",
      "   0 98 47\n",
      "   1  4 55\n",
      "예측력 0.75 입니다.    y\n",
      "pred  0  1\n",
      "   0 98 47\n",
      "   1  4 55\n",
      "예측력 0.745098 입니다.    y\n",
      "pred  0  1\n",
      "   0 87 37\n",
      "   1 15 65\n",
      "# weights:  7 (6 variable)\n",
      "initial  value 332.710647 \n",
      "iter  10 value 236.571087\n",
      "final  value 236.571051 \n",
      "converged\n",
      "예측력 0.7794118 입니다.    y\n",
      "pred  0  1\n",
      "   0 86 29\n",
      "   1 16 73\n",
      "# weights:  22\n",
      "initial  value 339.752039 \n",
      "iter  10 value 228.573088\n",
      "iter  20 value 224.276081\n",
      "iter  30 value 221.793576\n",
      "iter  40 value 220.162432\n",
      "iter  50 value 219.969706\n",
      "iter  60 value 219.843350\n",
      "iter  70 value 219.797805\n",
      "iter  80 value 219.767342\n",
      "iter  90 value 219.578732\n",
      "iter 100 value 219.563274\n",
      "final  value 219.563274 \n",
      "stopped after 100 iterations\n",
      "예측력 0.75 입니다.    y\n",
      "pred  0  1\n",
      "   0 98 47\n",
      "   1  4 55\n",
      "예측력 0.75 입니다.    y\n",
      "pred  0  1\n",
      "   0 98 47\n",
      "   1  4 55\n",
      "예측력 0.75 입니다.    y\n",
      "pred  0  1\n",
      "   0 98 47\n",
      "   1  4 55\n",
      "예측력 0.745098 입니다.    y\n",
      "pred  0  1\n",
      "   0 87 37\n",
      "   1 15 65\n",
      "# weights:  7 (6 variable)\n",
      "initial  value 332.710647 \n",
      "iter  10 value 236.571087\n",
      "final  value 236.571051 \n",
      "converged\n",
      "예측력 0.7794118 입니다.    y\n",
      "pred  0  1\n",
      "   0 86 29\n",
      "   1 16 73\n",
      "# weights:  22\n",
      "initial  value 366.675107 \n",
      "iter  10 value 236.346404\n",
      "iter  20 value 222.906393\n",
      "iter  30 value 222.714185\n",
      "iter  40 value 222.603327\n",
      "final  value 222.600412 \n",
      "converged\n",
      "예측력 0.745098 입니다.    y\n",
      "pred  0  1\n",
      "   0 87 37\n",
      "   1 15 65\n",
      "예측력 0.75 입니다.    y\n",
      "pred  0  1\n",
      "   0 98 47\n",
      "   1  4 55\n",
      "예측력 0.75 입니다.    y\n",
      "pred  0  1\n",
      "   0 98 47\n",
      "   1  4 55\n",
      "예측력 0.745098 입니다.    y\n",
      "pred  0  1\n",
      "   0 87 37\n",
      "   1 15 65\n",
      "# weights:  7 (6 variable)\n",
      "initial  value 332.710647 \n",
      "iter  10 value 236.571087\n",
      "final  value 236.571051 \n",
      "converged\n",
      "예측력 0.7794118 입니다.    y\n",
      "pred  0  1\n",
      "   0 86 29\n",
      "   1 16 73\n",
      "# weights:  22\n",
      "initial  value 352.307311 \n",
      "iter  10 value 231.914414\n",
      "iter  20 value 222.231545\n",
      "iter  30 value 221.254388\n",
      "iter  40 value 221.028723\n",
      "iter  50 value 221.023066\n",
      "iter  60 value 220.975168\n",
      "final  value 220.966153 \n",
      "converged\n",
      "예측력 0.75 입니다.    y\n",
      "pred  0  1\n",
      "   0 98 47\n",
      "   1  4 55\n",
      "예측력 0.75 입니다.    y\n",
      "pred  0  1\n",
      "   0 98 47\n",
      "   1  4 55\n",
      "예측력 0.75 입니다.    y\n",
      "pred  0  1\n",
      "   0 98 47\n",
      "   1  4 55\n",
      "예측력 0.745098 입니다.    y\n",
      "pred  0  1\n",
      "   0 87 37\n",
      "   1 15 65\n",
      "# weights:  7 (6 variable)\n",
      "initial  value 332.710647 \n",
      "iter  10 value 236.571087\n",
      "final  value 236.571051 \n",
      "converged\n",
      "예측력 0.7794118 입니다.    y\n",
      "pred  0  1\n",
      "   0 86 29\n",
      "   1 16 73\n"
     ]
    },
    {
     "data": {
      "text/html": [
       "<table>\n",
       "<thead><tr><th></th><th scope=col>예측력</th></tr></thead>\n",
       "<tbody>\n",
       "\t<tr><th scope=row>인공신경망</th><td>0.7490196</td></tr>\n",
       "\t<tr><th scope=row>의사결정나무</th><td>0.7500000</td></tr>\n",
       "\t<tr><th scope=row>RandomForest</th><td>0.7500000</td></tr>\n",
       "\t<tr><th scope=row>SVM</th><td>0.7450980</td></tr>\n",
       "\t<tr><th scope=row>로지스틱회귀분석</th><td>0.7794118</td></tr>\n",
       "</tbody>\n",
       "</table>\n"
      ],
      "text/latex": [
       "\\begin{tabular}{r|l}\n",
       "  & 예측력\\\\\n",
       "\\hline\n",
       "\t인공신경망 & 0.7490196\\\\\n",
       "\t의사결정나무 & 0.7500000\\\\\n",
       "\tRandomForest & 0.7500000\\\\\n",
       "\tSVM & 0.7450980\\\\\n",
       "\t로지스틱회귀분석 & 0.7794118\\\\\n",
       "\\end{tabular}\n"
      ],
      "text/markdown": [
       "\n",
       "| <!--/--> | 예측력 |\n",
       "|---|---|\n",
       "| 인공신경망 | 0.7490196 |\n",
       "| 의사결정나무 | 0.7500000 |\n",
       "| RandomForest | 0.7500000 |\n",
       "| SVM | 0.7450980 |\n",
       "| 로지스틱회귀분석 | 0.7794118 |\n",
       "\n"
      ],
      "text/plain": [
       "                 예측력   \n",
       "인공신경망       0.7490196\n",
       "의사결정나무     0.7500000\n",
       "RandomForest     0.7500000\n",
       "SVM              0.7450980\n",
       "로지스틱회귀분석 0.7794118"
      ]
     },
     "metadata": {},
     "output_type": "display_data"
    }
   ],
   "source": [
    "a <- rep(0,5)\n",
    "iteration <- 5\n",
    "for(i in 1:iteration){\n",
    "    \n",
    "    a = a + c(\n",
    "            ANN(data.train , data.test , x , y ),\n",
    "            CTREE(data.train , data.test , x , y ),\n",
    "            RandomForest(data.train , data.test , x , y ),\n",
    "            SVM(data.train , data.test , x , y ),\n",
    "            Logisticreg(data.train , data.test , x , y )\n",
    "    )\n",
    "    \n",
    "}\n",
    "a<- a/iteration\n",
    "result<-data.frame(예측력 = a)\n",
    "rownames(result) = c(\"인공신경망\",\"의사결정나무\",\"RandomForest\",\"SVM\",\"로지스틱회귀분석\")\n",
    "result"
   ]
  },
  {
   "cell_type": "code",
   "execution_count": 99,
   "id": "95fed842",
   "metadata": {},
   "outputs": [
    {
     "data": {
      "text/html": [
       "<table>\n",
       "<thead><tr><th scope=col>Resample1</th></tr></thead>\n",
       "<tbody>\n",
       "\t<tr><td> 4</td></tr>\n",
       "\t<tr><td> 6</td></tr>\n",
       "\t<tr><td> 7</td></tr>\n",
       "\t<tr><td> 9</td></tr>\n",
       "\t<tr><td>10</td></tr>\n",
       "\t<tr><td>12</td></tr>\n",
       "\t<tr><td>14</td></tr>\n",
       "\t<tr><td>15</td></tr>\n",
       "\t<tr><td>17</td></tr>\n",
       "\t<tr><td>19</td></tr>\n",
       "\t<tr><td>21</td></tr>\n",
       "\t<tr><td>22</td></tr>\n",
       "\t<tr><td>25</td></tr>\n",
       "\t<tr><td>26</td></tr>\n",
       "\t<tr><td>28</td></tr>\n",
       "\t<tr><td>29</td></tr>\n",
       "\t<tr><td>30</td></tr>\n",
       "\t<tr><td>31</td></tr>\n",
       "\t<tr><td>32</td></tr>\n",
       "\t<tr><td>33</td></tr>\n",
       "\t<tr><td>34</td></tr>\n",
       "\t<tr><td>35</td></tr>\n",
       "\t<tr><td>36</td></tr>\n",
       "\t<tr><td>37</td></tr>\n",
       "\t<tr><td>38</td></tr>\n",
       "\t<tr><td>39</td></tr>\n",
       "\t<tr><td>40</td></tr>\n",
       "\t<tr><td>41</td></tr>\n",
       "\t<tr><td>42</td></tr>\n",
       "\t<tr><td>43</td></tr>\n",
       "\t<tr><td>...</td></tr>\n",
       "\t<tr><td>641</td></tr>\n",
       "\t<tr><td>642</td></tr>\n",
       "\t<tr><td>643</td></tr>\n",
       "\t<tr><td>644</td></tr>\n",
       "\t<tr><td>646</td></tr>\n",
       "\t<tr><td>647</td></tr>\n",
       "\t<tr><td>649</td></tr>\n",
       "\t<tr><td>651</td></tr>\n",
       "\t<tr><td>652</td></tr>\n",
       "\t<tr><td>653</td></tr>\n",
       "\t<tr><td>654</td></tr>\n",
       "\t<tr><td>655</td></tr>\n",
       "\t<tr><td>656</td></tr>\n",
       "\t<tr><td>657</td></tr>\n",
       "\t<tr><td>661</td></tr>\n",
       "\t<tr><td>662</td></tr>\n",
       "\t<tr><td>666</td></tr>\n",
       "\t<tr><td>667</td></tr>\n",
       "\t<tr><td>668</td></tr>\n",
       "\t<tr><td>670</td></tr>\n",
       "\t<tr><td>671</td></tr>\n",
       "\t<tr><td>672</td></tr>\n",
       "\t<tr><td>674</td></tr>\n",
       "\t<tr><td>676</td></tr>\n",
       "\t<tr><td>677</td></tr>\n",
       "\t<tr><td>678</td></tr>\n",
       "\t<tr><td>680</td></tr>\n",
       "\t<tr><td>681</td></tr>\n",
       "\t<tr><td>682</td></tr>\n",
       "\t<tr><td>683</td></tr>\n",
       "</tbody>\n",
       "</table>\n"
      ],
      "text/latex": [
       "\\begin{tabular}{l}\n",
       " Resample1\\\\\n",
       "\\hline\n",
       "\t  4\\\\\n",
       "\t  6\\\\\n",
       "\t  7\\\\\n",
       "\t  9\\\\\n",
       "\t 10\\\\\n",
       "\t 12\\\\\n",
       "\t 14\\\\\n",
       "\t 15\\\\\n",
       "\t 17\\\\\n",
       "\t 19\\\\\n",
       "\t 21\\\\\n",
       "\t 22\\\\\n",
       "\t 25\\\\\n",
       "\t 26\\\\\n",
       "\t 28\\\\\n",
       "\t 29\\\\\n",
       "\t 30\\\\\n",
       "\t 31\\\\\n",
       "\t 32\\\\\n",
       "\t 33\\\\\n",
       "\t 34\\\\\n",
       "\t 35\\\\\n",
       "\t 36\\\\\n",
       "\t 37\\\\\n",
       "\t 38\\\\\n",
       "\t 39\\\\\n",
       "\t 40\\\\\n",
       "\t 41\\\\\n",
       "\t 42\\\\\n",
       "\t 43\\\\\n",
       "\t ...\\\\\n",
       "\t 641\\\\\n",
       "\t 642\\\\\n",
       "\t 643\\\\\n",
       "\t 644\\\\\n",
       "\t 646\\\\\n",
       "\t 647\\\\\n",
       "\t 649\\\\\n",
       "\t 651\\\\\n",
       "\t 652\\\\\n",
       "\t 653\\\\\n",
       "\t 654\\\\\n",
       "\t 655\\\\\n",
       "\t 656\\\\\n",
       "\t 657\\\\\n",
       "\t 661\\\\\n",
       "\t 662\\\\\n",
       "\t 666\\\\\n",
       "\t 667\\\\\n",
       "\t 668\\\\\n",
       "\t 670\\\\\n",
       "\t 671\\\\\n",
       "\t 672\\\\\n",
       "\t 674\\\\\n",
       "\t 676\\\\\n",
       "\t 677\\\\\n",
       "\t 678\\\\\n",
       "\t 680\\\\\n",
       "\t 681\\\\\n",
       "\t 682\\\\\n",
       "\t 683\\\\\n",
       "\\end{tabular}\n"
      ],
      "text/markdown": [
       "\n",
       "| Resample1 |\n",
       "|---|\n",
       "|  4 |\n",
       "|  6 |\n",
       "|  7 |\n",
       "|  9 |\n",
       "| 10 |\n",
       "| 12 |\n",
       "| 14 |\n",
       "| 15 |\n",
       "| 17 |\n",
       "| 19 |\n",
       "| 21 |\n",
       "| 22 |\n",
       "| 25 |\n",
       "| 26 |\n",
       "| 28 |\n",
       "| 29 |\n",
       "| 30 |\n",
       "| 31 |\n",
       "| 32 |\n",
       "| 33 |\n",
       "| 34 |\n",
       "| 35 |\n",
       "| 36 |\n",
       "| 37 |\n",
       "| 38 |\n",
       "| 39 |\n",
       "| 40 |\n",
       "| 41 |\n",
       "| 42 |\n",
       "| 43 |\n",
       "| ... |\n",
       "| 641 |\n",
       "| 642 |\n",
       "| 643 |\n",
       "| 644 |\n",
       "| 646 |\n",
       "| 647 |\n",
       "| 649 |\n",
       "| 651 |\n",
       "| 652 |\n",
       "| 653 |\n",
       "| 654 |\n",
       "| 655 |\n",
       "| 656 |\n",
       "| 657 |\n",
       "| 661 |\n",
       "| 662 |\n",
       "| 666 |\n",
       "| 667 |\n",
       "| 668 |\n",
       "| 670 |\n",
       "| 671 |\n",
       "| 672 |\n",
       "| 674 |\n",
       "| 676 |\n",
       "| 677 |\n",
       "| 678 |\n",
       "| 680 |\n",
       "| 681 |\n",
       "| 682 |\n",
       "| 683 |\n",
       "\n"
      ],
      "text/plain": [
       "      Resample1\n",
       " [1,]  4       \n",
       " [2,]  6       \n",
       " [3,]  7       \n",
       " [4,]  9       \n",
       " [5,] 10       \n",
       " [6,] 12       \n",
       " [7,] 14       \n",
       " [8,] 15       \n",
       " [9,] 17       \n",
       "[10,] 19       \n",
       "[11,] 21       \n",
       "[12,] 22       \n",
       "[13,] 25       \n",
       "[14,] 26       \n",
       "[15,] 28       \n",
       "[16,] 29       \n",
       "[17,] 30       \n",
       "[18,] 31       \n",
       "[19,] 32       \n",
       "[20,] 33       \n",
       "[21,] 34       \n",
       "[22,] 35       \n",
       "[23,] 36       \n",
       "[24,] 37       \n",
       "[25,] 38       \n",
       "[26,] 39       \n",
       "[27,] 40       \n",
       "[28,] 41       \n",
       "[29,] 42       \n",
       "[30,] 43       \n",
       "[31,] ...      \n",
       "[32,] 641      \n",
       "[33,] 642      \n",
       "[34,] 643      \n",
       "[35,] 644      \n",
       "[36,] 646      \n",
       "[37,] 647      \n",
       "[38,] 649      \n",
       "[39,] 651      \n",
       "[40,] 652      \n",
       "[41,] 653      \n",
       "[42,] 654      \n",
       "[43,] 655      \n",
       "[44,] 656      \n",
       "[45,] 657      \n",
       "[46,] 661      \n",
       "[47,] 662      \n",
       "[48,] 666      \n",
       "[49,] 667      \n",
       "[50,] 668      \n",
       "[51,] 670      \n",
       "[52,] 671      \n",
       "[53,] 672      \n",
       "[54,] 674      \n",
       "[55,] 676      \n",
       "[56,] 677      \n",
       "[57,] 678      \n",
       "[58,] 680      \n",
       "[59,] 681      \n",
       "[60,] 682      \n",
       "[61,] 683      "
      ]
     },
     "metadata": {},
     "output_type": "display_data"
    }
   ],
   "source": [
    "samp"
   ]
  },
  {
   "cell_type": "code",
   "execution_count": 100,
   "id": "6e274f2a",
   "metadata": {},
   "outputs": [
    {
     "data": {
      "text/html": [
       "549"
      ],
      "text/latex": [
       "549"
      ],
      "text/markdown": [
       "549"
      ],
      "text/plain": [
       "[1] 549"
      ]
     },
     "metadata": {},
     "output_type": "display_data"
    }
   ],
   "source": [
    "nrow(train_data3[train_data$Survived == 0,])"
   ]
  },
  {
   "cell_type": "code",
   "execution_count": 101,
   "id": "ea761500",
   "metadata": {},
   "outputs": [
    {
     "data": {
      "text/html": [
       "342"
      ],
      "text/latex": [
       "342"
      ],
      "text/markdown": [
       "342"
      ],
      "text/plain": [
       "[1] 342"
      ]
     },
     "metadata": {},
     "output_type": "display_data"
    }
   ],
   "source": [
    "nrow(train_data3[train_data$Survived == 1,])"
   ]
  },
  {
   "cell_type": "code",
   "execution_count": 102,
   "id": "bd5223c3",
   "metadata": {},
   "outputs": [
    {
     "data": {
      "text/html": [
       "<strong>0:</strong> 678"
      ],
      "text/latex": [
       "\\textbf{0:} 678"
      ],
      "text/markdown": [
       "**0:** 678"
      ],
      "text/plain": [
       "  0 \n",
       "678 "
      ]
     },
     "metadata": {},
     "output_type": "display_data"
    }
   ],
   "source": [
    "table(train_df$Parch)[1]"
   ]
  },
  {
   "cell_type": "code",
   "execution_count": 103,
   "id": "800a477b",
   "metadata": {},
   "outputs": [
    {
     "data": {
      "text/html": [
       "<dl class=dl-horizontal>\n",
       "\t<dt>female</dt>\n",
       "\t\t<dd>194</dd>\n",
       "\t<dt>male</dt>\n",
       "\t\t<dd>484</dd>\n",
       "</dl>\n"
      ],
      "text/latex": [
       "\\begin{description*}\n",
       "\\item[female] 194\n",
       "\\item[male] 484\n",
       "\\end{description*}\n"
      ],
      "text/markdown": [
       "female\n",
       ":   194male\n",
       ":   484\n",
       "\n"
      ],
      "text/plain": [
       "female   male \n",
       "   194    484 "
      ]
     },
     "metadata": {},
     "output_type": "display_data"
    }
   ],
   "source": [
    "table(train_df[c(\"Parch\",\"Sex\")])[1,1:2]"
   ]
  },
  {
   "cell_type": "code",
   "execution_count": 104,
   "id": "fd1eb7a3",
   "metadata": {},
   "outputs": [
    {
     "data": {
      "image/png": "[encoded data removed]",
      "text/plain": [
       "Plot with title \"부모님자식수별 항구별 승선인원\""
      ]
     },
     "metadata": {},
     "output_type": "display_data"
    }
   ],
   "source": [
    "# 그래프 한눈에 보기\n",
    "par(mfrow = c(3,2))\n",
    "par(family = \"AppleGothic\")\n",
    "options(warn = -1)\n",
    "\n",
    "barplot(\n",
    "        table(train_df$Parch),\n",
    "        main = \"부모님자식수별 승선인원\",\n",
    "        col = c(\"blue\",\"red\",\"yellow\"),\n",
    "        ylim = c(0,800),\n",
    "        xlab = \"부모님자식수별\",\n",
    "        ylab = \"인원수\",\n",
    "        )\n",
    "\n",
    "for(i in 1:length(table(train_df$Parch)))\n",
    "    text(1.2*i-0.5,table(train_df$Parch)[i]+30,table(train_df$Parch)[i])\n",
    "barplot(\n",
    "        t(table(train_df[c(\"Parch\",\"Sex\")])),\n",
    "        main = \"부모님자식수별 성별별 승선인원\",\n",
    "        beside = T,\n",
    "        col = c(\"red\",\"blue\"),\n",
    "        ylim = c(0,500),\n",
    "        xlab = \"부모님자식수별 / 성별별\",\n",
    "        ylab = \"인원수\",\n",
    "        )\n",
    "\n",
    "legend(10,450,\n",
    "      c(\"female\",\"male\"),\n",
    "       fill = c(\"red\",\"blue\")\n",
    "      )\n",
    "\n",
    "barplot(\n",
    "        t(table(train_df[c(\"Parch\",\"Survived\")])),\n",
    "        main = \"부모님자식수별 생존인원\",\n",
    "        beside = T,\n",
    "        col = c(\"red\",\"blue\"),\n",
    "        ylim = c(0,500),\n",
    "        xlab = \"부모님자식수별\",\n",
    "        ylab = \"인원수\",\n",
    "        )\n",
    "legend(10,450,\n",
    "       c(\"death\",\"survive\"),\n",
    "       fill = c(\"red\",\"blue\")\n",
    "      )\n",
    "\n",
    "barplot(\n",
    "        t(table(train_df[c(\"Parch\",\"Pclass\")])),\n",
    "        main = \"부모님자식수별 객실 등급별 승선인원\",\n",
    "        beside = T,\n",
    "        col = c(\"red\",\"blue\",\"yellow\"),\n",
    "        ylim = c(0,500),\n",
    "        xlab = \"부모님자식수별 / 객실 등급\",\n",
    "        ylab = \"인원수\",\n",
    "        )\n",
    "\n",
    "legend(10,450,\n",
    "      c(1,2,3),\n",
    "       fill = c(\"red\",\"blue\",\"yellow\")\n",
    "      )\n",
    "\n",
    "barplot(\n",
    "        table(train_df[c(\"Parch\",\"Embarked\")]),\n",
    "        main = \"부모님자식수별 항구별 승선인원\",\n",
    "        beside = T,\n",
    "        col = rainbow(7),\n",
    "        ylim = c(0,500),\n",
    "        xlab = \"부모님자식수별 / 객실 등급\",\n",
    "        ylab = \"인원수\",\n",
    "        )\n",
    "\n",
    "legend(13,450,\n",
    "      seq(0,6,1),\n",
    "       fill =      rainbow(7)\n",
    "      )"
   ]
  },
  {
   "cell_type": "code",
   "execution_count": null,
   "id": "221aabb0",
   "metadata": {},
   "outputs": [],
   "source": [
    "# 그래프 한눈에 보기\n",
    "par(mfrow = c(3,2))\n",
    "par(family = \"AppleGothic\")\n",
    "options(warn = -1)\n",
    "\n",
    "barplot(\n",
    "        table(train_df$Parch),\n",
    "        main = \"부모님자식수별 승선인원\",\n",
    "        col = c(\"blue\",\"red\",\"yellow\"),\n",
    "        ylim = c(0,800),\n",
    "        xlab = \"부모님자식수별\",\n",
    "        ylab = \"인원수\",\n",
    "        )\n",
    "\n",
    "for(i in 1:length(table(train_df$Parch)))\n",
    "    text(1.2*i-0.5,table(train_df$Parch)[i]+30,table(train_df$Parch)[i])\n",
    "barplot(\n",
    "        t(table(train_df[c(\"Parch\",\"Sex\")])),\n",
    "        main = \"부모님자식수별 성별별 승선인원\",\n",
    "        beside = T,\n",
    "        col = c(\"red\",\"blue\"),\n",
    "        ylim = c(0,500),\n",
    "        xlab = \"부모님자식수별 / 성별별\",\n",
    "        ylab = \"인원수\",\n",
    "        )\n",
    "\n",
    "legend(10,450,\n",
    "      c(\"female\",\"male\"),\n",
    "       fill = c(\"red\",\"blue\")\n",
    "      )\n",
    "\n",
    "barplot(\n",
    "        t(table(train_df[c(\"Parch\",\"Survived\")])),\n",
    "        main = \"부모님자식수별 생존인원\",\n",
    "        beside = T,\n",
    "        col = c(\"red\",\"blue\"),\n",
    "        ylim = c(0,500),\n",
    "        xlab = \"부모님자식수별\",\n",
    "        ylab = \"인원수\",\n",
    "        )\n",
    "legend(10,450,\n",
    "       c(\"death\",\"survive\"),\n",
    "       fill = c(\"red\",\"blue\")\n",
    "      )\n",
    "\n",
    "barplot(\n",
    "        t(table(train_df[c(\"Parch\",\"Pclass\")])),\n",
    "        main = \"부모님자식수별 객실 등급별 승선인원\",\n",
    "        beside = T,\n",
    "        col = c(\"red\",\"blue\",\"yellow\"),\n",
    "        ylim = c(0,500),\n",
    "        xlab = \"부모님자식수별 / 객실 등급\",\n",
    "        ylab = \"인원수\",\n",
    "        )\n",
    "\n",
    "legend(10,450,\n",
    "      c(1,2,3),\n",
    "       fill = c(\"red\",\"blue\",\"yellow\")\n",
    "      )\n",
    "\n",
    "barplot(\n",
    "        table(train_df[c(\"Parch\",\"Embarked\")]),\n",
    "        main = \"부모님자식수별 항구별 승선인원\",\n",
    "        beside = T,\n",
    "        col = rainbow(7),\n",
    "        ylim = c(0,500),\n",
    "        xlab = \"부모님자식수별 / 객실 등급\",\n",
    "        ylab = \"인원수\",\n",
    "        )\n",
    "\n",
    "legend(13,450,\n",
    "      seq(0,6,1),\n",
    "       fill =      rainbow(7)\n",
    "      )"
   ]
  },
  {
   "cell_type": "code",
   "execution_count": 105,
   "id": "ef7225ff",
   "metadata": {},
   "outputs": [],
   "source": [
    "train_df2<- train_df[!is.na(train_df$Age),]"
   ]
  },
  {
   "cell_type": "code",
   "execution_count": 106,
   "id": "281d553f",
   "metadata": {},
   "outputs": [],
   "source": [
    "train_df2 <- arrange(train_df2,Survived)"
   ]
  },
  {
   "cell_type": "code",
   "execution_count": 107,
   "id": "a6645304",
   "metadata": {},
   "outputs": [
    {
     "data": {
      "text/html": [
       "<table>\n",
       "<thead><tr><th scope=col>assengerId</th><th scope=col>Survived</th><th scope=col>Pclass</th><th scope=col>Name</th><th scope=col>Sex</th><th scope=col>Age</th><th scope=col>SibSp</th><th scope=col>Parch</th><th scope=col>Ticket</th><th scope=col>Fare</th><th scope=col>Cabin</th><th scope=col>Embarked</th></tr></thead>\n",
       "<tbody>\n",
       "\t<tr><td> 1                            </td><td>0                             </td><td>3                             </td><td>Braund, Mr. Owen Harris       </td><td>male                          </td><td>22                            </td><td>1                             </td><td>0                             </td><td>A/5 21171                     </td><td> 7.2500                       </td><td>                              </td><td>S                             </td></tr>\n",
       "\t<tr><td> 5                            </td><td>0                             </td><td>3                             </td><td>Allen, Mr. William Henry      </td><td>male                          </td><td>35                            </td><td>0                             </td><td>0                             </td><td>373450                        </td><td> 8.0500                       </td><td>                              </td><td>S                             </td></tr>\n",
       "\t<tr><td> 7                            </td><td>0                             </td><td>1                             </td><td>McCarthy, Mr. Timothy J       </td><td>male                          </td><td>54                            </td><td>0                             </td><td>0                             </td><td>17463                         </td><td>51.8625                       </td><td>E46                           </td><td>S                             </td></tr>\n",
       "\t<tr><td> 8                            </td><td>0                             </td><td>3                             </td><td>Palsson, Master. Gosta Leonard</td><td>male                          </td><td> 2                            </td><td>3                             </td><td>1                             </td><td>349909                        </td><td>21.0750                       </td><td>                              </td><td>S                             </td></tr>\n",
       "\t<tr><td>13                            </td><td>0                             </td><td>3                             </td><td>Saundercock, Mr. William Henry</td><td>male                          </td><td>20                            </td><td>0                             </td><td>0                             </td><td>A/5. 2151                     </td><td> 8.0500                       </td><td>                              </td><td>S                             </td></tr>\n",
       "\t<tr><td>14                            </td><td>0                             </td><td>3                             </td><td>Andersson, Mr. Anders Johan   </td><td>male                          </td><td>39                            </td><td>1                             </td><td>5                             </td><td>347082                        </td><td>31.2750                       </td><td>                              </td><td>S                             </td></tr>\n",
       "</tbody>\n",
       "</table>\n"
      ],
      "text/latex": [
       "\\begin{tabular}{r|llllllllllll}\n",
       " assengerId & Survived & Pclass & Name & Sex & Age & SibSp & Parch & Ticket & Fare & Cabin & Embarked\\\\\n",
       "\\hline\n",
       "\t  1                             & 0                              & 3                              & Braund, Mr. Owen Harris        & male                           & 22                             & 1                              & 0                              & A/5 21171                      &  7.2500                        &                                & S                             \\\\\n",
       "\t  5                             & 0                              & 3                              & Allen, Mr. William Henry       & male                           & 35                             & 0                              & 0                              & 373450                         &  8.0500                        &                                & S                             \\\\\n",
       "\t  7                             & 0                              & 1                              & McCarthy, Mr. Timothy J        & male                           & 54                             & 0                              & 0                              & 17463                          & 51.8625                        & E46                            & S                             \\\\\n",
       "\t  8                             & 0                              & 3                              & Palsson, Master. Gosta Leonard & male                           &  2                             & 3                              & 1                              & 349909                         & 21.0750                        &                                & S                             \\\\\n",
       "\t 13                             & 0                              & 3                              & Saundercock, Mr. William Henry & male                           & 20                             & 0                              & 0                              & A/5. 2151                      &  8.0500                        &                                & S                             \\\\\n",
       "\t 14                             & 0                              & 3                              & Andersson, Mr. Anders Johan    & male                           & 39                             & 1                              & 5                              & 347082                         & 31.2750                        &                                & S                             \\\\\n",
       "\\end{tabular}\n"
      ],
      "text/markdown": [
       "\n",
       "| assengerId | Survived | Pclass | Name | Sex | Age | SibSp | Parch | Ticket | Fare | Cabin | Embarked |\n",
       "|---|---|---|---|---|---|---|---|---|---|---|---|\n",
       "|  1                             | 0                              | 3                              | Braund, Mr. Owen Harris        | male                           | 22                             | 1                              | 0                              | A/5 21171                      |  7.2500                        |                                | S                              |\n",
       "|  5                             | 0                              | 3                              | Allen, Mr. William Henry       | male                           | 35                             | 0                              | 0                              | 373450                         |  8.0500                        |                                | S                              |\n",
       "|  7                             | 0                              | 1                              | McCarthy, Mr. Timothy J        | male                           | 54                             | 0                              | 0                              | 17463                          | 51.8625                        | E46                            | S                              |\n",
       "|  8                             | 0                              | 3                              | Palsson, Master. Gosta Leonard | male                           |  2                             | 3                              | 1                              | 349909                         | 21.0750                        |                                | S                              |\n",
       "| 13                             | 0                              | 3                              | Saundercock, Mr. William Henry | male                           | 20                             | 0                              | 0                              | A/5. 2151                      |  8.0500                        |                                | S                              |\n",
       "| 14                             | 0                              | 3                              | Andersson, Mr. Anders Johan    | male                           | 39                             | 1                              | 5                              | 347082                         | 31.2750                        |                                | S                              |\n",
       "\n"
      ],
      "text/plain": [
       "  assengerId Survived Pclass Name                           Sex  Age SibSp\n",
       "1  1         0        3      Braund, Mr. Owen Harris        male 22  1    \n",
       "2  5         0        3      Allen, Mr. William Henry       male 35  0    \n",
       "3  7         0        1      McCarthy, Mr. Timothy J        male 54  0    \n",
       "4  8         0        3      Palsson, Master. Gosta Leonard male  2  3    \n",
       "5 13         0        3      Saundercock, Mr. William Henry male 20  0    \n",
       "6 14         0        3      Andersson, Mr. Anders Johan    male 39  1    \n",
       "  Parch Ticket    Fare    Cabin Embarked\n",
       "1 0     A/5 21171  7.2500       S       \n",
       "2 0     373450     8.0500       S       \n",
       "3 0     17463     51.8625 E46   S       \n",
       "4 1     349909    21.0750       S       \n",
       "5 0     A/5. 2151  8.0500       S       \n",
       "6 5     347082    31.2750       S       "
      ]
     },
     "metadata": {},
     "output_type": "display_data"
    },
    {
     "data": {
      "text/html": [
       "<table>\n",
       "<thead><tr><th></th><th scope=col>assengerId</th><th scope=col>Survived</th><th scope=col>Pclass</th><th scope=col>Name</th><th scope=col>Sex</th><th scope=col>Age</th><th scope=col>SibSp</th><th scope=col>Parch</th><th scope=col>Ticket</th><th scope=col>Fare</th><th scope=col>Cabin</th><th scope=col>Embarked</th></tr></thead>\n",
       "<tbody>\n",
       "\t<tr><th scope=row>709</th><td>875                                          </td><td>1                                            </td><td>2                                            </td><td>Abelson, Mrs. Samuel (Hannah Wizosky)        </td><td>female                                       </td><td>28                                           </td><td>1                                            </td><td>0                                            </td><td>P/PP 3381                                    </td><td>24.0000                                      </td><td>                                             </td><td>C                                            </td></tr>\n",
       "\t<tr><th scope=row>710</th><td>876                                          </td><td>1                                            </td><td>3                                            </td><td>Najib, Miss. Adele Kiamie \"Jane\"             </td><td>female                                       </td><td>15                                           </td><td>0                                            </td><td>0                                            </td><td>2667                                         </td><td> 7.2250                                      </td><td>                                             </td><td>C                                            </td></tr>\n",
       "\t<tr><th scope=row>711</th><td>880                                          </td><td>1                                            </td><td>1                                            </td><td>Potter, Mrs. Thomas Jr (Lily Alexenia Wilson)</td><td>female                                       </td><td>56                                           </td><td>0                                            </td><td>1                                            </td><td>11767                                        </td><td>83.1583                                      </td><td>C50                                          </td><td>C                                            </td></tr>\n",
       "\t<tr><th scope=row>712</th><td>881                                          </td><td>1                                            </td><td>2                                            </td><td>Shelley, Mrs. William (Imanita Parrish Hall) </td><td>female                                       </td><td>25                                           </td><td>0                                            </td><td>1                                            </td><td>230433                                       </td><td>26.0000                                      </td><td>                                             </td><td>S                                            </td></tr>\n",
       "\t<tr><th scope=row>713</th><td>888                                          </td><td>1                                            </td><td>1                                            </td><td>Graham, Miss. Margaret Edith                 </td><td>female                                       </td><td>19                                           </td><td>0                                            </td><td>0                                            </td><td>112053                                       </td><td>30.0000                                      </td><td>B42                                          </td><td>S                                            </td></tr>\n",
       "\t<tr><th scope=row>714</th><td>890                                          </td><td>1                                            </td><td>1                                            </td><td>Behr, Mr. Karl Howell                        </td><td>male                                         </td><td>26                                           </td><td>0                                            </td><td>0                                            </td><td>111369                                       </td><td>30.0000                                      </td><td>C148                                         </td><td>C                                            </td></tr>\n",
       "</tbody>\n",
       "</table>\n"
      ],
      "text/latex": [
       "\\begin{tabular}{r|llllllllllll}\n",
       "  & assengerId & Survived & Pclass & Name & Sex & Age & SibSp & Parch & Ticket & Fare & Cabin & Embarked\\\\\n",
       "\\hline\n",
       "\t709 & 875                                           & 1                                             & 2                                             & Abelson, Mrs. Samuel (Hannah Wizosky)         & female                                        & 28                                            & 1                                             & 0                                             & P/PP 3381                                     & 24.0000                                       &                                               & C                                            \\\\\n",
       "\t710 & 876                                           & 1                                             & 3                                             & Najib, Miss. Adele Kiamie \"Jane\"              & female                                        & 15                                            & 0                                             & 0                                             & 2667                                          &  7.2250                                       &                                               & C                                            \\\\\n",
       "\t711 & 880                                           & 1                                             & 1                                             & Potter, Mrs. Thomas Jr (Lily Alexenia Wilson) & female                                        & 56                                            & 0                                             & 1                                             & 11767                                         & 83.1583                                       & C50                                           & C                                            \\\\\n",
       "\t712 & 881                                           & 1                                             & 2                                             & Shelley, Mrs. William (Imanita Parrish Hall)  & female                                        & 25                                            & 0                                             & 1                                             & 230433                                        & 26.0000                                       &                                               & S                                            \\\\\n",
       "\t713 & 888                                           & 1                                             & 1                                             & Graham, Miss. Margaret Edith                  & female                                        & 19                                            & 0                                             & 0                                             & 112053                                        & 30.0000                                       & B42                                           & S                                            \\\\\n",
       "\t714 & 890                                           & 1                                             & 1                                             & Behr, Mr. Karl Howell                         & male                                          & 26                                            & 0                                             & 0                                             & 111369                                        & 30.0000                                       & C148                                          & C                                            \\\\\n",
       "\\end{tabular}\n"
      ],
      "text/markdown": [
       "\n",
       "| <!--/--> | assengerId | Survived | Pclass | Name | Sex | Age | SibSp | Parch | Ticket | Fare | Cabin | Embarked |\n",
       "|---|---|---|---|---|---|---|---|---|---|---|---|---|\n",
       "| 709 | 875                                           | 1                                             | 2                                             | Abelson, Mrs. Samuel (Hannah Wizosky)         | female                                        | 28                                            | 1                                             | 0                                             | P/PP 3381                                     | 24.0000                                       |                                               | C                                             |\n",
       "| 710 | 876                                           | 1                                             | 3                                             | Najib, Miss. Adele Kiamie \"Jane\"              | female                                        | 15                                            | 0                                             | 0                                             | 2667                                          |  7.2250                                       |                                               | C                                             |\n",
       "| 711 | 880                                           | 1                                             | 1                                             | Potter, Mrs. Thomas Jr (Lily Alexenia Wilson) | female                                        | 56                                            | 0                                             | 1                                             | 11767                                         | 83.1583                                       | C50                                           | C                                             |\n",
       "| 712 | 881                                           | 1                                             | 2                                             | Shelley, Mrs. William (Imanita Parrish Hall)  | female                                        | 25                                            | 0                                             | 1                                             | 230433                                        | 26.0000                                       |                                               | S                                             |\n",
       "| 713 | 888                                           | 1                                             | 1                                             | Graham, Miss. Margaret Edith                  | female                                        | 19                                            | 0                                             | 0                                             | 112053                                        | 30.0000                                       | B42                                           | S                                             |\n",
       "| 714 | 890                                           | 1                                             | 1                                             | Behr, Mr. Karl Howell                         | male                                          | 26                                            | 0                                             | 0                                             | 111369                                        | 30.0000                                       | C148                                          | C                                             |\n",
       "\n"
      ],
      "text/plain": [
       "    assengerId Survived Pclass Name                                         \n",
       "709 875        1        2      Abelson, Mrs. Samuel (Hannah Wizosky)        \n",
       "710 876        1        3      Najib, Miss. Adele Kiamie \"Jane\"             \n",
       "711 880        1        1      Potter, Mrs. Thomas Jr (Lily Alexenia Wilson)\n",
       "712 881        1        2      Shelley, Mrs. William (Imanita Parrish Hall) \n",
       "713 888        1        1      Graham, Miss. Margaret Edith                 \n",
       "714 890        1        1      Behr, Mr. Karl Howell                        \n",
       "    Sex    Age SibSp Parch Ticket    Fare    Cabin Embarked\n",
       "709 female 28  1     0     P/PP 3381 24.0000       C       \n",
       "710 female 15  0     0     2667       7.2250       C       \n",
       "711 female 56  0     1     11767     83.1583 C50   C       \n",
       "712 female 25  0     1     230433    26.0000       S       \n",
       "713 female 19  0     0     112053    30.0000 B42   S       \n",
       "714 male   26  0     0     111369    30.0000 C148  C       "
      ]
     },
     "metadata": {},
     "output_type": "display_data"
    }
   ],
   "source": [
    "head(train_df2)\n",
    "tail(train_df2)"
   ]
  },
  {
   "cell_type": "code",
   "execution_count": 108,
   "id": "1e20c6e9",
   "metadata": {},
   "outputs": [
    {
     "data": {
      "text/html": [
       "290"
      ],
      "text/latex": [
       "290"
      ],
      "text/markdown": [
       "290"
      ],
      "text/plain": [
       "[1] 290"
      ]
     },
     "metadata": {},
     "output_type": "display_data"
    },
    {
     "data": {
      "text/html": [
       "424"
      ],
      "text/latex": [
       "424"
      ],
      "text/markdown": [
       "424"
      ],
      "text/plain": [
       "[1] 424"
      ]
     },
     "metadata": {},
     "output_type": "display_data"
    }
   ],
   "source": [
    "nrow(train_df2[train_df2$Survived == 1,])\n",
    "nrow(train_df2[train_df2$Survived == 0,])"
   ]
  },
  {
   "cell_type": "code",
   "execution_count": 109,
   "id": "0a1fbc61",
   "metadata": {},
   "outputs": [],
   "source": [
    "# samp <- sample(1:424,134)\n",
    "# samp\n",
    "# train_df <- train_df2[-samp,]"
   ]
  },
  {
   "cell_type": "code",
   "execution_count": 110,
   "id": "b603a358",
   "metadata": {},
   "outputs": [
    {
     "data": {
      "text/html": [
       "<table>\n",
       "<thead><tr><th scope=col>assengerId</th><th scope=col>Survived</th><th scope=col>Pclass</th><th scope=col>Name</th><th scope=col>Sex</th><th scope=col>Age</th><th scope=col>SibSp</th><th scope=col>Parch</th><th scope=col>Ticket</th><th scope=col>Fare</th><th scope=col>Cabin</th><th scope=col>Embarked</th></tr></thead>\n",
       "<tbody>\n",
       "\t<tr><td> 1                            </td><td>0                             </td><td>3                             </td><td>Braund, Mr. Owen Harris       </td><td>male                          </td><td>22                            </td><td>1                             </td><td>0                             </td><td>A/5 21171                     </td><td> 7.2500                       </td><td>                              </td><td>S                             </td></tr>\n",
       "\t<tr><td> 5                            </td><td>0                             </td><td>3                             </td><td>Allen, Mr. William Henry      </td><td>male                          </td><td>35                            </td><td>0                             </td><td>0                             </td><td>373450                        </td><td> 8.0500                       </td><td>                              </td><td>S                             </td></tr>\n",
       "\t<tr><td> 7                            </td><td>0                             </td><td>1                             </td><td>McCarthy, Mr. Timothy J       </td><td>male                          </td><td>54                            </td><td>0                             </td><td>0                             </td><td>17463                         </td><td>51.8625                       </td><td>E46                           </td><td>S                             </td></tr>\n",
       "\t<tr><td> 8                            </td><td>0                             </td><td>3                             </td><td>Palsson, Master. Gosta Leonard</td><td>male                          </td><td> 2                            </td><td>3                             </td><td>1                             </td><td>349909                        </td><td>21.0750                       </td><td>                              </td><td>S                             </td></tr>\n",
       "\t<tr><td>13                            </td><td>0                             </td><td>3                             </td><td>Saundercock, Mr. William Henry</td><td>male                          </td><td>20                            </td><td>0                             </td><td>0                             </td><td>A/5. 2151                     </td><td> 8.0500                       </td><td>                              </td><td>S                             </td></tr>\n",
       "\t<tr><td>14                            </td><td>0                             </td><td>3                             </td><td>Andersson, Mr. Anders Johan   </td><td>male                          </td><td>39                            </td><td>1                             </td><td>5                             </td><td>347082                        </td><td>31.2750                       </td><td>                              </td><td>S                             </td></tr>\n",
       "</tbody>\n",
       "</table>\n"
      ],
      "text/latex": [
       "\\begin{tabular}{r|llllllllllll}\n",
       " assengerId & Survived & Pclass & Name & Sex & Age & SibSp & Parch & Ticket & Fare & Cabin & Embarked\\\\\n",
       "\\hline\n",
       "\t  1                             & 0                              & 3                              & Braund, Mr. Owen Harris        & male                           & 22                             & 1                              & 0                              & A/5 21171                      &  7.2500                        &                                & S                             \\\\\n",
       "\t  5                             & 0                              & 3                              & Allen, Mr. William Henry       & male                           & 35                             & 0                              & 0                              & 373450                         &  8.0500                        &                                & S                             \\\\\n",
       "\t  7                             & 0                              & 1                              & McCarthy, Mr. Timothy J        & male                           & 54                             & 0                              & 0                              & 17463                          & 51.8625                        & E46                            & S                             \\\\\n",
       "\t  8                             & 0                              & 3                              & Palsson, Master. Gosta Leonard & male                           &  2                             & 3                              & 1                              & 349909                         & 21.0750                        &                                & S                             \\\\\n",
       "\t 13                             & 0                              & 3                              & Saundercock, Mr. William Henry & male                           & 20                             & 0                              & 0                              & A/5. 2151                      &  8.0500                        &                                & S                             \\\\\n",
       "\t 14                             & 0                              & 3                              & Andersson, Mr. Anders Johan    & male                           & 39                             & 1                              & 5                              & 347082                         & 31.2750                        &                                & S                             \\\\\n",
       "\\end{tabular}\n"
      ],
      "text/markdown": [
       "\n",
       "| assengerId | Survived | Pclass | Name | Sex | Age | SibSp | Parch | Ticket | Fare | Cabin | Embarked |\n",
       "|---|---|---|---|---|---|---|---|---|---|---|---|\n",
       "|  1                             | 0                              | 3                              | Braund, Mr. Owen Harris        | male                           | 22                             | 1                              | 0                              | A/5 21171                      |  7.2500                        |                                | S                              |\n",
       "|  5                             | 0                              | 3                              | Allen, Mr. William Henry       | male                           | 35                             | 0                              | 0                              | 373450                         |  8.0500                        |                                | S                              |\n",
       "|  7                             | 0                              | 1                              | McCarthy, Mr. Timothy J        | male                           | 54                             | 0                              | 0                              | 17463                          | 51.8625                        | E46                            | S                              |\n",
       "|  8                             | 0                              | 3                              | Palsson, Master. Gosta Leonard | male                           |  2                             | 3                              | 1                              | 349909                         | 21.0750                        |                                | S                              |\n",
       "| 13                             | 0                              | 3                              | Saundercock, Mr. William Henry | male                           | 20                             | 0                              | 0                              | A/5. 2151                      |  8.0500                        |                                | S                              |\n",
       "| 14                             | 0                              | 3                              | Andersson, Mr. Anders Johan    | male                           | 39                             | 1                              | 5                              | 347082                         | 31.2750                        |                                | S                              |\n",
       "\n"
      ],
      "text/plain": [
       "  assengerId Survived Pclass Name                           Sex  Age SibSp\n",
       "1  1         0        3      Braund, Mr. Owen Harris        male 22  1    \n",
       "2  5         0        3      Allen, Mr. William Henry       male 35  0    \n",
       "3  7         0        1      McCarthy, Mr. Timothy J        male 54  0    \n",
       "4  8         0        3      Palsson, Master. Gosta Leonard male  2  3    \n",
       "5 13         0        3      Saundercock, Mr. William Henry male 20  0    \n",
       "6 14         0        3      Andersson, Mr. Anders Johan    male 39  1    \n",
       "  Parch Ticket    Fare    Cabin Embarked\n",
       "1 0     A/5 21171  7.2500       S       \n",
       "2 0     373450     8.0500       S       \n",
       "3 0     17463     51.8625 E46   S       \n",
       "4 1     349909    21.0750       S       \n",
       "5 0     A/5. 2151  8.0500       S       \n",
       "6 5     347082    31.2750       S       "
      ]
     },
     "metadata": {},
     "output_type": "display_data"
    }
   ],
   "source": [
    "head(arrange(train_df2,Survived))"
   ]
  },
  {
   "cell_type": "code",
   "execution_count": 111,
   "id": "717f40d8",
   "metadata": {},
   "outputs": [],
   "source": [
    "train_df2$SexCode[train_df2$Sex == \"male\"] <- 0\n",
    "train_df2$SexCode[train_df2$Sex == \"female\"] <- 1\n",
    "train_df2$Embarked_C = train_df2$Embarked == \"C\"\n",
    "train_df2$Embarked_S = train_df2$Embarked == \"S\"\n",
    "train_df2$Embarked_Q = train_df2$Embarked == \"Q\"\n"
   ]
  },
  {
   "cell_type": "code",
   "execution_count": 112,
   "id": "4d161f14",
   "metadata": {},
   "outputs": [
    {
     "data": {
      "text/html": [
       "<table>\n",
       "<thead><tr><th scope=col>assengerId</th><th scope=col>Survived</th><th scope=col>Pclass</th><th scope=col>Name</th><th scope=col>Sex</th><th scope=col>Age</th><th scope=col>SibSp</th><th scope=col>Parch</th><th scope=col>Ticket</th><th scope=col>Fare</th><th scope=col>Cabin</th><th scope=col>Embarked</th><th scope=col>SexCode</th><th scope=col>Embarked_C</th><th scope=col>Embarked_S</th><th scope=col>Embarked_Q</th></tr></thead>\n",
       "<tbody>\n",
       "\t<tr><td> 1                            </td><td>0                             </td><td>3                             </td><td>Braund, Mr. Owen Harris       </td><td>male                          </td><td>22                            </td><td>1                             </td><td>0                             </td><td>A/5 21171                     </td><td> 7.2500                       </td><td>                              </td><td>S                             </td><td>0                             </td><td>FALSE                         </td><td>TRUE                          </td><td>FALSE                         </td></tr>\n",
       "\t<tr><td> 5                            </td><td>0                             </td><td>3                             </td><td>Allen, Mr. William Henry      </td><td>male                          </td><td>35                            </td><td>0                             </td><td>0                             </td><td>373450                        </td><td> 8.0500                       </td><td>                              </td><td>S                             </td><td>0                             </td><td>FALSE                         </td><td>TRUE                          </td><td>FALSE                         </td></tr>\n",
       "\t<tr><td> 7                            </td><td>0                             </td><td>1                             </td><td>McCarthy, Mr. Timothy J       </td><td>male                          </td><td>54                            </td><td>0                             </td><td>0                             </td><td>17463                         </td><td>51.8625                       </td><td>E46                           </td><td>S                             </td><td>0                             </td><td>FALSE                         </td><td>TRUE                          </td><td>FALSE                         </td></tr>\n",
       "\t<tr><td> 8                            </td><td>0                             </td><td>3                             </td><td>Palsson, Master. Gosta Leonard</td><td>male                          </td><td> 2                            </td><td>3                             </td><td>1                             </td><td>349909                        </td><td>21.0750                       </td><td>                              </td><td>S                             </td><td>0                             </td><td>FALSE                         </td><td>TRUE                          </td><td>FALSE                         </td></tr>\n",
       "\t<tr><td>13                            </td><td>0                             </td><td>3                             </td><td>Saundercock, Mr. William Henry</td><td>male                          </td><td>20                            </td><td>0                             </td><td>0                             </td><td>A/5. 2151                     </td><td> 8.0500                       </td><td>                              </td><td>S                             </td><td>0                             </td><td>FALSE                         </td><td>TRUE                          </td><td>FALSE                         </td></tr>\n",
       "\t<tr><td>14                            </td><td>0                             </td><td>3                             </td><td>Andersson, Mr. Anders Johan   </td><td>male                          </td><td>39                            </td><td>1                             </td><td>5                             </td><td>347082                        </td><td>31.2750                       </td><td>                              </td><td>S                             </td><td>0                             </td><td>FALSE                         </td><td>TRUE                          </td><td>FALSE                         </td></tr>\n",
       "</tbody>\n",
       "</table>\n"
      ],
      "text/latex": [
       "\\begin{tabular}{r|llllllllllllllll}\n",
       " assengerId & Survived & Pclass & Name & Sex & Age & SibSp & Parch & Ticket & Fare & Cabin & Embarked & SexCode & Embarked\\_C & Embarked\\_S & Embarked\\_Q\\\\\n",
       "\\hline\n",
       "\t  1                             & 0                              & 3                              & Braund, Mr. Owen Harris        & male                           & 22                             & 1                              & 0                              & A/5 21171                      &  7.2500                        &                                & S                              & 0                              & FALSE                          & TRUE                           & FALSE                         \\\\\n",
       "\t  5                             & 0                              & 3                              & Allen, Mr. William Henry       & male                           & 35                             & 0                              & 0                              & 373450                         &  8.0500                        &                                & S                              & 0                              & FALSE                          & TRUE                           & FALSE                         \\\\\n",
       "\t  7                             & 0                              & 1                              & McCarthy, Mr. Timothy J        & male                           & 54                             & 0                              & 0                              & 17463                          & 51.8625                        & E46                            & S                              & 0                              & FALSE                          & TRUE                           & FALSE                         \\\\\n",
       "\t  8                             & 0                              & 3                              & Palsson, Master. Gosta Leonard & male                           &  2                             & 3                              & 1                              & 349909                         & 21.0750                        &                                & S                              & 0                              & FALSE                          & TRUE                           & FALSE                         \\\\\n",
       "\t 13                             & 0                              & 3                              & Saundercock, Mr. William Henry & male                           & 20                             & 0                              & 0                              & A/5. 2151                      &  8.0500                        &                                & S                              & 0                              & FALSE                          & TRUE                           & FALSE                         \\\\\n",
       "\t 14                             & 0                              & 3                              & Andersson, Mr. Anders Johan    & male                           & 39                             & 1                              & 5                              & 347082                         & 31.2750                        &                                & S                              & 0                              & FALSE                          & TRUE                           & FALSE                         \\\\\n",
       "\\end{tabular}\n"
      ],
      "text/markdown": [
       "\n",
       "| assengerId | Survived | Pclass | Name | Sex | Age | SibSp | Parch | Ticket | Fare | Cabin | Embarked | SexCode | Embarked_C | Embarked_S | Embarked_Q |\n",
       "|---|---|---|---|---|---|---|---|---|---|---|---|---|---|---|---|\n",
       "|  1                             | 0                              | 3                              | Braund, Mr. Owen Harris        | male                           | 22                             | 1                              | 0                              | A/5 21171                      |  7.2500                        |                                | S                              | 0                              | FALSE                          | TRUE                           | FALSE                          |\n",
       "|  5                             | 0                              | 3                              | Allen, Mr. William Henry       | male                           | 35                             | 0                              | 0                              | 373450                         |  8.0500                        |                                | S                              | 0                              | FALSE                          | TRUE                           | FALSE                          |\n",
       "|  7                             | 0                              | 1                              | McCarthy, Mr. Timothy J        | male                           | 54                             | 0                              | 0                              | 17463                          | 51.8625                        | E46                            | S                              | 0                              | FALSE                          | TRUE                           | FALSE                          |\n",
       "|  8                             | 0                              | 3                              | Palsson, Master. Gosta Leonard | male                           |  2                             | 3                              | 1                              | 349909                         | 21.0750                        |                                | S                              | 0                              | FALSE                          | TRUE                           | FALSE                          |\n",
       "| 13                             | 0                              | 3                              | Saundercock, Mr. William Henry | male                           | 20                             | 0                              | 0                              | A/5. 2151                      |  8.0500                        |                                | S                              | 0                              | FALSE                          | TRUE                           | FALSE                          |\n",
       "| 14                             | 0                              | 3                              | Andersson, Mr. Anders Johan    | male                           | 39                             | 1                              | 5                              | 347082                         | 31.2750                        |                                | S                              | 0                              | FALSE                          | TRUE                           | FALSE                          |\n",
       "\n"
      ],
      "text/plain": [
       "  assengerId Survived Pclass Name                           Sex  Age SibSp\n",
       "1  1         0        3      Braund, Mr. Owen Harris        male 22  1    \n",
       "2  5         0        3      Allen, Mr. William Henry       male 35  0    \n",
       "3  7         0        1      McCarthy, Mr. Timothy J        male 54  0    \n",
       "4  8         0        3      Palsson, Master. Gosta Leonard male  2  3    \n",
       "5 13         0        3      Saundercock, Mr. William Henry male 20  0    \n",
       "6 14         0        3      Andersson, Mr. Anders Johan    male 39  1    \n",
       "  Parch Ticket    Fare    Cabin Embarked SexCode Embarked_C Embarked_S\n",
       "1 0     A/5 21171  7.2500       S        0       FALSE      TRUE      \n",
       "2 0     373450     8.0500       S        0       FALSE      TRUE      \n",
       "3 0     17463     51.8625 E46   S        0       FALSE      TRUE      \n",
       "4 1     349909    21.0750       S        0       FALSE      TRUE      \n",
       "5 0     A/5. 2151  8.0500       S        0       FALSE      TRUE      \n",
       "6 5     347082    31.2750       S        0       FALSE      TRUE      \n",
       "  Embarked_Q\n",
       "1 FALSE     \n",
       "2 FALSE     \n",
       "3 FALSE     \n",
       "4 FALSE     \n",
       "5 FALSE     \n",
       "6 FALSE     "
      ]
     },
     "metadata": {},
     "output_type": "display_data"
    }
   ],
   "source": [
    "head(train_df2)\n",
    "\n"
   ]
  },
  {
   "cell_type": "code",
   "execution_count": 134,
   "id": "9a782a79",
   "metadata": {},
   "outputs": [
    {
     "data": {
      "text/html": [
       "714"
      ],
      "text/latex": [
       "714"
      ],
      "text/markdown": [
       "714"
      ],
      "text/plain": [
       "[1] 714"
      ]
     },
     "metadata": {},
     "output_type": "display_data"
    },
    {
     "data": {
      "text/html": [
       "290"
      ],
      "text/latex": [
       "290"
      ],
      "text/markdown": [
       "290"
      ],
      "text/plain": [
       "[1] 290"
      ]
     },
     "metadata": {},
     "output_type": "display_data"
    }
   ],
   "source": [
    "nrow(train_df2)\n",
    "sum(train_df2$Survived == 1)"
   ]
  },
  {
   "cell_type": "code",
   "execution_count": 113,
   "id": "2e17fafa",
   "metadata": {},
   "outputs": [],
   "source": [
    "train_df2 <- subset(train_df2, select = - c(Sex,Embarked))"
   ]
  },
  {
   "cell_type": "code",
   "execution_count": 136,
   "id": "617eefe0",
   "metadata": {},
   "outputs": [],
   "source": [
    "for( j in 0:1){\n",
    "    for (i in 1:3){\n",
    "        train_df2 <- cbind(train_df2,cat = train_df2$SexCode == j & train_df2$Pclass == i)\n",
    "        colnames(train_df2)[ncol(train_df2)] <- paste(ifelse(j==0,\"m\",\"f\"),i, sep = \"\")\n",
    "    }\n",
    "}"
   ]
  },
  {
   "cell_type": "code",
   "execution_count": 309,
   "id": "ae379517",
   "metadata": {},
   "outputs": [
    {
     "data": {
      "text/html": [
       "<table>\n",
       "<thead><tr><th scope=col>assengerId</th><th scope=col>Survived</th><th scope=col>Pclass</th><th scope=col>Name</th><th scope=col>Age</th><th scope=col>SibSp</th><th scope=col>Parch</th><th scope=col>Ticket</th><th scope=col>Fare</th><th scope=col>Cabin</th><th scope=col>SexCode</th><th scope=col>Embarked_C</th><th scope=col>Embarked_S</th><th scope=col>Embarked_Q</th><th scope=col>PSex</th></tr></thead>\n",
       "<tbody>\n",
       "\t<tr><td> 1                            </td><td>0                             </td><td>3                             </td><td>Braund, Mr. Owen Harris       </td><td>22                            </td><td>1                             </td><td>0                             </td><td>A/5 21171                     </td><td> 7.2500                       </td><td>                              </td><td>0                             </td><td>FALSE                         </td><td>TRUE                          </td><td>FALSE                         </td><td>low                           </td></tr>\n",
       "\t<tr><td> 5                            </td><td>0                             </td><td>3                             </td><td>Allen, Mr. William Henry      </td><td>35                            </td><td>0                             </td><td>0                             </td><td>373450                        </td><td> 8.0500                       </td><td>                              </td><td>0                             </td><td>FALSE                         </td><td>TRUE                          </td><td>FALSE                         </td><td>low                           </td></tr>\n",
       "\t<tr><td> 7                            </td><td>0                             </td><td>1                             </td><td>McCarthy, Mr. Timothy J       </td><td>54                            </td><td>0                             </td><td>0                             </td><td>17463                         </td><td>51.8625                       </td><td>E46                           </td><td>0                             </td><td>FALSE                         </td><td>TRUE                          </td><td>FALSE                         </td><td>middle                        </td></tr>\n",
       "\t<tr><td> 8                            </td><td>0                             </td><td>3                             </td><td>Palsson, Master. Gosta Leonard</td><td> 2                            </td><td>3                             </td><td>1                             </td><td>349909                        </td><td>21.0750                       </td><td>                              </td><td>0                             </td><td>FALSE                         </td><td>TRUE                          </td><td>FALSE                         </td><td>low                           </td></tr>\n",
       "\t<tr><td>13                            </td><td>0                             </td><td>3                             </td><td>Saundercock, Mr. William Henry</td><td>20                            </td><td>0                             </td><td>0                             </td><td>A/5. 2151                     </td><td> 8.0500                       </td><td>                              </td><td>0                             </td><td>FALSE                         </td><td>TRUE                          </td><td>FALSE                         </td><td>low                           </td></tr>\n",
       "\t<tr><td>14                            </td><td>0                             </td><td>3                             </td><td>Andersson, Mr. Anders Johan   </td><td>39                            </td><td>1                             </td><td>5                             </td><td>347082                        </td><td>31.2750                       </td><td>                              </td><td>0                             </td><td>FALSE                         </td><td>TRUE                          </td><td>FALSE                         </td><td>low                           </td></tr>\n",
       "</tbody>\n",
       "</table>\n"
      ],
      "text/latex": [
       "\\begin{tabular}{r|lllllllllllllll}\n",
       " assengerId & Survived & Pclass & Name & Age & SibSp & Parch & Ticket & Fare & Cabin & SexCode & Embarked\\_C & Embarked\\_S & Embarked\\_Q & PSex\\\\\n",
       "\\hline\n",
       "\t  1                             & 0                              & 3                              & Braund, Mr. Owen Harris        & 22                             & 1                              & 0                              & A/5 21171                      &  7.2500                        &                                & 0                              & FALSE                          & TRUE                           & FALSE                          & low                           \\\\\n",
       "\t  5                             & 0                              & 3                              & Allen, Mr. William Henry       & 35                             & 0                              & 0                              & 373450                         &  8.0500                        &                                & 0                              & FALSE                          & TRUE                           & FALSE                          & low                           \\\\\n",
       "\t  7                             & 0                              & 1                              & McCarthy, Mr. Timothy J        & 54                             & 0                              & 0                              & 17463                          & 51.8625                        & E46                            & 0                              & FALSE                          & TRUE                           & FALSE                          & middle                        \\\\\n",
       "\t  8                             & 0                              & 3                              & Palsson, Master. Gosta Leonard &  2                             & 3                              & 1                              & 349909                         & 21.0750                        &                                & 0                              & FALSE                          & TRUE                           & FALSE                          & low                           \\\\\n",
       "\t 13                             & 0                              & 3                              & Saundercock, Mr. William Henry & 20                             & 0                              & 0                              & A/5. 2151                      &  8.0500                        &                                & 0                              & FALSE                          & TRUE                           & FALSE                          & low                           \\\\\n",
       "\t 14                             & 0                              & 3                              & Andersson, Mr. Anders Johan    & 39                             & 1                              & 5                              & 347082                         & 31.2750                        &                                & 0                              & FALSE                          & TRUE                           & FALSE                          & low                           \\\\\n",
       "\\end{tabular}\n"
      ],
      "text/markdown": [
       "\n",
       "| assengerId | Survived | Pclass | Name | Age | SibSp | Parch | Ticket | Fare | Cabin | SexCode | Embarked_C | Embarked_S | Embarked_Q | PSex |\n",
       "|---|---|---|---|---|---|---|---|---|---|---|---|---|---|---|\n",
       "|  1                             | 0                              | 3                              | Braund, Mr. Owen Harris        | 22                             | 1                              | 0                              | A/5 21171                      |  7.2500                        |                                | 0                              | FALSE                          | TRUE                           | FALSE                          | low                            |\n",
       "|  5                             | 0                              | 3                              | Allen, Mr. William Henry       | 35                             | 0                              | 0                              | 373450                         |  8.0500                        |                                | 0                              | FALSE                          | TRUE                           | FALSE                          | low                            |\n",
       "|  7                             | 0                              | 1                              | McCarthy, Mr. Timothy J        | 54                             | 0                              | 0                              | 17463                          | 51.8625                        | E46                            | 0                              | FALSE                          | TRUE                           | FALSE                          | middle                         |\n",
       "|  8                             | 0                              | 3                              | Palsson, Master. Gosta Leonard |  2                             | 3                              | 1                              | 349909                         | 21.0750                        |                                | 0                              | FALSE                          | TRUE                           | FALSE                          | low                            |\n",
       "| 13                             | 0                              | 3                              | Saundercock, Mr. William Henry | 20                             | 0                              | 0                              | A/5. 2151                      |  8.0500                        |                                | 0                              | FALSE                          | TRUE                           | FALSE                          | low                            |\n",
       "| 14                             | 0                              | 3                              | Andersson, Mr. Anders Johan    | 39                             | 1                              | 5                              | 347082                         | 31.2750                        |                                | 0                              | FALSE                          | TRUE                           | FALSE                          | low                            |\n",
       "\n"
      ],
      "text/plain": [
       "  assengerId Survived Pclass Name                           Age SibSp Parch\n",
       "1  1         0        3      Braund, Mr. Owen Harris        22  1     0    \n",
       "2  5         0        3      Allen, Mr. William Henry       35  0     0    \n",
       "3  7         0        1      McCarthy, Mr. Timothy J        54  0     0    \n",
       "4  8         0        3      Palsson, Master. Gosta Leonard  2  3     1    \n",
       "5 13         0        3      Saundercock, Mr. William Henry 20  0     0    \n",
       "6 14         0        3      Andersson, Mr. Anders Johan    39  1     5    \n",
       "  Ticket    Fare    Cabin SexCode Embarked_C Embarked_S Embarked_Q PSex  \n",
       "1 A/5 21171  7.2500       0       FALSE      TRUE       FALSE      low   \n",
       "2 373450     8.0500       0       FALSE      TRUE       FALSE      low   \n",
       "3 17463     51.8625 E46   0       FALSE      TRUE       FALSE      middle\n",
       "4 349909    21.0750       0       FALSE      TRUE       FALSE      low   \n",
       "5 A/5. 2151  8.0500       0       FALSE      TRUE       FALSE      low   \n",
       "6 347082    31.2750       0       FALSE      TRUE       FALSE      low   "
      ]
     },
     "metadata": {},
     "output_type": "display_data"
    }
   ],
   "source": [
    "head(train_df2)"
   ]
  },
  {
   "cell_type": "code",
   "execution_count": 196,
   "id": "2bf90fca",
   "metadata": {},
   "outputs": [],
   "source": [
    "train_df2$SQ <-train_df2$Embarked_S | train_df2$Embarked_Q"
   ]
  },
  {
   "cell_type": "code",
   "execution_count": null,
   "id": "4194f9c8",
   "metadata": {},
   "outputs": [],
   "source": []
  },
  {
   "cell_type": "code",
   "execution_count": 227,
   "id": "926848e6",
   "metadata": {},
   "outputs": [],
   "source": [
    "train_df2$PSex <- ifelse(train_df2$SexCode == 0 & train_df2$Pclass >= 2 , \"low\",\n",
    "                         ifelse(train_df2$SexCode == 0 & train_df2$Pclass == 1 | train_df2$SexCode == 1 & train_df2$Pclass == 3 , \"middle\",\"high\")\n",
    "                        )\n",
    "train_df2$PSex <- factor(train_df2$PSex)"
   ]
  },
  {
   "cell_type": "code",
   "execution_count": 228,
   "id": "b3c967c1",
   "metadata": {},
   "outputs": [
    {
     "data": {
      "text/html": [
       "<table>\n",
       "<thead><tr><th scope=col>assengerId</th><th scope=col>Survived</th><th scope=col>Pclass</th><th scope=col>Name</th><th scope=col>Age</th><th scope=col>SibSp</th><th scope=col>Parch</th><th scope=col>Ticket</th><th scope=col>Fare</th><th scope=col>Cabin</th><th scope=col>SexCode</th><th scope=col>Embarked_C</th><th scope=col>Embarked_S</th><th scope=col>Embarked_Q</th><th scope=col>PSex</th></tr></thead>\n",
       "<tbody>\n",
       "\t<tr><td> 1                                                      </td><td>0                                                       </td><td>3                                                       </td><td>Braund, Mr. Owen Harris                                 </td><td>22                                                      </td><td>1                                                       </td><td>0                                                       </td><td>A/5 21171                                               </td><td>  7.2500                                                </td><td>                                                        </td><td>0                                                       </td><td>FALSE                                                   </td><td> TRUE                                                   </td><td>FALSE                                                   </td><td>low                                                     </td></tr>\n",
       "\t<tr><td> 5                                                      </td><td>0                                                       </td><td>3                                                       </td><td>Allen, Mr. William Henry                                </td><td>35                                                      </td><td>0                                                       </td><td>0                                                       </td><td>373450                                                  </td><td>  8.0500                                                </td><td>                                                        </td><td>0                                                       </td><td>FALSE                                                   </td><td> TRUE                                                   </td><td>FALSE                                                   </td><td>low                                                     </td></tr>\n",
       "\t<tr><td> 7                                                      </td><td>0                                                       </td><td>1                                                       </td><td>McCarthy, Mr. Timothy J                                 </td><td>54                                                      </td><td>0                                                       </td><td>0                                                       </td><td>17463                                                   </td><td> 51.8625                                                </td><td>E46                                                     </td><td>0                                                       </td><td>FALSE                                                   </td><td> TRUE                                                   </td><td>FALSE                                                   </td><td>middle                                                  </td></tr>\n",
       "\t<tr><td> 8                                                      </td><td>0                                                       </td><td>3                                                       </td><td>Palsson, Master. Gosta Leonard                          </td><td> 2                                                      </td><td>3                                                       </td><td>1                                                       </td><td>349909                                                  </td><td> 21.0750                                                </td><td>                                                        </td><td>0                                                       </td><td>FALSE                                                   </td><td> TRUE                                                   </td><td>FALSE                                                   </td><td>low                                                     </td></tr>\n",
       "\t<tr><td>13                                                      </td><td>0                                                       </td><td>3                                                       </td><td>Saundercock, Mr. William Henry                          </td><td>20                                                      </td><td>0                                                       </td><td>0                                                       </td><td>A/5. 2151                                               </td><td>  8.0500                                                </td><td>                                                        </td><td>0                                                       </td><td>FALSE                                                   </td><td> TRUE                                                   </td><td>FALSE                                                   </td><td>low                                                     </td></tr>\n",
       "\t<tr><td>14                                                      </td><td>0                                                       </td><td>3                                                       </td><td>Andersson, Mr. Anders Johan                             </td><td>39                                                      </td><td>1                                                       </td><td>5                                                       </td><td>347082                                                  </td><td> 31.2750                                                </td><td>                                                        </td><td>0                                                       </td><td>FALSE                                                   </td><td> TRUE                                                   </td><td>FALSE                                                   </td><td>low                                                     </td></tr>\n",
       "\t<tr><td>15                                                      </td><td>0                                                       </td><td>3                                                       </td><td>Vestrom, Miss. Hulda Amanda Adolfina                    </td><td>14                                                      </td><td>0                                                       </td><td>0                                                       </td><td>350406                                                  </td><td>  7.8542                                                </td><td>                                                        </td><td>1                                                       </td><td>FALSE                                                   </td><td> TRUE                                                   </td><td>FALSE                                                   </td><td>middle                                                  </td></tr>\n",
       "\t<tr><td>17                                                      </td><td>0                                                       </td><td>3                                                       </td><td>Rice, Master. Eugene                                    </td><td> 2                                                      </td><td>4                                                       </td><td>1                                                       </td><td>382652                                                  </td><td> 29.1250                                                </td><td>                                                        </td><td>0                                                       </td><td>FALSE                                                   </td><td>FALSE                                                   </td><td> TRUE                                                   </td><td>low                                                     </td></tr>\n",
       "\t<tr><td>19                                                      </td><td>0                                                       </td><td>3                                                       </td><td>Vander Planke, Mrs. Julius (Emelia Maria Vandemoortele) </td><td>31                                                      </td><td>1                                                       </td><td>0                                                       </td><td>345763                                                  </td><td> 18.0000                                                </td><td>                                                        </td><td>1                                                       </td><td>FALSE                                                   </td><td> TRUE                                                   </td><td>FALSE                                                   </td><td>middle                                                  </td></tr>\n",
       "\t<tr><td>21                                                      </td><td>0                                                       </td><td>2                                                       </td><td>Fynney, Mr. Joseph J                                    </td><td>35                                                      </td><td>0                                                       </td><td>0                                                       </td><td>239865                                                  </td><td> 26.0000                                                </td><td>                                                        </td><td>0                                                       </td><td>FALSE                                                   </td><td> TRUE                                                   </td><td>FALSE                                                   </td><td>low                                                     </td></tr>\n",
       "\t<tr><td>25                                                      </td><td>0                                                       </td><td>3                                                       </td><td>Palsson, Miss. Torborg Danira                           </td><td> 8                                                      </td><td>3                                                       </td><td>1                                                       </td><td>349909                                                  </td><td> 21.0750                                                </td><td>                                                        </td><td>1                                                       </td><td>FALSE                                                   </td><td> TRUE                                                   </td><td>FALSE                                                   </td><td>middle                                                  </td></tr>\n",
       "\t<tr><td>28                                                      </td><td>0                                                       </td><td>1                                                       </td><td>Fortune, Mr. Charles Alexander                          </td><td>19                                                      </td><td>3                                                       </td><td>2                                                       </td><td>19950                                                   </td><td>263.0000                                                </td><td>C23 C25 C27                                             </td><td>0                                                       </td><td>FALSE                                                   </td><td> TRUE                                                   </td><td>FALSE                                                   </td><td>middle                                                  </td></tr>\n",
       "\t<tr><td>31                                                      </td><td>0                                                       </td><td>1                                                       </td><td>Uruchurtu, Don. Manuel E                                </td><td>40                                                      </td><td>0                                                       </td><td>0                                                       </td><td>PC 17601                                                </td><td> 27.7208                                                </td><td>                                                        </td><td>0                                                       </td><td> TRUE                                                   </td><td>FALSE                                                   </td><td>FALSE                                                   </td><td>middle                                                  </td></tr>\n",
       "\t<tr><td>34                                                      </td><td>0                                                       </td><td>2                                                       </td><td>Wheadon, Mr. Edward H                                   </td><td>66                                                      </td><td>0                                                       </td><td>0                                                       </td><td>C.A. 24579                                              </td><td> 10.5000                                                </td><td>                                                        </td><td>0                                                       </td><td>FALSE                                                   </td><td> TRUE                                                   </td><td>FALSE                                                   </td><td>low                                                     </td></tr>\n",
       "\t<tr><td>35                                                      </td><td>0                                                       </td><td>1                                                       </td><td>Meyer, Mr. Edgar Joseph                                 </td><td>28                                                      </td><td>1                                                       </td><td>0                                                       </td><td>PC 17604                                                </td><td> 82.1708                                                </td><td>                                                        </td><td>0                                                       </td><td> TRUE                                                   </td><td>FALSE                                                   </td><td>FALSE                                                   </td><td>middle                                                  </td></tr>\n",
       "\t<tr><td>36                                                      </td><td>0                                                       </td><td>1                                                       </td><td>Holverson, Mr. Alexander Oskar                          </td><td>42                                                      </td><td>1                                                       </td><td>0                                                       </td><td>113789                                                  </td><td> 52.0000                                                </td><td>                                                        </td><td>0                                                       </td><td>FALSE                                                   </td><td> TRUE                                                   </td><td>FALSE                                                   </td><td>middle                                                  </td></tr>\n",
       "\t<tr><td>38                                                      </td><td>0                                                       </td><td>3                                                       </td><td>Cann, Mr. Ernest Charles                                </td><td>21                                                      </td><td>0                                                       </td><td>0                                                       </td><td>A./5. 2152                                              </td><td>  8.0500                                                </td><td>                                                        </td><td>0                                                       </td><td>FALSE                                                   </td><td> TRUE                                                   </td><td>FALSE                                                   </td><td>low                                                     </td></tr>\n",
       "\t<tr><td>39                                                      </td><td>0                                                       </td><td>3                                                       </td><td>Vander Planke, Miss. Augusta Maria                      </td><td>18                                                      </td><td>2                                                       </td><td>0                                                       </td><td>345764                                                  </td><td> 18.0000                                                </td><td>                                                        </td><td>1                                                       </td><td>FALSE                                                   </td><td> TRUE                                                   </td><td>FALSE                                                   </td><td>middle                                                  </td></tr>\n",
       "\t<tr><td>41                                                      </td><td>0                                                       </td><td>3                                                       </td><td>Ahlin, Mrs. Johan (Johanna Persdotter Larsson)          </td><td>40                                                      </td><td>1                                                       </td><td>0                                                       </td><td>7546                                                    </td><td>  9.4750                                                </td><td>                                                        </td><td>1                                                       </td><td>FALSE                                                   </td><td> TRUE                                                   </td><td>FALSE                                                   </td><td>middle                                                  </td></tr>\n",
       "\t<tr><td>42                                                      </td><td>0                                                       </td><td>2                                                       </td><td>Turpin, Mrs. William John Robert (Dorothy Ann Wonnacott)</td><td>27                                                      </td><td>1                                                       </td><td>0                                                       </td><td>11668                                                   </td><td> 21.0000                                                </td><td>                                                        </td><td>1                                                       </td><td>FALSE                                                   </td><td> TRUE                                                   </td><td>FALSE                                                   </td><td>high                                                    </td></tr>\n",
       "</tbody>\n",
       "</table>\n"
      ],
      "text/latex": [
       "\\begin{tabular}{r|lllllllllllllll}\n",
       " assengerId & Survived & Pclass & Name & Age & SibSp & Parch & Ticket & Fare & Cabin & SexCode & Embarked\\_C & Embarked\\_S & Embarked\\_Q & PSex\\\\\n",
       "\\hline\n",
       "\t  1                                                       & 0                                                        & 3                                                        & Braund, Mr. Owen Harris                                  & 22                                                       & 1                                                        & 0                                                        & A/5 21171                                                &   7.2500                                                 &                                                          & 0                                                        & FALSE                                                    &  TRUE                                                    & FALSE                                                    & low                                                     \\\\\n",
       "\t  5                                                       & 0                                                        & 3                                                        & Allen, Mr. William Henry                                 & 35                                                       & 0                                                        & 0                                                        & 373450                                                   &   8.0500                                                 &                                                          & 0                                                        & FALSE                                                    &  TRUE                                                    & FALSE                                                    & low                                                     \\\\\n",
       "\t  7                                                       & 0                                                        & 1                                                        & McCarthy, Mr. Timothy J                                  & 54                                                       & 0                                                        & 0                                                        & 17463                                                    &  51.8625                                                 & E46                                                      & 0                                                        & FALSE                                                    &  TRUE                                                    & FALSE                                                    & middle                                                  \\\\\n",
       "\t  8                                                       & 0                                                        & 3                                                        & Palsson, Master. Gosta Leonard                           &  2                                                       & 3                                                        & 1                                                        & 349909                                                   &  21.0750                                                 &                                                          & 0                                                        & FALSE                                                    &  TRUE                                                    & FALSE                                                    & low                                                     \\\\\n",
       "\t 13                                                       & 0                                                        & 3                                                        & Saundercock, Mr. William Henry                           & 20                                                       & 0                                                        & 0                                                        & A/5. 2151                                                &   8.0500                                                 &                                                          & 0                                                        & FALSE                                                    &  TRUE                                                    & FALSE                                                    & low                                                     \\\\\n",
       "\t 14                                                       & 0                                                        & 3                                                        & Andersson, Mr. Anders Johan                              & 39                                                       & 1                                                        & 5                                                        & 347082                                                   &  31.2750                                                 &                                                          & 0                                                        & FALSE                                                    &  TRUE                                                    & FALSE                                                    & low                                                     \\\\\n",
       "\t 15                                                       & 0                                                        & 3                                                        & Vestrom, Miss. Hulda Amanda Adolfina                     & 14                                                       & 0                                                        & 0                                                        & 350406                                                   &   7.8542                                                 &                                                          & 1                                                        & FALSE                                                    &  TRUE                                                    & FALSE                                                    & middle                                                  \\\\\n",
       "\t 17                                                       & 0                                                        & 3                                                        & Rice, Master. Eugene                                     &  2                                                       & 4                                                        & 1                                                        & 382652                                                   &  29.1250                                                 &                                                          & 0                                                        & FALSE                                                    & FALSE                                                    &  TRUE                                                    & low                                                     \\\\\n",
       "\t 19                                                       & 0                                                        & 3                                                        & Vander Planke, Mrs. Julius (Emelia Maria Vandemoortele)  & 31                                                       & 1                                                        & 0                                                        & 345763                                                   &  18.0000                                                 &                                                          & 1                                                        & FALSE                                                    &  TRUE                                                    & FALSE                                                    & middle                                                  \\\\\n",
       "\t 21                                                       & 0                                                        & 2                                                        & Fynney, Mr. Joseph J                                     & 35                                                       & 0                                                        & 0                                                        & 239865                                                   &  26.0000                                                 &                                                          & 0                                                        & FALSE                                                    &  TRUE                                                    & FALSE                                                    & low                                                     \\\\\n",
       "\t 25                                                       & 0                                                        & 3                                                        & Palsson, Miss. Torborg Danira                            &  8                                                       & 3                                                        & 1                                                        & 349909                                                   &  21.0750                                                 &                                                          & 1                                                        & FALSE                                                    &  TRUE                                                    & FALSE                                                    & middle                                                  \\\\\n",
       "\t 28                                                       & 0                                                        & 1                                                        & Fortune, Mr. Charles Alexander                           & 19                                                       & 3                                                        & 2                                                        & 19950                                                    & 263.0000                                                 & C23 C25 C27                                              & 0                                                        & FALSE                                                    &  TRUE                                                    & FALSE                                                    & middle                                                  \\\\\n",
       "\t 31                                                       & 0                                                        & 1                                                        & Uruchurtu, Don. Manuel E                                 & 40                                                       & 0                                                        & 0                                                        & PC 17601                                                 &  27.7208                                                 &                                                          & 0                                                        &  TRUE                                                    & FALSE                                                    & FALSE                                                    & middle                                                  \\\\\n",
       "\t 34                                                       & 0                                                        & 2                                                        & Wheadon, Mr. Edward H                                    & 66                                                       & 0                                                        & 0                                                        & C.A. 24579                                               &  10.5000                                                 &                                                          & 0                                                        & FALSE                                                    &  TRUE                                                    & FALSE                                                    & low                                                     \\\\\n",
       "\t 35                                                       & 0                                                        & 1                                                        & Meyer, Mr. Edgar Joseph                                  & 28                                                       & 1                                                        & 0                                                        & PC 17604                                                 &  82.1708                                                 &                                                          & 0                                                        &  TRUE                                                    & FALSE                                                    & FALSE                                                    & middle                                                  \\\\\n",
       "\t 36                                                       & 0                                                        & 1                                                        & Holverson, Mr. Alexander Oskar                           & 42                                                       & 1                                                        & 0                                                        & 113789                                                   &  52.0000                                                 &                                                          & 0                                                        & FALSE                                                    &  TRUE                                                    & FALSE                                                    & middle                                                  \\\\\n",
       "\t 38                                                       & 0                                                        & 3                                                        & Cann, Mr. Ernest Charles                                 & 21                                                       & 0                                                        & 0                                                        & A./5. 2152                                               &   8.0500                                                 &                                                          & 0                                                        & FALSE                                                    &  TRUE                                                    & FALSE                                                    & low                                                     \\\\\n",
       "\t 39                                                       & 0                                                        & 3                                                        & Vander Planke, Miss. Augusta Maria                       & 18                                                       & 2                                                        & 0                                                        & 345764                                                   &  18.0000                                                 &                                                          & 1                                                        & FALSE                                                    &  TRUE                                                    & FALSE                                                    & middle                                                  \\\\\n",
       "\t 41                                                       & 0                                                        & 3                                                        & Ahlin, Mrs. Johan (Johanna Persdotter Larsson)           & 40                                                       & 1                                                        & 0                                                        & 7546                                                     &   9.4750                                                 &                                                          & 1                                                        & FALSE                                                    &  TRUE                                                    & FALSE                                                    & middle                                                  \\\\\n",
       "\t 42                                                       & 0                                                        & 2                                                        & Turpin, Mrs. William John Robert (Dorothy Ann Wonnacott) & 27                                                       & 1                                                        & 0                                                        & 11668                                                    &  21.0000                                                 &                                                          & 1                                                        & FALSE                                                    &  TRUE                                                    & FALSE                                                    & high                                                    \\\\\n",
       "\\end{tabular}\n"
      ],
      "text/markdown": [
       "\n",
       "| assengerId | Survived | Pclass | Name | Age | SibSp | Parch | Ticket | Fare | Cabin | SexCode | Embarked_C | Embarked_S | Embarked_Q | PSex |\n",
       "|---|---|---|---|---|---|---|---|---|---|---|---|---|---|---|\n",
       "|  1                                                       | 0                                                        | 3                                                        | Braund, Mr. Owen Harris                                  | 22                                                       | 1                                                        | 0                                                        | A/5 21171                                                |   7.2500                                                 |                                                          | 0                                                        | FALSE                                                    |  TRUE                                                    | FALSE                                                    | low                                                      |\n",
       "|  5                                                       | 0                                                        | 3                                                        | Allen, Mr. William Henry                                 | 35                                                       | 0                                                        | 0                                                        | 373450                                                   |   8.0500                                                 |                                                          | 0                                                        | FALSE                                                    |  TRUE                                                    | FALSE                                                    | low                                                      |\n",
       "|  7                                                       | 0                                                        | 1                                                        | McCarthy, Mr. Timothy J                                  | 54                                                       | 0                                                        | 0                                                        | 17463                                                    |  51.8625                                                 | E46                                                      | 0                                                        | FALSE                                                    |  TRUE                                                    | FALSE                                                    | middle                                                   |\n",
       "|  8                                                       | 0                                                        | 3                                                        | Palsson, Master. Gosta Leonard                           |  2                                                       | 3                                                        | 1                                                        | 349909                                                   |  21.0750                                                 |                                                          | 0                                                        | FALSE                                                    |  TRUE                                                    | FALSE                                                    | low                                                      |\n",
       "| 13                                                       | 0                                                        | 3                                                        | Saundercock, Mr. William Henry                           | 20                                                       | 0                                                        | 0                                                        | A/5. 2151                                                |   8.0500                                                 |                                                          | 0                                                        | FALSE                                                    |  TRUE                                                    | FALSE                                                    | low                                                      |\n",
       "| 14                                                       | 0                                                        | 3                                                        | Andersson, Mr. Anders Johan                              | 39                                                       | 1                                                        | 5                                                        | 347082                                                   |  31.2750                                                 |                                                          | 0                                                        | FALSE                                                    |  TRUE                                                    | FALSE                                                    | low                                                      |\n",
       "| 15                                                       | 0                                                        | 3                                                        | Vestrom, Miss. Hulda Amanda Adolfina                     | 14                                                       | 0                                                        | 0                                                        | 350406                                                   |   7.8542                                                 |                                                          | 1                                                        | FALSE                                                    |  TRUE                                                    | FALSE                                                    | middle                                                   |\n",
       "| 17                                                       | 0                                                        | 3                                                        | Rice, Master. Eugene                                     |  2                                                       | 4                                                        | 1                                                        | 382652                                                   |  29.1250                                                 |                                                          | 0                                                        | FALSE                                                    | FALSE                                                    |  TRUE                                                    | low                                                      |\n",
       "| 19                                                       | 0                                                        | 3                                                        | Vander Planke, Mrs. Julius (Emelia Maria Vandemoortele)  | 31                                                       | 1                                                        | 0                                                        | 345763                                                   |  18.0000                                                 |                                                          | 1                                                        | FALSE                                                    |  TRUE                                                    | FALSE                                                    | middle                                                   |\n",
       "| 21                                                       | 0                                                        | 2                                                        | Fynney, Mr. Joseph J                                     | 35                                                       | 0                                                        | 0                                                        | 239865                                                   |  26.0000                                                 |                                                          | 0                                                        | FALSE                                                    |  TRUE                                                    | FALSE                                                    | low                                                      |\n",
       "| 25                                                       | 0                                                        | 3                                                        | Palsson, Miss. Torborg Danira                            |  8                                                       | 3                                                        | 1                                                        | 349909                                                   |  21.0750                                                 |                                                          | 1                                                        | FALSE                                                    |  TRUE                                                    | FALSE                                                    | middle                                                   |\n",
       "| 28                                                       | 0                                                        | 1                                                        | Fortune, Mr. Charles Alexander                           | 19                                                       | 3                                                        | 2                                                        | 19950                                                    | 263.0000                                                 | C23 C25 C27                                              | 0                                                        | FALSE                                                    |  TRUE                                                    | FALSE                                                    | middle                                                   |\n",
       "| 31                                                       | 0                                                        | 1                                                        | Uruchurtu, Don. Manuel E                                 | 40                                                       | 0                                                        | 0                                                        | PC 17601                                                 |  27.7208                                                 |                                                          | 0                                                        |  TRUE                                                    | FALSE                                                    | FALSE                                                    | middle                                                   |\n",
       "| 34                                                       | 0                                                        | 2                                                        | Wheadon, Mr. Edward H                                    | 66                                                       | 0                                                        | 0                                                        | C.A. 24579                                               |  10.5000                                                 |                                                          | 0                                                        | FALSE                                                    |  TRUE                                                    | FALSE                                                    | low                                                      |\n",
       "| 35                                                       | 0                                                        | 1                                                        | Meyer, Mr. Edgar Joseph                                  | 28                                                       | 1                                                        | 0                                                        | PC 17604                                                 |  82.1708                                                 |                                                          | 0                                                        |  TRUE                                                    | FALSE                                                    | FALSE                                                    | middle                                                   |\n",
       "| 36                                                       | 0                                                        | 1                                                        | Holverson, Mr. Alexander Oskar                           | 42                                                       | 1                                                        | 0                                                        | 113789                                                   |  52.0000                                                 |                                                          | 0                                                        | FALSE                                                    |  TRUE                                                    | FALSE                                                    | middle                                                   |\n",
       "| 38                                                       | 0                                                        | 3                                                        | Cann, Mr. Ernest Charles                                 | 21                                                       | 0                                                        | 0                                                        | A./5. 2152                                               |   8.0500                                                 |                                                          | 0                                                        | FALSE                                                    |  TRUE                                                    | FALSE                                                    | low                                                      |\n",
       "| 39                                                       | 0                                                        | 3                                                        | Vander Planke, Miss. Augusta Maria                       | 18                                                       | 2                                                        | 0                                                        | 345764                                                   |  18.0000                                                 |                                                          | 1                                                        | FALSE                                                    |  TRUE                                                    | FALSE                                                    | middle                                                   |\n",
       "| 41                                                       | 0                                                        | 3                                                        | Ahlin, Mrs. Johan (Johanna Persdotter Larsson)           | 40                                                       | 1                                                        | 0                                                        | 7546                                                     |   9.4750                                                 |                                                          | 1                                                        | FALSE                                                    |  TRUE                                                    | FALSE                                                    | middle                                                   |\n",
       "| 42                                                       | 0                                                        | 2                                                        | Turpin, Mrs. William John Robert (Dorothy Ann Wonnacott) | 27                                                       | 1                                                        | 0                                                        | 11668                                                    |  21.0000                                                 |                                                          | 1                                                        | FALSE                                                    |  TRUE                                                    | FALSE                                                    | high                                                     |\n",
       "\n"
      ],
      "text/plain": [
       "   assengerId Survived Pclass\n",
       "1   1         0        3     \n",
       "2   5         0        3     \n",
       "3   7         0        1     \n",
       "4   8         0        3     \n",
       "5  13         0        3     \n",
       "6  14         0        3     \n",
       "7  15         0        3     \n",
       "8  17         0        3     \n",
       "9  19         0        3     \n",
       "10 21         0        2     \n",
       "11 25         0        3     \n",
       "12 28         0        1     \n",
       "13 31         0        1     \n",
       "14 34         0        2     \n",
       "15 35         0        1     \n",
       "16 36         0        1     \n",
       "17 38         0        3     \n",
       "18 39         0        3     \n",
       "19 41         0        3     \n",
       "20 42         0        2     \n",
       "   Name                                                     Age SibSp Parch\n",
       "1  Braund, Mr. Owen Harris                                  22  1     0    \n",
       "2  Allen, Mr. William Henry                                 35  0     0    \n",
       "3  McCarthy, Mr. Timothy J                                  54  0     0    \n",
       "4  Palsson, Master. Gosta Leonard                            2  3     1    \n",
       "5  Saundercock, Mr. William Henry                           20  0     0    \n",
       "6  Andersson, Mr. Anders Johan                              39  1     5    \n",
       "7  Vestrom, Miss. Hulda Amanda Adolfina                     14  0     0    \n",
       "8  Rice, Master. Eugene                                      2  4     1    \n",
       "9  Vander Planke, Mrs. Julius (Emelia Maria Vandemoortele)  31  1     0    \n",
       "10 Fynney, Mr. Joseph J                                     35  0     0    \n",
       "11 Palsson, Miss. Torborg Danira                             8  3     1    \n",
       "12 Fortune, Mr. Charles Alexander                           19  3     2    \n",
       "13 Uruchurtu, Don. Manuel E                                 40  0     0    \n",
       "14 Wheadon, Mr. Edward H                                    66  0     0    \n",
       "15 Meyer, Mr. Edgar Joseph                                  28  1     0    \n",
       "16 Holverson, Mr. Alexander Oskar                           42  1     0    \n",
       "17 Cann, Mr. Ernest Charles                                 21  0     0    \n",
       "18 Vander Planke, Miss. Augusta Maria                       18  2     0    \n",
       "19 Ahlin, Mrs. Johan (Johanna Persdotter Larsson)           40  1     0    \n",
       "20 Turpin, Mrs. William John Robert (Dorothy Ann Wonnacott) 27  1     0    \n",
       "   Ticket     Fare     Cabin       SexCode Embarked_C Embarked_S Embarked_Q\n",
       "1  A/5 21171    7.2500             0       FALSE       TRUE      FALSE     \n",
       "2  373450       8.0500             0       FALSE       TRUE      FALSE     \n",
       "3  17463       51.8625 E46         0       FALSE       TRUE      FALSE     \n",
       "4  349909      21.0750             0       FALSE       TRUE      FALSE     \n",
       "5  A/5. 2151    8.0500             0       FALSE       TRUE      FALSE     \n",
       "6  347082      31.2750             0       FALSE       TRUE      FALSE     \n",
       "7  350406       7.8542             1       FALSE       TRUE      FALSE     \n",
       "8  382652      29.1250             0       FALSE      FALSE       TRUE     \n",
       "9  345763      18.0000             1       FALSE       TRUE      FALSE     \n",
       "10 239865      26.0000             0       FALSE       TRUE      FALSE     \n",
       "11 349909      21.0750             1       FALSE       TRUE      FALSE     \n",
       "12 19950      263.0000 C23 C25 C27 0       FALSE       TRUE      FALSE     \n",
       "13 PC 17601    27.7208             0        TRUE      FALSE      FALSE     \n",
       "14 C.A. 24579  10.5000             0       FALSE       TRUE      FALSE     \n",
       "15 PC 17604    82.1708             0        TRUE      FALSE      FALSE     \n",
       "16 113789      52.0000             0       FALSE       TRUE      FALSE     \n",
       "17 A./5. 2152   8.0500             0       FALSE       TRUE      FALSE     \n",
       "18 345764      18.0000             1       FALSE       TRUE      FALSE     \n",
       "19 7546         9.4750             1       FALSE       TRUE      FALSE     \n",
       "20 11668       21.0000             1       FALSE       TRUE      FALSE     \n",
       "   PSex  \n",
       "1  low   \n",
       "2  low   \n",
       "3  middle\n",
       "4  low   \n",
       "5  low   \n",
       "6  low   \n",
       "7  middle\n",
       "8  low   \n",
       "9  middle\n",
       "10 low   \n",
       "11 middle\n",
       "12 middle\n",
       "13 middle\n",
       "14 low   \n",
       "15 middle\n",
       "16 middle\n",
       "17 low   \n",
       "18 middle\n",
       "19 middle\n",
       "20 high  "
      ]
     },
     "metadata": {},
     "output_type": "display_data"
    }
   ],
   "source": [
    "head(train_df2,20)"
   ]
  },
  {
   "cell_type": "code",
   "execution_count": 197,
   "id": "6a2aafb3",
   "metadata": {},
   "outputs": [],
   "source": [
    "\n",
    "for( j in 0:1){\n",
    "    for (i in c(\"Embarked_C\",\"SQ\")){\n",
    "        train_df2 <- cbind(train_df2,cat = train_df2$SexCode == j & train_df2[,i] == j )\n",
    "        colnames(train_df2)[ncol(train_df2)] <- paste(ifelse(j==0,\"m\",\"f\"),ifelse(i==\"Embarked_C\",\"C\",\"SQ\"), sep = \"\")\n",
    "    }\n",
    "}"
   ]
  },
  {
   "cell_type": "code",
   "execution_count": 310,
   "id": "9c0ea799",
   "metadata": {},
   "outputs": [
    {
     "data": {
      "text/html": [
       "<table>\n",
       "<thead><tr><th scope=col>assengerId</th><th scope=col>Survived</th><th scope=col>Pclass</th><th scope=col>Name</th><th scope=col>Age</th><th scope=col>SibSp</th><th scope=col>Parch</th><th scope=col>Ticket</th><th scope=col>Fare</th><th scope=col>Cabin</th><th scope=col>SexCode</th><th scope=col>Embarked_C</th><th scope=col>Embarked_S</th><th scope=col>Embarked_Q</th><th scope=col>PSex</th></tr></thead>\n",
       "<tbody>\n",
       "\t<tr><td> 1                            </td><td>0                             </td><td>3                             </td><td>Braund, Mr. Owen Harris       </td><td>22                            </td><td>1                             </td><td>0                             </td><td>A/5 21171                     </td><td> 7.2500                       </td><td>                              </td><td>0                             </td><td>FALSE                         </td><td>TRUE                          </td><td>FALSE                         </td><td>low                           </td></tr>\n",
       "\t<tr><td> 5                            </td><td>0                             </td><td>3                             </td><td>Allen, Mr. William Henry      </td><td>35                            </td><td>0                             </td><td>0                             </td><td>373450                        </td><td> 8.0500                       </td><td>                              </td><td>0                             </td><td>FALSE                         </td><td>TRUE                          </td><td>FALSE                         </td><td>low                           </td></tr>\n",
       "\t<tr><td> 7                            </td><td>0                             </td><td>1                             </td><td>McCarthy, Mr. Timothy J       </td><td>54                            </td><td>0                             </td><td>0                             </td><td>17463                         </td><td>51.8625                       </td><td>E46                           </td><td>0                             </td><td>FALSE                         </td><td>TRUE                          </td><td>FALSE                         </td><td>middle                        </td></tr>\n",
       "\t<tr><td> 8                            </td><td>0                             </td><td>3                             </td><td>Palsson, Master. Gosta Leonard</td><td> 2                            </td><td>3                             </td><td>1                             </td><td>349909                        </td><td>21.0750                       </td><td>                              </td><td>0                             </td><td>FALSE                         </td><td>TRUE                          </td><td>FALSE                         </td><td>low                           </td></tr>\n",
       "\t<tr><td>13                            </td><td>0                             </td><td>3                             </td><td>Saundercock, Mr. William Henry</td><td>20                            </td><td>0                             </td><td>0                             </td><td>A/5. 2151                     </td><td> 8.0500                       </td><td>                              </td><td>0                             </td><td>FALSE                         </td><td>TRUE                          </td><td>FALSE                         </td><td>low                           </td></tr>\n",
       "\t<tr><td>14                            </td><td>0                             </td><td>3                             </td><td>Andersson, Mr. Anders Johan   </td><td>39                            </td><td>1                             </td><td>5                             </td><td>347082                        </td><td>31.2750                       </td><td>                              </td><td>0                             </td><td>FALSE                         </td><td>TRUE                          </td><td>FALSE                         </td><td>low                           </td></tr>\n",
       "</tbody>\n",
       "</table>\n"
      ],
      "text/latex": [
       "\\begin{tabular}{r|lllllllllllllll}\n",
       " assengerId & Survived & Pclass & Name & Age & SibSp & Parch & Ticket & Fare & Cabin & SexCode & Embarked\\_C & Embarked\\_S & Embarked\\_Q & PSex\\\\\n",
       "\\hline\n",
       "\t  1                             & 0                              & 3                              & Braund, Mr. Owen Harris        & 22                             & 1                              & 0                              & A/5 21171                      &  7.2500                        &                                & 0                              & FALSE                          & TRUE                           & FALSE                          & low                           \\\\\n",
       "\t  5                             & 0                              & 3                              & Allen, Mr. William Henry       & 35                             & 0                              & 0                              & 373450                         &  8.0500                        &                                & 0                              & FALSE                          & TRUE                           & FALSE                          & low                           \\\\\n",
       "\t  7                             & 0                              & 1                              & McCarthy, Mr. Timothy J        & 54                             & 0                              & 0                              & 17463                          & 51.8625                        & E46                            & 0                              & FALSE                          & TRUE                           & FALSE                          & middle                        \\\\\n",
       "\t  8                             & 0                              & 3                              & Palsson, Master. Gosta Leonard &  2                             & 3                              & 1                              & 349909                         & 21.0750                        &                                & 0                              & FALSE                          & TRUE                           & FALSE                          & low                           \\\\\n",
       "\t 13                             & 0                              & 3                              & Saundercock, Mr. William Henry & 20                             & 0                              & 0                              & A/5. 2151                      &  8.0500                        &                                & 0                              & FALSE                          & TRUE                           & FALSE                          & low                           \\\\\n",
       "\t 14                             & 0                              & 3                              & Andersson, Mr. Anders Johan    & 39                             & 1                              & 5                              & 347082                         & 31.2750                        &                                & 0                              & FALSE                          & TRUE                           & FALSE                          & low                           \\\\\n",
       "\\end{tabular}\n"
      ],
      "text/markdown": [
       "\n",
       "| assengerId | Survived | Pclass | Name | Age | SibSp | Parch | Ticket | Fare | Cabin | SexCode | Embarked_C | Embarked_S | Embarked_Q | PSex |\n",
       "|---|---|---|---|---|---|---|---|---|---|---|---|---|---|---|\n",
       "|  1                             | 0                              | 3                              | Braund, Mr. Owen Harris        | 22                             | 1                              | 0                              | A/5 21171                      |  7.2500                        |                                | 0                              | FALSE                          | TRUE                           | FALSE                          | low                            |\n",
       "|  5                             | 0                              | 3                              | Allen, Mr. William Henry       | 35                             | 0                              | 0                              | 373450                         |  8.0500                        |                                | 0                              | FALSE                          | TRUE                           | FALSE                          | low                            |\n",
       "|  7                             | 0                              | 1                              | McCarthy, Mr. Timothy J        | 54                             | 0                              | 0                              | 17463                          | 51.8625                        | E46                            | 0                              | FALSE                          | TRUE                           | FALSE                          | middle                         |\n",
       "|  8                             | 0                              | 3                              | Palsson, Master. Gosta Leonard |  2                             | 3                              | 1                              | 349909                         | 21.0750                        |                                | 0                              | FALSE                          | TRUE                           | FALSE                          | low                            |\n",
       "| 13                             | 0                              | 3                              | Saundercock, Mr. William Henry | 20                             | 0                              | 0                              | A/5. 2151                      |  8.0500                        |                                | 0                              | FALSE                          | TRUE                           | FALSE                          | low                            |\n",
       "| 14                             | 0                              | 3                              | Andersson, Mr. Anders Johan    | 39                             | 1                              | 5                              | 347082                         | 31.2750                        |                                | 0                              | FALSE                          | TRUE                           | FALSE                          | low                            |\n",
       "\n"
      ],
      "text/plain": [
       "  assengerId Survived Pclass Name                           Age SibSp Parch\n",
       "1  1         0        3      Braund, Mr. Owen Harris        22  1     0    \n",
       "2  5         0        3      Allen, Mr. William Henry       35  0     0    \n",
       "3  7         0        1      McCarthy, Mr. Timothy J        54  0     0    \n",
       "4  8         0        3      Palsson, Master. Gosta Leonard  2  3     1    \n",
       "5 13         0        3      Saundercock, Mr. William Henry 20  0     0    \n",
       "6 14         0        3      Andersson, Mr. Anders Johan    39  1     5    \n",
       "  Ticket    Fare    Cabin SexCode Embarked_C Embarked_S Embarked_Q PSex  \n",
       "1 A/5 21171  7.2500       0       FALSE      TRUE       FALSE      low   \n",
       "2 373450     8.0500       0       FALSE      TRUE       FALSE      low   \n",
       "3 17463     51.8625 E46   0       FALSE      TRUE       FALSE      middle\n",
       "4 349909    21.0750       0       FALSE      TRUE       FALSE      low   \n",
       "5 A/5. 2151  8.0500       0       FALSE      TRUE       FALSE      low   \n",
       "6 347082    31.2750       0       FALSE      TRUE       FALSE      low   "
      ]
     },
     "metadata": {},
     "output_type": "display_data"
    }
   ],
   "source": [
    "head(train_df2)"
   ]
  },
  {
   "cell_type": "code",
   "execution_count": 215,
   "id": "96a544b9",
   "metadata": {},
   "outputs": [
    {
     "data": {
      "text/html": [
       "<table>\n",
       "<thead><tr><th scope=col>assengerId</th><th scope=col>Survived</th><th scope=col>Pclass</th><th scope=col>Name</th><th scope=col>Age</th><th scope=col>SibSp</th><th scope=col>Parch</th><th scope=col>Ticket</th><th scope=col>Fare</th><th scope=col>Cabin</th><th scope=col>SexCode</th><th scope=col>Embarked_C</th><th scope=col>Embarked_S</th><th scope=col>Embarked_Q</th></tr></thead>\n",
       "<tbody>\n",
       "\t<tr><td> 1                            </td><td>0                             </td><td>3                             </td><td>Braund, Mr. Owen Harris       </td><td>22                            </td><td>1                             </td><td>0                             </td><td>A/5 21171                     </td><td> 7.2500                       </td><td>                              </td><td>0                             </td><td>FALSE                         </td><td>TRUE                          </td><td>FALSE                         </td></tr>\n",
       "\t<tr><td> 5                            </td><td>0                             </td><td>3                             </td><td>Allen, Mr. William Henry      </td><td>35                            </td><td>0                             </td><td>0                             </td><td>373450                        </td><td> 8.0500                       </td><td>                              </td><td>0                             </td><td>FALSE                         </td><td>TRUE                          </td><td>FALSE                         </td></tr>\n",
       "\t<tr><td> 7                            </td><td>0                             </td><td>1                             </td><td>McCarthy, Mr. Timothy J       </td><td>54                            </td><td>0                             </td><td>0                             </td><td>17463                         </td><td>51.8625                       </td><td>E46                           </td><td>0                             </td><td>FALSE                         </td><td>TRUE                          </td><td>FALSE                         </td></tr>\n",
       "\t<tr><td> 8                            </td><td>0                             </td><td>3                             </td><td>Palsson, Master. Gosta Leonard</td><td> 2                            </td><td>3                             </td><td>1                             </td><td>349909                        </td><td>21.0750                       </td><td>                              </td><td>0                             </td><td>FALSE                         </td><td>TRUE                          </td><td>FALSE                         </td></tr>\n",
       "\t<tr><td>13                            </td><td>0                             </td><td>3                             </td><td>Saundercock, Mr. William Henry</td><td>20                            </td><td>0                             </td><td>0                             </td><td>A/5. 2151                     </td><td> 8.0500                       </td><td>                              </td><td>0                             </td><td>FALSE                         </td><td>TRUE                          </td><td>FALSE                         </td></tr>\n",
       "\t<tr><td>14                            </td><td>0                             </td><td>3                             </td><td>Andersson, Mr. Anders Johan   </td><td>39                            </td><td>1                             </td><td>5                             </td><td>347082                        </td><td>31.2750                       </td><td>                              </td><td>0                             </td><td>FALSE                         </td><td>TRUE                          </td><td>FALSE                         </td></tr>\n",
       "</tbody>\n",
       "</table>\n"
      ],
      "text/latex": [
       "\\begin{tabular}{r|llllllllllllll}\n",
       " assengerId & Survived & Pclass & Name & Age & SibSp & Parch & Ticket & Fare & Cabin & SexCode & Embarked\\_C & Embarked\\_S & Embarked\\_Q\\\\\n",
       "\\hline\n",
       "\t  1                             & 0                              & 3                              & Braund, Mr. Owen Harris        & 22                             & 1                              & 0                              & A/5 21171                      &  7.2500                        &                                & 0                              & FALSE                          & TRUE                           & FALSE                         \\\\\n",
       "\t  5                             & 0                              & 3                              & Allen, Mr. William Henry       & 35                             & 0                              & 0                              & 373450                         &  8.0500                        &                                & 0                              & FALSE                          & TRUE                           & FALSE                         \\\\\n",
       "\t  7                             & 0                              & 1                              & McCarthy, Mr. Timothy J        & 54                             & 0                              & 0                              & 17463                          & 51.8625                        & E46                            & 0                              & FALSE                          & TRUE                           & FALSE                         \\\\\n",
       "\t  8                             & 0                              & 3                              & Palsson, Master. Gosta Leonard &  2                             & 3                              & 1                              & 349909                         & 21.0750                        &                                & 0                              & FALSE                          & TRUE                           & FALSE                         \\\\\n",
       "\t 13                             & 0                              & 3                              & Saundercock, Mr. William Henry & 20                             & 0                              & 0                              & A/5. 2151                      &  8.0500                        &                                & 0                              & FALSE                          & TRUE                           & FALSE                         \\\\\n",
       "\t 14                             & 0                              & 3                              & Andersson, Mr. Anders Johan    & 39                             & 1                              & 5                              & 347082                         & 31.2750                        &                                & 0                              & FALSE                          & TRUE                           & FALSE                         \\\\\n",
       "\\end{tabular}\n"
      ],
      "text/markdown": [
       "\n",
       "| assengerId | Survived | Pclass | Name | Age | SibSp | Parch | Ticket | Fare | Cabin | SexCode | Embarked_C | Embarked_S | Embarked_Q |\n",
       "|---|---|---|---|---|---|---|---|---|---|---|---|---|---|\n",
       "|  1                             | 0                              | 3                              | Braund, Mr. Owen Harris        | 22                             | 1                              | 0                              | A/5 21171                      |  7.2500                        |                                | 0                              | FALSE                          | TRUE                           | FALSE                          |\n",
       "|  5                             | 0                              | 3                              | Allen, Mr. William Henry       | 35                             | 0                              | 0                              | 373450                         |  8.0500                        |                                | 0                              | FALSE                          | TRUE                           | FALSE                          |\n",
       "|  7                             | 0                              | 1                              | McCarthy, Mr. Timothy J        | 54                             | 0                              | 0                              | 17463                          | 51.8625                        | E46                            | 0                              | FALSE                          | TRUE                           | FALSE                          |\n",
       "|  8                             | 0                              | 3                              | Palsson, Master. Gosta Leonard |  2                             | 3                              | 1                              | 349909                         | 21.0750                        |                                | 0                              | FALSE                          | TRUE                           | FALSE                          |\n",
       "| 13                             | 0                              | 3                              | Saundercock, Mr. William Henry | 20                             | 0                              | 0                              | A/5. 2151                      |  8.0500                        |                                | 0                              | FALSE                          | TRUE                           | FALSE                          |\n",
       "| 14                             | 0                              | 3                              | Andersson, Mr. Anders Johan    | 39                             | 1                              | 5                              | 347082                         | 31.2750                        |                                | 0                              | FALSE                          | TRUE                           | FALSE                          |\n",
       "\n"
      ],
      "text/plain": [
       "  assengerId Survived Pclass Name                           Age SibSp Parch\n",
       "1  1         0        3      Braund, Mr. Owen Harris        22  1     0    \n",
       "2  5         0        3      Allen, Mr. William Henry       35  0     0    \n",
       "3  7         0        1      McCarthy, Mr. Timothy J        54  0     0    \n",
       "4  8         0        3      Palsson, Master. Gosta Leonard  2  3     1    \n",
       "5 13         0        3      Saundercock, Mr. William Henry 20  0     0    \n",
       "6 14         0        3      Andersson, Mr. Anders Johan    39  1     5    \n",
       "  Ticket    Fare    Cabin SexCode Embarked_C Embarked_S Embarked_Q\n",
       "1 A/5 21171  7.2500       0       FALSE      TRUE       FALSE     \n",
       "2 373450     8.0500       0       FALSE      TRUE       FALSE     \n",
       "3 17463     51.8625 E46   0       FALSE      TRUE       FALSE     \n",
       "4 349909    21.0750       0       FALSE      TRUE       FALSE     \n",
       "5 A/5. 2151  8.0500       0       FALSE      TRUE       FALSE     \n",
       "6 347082    31.2750       0       FALSE      TRUE       FALSE     "
      ]
     },
     "metadata": {},
     "output_type": "display_data"
    }
   ],
   "source": [
    "train_df2 <- subset(train_df2, select = -c(m1,m2,m3,f1,f2,f3,mC,mSQ,fC,fSQ))\n",
    "head(train_df2)"
   ]
  },
  {
   "cell_type": "code",
   "execution_count": 625,
   "id": "895d8d44",
   "metadata": {},
   "outputs": [
    {
     "data": {
      "text/html": [
       "<table>\n",
       "<thead><tr><th scope=col>Survived</th><th scope=col>Pclass</th><th scope=col>Age</th><th scope=col>SexCode</th><th scope=col>Embarked_C</th><th scope=col>Embarked_S</th><th scope=col>Embarked_Q</th><th scope=col>PSex</th></tr></thead>\n",
       "<tbody>\n",
       "\t<tr><td>0     </td><td>3     </td><td>22    </td><td>0     </td><td>FALSE </td><td>TRUE  </td><td>FALSE </td><td>low   </td></tr>\n",
       "\t<tr><td>0     </td><td>3     </td><td>35    </td><td>0     </td><td>FALSE </td><td>TRUE  </td><td>FALSE </td><td>low   </td></tr>\n",
       "\t<tr><td>0     </td><td>1     </td><td>54    </td><td>0     </td><td>FALSE </td><td>TRUE  </td><td>FALSE </td><td>middle</td></tr>\n",
       "\t<tr><td>0     </td><td>3     </td><td> 2    </td><td>0     </td><td>FALSE </td><td>TRUE  </td><td>FALSE </td><td>low   </td></tr>\n",
       "\t<tr><td>0     </td><td>3     </td><td>20    </td><td>0     </td><td>FALSE </td><td>TRUE  </td><td>FALSE </td><td>low   </td></tr>\n",
       "\t<tr><td>0     </td><td>3     </td><td>39    </td><td>0     </td><td>FALSE </td><td>TRUE  </td><td>FALSE </td><td>low   </td></tr>\n",
       "</tbody>\n",
       "</table>\n"
      ],
      "text/latex": [
       "\\begin{tabular}{r|llllllll}\n",
       " Survived & Pclass & Age & SexCode & Embarked\\_C & Embarked\\_S & Embarked\\_Q & PSex\\\\\n",
       "\\hline\n",
       "\t 0      & 3      & 22     & 0      & FALSE  & TRUE   & FALSE  & low   \\\\\n",
       "\t 0      & 3      & 35     & 0      & FALSE  & TRUE   & FALSE  & low   \\\\\n",
       "\t 0      & 1      & 54     & 0      & FALSE  & TRUE   & FALSE  & middle\\\\\n",
       "\t 0      & 3      &  2     & 0      & FALSE  & TRUE   & FALSE  & low   \\\\\n",
       "\t 0      & 3      & 20     & 0      & FALSE  & TRUE   & FALSE  & low   \\\\\n",
       "\t 0      & 3      & 39     & 0      & FALSE  & TRUE   & FALSE  & low   \\\\\n",
       "\\end{tabular}\n"
      ],
      "text/markdown": [
       "\n",
       "| Survived | Pclass | Age | SexCode | Embarked_C | Embarked_S | Embarked_Q | PSex |\n",
       "|---|---|---|---|---|---|---|---|\n",
       "| 0      | 3      | 22     | 0      | FALSE  | TRUE   | FALSE  | low    |\n",
       "| 0      | 3      | 35     | 0      | FALSE  | TRUE   | FALSE  | low    |\n",
       "| 0      | 1      | 54     | 0      | FALSE  | TRUE   | FALSE  | middle |\n",
       "| 0      | 3      |  2     | 0      | FALSE  | TRUE   | FALSE  | low    |\n",
       "| 0      | 3      | 20     | 0      | FALSE  | TRUE   | FALSE  | low    |\n",
       "| 0      | 3      | 39     | 0      | FALSE  | TRUE   | FALSE  | low    |\n",
       "\n"
      ],
      "text/plain": [
       "  Survived Pclass Age SexCode Embarked_C Embarked_S Embarked_Q PSex  \n",
       "1 0        3      22  0       FALSE      TRUE       FALSE      low   \n",
       "2 0        3      35  0       FALSE      TRUE       FALSE      low   \n",
       "3 0        1      54  0       FALSE      TRUE       FALSE      middle\n",
       "4 0        3       2  0       FALSE      TRUE       FALSE      low   \n",
       "5 0        3      20  0       FALSE      TRUE       FALSE      low   \n",
       "6 0        3      39  0       FALSE      TRUE       FALSE      low   "
      ]
     },
     "metadata": {},
     "output_type": "display_data"
    }
   ],
   "source": [
    "target_col <- c(\"Survived\",\"Pclass\",\"Age\",\"SexCode\",\"Embarked_C\",\"Embarked_S\",\"Embarked_Q\",\"PSex\")\n",
    "#arget_col <- c(\"Survived\",\"Pclass\",\"Age\",\"SexCode\",\"Embarked_C\",\"Embarked_S\",\"Embarked_Q\")\n",
    "head(train_df2[,target_col])"
   ]
  },
  {
   "cell_type": "code",
   "execution_count": 626,
   "id": "dbdefe20",
   "metadata": {},
   "outputs": [],
   "source": [
    "data_train2 <- train_df2[,target_col]"
   ]
  },
  {
   "cell_type": "code",
   "execution_count": 627,
   "id": "aeab4741",
   "metadata": {},
   "outputs": [],
   "source": [
    "data_train2$Survived <- factor(data_train2$Survived)"
   ]
  },
  {
   "cell_type": "code",
   "execution_count": 628,
   "id": "1b5ee7cd",
   "metadata": {},
   "outputs": [
    {
     "data": {
      "text/html": [
       "<table>\n",
       "<thead><tr><th scope=col>Survived</th><th scope=col>Pclass</th><th scope=col>Age</th><th scope=col>SexCode</th><th scope=col>Embarked_C</th><th scope=col>Embarked_S</th><th scope=col>Embarked_Q</th><th scope=col>PSex</th></tr></thead>\n",
       "<tbody>\n",
       "\t<tr><td>0     </td><td>3     </td><td>22    </td><td>0     </td><td>FALSE </td><td>TRUE  </td><td>FALSE </td><td>low   </td></tr>\n",
       "\t<tr><td>0     </td><td>3     </td><td>35    </td><td>0     </td><td>FALSE </td><td>TRUE  </td><td>FALSE </td><td>low   </td></tr>\n",
       "\t<tr><td>0     </td><td>1     </td><td>54    </td><td>0     </td><td>FALSE </td><td>TRUE  </td><td>FALSE </td><td>middle</td></tr>\n",
       "\t<tr><td>0     </td><td>3     </td><td> 2    </td><td>0     </td><td>FALSE </td><td>TRUE  </td><td>FALSE </td><td>low   </td></tr>\n",
       "\t<tr><td>0     </td><td>3     </td><td>20    </td><td>0     </td><td>FALSE </td><td>TRUE  </td><td>FALSE </td><td>low   </td></tr>\n",
       "\t<tr><td>0     </td><td>3     </td><td>39    </td><td>0     </td><td>FALSE </td><td>TRUE  </td><td>FALSE </td><td>low   </td></tr>\n",
       "</tbody>\n",
       "</table>\n"
      ],
      "text/latex": [
       "\\begin{tabular}{r|llllllll}\n",
       " Survived & Pclass & Age & SexCode & Embarked\\_C & Embarked\\_S & Embarked\\_Q & PSex\\\\\n",
       "\\hline\n",
       "\t 0      & 3      & 22     & 0      & FALSE  & TRUE   & FALSE  & low   \\\\\n",
       "\t 0      & 3      & 35     & 0      & FALSE  & TRUE   & FALSE  & low   \\\\\n",
       "\t 0      & 1      & 54     & 0      & FALSE  & TRUE   & FALSE  & middle\\\\\n",
       "\t 0      & 3      &  2     & 0      & FALSE  & TRUE   & FALSE  & low   \\\\\n",
       "\t 0      & 3      & 20     & 0      & FALSE  & TRUE   & FALSE  & low   \\\\\n",
       "\t 0      & 3      & 39     & 0      & FALSE  & TRUE   & FALSE  & low   \\\\\n",
       "\\end{tabular}\n"
      ],
      "text/markdown": [
       "\n",
       "| Survived | Pclass | Age | SexCode | Embarked_C | Embarked_S | Embarked_Q | PSex |\n",
       "|---|---|---|---|---|---|---|---|\n",
       "| 0      | 3      | 22     | 0      | FALSE  | TRUE   | FALSE  | low    |\n",
       "| 0      | 3      | 35     | 0      | FALSE  | TRUE   | FALSE  | low    |\n",
       "| 0      | 1      | 54     | 0      | FALSE  | TRUE   | FALSE  | middle |\n",
       "| 0      | 3      |  2     | 0      | FALSE  | TRUE   | FALSE  | low    |\n",
       "| 0      | 3      | 20     | 0      | FALSE  | TRUE   | FALSE  | low    |\n",
       "| 0      | 3      | 39     | 0      | FALSE  | TRUE   | FALSE  | low    |\n",
       "\n"
      ],
      "text/plain": [
       "  Survived Pclass Age SexCode Embarked_C Embarked_S Embarked_Q PSex  \n",
       "1 0        3      22  0       FALSE      TRUE       FALSE      low   \n",
       "2 0        3      35  0       FALSE      TRUE       FALSE      low   \n",
       "3 0        1      54  0       FALSE      TRUE       FALSE      middle\n",
       "4 0        3       2  0       FALSE      TRUE       FALSE      low   \n",
       "5 0        3      20  0       FALSE      TRUE       FALSE      low   \n",
       "6 0        3      39  0       FALSE      TRUE       FALSE      low   "
      ]
     },
     "metadata": {},
     "output_type": "display_data"
    }
   ],
   "source": [
    "head(data_train2)"
   ]
  },
  {
   "cell_type": "code",
   "execution_count": 629,
   "id": "46685a73",
   "metadata": {},
   "outputs": [],
   "source": [
    "# data_train2$ESex <- ifelse(data_train2$Embarked_C == 1 & data_train2$SexCode == 0 , \"MC\",\".\")\n",
    "# data_train2$ESex <- ifelse(data_train2$Embarked_C == 1 & data_train2$SexCode == 1,\"FC\",data_train2$ESex)\n",
    "# data_train2$ESex <- ifelse(data_train2$Embarked_S == 1 & data_train2$SexCode == 0 , \"MS\",data_train2$ESex)\n",
    "# data_train2$ESex <- ifelse(data_train2$Embarked_S == 1 & data_train2$SexCode == 1,\"FS\",data_train2$ESex)\n",
    "# data_train2$ESex <- ifelse(data_train2$Embarked_Q == 1 & data_train2$SexCode == 0 , \"MQ\",data_train2$ESex)\n",
    "# data_train2$ESex <- ifelse(data_train2$Embarked_Q == 1 & data_train2$SexCode == 1,\"FQ\",data_train2$ESex)\n",
    "# data_train2$ESex <- factor(data_train2$ESex)"
   ]
  },
  {
   "cell_type": "code",
   "execution_count": null,
   "id": "a5e7b562",
   "metadata": {},
   "outputs": [],
   "source": []
  },
  {
   "cell_type": "code",
   "execution_count": 630,
   "id": "8147e1d3",
   "metadata": {},
   "outputs": [],
   "source": [
    " data_train2$Agesqrt <-sqrt(data_train2$Age)\n",
    "# data_train2$AgeSqq <- (data_train2$Age)^3\n",
    "# data_train2$AgeSq <- (data_train2$Age)^2"
   ]
  },
  {
   "cell_type": "code",
   "execution_count": 631,
   "id": "8107bb24",
   "metadata": {},
   "outputs": [],
   "source": [
    "data_train2$ASex <- ifelse(data_train2$Age <= 5 & data_train2$SexCode == 0 , \"M5\",\".\")\n",
    "data_train2$ASex <- ifelse(data_train2$Age <= 5 & data_train2$SexCode == 1 , \"F5\",data_train2$ASex)\n",
    "data_train2$ASex <- ifelse(data_train2$Age > 5 & data_train2$SexCode == 0 , \"M100\",data_train2$ASex)\n",
    "data_train2$ASex <- ifelse(data_train2$Age > 5 & data_train2$SexCode == 1 , \"F100\",data_train2$ASex)\n",
    "\n",
    "data_train2$ASex <- factor(data_train2$ASex)"
   ]
  },
  {
   "cell_type": "code",
   "execution_count": 632,
   "id": "fb783228",
   "metadata": {},
   "outputs": [
    {
     "name": "stdout",
     "output_type": "stream",
     "text": [
      "'data.frame':\t714 obs. of  10 variables:\n",
      " $ Survived  : Factor w/ 2 levels \"0\",\"1\": 1 1 1 1 1 1 1 1 1 1 ...\n",
      " $ Pclass    : int  3 3 1 3 3 3 3 3 3 2 ...\n",
      " $ Age       : num  22 35 54 2 20 39 14 2 31 35 ...\n",
      " $ SexCode   : num  0 0 0 0 0 0 1 0 1 0 ...\n",
      " $ Embarked_C: logi  FALSE FALSE FALSE FALSE FALSE FALSE ...\n",
      " $ Embarked_S: logi  TRUE TRUE TRUE TRUE TRUE TRUE ...\n",
      " $ Embarked_Q: logi  FALSE FALSE FALSE FALSE FALSE FALSE ...\n",
      " $ PSex      : Factor w/ 3 levels \"high\",\"low\",\"middle\": 2 2 3 2 2 2 3 2 3 2 ...\n",
      " $ Agesqrt   : num  4.69 5.92 7.35 1.41 4.47 ...\n",
      " $ ASex      : Factor w/ 4 levels \"F100\",\"F5\",\"M100\",..: 3 3 3 4 3 3 1 4 1 3 ...\n"
     ]
    }
   ],
   "source": [
    "str(data_train2)\n"
   ]
  },
  {
   "cell_type": "code",
   "execution_count": 633,
   "id": "6a8d5e35",
   "metadata": {},
   "outputs": [],
   "source": [
    "set.seed(1234)\n",
    "# Sampling\n",
    "samp <- createDataPartition(data_train2$Survived , p = 0.7 ,list = F)\n",
    "#학습용\n",
    "data.train <- data_train2[samp,]\n",
    "#검증용\n",
    "data.test <- data_train2[-samp,]\n",
    "\n",
    "#테스트셋\n",
    "x <- subset(data.test , select = -Survived)\n",
    "y <- data.test$Survived\n",
    "\n"
   ]
  },
  {
   "cell_type": "code",
   "execution_count": 634,
   "id": "1449b7d5",
   "metadata": {},
   "outputs": [],
   "source": [
    "#인공신경망 테스트\n",
    "ANN <- function(data.tr , data.test , x , y ){\n",
    "    model.nnet <- nnet(Survived ~. , data = data.tr , size = 10)\n",
    "    pred <- predict(model.nnet , x , type = \"class\")\n",
    "    cat(\"예측력\" ,mean(pred == y), \"입니다.\")\n",
    "    print(table(pred,y))\n",
    "    return(mean(pred == y))\n",
    "}\n",
    "\n",
    "#의사결정 나무 \n",
    "CTREE <-function(data.tr , data.test , x , y ){\n",
    "    model.ctree <- ctree(Survived ~ . , data=data.tr)\n",
    "    pred <- predict(model.ctree , x )\n",
    "    cat(\"예측력\" ,mean(pred == y), \"입니다.\")\n",
    "    print(table(pred,y))\n",
    "    return(mean(pred == y))\n",
    "}\n",
    "\n",
    "#RandomForesst\n",
    "RandomForest<-function(data.tr , data.test , x , y ){\n",
    "    model.rf <- randomForest(Survived ~ . , data=data.tr, ntree = 100)\n",
    "    pred <- predict(model.rf , x )\n",
    "    cat(\"예측력\" ,mean(pred == y), \"입니다.\")\n",
    "    print(table(pred,y))\n",
    "    return(mean(pred == y))\n",
    "} \n",
    "\n",
    "#SVM\n",
    "SVM <-function(data.tr , data.test , x , y ){\n",
    "    model.svm <- svm(Survived ~ . , data=data.tr)\n",
    "    pred <- predict(model.svm , x )\n",
    "    cat(\"예측력\" ,mean(pred == y), \"입니다.\")\n",
    "    print(table(pred,y))\n",
    "    return(mean(pred == y))\n",
    "} \n",
    "\n",
    "#Logistic regression\n",
    "Logisticreg <-function(data.tr , data.test , x , y ){\n",
    "    model.log <- multinom(Survived ~ . , data=data.tr)\n",
    "    pred <- predict(model.log , x )\n",
    "    cat(\"예측력\" ,mean(pred == y), \"입니다.\")\n",
    "    print(table(pred,y))\n",
    "    return(mean(pred == y))\n",
    "} "
   ]
  },
  {
   "cell_type": "code",
   "execution_count": 643,
   "id": "c9956d0d",
   "metadata": {},
   "outputs": [],
   "source": [
    "# 인공신경망\t0.7932243\n",
    "# 의사결정나무\t0.7990654\n",
    "# RandomForest\t0.8287383\n",
    "# SVM\t0.7897196\n",
    "# 로지스틱회귀분석\t0.8271028\n",
    "\n",
    "# 항구(나라이름) 이랑 성별 묶어서 Factor\n",
    "# 0.7806075\n",
    "# 의사결정나무\t0.7990654\n",
    "# RandomForest\t0.8198598\n",
    "# SVM\t0.7803738\n",
    "# 로지스틱회귀분석\t0.8224299\n",
    "\n",
    "# Age 대신 sqrt\n",
    "# 인공신경망\t0.7836449\n",
    "# 의사결정나무\t0.7990654\n",
    "# RandomForest\t0.8296729\n",
    "# SVM\t0.8177570\n",
    "# 로지스틱회귀분석\t0.8457944\n",
    "\n",
    "# sqrt 추가\n",
    "# 인공신경망\t0.7810748\n",
    "# 의사결정나무\t0.7990654\n",
    "# RandomForest\t0.8093458\n",
    "# SVM\t0.8037383\n",
    "# 로지스틱회귀분석\t0.8364486\n",
    "\n",
    "# sqrt, sq 추가\n",
    "# 인공신경망\t0.7971963\n",
    "# 의사결정나무\t0.7990654\n",
    "# RandomForest\t0.7658879\n",
    "# SVM\t0.7943925\n",
    "# 로지스틱회귀분석\t0.8317757\n",
    "\n",
    "# sqrt + ASex\n",
    "# 인공신경망\t0.7892523\n",
    "# 의사결정나무\t0.7943925\n",
    "# RandomForest\t0.7859813\n",
    "# SVM\t0.7897196\n",
    "# 로지스틱회귀분석\t0.8224299\n",
    "\n",
    "# sqrt + ASex(5)             --------------\n",
    "# 인공신경망\t0.7911215\n",
    "# 의사결정나무\t0.7990654\n",
    "# RandomForest\t0.7887850\n",
    "# SVM\t0.7850467\n",
    "# 로지스틱회귀분석\t0.8457944\n",
    "\n",
    "# sqrt + ASex(5,53)\n",
    "# 인공신경망\t0.7799065\n",
    "# 의사결정나무\t0.7990654\n",
    "# RandomForest\t0.7745327\n",
    "# SVM\t0.7803738\n",
    "# 로지스틱회귀분석\t0.8411215\n",
    "\n",
    "# sqrt + ASex(5) + EmberkedSex\n",
    "# 인공신경망\t0.7829439\n",
    "# 의사결정나무\t0.7990654\n",
    "# RandomForest\t0.7908879\n",
    "# SVM\t0.7710280\n",
    "# 로지스틱회귀분석\t0.8364486\n",
    "\n",
    "# 2,3차와 sqrt 와의 차이\n",
    "# 인공신경망\t0.7364486\n",
    "# 의사결정나무\t0.7990654\n",
    "# RandomForest\t0.7757009\n",
    "# SVM\t0.7850467\n",
    "# 로지스틱회귀분석\t0.8457944\n",
    "#---------------------------\n",
    "# 인공신경망\t0.7887850\n",
    "# 의사결정나무\t0.7990654\n",
    "# RandomForest\t0.7915888\n",
    "# SVM\t0.7850467\n",
    "# 로지스틱회귀분석\t0.8457944"
   ]
  },
  {
   "cell_type": "code",
   "execution_count": null,
   "id": "ce5f7605",
   "metadata": {},
   "outputs": [],
   "source": []
  },
  {
   "cell_type": "code",
   "execution_count": 636,
   "id": "c745f31f",
   "metadata": {},
   "outputs": [
    {
     "name": "stdout",
     "output_type": "stream",
     "text": [
      "# weights:  141\n",
      "initial  value 463.788153 \n",
      "iter  10 value 329.882646\n",
      "iter  20 value 258.542179\n",
      "iter  30 value 221.977408\n",
      "iter  40 value 211.031943\n",
      "iter  50 value 203.871343\n",
      "iter  60 value 194.250849\n",
      "iter  70 value 188.808781\n",
      "iter  80 value 186.076789\n",
      "iter  90 value 184.053558\n",
      "iter 100 value 183.008992\n",
      "final  value 183.008992 \n",
      "stopped after 100 iterations\n",
      "예측력 0.7850467 입니다.    y\n",
      "pred   0   1\n",
      "   0 107  26\n",
      "   1  20  61\n",
      "예측력 0.7990654 입니다.    y\n",
      "pred   0   1\n",
      "   0 122  38\n",
      "   1   5  49\n",
      "예측력 0.8037383 입니다.    y\n",
      "pred   0   1\n",
      "   0 115  30\n",
      "   1  12  57\n",
      "예측력 0.7850467 입니다.    y\n",
      "pred   0   1\n",
      "   0 104  23\n",
      "   1  23  64\n",
      "# weights:  14 (13 variable)\n",
      "initial  value 346.573590 \n",
      "iter  10 value 213.655660\n",
      "final  value 210.963811 \n",
      "converged\n",
      "예측력 0.8457944 입니다.    y\n",
      "pred   0   1\n",
      "   0 119  25\n",
      "   1   8  62\n",
      "# weights:  141\n",
      "initial  value 500.640400 \n",
      "iter  10 value 325.168158\n",
      "iter  20 value 258.180994\n",
      "iter  30 value 206.624983\n",
      "iter  40 value 199.011348\n",
      "iter  50 value 193.665821\n",
      "iter  60 value 189.600575\n",
      "iter  70 value 183.309760\n",
      "iter  80 value 177.938547\n",
      "iter  90 value 174.486712\n",
      "iter 100 value 172.183567\n",
      "final  value 172.183567 \n",
      "stopped after 100 iterations\n",
      "예측력 0.7850467 입니다.    y\n",
      "pred   0   1\n",
      "   0 107  26\n",
      "   1  20  61\n",
      "예측력 0.7990654 입니다.    y\n",
      "pred   0   1\n",
      "   0 122  38\n",
      "   1   5  49\n",
      "예측력 0.7990654 입니다.    y\n",
      "pred   0   1\n",
      "   0 113  29\n",
      "   1  14  58\n",
      "예측력 0.7850467 입니다.    y\n",
      "pred   0   1\n",
      "   0 104  23\n",
      "   1  23  64\n",
      "# weights:  14 (13 variable)\n",
      "initial  value 346.573590 \n",
      "iter  10 value 213.655660\n",
      "final  value 210.963811 \n",
      "converged\n",
      "예측력 0.8457944 입니다.    y\n",
      "pred   0   1\n",
      "   0 119  25\n",
      "   1   8  62\n",
      "# weights:  141\n",
      "initial  value 358.155123 \n",
      "iter  10 value 221.998639\n",
      "iter  20 value 207.978157\n",
      "iter  30 value 199.551572\n",
      "iter  40 value 194.767152\n",
      "iter  50 value 192.245869\n",
      "iter  60 value 190.098097\n",
      "iter  70 value 189.620626\n",
      "iter  80 value 189.519144\n",
      "iter  90 value 189.486162\n",
      "iter 100 value 189.473278\n",
      "final  value 189.473278 \n",
      "stopped after 100 iterations\n",
      "예측력 0.8317757 입니다.    y\n",
      "pred   0   1\n",
      "   0 114  23\n",
      "   1  13  64\n",
      "예측력 0.7990654 입니다.    y\n",
      "pred   0   1\n",
      "   0 122  38\n",
      "   1   5  49\n",
      "예측력 0.7803738 입니다.    y\n",
      "pred   0   1\n",
      "   0 108  28\n",
      "   1  19  59\n",
      "예측력 0.7850467 입니다.    y\n",
      "pred   0   1\n",
      "   0 104  23\n",
      "   1  23  64\n",
      "# weights:  14 (13 variable)\n",
      "initial  value 346.573590 \n",
      "iter  10 value 213.655660\n",
      "final  value 210.963811 \n",
      "converged\n",
      "예측력 0.8457944 입니다.    y\n",
      "pred   0   1\n",
      "   0 119  25\n",
      "   1   8  62\n",
      "# weights:  141\n",
      "initial  value 358.309444 \n",
      "iter  10 value 244.432194\n",
      "iter  20 value 212.517139\n",
      "iter  30 value 207.271494\n",
      "iter  40 value 204.967907\n",
      "iter  50 value 200.770697\n",
      "iter  60 value 195.673358\n",
      "iter  70 value 191.066141\n",
      "iter  80 value 186.556267\n",
      "iter  90 value 184.277823\n",
      "iter 100 value 183.886027\n",
      "final  value 183.886027 \n",
      "stopped after 100 iterations\n",
      "예측력 0.8317757 입니다.    y\n",
      "pred   0   1\n",
      "   0 120  29\n",
      "   1   7  58\n",
      "예측력 0.7990654 입니다.    y\n",
      "pred   0   1\n",
      "   0 122  38\n",
      "   1   5  49\n",
      "예측력 0.7990654 입니다.    y\n",
      "pred   0   1\n",
      "   0 114  30\n",
      "   1  13  57\n",
      "예측력 0.7850467 입니다.    y\n",
      "pred   0   1\n",
      "   0 104  23\n",
      "   1  23  64\n",
      "# weights:  14 (13 variable)\n",
      "initial  value 346.573590 \n",
      "iter  10 value 213.655660\n",
      "final  value 210.963811 \n",
      "converged\n",
      "예측력 0.8457944 입니다.    y\n",
      "pred   0   1\n",
      "   0 119  25\n",
      "   1   8  62\n",
      "# weights:  141\n",
      "initial  value 336.191679 \n",
      "iter  10 value 235.254761\n",
      "iter  20 value 209.353025\n",
      "iter  30 value 197.641634\n",
      "iter  40 value 191.272052\n",
      "iter  50 value 184.157453\n",
      "iter  60 value 183.085383\n",
      "iter  70 value 182.105301\n",
      "iter  80 value 176.168901\n",
      "iter  90 value 170.323286\n",
      "iter 100 value 164.794984\n",
      "final  value 164.794984 \n",
      "stopped after 100 iterations\n",
      "예측력 0.7102804 입니다.    y\n",
      "pred  0  1\n",
      "   0 87 22\n",
      "   1 40 65\n",
      "예측력 0.7990654 입니다.    y\n",
      "pred   0   1\n",
      "   0 122  38\n",
      "   1   5  49\n",
      "예측력 0.7757009 입니다.    y\n",
      "pred   0   1\n",
      "   0 109  30\n",
      "   1  18  57\n",
      "예측력 0.7850467 입니다.    y\n",
      "pred   0   1\n",
      "   0 104  23\n",
      "   1  23  64\n",
      "# weights:  14 (13 variable)\n",
      "initial  value 346.573590 \n",
      "iter  10 value 213.655660\n",
      "final  value 210.963811 \n",
      "converged\n",
      "예측력 0.8457944 입니다.    y\n",
      "pred   0   1\n",
      "   0 119  25\n",
      "   1   8  62\n"
     ]
    },
    {
     "data": {
      "text/html": [
       "<table>\n",
       "<thead><tr><th></th><th scope=col>예측력</th></tr></thead>\n",
       "<tbody>\n",
       "\t<tr><th scope=row>인공신경망</th><td>0.7887850</td></tr>\n",
       "\t<tr><th scope=row>의사결정나무</th><td>0.7990654</td></tr>\n",
       "\t<tr><th scope=row>RandomForest</th><td>0.7915888</td></tr>\n",
       "\t<tr><th scope=row>SVM</th><td>0.7850467</td></tr>\n",
       "\t<tr><th scope=row>로지스틱회귀분석</th><td>0.8457944</td></tr>\n",
       "</tbody>\n",
       "</table>\n"
      ],
      "text/latex": [
       "\\begin{tabular}{r|l}\n",
       "  & 예측력\\\\\n",
       "\\hline\n",
       "\t인공신경망 & 0.7887850\\\\\n",
       "\t의사결정나무 & 0.7990654\\\\\n",
       "\tRandomForest & 0.7915888\\\\\n",
       "\tSVM & 0.7850467\\\\\n",
       "\t로지스틱회귀분석 & 0.8457944\\\\\n",
       "\\end{tabular}\n"
      ],
      "text/markdown": [
       "\n",
       "| <!--/--> | 예측력 |\n",
       "|---|---|\n",
       "| 인공신경망 | 0.7887850 |\n",
       "| 의사결정나무 | 0.7990654 |\n",
       "| RandomForest | 0.7915888 |\n",
       "| SVM | 0.7850467 |\n",
       "| 로지스틱회귀분석 | 0.8457944 |\n",
       "\n"
      ],
      "text/plain": [
       "                 예측력   \n",
       "인공신경망       0.7887850\n",
       "의사결정나무     0.7990654\n",
       "RandomForest     0.7915888\n",
       "SVM              0.7850467\n",
       "로지스틱회귀분석 0.8457944"
      ]
     },
     "metadata": {},
     "output_type": "display_data"
    }
   ],
   "source": [
    "a <- rep(0,5)\n",
    "iteration <- 5\n",
    "for(i in 1:iteration){\n",
    "    \n",
    "    a = a + c(\n",
    "            ANN(data.train , data.test , x , y ),\n",
    "            CTREE(data.train , data.test , x , y ),\n",
    "            RandomForest(data.train , data.test , x , y ),\n",
    "            SVM(data.train , data.test , x , y ),\n",
    "            Logisticreg(data.train , data.test , x , y )\n",
    "    )\n",
    "    \n",
    "}\n",
    "a<- a/iteration\n",
    "result<-data.frame(예측력 = a)\n",
    "rownames(result) = c(\"인공신경망\",\"의사결정나무\",\"RandomForest\",\"SVM\",\"로지스틱회귀분석\")\n",
    "result"
   ]
  },
  {
   "cell_type": "code",
   "execution_count": 637,
   "id": "bcf8a500",
   "metadata": {},
   "outputs": [
    {
     "data": {
      "text/html": [
       "<table>\n",
       "<thead><tr><th></th><th scope=col>예측력</th></tr></thead>\n",
       "<tbody>\n",
       "\t<tr><th scope=row>인공신경망</th><td>0.7887850</td></tr>\n",
       "\t<tr><th scope=row>의사결정나무</th><td>0.7990654</td></tr>\n",
       "\t<tr><th scope=row>RandomForest</th><td>0.7915888</td></tr>\n",
       "\t<tr><th scope=row>SVM</th><td>0.7850467</td></tr>\n",
       "\t<tr><th scope=row>로지스틱회귀분석</th><td>0.8457944</td></tr>\n",
       "</tbody>\n",
       "</table>\n"
      ],
      "text/latex": [
       "\\begin{tabular}{r|l}\n",
       "  & 예측력\\\\\n",
       "\\hline\n",
       "\t인공신경망 & 0.7887850\\\\\n",
       "\t의사결정나무 & 0.7990654\\\\\n",
       "\tRandomForest & 0.7915888\\\\\n",
       "\tSVM & 0.7850467\\\\\n",
       "\t로지스틱회귀분석 & 0.8457944\\\\\n",
       "\\end{tabular}\n"
      ],
      "text/markdown": [
       "\n",
       "| <!--/--> | 예측력 |\n",
       "|---|---|\n",
       "| 인공신경망 | 0.7887850 |\n",
       "| 의사결정나무 | 0.7990654 |\n",
       "| RandomForest | 0.7915888 |\n",
       "| SVM | 0.7850467 |\n",
       "| 로지스틱회귀분석 | 0.8457944 |\n",
       "\n"
      ],
      "text/plain": [
       "                 예측력   \n",
       "인공신경망       0.7887850\n",
       "의사결정나무     0.7990654\n",
       "RandomForest     0.7915888\n",
       "SVM              0.7850467\n",
       "로지스틱회귀분석 0.8457944"
      ]
     },
     "metadata": {},
     "output_type": "display_data"
    }
   ],
   "source": [
    "result"
   ]
  },
  {
   "cell_type": "code",
   "execution_count": 638,
   "id": "8f2977ed",
   "metadata": {},
   "outputs": [
    {
     "data": {
      "text/html": [
       "<table>\n",
       "<thead><tr><th scope=col>assengerId</th><th scope=col>Survived</th><th scope=col>Pclass</th><th scope=col>Name</th><th scope=col>Sex</th><th scope=col>Age</th><th scope=col>SibSp</th><th scope=col>Parch</th><th scope=col>Ticket</th><th scope=col>Fare</th><th scope=col>Cabin</th><th scope=col>Embarked</th></tr></thead>\n",
       "<tbody>\n",
       "\t<tr><td> 1                            </td><td>0                             </td><td>3                             </td><td>Braund, Mr. Owen Harris       </td><td>male                          </td><td>22                            </td><td>1                             </td><td>0                             </td><td>A/5 21171                     </td><td> 7.2500                       </td><td>                              </td><td>S                             </td></tr>\n",
       "\t<tr><td> 5                            </td><td>0                             </td><td>3                             </td><td>Allen, Mr. William Henry      </td><td>male                          </td><td>35                            </td><td>0                             </td><td>0                             </td><td>373450                        </td><td> 8.0500                       </td><td>                              </td><td>S                             </td></tr>\n",
       "\t<tr><td> 6                            </td><td>0                             </td><td>3                             </td><td>Moran, Mr. James              </td><td>male                          </td><td>NA                            </td><td>0                             </td><td>0                             </td><td>330877                        </td><td> 8.4583                       </td><td>                              </td><td>Q                             </td></tr>\n",
       "\t<tr><td> 7                            </td><td>0                             </td><td>1                             </td><td>McCarthy, Mr. Timothy J       </td><td>male                          </td><td>54                            </td><td>0                             </td><td>0                             </td><td>17463                         </td><td>51.8625                       </td><td>E46                           </td><td>S                             </td></tr>\n",
       "\t<tr><td> 8                            </td><td>0                             </td><td>3                             </td><td>Palsson, Master. Gosta Leonard</td><td>male                          </td><td> 2                            </td><td>3                             </td><td>1                             </td><td>349909                        </td><td>21.0750                       </td><td>                              </td><td>S                             </td></tr>\n",
       "\t<tr><td>13                            </td><td>0                             </td><td>3                             </td><td>Saundercock, Mr. William Henry</td><td>male                          </td><td>20                            </td><td>0                             </td><td>0                             </td><td>A/5. 2151                     </td><td> 8.0500                       </td><td>                              </td><td>S                             </td></tr>\n",
       "</tbody>\n",
       "</table>\n"
      ],
      "text/latex": [
       "\\begin{tabular}{r|llllllllllll}\n",
       " assengerId & Survived & Pclass & Name & Sex & Age & SibSp & Parch & Ticket & Fare & Cabin & Embarked\\\\\n",
       "\\hline\n",
       "\t  1                             & 0                              & 3                              & Braund, Mr. Owen Harris        & male                           & 22                             & 1                              & 0                              & A/5 21171                      &  7.2500                        &                                & S                             \\\\\n",
       "\t  5                             & 0                              & 3                              & Allen, Mr. William Henry       & male                           & 35                             & 0                              & 0                              & 373450                         &  8.0500                        &                                & S                             \\\\\n",
       "\t  6                             & 0                              & 3                              & Moran, Mr. James               & male                           & NA                             & 0                              & 0                              & 330877                         &  8.4583                        &                                & Q                             \\\\\n",
       "\t  7                             & 0                              & 1                              & McCarthy, Mr. Timothy J        & male                           & 54                             & 0                              & 0                              & 17463                          & 51.8625                        & E46                            & S                             \\\\\n",
       "\t  8                             & 0                              & 3                              & Palsson, Master. Gosta Leonard & male                           &  2                             & 3                              & 1                              & 349909                         & 21.0750                        &                                & S                             \\\\\n",
       "\t 13                             & 0                              & 3                              & Saundercock, Mr. William Henry & male                           & 20                             & 0                              & 0                              & A/5. 2151                      &  8.0500                        &                                & S                             \\\\\n",
       "\\end{tabular}\n"
      ],
      "text/markdown": [
       "\n",
       "| assengerId | Survived | Pclass | Name | Sex | Age | SibSp | Parch | Ticket | Fare | Cabin | Embarked |\n",
       "|---|---|---|---|---|---|---|---|---|---|---|---|\n",
       "|  1                             | 0                              | 3                              | Braund, Mr. Owen Harris        | male                           | 22                             | 1                              | 0                              | A/5 21171                      |  7.2500                        |                                | S                              |\n",
       "|  5                             | 0                              | 3                              | Allen, Mr. William Henry       | male                           | 35                             | 0                              | 0                              | 373450                         |  8.0500                        |                                | S                              |\n",
       "|  6                             | 0                              | 3                              | Moran, Mr. James               | male                           | NA                             | 0                              | 0                              | 330877                         |  8.4583                        |                                | Q                              |\n",
       "|  7                             | 0                              | 1                              | McCarthy, Mr. Timothy J        | male                           | 54                             | 0                              | 0                              | 17463                          | 51.8625                        | E46                            | S                              |\n",
       "|  8                             | 0                              | 3                              | Palsson, Master. Gosta Leonard | male                           |  2                             | 3                              | 1                              | 349909                         | 21.0750                        |                                | S                              |\n",
       "| 13                             | 0                              | 3                              | Saundercock, Mr. William Henry | male                           | 20                             | 0                              | 0                              | A/5. 2151                      |  8.0500                        |                                | S                              |\n",
       "\n"
      ],
      "text/plain": [
       "  assengerId Survived Pclass Name                           Sex  Age SibSp\n",
       "1  1         0        3      Braund, Mr. Owen Harris        male 22  1    \n",
       "2  5         0        3      Allen, Mr. William Henry       male 35  0    \n",
       "3  6         0        3      Moran, Mr. James               male NA  0    \n",
       "4  7         0        1      McCarthy, Mr. Timothy J        male 54  0    \n",
       "5  8         0        3      Palsson, Master. Gosta Leonard male  2  3    \n",
       "6 13         0        3      Saundercock, Mr. William Henry male 20  0    \n",
       "  Parch Ticket    Fare    Cabin Embarked\n",
       "1 0     A/5 21171  7.2500       S       \n",
       "2 0     373450     8.0500       S       \n",
       "3 0     330877     8.4583       Q       \n",
       "4 0     17463     51.8625 E46   S       \n",
       "5 1     349909    21.0750       S       \n",
       "6 0     A/5. 2151  8.0500       S       "
      ]
     },
     "metadata": {},
     "output_type": "display_data"
    }
   ],
   "source": [
    "head(train_df)"
   ]
  },
  {
   "cell_type": "code",
   "execution_count": 639,
   "id": "fea50eb0",
   "metadata": {},
   "outputs": [
    {
     "name": "stdout",
     "output_type": "stream",
     "text": [
      "'data.frame':\t891 obs. of  12 variables:\n",
      " $ assengerId: int  1 5 6 7 8 13 14 15 17 19 ...\n",
      " $ Survived  : int  0 0 0 0 0 0 0 0 0 0 ...\n",
      " $ Pclass    : int  3 3 3 1 3 3 3 3 3 3 ...\n",
      " $ Name      : Factor w/ 891 levels \"Abbing, Mr. Anthony\",..: 109 16 559 520 629 734 29 847 687 846 ...\n",
      " $ Sex       : Factor w/ 2 levels \"female\",\"male\": 2 2 2 2 2 2 2 1 2 1 ...\n",
      " $ Age       : num  22 35 NA 54 2 20 39 14 2 31 ...\n",
      " $ SibSp     : int  1 0 0 0 3 0 1 0 4 1 ...\n",
      " $ Parch     : int  0 0 0 0 1 0 5 0 1 0 ...\n",
      " $ Ticket    : Factor w/ 681 levels \"110152\",\"110413\",..: 524 473 276 86 396 536 334 414 481 302 ...\n",
      " $ Fare      : num  7.25 8.05 8.46 51.86 21.07 ...\n",
      " $ Cabin     : Factor w/ 148 levels \"\",\"A10\",\"A14\",..: 1 1 1 131 1 1 1 1 1 1 ...\n",
      " $ Embarked  : Factor w/ 3 levels \"C\",\"Q\",\"S\": 3 3 2 3 3 3 3 3 2 3 ...\n"
     ]
    }
   ],
   "source": [
    "str(train_df)"
   ]
  },
  {
   "cell_type": "code",
   "execution_count": 640,
   "id": "a2ce4481",
   "metadata": {},
   "outputs": [
    {
     "name": "stdout",
     "output_type": "stream",
     "text": [
      "'data.frame':\t500 obs. of  10 variables:\n",
      " $ Survived  : Factor w/ 2 levels \"0\",\"1\": 1 1 1 1 1 1 1 1 1 1 ...\n",
      " $ Pclass    : int  3 3 3 2 1 1 3 3 2 3 ...\n",
      " $ Age       : num  35 2 39 35 19 28 21 40 27 7 ...\n",
      " $ SexCode   : num  0 0 0 0 0 0 0 1 1 0 ...\n",
      " $ Embarked_C: logi  FALSE FALSE FALSE FALSE FALSE TRUE ...\n",
      " $ Embarked_S: logi  TRUE TRUE TRUE TRUE TRUE FALSE ...\n",
      " $ Embarked_Q: logi  FALSE FALSE FALSE FALSE FALSE FALSE ...\n",
      " $ PSex      : Factor w/ 3 levels \"high\",\"low\",\"middle\": 2 2 2 2 3 3 2 3 1 2 ...\n",
      " $ Agesqrt   : num  5.92 1.41 6.24 5.92 4.36 ...\n",
      " $ ASex      : Factor w/ 4 levels \"F100\",\"F5\",\"M100\",..: 3 4 3 3 3 3 3 1 1 3 ...\n"
     ]
    }
   ],
   "source": [
    "str(data.train)"
   ]
  },
  {
   "cell_type": "code",
   "execution_count": 641,
   "id": "bedbf726",
   "metadata": {},
   "outputs": [],
   "source": [
    "train_df3 <- train_df"
   ]
  },
  {
   "cell_type": "code",
   "execution_count": 642,
   "id": "3d7514eb",
   "metadata": {},
   "outputs": [
    {
     "ename": "ERROR",
     "evalue": "Error in parse(text = x, srcfile = src): <text>:3:43: 예기치 않은 '&'입니다\n2: \n3: train_df3$PSex <- ifelse(rain_df3$Sex ==  &\n                                             ^\n",
     "output_type": "error",
     "traceback": [
      "Error in parse(text = x, srcfile = src): <text>:3:43: 예기치 않은 '&'입니다\n2: \n3: train_df3$PSex <- ifelse(rain_df3$Sex ==  &\n                                             ^\nTraceback:\n"
     ]
    }
   ],
   "source": [
    "#train_df3$Sex == j & train_df3$Pclass == i\n",
    "\n",
    "train_df3$PSex <- ifelse(rain_df3$Sex ==  & train_df3$Pclass == i))"
   ]
  },
  {
   "cell_type": "code",
   "execution_count": null,
   "id": "400117f9",
   "metadata": {},
   "outputs": [],
   "source": [
    "for( j in c(\"female\",\"male\")){\n",
    "    for (i in 1:3){\n",
    "\n",
    "        train_df3 <- cbind(train_df3,cat = train_df3$Sex == j & train_df3$Pclass == i)\n",
    "        colnames(train_df3)[ncol(train_df3)] <- paste(substring(j,1,1),i, sep = \"\")\n",
    "    }\n",
    "}"
   ]
  },
  {
   "cell_type": "code",
   "execution_count": null,
   "id": "d3341ed1",
   "metadata": {},
   "outputs": [],
   "source": [
    "head(train_df3)"
   ]
  },
  {
   "cell_type": "code",
   "execution_count": null,
   "id": "1bb2b2b6",
   "metadata": {},
   "outputs": [],
   "source": [
    "plot(train_df3$Fare,train_df3$Pclass)"
   ]
  },
  {
   "cell_type": "code",
   "execution_count": null,
   "id": "c3d7e8f9",
   "metadata": {},
   "outputs": [],
   "source": [
    "library(ggplot2)\n",
    "\n",
    "qplot(Age,Survived ,data=train_df3 , colour=Sex )\n"
   ]
  },
  {
   "cell_type": "code",
   "execution_count": null,
   "id": "342fda80",
   "metadata": {},
   "outputs": [],
   "source": [
    "qplot(Age,Sex ,data=train_df3 , colour=Survived )"
   ]
  },
  {
   "cell_type": "code",
   "execution_count": null,
   "id": "606c79d4",
   "metadata": {},
   "outputs": [],
   "source": []
  },
  {
   "cell_type": "code",
   "execution_count": null,
   "id": "0e58cee9",
   "metadata": {},
   "outputs": [],
   "source": []
  }
 ],
 "metadata": {
  "kernelspec": {
   "display_name": "R",
   "language": "R",
   "name": "ir"
  },
  "language_info": {
   "codemirror_mode": "r",
   "file_extension": ".r",
   "mimetype": "text/x-r-source",
   "name": "R",
   "pygments_lexer": "r",
   "version": "3.6.1"
  }
 },
 "nbformat": 4,
 "nbformat_minor": 5
}
